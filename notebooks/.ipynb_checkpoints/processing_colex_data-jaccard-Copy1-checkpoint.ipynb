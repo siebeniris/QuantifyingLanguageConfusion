{
 "cells": [
  {
   "cell_type": "code",
   "execution_count": 1,
   "id": "1aa87ca0-e7e9-41d3-b55c-e2b9b3e72726",
   "metadata": {
    "execution": {
     "iopub.execute_input": "2024-10-06T22:39:38.352299Z",
     "iopub.status.busy": "2024-10-06T22:39:38.350864Z",
     "iopub.status.idle": "2024-10-06T22:39:39.569462Z",
     "shell.execute_reply": "2024-10-06T22:39:39.569085Z",
     "shell.execute_reply.started": "2024-10-06T22:39:38.352220Z"
    }
   },
   "outputs": [],
   "source": [
    "import pandas as pd\n",
    "from itertools import combinations\n",
    "from collections import defaultdict, Counter\n",
    "import json\n",
    "import numpy as np\n",
    "import matplotlib.pyplot as plt\n",
    "import seaborn as sns\n",
    "from sklearn.metrics import pairwise_distances\n",
    "from scipy.sparse import csr_matrix\n",
    "\n",
    "%matplotlib inline"
   ]
  },
  {
   "cell_type": "markdown",
   "id": "b37bc79e-f820-4b0e-b166-cdd79a940f06",
   "metadata": {},
   "source": [
    "# Wordnet from Babelnet"
   ]
  },
  {
   "cell_type": "code",
   "execution_count": 2,
   "id": "11acd24c-1c72-4322-926e-b01f46e750fc",
   "metadata": {
    "execution": {
     "iopub.execute_input": "2024-10-06T22:39:39.570702Z",
     "iopub.status.busy": "2024-10-06T22:39:39.570489Z",
     "iopub.status.idle": "2024-10-06T22:39:42.560570Z",
     "shell.execute_reply": "2024-10-06T22:39:42.560174Z",
     "shell.execute_reply.started": "2024-10-06T22:39:39.570689Z"
    }
   },
   "outputs": [],
   "source": [
    "df_wn = pd.read_csv(\"../datasets/raw/colexifications/colex_wn_bn.csv\")"
   ]
  },
  {
   "cell_type": "code",
   "execution_count": 3,
   "id": "bf6cabe7-67dd-4a52-8376-fc8d22437306",
   "metadata": {
    "execution": {
     "iopub.execute_input": "2024-10-06T22:39:42.561142Z",
     "iopub.status.busy": "2024-10-06T22:39:42.561019Z",
     "iopub.status.idle": "2024-10-06T22:39:42.564564Z",
     "shell.execute_reply": "2024-10-06T22:39:42.564197Z",
     "shell.execute_reply.started": "2024-10-06T22:39:42.561129Z"
    }
   },
   "outputs": [
    {
     "data": {
      "text/plain": [
       "5134830"
      ]
     },
     "execution_count": 3,
     "metadata": {},
     "output_type": "execute_result"
    }
   ],
   "source": [
    "len(df_wn)"
   ]
  },
  {
   "cell_type": "code",
   "execution_count": 4,
   "id": "61888f82-586e-4d4c-8a76-663e5a03e279",
   "metadata": {
    "execution": {
     "iopub.execute_input": "2024-10-06T22:39:42.576521Z",
     "iopub.status.busy": "2024-10-06T22:39:42.576375Z",
     "iopub.status.idle": "2024-10-06T22:39:42.717608Z",
     "shell.execute_reply": "2024-10-06T22:39:42.717094Z",
     "shell.execute_reply.started": "2024-10-06T22:39:42.576507Z"
    }
   },
   "outputs": [],
   "source": [
    "df_wn = df_wn[[\"LANG3\", \"COLEX_ID\"]]"
   ]
  },
  {
   "cell_type": "code",
   "execution_count": 5,
   "id": "536bb9d3-5866-42df-9b32-345c9a944cd9",
   "metadata": {
    "execution": {
     "iopub.execute_input": "2024-10-06T22:39:42.721456Z",
     "iopub.status.busy": "2024-10-06T22:39:42.720671Z",
     "iopub.status.idle": "2024-10-06T22:39:59.151986Z",
     "shell.execute_reply": "2024-10-06T22:39:59.151558Z",
     "shell.execute_reply.started": "2024-10-06T22:39:42.721405Z"
    }
   },
   "outputs": [],
   "source": [
    "binary_matrix = df_wn.pivot_table(\n",
    "    index='LANG3', \n",
    "    columns='COLEX_ID', \n",
    "    aggfunc='size', \n",
    "    fill_value=0\n",
    ")"
   ]
  },
  {
   "cell_type": "code",
   "execution_count": null,
   "id": "de22aa80-3e74-41dc-b42c-b39cad072f7f",
   "metadata": {},
   "outputs": [],
   "source": []
  },
  {
   "cell_type": "code",
   "execution_count": 8,
   "id": "7acb5049-acc3-4f6c-9854-9fa235199c79",
   "metadata": {
    "execution": {
     "iopub.execute_input": "2024-10-06T22:40:38.477441Z",
     "iopub.status.busy": "2024-10-06T22:40:38.476257Z",
     "iopub.status.idle": "2024-10-06T22:40:38.499337Z",
     "shell.execute_reply": "2024-10-06T22:40:38.498018Z",
     "shell.execute_reply.started": "2024-10-06T22:40:38.477267Z"
    }
   },
   "outputs": [],
   "source": [
    "def crop_wals(gb_df, perc):\n",
    "    \"\"\"Remove languages from dataframe that do not have at least <perc>% feature coverage\"\"\"\n",
    "    rows_list=[]\n",
    "    tot_feats = len([x for x in gb_df.columns])\n",
    "    for i, row in gb_df.iterrows():\n",
    "        no_data = row.to_list().count(0)\n",
    "        # print(i, no_data)\n",
    "        if (tot_feats - no_data) >=(perc * tot_feats):\n",
    "            rows_list.append(row)\n",
    "            # try:\n",
    "            #     gb_df = gb_df.drop(i)\n",
    "            # except Exception as msg:\n",
    "            #     print(msg)\n",
    "\n",
    "    return pd.concat(rows_list, axis=1)"
   ]
  },
  {
   "cell_type": "code",
   "execution_count": null,
   "id": "3842e93a-27bf-4c80-96f1-1bceb9df653a",
   "metadata": {
    "execution": {
     "iopub.execute_input": "2024-10-06T22:42:28.225699Z",
     "iopub.status.busy": "2024-10-06T22:42:28.224388Z"
    }
   },
   "outputs": [],
   "source": [
    "wn_matrix = crop_wals(binary_matrix, perc=0.01)"
   ]
  },
  {
   "cell_type": "code",
   "execution_count": 10,
   "id": "04970e84-83ab-4d3d-a40b-d9e66d9af93a",
   "metadata": {
    "execution": {
     "iopub.execute_input": "2024-10-06T22:42:04.959078Z",
     "iopub.status.busy": "2024-10-06T22:42:04.957894Z",
     "iopub.status.idle": "2024-10-06T22:42:04.973667Z",
     "shell.execute_reply": "2024-10-06T22:42:04.972453Z",
     "shell.execute_reply.started": "2024-10-06T22:42:04.959002Z"
    }
   },
   "outputs": [
    {
     "data": {
      "text/plain": [
       "(2518357, 519)"
      ]
     },
     "execution_count": 10,
     "metadata": {},
     "output_type": "execute_result"
    }
   ],
   "source": [
    "len(wn_matrix), len(binary_matrix)"
   ]
  },
  {
   "cell_type": "code",
   "execution_count": 11,
   "id": "4bcca2ff-502d-456e-90b1-5f6099a28cdb",
   "metadata": {
    "execution": {
     "iopub.execute_input": "2024-10-06T22:42:15.550955Z",
     "iopub.status.busy": "2024-10-06T22:42:15.550455Z",
     "iopub.status.idle": "2024-10-06T22:42:15.574830Z",
     "shell.execute_reply": "2024-10-06T22:42:15.573918Z",
     "shell.execute_reply.started": "2024-10-06T22:42:15.550921Z"
    }
   },
   "outputs": [
    {
     "data": {
      "text/html": [
       "<div>\n",
       "<style scoped>\n",
       "    .dataframe tbody tr th:only-of-type {\n",
       "        vertical-align: middle;\n",
       "    }\n",
       "\n",
       "    .dataframe tbody tr th {\n",
       "        vertical-align: top;\n",
       "    }\n",
       "\n",
       "    .dataframe thead th {\n",
       "        text-align: right;\n",
       "    }\n",
       "</style>\n",
       "<table border=\"1\" class=\"dataframe\">\n",
       "  <thead>\n",
       "    <tr style=\"text-align: right;\">\n",
       "      <th></th>\n",
       "      <th>fin</th>\n",
       "      <th>fra</th>\n",
       "      <th>ind</th>\n",
       "      <th>msa</th>\n",
       "      <th>slv</th>\n",
       "      <th>spa</th>\n",
       "    </tr>\n",
       "    <tr>\n",
       "      <th>COLEX_ID</th>\n",
       "      <th></th>\n",
       "      <th></th>\n",
       "      <th></th>\n",
       "      <th></th>\n",
       "      <th></th>\n",
       "      <th></th>\n",
       "    </tr>\n",
       "  </thead>\n",
       "  <tbody>\n",
       "    <tr>\n",
       "      <th>0</th>\n",
       "      <td>1</td>\n",
       "      <td>1</td>\n",
       "      <td>1</td>\n",
       "      <td>1</td>\n",
       "      <td>1</td>\n",
       "      <td>1</td>\n",
       "    </tr>\n",
       "    <tr>\n",
       "      <th>1</th>\n",
       "      <td>1</td>\n",
       "      <td>1</td>\n",
       "      <td>1</td>\n",
       "      <td>1</td>\n",
       "      <td>1</td>\n",
       "      <td>1</td>\n",
       "    </tr>\n",
       "    <tr>\n",
       "      <th>2</th>\n",
       "      <td>1</td>\n",
       "      <td>1</td>\n",
       "      <td>1</td>\n",
       "      <td>1</td>\n",
       "      <td>1</td>\n",
       "      <td>1</td>\n",
       "    </tr>\n",
       "    <tr>\n",
       "      <th>3</th>\n",
       "      <td>1</td>\n",
       "      <td>1</td>\n",
       "      <td>1</td>\n",
       "      <td>1</td>\n",
       "      <td>1</td>\n",
       "      <td>1</td>\n",
       "    </tr>\n",
       "    <tr>\n",
       "      <th>4</th>\n",
       "      <td>1</td>\n",
       "      <td>1</td>\n",
       "      <td>1</td>\n",
       "      <td>1</td>\n",
       "      <td>1</td>\n",
       "      <td>1</td>\n",
       "    </tr>\n",
       "    <tr>\n",
       "      <th>...</th>\n",
       "      <td>...</td>\n",
       "      <td>...</td>\n",
       "      <td>...</td>\n",
       "      <td>...</td>\n",
       "      <td>...</td>\n",
       "      <td>...</td>\n",
       "    </tr>\n",
       "    <tr>\n",
       "      <th>2518352</th>\n",
       "      <td>0</td>\n",
       "      <td>0</td>\n",
       "      <td>0</td>\n",
       "      <td>0</td>\n",
       "      <td>0</td>\n",
       "      <td>0</td>\n",
       "    </tr>\n",
       "    <tr>\n",
       "      <th>2518353</th>\n",
       "      <td>1</td>\n",
       "      <td>0</td>\n",
       "      <td>0</td>\n",
       "      <td>0</td>\n",
       "      <td>0</td>\n",
       "      <td>0</td>\n",
       "    </tr>\n",
       "    <tr>\n",
       "      <th>2518354</th>\n",
       "      <td>1</td>\n",
       "      <td>0</td>\n",
       "      <td>0</td>\n",
       "      <td>0</td>\n",
       "      <td>0</td>\n",
       "      <td>0</td>\n",
       "    </tr>\n",
       "    <tr>\n",
       "      <th>2518355</th>\n",
       "      <td>0</td>\n",
       "      <td>0</td>\n",
       "      <td>0</td>\n",
       "      <td>0</td>\n",
       "      <td>0</td>\n",
       "      <td>0</td>\n",
       "    </tr>\n",
       "    <tr>\n",
       "      <th>2518356</th>\n",
       "      <td>0</td>\n",
       "      <td>0</td>\n",
       "      <td>0</td>\n",
       "      <td>0</td>\n",
       "      <td>1</td>\n",
       "      <td>0</td>\n",
       "    </tr>\n",
       "  </tbody>\n",
       "</table>\n",
       "<p>2518357 rows × 6 columns</p>\n",
       "</div>"
      ],
      "text/plain": [
       "          fin  fra  ind  msa  slv  spa\n",
       "COLEX_ID                              \n",
       "0           1    1    1    1    1    1\n",
       "1           1    1    1    1    1    1\n",
       "2           1    1    1    1    1    1\n",
       "3           1    1    1    1    1    1\n",
       "4           1    1    1    1    1    1\n",
       "...       ...  ...  ...  ...  ...  ...\n",
       "2518352     0    0    0    0    0    0\n",
       "2518353     1    0    0    0    0    0\n",
       "2518354     1    0    0    0    0    0\n",
       "2518355     0    0    0    0    0    0\n",
       "2518356     0    0    0    0    1    0\n",
       "\n",
       "[2518357 rows x 6 columns]"
      ]
     },
     "execution_count": 11,
     "metadata": {},
     "output_type": "execute_result"
    }
   ],
   "source": [
    "wn_matrix"
   ]
  },
  {
   "cell_type": "code",
   "execution_count": null,
   "id": "c7322024-f048-4ac2-bce4-5c3c4be3fef7",
   "metadata": {},
   "outputs": [],
   "source": []
  },
  {
   "cell_type": "code",
   "execution_count": null,
   "id": "7a1c7dd1-e7d0-4ffb-8901-f7c3c15a42a8",
   "metadata": {},
   "outputs": [],
   "source": []
  },
  {
   "cell_type": "code",
   "execution_count": null,
   "id": "53aa5859-0c1a-4c47-a572-77dbe6cc2bdd",
   "metadata": {},
   "outputs": [],
   "source": []
  },
  {
   "cell_type": "code",
   "execution_count": 9,
   "id": "cd7311ca-f503-422b-a92e-ccac271623a8",
   "metadata": {
    "execution": {
     "iopub.execute_input": "2024-10-06T22:34:44.717067Z",
     "iopub.status.busy": "2024-10-06T22:34:44.716055Z",
     "iopub.status.idle": "2024-10-06T22:35:21.720775Z",
     "shell.execute_reply": "2024-10-06T22:35:21.720334Z",
     "shell.execute_reply.started": "2024-10-06T22:34:44.717015Z"
    }
   },
   "outputs": [],
   "source": [
    "sparse_matrix = csr_matrix(binary_matrix)"
   ]
  },
  {
   "cell_type": "code",
   "execution_count": 10,
   "id": "836e4536-f517-4f60-ba5a-a5be4b407ce8",
   "metadata": {
    "execution": {
     "iopub.execute_input": "2024-10-06T22:35:21.721730Z",
     "iopub.status.busy": "2024-10-06T22:35:21.721585Z",
     "iopub.status.idle": "2024-10-06T22:35:21.724969Z",
     "shell.execute_reply": "2024-10-06T22:35:21.724637Z",
     "shell.execute_reply.started": "2024-10-06T22:35:21.721715Z"
    }
   },
   "outputs": [
    {
     "data": {
      "text/plain": [
       "<Compressed Sparse Row sparse matrix of dtype 'int64'\n",
       "\twith 5134689 stored elements and shape (519, 2518357)>"
      ]
     },
     "execution_count": 10,
     "metadata": {},
     "output_type": "execute_result"
    }
   ],
   "source": [
    "sparse_matrix"
   ]
  },
  {
   "cell_type": "code",
   "execution_count": 12,
   "id": "4ff35853-05ad-4f9f-9b88-8be933b459be",
   "metadata": {
    "execution": {
     "iopub.execute_input": "2024-10-06T22:36:52.062630Z",
     "iopub.status.busy": "2024-10-06T22:36:52.061729Z",
     "iopub.status.idle": "2024-10-06T22:36:52.430106Z",
     "shell.execute_reply": "2024-10-06T22:36:52.429555Z",
     "shell.execute_reply.started": "2024-10-06T22:36:52.062587Z"
    }
   },
   "outputs": [],
   "source": [
    "dense_matrix = sparse_matrix.toarray()"
   ]
  },
  {
   "cell_type": "code",
   "execution_count": 14,
   "id": "b58b3db6-7f5a-407d-86e7-4d5e6be84f66",
   "metadata": {
    "execution": {
     "iopub.execute_input": "2024-10-06T22:37:11.428526Z",
     "iopub.status.busy": "2024-10-06T22:37:11.427295Z",
     "iopub.status.idle": "2024-10-06T22:37:11.439709Z",
     "shell.execute_reply": "2024-10-06T22:37:11.438371Z",
     "shell.execute_reply.started": "2024-10-06T22:37:11.428451Z"
    }
   },
   "outputs": [],
   "source": [
    "from scipy.spatial.distance import pdist, squareform\n",
    "from scipy.sparse import csr_matrix\n",
    "from sklearn.metrics import pairwise_distances"
   ]
  },
  {
   "cell_type": "code",
   "execution_count": null,
   "id": "525fa28e-41fc-4165-b221-3ca55c8a393a",
   "metadata": {
    "execution": {
     "execution_failed": "2024-10-06T22:39:31.468Z",
     "iopub.execute_input": "2024-10-06T22:37:11.761127Z",
     "iopub.status.busy": "2024-10-06T22:37:11.759987Z"
    }
   },
   "outputs": [],
   "source": [
    "jaccard_distances = pdist(dense_matrix, metric='jaccard')\n",
    "jaccard_distance_matrix = squareform(jaccard_distances)"
   ]
  },
  {
   "cell_type": "code",
   "execution_count": null,
   "id": "85b971a8-b242-4a01-a44e-5a5909786020",
   "metadata": {},
   "outputs": [],
   "source": [
    "jaccard_df = pd.DataFrame(\n",
    "    jaccard_distance_matrix, \n",
    "    index=binary_matrix.index, \n",
    "    columns=binary_matrix.index\n",
    ")\n"
   ]
  },
  {
   "cell_type": "code",
   "execution_count": null,
   "id": "6d9eb761-10c5-48e3-9394-cce1641c3cb7",
   "metadata": {},
   "outputs": [],
   "source": []
  },
  {
   "cell_type": "code",
   "execution_count": null,
   "id": "eebad2ba-3826-4624-b073-dc77d2b47514",
   "metadata": {},
   "outputs": [],
   "source": []
  },
  {
   "cell_type": "code",
   "execution_count": null,
   "id": "19f76607-f807-44e4-b371-0b7ee1ccc39f",
   "metadata": {},
   "outputs": [],
   "source": []
  },
  {
   "cell_type": "code",
   "execution_count": null,
   "id": "e29e367d-6a9a-4ea4-9a81-c2d119fc64a2",
   "metadata": {
    "execution": {
     "iopub.execute_input": "2024-10-06T22:23:22.239242Z",
     "iopub.status.busy": "2024-10-06T22:23:22.238045Z"
    }
   },
   "outputs": [
    {
     "name": "stdout",
     "output_type": "stream",
     "text": [
      "len of colexification df: 5134830\n",
      "len of df after droping duplicates for LANG3: 5134830\n"
     ]
    }
   ],
   "source": [
    "colex_dict_wn, num_of_colexification_ignoring_forms_wn =  co_occurrence_table_wn(df_wn, \"LANG3\")"
   ]
  },
  {
   "cell_type": "code",
   "execution_count": null,
   "id": "5dc4ff87-0316-4270-8edd-e8c91cc1a2fe",
   "metadata": {},
   "outputs": [],
   "source": [
    "colex_dict_wn"
   ]
  },
  {
   "cell_type": "code",
   "execution_count": 27,
   "id": "aab98ef9-a628-4ff9-9581-772816f769e0",
   "metadata": {
    "execution": {
     "iopub.execute_input": "2024-09-24T13:13:10.821766Z",
     "iopub.status.busy": "2024-09-24T13:13:10.821540Z",
     "iopub.status.idle": "2024-09-24T13:13:10.827171Z",
     "shell.execute_reply": "2024-09-24T13:13:10.826533Z",
     "shell.execute_reply.started": "2024-09-24T13:13:10.821750Z"
    },
    "scrolled": true
   },
   "outputs": [
    {
     "data": {
      "text/plain": [
       "5134689"
      ]
     },
     "execution_count": 27,
     "metadata": {},
     "output_type": "execute_result"
    }
   ],
   "source": [
    "num_of_colexification_ignoring_forms_wn"
   ]
  },
  {
   "cell_type": "code",
   "execution_count": 28,
   "id": "a9644c44-cb0a-47cc-96ed-d4e7f14326c5",
   "metadata": {
    "execution": {
     "iopub.execute_input": "2024-09-24T13:13:33.332778Z",
     "iopub.status.busy": "2024-09-24T13:13:33.332540Z",
     "iopub.status.idle": "2024-09-24T13:13:33.336622Z",
     "shell.execute_reply": "2024-09-24T13:13:33.336054Z",
     "shell.execute_reply.started": "2024-09-24T13:13:33.332763Z"
    }
   },
   "outputs": [
    {
     "data": {
      "text/plain": [
       "268842"
      ]
     },
     "execution_count": 28,
     "metadata": {},
     "output_type": "execute_result"
    }
   ],
   "source": [
    "len(colex_dict_wn)"
   ]
  },
  {
   "cell_type": "code",
   "execution_count": 30,
   "id": "6d309ac3-e4ed-4ca1-bde5-d79ae57cb566",
   "metadata": {
    "execution": {
     "iopub.execute_input": "2024-09-24T13:13:52.999735Z",
     "iopub.status.busy": "2024-09-24T13:13:52.999424Z",
     "iopub.status.idle": "2024-09-24T13:13:53.617780Z",
     "shell.execute_reply": "2024-09-24T13:13:53.617382Z",
     "shell.execute_reply.started": "2024-09-24T13:13:52.999709Z"
    }
   },
   "outputs": [],
   "source": [
    "lang2colex_nr = df_wn.groupby([\"LANG3\"])[\"COLEX\"].count().to_dict()"
   ]
  },
  {
   "cell_type": "code",
   "execution_count": 33,
   "id": "962fb554-07e7-4ff2-b2f6-b3785d48964b",
   "metadata": {
    "execution": {
     "iopub.execute_input": "2024-09-24T13:14:40.498469Z",
     "iopub.status.busy": "2024-09-24T13:14:40.498097Z",
     "iopub.status.idle": "2024-09-24T13:14:40.502130Z",
     "shell.execute_reply": "2024-09-24T13:14:40.501490Z",
     "shell.execute_reply.started": "2024-09-24T13:14:40.498454Z"
    },
    "scrolled": true
   },
   "outputs": [
    {
     "data": {
      "text/plain": [
       "119582"
      ]
     },
     "execution_count": 33,
     "metadata": {},
     "output_type": "execute_result"
    }
   ],
   "source": [
    "lang2colex_nr[\"zho\"]"
   ]
  },
  {
   "cell_type": "code",
   "execution_count": 34,
   "id": "8ede2792-5ab6-45b2-8d4f-7ce49c1d7d75",
   "metadata": {
    "execution": {
     "iopub.execute_input": "2024-09-24T13:14:56.605411Z",
     "iopub.status.busy": "2024-09-24T13:14:56.605188Z",
     "iopub.status.idle": "2024-09-24T13:14:56.610064Z",
     "shell.execute_reply": "2024-09-24T13:14:56.609262Z",
     "shell.execute_reply.started": "2024-09-24T13:14:56.605396Z"
    }
   },
   "outputs": [],
   "source": [
    "colexnr_array_wn = list(lang2colex_nr.values())"
   ]
  },
  {
   "cell_type": "code",
   "execution_count": null,
   "id": "042d205f-ea7d-4bd6-91e8-437a8f5f9303",
   "metadata": {},
   "outputs": [],
   "source": []
  },
  {
   "cell_type": "code",
   "execution_count": 36,
   "id": "46532659-944f-41af-91cc-b53188979640",
   "metadata": {
    "execution": {
     "iopub.execute_input": "2024-09-24T13:16:08.940983Z",
     "iopub.status.busy": "2024-09-24T13:16:08.940764Z",
     "iopub.status.idle": "2024-09-24T13:16:08.944477Z",
     "shell.execute_reply": "2024-09-24T13:16:08.943350Z",
     "shell.execute_reply.started": "2024-09-24T13:16:08.940967Z"
    }
   },
   "outputs": [],
   "source": [
    "lang2colex_nr_wn = {lang: colex_nr for lang,colex_nr in lang2colex_nr.items() if colex_nr>=3}"
   ]
  },
  {
   "cell_type": "code",
   "execution_count": 37,
   "id": "966b650e-932f-401c-b125-5373b61b58cf",
   "metadata": {
    "execution": {
     "iopub.execute_input": "2024-09-24T13:16:20.067547Z",
     "iopub.status.busy": "2024-09-24T13:16:20.067263Z",
     "iopub.status.idle": "2024-09-24T13:16:20.072110Z",
     "shell.execute_reply": "2024-09-24T13:16:20.071274Z",
     "shell.execute_reply.started": "2024-09-24T13:16:20.067530Z"
    }
   },
   "outputs": [
    {
     "data": {
      "text/plain": [
       "(519, 519)"
      ]
     },
     "execution_count": 37,
     "metadata": {},
     "output_type": "execute_result"
    }
   ],
   "source": [
    "len(lang2colex_nr), len(lang2colex_nr_wn)"
   ]
  },
  {
   "cell_type": "code",
   "execution_count": null,
   "id": "d8ec01e0-982a-4bc7-af03-85ef76db1e83",
   "metadata": {},
   "outputs": [],
   "source": []
  },
  {
   "cell_type": "code",
   "execution_count": 38,
   "id": "cb8391b4-759d-4ba3-b073-6e1e7e51b694",
   "metadata": {
    "execution": {
     "iopub.execute_input": "2024-09-24T13:16:34.000022Z",
     "iopub.status.busy": "2024-09-24T13:16:33.999806Z",
     "iopub.status.idle": "2024-09-24T13:16:34.003181Z",
     "shell.execute_reply": "2024-09-24T13:16:34.002223Z",
     "shell.execute_reply.started": "2024-09-24T13:16:34.000007Z"
    },
    "scrolled": true
   },
   "outputs": [],
   "source": [
    "langs_list_wn = list(lang2colex_nr_wn.keys())"
   ]
  },
  {
   "cell_type": "code",
   "execution_count": 39,
   "id": "ee92a333-5016-4585-a322-7c912af0fc3b",
   "metadata": {
    "execution": {
     "iopub.execute_input": "2024-09-24T13:16:48.998027Z",
     "iopub.status.busy": "2024-09-24T13:16:48.997795Z",
     "iopub.status.idle": "2024-09-24T13:16:49.128374Z",
     "shell.execute_reply": "2024-09-24T13:16:49.127975Z",
     "shell.execute_reply.started": "2024-09-24T13:16:48.998011Z"
    },
    "scrolled": true
   },
   "outputs": [],
   "source": [
    "df_wn_colex = pd.DataFrame(list(colex_dict_wn.items()), columns=[\"Key\", \"Value\"])"
   ]
  },
  {
   "cell_type": "code",
   "execution_count": 40,
   "id": "b9b801e1-17c9-4bf6-a58a-9b6a6d8f4dde",
   "metadata": {
    "execution": {
     "iopub.execute_input": "2024-09-24T13:16:56.525014Z",
     "iopub.status.busy": "2024-09-24T13:16:56.524781Z",
     "iopub.status.idle": "2024-09-24T13:16:56.553192Z",
     "shell.execute_reply": "2024-09-24T13:16:56.552666Z",
     "shell.execute_reply.started": "2024-09-24T13:16:56.524999Z"
    },
    "scrolled": true
   },
   "outputs": [],
   "source": [
    "df_wn_colex[[\"Target\", \"Source\"]] = pd.DataFrame(df_wn_colex[\"Key\"].tolist(), index=df_wn_colex.index)"
   ]
  },
  {
   "cell_type": "code",
   "execution_count": 70,
   "id": "a053eb91-085a-4e79-8b61-89836c32e148",
   "metadata": {
    "execution": {
     "iopub.execute_input": "2024-09-24T13:50:40.630694Z",
     "iopub.status.busy": "2024-09-24T13:50:40.626570Z",
     "iopub.status.idle": "2024-09-24T13:50:40.651223Z",
     "shell.execute_reply": "2024-09-24T13:50:40.650370Z",
     "shell.execute_reply.started": "2024-09-24T13:50:40.630616Z"
    }
   },
   "outputs": [
    {
     "data": {
      "text/html": [
       "<div>\n",
       "<style scoped>\n",
       "    .dataframe tbody tr th:only-of-type {\n",
       "        vertical-align: middle;\n",
       "    }\n",
       "\n",
       "    .dataframe tbody tr th {\n",
       "        vertical-align: top;\n",
       "    }\n",
       "\n",
       "    .dataframe thead th {\n",
       "        text-align: right;\n",
       "    }\n",
       "</style>\n",
       "<table border=\"1\" class=\"dataframe\">\n",
       "  <thead>\n",
       "    <tr style=\"text-align: right;\">\n",
       "      <th></th>\n",
       "      <th>Target</th>\n",
       "      <th>Source</th>\n",
       "      <th>Weight</th>\n",
       "      <th>Colex_target</th>\n",
       "      <th>Colex_source</th>\n",
       "      <th>pmi</th>\n",
       "      <th>pmi_norm</th>\n",
       "    </tr>\n",
       "  </thead>\n",
       "  <tbody>\n",
       "    <tr>\n",
       "      <th>0</th>\n",
       "      <td>msa</td>\n",
       "      <td>ind</td>\n",
       "      <td>215159</td>\n",
       "      <td>492290</td>\n",
       "      <td>484134</td>\n",
       "      <td>2.212693</td>\n",
       "      <td>0.183280</td>\n",
       "    </tr>\n",
       "    <tr>\n",
       "      <th>1</th>\n",
       "      <td>ind</td>\n",
       "      <td>msa</td>\n",
       "      <td>215371</td>\n",
       "      <td>484134</td>\n",
       "      <td>492290</td>\n",
       "      <td>2.214114</td>\n",
       "      <td>0.183374</td>\n",
       "    </tr>\n",
       "  </tbody>\n",
       "</table>\n",
       "</div>"
      ],
      "text/plain": [
       "  Target Source  Weight  Colex_target  Colex_source       pmi  pmi_norm\n",
       "0    msa    ind  215159        492290        484134  2.212693  0.183280\n",
       "1    ind    msa  215371        484134        492290  2.214114  0.183374"
      ]
     },
     "execution_count": 70,
     "metadata": {},
     "output_type": "execute_result"
    }
   ],
   "source": [
    "df_wn_colex.head(2)"
   ]
  },
  {
   "cell_type": "code",
   "execution_count": 42,
   "id": "eab59f7f-1963-4691-b5e3-220263e9e63d",
   "metadata": {
    "execution": {
     "iopub.execute_input": "2024-09-24T13:17:09.864660Z",
     "iopub.status.busy": "2024-09-24T13:17:09.864361Z",
     "iopub.status.idle": "2024-09-24T13:17:09.878412Z",
     "shell.execute_reply": "2024-09-24T13:17:09.877682Z",
     "shell.execute_reply.started": "2024-09-24T13:17:09.864639Z"
    }
   },
   "outputs": [],
   "source": [
    "df_wn_colex = df_wn_colex.rename(columns={\"Value\":\"Weight\"})"
   ]
  },
  {
   "cell_type": "code",
   "execution_count": 43,
   "id": "d18a1040-1b01-4c18-abce-1bbbe83e7d3a",
   "metadata": {
    "execution": {
     "iopub.execute_input": "2024-09-24T13:17:13.401560Z",
     "iopub.status.busy": "2024-09-24T13:17:13.401341Z",
     "iopub.status.idle": "2024-09-24T13:17:13.412168Z",
     "shell.execute_reply": "2024-09-24T13:17:13.411684Z",
     "shell.execute_reply.started": "2024-09-24T13:17:13.401545Z"
    }
   },
   "outputs": [],
   "source": [
    "df_wn_colex = df_wn_colex[[\"Target\", \"Source\", \"Weight\"]]"
   ]
  },
  {
   "cell_type": "code",
   "execution_count": 44,
   "id": "69872698-cd8c-482d-a416-f9e99fc5f330",
   "metadata": {
    "execution": {
     "iopub.execute_input": "2024-09-24T13:17:29.247597Z",
     "iopub.status.busy": "2024-09-24T13:17:29.247308Z",
     "iopub.status.idle": "2024-09-24T13:17:29.460996Z",
     "shell.execute_reply": "2024-09-24T13:17:29.460414Z",
     "shell.execute_reply.started": "2024-09-24T13:17:29.247581Z"
    }
   },
   "outputs": [],
   "source": [
    "df_wn_colex[\"Colex_target\"] = df_wn_colex[\"Target\"].apply(lambda x: lang2colex_nr_wn.get(x, None))\n",
    "df_wn_colex[\"Colex_source\"] = df_wn_colex[\"Source\"].apply(lambda x: lang2colex_nr_wn.get(x, None))"
   ]
  },
  {
   "cell_type": "code",
   "execution_count": 45,
   "id": "4cefd0ee-c762-411d-972f-5fa6c1924d31",
   "metadata": {
    "execution": {
     "iopub.execute_input": "2024-09-24T13:17:36.284515Z",
     "iopub.status.busy": "2024-09-24T13:17:36.284281Z",
     "iopub.status.idle": "2024-09-24T13:17:36.309243Z",
     "shell.execute_reply": "2024-09-24T13:17:36.308704Z",
     "shell.execute_reply.started": "2024-09-24T13:17:36.284499Z"
    }
   },
   "outputs": [],
   "source": [
    "df_wn_colex = df_wn_colex.dropna()"
   ]
  },
  {
   "cell_type": "code",
   "execution_count": 46,
   "id": "724d3d57-6f47-4f8a-9b4a-d76cc0717539",
   "metadata": {
    "execution": {
     "iopub.execute_input": "2024-09-24T13:17:43.374420Z",
     "iopub.status.busy": "2024-09-24T13:17:43.374203Z",
     "iopub.status.idle": "2024-09-24T13:17:43.381279Z",
     "shell.execute_reply": "2024-09-24T13:17:43.379630Z",
     "shell.execute_reply.started": "2024-09-24T13:17:43.374404Z"
    }
   },
   "outputs": [
    {
     "data": {
      "text/html": [
       "<div>\n",
       "<style scoped>\n",
       "    .dataframe tbody tr th:only-of-type {\n",
       "        vertical-align: middle;\n",
       "    }\n",
       "\n",
       "    .dataframe tbody tr th {\n",
       "        vertical-align: top;\n",
       "    }\n",
       "\n",
       "    .dataframe thead th {\n",
       "        text-align: right;\n",
       "    }\n",
       "</style>\n",
       "<table border=\"1\" class=\"dataframe\">\n",
       "  <thead>\n",
       "    <tr style=\"text-align: right;\">\n",
       "      <th></th>\n",
       "      <th>Target</th>\n",
       "      <th>Source</th>\n",
       "      <th>Weight</th>\n",
       "      <th>Colex_target</th>\n",
       "      <th>Colex_source</th>\n",
       "    </tr>\n",
       "  </thead>\n",
       "  <tbody>\n",
       "    <tr>\n",
       "      <th>0</th>\n",
       "      <td>msa</td>\n",
       "      <td>ind</td>\n",
       "      <td>215159</td>\n",
       "      <td>492290</td>\n",
       "      <td>484134</td>\n",
       "    </tr>\n",
       "    <tr>\n",
       "      <th>1</th>\n",
       "      <td>ind</td>\n",
       "      <td>msa</td>\n",
       "      <td>215371</td>\n",
       "      <td>484134</td>\n",
       "      <td>492290</td>\n",
       "    </tr>\n",
       "  </tbody>\n",
       "</table>\n",
       "</div>"
      ],
      "text/plain": [
       "  Target Source  Weight  Colex_target  Colex_source\n",
       "0    msa    ind  215159        492290        484134\n",
       "1    ind    msa  215371        484134        492290"
      ]
     },
     "execution_count": 46,
     "metadata": {},
     "output_type": "execute_result"
    }
   ],
   "source": [
    "df_wn_colex.head(2)"
   ]
  },
  {
   "cell_type": "code",
   "execution_count": null,
   "id": "2f6d7cc6-1834-4d40-ac6f-784a4f4eb8a2",
   "metadata": {},
   "outputs": [],
   "source": []
  },
  {
   "cell_type": "code",
   "execution_count": 47,
   "id": "c274d9e9-5661-460f-82be-60b9e9f1f0b7",
   "metadata": {
    "execution": {
     "iopub.execute_input": "2024-09-24T13:17:53.584684Z",
     "iopub.status.busy": "2024-09-24T13:17:53.584435Z",
     "iopub.status.idle": "2024-09-24T13:17:54.017750Z",
     "shell.execute_reply": "2024-09-24T13:17:54.017369Z",
     "shell.execute_reply.started": "2024-09-24T13:17:53.584667Z"
    }
   },
   "outputs": [],
   "source": [
    "from nltk.metrics import *\n",
    "import pandas as pd\n",
    "\n",
    "bm = BigramAssocMeasures"
   ]
  },
  {
   "cell_type": "code",
   "execution_count": 48,
   "id": "860964e1-efe4-4600-af77-d597e0e91b37",
   "metadata": {
    "execution": {
     "iopub.execute_input": "2024-09-24T13:17:58.413697Z",
     "iopub.status.busy": "2024-09-24T13:17:58.413372Z",
     "iopub.status.idle": "2024-09-24T13:17:58.418183Z",
     "shell.execute_reply": "2024-09-24T13:17:58.417212Z",
     "shell.execute_reply.started": "2024-09-24T13:17:58.413680Z"
    }
   },
   "outputs": [
    {
     "data": {
      "text/plain": [
       "5134689"
      ]
     },
     "execution_count": 48,
     "metadata": {},
     "output_type": "execute_result"
    }
   ],
   "source": [
    "total_colex_nr = sum(list(lang2colex_nr_wn.values()))\n",
    "total_colex_nr"
   ]
  },
  {
   "cell_type": "code",
   "execution_count": 49,
   "id": "c7688d7c-2697-4e7e-b4d7-0862f8201845",
   "metadata": {
    "execution": {
     "iopub.execute_input": "2024-09-24T13:18:03.466679Z",
     "iopub.status.busy": "2024-09-24T13:18:03.466399Z",
     "iopub.status.idle": "2024-09-24T13:18:03.470618Z",
     "shell.execute_reply": "2024-09-24T13:18:03.468998Z",
     "shell.execute_reply.started": "2024-09-24T13:18:03.466655Z"
    }
   },
   "outputs": [],
   "source": [
    "def calculate_pmi(x,y,z):\n",
    "    pmi = bm.pmi(x,(y,z), total_colex_nr)\n",
    "    return pmi"
   ]
  },
  {
   "cell_type": "code",
   "execution_count": 50,
   "id": "62bdd268-d313-41b9-adba-aea984ebd3ce",
   "metadata": {
    "execution": {
     "iopub.execute_input": "2024-09-24T13:18:16.978876Z",
     "iopub.status.busy": "2024-09-24T13:18:16.978640Z",
     "iopub.status.idle": "2024-09-24T13:18:19.636688Z",
     "shell.execute_reply": "2024-09-24T13:18:19.636284Z",
     "shell.execute_reply.started": "2024-09-24T13:18:16.978860Z"
    }
   },
   "outputs": [],
   "source": [
    "df_wn_colex[\"pmi\"] = df_wn_colex.apply(lambda row: calculate_pmi(row[\"Weight\"], row[\"Colex_target\"], row[\"Colex_source\"]), axis=1)"
   ]
  },
  {
   "cell_type": "code",
   "execution_count": null,
   "id": "e80bfe17-7adc-4351-88e6-9e6459b29043",
   "metadata": {},
   "outputs": [],
   "source": []
  },
  {
   "cell_type": "code",
   "execution_count": 54,
   "id": "9665230c-df4b-4c2d-a324-1c4cff3e3c63",
   "metadata": {
    "execution": {
     "iopub.execute_input": "2024-09-24T13:19:43.910695Z",
     "iopub.status.busy": "2024-09-24T13:19:43.910446Z",
     "iopub.status.idle": "2024-09-24T13:19:43.914996Z",
     "shell.execute_reply": "2024-09-24T13:19:43.914305Z",
     "shell.execute_reply.started": "2024-09-24T13:19:43.910673Z"
    }
   },
   "outputs": [],
   "source": [
    "x_min=df_wn_colex[\"pmi\"].min()\n",
    "x_max=df_wn_colex[\"pmi\"].max()"
   ]
  },
  {
   "cell_type": "code",
   "execution_count": 55,
   "id": "47105af0-ca4b-4ec4-a153-6f979cb65f90",
   "metadata": {
    "execution": {
     "iopub.execute_input": "2024-09-24T13:19:44.427559Z",
     "iopub.status.busy": "2024-09-24T13:19:44.427346Z",
     "iopub.status.idle": "2024-09-24T13:19:44.432106Z",
     "shell.execute_reply": "2024-09-24T13:19:44.430918Z",
     "shell.execute_reply.started": "2024-09-24T13:19:44.427544Z"
    }
   },
   "outputs": [
    {
     "data": {
      "text/plain": [
       "(np.float64(-0.5746138454043503), np.float64(14.633289829649852))"
      ]
     },
     "execution_count": 55,
     "metadata": {},
     "output_type": "execute_result"
    }
   ],
   "source": [
    "x_min, x_max"
   ]
  },
  {
   "cell_type": "code",
   "execution_count": 56,
   "id": "b8731d33-6cb1-4067-84d6-dd9b79f4f381",
   "metadata": {
    "execution": {
     "iopub.execute_input": "2024-09-24T13:19:46.702991Z",
     "iopub.status.busy": "2024-09-24T13:19:46.702764Z",
     "iopub.status.idle": "2024-09-24T13:19:46.705620Z",
     "shell.execute_reply": "2024-09-24T13:19:46.704915Z",
     "shell.execute_reply.started": "2024-09-24T13:19:46.702976Z"
    }
   },
   "outputs": [],
   "source": [
    "def normalize(x):\n",
    "    return (x - x_min) / (x_max - x_min)"
   ]
  },
  {
   "cell_type": "code",
   "execution_count": 71,
   "id": "214fb010-cc07-4855-bc7f-2e5cca169f14",
   "metadata": {
    "execution": {
     "iopub.execute_input": "2024-09-24T13:50:44.591803Z",
     "iopub.status.busy": "2024-09-24T13:50:44.591315Z",
     "iopub.status.idle": "2024-09-24T13:50:44.618284Z",
     "shell.execute_reply": "2024-09-24T13:50:44.617365Z",
     "shell.execute_reply.started": "2024-09-24T13:50:44.591772Z"
    }
   },
   "outputs": [
    {
     "data": {
      "text/html": [
       "<div>\n",
       "<style scoped>\n",
       "    .dataframe tbody tr th:only-of-type {\n",
       "        vertical-align: middle;\n",
       "    }\n",
       "\n",
       "    .dataframe tbody tr th {\n",
       "        vertical-align: top;\n",
       "    }\n",
       "\n",
       "    .dataframe thead th {\n",
       "        text-align: right;\n",
       "    }\n",
       "</style>\n",
       "<table border=\"1\" class=\"dataframe\">\n",
       "  <thead>\n",
       "    <tr style=\"text-align: right;\">\n",
       "      <th></th>\n",
       "      <th>Target</th>\n",
       "      <th>Source</th>\n",
       "      <th>Weight</th>\n",
       "      <th>Colex_target</th>\n",
       "      <th>Colex_source</th>\n",
       "      <th>pmi</th>\n",
       "      <th>pmi_norm</th>\n",
       "    </tr>\n",
       "  </thead>\n",
       "  <tbody>\n",
       "    <tr>\n",
       "      <th>0</th>\n",
       "      <td>msa</td>\n",
       "      <td>ind</td>\n",
       "      <td>215159</td>\n",
       "      <td>492290</td>\n",
       "      <td>484134</td>\n",
       "      <td>2.212693</td>\n",
       "      <td>0.183280</td>\n",
       "    </tr>\n",
       "    <tr>\n",
       "      <th>1</th>\n",
       "      <td>ind</td>\n",
       "      <td>msa</td>\n",
       "      <td>215371</td>\n",
       "      <td>484134</td>\n",
       "      <td>492290</td>\n",
       "      <td>2.214114</td>\n",
       "      <td>0.183374</td>\n",
       "    </tr>\n",
       "  </tbody>\n",
       "</table>\n",
       "</div>"
      ],
      "text/plain": [
       "  Target Source  Weight  Colex_target  Colex_source       pmi  pmi_norm\n",
       "0    msa    ind  215159        492290        484134  2.212693  0.183280\n",
       "1    ind    msa  215371        484134        492290  2.214114  0.183374"
      ]
     },
     "execution_count": 71,
     "metadata": {},
     "output_type": "execute_result"
    }
   ],
   "source": [
    "df_wn_colex.head(2)"
   ]
  },
  {
   "cell_type": "code",
   "execution_count": 60,
   "id": "c1a1273b-0b0d-4b1a-8ef1-e128a15459a2",
   "metadata": {
    "execution": {
     "iopub.execute_input": "2024-09-24T13:20:06.566889Z",
     "iopub.status.busy": "2024-09-24T13:20:06.566642Z",
     "iopub.status.idle": "2024-09-24T13:20:06.717452Z",
     "shell.execute_reply": "2024-09-24T13:20:06.717034Z",
     "shell.execute_reply.started": "2024-09-24T13:20:06.566876Z"
    }
   },
   "outputs": [],
   "source": [
    "df_wn_colex[\"pmi_norm\"] = df_wn_colex[\"pmi\"].apply(normalize)"
   ]
  },
  {
   "cell_type": "code",
   "execution_count": 61,
   "id": "e58d54d7-6454-4b13-93c0-0741e9104dd1",
   "metadata": {
    "execution": {
     "iopub.execute_input": "2024-09-24T13:20:07.366015Z",
     "iopub.status.busy": "2024-09-24T13:20:07.365787Z",
     "iopub.status.idle": "2024-09-24T13:20:08.332179Z",
     "shell.execute_reply": "2024-09-24T13:20:08.331786Z",
     "shell.execute_reply.started": "2024-09-24T13:20:07.366000Z"
    }
   },
   "outputs": [],
   "source": [
    "df_wn_colex.to_csv(\"../datasets/lang2lang/wn_colex.csv\", index=False)"
   ]
  },
  {
   "cell_type": "code",
   "execution_count": 63,
   "id": "ea3d6a73-e124-4bce-b200-c5cf7d71dd62",
   "metadata": {
    "execution": {
     "iopub.execute_input": "2024-09-24T13:20:25.026894Z",
     "iopub.status.busy": "2024-09-24T13:20:25.026651Z",
     "iopub.status.idle": "2024-09-24T13:20:25.992167Z",
     "shell.execute_reply": "2024-09-24T13:20:25.991776Z",
     "shell.execute_reply.started": "2024-09-24T13:20:25.026879Z"
    }
   },
   "outputs": [],
   "source": [
    "df_wn_colex.to_csv(\"../datasets/data_for_graph/wn_colex.csv\", index=False)"
   ]
  },
  {
   "cell_type": "code",
   "execution_count": null,
   "id": "c8530382-d854-464d-82b9-98988a7ee683",
   "metadata": {},
   "outputs": [],
   "source": []
  },
  {
   "cell_type": "code",
   "execution_count": 64,
   "id": "0c317c39-3682-4aaa-b1c7-ec7f406eed63",
   "metadata": {
    "execution": {
     "iopub.execute_input": "2024-09-24T13:21:53.666683Z",
     "iopub.status.busy": "2024-09-24T13:21:53.666431Z",
     "iopub.status.idle": "2024-09-24T13:21:53.669994Z",
     "shell.execute_reply": "2024-09-24T13:21:53.669263Z",
     "shell.execute_reply.started": "2024-09-24T13:21:53.666665Z"
    }
   },
   "outputs": [],
   "source": [
    "def get_quantile_box(arr):\n",
    "    # quantiles=np.quantile(arr, np.linspace(0,1,1335))\n",
    "    # plt.plot(np.linspace(0,1,1335), quantiles)\n",
    "    plt.boxplot(arr)\n",
    "    plt.xlabel('Quantile')\n",
    "    plt.ylabel('Value')\n",
    "    plt.title('Quantile Plot')\n",
    "    plt.show()"
   ]
  },
  {
   "cell_type": "code",
   "execution_count": 65,
   "id": "63dac63e-c6ab-4365-8fda-ef843a5b7efe",
   "metadata": {
    "execution": {
     "iopub.execute_input": "2024-09-24T13:21:56.292394Z",
     "iopub.status.busy": "2024-09-24T13:21:56.292153Z",
     "iopub.status.idle": "2024-09-24T13:21:56.296882Z",
     "shell.execute_reply": "2024-09-24T13:21:56.295545Z",
     "shell.execute_reply.started": "2024-09-24T13:21:56.292376Z"
    }
   },
   "outputs": [
    {
     "name": "stdout",
     "output_type": "stream",
     "text": [
      "The 25% quantile is: 130.0000\n"
     ]
    }
   ],
   "source": [
    "q25 = np.quantile(colexnr_array_wn, 0.25)\n",
    "\n",
    "print(f\"The 25% quantile is: {q25:.4f}\")"
   ]
  },
  {
   "cell_type": "code",
   "execution_count": 66,
   "id": "2959d780-bae8-4af8-894e-42c0583ebcae",
   "metadata": {
    "execution": {
     "iopub.execute_input": "2024-09-24T13:21:58.522071Z",
     "iopub.status.busy": "2024-09-24T13:21:58.521806Z",
     "iopub.status.idle": "2024-09-24T13:21:58.785782Z",
     "shell.execute_reply": "2024-09-24T13:21:58.785344Z",
     "shell.execute_reply.started": "2024-09-24T13:21:58.522054Z"
    }
   },
   "outputs": [
    {
     "data": {
      "image/png": "[encoded data removed]",
      "text/plain": [
       "<Figure size 640x480 with 1 Axes>"
      ]
     },
     "metadata": {},
     "output_type": "display_data"
    }
   ],
   "source": [
    "get_quantile_box(colexnr_array_wn)"
   ]
  },
  {
   "cell_type": "code",
   "execution_count": 67,
   "id": "2b4aab48-3278-4d07-bb98-9d0c6dc21019",
   "metadata": {
    "execution": {
     "iopub.execute_input": "2024-09-24T13:22:10.731446Z",
     "iopub.status.busy": "2024-09-24T13:22:10.731138Z",
     "iopub.status.idle": "2024-09-24T13:22:10.735000Z",
     "shell.execute_reply": "2024-09-24T13:22:10.734159Z",
     "shell.execute_reply.started": "2024-09-24T13:22:10.731427Z"
    }
   },
   "outputs": [],
   "source": [
    "def get_quantile_violin(arr):\n",
    "    # quantiles=np.quantile(arr, np.linspace(0,1,1335))\n",
    "    # plt.plot(np.linspace(0,1,1335), quantiles)\n",
    "    plt.violinplot(arr)\n",
    "    plt.xlabel('Quantile')\n",
    "    plt.ylabel('Value')\n",
    "    plt.title('Quantile Plot')\n",
    "    plt.show()"
   ]
  },
  {
   "cell_type": "code",
   "execution_count": 68,
   "id": "3c09e0ec-2578-4fee-8835-8dd4360d3c3a",
   "metadata": {
    "execution": {
     "iopub.execute_input": "2024-09-24T13:22:12.610509Z",
     "iopub.status.busy": "2024-09-24T13:22:12.610230Z",
     "iopub.status.idle": "2024-09-24T13:22:12.700522Z",
     "shell.execute_reply": "2024-09-24T13:22:12.699949Z",
     "shell.execute_reply.started": "2024-09-24T13:22:12.610484Z"
    }
   },
   "outputs": [
    {
     "data": {
      "image/png": "[encoded data removed]",
      "text/plain": [
       "<Figure size 640x480 with 1 Axes>"
      ]
     },
     "metadata": {},
     "output_type": "display_data"
    }
   ],
   "source": [
    "get_quantile_violin(colexnr_array_wn)"
   ]
  },
  {
   "cell_type": "code",
   "execution_count": null,
   "id": "864ae207-60a4-43e4-ae06-b1cc1734b0f3",
   "metadata": {},
   "outputs": [],
   "source": []
  },
  {
   "cell_type": "markdown",
   "id": "bcd88cfb-417c-48d1-84b4-fd32b534e9d7",
   "metadata": {},
   "source": [
    "# CLICS3"
   ]
  },
  {
   "cell_type": "code",
   "execution_count": 19,
   "id": "cdb9b1a5-8500-4e29-947a-17aa59ed7dba",
   "metadata": {
    "execution": {
     "iopub.execute_input": "2024-09-24T12:40:14.321485Z",
     "iopub.status.busy": "2024-09-24T12:40:14.320130Z",
     "iopub.status.idle": "2024-09-24T12:40:14.336665Z",
     "shell.execute_reply": "2024-09-24T12:40:14.335205Z",
     "shell.execute_reply.started": "2024-09-24T12:40:14.321437Z"
    }
   },
   "outputs": [],
   "source": [
    "# for colics.\n",
    "def co_occurrence_table(df: pd.DataFrame, by_id: str):\n",
    "    # df[\"Colex_ID\"] = df[\"Colex_ID\"].astype(\"Int64\")\n",
    "    df[\"Colex_ID\"] = df[\"Colex_ID\"].astype(\"Int64\")\n",
    "    print('len of colexification df:', len(df))\n",
    "    # df = df.drop_duplicates(subset=[by_id, \"Colex_ID\"])\n",
    "    df = df.drop_duplicates(subset=[by_id, \"Colex_ID\"])\n",
    "    print(f'len of df after droping duplicates for {by_id}:', len(df))\n",
    "    codf = df[[by_id, \"Colex_ID\"]]\n",
    "    co_dict = defaultdict(int)\n",
    "\n",
    "    num_of_colexification_ignoring_forms = 0\n",
    "    for k, group in codf.groupby([\"Colex_ID\"]):\n",
    "        num_of_colexification_ignoring_forms += len(group)\n",
    "        combs = combinations(group[by_id].tolist(), 2)\n",
    "        for p in combs:\n",
    "            t1, t2 = sorted(p) # sorted \n",
    "            if t1 != t2:\n",
    "                co_dict[p] += 1\n",
    "    return co_dict, num_of_colexification_ignoring_forms"
   ]
  },
  {
   "cell_type": "markdown",
   "id": "c225b59b-a8d6-418a-b47b-21a56ddc624b",
   "metadata": {},
   "source": [
    "# Preprocessing Colexification Patterns into Lang2lang graph with overlapping Colexification Patterns"
   ]
  },
  {
   "cell_type": "code",
   "execution_count": 4,
   "id": "ce42829e-e2f1-483f-bbf1-996d566a1ce9",
   "metadata": {
    "execution": {
     "iopub.execute_input": "2024-09-23T15:24:00.203180Z",
     "iopub.status.busy": "2024-09-23T15:24:00.202063Z",
     "iopub.status.idle": "2024-09-23T15:24:00.465253Z",
     "shell.execute_reply": "2024-09-23T15:24:00.464822Z",
     "shell.execute_reply.started": "2024-09-23T15:24:00.203137Z"
    }
   },
   "outputs": [],
   "source": [
    "colex_df= pd.read_csv(\"../datasets/colexifications/colex_clics3.csv\")"
   ]
  },
  {
   "cell_type": "code",
   "execution_count": 5,
   "id": "34338000-16ec-4584-b7d6-4d4085c24ad9",
   "metadata": {
    "execution": {
     "iopub.execute_input": "2024-09-23T15:24:02.595628Z",
     "iopub.status.busy": "2024-09-23T15:24:02.593257Z",
     "iopub.status.idle": "2024-09-23T15:24:02.622073Z",
     "shell.execute_reply": "2024-09-23T15:24:02.621608Z",
     "shell.execute_reply.started": "2024-09-23T15:24:02.595553Z"
    }
   },
   "outputs": [
    {
     "data": {
      "text/html": [
       "<div>\n",
       "<style scoped>\n",
       "    .dataframe tbody tr th:only-of-type {\n",
       "        vertical-align: middle;\n",
       "    }\n",
       "\n",
       "    .dataframe tbody tr th {\n",
       "        vertical-align: top;\n",
       "    }\n",
       "\n",
       "    .dataframe thead th {\n",
       "        text-align: right;\n",
       "    }\n",
       "</style>\n",
       "<table border=\"1\" class=\"dataframe\">\n",
       "  <thead>\n",
       "    <tr style=\"text-align: right;\">\n",
       "      <th></th>\n",
       "      <th>Form_ID_x</th>\n",
       "      <th>Form_ID_y</th>\n",
       "      <th>Concepticon_ID_x</th>\n",
       "      <th>Concepticon_ID_y</th>\n",
       "      <th>Colex_ID</th>\n",
       "      <th>Language_ID</th>\n",
       "      <th>Parameter_ID</th>\n",
       "      <th>Value</th>\n",
       "      <th>Form</th>\n",
       "      <th>Language_Name</th>\n",
       "      <th>...</th>\n",
       "      <th>ISO639P3code</th>\n",
       "      <th>Macroarea</th>\n",
       "      <th>Family</th>\n",
       "      <th>Wals_ID</th>\n",
       "      <th>Wals_Name</th>\n",
       "      <th>Latitude</th>\n",
       "      <th>Longitude</th>\n",
       "      <th>Glottocode_wals</th>\n",
       "      <th>Subfamily</th>\n",
       "      <th>Genus</th>\n",
       "    </tr>\n",
       "  </thead>\n",
       "  <tbody>\n",
       "    <tr>\n",
       "      <th>0</th>\n",
       "      <td>Chaozhou-61_soilearth-1</td>\n",
       "      <td>Chaozhou-60_mudearth-1</td>\n",
       "      <td>1228</td>\n",
       "      <td>640</td>\n",
       "      <td>0</td>\n",
       "      <td>Chaozhou</td>\n",
       "      <td>61_soilearth</td>\n",
       "      <td>tʰou⁵⁵</td>\n",
       "      <td>tʰou⁵⁵</td>\n",
       "      <td>Chaozhou</td>\n",
       "      <td>...</td>\n",
       "      <td>NaN</td>\n",
       "      <td>Eurasia</td>\n",
       "      <td>Sino-Tibetan</td>\n",
       "      <td>NaN</td>\n",
       "      <td>NaN</td>\n",
       "      <td>NaN</td>\n",
       "      <td>NaN</td>\n",
       "      <td>NaN</td>\n",
       "      <td>NaN</td>\n",
       "      <td>NaN</td>\n",
       "    </tr>\n",
       "    <tr>\n",
       "      <th>1</th>\n",
       "      <td>Chengdu-61_soilearth-1</td>\n",
       "      <td>Chengdu-60_mudearth-1</td>\n",
       "      <td>1228</td>\n",
       "      <td>640</td>\n",
       "      <td>0</td>\n",
       "      <td>Chengdu</td>\n",
       "      <td>61_soilearth</td>\n",
       "      <td>ȵi³¹pa⁴⁴</td>\n",
       "      <td>ȵi³¹pa⁴⁴</td>\n",
       "      <td>Chengdu</td>\n",
       "      <td>...</td>\n",
       "      <td>NaN</td>\n",
       "      <td>NaN</td>\n",
       "      <td>Sino-Tibetan</td>\n",
       "      <td>NaN</td>\n",
       "      <td>NaN</td>\n",
       "      <td>NaN</td>\n",
       "      <td>NaN</td>\n",
       "      <td>NaN</td>\n",
       "      <td>NaN</td>\n",
       "      <td>NaN</td>\n",
       "    </tr>\n",
       "  </tbody>\n",
       "</table>\n",
       "<p>2 rows × 22 columns</p>\n",
       "</div>"
      ],
      "text/plain": [
       "                 Form_ID_x               Form_ID_y  Concepticon_ID_x  \\\n",
       "0  Chaozhou-61_soilearth-1  Chaozhou-60_mudearth-1              1228   \n",
       "1   Chengdu-61_soilearth-1   Chengdu-60_mudearth-1              1228   \n",
       "\n",
       "   Concepticon_ID_y  Colex_ID Language_ID  Parameter_ID     Value      Form  \\\n",
       "0               640         0    Chaozhou  61_soilearth    tʰou⁵⁵    tʰou⁵⁵   \n",
       "1               640         0     Chengdu  61_soilearth  ȵi³¹pa⁴⁴  ȵi³¹pa⁴⁴   \n",
       "\n",
       "  Language_Name  ... ISO639P3code Macroarea        Family Wals_ID Wals_Name  \\\n",
       "0      Chaozhou  ...          NaN   Eurasia  Sino-Tibetan     NaN       NaN   \n",
       "1       Chengdu  ...          NaN       NaN  Sino-Tibetan     NaN       NaN   \n",
       "\n",
       "  Latitude Longitude  Glottocode_wals  Subfamily Genus  \n",
       "0      NaN       NaN              NaN        NaN   NaN  \n",
       "1      NaN       NaN              NaN        NaN   NaN  \n",
       "\n",
       "[2 rows x 22 columns]"
      ]
     },
     "execution_count": 5,
     "metadata": {},
     "output_type": "execute_result"
    }
   ],
   "source": [
    "colex_df.head(2)"
   ]
  },
  {
   "cell_type": "code",
   "execution_count": 6,
   "id": "a4135c03-953e-414b-87ad-0946016e1ad2",
   "metadata": {
    "execution": {
     "iopub.execute_input": "2024-09-23T15:24:09.976807Z",
     "iopub.status.busy": "2024-09-23T15:24:09.976266Z",
     "iopub.status.idle": "2024-09-23T15:24:11.347920Z",
     "shell.execute_reply": "2024-09-23T15:24:11.347414Z",
     "shell.execute_reply.started": "2024-09-23T15:24:09.976774Z"
    },
    "scrolled": true
   },
   "outputs": [
    {
     "name": "stdout",
     "output_type": "stream",
     "text": [
      "len of colexification df: 76346\n",
      "len of df after droping duplicates for Glottocode_clics: 66827\n"
     ]
    }
   ],
   "source": [
    "colex_dict, num_of_colexification_ignoring_forms =  co_occurrence_table(colex_df, \"Glottocode_clics\")"
   ]
  },
  {
   "cell_type": "code",
   "execution_count": 7,
   "id": "7020003a-8383-4513-b80d-94ac61653215",
   "metadata": {
    "execution": {
     "iopub.execute_input": "2024-09-23T15:24:14.878105Z",
     "iopub.status.busy": "2024-09-23T15:24:14.877338Z",
     "iopub.status.idle": "2024-09-23T15:24:14.911185Z",
     "shell.execute_reply": "2024-09-23T15:24:14.910581Z",
     "shell.execute_reply.started": "2024-09-23T15:24:14.878065Z"
    }
   },
   "outputs": [],
   "source": [
    "glotto2colex_nr = colex_df.groupby([\"Glottocode_clics\"])[\"Colex_ID\"].count().to_dict()"
   ]
  },
  {
   "cell_type": "code",
   "execution_count": 8,
   "id": "abff5e20-53ac-4af7-9e51-e8a6781cb63a",
   "metadata": {
    "execution": {
     "iopub.execute_input": "2024-09-23T15:24:30.727442Z",
     "iopub.status.busy": "2024-09-23T15:24:30.726244Z",
     "iopub.status.idle": "2024-09-23T15:24:30.738060Z",
     "shell.execute_reply": "2024-09-23T15:24:30.736517Z",
     "shell.execute_reply.started": "2024-09-23T15:24:30.727367Z"
    },
    "scrolled": true
   },
   "outputs": [],
   "source": [
    "colexnr_array = list(glotto2colex_nr.values())"
   ]
  },
  {
   "cell_type": "markdown",
   "id": "9707c9af-90e3-4c1d-8e36-b50911b89a9d",
   "metadata": {},
   "source": [
    "## Finding the threshold for including languages which contain colexifications"
   ]
  },
  {
   "cell_type": "code",
   "execution_count": 9,
   "id": "317539d7-a421-4b6b-aa5a-41e52a676250",
   "metadata": {
    "execution": {
     "iopub.execute_input": "2024-09-23T15:25:21.765139Z",
     "iopub.status.busy": "2024-09-23T15:25:21.764073Z",
     "iopub.status.idle": "2024-09-23T15:25:21.779535Z",
     "shell.execute_reply": "2024-09-23T15:25:21.778015Z",
     "shell.execute_reply.started": "2024-09-23T15:25:21.765077Z"
    }
   },
   "outputs": [
    {
     "data": {
      "text/plain": [
       "np.int64(1335)"
      ]
     },
     "execution_count": 9,
     "metadata": {},
     "output_type": "execute_result"
    }
   ],
   "source": [
    "np.max(colexnr_array)"
   ]
  },
  {
   "cell_type": "code",
   "execution_count": 18,
   "id": "a4a84d97-3341-409c-ad2b-334eaeb157e5",
   "metadata": {
    "execution": {
     "iopub.execute_input": "2024-09-23T15:28:22.646930Z",
     "iopub.status.busy": "2024-09-23T15:28:22.645939Z",
     "iopub.status.idle": "2024-09-23T15:28:22.660817Z",
     "shell.execute_reply": "2024-09-23T15:28:22.659211Z",
     "shell.execute_reply.started": "2024-09-23T15:28:22.646880Z"
    }
   },
   "outputs": [],
   "source": [
    "def get_quantile_box(arr):\n",
    "    # quantiles=np.quantile(arr, np.linspace(0,1,1335))\n",
    "    # plt.plot(np.linspace(0,1,1335), quantiles)\n",
    "    plt.boxplot(arr)\n",
    "    plt.xlabel('Quantile')\n",
    "    plt.ylabel('Value')\n",
    "    plt.title('Quantile Plot')\n",
    "    plt.show()"
   ]
  },
  {
   "cell_type": "code",
   "execution_count": 23,
   "id": "f463b701-80d2-471d-ab80-31fa216b8987",
   "metadata": {
    "execution": {
     "iopub.execute_input": "2024-09-23T15:29:50.868866Z",
     "iopub.status.busy": "2024-09-23T15:29:50.867894Z",
     "iopub.status.idle": "2024-09-23T15:29:50.886767Z",
     "shell.execute_reply": "2024-09-23T15:29:50.883694Z",
     "shell.execute_reply.started": "2024-09-23T15:29:50.868815Z"
    }
   },
   "outputs": [
    {
     "name": "stdout",
     "output_type": "stream",
     "text": [
      "The 25% quantile is: 3.0000\n"
     ]
    }
   ],
   "source": [
    "q25 = np.quantile(colexnr_array, 0.25)\n",
    "\n",
    "print(f\"The 25% quantile is: {q25:.4f}\")"
   ]
  },
  {
   "cell_type": "code",
   "execution_count": 19,
   "id": "86e29df3-c283-4a1b-9741-8c68103a8f9a",
   "metadata": {
    "execution": {
     "iopub.execute_input": "2024-09-23T15:28:25.183307Z",
     "iopub.status.busy": "2024-09-23T15:28:25.182130Z",
     "iopub.status.idle": "2024-09-23T15:28:25.291547Z",
     "shell.execute_reply": "2024-09-23T15:28:25.290932Z",
     "shell.execute_reply.started": "2024-09-23T15:28:25.183237Z"
    }
   },
   "outputs": [
    {
     "data": {
      "image/png": "[encoded data removed]",
      "text/plain": [
       "<Figure size 640x480 with 1 Axes>"
      ]
     },
     "metadata": {},
     "output_type": "display_data"
    }
   ],
   "source": [
    "get_quantile_box(colexnr_array)"
   ]
  },
  {
   "cell_type": "code",
   "execution_count": 20,
   "id": "d464994b-8e75-4f93-b320-1ad6153c1b11",
   "metadata": {
    "execution": {
     "iopub.execute_input": "2024-09-23T15:28:56.941668Z",
     "iopub.status.busy": "2024-09-23T15:28:56.940409Z",
     "iopub.status.idle": "2024-09-23T15:28:56.953096Z",
     "shell.execute_reply": "2024-09-23T15:28:56.952133Z",
     "shell.execute_reply.started": "2024-09-23T15:28:56.941591Z"
    }
   },
   "outputs": [],
   "source": [
    "def get_quantile_violin(arr):\n",
    "    # quantiles=np.quantile(arr, np.linspace(0,1,1335))\n",
    "    # plt.plot(np.linspace(0,1,1335), quantiles)\n",
    "    plt.violinplot(arr)\n",
    "    plt.xlabel('Quantile')\n",
    "    plt.ylabel('Value')\n",
    "    plt.title('Quantile Plot')\n",
    "    plt.show()"
   ]
  },
  {
   "cell_type": "code",
   "execution_count": 22,
   "id": "ec3061c3-e13d-44bb-bcf9-cbc1665c8296",
   "metadata": {
    "execution": {
     "iopub.execute_input": "2024-09-23T15:29:08.480928Z",
     "iopub.status.busy": "2024-09-23T15:29:08.480111Z",
     "iopub.status.idle": "2024-09-23T15:29:08.608435Z",
     "shell.execute_reply": "2024-09-23T15:29:08.607885Z",
     "shell.execute_reply.started": "2024-09-23T15:29:08.480882Z"
    }
   },
   "outputs": [
    {
     "data": {
      "image/png": "[encoded data removed]",
      "text/plain": [
       "<Figure size 640x480 with 1 Axes>"
      ]
     },
     "metadata": {},
     "output_type": "display_data"
    }
   ],
   "source": [
    "get_quantile_violin(colexnr_array)"
   ]
  },
  {
   "cell_type": "markdown",
   "id": "a84fcab8-ab53-45ff-9f00-ffae18cc4cfc",
   "metadata": {},
   "source": [
    "# Get the Colexification Language to Language Graph"
   ]
  },
  {
   "cell_type": "code",
   "execution_count": 24,
   "id": "7c0e0f33-9e25-4c9d-a179-1bac31c955ae",
   "metadata": {
    "execution": {
     "iopub.execute_input": "2024-09-23T15:32:55.113917Z",
     "iopub.status.busy": "2024-09-23T15:32:55.113011Z",
     "iopub.status.idle": "2024-09-23T15:32:55.124965Z",
     "shell.execute_reply": "2024-09-23T15:32:55.123392Z",
     "shell.execute_reply.started": "2024-09-23T15:32:55.113876Z"
    }
   },
   "outputs": [],
   "source": [
    "lang2colex_nr = {lang: colex_nr for lang,colex_nr in glotto2colex_nr.items() if colex_nr>=3}"
   ]
  },
  {
   "cell_type": "code",
   "execution_count": 27,
   "id": "19fad906-109c-4ba9-abe8-a11ba85342cc",
   "metadata": {
    "execution": {
     "iopub.execute_input": "2024-09-23T15:33:25.656261Z",
     "iopub.status.busy": "2024-09-23T15:33:25.655264Z",
     "iopub.status.idle": "2024-09-23T15:33:25.671311Z",
     "shell.execute_reply": "2024-09-23T15:33:25.669870Z",
     "shell.execute_reply.started": "2024-09-23T15:33:25.656205Z"
    }
   },
   "outputs": [
    {
     "data": {
      "text/plain": [
       "(1641, 1989)"
      ]
     },
     "execution_count": 27,
     "metadata": {},
     "output_type": "execute_result"
    }
   ],
   "source": [
    "len(lang2colex_nr), len(glotto2colex_nr)"
   ]
  },
  {
   "cell_type": "code",
   "execution_count": 31,
   "id": "7a316211-6fb2-4ada-a8d0-25920d0a1634",
   "metadata": {
    "execution": {
     "iopub.execute_input": "2024-09-23T15:35:43.259629Z",
     "iopub.status.busy": "2024-09-23T15:35:43.258480Z",
     "iopub.status.idle": "2024-09-23T15:35:43.269925Z",
     "shell.execute_reply": "2024-09-23T15:35:43.266978Z",
     "shell.execute_reply.started": "2024-09-23T15:35:43.259551Z"
    },
    "scrolled": true
   },
   "outputs": [],
   "source": [
    "langs_list = list(lang2colex_nr.keys())"
   ]
  },
  {
   "cell_type": "code",
   "execution_count": 38,
   "id": "65b5d26f-6c54-47ad-8654-7de068d7c7d8",
   "metadata": {
    "execution": {
     "iopub.execute_input": "2024-09-23T15:41:05.006202Z",
     "iopub.status.busy": "2024-09-23T15:41:05.005049Z",
     "iopub.status.idle": "2024-09-23T15:41:05.264555Z",
     "shell.execute_reply": "2024-09-23T15:41:05.264161Z",
     "shell.execute_reply.started": "2024-09-23T15:41:05.006130Z"
    },
    "scrolled": true
   },
   "outputs": [],
   "source": [
    "df = pd.DataFrame(list(colex_dict.items()), columns=[\"Key\", \"Value\"])"
   ]
  },
  {
   "cell_type": "code",
   "execution_count": 40,
   "id": "22a907b1-2ac6-423a-be64-d0ef47d98f92",
   "metadata": {
    "execution": {
     "iopub.execute_input": "2024-09-23T15:41:40.098489Z",
     "iopub.status.busy": "2024-09-23T15:41:40.096814Z",
     "iopub.status.idle": "2024-09-23T15:41:40.169299Z",
     "shell.execute_reply": "2024-09-23T15:41:40.168813Z",
     "shell.execute_reply.started": "2024-09-23T15:41:40.098428Z"
    },
    "scrolled": true
   },
   "outputs": [],
   "source": [
    "df[[\"Target\", \"Source\"]] = pd.DataFrame(df[\"Key\"].tolist(), index=df.index)"
   ]
  },
  {
   "cell_type": "code",
   "execution_count": 44,
   "id": "55cee592-eb5d-4fdc-a019-199b35f5f664",
   "metadata": {
    "execution": {
     "iopub.execute_input": "2024-09-23T15:42:46.911535Z",
     "iopub.status.busy": "2024-09-23T15:42:46.910769Z",
     "iopub.status.idle": "2024-09-23T15:42:46.933667Z",
     "shell.execute_reply": "2024-09-23T15:42:46.932602Z",
     "shell.execute_reply.started": "2024-09-23T15:42:46.911493Z"
    }
   },
   "outputs": [],
   "source": [
    "df = df.rename(columns={\"Value\":\"Weight\"})"
   ]
  },
  {
   "cell_type": "code",
   "execution_count": 45,
   "id": "08f26f62-59c9-4f92-8ddb-131a3497d64f",
   "metadata": {
    "execution": {
     "iopub.execute_input": "2024-09-23T15:43:08.196974Z",
     "iopub.status.busy": "2024-09-23T15:43:08.194675Z",
     "iopub.status.idle": "2024-09-23T15:43:08.229270Z",
     "shell.execute_reply": "2024-09-23T15:43:08.228749Z",
     "shell.execute_reply.started": "2024-09-23T15:43:08.196882Z"
    }
   },
   "outputs": [],
   "source": [
    "df = df[[\"Target\", \"Source\", \"Weight\"]]"
   ]
  },
  {
   "cell_type": "code",
   "execution_count": 49,
   "id": "06bbc81c-8fa1-487b-b28d-11eeda01f744",
   "metadata": {
    "execution": {
     "iopub.execute_input": "2024-09-23T15:44:33.967323Z",
     "iopub.status.busy": "2024-09-23T15:44:33.966405Z",
     "iopub.status.idle": "2024-09-23T15:44:34.323381Z",
     "shell.execute_reply": "2024-09-23T15:44:34.322963Z",
     "shell.execute_reply.started": "2024-09-23T15:44:33.967269Z"
    }
   },
   "outputs": [],
   "source": [
    "df[\"Colex_target\"] = df[\"Target\"].apply(lambda x: lang2colex_nr.get(x, None))\n",
    "df[\"Colex_source\"] = df[\"Source\"].apply(lambda x: lang2colex_nr.get(x, None))"
   ]
  },
  {
   "cell_type": "code",
   "execution_count": 51,
   "id": "cc8c5205-35d4-45c1-9a9d-bd497e478c6f",
   "metadata": {
    "execution": {
     "iopub.execute_input": "2024-09-23T15:44:43.750056Z",
     "iopub.status.busy": "2024-09-23T15:44:43.749091Z",
     "iopub.status.idle": "2024-09-23T15:44:43.827007Z",
     "shell.execute_reply": "2024-09-23T15:44:43.826504Z",
     "shell.execute_reply.started": "2024-09-23T15:44:43.749917Z"
    }
   },
   "outputs": [],
   "source": [
    "df = df.dropna()"
   ]
  },
  {
   "cell_type": "code",
   "execution_count": 58,
   "id": "a634b113-a26c-48da-af54-3f178a745ebe",
   "metadata": {
    "execution": {
     "iopub.execute_input": "2024-09-23T16:22:34.693965Z",
     "iopub.status.busy": "2024-09-23T16:22:34.693285Z",
     "iopub.status.idle": "2024-09-23T16:22:34.714728Z",
     "shell.execute_reply": "2024-09-23T16:22:34.713761Z",
     "shell.execute_reply.started": "2024-09-23T16:22:34.693915Z"
    }
   },
   "outputs": [
    {
     "data": {
      "text/html": [
       "<div>\n",
       "<style scoped>\n",
       "    .dataframe tbody tr th:only-of-type {\n",
       "        vertical-align: middle;\n",
       "    }\n",
       "\n",
       "    .dataframe tbody tr th {\n",
       "        vertical-align: top;\n",
       "    }\n",
       "\n",
       "    .dataframe thead th {\n",
       "        text-align: right;\n",
       "    }\n",
       "</style>\n",
       "<table border=\"1\" class=\"dataframe\">\n",
       "  <thead>\n",
       "    <tr style=\"text-align: right;\">\n",
       "      <th></th>\n",
       "      <th>Target</th>\n",
       "      <th>Source</th>\n",
       "      <th>Weight</th>\n",
       "      <th>Colex_target</th>\n",
       "      <th>Colex_source</th>\n",
       "    </tr>\n",
       "  </thead>\n",
       "  <tbody>\n",
       "    <tr>\n",
       "      <th>0</th>\n",
       "      <td>chao1238</td>\n",
       "      <td>chen1267</td>\n",
       "      <td>3</td>\n",
       "      <td>8.0</td>\n",
       "      <td>9.0</td>\n",
       "    </tr>\n",
       "    <tr>\n",
       "      <th>1</th>\n",
       "      <td>chao1238</td>\n",
       "      <td>fuzh1239</td>\n",
       "      <td>4</td>\n",
       "      <td>8.0</td>\n",
       "      <td>7.0</td>\n",
       "    </tr>\n",
       "  </tbody>\n",
       "</table>\n",
       "</div>"
      ],
      "text/plain": [
       "     Target    Source  Weight  Colex_target  Colex_source\n",
       "0  chao1238  chen1267       3           8.0           9.0\n",
       "1  chao1238  fuzh1239       4           8.0           7.0"
      ]
     },
     "execution_count": 58,
     "metadata": {},
     "output_type": "execute_result"
    }
   ],
   "source": [
    "df.head(2) "
   ]
  },
  {
   "cell_type": "code",
   "execution_count": 54,
   "id": "685ed65b-cd73-49e9-9055-2d421b987067",
   "metadata": {
    "execution": {
     "iopub.execute_input": "2024-09-23T16:12:40.098861Z",
     "iopub.status.busy": "2024-09-23T16:12:40.098116Z",
     "iopub.status.idle": "2024-09-23T16:12:57.448394Z",
     "shell.execute_reply": "2024-09-23T16:12:57.447944Z",
     "shell.execute_reply.started": "2024-09-23T16:12:40.098825Z"
    }
   },
   "outputs": [],
   "source": [
    "from nltk.metrics import *\n",
    "import pandas as pd\n",
    "\n",
    "bm = BigramAssocMeasures"
   ]
  },
  {
   "cell_type": "code",
   "execution_count": 55,
   "id": "1eeb56a5-6aaa-45e2-883a-56b5a8ce332e",
   "metadata": {
    "execution": {
     "iopub.execute_input": "2024-09-23T16:14:32.996163Z",
     "iopub.status.busy": "2024-09-23T16:14:32.994870Z",
     "iopub.status.idle": "2024-09-23T16:14:33.009182Z",
     "shell.execute_reply": "2024-09-23T16:14:33.007741Z",
     "shell.execute_reply.started": "2024-09-23T16:14:32.996094Z"
    }
   },
   "outputs": [
    {
     "data": {
      "text/plain": [
       "75842"
      ]
     },
     "execution_count": 55,
     "metadata": {},
     "output_type": "execute_result"
    }
   ],
   "source": [
    "total_colex_nr = sum(list(lang2colex_nr.values()))\n",
    "total_colex_nr"
   ]
  },
  {
   "cell_type": "code",
   "execution_count": 59,
   "id": "fdc0e58d-06c2-42ea-af97-ed03ca8a75a0",
   "metadata": {
    "execution": {
     "iopub.execute_input": "2024-09-23T16:22:49.187405Z",
     "iopub.status.busy": "2024-09-23T16:22:49.186872Z",
     "iopub.status.idle": "2024-09-23T16:22:49.192657Z",
     "shell.execute_reply": "2024-09-23T16:22:49.191706Z",
     "shell.execute_reply.started": "2024-09-23T16:22:49.187371Z"
    }
   },
   "outputs": [],
   "source": [
    "def calculate_pmi(x,y,z):\n",
    "    pmi = bm.pmi(x,(y,z), total_colex_nr)\n",
    "    return pmi"
   ]
  },
  {
   "cell_type": "code",
   "execution_count": 60,
   "id": "bd2d6f83-43be-4968-b45d-36bd55255880",
   "metadata": {
    "execution": {
     "iopub.execute_input": "2024-09-23T16:23:41.365578Z",
     "iopub.status.busy": "2024-09-23T16:23:41.364825Z",
     "iopub.status.idle": "2024-09-23T16:23:45.853206Z",
     "shell.execute_reply": "2024-09-23T16:23:45.852744Z",
     "shell.execute_reply.started": "2024-09-23T16:23:41.365539Z"
    }
   },
   "outputs": [
    {
     "name": "stderr",
     "output_type": "stream",
     "text": [
      "/var/folders/bj/qp6k2wl11h5gpn8j4hg0tgf40000gn/T/ipykernel_94032/4107798813.py:1: SettingWithCopyWarning: \n",
      "A value is trying to be set on a copy of a slice from a DataFrame.\n",
      "Try using .loc[row_indexer,col_indexer] = value instead\n",
      "\n",
      "See the caveats in the documentation: https://pandas.pydata.org/pandas-docs/stable/user_guide/indexing.html#returning-a-view-versus-a-copy\n",
      "  df[\"pmi\"] = df.apply(lambda row: calculate_pmi(row[\"Weight\"], row[\"Colex_target\"], row[\"Colex_source\"]), axis=1)\n"
     ]
    }
   ],
   "source": [
    "df[\"pmi\"] = df.apply(lambda row: calculate_pmi(row[\"Weight\"], row[\"Colex_target\"], row[\"Colex_source\"]), axis=1)"
   ]
  },
  {
   "cell_type": "code",
   "execution_count": 63,
   "id": "d93323bb-db90-4ed2-a60c-57023dde56ee",
   "metadata": {
    "execution": {
     "iopub.execute_input": "2024-09-23T16:26:33.640130Z",
     "iopub.status.busy": "2024-09-23T16:26:33.639259Z",
     "iopub.status.idle": "2024-09-23T16:26:35.257348Z",
     "shell.execute_reply": "2024-09-23T16:26:35.256469Z",
     "shell.execute_reply.started": "2024-09-23T16:26:33.640065Z"
    }
   },
   "outputs": [],
   "source": [
    "df.to_csv(\"../datasets/lang2lang/clics3.csv\", index=False)"
   ]
  },
  {
   "cell_type": "code",
   "execution_count": 64,
   "id": "1a1f7aaa-3f31-45be-99ef-7debe5ce7ee4",
   "metadata": {
    "execution": {
     "iopub.execute_input": "2024-09-23T16:28:31.284581Z",
     "iopub.status.busy": "2024-09-23T16:28:31.284038Z",
     "iopub.status.idle": "2024-09-23T16:28:31.291615Z",
     "shell.execute_reply": "2024-09-23T16:28:31.290406Z",
     "shell.execute_reply.started": "2024-09-23T16:28:31.284547Z"
    }
   },
   "outputs": [],
   "source": [
    "def get_boxplot(arr):\n",
    "    # quantiles=np.quantile(arr, np.linspace(0,1,1335))\n",
    "    # plt.plot(np.linspace(0,1,1335), quantiles)\n",
    "    plt.boxplot(arr)\n",
    "    plt.xlabel('PMI')\n",
    "    plt.ylabel('Value')\n",
    "    plt.title('Plot')\n",
    "    plt.show()"
   ]
  },
  {
   "cell_type": "code",
   "execution_count": 65,
   "id": "20d477d0-3032-4aab-a73a-1b05e41f32f7",
   "metadata": {
    "execution": {
     "iopub.execute_input": "2024-09-23T16:28:42.798120Z",
     "iopub.status.busy": "2024-09-23T16:28:42.797222Z",
     "iopub.status.idle": "2024-09-23T16:28:43.922852Z",
     "shell.execute_reply": "2024-09-23T16:28:43.922383Z",
     "shell.execute_reply.started": "2024-09-23T16:28:42.798077Z"
    },
    "scrolled": true
   },
   "outputs": [
    {
     "data": {
      "image/png": "[encoded data removed]",
      "text/plain": [
       "<Figure size 640x480 with 1 Axes>"
      ]
     },
     "metadata": {},
     "output_type": "display_data"
    }
   ],
   "source": [
    "get_boxplot(df[\"pmi\"].tolist())"
   ]
  },
  {
   "cell_type": "code",
   "execution_count": null,
   "id": "f67957f0-0173-48e9-91b6-f63d077c7413",
   "metadata": {},
   "outputs": [],
   "source": []
  },
  {
   "cell_type": "code",
   "execution_count": null,
   "id": "26105231-e42f-445f-bb53-1c23bd5910fa",
   "metadata": {},
   "outputs": [],
   "source": []
  },
  {
   "cell_type": "code",
   "execution_count": null,
   "id": "2076b733-414b-42ee-895d-17c42fc5b582",
   "metadata": {},
   "outputs": [],
   "source": []
  },
  {
   "cell_type": "code",
   "execution_count": 2,
   "id": "4da6f96b-c57c-452a-a175-fc9a902aa806",
   "metadata": {
    "execution": {
     "iopub.execute_input": "2024-09-23T20:57:15.042692Z",
     "iopub.status.busy": "2024-09-23T20:57:15.041882Z",
     "iopub.status.idle": "2024-09-23T20:57:15.258191Z",
     "shell.execute_reply": "2024-09-23T20:57:15.257723Z",
     "shell.execute_reply.started": "2024-09-23T20:57:15.042644Z"
    }
   },
   "outputs": [],
   "source": [
    "df = pd.read_csv(\"../datasets/lang2lang/clics3.csv\")"
   ]
  },
  {
   "cell_type": "code",
   "execution_count": 10,
   "id": "7866b75e-bdc7-4ef9-9713-dbb234f43527",
   "metadata": {
    "execution": {
     "iopub.execute_input": "2024-09-23T21:05:32.351002Z",
     "iopub.status.busy": "2024-09-23T21:05:32.349363Z",
     "iopub.status.idle": "2024-09-23T21:05:32.364201Z",
     "shell.execute_reply": "2024-09-23T21:05:32.363387Z",
     "shell.execute_reply.started": "2024-09-23T21:05:32.350938Z"
    }
   },
   "outputs": [],
   "source": [
    "x_min=df[\"pmi\"].min()\n",
    "x_max=df[\"pmi\"].max()"
   ]
  },
  {
   "cell_type": "code",
   "execution_count": 11,
   "id": "67b2e658-e666-47ab-bde1-d0887afe5947",
   "metadata": {
    "execution": {
     "iopub.execute_input": "2024-09-23T21:05:51.416745Z",
     "iopub.status.busy": "2024-09-23T21:05:51.415830Z",
     "iopub.status.idle": "2024-09-23T21:05:51.435134Z",
     "shell.execute_reply": "2024-09-23T21:05:51.433797Z",
     "shell.execute_reply.started": "2024-09-23T21:05:51.416706Z"
    }
   },
   "outputs": [
    {
     "data": {
      "text/plain": [
       "(np.float64(-3.10560529248788), np.float64(14.625746888318115))"
      ]
     },
     "execution_count": 11,
     "metadata": {},
     "output_type": "execute_result"
    }
   ],
   "source": [
    "x_min, x_max"
   ]
  },
  {
   "cell_type": "code",
   "execution_count": 12,
   "id": "47bb3339-da22-4ebd-b7cc-76c86cbbe23a",
   "metadata": {
    "execution": {
     "iopub.execute_input": "2024-09-23T21:05:58.214142Z",
     "iopub.status.busy": "2024-09-23T21:05:58.213211Z",
     "iopub.status.idle": "2024-09-23T21:05:58.228471Z",
     "shell.execute_reply": "2024-09-23T21:05:58.224533Z",
     "shell.execute_reply.started": "2024-09-23T21:05:58.214097Z"
    }
   },
   "outputs": [],
   "source": [
    "def normalize(x):\n",
    "    return (x - x_min) / (x_max - x_min)"
   ]
  },
  {
   "cell_type": "code",
   "execution_count": 72,
   "id": "9ee4479a-1d2a-4e8d-b247-cef29209aea5",
   "metadata": {
    "execution": {
     "iopub.execute_input": "2024-09-24T13:50:54.768633Z",
     "iopub.status.busy": "2024-09-24T13:50:54.768127Z",
     "iopub.status.idle": "2024-09-24T13:50:54.790147Z",
     "shell.execute_reply": "2024-09-24T13:50:54.789195Z",
     "shell.execute_reply.started": "2024-09-24T13:50:54.768602Z"
    }
   },
   "outputs": [
    {
     "data": {
      "text/html": [
       "<div>\n",
       "<style scoped>\n",
       "    .dataframe tbody tr th:only-of-type {\n",
       "        vertical-align: middle;\n",
       "    }\n",
       "\n",
       "    .dataframe tbody tr th {\n",
       "        vertical-align: top;\n",
       "    }\n",
       "\n",
       "    .dataframe thead th {\n",
       "        text-align: right;\n",
       "    }\n",
       "</style>\n",
       "<table border=\"1\" class=\"dataframe\">\n",
       "  <thead>\n",
       "    <tr style=\"text-align: right;\">\n",
       "      <th></th>\n",
       "      <th>Target</th>\n",
       "      <th>Source</th>\n",
       "      <th>Weight</th>\n",
       "      <th>Colex_target</th>\n",
       "      <th>Colex_source</th>\n",
       "      <th>pmi</th>\n",
       "      <th>pmi_norm</th>\n",
       "    </tr>\n",
       "  </thead>\n",
       "  <tbody>\n",
       "    <tr>\n",
       "      <th>0</th>\n",
       "      <td>chao1238</td>\n",
       "      <td>chen1267</td>\n",
       "      <td>3</td>\n",
       "      <td>8.0</td>\n",
       "      <td>9.0</td>\n",
       "      <td>11.625747</td>\n",
       "      <td>0.830808</td>\n",
       "    </tr>\n",
       "    <tr>\n",
       "      <th>1</th>\n",
       "      <td>chao1238</td>\n",
       "      <td>fuzh1239</td>\n",
       "      <td>4</td>\n",
       "      <td>8.0</td>\n",
       "      <td>7.0</td>\n",
       "      <td>12.403354</td>\n",
       "      <td>0.874663</td>\n",
       "    </tr>\n",
       "  </tbody>\n",
       "</table>\n",
       "</div>"
      ],
      "text/plain": [
       "     Target    Source  Weight  Colex_target  Colex_source        pmi  pmi_norm\n",
       "0  chao1238  chen1267       3           8.0           9.0  11.625747  0.830808\n",
       "1  chao1238  fuzh1239       4           8.0           7.0  12.403354  0.874663"
      ]
     },
     "execution_count": 72,
     "metadata": {},
     "output_type": "execute_result"
    }
   ],
   "source": [
    "df.head(2)"
   ]
  },
  {
   "cell_type": "code",
   "execution_count": 13,
   "id": "3943204f-17d6-4c79-ac34-92aa99cf060d",
   "metadata": {
    "execution": {
     "iopub.execute_input": "2024-09-23T21:06:05.545280Z",
     "iopub.status.busy": "2024-09-23T21:06:05.543988Z",
     "iopub.status.idle": "2024-09-23T21:06:05.820511Z",
     "shell.execute_reply": "2024-09-23T21:06:05.819959Z",
     "shell.execute_reply.started": "2024-09-23T21:06:05.545207Z"
    }
   },
   "outputs": [],
   "source": [
    "df[\"pmi_norm\"] = df[\"pmi\"].apply(normalize)"
   ]
  },
  {
   "cell_type": "code",
   "execution_count": 15,
   "id": "8befa85b-a68f-4b4c-94c4-6e168827ae2f",
   "metadata": {
    "execution": {
     "iopub.execute_input": "2024-09-23T21:06:38.805524Z",
     "iopub.status.busy": "2024-09-23T21:06:38.804253Z",
     "iopub.status.idle": "2024-09-23T21:06:40.891580Z",
     "shell.execute_reply": "2024-09-23T21:06:40.891187Z",
     "shell.execute_reply.started": "2024-09-23T21:06:38.805454Z"
    }
   },
   "outputs": [],
   "source": [
    "df.to_csv(\"../datasets/lang2lang/clics3.csv\", index=False)"
   ]
  },
  {
   "cell_type": "code",
   "execution_count": null,
   "id": "ab47c995-3d04-4829-841b-89544c18fd6c",
   "metadata": {},
   "outputs": [],
   "source": []
  }
 ],
 "metadata": {
  "kernelspec": {
   "display_name": "envlc",
   "language": "python",
   "name": "envlc"
  },
  "language_info": {
   "codemirror_mode": {
    "name": "ipython",
    "version": 3
   },
   "file_extension": ".py",
   "mimetype": "text/x-python",
   "name": "python",
   "nbconvert_exporter": "python",
   "pygments_lexer": "ipython3",
   "version": "3.12.0"
  }
 },
 "nbformat": 4,
 "nbformat_minor": 5
}
