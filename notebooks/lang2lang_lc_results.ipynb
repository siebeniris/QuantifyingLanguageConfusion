{
 "cells": [
  {
   "cell_type": "code",
   "execution_count": 101,
   "id": "95eed1b5-a2f0-42e9-800e-541ee4f801f7",
   "metadata": {
    "execution": {
     "iopub.execute_input": "2024-10-10T18:37:47.147339Z",
     "iopub.status.busy": "2024-10-10T18:37:47.142842Z",
     "iopub.status.idle": "2024-10-10T18:37:47.204771Z",
     "shell.execute_reply": "2024-10-10T18:37:47.188848Z",
     "shell.execute_reply.started": "2024-10-10T18:37:47.147317Z"
    }
   },
   "outputs": [],
   "source": [
    "import pandas as pd\n",
    "import numpy as np\n",
    "import os \n",
    "import json\n",
    "from collections import defaultdict"
   ]
  },
  {
   "cell_type": "code",
   "execution_count": 130,
   "id": "8920cd8a-aa0f-48bc-b53c-2614cfdfca67",
   "metadata": {
    "execution": {
     "iopub.execute_input": "2024-10-10T18:41:33.028335Z",
     "iopub.status.busy": "2024-10-10T18:41:33.027794Z",
     "iopub.status.idle": "2024-10-10T18:41:33.041758Z",
     "shell.execute_reply": "2024-10-10T18:41:33.039589Z",
     "shell.execute_reply.started": "2024-10-10T18:41:33.028300Z"
    }
   },
   "outputs": [],
   "source": [
    "def get_kl_df(test_dir):\n",
    "    feat2lang2kl= defaultdict(dict)\n",
    "    for file in os.listdir(test_dir):\n",
    "        if file.endswith(\".json\"):\n",
    "            filepath = os.path.join(test_dir, file)\n",
    "            filename = file.replace(\".json\", \"\")\n",
    "            if filename not in feat2lang2kl:\n",
    "                feat2lang2kl[filename]=dict()\n",
    "            # print(filepath)\n",
    "            with open(filepath) as f:\n",
    "                kl_dict = json.load(f)\n",
    "            \n",
    "            feat2lang2kl[filename] = kl_dict\n",
    "    return pd.DataFrame(feat2lang2kl).T"
   ]
  },
  {
   "cell_type": "code",
   "execution_count": 142,
   "id": "d28c76b8-8323-4c89-a345-bc214294ef9d",
   "metadata": {
    "execution": {
     "iopub.execute_input": "2024-10-10T18:42:36.020558Z",
     "iopub.status.busy": "2024-10-10T18:42:36.020071Z",
     "iopub.status.idle": "2024-10-10T18:42:36.029288Z",
     "shell.execute_reply": "2024-10-10T18:42:36.027963Z",
     "shell.execute_reply.started": "2024-10-10T18:42:36.020524Z"
    }
   },
   "outputs": [],
   "source": [
    "def get_result(df, name):\n",
    "    df =df.dropna(how=\"all\")\n",
    "    # print(df)\n",
    "    df_without_max = df.mask(df.eq(df.max(axis=1), axis=0))\n",
    "    # df = df.dropna(axis=1)\n",
    "    mean_rows = df_without_max.mean(axis=1) \n",
    "\n",
    "    return mean_rows.to_frame(name=name)"
   ]
  },
  {
   "cell_type": "code",
   "execution_count": null,
   "id": "2d7621a1-baf0-470a-a7b5-b798dd18fbe5",
   "metadata": {},
   "outputs": [],
   "source": []
  },
  {
   "cell_type": "code",
   "execution_count": null,
   "id": "b88e4eab-28b1-4cd4-8738-b4b99b6c76b4",
   "metadata": {},
   "outputs": [],
   "source": []
  },
  {
   "cell_type": "code",
   "execution_count": null,
   "id": "55569dc5-20ed-43dc-9551-bab508fc9803",
   "metadata": {},
   "outputs": [],
   "source": []
  },
  {
   "cell_type": "code",
   "execution_count": null,
   "id": "909d848b-6ab5-462d-8808-24dfd296f11c",
   "metadata": {},
   "outputs": [],
   "source": []
  },
  {
   "cell_type": "code",
   "execution_count": null,
   "id": "0c9cfa77-548c-4ba0-aed7-d8d83885e434",
   "metadata": {},
   "outputs": [],
   "source": []
  },
  {
   "cell_type": "markdown",
   "id": "764b423c-b4f2-4271-bdb0-5a0ce2041bfc",
   "metadata": {},
   "source": [
    "# Colex2lang "
   ]
  },
  {
   "cell_type": "code",
   "execution_count": null,
   "id": "f15b31e9-7c5b-4054-bf0a-789849a4bac0",
   "metadata": {},
   "outputs": [],
   "source": []
  },
  {
   "cell_type": "markdown",
   "id": "dbf70f40-4053-4794-9b70-2b9b39923fc4",
   "metadata": {},
   "source": [
    "# LCB results"
   ]
  },
  {
   "cell_type": "code",
   "execution_count": 119,
   "id": "5a8c48e7-9d49-493d-b2be-be338bada173",
   "metadata": {
    "execution": {
     "iopub.execute_input": "2024-10-10T18:39:54.154917Z",
     "iopub.status.busy": "2024-10-10T18:39:54.153854Z",
     "iopub.status.idle": "2024-10-10T18:39:54.302760Z",
     "shell.execute_reply": "2024-10-10T18:39:54.295693Z",
     "shell.execute_reply.started": "2024-10-10T18:39:54.154874Z"
    }
   },
   "outputs": [],
   "source": [
    "df_line_mono = get_kl_df(\"../results/prompting_language_confusion/kl_divergence/line/monolingual/colex2lang\")\n",
    "df_line_cross= get_kl_df(\"../results/prompting_language_confusion/kl_divergence/line/crosslingual/colex2lang\")\n",
    "df_line_all = get_kl_df(\"../results/prompting_language_confusion/kl_divergence/line/all/colex2lang\")"
   ]
  },
  {
   "cell_type": "code",
   "execution_count": 120,
   "id": "4a031508-312e-4d9e-83ec-9a9cbe3af858",
   "metadata": {
    "execution": {
     "iopub.execute_input": "2024-10-10T18:39:54.534562Z",
     "iopub.status.busy": "2024-10-10T18:39:54.533697Z",
     "iopub.status.idle": "2024-10-10T18:39:54.561533Z",
     "shell.execute_reply": "2024-10-10T18:39:54.556453Z",
     "shell.execute_reply.started": "2024-10-10T18:39:54.534522Z"
    }
   },
   "outputs": [],
   "source": [
    "df_line_mono_mean = get_result(df_line_mono, \"line_mono\")\n",
    "df_line_cross_mean = get_result(df_line_cross, \"line_cross\")\n",
    "df_line_all_mean = get_result(df_line_all, \"line_all\")"
   ]
  },
  {
   "cell_type": "code",
   "execution_count": 121,
   "id": "13f1ecf8-ddc9-4121-99ff-92b89ed044dd",
   "metadata": {
    "execution": {
     "iopub.execute_input": "2024-10-10T18:39:54.943731Z",
     "iopub.status.busy": "2024-10-10T18:39:54.943182Z",
     "iopub.status.idle": "2024-10-10T18:39:54.955799Z",
     "shell.execute_reply": "2024-10-10T18:39:54.953498Z",
     "shell.execute_reply.started": "2024-10-10T18:39:54.943692Z"
    }
   },
   "outputs": [],
   "source": [
    "df_line = pd.concat([df_line_all_mean,df_line_mono_mean,df_line_cross_mean],axis=1)"
   ]
  },
  {
   "cell_type": "code",
   "execution_count": 122,
   "id": "93c0211b-ba69-4230-b09e-0ad24e7bd009",
   "metadata": {
    "execution": {
     "iopub.execute_input": "2024-10-10T18:39:55.551751Z",
     "iopub.status.busy": "2024-10-10T18:39:55.550790Z",
     "iopub.status.idle": "2024-10-10T18:39:55.652036Z",
     "shell.execute_reply": "2024-10-10T18:39:55.650868Z",
     "shell.execute_reply.started": "2024-10-10T18:39:55.551662Z"
    }
   },
   "outputs": [],
   "source": [
    "df_word_mono = get_kl_df(\"../results/prompting_language_confusion/kl_divergence/word/monolingual/colex2lang\")\n",
    "df_word_cross= get_kl_df(\"../results/prompting_language_confusion/kl_divergence/word/crosslingual/colex2lang\")\n",
    "df_word_all = get_kl_df(\"../results/prompting_language_confusion/kl_divergence/word/all/colex2lang\")\n",
    "df_word_mono_mean = get_result(df_word_mono, \"word_mono\")\n",
    "df_word_cross_mean = get_result(df_word_cross, \"word_cross\")\n",
    "df_word_all_mean = get_result(df_word_all, \"word_all\")\n"
   ]
  },
  {
   "cell_type": "code",
   "execution_count": 123,
   "id": "f7640423-c6c1-48b7-84dd-b2a11cae31d9",
   "metadata": {
    "execution": {
     "iopub.execute_input": "2024-10-10T18:39:56.270204Z",
     "iopub.status.busy": "2024-10-10T18:39:56.268743Z",
     "iopub.status.idle": "2024-10-10T18:39:56.280168Z",
     "shell.execute_reply": "2024-10-10T18:39:56.279070Z",
     "shell.execute_reply.started": "2024-10-10T18:39:56.270161Z"
    }
   },
   "outputs": [],
   "source": [
    "df_word = pd.concat([df_word_all_mean,df_word_mono_mean,df_word_cross_mean],axis=1)"
   ]
  },
  {
   "cell_type": "code",
   "execution_count": null,
   "id": "e04d4e72-743d-4a33-859b-7c94654be5cf",
   "metadata": {},
   "outputs": [],
   "source": []
  },
  {
   "cell_type": "code",
   "execution_count": 124,
   "id": "92a51106-7889-43d2-8143-925e33da5c39",
   "metadata": {
    "execution": {
     "iopub.execute_input": "2024-10-10T18:39:59.567419Z",
     "iopub.status.busy": "2024-10-10T18:39:59.566779Z",
     "iopub.status.idle": "2024-10-10T18:39:59.579573Z",
     "shell.execute_reply": "2024-10-10T18:39:59.576944Z",
     "shell.execute_reply.started": "2024-10-10T18:39:59.567383Z"
    }
   },
   "outputs": [],
   "source": [
    "df_lcb = pd.concat([df_line, df_word], axis=1)"
   ]
  },
  {
   "cell_type": "code",
   "execution_count": 128,
   "id": "4ff5e5bf-2c40-4230-bcb1-e4984728fbb8",
   "metadata": {
    "execution": {
     "iopub.execute_input": "2024-10-10T18:40:35.144270Z",
     "iopub.status.busy": "2024-10-10T18:40:35.143650Z",
     "iopub.status.idle": "2024-10-10T18:40:35.162984Z",
     "shell.execute_reply": "2024-10-10T18:40:35.161532Z",
     "shell.execute_reply.started": "2024-10-10T18:40:35.144237Z"
    }
   },
   "outputs": [
    {
     "name": "stderr",
     "output_type": "stream",
     "text": [
      "/var/folders/bj/qp6k2wl11h5gpn8j4hg0tgf40000gn/T/ipykernel_63117/2536953655.py:1: SettingWithCopyWarning: \n",
      "A value is trying to be set on a copy of a slice from a DataFrame.\n",
      "Try using .loc[row_indexer,col_indexer] = value instead\n",
      "\n",
      "See the caveats in the documentation: https://pandas.pydata.org/pandas-docs/stable/user_guide/indexing.html#returning-a-view-versus-a-copy\n",
      "  df_lcb[\"name\"]= df_lcb.index\n",
      "/var/folders/bj/qp6k2wl11h5gpn8j4hg0tgf40000gn/T/ipykernel_63117/2536953655.py:2: SettingWithCopyWarning: \n",
      "A value is trying to be set on a copy of a slice from a DataFrame.\n",
      "Try using .loc[row_indexer,col_indexer] = value instead\n",
      "\n",
      "See the caveats in the documentation: https://pandas.pydata.org/pandas-docs/stable/user_guide/indexing.html#returning-a-view-versus-a-copy\n",
      "  df_lcb[\"name\"] = df_lcb[\"name\"].str.replace(\"wn_concept\",\"wn-concept\")\n",
      "/var/folders/bj/qp6k2wl11h5gpn8j4hg0tgf40000gn/T/ipykernel_63117/2536953655.py:3: SettingWithCopyWarning: \n",
      "A value is trying to be set on a copy of a slice from a DataFrame.\n",
      "Try using .loc[row_indexer,col_indexer] = value instead\n",
      "\n",
      "See the caveats in the documentation: https://pandas.pydata.org/pandas-docs/stable/user_guide/indexing.html#returning-a-view-versus-a-copy\n",
      "  df_lcb[['cal', 'database', 'embedding']] = df_lcb[\"name\"].str.split('_', expand=True)\n",
      "/var/folders/bj/qp6k2wl11h5gpn8j4hg0tgf40000gn/T/ipykernel_63117/2536953655.py:3: SettingWithCopyWarning: \n",
      "A value is trying to be set on a copy of a slice from a DataFrame.\n",
      "Try using .loc[row_indexer,col_indexer] = value instead\n",
      "\n",
      "See the caveats in the documentation: https://pandas.pydata.org/pandas-docs/stable/user_guide/indexing.html#returning-a-view-versus-a-copy\n",
      "  df_lcb[['cal', 'database', 'embedding']] = df_lcb[\"name\"].str.split('_', expand=True)\n"
     ]
    }
   ],
   "source": [
    "df_lcb[\"name\"]= df_lcb.index\n",
    "df_lcb[\"name\"] = df_lcb[\"name\"].str.replace(\"wn_concept\",\"wn-concept\")\n",
    "df_lcb[['cal', 'database', 'embedding']] = df_lcb[\"name\"].str.split('_', expand=True)\n",
    "df_lcb =df_lcb.sort_values([\"database\", \"cal\", \"embedding\"])"
   ]
  },
  {
   "cell_type": "code",
   "execution_count": 84,
   "id": "2f56e82d-f203-48a4-9476-eae4c676e5a4",
   "metadata": {
    "execution": {
     "iopub.execute_input": "2024-10-10T15:16:07.069730Z",
     "iopub.status.busy": "2024-10-10T15:16:07.069032Z",
     "iopub.status.idle": "2024-10-10T15:16:07.102255Z",
     "shell.execute_reply": "2024-10-10T15:16:07.098967Z",
     "shell.execute_reply.started": "2024-10-10T15:16:07.069692Z"
    }
   },
   "outputs": [],
   "source": [
    "df_lcb.to_csv(\"../results/prompting_language_confusion/kl_divergence/lcb_l2l_kl_colex2lang.csv\")"
   ]
  },
  {
   "cell_type": "code",
   "execution_count": null,
   "id": "821bc2f3-23e5-40ce-b3b5-2b318e220dc6",
   "metadata": {},
   "outputs": [],
   "source": []
  },
  {
   "cell_type": "code",
   "execution_count": null,
   "id": "180c69ed-7ed0-416e-95da-377233186b60",
   "metadata": {},
   "outputs": [],
   "source": []
  },
  {
   "cell_type": "code",
   "execution_count": null,
   "id": "4b11cb4f-5680-4014-a9e8-87983711145b",
   "metadata": {},
   "outputs": [],
   "source": []
  },
  {
   "cell_type": "markdown",
   "id": "f9b42556-0da8-4c3b-a5f3-cd50b0a904e6",
   "metadata": {},
   "source": [
    "# Inversion"
   ]
  },
  {
   "cell_type": "code",
   "execution_count": 86,
   "id": "b1e0c543-d3e5-47bd-b368-a094df67f6cf",
   "metadata": {
    "execution": {
     "iopub.execute_input": "2024-10-10T15:17:33.809894Z",
     "iopub.status.busy": "2024-10-10T15:17:33.809327Z",
     "iopub.status.idle": "2024-10-10T15:17:33.881778Z",
     "shell.execute_reply": "2024-10-10T15:17:33.879541Z",
     "shell.execute_reply.started": "2024-10-10T15:17:33.809860Z"
    }
   },
   "outputs": [],
   "source": [
    "df_line_mono = get_kl_df(\"../results/inversion_language_confusion/kl_divergence/line/monolingual/colex2lang\")\n",
    "df_line_cross= get_kl_df(\"../results/inversion_language_confusion/kl_divergence/line/crosslingual/colex2lang\")\n",
    "df_line_all = get_kl_df(\"../results/inversion_language_confusion/kl_divergence/line/all/colex2lang\")"
   ]
  },
  {
   "cell_type": "code",
   "execution_count": 87,
   "id": "2bf22e16-ae24-4bb1-8305-67bb7fee37d7",
   "metadata": {
    "execution": {
     "iopub.execute_input": "2024-10-10T15:17:34.336079Z",
     "iopub.status.busy": "2024-10-10T15:17:34.335047Z",
     "iopub.status.idle": "2024-10-10T15:17:34.360969Z",
     "shell.execute_reply": "2024-10-10T15:17:34.357873Z",
     "shell.execute_reply.started": "2024-10-10T15:17:34.336043Z"
    }
   },
   "outputs": [],
   "source": [
    "df_line_mono_mean = get_result(df_line_mono, \"line_mono\")\n",
    "df_line_cross_mean = get_result(df_line_cross, \"line_cross\")\n",
    "df_line_all_mean = get_result(df_line_all, \"line_all\")"
   ]
  },
  {
   "cell_type": "code",
   "execution_count": 88,
   "id": "1ce9e748-258a-4c0d-9617-311dc83e7b25",
   "metadata": {
    "execution": {
     "iopub.execute_input": "2024-10-10T15:17:35.346431Z",
     "iopub.status.busy": "2024-10-10T15:17:35.345779Z",
     "iopub.status.idle": "2024-10-10T15:17:35.353530Z",
     "shell.execute_reply": "2024-10-10T15:17:35.352095Z",
     "shell.execute_reply.started": "2024-10-10T15:17:35.346398Z"
    }
   },
   "outputs": [],
   "source": [
    "df_line = pd.concat([df_line_all_mean,df_line_mono_mean,df_line_cross_mean],axis=1)"
   ]
  },
  {
   "cell_type": "code",
   "execution_count": 89,
   "id": "c6b7e554-0f4b-4c38-a126-4932b0a5aacb",
   "metadata": {
    "execution": {
     "iopub.execute_input": "2024-10-10T15:17:37.701060Z",
     "iopub.status.busy": "2024-10-10T15:17:37.700550Z",
     "iopub.status.idle": "2024-10-10T15:17:37.728444Z",
     "shell.execute_reply": "2024-10-10T15:17:37.726000Z",
     "shell.execute_reply.started": "2024-10-10T15:17:37.701025Z"
    }
   },
   "outputs": [
    {
     "data": {
      "text/html": [
       "<div>\n",
       "<style scoped>\n",
       "    .dataframe tbody tr th:only-of-type {\n",
       "        vertical-align: middle;\n",
       "    }\n",
       "\n",
       "    .dataframe tbody tr th {\n",
       "        vertical-align: top;\n",
       "    }\n",
       "\n",
       "    .dataframe thead th {\n",
       "        text-align: right;\n",
       "    }\n",
       "</style>\n",
       "<table border=\"1\" class=\"dataframe\">\n",
       "  <thead>\n",
       "    <tr style=\"text-align: right;\">\n",
       "      <th></th>\n",
       "      <th>line_all</th>\n",
       "      <th>line_mono</th>\n",
       "      <th>line_cross</th>\n",
       "    </tr>\n",
       "  </thead>\n",
       "  <tbody>\n",
       "    <tr>\n",
       "      <th>add+max_wn_prone</th>\n",
       "      <td>1.014745</td>\n",
       "      <td>0.327937</td>\n",
       "      <td>1.070949</td>\n",
       "    </tr>\n",
       "    <tr>\n",
       "      <th>concat+avg_wn_glove</th>\n",
       "      <td>1.022529</td>\n",
       "      <td>0.511638</td>\n",
       "      <td>1.048931</td>\n",
       "    </tr>\n",
       "    <tr>\n",
       "      <th>concat+max_wn_concept_ggvc</th>\n",
       "      <td>1.014374</td>\n",
       "      <td>0.326266</td>\n",
       "      <td>1.070997</td>\n",
       "    </tr>\n",
       "    <tr>\n",
       "      <th>concat+sum_wn_glove</th>\n",
       "      <td>1.022529</td>\n",
       "      <td>0.511638</td>\n",
       "      <td>1.048931</td>\n",
       "    </tr>\n",
       "    <tr>\n",
       "      <th>concat+max_wn_concept_prone</th>\n",
       "      <td>1.014755</td>\n",
       "      <td>0.328208</td>\n",
       "      <td>1.070955</td>\n",
       "    </tr>\n",
       "    <tr>\n",
       "      <th>...</th>\n",
       "      <td>...</td>\n",
       "      <td>...</td>\n",
       "      <td>...</td>\n",
       "    </tr>\n",
       "    <tr>\n",
       "      <th>concat+max_clics_prone</th>\n",
       "      <td>1.009762</td>\n",
       "      <td>0.375973</td>\n",
       "      <td>1.017840</td>\n",
       "    </tr>\n",
       "    <tr>\n",
       "      <th>concat+sum_wn_concept_prone</th>\n",
       "      <td>1.009999</td>\n",
       "      <td>0.342130</td>\n",
       "      <td>1.063608</td>\n",
       "    </tr>\n",
       "    <tr>\n",
       "      <th>add+max_clics_glove</th>\n",
       "      <td>1.001702</td>\n",
       "      <td>0.369703</td>\n",
       "      <td>1.012368</td>\n",
       "    </tr>\n",
       "    <tr>\n",
       "      <th>add+avg_clics_glove</th>\n",
       "      <td>0.970682</td>\n",
       "      <td>0.507808</td>\n",
       "      <td>0.973002</td>\n",
       "    </tr>\n",
       "    <tr>\n",
       "      <th>concat+sum_wn_node2vec</th>\n",
       "      <td>1.014419</td>\n",
       "      <td>0.326557</td>\n",
       "      <td>1.070926</td>\n",
       "    </tr>\n",
       "  </tbody>\n",
       "</table>\n",
       "<p>72 rows × 3 columns</p>\n",
       "</div>"
      ],
      "text/plain": [
       "                             line_all  line_mono  line_cross\n",
       "add+max_wn_prone             1.014745   0.327937    1.070949\n",
       "concat+avg_wn_glove          1.022529   0.511638    1.048931\n",
       "concat+max_wn_concept_ggvc   1.014374   0.326266    1.070997\n",
       "concat+sum_wn_glove          1.022529   0.511638    1.048931\n",
       "concat+max_wn_concept_prone  1.014755   0.328208    1.070955\n",
       "...                               ...        ...         ...\n",
       "concat+max_clics_prone       1.009762   0.375973    1.017840\n",
       "concat+sum_wn_concept_prone  1.009999   0.342130    1.063608\n",
       "add+max_clics_glove          1.001702   0.369703    1.012368\n",
       "add+avg_clics_glove          0.970682   0.507808    0.973002\n",
       "concat+sum_wn_node2vec       1.014419   0.326557    1.070926\n",
       "\n",
       "[72 rows x 3 columns]"
      ]
     },
     "execution_count": 89,
     "metadata": {},
     "output_type": "execute_result"
    }
   ],
   "source": [
    "df_line"
   ]
  },
  {
   "cell_type": "code",
   "execution_count": 90,
   "id": "f21156de-9761-4cc5-b672-f9b2b99ac1d6",
   "metadata": {
    "execution": {
     "iopub.execute_input": "2024-10-10T15:17:39.647934Z",
     "iopub.status.busy": "2024-10-10T15:17:39.647404Z",
     "iopub.status.idle": "2024-10-10T15:17:39.739542Z",
     "shell.execute_reply": "2024-10-10T15:17:39.736514Z",
     "shell.execute_reply.started": "2024-10-10T15:17:39.647898Z"
    }
   },
   "outputs": [],
   "source": [
    "df_word_mono = get_kl_df(\"../results/inversion_language_confusion/kl_divergence/word/monolingual/colex2lang\")\n",
    "df_word_cross= get_kl_df(\"../results/inversion_language_confusion/kl_divergence/word/crosslingual/colex2lang\")\n",
    "df_word_all = get_kl_df(\"../results/inversion_language_confusion/kl_divergence/word/all/colex2lang\")\n",
    "df_word_mono_mean = get_result(df_word_mono, \"word_mono\")\n",
    "df_word_cross_mean = get_result(df_word_cross, \"word_cross\")\n",
    "df_word_all_mean = get_result(df_word_all, \"word_all\")\n"
   ]
  },
  {
   "cell_type": "code",
   "execution_count": 91,
   "id": "962768cb-5ece-4e60-92c8-e711b1876e8e",
   "metadata": {
    "execution": {
     "iopub.execute_input": "2024-10-10T15:17:40.145877Z",
     "iopub.status.busy": "2024-10-10T15:17:40.145264Z",
     "iopub.status.idle": "2024-10-10T15:17:40.153815Z",
     "shell.execute_reply": "2024-10-10T15:17:40.152899Z",
     "shell.execute_reply.started": "2024-10-10T15:17:40.145842Z"
    }
   },
   "outputs": [],
   "source": [
    "df_word = pd.concat([df_word_all_mean,df_word_mono_mean,df_word_cross_mean],axis=1)"
   ]
  },
  {
   "cell_type": "code",
   "execution_count": 95,
   "id": "b6874053-8ba3-4ebf-b356-e89bb918395c",
   "metadata": {
    "execution": {
     "iopub.execute_input": "2024-10-10T15:18:22.446023Z",
     "iopub.status.busy": "2024-10-10T15:18:22.445441Z",
     "iopub.status.idle": "2024-10-10T15:18:22.455744Z",
     "shell.execute_reply": "2024-10-10T15:18:22.454716Z",
     "shell.execute_reply.started": "2024-10-10T15:18:22.445990Z"
    }
   },
   "outputs": [],
   "source": [
    "df_inversion = pd.concat([df_line, df_word], axis=1)"
   ]
  },
  {
   "cell_type": "code",
   "execution_count": null,
   "id": "bcda48d1-b4a9-48c4-ad73-3df0368ee74a",
   "metadata": {},
   "outputs": [],
   "source": []
  },
  {
   "cell_type": "code",
   "execution_count": null,
   "id": "0800eff9-3692-43aa-a692-0061c75cddfd",
   "metadata": {},
   "outputs": [],
   "source": []
  },
  {
   "cell_type": "code",
   "execution_count": null,
   "id": "18ea21f6-b532-4b4f-b3fb-0db9b84e4e56",
   "metadata": {},
   "outputs": [],
   "source": []
  },
  {
   "cell_type": "code",
   "execution_count": 96,
   "id": "a0790165-a8e4-48e7-aa4c-da085998aaaf",
   "metadata": {
    "execution": {
     "iopub.execute_input": "2024-10-10T15:18:24.999058Z",
     "iopub.status.busy": "2024-10-10T15:18:24.998234Z",
     "iopub.status.idle": "2024-10-10T15:18:25.023500Z",
     "shell.execute_reply": "2024-10-10T15:18:25.018611Z",
     "shell.execute_reply.started": "2024-10-10T15:18:24.999017Z"
    }
   },
   "outputs": [],
   "source": [
    "df_inversion =df_inversion[[\"line_all\", \"word_all\", \"line_mono\", \"word_mono\", \"line_cross\", \"word_cross\"]]\n",
    "\n",
    "df_inversion[\"name\"]= df_inversion.index\n",
    "df_inversion[\"name\"] = df_inversion[\"name\"].str.replace(\"wn_concept\",\"wn-concept\")\n",
    "df_inversion[['cal', 'database', 'embedding']] = df_inversion[\"name\"].str.split('_', expand=True)\n",
    "df_inversion =df_inversion.sort_values([\"database\", \"cal\", \"embedding\"])"
   ]
  },
  {
   "cell_type": "code",
   "execution_count": 97,
   "id": "c6e24acb-152e-4529-9730-bf367de6d0f2",
   "metadata": {
    "execution": {
     "iopub.execute_input": "2024-10-10T15:18:26.083510Z",
     "iopub.status.busy": "2024-10-10T15:18:26.082775Z",
     "iopub.status.idle": "2024-10-10T15:18:26.138714Z",
     "shell.execute_reply": "2024-10-10T15:18:26.133104Z",
     "shell.execute_reply.started": "2024-10-10T15:18:26.083475Z"
    }
   },
   "outputs": [
    {
     "data": {
      "text/html": [
       "<div>\n",
       "<style scoped>\n",
       "    .dataframe tbody tr th:only-of-type {\n",
       "        vertical-align: middle;\n",
       "    }\n",
       "\n",
       "    .dataframe tbody tr th {\n",
       "        vertical-align: top;\n",
       "    }\n",
       "\n",
       "    .dataframe thead th {\n",
       "        text-align: right;\n",
       "    }\n",
       "</style>\n",
       "<table border=\"1\" class=\"dataframe\">\n",
       "  <thead>\n",
       "    <tr style=\"text-align: right;\">\n",
       "      <th></th>\n",
       "      <th>line_all</th>\n",
       "      <th>word_all</th>\n",
       "      <th>line_mono</th>\n",
       "      <th>word_mono</th>\n",
       "      <th>line_cross</th>\n",
       "      <th>word_cross</th>\n",
       "      <th>name</th>\n",
       "      <th>cal</th>\n",
       "      <th>database</th>\n",
       "      <th>embedding</th>\n",
       "    </tr>\n",
       "  </thead>\n",
       "  <tbody>\n",
       "    <tr>\n",
       "      <th>add+avg_clics_ggvc</th>\n",
       "      <td>0.949246</td>\n",
       "      <td>0.833460</td>\n",
       "      <td>0.569606</td>\n",
       "      <td>0.381506</td>\n",
       "      <td>0.950305</td>\n",
       "      <td>0.869315</td>\n",
       "      <td>add+avg_clics_ggvc</td>\n",
       "      <td>add+avg</td>\n",
       "      <td>clics</td>\n",
       "      <td>ggvc</td>\n",
       "    </tr>\n",
       "    <tr>\n",
       "      <th>add+avg_clics_glove</th>\n",
       "      <td>0.970682</td>\n",
       "      <td>0.865892</td>\n",
       "      <td>0.507808</td>\n",
       "      <td>0.341320</td>\n",
       "      <td>0.973002</td>\n",
       "      <td>0.899502</td>\n",
       "      <td>add+avg_clics_glove</td>\n",
       "      <td>add+avg</td>\n",
       "      <td>clics</td>\n",
       "      <td>glove</td>\n",
       "    </tr>\n",
       "    <tr>\n",
       "      <th>add+avg_clics_node2vec</th>\n",
       "      <td>0.971835</td>\n",
       "      <td>0.866385</td>\n",
       "      <td>0.370579</td>\n",
       "      <td>0.267355</td>\n",
       "      <td>0.987081</td>\n",
       "      <td>0.936621</td>\n",
       "      <td>add+avg_clics_node2vec</td>\n",
       "      <td>add+avg</td>\n",
       "      <td>clics</td>\n",
       "      <td>node2vec</td>\n",
       "    </tr>\n",
       "    <tr>\n",
       "      <th>add+avg_clics_prone</th>\n",
       "      <td>0.981066</td>\n",
       "      <td>0.877272</td>\n",
       "      <td>0.447243</td>\n",
       "      <td>0.311735</td>\n",
       "      <td>0.987132</td>\n",
       "      <td>0.919904</td>\n",
       "      <td>add+avg_clics_prone</td>\n",
       "      <td>add+avg</td>\n",
       "      <td>clics</td>\n",
       "      <td>prone</td>\n",
       "    </tr>\n",
       "    <tr>\n",
       "      <th>add+max_clics_ggvc</th>\n",
       "      <td>0.992770</td>\n",
       "      <td>0.891858</td>\n",
       "      <td>0.368981</td>\n",
       "      <td>0.267199</td>\n",
       "      <td>1.004015</td>\n",
       "      <td>0.947849</td>\n",
       "      <td>add+max_clics_ggvc</td>\n",
       "      <td>add+max</td>\n",
       "      <td>clics</td>\n",
       "      <td>ggvc</td>\n",
       "    </tr>\n",
       "    <tr>\n",
       "      <th>...</th>\n",
       "      <td>...</td>\n",
       "      <td>...</td>\n",
       "      <td>...</td>\n",
       "      <td>...</td>\n",
       "      <td>...</td>\n",
       "      <td>...</td>\n",
       "      <td>...</td>\n",
       "      <td>...</td>\n",
       "      <td>...</td>\n",
       "      <td>...</td>\n",
       "    </tr>\n",
       "    <tr>\n",
       "      <th>concat+max_wn_concept_prone</th>\n",
       "      <td>1.014755</td>\n",
       "      <td>0.892376</td>\n",
       "      <td>0.328208</td>\n",
       "      <td>0.389716</td>\n",
       "      <td>1.070955</td>\n",
       "      <td>0.984173</td>\n",
       "      <td>concat+max_wn-concept_prone</td>\n",
       "      <td>concat+max</td>\n",
       "      <td>wn-concept</td>\n",
       "      <td>prone</td>\n",
       "    </tr>\n",
       "    <tr>\n",
       "      <th>concat+sum_wn_concept_ggvc</th>\n",
       "      <td>1.039044</td>\n",
       "      <td>0.897689</td>\n",
       "      <td>0.532810</td>\n",
       "      <td>0.443800</td>\n",
       "      <td>1.062454</td>\n",
       "      <td>0.949518</td>\n",
       "      <td>concat+sum_wn-concept_ggvc</td>\n",
       "      <td>concat+sum</td>\n",
       "      <td>wn-concept</td>\n",
       "      <td>ggvc</td>\n",
       "    </tr>\n",
       "    <tr>\n",
       "      <th>concat+sum_wn_concept_glove</th>\n",
       "      <td>1.015992</td>\n",
       "      <td>0.883640</td>\n",
       "      <td>0.494826</td>\n",
       "      <td>0.440546</td>\n",
       "      <td>1.042691</td>\n",
       "      <td>0.938958</td>\n",
       "      <td>concat+sum_wn-concept_glove</td>\n",
       "      <td>concat+sum</td>\n",
       "      <td>wn-concept</td>\n",
       "      <td>glove</td>\n",
       "    </tr>\n",
       "    <tr>\n",
       "      <th>concat+sum_wn_concept_node2vec</th>\n",
       "      <td>1.014458</td>\n",
       "      <td>0.892100</td>\n",
       "      <td>0.326603</td>\n",
       "      <td>0.389607</td>\n",
       "      <td>1.070939</td>\n",
       "      <td>0.984267</td>\n",
       "      <td>concat+sum_wn-concept_node2vec</td>\n",
       "      <td>concat+sum</td>\n",
       "      <td>wn-concept</td>\n",
       "      <td>node2vec</td>\n",
       "    </tr>\n",
       "    <tr>\n",
       "      <th>concat+sum_wn_concept_prone</th>\n",
       "      <td>1.009999</td>\n",
       "      <td>0.889149</td>\n",
       "      <td>0.342130</td>\n",
       "      <td>0.393742</td>\n",
       "      <td>1.063608</td>\n",
       "      <td>0.976116</td>\n",
       "      <td>concat+sum_wn-concept_prone</td>\n",
       "      <td>concat+sum</td>\n",
       "      <td>wn-concept</td>\n",
       "      <td>prone</td>\n",
       "    </tr>\n",
       "  </tbody>\n",
       "</table>\n",
       "<p>72 rows × 10 columns</p>\n",
       "</div>"
      ],
      "text/plain": [
       "                                line_all  word_all  line_mono  word_mono  \\\n",
       "add+avg_clics_ggvc              0.949246  0.833460   0.569606   0.381506   \n",
       "add+avg_clics_glove             0.970682  0.865892   0.507808   0.341320   \n",
       "add+avg_clics_node2vec          0.971835  0.866385   0.370579   0.267355   \n",
       "add+avg_clics_prone             0.981066  0.877272   0.447243   0.311735   \n",
       "add+max_clics_ggvc              0.992770  0.891858   0.368981   0.267199   \n",
       "...                                  ...       ...        ...        ...   \n",
       "concat+max_wn_concept_prone     1.014755  0.892376   0.328208   0.389716   \n",
       "concat+sum_wn_concept_ggvc      1.039044  0.897689   0.532810   0.443800   \n",
       "concat+sum_wn_concept_glove     1.015992  0.883640   0.494826   0.440546   \n",
       "concat+sum_wn_concept_node2vec  1.014458  0.892100   0.326603   0.389607   \n",
       "concat+sum_wn_concept_prone     1.009999  0.889149   0.342130   0.393742   \n",
       "\n",
       "                                line_cross  word_cross  \\\n",
       "add+avg_clics_ggvc                0.950305    0.869315   \n",
       "add+avg_clics_glove               0.973002    0.899502   \n",
       "add+avg_clics_node2vec            0.987081    0.936621   \n",
       "add+avg_clics_prone               0.987132    0.919904   \n",
       "add+max_clics_ggvc                1.004015    0.947849   \n",
       "...                                    ...         ...   \n",
       "concat+max_wn_concept_prone       1.070955    0.984173   \n",
       "concat+sum_wn_concept_ggvc        1.062454    0.949518   \n",
       "concat+sum_wn_concept_glove       1.042691    0.938958   \n",
       "concat+sum_wn_concept_node2vec    1.070939    0.984267   \n",
       "concat+sum_wn_concept_prone       1.063608    0.976116   \n",
       "\n",
       "                                                          name         cal  \\\n",
       "add+avg_clics_ggvc                          add+avg_clics_ggvc     add+avg   \n",
       "add+avg_clics_glove                        add+avg_clics_glove     add+avg   \n",
       "add+avg_clics_node2vec                  add+avg_clics_node2vec     add+avg   \n",
       "add+avg_clics_prone                        add+avg_clics_prone     add+avg   \n",
       "add+max_clics_ggvc                          add+max_clics_ggvc     add+max   \n",
       "...                                                        ...         ...   \n",
       "concat+max_wn_concept_prone        concat+max_wn-concept_prone  concat+max   \n",
       "concat+sum_wn_concept_ggvc          concat+sum_wn-concept_ggvc  concat+sum   \n",
       "concat+sum_wn_concept_glove        concat+sum_wn-concept_glove  concat+sum   \n",
       "concat+sum_wn_concept_node2vec  concat+sum_wn-concept_node2vec  concat+sum   \n",
       "concat+sum_wn_concept_prone        concat+sum_wn-concept_prone  concat+sum   \n",
       "\n",
       "                                  database embedding  \n",
       "add+avg_clics_ggvc                   clics      ggvc  \n",
       "add+avg_clics_glove                  clics     glove  \n",
       "add+avg_clics_node2vec               clics  node2vec  \n",
       "add+avg_clics_prone                  clics     prone  \n",
       "add+max_clics_ggvc                   clics      ggvc  \n",
       "...                                    ...       ...  \n",
       "concat+max_wn_concept_prone     wn-concept     prone  \n",
       "concat+sum_wn_concept_ggvc      wn-concept      ggvc  \n",
       "concat+sum_wn_concept_glove     wn-concept     glove  \n",
       "concat+sum_wn_concept_node2vec  wn-concept  node2vec  \n",
       "concat+sum_wn_concept_prone     wn-concept     prone  \n",
       "\n",
       "[72 rows x 10 columns]"
      ]
     },
     "execution_count": 97,
     "metadata": {},
     "output_type": "execute_result"
    }
   ],
   "source": [
    "df_inversion"
   ]
  },
  {
   "cell_type": "code",
   "execution_count": 98,
   "id": "18e8fb20-de81-41c7-ab9f-9e47dbf16760",
   "metadata": {
    "execution": {
     "iopub.execute_input": "2024-10-10T15:18:28.731450Z",
     "iopub.status.busy": "2024-10-10T15:18:28.730658Z",
     "iopub.status.idle": "2024-10-10T15:18:28.743646Z",
     "shell.execute_reply": "2024-10-10T15:18:28.741862Z",
     "shell.execute_reply.started": "2024-10-10T15:18:28.731412Z"
    }
   },
   "outputs": [],
   "source": [
    "df_inversion.to_csv(\"../results/inversion_language_confusion/kl_divergence/inversion_l2l_kl_colex2lang.csv\")"
   ]
  },
  {
   "cell_type": "code",
   "execution_count": null,
   "id": "6ffdcbcf-57a5-4207-a3dc-1d5e7b97470c",
   "metadata": {},
   "outputs": [],
   "source": []
  },
  {
   "cell_type": "code",
   "execution_count": null,
   "id": "35dd784c-6a03-4a01-b505-78de7526e476",
   "metadata": {},
   "outputs": [],
   "source": []
  },
  {
   "cell_type": "markdown",
   "id": "ff5db33b-f348-4d8b-9752-0fc65710da40",
   "metadata": {
    "execution": {
     "iopub.execute_input": "2024-10-10T14:20:32.268459Z",
     "iopub.status.busy": "2024-10-10T14:20:32.267751Z",
     "iopub.status.idle": "2024-10-10T14:20:32.279731Z",
     "shell.execute_reply": "2024-10-10T14:20:32.275285Z",
     "shell.execute_reply.started": "2024-10-10T14:20:32.268423Z"
    },
    "jp-MarkdownHeadingCollapsed": true
   },
   "source": [
    "# various language embeddings (ostling 2023)"
   ]
  },
  {
   "cell_type": "markdown",
   "id": "ce172ec9-783a-4486-a4c9-eee7468d03b1",
   "metadata": {},
   "source": [
    "# LCB results"
   ]
  },
  {
   "cell_type": "code",
   "execution_count": 12,
   "id": "4f4ad7a9-43f7-4905-8ee8-60a611e3e723",
   "metadata": {
    "execution": {
     "iopub.execute_input": "2024-10-10T14:44:42.723742Z",
     "iopub.status.busy": "2024-10-10T14:44:42.723230Z",
     "iopub.status.idle": "2024-10-10T14:44:42.798375Z",
     "shell.execute_reply": "2024-10-10T14:44:42.787944Z",
     "shell.execute_reply.started": "2024-10-10T14:44:42.723711Z"
    }
   },
   "outputs": [],
   "source": [
    "df_line_mono = get_kl_df(\"../results/prompting_language_confusion/kl_divergence/line/monolingual/ostling\")\n",
    "df_line_cross= get_kl_df(\"../results/prompting_language_confusion/kl_divergence/line/crosslingual/ostling\")\n",
    "df_line_all = get_kl_df(\"../results/prompting_language_confusion/kl_divergence/line/all/ostling\")"
   ]
  },
  {
   "cell_type": "code",
   "execution_count": 13,
   "id": "88b2437d-0e33-435e-8ca8-ab138763e5c0",
   "metadata": {
    "execution": {
     "iopub.execute_input": "2024-10-10T14:44:43.131184Z",
     "iopub.status.busy": "2024-10-10T14:44:43.127011Z",
     "iopub.status.idle": "2024-10-10T14:44:43.210845Z",
     "shell.execute_reply": "2024-10-10T14:44:43.197991Z",
     "shell.execute_reply.started": "2024-10-10T14:44:43.131048Z"
    }
   },
   "outputs": [],
   "source": [
    "df_line_mono_mean = get_result(df_line_mono, \"line_mono\")\n",
    "df_line_cross_mean = get_result(df_line_cross, \"line_cross\")\n",
    "df_line_all_mean = get_result(df_line_all, \"line_all\")"
   ]
  },
  {
   "cell_type": "code",
   "execution_count": 14,
   "id": "b24f74ed-88a4-4192-81a7-617ea7280d27",
   "metadata": {
    "execution": {
     "iopub.execute_input": "2024-10-10T14:44:43.502459Z",
     "iopub.status.busy": "2024-10-10T14:44:43.497884Z",
     "iopub.status.idle": "2024-10-10T14:44:43.548561Z",
     "shell.execute_reply": "2024-10-10T14:44:43.535119Z",
     "shell.execute_reply.started": "2024-10-10T14:44:43.502030Z"
    }
   },
   "outputs": [],
   "source": [
    "df_line = pd.concat([df_line_all_mean,df_line_mono_mean,df_line_cross_mean],axis=1)"
   ]
  },
  {
   "cell_type": "code",
   "execution_count": 15,
   "id": "871a083f-6f3c-4a6e-80bb-92d2546156da",
   "metadata": {
    "execution": {
     "iopub.execute_input": "2024-10-10T14:44:43.973715Z",
     "iopub.status.busy": "2024-10-10T14:44:43.969446Z",
     "iopub.status.idle": "2024-10-10T14:44:44.075131Z",
     "shell.execute_reply": "2024-10-10T14:44:44.060531Z",
     "shell.execute_reply.started": "2024-10-10T14:44:43.973533Z"
    }
   },
   "outputs": [],
   "source": [
    "df_word_mono = get_kl_df(\"../results/prompting_language_confusion/kl_divergence/word/monolingual/ostling\")\n",
    "df_word_cross= get_kl_df(\"../results/prompting_language_confusion/kl_divergence/word/crosslingual/ostling\")\n",
    "df_word_all = get_kl_df(\"../results/prompting_language_confusion/kl_divergence/word/all/ostling\")\n",
    "df_word_mono_mean = get_result(df_word_mono, \"word_mono\")\n",
    "df_word_cross_mean = get_result(df_word_cross, \"word_cross\")\n",
    "df_word_all_mean = get_result(df_word_all, \"word_all\")\n"
   ]
  },
  {
   "cell_type": "code",
   "execution_count": 16,
   "id": "34126e93-a768-4238-9fde-a16cd5fe5d28",
   "metadata": {
    "execution": {
     "iopub.execute_input": "2024-10-10T14:44:44.485195Z",
     "iopub.status.busy": "2024-10-10T14:44:44.484600Z",
     "iopub.status.idle": "2024-10-10T14:44:44.514457Z",
     "shell.execute_reply": "2024-10-10T14:44:44.507940Z",
     "shell.execute_reply.started": "2024-10-10T14:44:44.485158Z"
    }
   },
   "outputs": [],
   "source": [
    "df_word = pd.concat([df_word_all_mean,df_word_mono_mean,df_word_cross_mean],axis=1)"
   ]
  },
  {
   "cell_type": "code",
   "execution_count": 17,
   "id": "482ef0af-eef9-46c5-9c5d-f27af2ef3f0d",
   "metadata": {
    "execution": {
     "iopub.execute_input": "2024-10-10T14:44:51.015230Z",
     "iopub.status.busy": "2024-10-10T14:44:51.012558Z",
     "iopub.status.idle": "2024-10-10T14:44:51.055894Z",
     "shell.execute_reply": "2024-10-10T14:44:51.046078Z",
     "shell.execute_reply.started": "2024-10-10T14:44:51.015045Z"
    }
   },
   "outputs": [],
   "source": [
    "df_lcb = pd.concat([df_line, df_word], axis=1)"
   ]
  },
  {
   "cell_type": "code",
   "execution_count": 18,
   "id": "4bbc109c-697b-4815-8cf2-a085abf48935",
   "metadata": {
    "execution": {
     "iopub.execute_input": "2024-10-10T14:44:51.716251Z",
     "iopub.status.busy": "2024-10-10T14:44:51.715744Z",
     "iopub.status.idle": "2024-10-10T14:44:51.758024Z",
     "shell.execute_reply": "2024-10-10T14:44:51.753448Z",
     "shell.execute_reply.started": "2024-10-10T14:44:51.716217Z"
    }
   },
   "outputs": [],
   "source": [
    "df_lcb.to_csv(\"../results/prompting_language_confusion/kl_divergence/lcb_l2l_kl_ostling.csv\")"
   ]
  },
  {
   "cell_type": "code",
   "execution_count": 19,
   "id": "57391b69-f0eb-497e-9c6c-aa9b41eef81e",
   "metadata": {
    "execution": {
     "iopub.execute_input": "2024-10-10T14:44:55.283299Z",
     "iopub.status.busy": "2024-10-10T14:44:55.280739Z",
     "iopub.status.idle": "2024-10-10T14:44:55.353833Z",
     "shell.execute_reply": "2024-10-10T14:44:55.349449Z",
     "shell.execute_reply.started": "2024-10-10T14:44:55.283244Z"
    }
   },
   "outputs": [
    {
     "data": {
      "text/html": [
       "<div>\n",
       "<style scoped>\n",
       "    .dataframe tbody tr th:only-of-type {\n",
       "        vertical-align: middle;\n",
       "    }\n",
       "\n",
       "    .dataframe tbody tr th {\n",
       "        vertical-align: top;\n",
       "    }\n",
       "\n",
       "    .dataframe thead th {\n",
       "        text-align: right;\n",
       "    }\n",
       "</style>\n",
       "<table border=\"1\" class=\"dataframe\">\n",
       "  <thead>\n",
       "    <tr style=\"text-align: right;\">\n",
       "      <th></th>\n",
       "      <th>line_all</th>\n",
       "      <th>line_mono</th>\n",
       "      <th>line_cross</th>\n",
       "      <th>word_all</th>\n",
       "      <th>word_mono</th>\n",
       "      <th>word_cross</th>\n",
       "    </tr>\n",
       "  </thead>\n",
       "  <tbody>\n",
       "    <tr>\n",
       "      <th>malaviya_mtcell.lang</th>\n",
       "      <td>0.029846</td>\n",
       "      <td>0.053898</td>\n",
       "      <td>0.028152</td>\n",
       "      <td>0.873547</td>\n",
       "      <td>0.694447</td>\n",
       "      <td>1.109005</td>\n",
       "    </tr>\n",
       "    <tr>\n",
       "      <th>ostling2017_l3.lang</th>\n",
       "      <td>0.053420</td>\n",
       "      <td>0.098095</td>\n",
       "      <td>0.052307</td>\n",
       "      <td>0.960107</td>\n",
       "      <td>0.933630</td>\n",
       "      <td>1.255763</td>\n",
       "    </tr>\n",
       "    <tr>\n",
       "      <th>malaviya_mtboth.lang</th>\n",
       "      <td>0.031912</td>\n",
       "      <td>0.059451</td>\n",
       "      <td>0.030302</td>\n",
       "      <td>0.824079</td>\n",
       "      <td>0.645875</td>\n",
       "      <td>1.060593</td>\n",
       "    </tr>\n",
       "    <tr>\n",
       "      <th>asjp_svd.lang</th>\n",
       "      <td>0.025310</td>\n",
       "      <td>0.052172</td>\n",
       "      <td>0.022487</td>\n",
       "      <td>1.059690</td>\n",
       "      <td>1.039483</td>\n",
       "      <td>1.316355</td>\n",
       "    </tr>\n",
       "    <tr>\n",
       "      <th>ostling2017_l2.lang</th>\n",
       "      <td>0.049662</td>\n",
       "      <td>0.091833</td>\n",
       "      <td>0.045195</td>\n",
       "      <td>0.974883</td>\n",
       "      <td>0.953631</td>\n",
       "      <td>1.271027</td>\n",
       "    </tr>\n",
       "    <tr>\n",
       "      <th>malaviya_mtvec.lang</th>\n",
       "      <td>0.043229</td>\n",
       "      <td>0.082921</td>\n",
       "      <td>0.042198</td>\n",
       "      <td>0.814004</td>\n",
       "      <td>0.636065</td>\n",
       "      <td>1.051180</td>\n",
       "    </tr>\n",
       "    <tr>\n",
       "      <th>ostling2017_l1.lang</th>\n",
       "      <td>0.050439</td>\n",
       "      <td>0.091975</td>\n",
       "      <td>0.048253</td>\n",
       "      <td>0.984258</td>\n",
       "      <td>0.961554</td>\n",
       "      <td>1.281904</td>\n",
       "    </tr>\n",
       "    <tr>\n",
       "      <th>asjp_umap.lang</th>\n",
       "      <td>0.099366</td>\n",
       "      <td>0.128987</td>\n",
       "      <td>0.094604</td>\n",
       "      <td>1.676668</td>\n",
       "      <td>1.605528</td>\n",
       "      <td>1.985577</td>\n",
       "    </tr>\n",
       "    <tr>\n",
       "      <th>ostling2017_all.lang</th>\n",
       "      <td>0.047069</td>\n",
       "      <td>0.089955</td>\n",
       "      <td>0.045032</td>\n",
       "      <td>0.967303</td>\n",
       "      <td>0.943715</td>\n",
       "      <td>1.264077</td>\n",
       "    </tr>\n",
       "  </tbody>\n",
       "</table>\n",
       "</div>"
      ],
      "text/plain": [
       "                      line_all  line_mono  line_cross  word_all  word_mono  \\\n",
       "malaviya_mtcell.lang  0.029846   0.053898    0.028152  0.873547   0.694447   \n",
       "ostling2017_l3.lang   0.053420   0.098095    0.052307  0.960107   0.933630   \n",
       "malaviya_mtboth.lang  0.031912   0.059451    0.030302  0.824079   0.645875   \n",
       "asjp_svd.lang         0.025310   0.052172    0.022487  1.059690   1.039483   \n",
       "ostling2017_l2.lang   0.049662   0.091833    0.045195  0.974883   0.953631   \n",
       "malaviya_mtvec.lang   0.043229   0.082921    0.042198  0.814004   0.636065   \n",
       "ostling2017_l1.lang   0.050439   0.091975    0.048253  0.984258   0.961554   \n",
       "asjp_umap.lang        0.099366   0.128987    0.094604  1.676668   1.605528   \n",
       "ostling2017_all.lang  0.047069   0.089955    0.045032  0.967303   0.943715   \n",
       "\n",
       "                      word_cross  \n",
       "malaviya_mtcell.lang    1.109005  \n",
       "ostling2017_l3.lang     1.255763  \n",
       "malaviya_mtboth.lang    1.060593  \n",
       "asjp_svd.lang           1.316355  \n",
       "ostling2017_l2.lang     1.271027  \n",
       "malaviya_mtvec.lang     1.051180  \n",
       "ostling2017_l1.lang     1.281904  \n",
       "asjp_umap.lang          1.985577  \n",
       "ostling2017_all.lang    1.264077  "
      ]
     },
     "execution_count": 19,
     "metadata": {},
     "output_type": "execute_result"
    }
   ],
   "source": [
    "df_lcb"
   ]
  },
  {
   "cell_type": "markdown",
   "id": "7528a14c-aa31-4bf7-90f6-82f2a75c5b2e",
   "metadata": {},
   "source": [
    "# Inversion results"
   ]
  },
  {
   "cell_type": "code",
   "execution_count": 20,
   "id": "ebcd1971-8eb1-4e40-8795-36e1d9b16e74",
   "metadata": {
    "execution": {
     "iopub.execute_input": "2024-10-10T14:45:10.768175Z",
     "iopub.status.busy": "2024-10-10T14:45:10.762860Z",
     "iopub.status.idle": "2024-10-10T14:45:10.823955Z",
     "shell.execute_reply": "2024-10-10T14:45:10.820324Z",
     "shell.execute_reply.started": "2024-10-10T14:45:10.768119Z"
    }
   },
   "outputs": [],
   "source": [
    "df_line_mono = get_kl_df(\"../results/inversion_language_confusion/kl_divergence/line/monolingual/ostling\")\n",
    "df_line_cross= get_kl_df(\"../results/inversion_language_confusion/kl_divergence/line/crosslingual/ostling\")\n",
    "df_line_all = get_kl_df(\"../results/inversion_language_confusion/kl_divergence/line/all/ostling\")"
   ]
  },
  {
   "cell_type": "code",
   "execution_count": 21,
   "id": "bd2b1f20-1818-4023-a51b-1b401e46f75e",
   "metadata": {
    "execution": {
     "iopub.execute_input": "2024-10-10T14:45:11.964906Z",
     "iopub.status.busy": "2024-10-10T14:45:11.961302Z",
     "iopub.status.idle": "2024-10-10T14:45:12.030430Z",
     "shell.execute_reply": "2024-10-10T14:45:12.024397Z",
     "shell.execute_reply.started": "2024-10-10T14:45:11.964675Z"
    }
   },
   "outputs": [],
   "source": [
    "df_line_mono_mean = get_result(df_line_mono, \"line_mono\")\n",
    "df_line_cross_mean = get_result(df_line_cross, \"line_cross\")\n",
    "df_line_all_mean = get_result(df_line_all, \"line_all\")"
   ]
  },
  {
   "cell_type": "code",
   "execution_count": null,
   "id": "e46a82d0-633c-41f9-beb8-73da44d840bf",
   "metadata": {},
   "outputs": [],
   "source": []
  },
  {
   "cell_type": "code",
   "execution_count": 22,
   "id": "292d2e1a-a0bc-41b4-9d6f-5cb0f424f7c8",
   "metadata": {
    "execution": {
     "iopub.execute_input": "2024-10-10T14:45:13.380581Z",
     "iopub.status.busy": "2024-10-10T14:45:13.377997Z",
     "iopub.status.idle": "2024-10-10T14:45:13.422822Z",
     "shell.execute_reply": "2024-10-10T14:45:13.418290Z",
     "shell.execute_reply.started": "2024-10-10T14:45:13.380244Z"
    }
   },
   "outputs": [],
   "source": [
    "df_line = pd.concat([df_line_all_mean,df_line_mono_mean,df_line_cross_mean],axis=1)"
   ]
  },
  {
   "cell_type": "code",
   "execution_count": 23,
   "id": "674082a2-7946-4d28-a199-e9b61dd6bac1",
   "metadata": {
    "execution": {
     "iopub.execute_input": "2024-10-10T14:45:15.193757Z",
     "iopub.status.busy": "2024-10-10T14:45:15.190923Z",
     "iopub.status.idle": "2024-10-10T14:45:15.316971Z",
     "shell.execute_reply": "2024-10-10T14:45:15.302882Z",
     "shell.execute_reply.started": "2024-10-10T14:45:15.193706Z"
    }
   },
   "outputs": [
    {
     "data": {
      "text/html": [
       "<div>\n",
       "<style scoped>\n",
       "    .dataframe tbody tr th:only-of-type {\n",
       "        vertical-align: middle;\n",
       "    }\n",
       "\n",
       "    .dataframe tbody tr th {\n",
       "        vertical-align: top;\n",
       "    }\n",
       "\n",
       "    .dataframe thead th {\n",
       "        text-align: right;\n",
       "    }\n",
       "</style>\n",
       "<table border=\"1\" class=\"dataframe\">\n",
       "  <thead>\n",
       "    <tr style=\"text-align: right;\">\n",
       "      <th></th>\n",
       "      <th>line_all</th>\n",
       "      <th>line_mono</th>\n",
       "      <th>line_cross</th>\n",
       "    </tr>\n",
       "  </thead>\n",
       "  <tbody>\n",
       "    <tr>\n",
       "      <th>malaviya_mtcell.lang</th>\n",
       "      <td>4.739387</td>\n",
       "      <td>NaN</td>\n",
       "      <td>5.953235</td>\n",
       "    </tr>\n",
       "    <tr>\n",
       "      <th>ostling2017_l3.lang</th>\n",
       "      <td>5.468587</td>\n",
       "      <td>0.113758</td>\n",
       "      <td>7.168920</td>\n",
       "    </tr>\n",
       "    <tr>\n",
       "      <th>malaviya_mtboth.lang</th>\n",
       "      <td>4.678914</td>\n",
       "      <td>NaN</td>\n",
       "      <td>5.905440</td>\n",
       "    </tr>\n",
       "    <tr>\n",
       "      <th>asjp_svd.lang</th>\n",
       "      <td>2.972972</td>\n",
       "      <td>0.082040</td>\n",
       "      <td>3.888161</td>\n",
       "    </tr>\n",
       "    <tr>\n",
       "      <th>ostling2017_l2.lang</th>\n",
       "      <td>5.414934</td>\n",
       "      <td>0.142114</td>\n",
       "      <td>7.115818</td>\n",
       "    </tr>\n",
       "    <tr>\n",
       "      <th>malaviya_mtvec.lang</th>\n",
       "      <td>4.656705</td>\n",
       "      <td>NaN</td>\n",
       "      <td>5.893863</td>\n",
       "    </tr>\n",
       "    <tr>\n",
       "      <th>ostling2017_l1.lang</th>\n",
       "      <td>5.397260</td>\n",
       "      <td>0.283716</td>\n",
       "      <td>7.111707</td>\n",
       "    </tr>\n",
       "    <tr>\n",
       "      <th>asjp_umap.lang</th>\n",
       "      <td>3.536364</td>\n",
       "      <td>0.081144</td>\n",
       "      <td>4.369015</td>\n",
       "    </tr>\n",
       "    <tr>\n",
       "      <th>ostling2017_all.lang</th>\n",
       "      <td>5.417466</td>\n",
       "      <td>0.148200</td>\n",
       "      <td>7.123957</td>\n",
       "    </tr>\n",
       "  </tbody>\n",
       "</table>\n",
       "</div>"
      ],
      "text/plain": [
       "                      line_all  line_mono  line_cross\n",
       "malaviya_mtcell.lang  4.739387        NaN    5.953235\n",
       "ostling2017_l3.lang   5.468587   0.113758    7.168920\n",
       "malaviya_mtboth.lang  4.678914        NaN    5.905440\n",
       "asjp_svd.lang         2.972972   0.082040    3.888161\n",
       "ostling2017_l2.lang   5.414934   0.142114    7.115818\n",
       "malaviya_mtvec.lang   4.656705        NaN    5.893863\n",
       "ostling2017_l1.lang   5.397260   0.283716    7.111707\n",
       "asjp_umap.lang        3.536364   0.081144    4.369015\n",
       "ostling2017_all.lang  5.417466   0.148200    7.123957"
      ]
     },
     "execution_count": 23,
     "metadata": {},
     "output_type": "execute_result"
    }
   ],
   "source": [
    "df_line"
   ]
  },
  {
   "cell_type": "code",
   "execution_count": 24,
   "id": "0f04999d-007b-4f25-b943-c148876f63f7",
   "metadata": {
    "execution": {
     "iopub.execute_input": "2024-10-10T14:45:16.642898Z",
     "iopub.status.busy": "2024-10-10T14:45:16.635696Z",
     "iopub.status.idle": "2024-10-10T14:45:16.724134Z",
     "shell.execute_reply": "2024-10-10T14:45:16.720063Z",
     "shell.execute_reply.started": "2024-10-10T14:45:16.642868Z"
    }
   },
   "outputs": [],
   "source": [
    "df_word_mono = get_kl_df(\"../results/inversion_language_confusion/kl_divergence/word/monolingual/ostling\")\n",
    "df_word_cross= get_kl_df(\"../results/inversion_language_confusion/kl_divergence/word/crosslingual/ostling\")\n",
    "df_word_all = get_kl_df(\"../results/inversion_language_confusion/kl_divergence/word/all/ostling\")\n",
    "df_word_mono_mean = get_result(df_word_mono, \"word_mono\")\n",
    "df_word_cross_mean = get_result(df_word_cross, \"word_cross\")\n",
    "df_word_all_mean = get_result(df_word_all, \"word_all\")\n"
   ]
  },
  {
   "cell_type": "code",
   "execution_count": 25,
   "id": "cace0fe0-8320-4ada-8918-8c9c777afb3e",
   "metadata": {
    "execution": {
     "iopub.execute_input": "2024-10-10T14:45:17.082188Z",
     "iopub.status.busy": "2024-10-10T14:45:17.081242Z",
     "iopub.status.idle": "2024-10-10T14:45:17.124687Z",
     "shell.execute_reply": "2024-10-10T14:45:17.117945Z",
     "shell.execute_reply.started": "2024-10-10T14:45:17.081909Z"
    }
   },
   "outputs": [],
   "source": [
    "df_word = pd.concat([df_word_all_mean,df_word_mono_mean,df_word_cross_mean],axis=1)"
   ]
  },
  {
   "cell_type": "code",
   "execution_count": 26,
   "id": "65600d4a-b805-4de5-aa61-02852abc6e8d",
   "metadata": {
    "execution": {
     "iopub.execute_input": "2024-10-10T14:45:17.500916Z",
     "iopub.status.busy": "2024-10-10T14:45:17.499409Z",
     "iopub.status.idle": "2024-10-10T14:45:17.551469Z",
     "shell.execute_reply": "2024-10-10T14:45:17.545602Z",
     "shell.execute_reply.started": "2024-10-10T14:45:17.500863Z"
    }
   },
   "outputs": [],
   "source": [
    "df_inversion = pd.concat([df_line, df_word], axis=1)"
   ]
  },
  {
   "cell_type": "code",
   "execution_count": 27,
   "id": "26d92fc9-4b61-4e95-9379-d8d5feea9f5f",
   "metadata": {
    "execution": {
     "iopub.execute_input": "2024-10-10T14:45:17.922338Z",
     "iopub.status.busy": "2024-10-10T14:45:17.919571Z",
     "iopub.status.idle": "2024-10-10T14:45:18.023672Z",
     "shell.execute_reply": "2024-10-10T14:45:18.008366Z",
     "shell.execute_reply.started": "2024-10-10T14:45:17.922024Z"
    }
   },
   "outputs": [
    {
     "data": {
      "text/html": [
       "<div>\n",
       "<style scoped>\n",
       "    .dataframe tbody tr th:only-of-type {\n",
       "        vertical-align: middle;\n",
       "    }\n",
       "\n",
       "    .dataframe tbody tr th {\n",
       "        vertical-align: top;\n",
       "    }\n",
       "\n",
       "    .dataframe thead th {\n",
       "        text-align: right;\n",
       "    }\n",
       "</style>\n",
       "<table border=\"1\" class=\"dataframe\">\n",
       "  <thead>\n",
       "    <tr style=\"text-align: right;\">\n",
       "      <th></th>\n",
       "      <th>line_all</th>\n",
       "      <th>line_mono</th>\n",
       "      <th>line_cross</th>\n",
       "      <th>word_all</th>\n",
       "      <th>word_mono</th>\n",
       "      <th>word_cross</th>\n",
       "    </tr>\n",
       "  </thead>\n",
       "  <tbody>\n",
       "    <tr>\n",
       "      <th>malaviya_mtcell.lang</th>\n",
       "      <td>4.739387</td>\n",
       "      <td>NaN</td>\n",
       "      <td>5.953235</td>\n",
       "      <td>5.091153</td>\n",
       "      <td>3.584299</td>\n",
       "      <td>6.084145</td>\n",
       "    </tr>\n",
       "    <tr>\n",
       "      <th>ostling2017_l3.lang</th>\n",
       "      <td>5.468587</td>\n",
       "      <td>0.113758</td>\n",
       "      <td>7.168920</td>\n",
       "      <td>6.024214</td>\n",
       "      <td>1.694396</td>\n",
       "      <td>7.789528</td>\n",
       "    </tr>\n",
       "    <tr>\n",
       "      <th>malaviya_mtboth.lang</th>\n",
       "      <td>4.678914</td>\n",
       "      <td>NaN</td>\n",
       "      <td>5.905440</td>\n",
       "      <td>5.080520</td>\n",
       "      <td>3.538767</td>\n",
       "      <td>6.072827</td>\n",
       "    </tr>\n",
       "    <tr>\n",
       "      <th>asjp_svd.lang</th>\n",
       "      <td>2.972972</td>\n",
       "      <td>0.082040</td>\n",
       "      <td>3.888161</td>\n",
       "      <td>3.346137</td>\n",
       "      <td>1.656772</td>\n",
       "      <td>5.006330</td>\n",
       "    </tr>\n",
       "    <tr>\n",
       "      <th>ostling2017_l2.lang</th>\n",
       "      <td>5.414934</td>\n",
       "      <td>0.142114</td>\n",
       "      <td>7.115818</td>\n",
       "      <td>5.968402</td>\n",
       "      <td>1.701941</td>\n",
       "      <td>7.729641</td>\n",
       "    </tr>\n",
       "    <tr>\n",
       "      <th>malaviya_mtvec.lang</th>\n",
       "      <td>4.656705</td>\n",
       "      <td>NaN</td>\n",
       "      <td>5.893863</td>\n",
       "      <td>5.076366</td>\n",
       "      <td>3.528260</td>\n",
       "      <td>6.069259</td>\n",
       "    </tr>\n",
       "    <tr>\n",
       "      <th>ostling2017_l1.lang</th>\n",
       "      <td>5.397260</td>\n",
       "      <td>0.283716</td>\n",
       "      <td>7.111707</td>\n",
       "      <td>5.983613</td>\n",
       "      <td>1.712514</td>\n",
       "      <td>7.748182</td>\n",
       "    </tr>\n",
       "    <tr>\n",
       "      <th>asjp_umap.lang</th>\n",
       "      <td>3.536364</td>\n",
       "      <td>0.081144</td>\n",
       "      <td>4.369015</td>\n",
       "      <td>4.024536</td>\n",
       "      <td>2.347851</td>\n",
       "      <td>5.571102</td>\n",
       "    </tr>\n",
       "    <tr>\n",
       "      <th>ostling2017_all.lang</th>\n",
       "      <td>5.417466</td>\n",
       "      <td>0.148200</td>\n",
       "      <td>7.123957</td>\n",
       "      <td>5.988516</td>\n",
       "      <td>1.691614</td>\n",
       "      <td>7.752509</td>\n",
       "    </tr>\n",
       "  </tbody>\n",
       "</table>\n",
       "</div>"
      ],
      "text/plain": [
       "                      line_all  line_mono  line_cross  word_all  word_mono  \\\n",
       "malaviya_mtcell.lang  4.739387        NaN    5.953235  5.091153   3.584299   \n",
       "ostling2017_l3.lang   5.468587   0.113758    7.168920  6.024214   1.694396   \n",
       "malaviya_mtboth.lang  4.678914        NaN    5.905440  5.080520   3.538767   \n",
       "asjp_svd.lang         2.972972   0.082040    3.888161  3.346137   1.656772   \n",
       "ostling2017_l2.lang   5.414934   0.142114    7.115818  5.968402   1.701941   \n",
       "malaviya_mtvec.lang   4.656705        NaN    5.893863  5.076366   3.528260   \n",
       "ostling2017_l1.lang   5.397260   0.283716    7.111707  5.983613   1.712514   \n",
       "asjp_umap.lang        3.536364   0.081144    4.369015  4.024536   2.347851   \n",
       "ostling2017_all.lang  5.417466   0.148200    7.123957  5.988516   1.691614   \n",
       "\n",
       "                      word_cross  \n",
       "malaviya_mtcell.lang    6.084145  \n",
       "ostling2017_l3.lang     7.789528  \n",
       "malaviya_mtboth.lang    6.072827  \n",
       "asjp_svd.lang           5.006330  \n",
       "ostling2017_l2.lang     7.729641  \n",
       "malaviya_mtvec.lang     6.069259  \n",
       "ostling2017_l1.lang     7.748182  \n",
       "asjp_umap.lang          5.571102  \n",
       "ostling2017_all.lang    7.752509  "
      ]
     },
     "execution_count": 27,
     "metadata": {},
     "output_type": "execute_result"
    }
   ],
   "source": [
    "df_inversion"
   ]
  },
  {
   "cell_type": "code",
   "execution_count": 28,
   "id": "648c2a33-3a5b-4a7e-a58e-a0f1929ba22d",
   "metadata": {
    "execution": {
     "iopub.execute_input": "2024-10-10T14:45:19.869632Z",
     "iopub.status.busy": "2024-10-10T14:45:19.869103Z",
     "iopub.status.idle": "2024-10-10T14:45:19.920437Z",
     "shell.execute_reply": "2024-10-10T14:45:19.915037Z",
     "shell.execute_reply.started": "2024-10-10T14:45:19.869599Z"
    }
   },
   "outputs": [],
   "source": [
    "df_inversion.to_csv(\"../results/inversion_language_confusion/kl_divergence/inversion_l2l_kl_ostling.csv\")"
   ]
  },
  {
   "cell_type": "code",
   "execution_count": null,
   "id": "fe44d9d1-ef59-4dac-9e75-47b15e27f4ca",
   "metadata": {},
   "outputs": [],
   "source": []
  },
  {
   "cell_type": "code",
   "execution_count": null,
   "id": "c94b0457-4837-4bdf-8929-ee2f257c5fb6",
   "metadata": {},
   "outputs": [],
   "source": []
  },
  {
   "cell_type": "markdown",
   "id": "2e12f9de-edd9-400b-8a09-8a4c969753a7",
   "metadata": {},
   "source": [
    "# TYPOLOGICAL FEATURES"
   ]
  },
  {
   "cell_type": "code",
   "execution_count": null,
   "id": "c4b1a550-6309-4d26-bade-20027227f240",
   "metadata": {},
   "outputs": [],
   "source": []
  },
  {
   "cell_type": "markdown",
   "id": "08227ae2-70a1-4f55-8970-6b35827747f8",
   "metadata": {},
   "source": [
    "# LCB results"
   ]
  },
  {
   "cell_type": "code",
   "execution_count": 132,
   "id": "44ebd428-ef88-4273-9fd6-682ec0cd4ee2",
   "metadata": {
    "execution": {
     "iopub.execute_input": "2024-10-10T18:41:40.996017Z",
     "iopub.status.busy": "2024-10-10T18:41:40.995331Z",
     "iopub.status.idle": "2024-10-10T18:41:41.045892Z",
     "shell.execute_reply": "2024-10-10T18:41:41.043007Z",
     "shell.execute_reply.started": "2024-10-10T18:41:40.995983Z"
    }
   },
   "outputs": [],
   "source": [
    "df_line_mono = get_kl_df(\"../results/prompting_language_confusion/kl_divergence/line/monolingual\")\n",
    "df_line_cross= get_kl_df(\"../results/prompting_language_confusion/kl_divergence/line/crosslingual\")\n",
    "df_line_all = get_kl_df(\"../results/prompting_language_confusion/kl_divergence/line/all\")"
   ]
  },
  {
   "cell_type": "code",
   "execution_count": 136,
   "id": "fcc8db35-7ce4-4399-a1f8-8b98dd3ac10c",
   "metadata": {
    "execution": {
     "iopub.execute_input": "2024-10-10T18:41:59.727099Z",
     "iopub.status.busy": "2024-10-10T18:41:59.726287Z",
     "iopub.status.idle": "2024-10-10T18:41:59.743730Z",
     "shell.execute_reply": "2024-10-10T18:41:59.742051Z",
     "shell.execute_reply.started": "2024-10-10T18:41:59.727065Z"
    }
   },
   "outputs": [],
   "source": [
    "df_line_mono_mean = get_result(df_line_mono, \"line_mono\")\n",
    "df_line_cross_mean = get_result(df_line_cross, \"line_cross\")\n",
    "df_line_all_mean = get_result(df_line_all, \"line_all\")"
   ]
  },
  {
   "cell_type": "code",
   "execution_count": 137,
   "id": "70214a86-cce4-41a8-ac50-48ce086a0776",
   "metadata": {
    "execution": {
     "iopub.execute_input": "2024-10-10T18:42:00.432964Z",
     "iopub.status.busy": "2024-10-10T18:42:00.432251Z",
     "iopub.status.idle": "2024-10-10T18:42:00.441480Z",
     "shell.execute_reply": "2024-10-10T18:42:00.439121Z",
     "shell.execute_reply.started": "2024-10-10T18:42:00.432894Z"
    }
   },
   "outputs": [],
   "source": [
    "df_line = pd.concat([df_line_all_mean,df_line_mono_mean,df_line_cross_mean],axis=1)"
   ]
  },
  {
   "cell_type": "code",
   "execution_count": 138,
   "id": "f61f0ed4-9685-435f-93c5-192c2249c347",
   "metadata": {
    "execution": {
     "iopub.execute_input": "2024-10-10T18:42:00.953541Z",
     "iopub.status.busy": "2024-10-10T18:42:00.952857Z",
     "iopub.status.idle": "2024-10-10T18:42:01.009897Z",
     "shell.execute_reply": "2024-10-10T18:42:01.008186Z",
     "shell.execute_reply.started": "2024-10-10T18:42:00.953503Z"
    }
   },
   "outputs": [],
   "source": [
    "df_word_mono = get_kl_df(\"../results/prompting_language_confusion/kl_divergence/word/monolingual\")\n",
    "df_word_cross= get_kl_df(\"../results/prompting_language_confusion/kl_divergence/word/crosslingual\")\n",
    "df_word_all = get_kl_df(\"../results/prompting_language_confusion/kl_divergence/word/all\")\n",
    "df_word_mono_mean = get_result(df_word_mono, \"word_mono\")\n",
    "df_word_cross_mean = get_result(df_word_cross, \"word_cross\")\n",
    "df_word_all_mean = get_result(df_word_all, \"word_all\")\n"
   ]
  },
  {
   "cell_type": "code",
   "execution_count": 139,
   "id": "181ffd6a-b295-4a4f-8d69-0d754f483bb0",
   "metadata": {
    "execution": {
     "iopub.execute_input": "2024-10-10T18:42:02.159757Z",
     "iopub.status.busy": "2024-10-10T18:42:02.159235Z",
     "iopub.status.idle": "2024-10-10T18:42:02.168083Z",
     "shell.execute_reply": "2024-10-10T18:42:02.166040Z",
     "shell.execute_reply.started": "2024-10-10T18:42:02.159724Z"
    }
   },
   "outputs": [],
   "source": [
    "df_word = pd.concat([df_word_all_mean,df_word_mono_mean,df_word_cross_mean],axis=1)"
   ]
  },
  {
   "cell_type": "code",
   "execution_count": 140,
   "id": "92a5584f-ce59-457e-a829-326f8aa793c0",
   "metadata": {
    "execution": {
     "iopub.execute_input": "2024-10-10T18:42:02.524502Z",
     "iopub.status.busy": "2024-10-10T18:42:02.523442Z",
     "iopub.status.idle": "2024-10-10T18:42:02.533270Z",
     "shell.execute_reply": "2024-10-10T18:42:02.530972Z",
     "shell.execute_reply.started": "2024-10-10T18:42:02.523961Z"
    }
   },
   "outputs": [],
   "source": [
    "df_lcb = pd.concat([df_line, df_word], axis=1)"
   ]
  },
  {
   "cell_type": "code",
   "execution_count": 108,
   "id": "b8cf3a90-66fe-42ef-8a28-79ffca661c02",
   "metadata": {
    "execution": {
     "iopub.execute_input": "2024-10-10T11:11:41.539473Z",
     "iopub.status.busy": "2024-10-10T11:11:41.538669Z",
     "iopub.status.idle": "2024-10-10T11:11:41.552210Z",
     "shell.execute_reply": "2024-10-10T11:11:41.550912Z",
     "shell.execute_reply.started": "2024-10-10T11:11:41.539437Z"
    }
   },
   "outputs": [],
   "source": [
    "df_inversion.to_csv(\"../results/prompting_language_confusion/kl_divergence/lcb_l2l_kl.csv\")"
   ]
  },
  {
   "cell_type": "code",
   "execution_count": null,
   "id": "7e35f32e-ad9b-401c-aef0-c054ae991886",
   "metadata": {},
   "outputs": [],
   "source": []
  },
  {
   "cell_type": "code",
   "execution_count": null,
   "id": "893676f3-5b33-40ac-b3b3-ba6673ee831e",
   "metadata": {},
   "outputs": [],
   "source": []
  },
  {
   "cell_type": "code",
   "execution_count": null,
   "id": "4e070a6b-57b9-4c3b-94e7-bc68eced4284",
   "metadata": {},
   "outputs": [],
   "source": []
  },
  {
   "cell_type": "code",
   "execution_count": null,
   "id": "2a3a31a2-7f7c-41a2-9ed1-29765e2494bc",
   "metadata": {},
   "outputs": [],
   "source": []
  },
  {
   "cell_type": "markdown",
   "id": "0c5b185e-bacc-4daa-a825-deb7fd87ff6e",
   "metadata": {},
   "source": [
    "# Inversion results"
   ]
  },
  {
   "cell_type": "code",
   "execution_count": 109,
   "id": "aab1bd19-17ef-4680-85b1-a887b2d2ad0d",
   "metadata": {
    "execution": {
     "iopub.execute_input": "2024-10-10T11:11:44.988110Z",
     "iopub.status.busy": "2024-10-10T11:11:44.987593Z",
     "iopub.status.idle": "2024-10-10T11:11:45.046541Z",
     "shell.execute_reply": "2024-10-10T11:11:45.042232Z",
     "shell.execute_reply.started": "2024-10-10T11:11:44.988075Z"
    }
   },
   "outputs": [],
   "source": [
    "df_line_mono = get_kl_df(\"../results/inversion_language_confusion/kl_divergence/line/monolingual\")\n",
    "df_line_cross= get_kl_df(\"../results/inversion_language_confusion/kl_divergence/line/crosslingual\")\n",
    "df_line_all = get_kl_df(\"../results/inversion_language_confusion/kl_divergence/line/all\")"
   ]
  },
  {
   "cell_type": "code",
   "execution_count": 110,
   "id": "e92fdc38-4b70-479a-8edc-9f7f17719b6e",
   "metadata": {
    "execution": {
     "iopub.execute_input": "2024-10-10T11:11:45.304806Z",
     "iopub.status.busy": "2024-10-10T11:11:45.304302Z",
     "iopub.status.idle": "2024-10-10T11:11:45.364381Z",
     "shell.execute_reply": "2024-10-10T11:11:45.353232Z",
     "shell.execute_reply.started": "2024-10-10T11:11:45.304772Z"
    }
   },
   "outputs": [],
   "source": [
    "df_line_mono_mean = get_result(df_line_mono, \"line_mono\")\n",
    "df_line_cross_mean = get_result(df_line_cross, \"line_cross\")\n",
    "df_line_all_mean = get_result(df_line_all, \"line_all\")"
   ]
  },
  {
   "cell_type": "code",
   "execution_count": 111,
   "id": "a53fbb15-33ec-4960-8f69-b4b2adf7e6d7",
   "metadata": {
    "execution": {
     "iopub.execute_input": "2024-10-10T11:11:45.552853Z",
     "iopub.status.busy": "2024-10-10T11:11:45.552210Z",
     "iopub.status.idle": "2024-10-10T11:11:45.567665Z",
     "shell.execute_reply": "2024-10-10T11:11:45.566141Z",
     "shell.execute_reply.started": "2024-10-10T11:11:45.552817Z"
    }
   },
   "outputs": [],
   "source": [
    "df_line = pd.concat([df_line_all_mean,df_line_mono_mean,df_line_cross_mean],axis=1)"
   ]
  },
  {
   "cell_type": "code",
   "execution_count": null,
   "id": "445268e6-a59b-459a-a3b8-ab32f29e28b3",
   "metadata": {},
   "outputs": [],
   "source": []
  },
  {
   "cell_type": "code",
   "execution_count": 112,
   "id": "0a7faab3-d8f1-49c0-abbb-2d7a325efaf7",
   "metadata": {
    "execution": {
     "iopub.execute_input": "2024-10-10T11:11:46.291253Z",
     "iopub.status.busy": "2024-10-10T11:11:46.289740Z",
     "iopub.status.idle": "2024-10-10T11:11:46.364697Z",
     "shell.execute_reply": "2024-10-10T11:11:46.361381Z",
     "shell.execute_reply.started": "2024-10-10T11:11:46.291209Z"
    }
   },
   "outputs": [],
   "source": [
    "df_word_mono = get_kl_df(\"../results/inversion_language_confusion/kl_divergence/word/monolingual\")\n",
    "df_word_cross= get_kl_df(\"../results/inversion_language_confusion/kl_divergence/word/crosslingual\")\n",
    "df_word_all = get_kl_df(\"../results/inversion_language_confusion/kl_divergence/word/all\")\n",
    "df_word_mono_mean = get_result(df_word_mono, \"word_mono\")\n",
    "df_word_cross_mean = get_result(df_word_cross, \"word_cross\")\n",
    "df_word_all_mean = get_result(df_word_all, \"word_all\")\n"
   ]
  },
  {
   "cell_type": "code",
   "execution_count": 113,
   "id": "34fd9612-5b69-4da9-9e3e-a459f39c9111",
   "metadata": {
    "execution": {
     "iopub.execute_input": "2024-10-10T11:11:46.708210Z",
     "iopub.status.busy": "2024-10-10T11:11:46.704039Z",
     "iopub.status.idle": "2024-10-10T11:11:46.742245Z",
     "shell.execute_reply": "2024-10-10T11:11:46.734549Z",
     "shell.execute_reply.started": "2024-10-10T11:11:46.706687Z"
    }
   },
   "outputs": [],
   "source": [
    "df_word = pd.concat([df_word_all_mean,df_word_mono_mean,df_word_cross_mean],axis=1)"
   ]
  },
  {
   "cell_type": "code",
   "execution_count": 114,
   "id": "de13a844-7cf9-4bbe-9eab-c909b8c71c67",
   "metadata": {
    "execution": {
     "iopub.execute_input": "2024-10-10T11:11:47.124414Z",
     "iopub.status.busy": "2024-10-10T11:11:47.123612Z",
     "iopub.status.idle": "2024-10-10T11:11:47.142405Z",
     "shell.execute_reply": "2024-10-10T11:11:47.141028Z",
     "shell.execute_reply.started": "2024-10-10T11:11:47.124375Z"
    }
   },
   "outputs": [],
   "source": [
    "df_inversion = pd.concat([df_line, df_word], axis=1)"
   ]
  },
  {
   "cell_type": "code",
   "execution_count": 115,
   "id": "a23a8609-9093-455a-93ca-daa60d383fee",
   "metadata": {
    "execution": {
     "iopub.execute_input": "2024-10-10T11:11:47.616488Z",
     "iopub.status.busy": "2024-10-10T11:11:47.615858Z",
     "iopub.status.idle": "2024-10-10T11:11:47.633427Z",
     "shell.execute_reply": "2024-10-10T11:11:47.630742Z",
     "shell.execute_reply.started": "2024-10-10T11:11:47.616450Z"
    }
   },
   "outputs": [],
   "source": [
    "df_inversion.to_csv(\"../results/inversion_language_confusion/kl_divergence/inversion_l2l_kl.csv\")"
   ]
  },
  {
   "cell_type": "code",
   "execution_count": null,
   "id": "1851c79f-b1f0-4db3-a6b1-33e5fed53a0d",
   "metadata": {},
   "outputs": [],
   "source": []
  },
  {
   "cell_type": "code",
   "execution_count": null,
   "id": "71c32d51-5a74-4698-9d9c-47785e2df1e5",
   "metadata": {},
   "outputs": [],
   "source": []
  },
  {
   "cell_type": "code",
   "execution_count": null,
   "id": "930df416-81f8-4600-a0ca-d0fc123164fb",
   "metadata": {},
   "outputs": [],
   "source": []
  },
  {
   "cell_type": "code",
   "execution_count": null,
   "id": "3b8ee680-8bd9-4b0d-87c4-719266445f39",
   "metadata": {},
   "outputs": [],
   "source": []
  }
 ],
 "metadata": {
  "kernelspec": {
   "display_name": "envlc",
   "language": "python",
   "name": "envlc"
  },
  "language_info": {
   "codemirror_mode": {
    "name": "ipython",
    "version": 3
   },
   "file_extension": ".py",
   "mimetype": "text/x-python",
   "name": "python",
   "nbconvert_exporter": "python",
   "pygments_lexer": "ipython3",
   "version": "3.12.0"
  }
 },
 "nbformat": 4,
 "nbformat_minor": 5
}
