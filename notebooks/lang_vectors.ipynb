{
 "cells": [
  {
   "cell_type": "code",
   "execution_count": 18,
   "id": "0c356087-321e-463c-bb37-c1aa1997a17c",
   "metadata": {
    "execution": {
     "iopub.execute_input": "2024-10-10T13:59:14.321754Z",
     "iopub.status.busy": "2024-10-10T13:59:14.321164Z",
     "iopub.status.idle": "2024-10-10T13:59:14.333053Z",
     "shell.execute_reply": "2024-10-10T13:59:14.331680Z",
     "shell.execute_reply.started": "2024-10-10T13:59:14.321721Z"
    }
   },
   "outputs": [],
   "source": [
    "import pandas as pd\n",
    "import json\n",
    "import numpy as np\n",
    "from sklearn.metrics.pairwise import cosine_similarity\n",
    "import os"
   ]
  },
  {
   "cell_type": "code",
   "execution_count": 23,
   "id": "3769f630-6867-4cd7-a54c-1d7b3fc9340c",
   "metadata": {
    "execution": {
     "iopub.execute_input": "2024-10-10T14:05:03.105360Z",
     "iopub.status.busy": "2024-10-10T14:05:03.104847Z",
     "iopub.status.idle": "2024-10-10T14:05:03.115729Z",
     "shell.execute_reply": "2024-10-10T14:05:03.114246Z",
     "shell.execute_reply.started": "2024-10-10T14:05:03.105326Z"
    }
   },
   "outputs": [],
   "source": [
    "def calculate_cosine_similarity(filepath):\n",
    "    \n",
    "    with open(filepath, \"r\") as f:\n",
    "        next(f)\n",
    "        data = [line.strip().split() for line in f]\n",
    "    print(filepath)\n",
    "    languages = [item[0] for item in data]\n",
    "    vectors = [list(map(float, item[1:])) for item in data]\n",
    "    df = pd.DataFrame(vectors, index=languages)\n",
    "    cosine_sim_matrix = cosine_similarity(df)\n",
    "    cosine_sim_df = pd.DataFrame(cosine_sim_matrix, index=df.index, columns=df.index)\n",
    "    normalized_cosine_sim_df = (cosine_sim_df + 1) / 2\n",
    "    return normalized_cosine_sim_df"
   ]
  },
  {
   "cell_type": "code",
   "execution_count": null,
   "id": "f25e3e15-aa8d-41f5-b814-dc72816b03d5",
   "metadata": {},
   "outputs": [],
   "source": []
  },
  {
   "cell_type": "code",
   "execution_count": 25,
   "id": "b41345d7-ce6e-4c9c-99cc-08e35b0b3166",
   "metadata": {
    "execution": {
     "iopub.execute_input": "2024-10-10T14:36:33.329248Z",
     "iopub.status.busy": "2024-10-10T14:36:33.328663Z",
     "iopub.status.idle": "2024-10-10T14:42:44.886101Z",
     "shell.execute_reply": "2024-10-10T14:42:44.880215Z",
     "shell.execute_reply.started": "2024-10-10T14:36:33.329214Z"
    }
   },
   "outputs": [
    {
     "name": "stdout",
     "output_type": "stream",
     "text": [
      "../datasets/colex2lang/concat+sum/wn_ggvc_embeddings\n",
      "../datasets/colex2lang/concat+sum/wn_concept_node2vec_embeddings\n",
      "../datasets/colex2lang/concat+sum/wn_node2vec_embeddings\n",
      "../datasets/colex2lang/concat+sum/clics_glove_embeddings\n",
      "../datasets/colex2lang/concat+sum/wn_glove_embeddings\n",
      "../datasets/colex2lang/concat+sum/wn_concept_prone_embeddings\n",
      "../datasets/colex2lang/concat+sum/clics_ggvc_embeddings\n",
      "../datasets/colex2lang/concat+sum/clics_node2vec_embeddings\n",
      "../datasets/colex2lang/concat+sum/clics_prone_embeddings\n",
      "../datasets/colex2lang/concat+sum/wn_prone_embeddings\n",
      "../datasets/colex2lang/concat+sum/wn_concept_glove_embeddings\n",
      "../datasets/colex2lang/concat+sum/wn_concept_ggvc_embeddings\n",
      "../datasets/colex2lang/add+avg/wn_ggvc_embeddings\n",
      "../datasets/colex2lang/add+avg/wn_concept_node2vec_embeddings\n",
      "../datasets/colex2lang/add+avg/wn_node2vec_embeddings\n",
      "../datasets/colex2lang/add+avg/clics_glove_embeddings\n",
      "../datasets/colex2lang/add+avg/wn_glove_embeddings\n",
      "../datasets/colex2lang/add+avg/wn_concept_prone_embeddings\n",
      "../datasets/colex2lang/add+avg/clics_ggvc_embeddings\n",
      "../datasets/colex2lang/add+avg/clics_node2vec_embeddings\n",
      "../datasets/colex2lang/add+avg/clics_prone_embeddings\n",
      "../datasets/colex2lang/add+avg/wn_prone_embeddings\n",
      "../datasets/colex2lang/add+avg/wn_concept_glove_embeddings\n",
      "../datasets/colex2lang/add+avg/wn_concept_ggvc_embeddings\n",
      "../datasets/colex2lang/concat+max/wn_ggvc_embeddings\n",
      "../datasets/colex2lang/concat+max/wn_concept_node2vec_embeddings\n",
      "../datasets/colex2lang/concat+max/wn_node2vec_embeddings\n",
      "../datasets/colex2lang/concat+max/clics_glove_embeddings\n",
      "../datasets/colex2lang/concat+max/wn_glove_embeddings\n",
      "../datasets/colex2lang/concat+max/wn_concept_prone_embeddings\n",
      "../datasets/colex2lang/concat+max/clics_ggvc_embeddings\n",
      "../datasets/colex2lang/concat+max/clics_node2vec_embeddings\n",
      "../datasets/colex2lang/concat+max/clics_prone_embeddings\n",
      "../datasets/colex2lang/concat+max/wn_prone_embeddings\n",
      "../datasets/colex2lang/concat+max/wn_concept_glove_embeddings\n",
      "../datasets/colex2lang/concat+max/wn_concept_ggvc_embeddings\n",
      "../datasets/colex2lang/add+sum/wn_ggvc_embeddings\n",
      "../datasets/colex2lang/add+sum/wn_concept_node2vec_embeddings\n",
      "../datasets/colex2lang/add+sum/wn_node2vec_embeddings\n",
      "../datasets/colex2lang/add+sum/clics_glove_embeddings\n",
      "../datasets/colex2lang/add+sum/wn_glove_embeddings\n",
      "../datasets/colex2lang/add+sum/wn_concept_prone_embeddings\n",
      "../datasets/colex2lang/add+sum/clics_ggvc_embeddings\n",
      "../datasets/colex2lang/add+sum/clics_node2vec_embeddings\n",
      "../datasets/colex2lang/add+sum/clics_prone_embeddings\n",
      "../datasets/colex2lang/add+sum/wn_prone_embeddings\n",
      "../datasets/colex2lang/add+sum/wn_concept_glove_embeddings\n",
      "../datasets/colex2lang/add+sum/wn_concept_ggvc_embeddings\n",
      "../datasets/colex2lang/concat+avg/wn_ggvc_embeddings\n",
      "../datasets/colex2lang/concat+avg/wn_concept_node2vec_embeddings\n",
      "../datasets/colex2lang/concat+avg/wn_node2vec_embeddings\n",
      "../datasets/colex2lang/concat+avg/clics_glove_embeddings\n",
      "../datasets/colex2lang/concat+avg/wn_glove_embeddings\n",
      "../datasets/colex2lang/concat+avg/wn_concept_prone_embeddings\n",
      "../datasets/colex2lang/concat+avg/clics_ggvc_embeddings\n",
      "../datasets/colex2lang/concat+avg/clics_node2vec_embeddings\n",
      "../datasets/colex2lang/concat+avg/clics_prone_embeddings\n",
      "../datasets/colex2lang/concat+avg/wn_prone_embeddings\n",
      "../datasets/colex2lang/concat+avg/wn_concept_glove_embeddings\n",
      "../datasets/colex2lang/concat+avg/wn_concept_ggvc_embeddings\n",
      "../datasets/colex2lang/add+max/wn_ggvc_embeddings\n",
      "../datasets/colex2lang/add+max/wn_concept_node2vec_embeddings\n",
      "../datasets/colex2lang/add+max/wn_node2vec_embeddings\n",
      "../datasets/colex2lang/add+max/clics_glove_embeddings\n",
      "../datasets/colex2lang/add+max/wn_glove_embeddings\n",
      "../datasets/colex2lang/add+max/wn_concept_prone_embeddings\n",
      "../datasets/colex2lang/add+max/clics_ggvc_embeddings\n",
      "../datasets/colex2lang/add+max/clics_node2vec_embeddings\n",
      "../datasets/colex2lang/add+max/clics_prone_embeddings\n",
      "../datasets/colex2lang/add+max/wn_prone_embeddings\n",
      "../datasets/colex2lang/add+max/wn_concept_glove_embeddings\n",
      "../datasets/colex2lang/add+max/wn_concept_ggvc_embeddings\n"
     ]
    }
   ],
   "source": [
    "\n",
    "\n",
    "for dirn in os.listdir(\"../datasets/colex2lang\"):\n",
    "    dir_path = os.path.join(\"../datasets/colex2lang\", dirn)\n",
    "    for file in os.listdir(dir_path):\n",
    "        filepath = os.path.join(dir_path, file)\n",
    "        sim_df = calculate_cosine_similarity(filepath)\n",
    "        new_filepath = os.path.join(f\"../datasets/colex2lang_sim/{dirn}_{file.replace('_embeddings','')}.csv\")\n",
    "        sim_df.to_csv(new_filepath)"
   ]
  },
  {
   "cell_type": "code",
   "execution_count": null,
   "id": "dd1083c0-0959-4a76-be25-83ce071b0b13",
   "metadata": {},
   "outputs": [],
   "source": []
  },
  {
   "cell_type": "code",
   "execution_count": null,
   "id": "43ad9587-8047-4497-9a49-b22d8ebb954b",
   "metadata": {},
   "outputs": [],
   "source": []
  },
  {
   "cell_type": "code",
   "execution_count": null,
   "id": "6c816bb6-bb59-4c4a-82c5-34928bb2399a",
   "metadata": {},
   "outputs": [],
   "source": []
  },
  {
   "cell_type": "code",
   "execution_count": null,
   "id": "54b656eb-766c-4e6e-9898-0d6eae3c6205",
   "metadata": {},
   "outputs": [],
   "source": []
  },
  {
   "cell_type": "code",
   "execution_count": 24,
   "id": "4e849860-241e-48d8-a5e0-ab0cc1bb93bc",
   "metadata": {
    "execution": {
     "iopub.execute_input": "2024-10-10T14:05:03.861818Z",
     "iopub.status.busy": "2024-10-10T14:05:03.860526Z",
     "iopub.status.idle": "2024-10-10T14:05:52.958482Z",
     "shell.execute_reply": "2024-10-10T14:05:52.956024Z",
     "shell.execute_reply.started": "2024-10-10T14:05:03.861775Z"
    }
   },
   "outputs": [
    {
     "name": "stdout",
     "output_type": "stream",
     "text": [
      "../datasets/language-vectors/asjp_umap.lang\n",
      "../datasets/language-vectors/ostling2017_l2.lang\n",
      "../datasets/language-vectors/asjp_svd.lang\n",
      "../datasets/language-vectors/malaviya_mtvec.lang\n",
      "../datasets/language-vectors/ostling2017_l3.lang\n",
      "../datasets/language-vectors/malaviya_mtboth.lang\n",
      "../datasets/language-vectors/ostling2017_all.lang\n",
      "../datasets/language-vectors/malaviya_mtcell.lang\n",
      "../datasets/language-vectors/ostling2017_l1.lang\n"
     ]
    }
   ],
   "source": [
    "for file in os.listdir(\"../datasets/language-vectors\"):\n",
    "    filepath = os.path.join(\"../datasets/language-vectors\", file)\n",
    "    sim_df= calculate_cosine_similarity(filepath)\n",
    "    sim_df.to_csv(f\"../datasets/ostling_lang2sim/{file}.csv\")"
   ]
  },
  {
   "cell_type": "code",
   "execution_count": null,
   "id": "2df8a308-37c9-4df1-9fd7-74a46ee56480",
   "metadata": {},
   "outputs": [],
   "source": []
  },
  {
   "cell_type": "code",
   "execution_count": null,
   "id": "5d579a4b-a319-4788-89e4-4c6b5081e297",
   "metadata": {},
   "outputs": [],
   "source": []
  }
 ],
 "metadata": {
  "kernelspec": {
   "display_name": "envlc",
   "language": "python",
   "name": "envlc"
  },
  "language_info": {
   "codemirror_mode": {
    "name": "ipython",
    "version": 3
   },
   "file_extension": ".py",
   "mimetype": "text/x-python",
   "name": "python",
   "nbconvert_exporter": "python",
   "pygments_lexer": "ipython3",
   "version": "3.12.0"
  }
 },
 "nbformat": 4,
 "nbformat_minor": 5
}
