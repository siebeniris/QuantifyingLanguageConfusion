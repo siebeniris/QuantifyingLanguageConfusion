{
 "cells": [
  {
   "cell_type": "code",
   "execution_count": 188,
   "id": "f0702dfc-9f7f-4a3c-8351-7ce3f858c6aa",
   "metadata": {
    "execution": {
     "iopub.execute_input": "2024-10-01T11:38:25.854338Z",
     "iopub.status.busy": "2024-10-01T11:38:25.851926Z",
     "iopub.status.idle": "2024-10-01T11:38:25.872644Z",
     "shell.execute_reply": "2024-10-01T11:38:25.871773Z",
     "shell.execute_reply.started": "2024-10-01T11:38:25.854250Z"
    }
   },
   "outputs": [],
   "source": [
    "import pandas as pd\n",
    "import numpy as np\n",
    "import yaml\n",
    "import seaborn as sns\n",
    "import matplotlib.pyplot as plt\n",
    "from ast import literal_eval\n",
    "from collections import defaultdict\n",
    "import os\n",
    "from tqdm import tqdm\n",
    "from scipy.stats import entropy\n",
    "%matplotlib inline"
   ]
  },
  {
   "cell_type": "markdown",
   "id": "3ed1f0d3-4093-466a-91a3-cd2cecfe56a7",
   "metadata": {
    "execution": {
     "iopub.execute_input": "2024-09-30T12:15:17.142447Z",
     "iopub.status.busy": "2024-09-30T12:15:17.142262Z",
     "iopub.status.idle": "2024-09-30T12:15:17.145559Z",
     "shell.execute_reply": "2024-09-30T12:15:17.144797Z",
     "shell.execute_reply.started": "2024-09-30T12:15:17.142433Z"
    }
   },
   "source": [
    "# Look at the predicted languages from multilingual models at line level"
   ]
  },
  {
   "cell_type": "code",
   "execution_count": 189,
   "id": "62c70f6b-0dd4-4739-879f-fd0e5ed987ac",
   "metadata": {
    "execution": {
     "iopub.execute_input": "2024-10-01T11:38:26.790238Z",
     "iopub.status.busy": "2024-10-01T11:38:26.788355Z",
     "iopub.status.idle": "2024-10-01T11:38:26.819729Z",
     "shell.execute_reply": "2024-10-01T11:38:26.818783Z",
     "shell.execute_reply.started": "2024-10-01T11:38:26.790154Z"
    }
   },
   "outputs": [
    {
     "name": "stdout",
     "output_type": "stream",
     "text": [
      "multilingual_eval_token_set_f1_base_inverter.csv\n",
      "multilingual_eval_token_set_f1_step1_corrector.csv\n",
      "multilingual_eval_token_set_f1_step50_sbeam8_corrector.csv\n"
     ]
    }
   ],
   "source": [
    "df_tokenf1_mult_list = []\n",
    "for file in os.listdir(\"../datasets/inversion_language_confusion/inversion_results/\"):\n",
    "    if file.startswith(\"multilingual_eval_token_set_f1_\") and file.endswith(\".csv\"):\n",
    "        step= file.replace(\"multilingual_eval_token_set_f1_\", \"\").replace(\".csv\",\"\").replace(\"_inverter\",\"\").replace(\"_corrector\",\"\")\n",
    "        step2name = {\"base\":\"Base\", \"step1\":\"Step1\", \"step50_sbeam8\":\"Step50+sbeam8\"}\n",
    "        print(file)\n",
    "        df_ = pd.read_csv(os.path.join(\"../datasets/inversion_language_confusion/inversion_results/\", file))\n",
    "        df_[\"step\"] = step2name[step]\n",
    "        \n",
    "        df_tokenf1_mult_list.append(df_)"
   ]
  },
  {
   "cell_type": "code",
   "execution_count": 190,
   "id": "d9730310-4515-4cac-8b03-43e3576be673",
   "metadata": {
    "execution": {
     "iopub.execute_input": "2024-10-01T11:38:27.148745Z",
     "iopub.status.busy": "2024-10-01T11:38:27.147220Z",
     "iopub.status.idle": "2024-10-01T11:38:27.164175Z",
     "shell.execute_reply": "2024-10-01T11:38:27.163186Z",
     "shell.execute_reply.started": "2024-10-01T11:38:27.148675Z"
    }
   },
   "outputs": [],
   "source": [
    "df_tokenf1_mult=pd.concat(df_tokenf1_mult_list)"
   ]
  },
  {
   "cell_type": "code",
   "execution_count": 191,
   "id": "10238e25-9b33-4485-b5e0-f80a6eacdc2e",
   "metadata": {
    "execution": {
     "iopub.execute_input": "2024-10-01T11:38:27.457112Z",
     "iopub.status.busy": "2024-10-01T11:38:27.456024Z",
     "iopub.status.idle": "2024-10-01T11:38:27.470410Z",
     "shell.execute_reply": "2024-10-01T11:38:27.469449Z",
     "shell.execute_reply.started": "2024-10-01T11:38:27.457047Z"
    }
   },
   "outputs": [],
   "source": [
    "df_tokenf1_mult.rename(columns={\"Unnamed: 0\":\"model\"}, inplace=True)"
   ]
  },
  {
   "cell_type": "code",
   "execution_count": 192,
   "id": "7b1576fb-c18a-4261-b652-cfd488dfe4d9",
   "metadata": {
    "execution": {
     "iopub.execute_input": "2024-10-01T11:38:27.659195Z",
     "iopub.status.busy": "2024-10-01T11:38:27.657151Z",
     "iopub.status.idle": "2024-10-01T11:38:27.676263Z",
     "shell.execute_reply": "2024-10-01T11:38:27.675462Z",
     "shell.execute_reply.started": "2024-10-01T11:38:27.659096Z"
    },
    "scrolled": true
   },
   "outputs": [
    {
     "data": {
      "text/plain": [
       "{'Base', 'Step1', 'Step50+sbeam8'}"
      ]
     },
     "execution_count": 192,
     "metadata": {},
     "output_type": "execute_result"
    }
   ],
   "source": [
    "set(df_tokenf1_mult[\"step\"].tolist())"
   ]
  },
  {
   "cell_type": "code",
   "execution_count": 193,
   "id": "d1a359a7-c687-4524-8c25-f6502cdab270",
   "metadata": {
    "execution": {
     "iopub.execute_input": "2024-10-01T11:38:27.865373Z",
     "iopub.status.busy": "2024-10-01T11:38:27.864078Z",
     "iopub.status.idle": "2024-10-01T11:38:27.886068Z",
     "shell.execute_reply": "2024-10-01T11:38:27.884389Z",
     "shell.execute_reply.started": "2024-10-01T11:38:27.865293Z"
    }
   },
   "outputs": [],
   "source": [
    "def replace_string(x):\n",
    "    return x.replace(\"mt5_\",\"\").replace(\"_32_2layers_inverter\",\"\").replace(\"_32_2layers_corrector\", \"\")"
   ]
  },
  {
   "cell_type": "code",
   "execution_count": 194,
   "id": "dbe034d2-832f-40ab-900f-29dcdb721f54",
   "metadata": {
    "execution": {
     "iopub.execute_input": "2024-10-01T11:38:28.295243Z",
     "iopub.status.busy": "2024-10-01T11:38:28.294060Z",
     "iopub.status.idle": "2024-10-01T11:38:28.310769Z",
     "shell.execute_reply": "2024-10-01T11:38:28.308131Z",
     "shell.execute_reply.started": "2024-10-01T11:38:28.295183Z"
    }
   },
   "outputs": [],
   "source": [
    "df_tokenf1_mult[\"model_name\"]=df_tokenf1_mult[\"model\"].apply(replace_string)"
   ]
  },
  {
   "cell_type": "code",
   "execution_count": 195,
   "id": "e21264e0-48cc-48e8-8858-857f7bd8d419",
   "metadata": {
    "execution": {
     "iopub.execute_input": "2024-10-01T11:38:28.861960Z",
     "iopub.status.busy": "2024-10-01T11:38:28.860879Z",
     "iopub.status.idle": "2024-10-01T11:38:28.877366Z",
     "shell.execute_reply": "2024-10-01T11:38:28.875945Z",
     "shell.execute_reply.started": "2024-10-01T11:38:28.861906Z"
    }
   },
   "outputs": [],
   "source": [
    "df_tokenf1_mult[\"model_name\"]= df_tokenf1_mult[\"model_name\"].replace({\"me5_ara-script\":'me5_arab-script'})"
   ]
  },
  {
   "cell_type": "code",
   "execution_count": null,
   "id": "92b5929e-af77-4592-b5db-291800e538c0",
   "metadata": {},
   "outputs": [],
   "source": []
  },
  {
   "cell_type": "markdown",
   "id": "6c024d59-8f37-4c12-a6cc-489053774e28",
   "metadata": {},
   "source": [
    "# bleu score"
   ]
  },
  {
   "cell_type": "code",
   "execution_count": 196,
   "id": "b684e30d-d500-43c2-8f2a-a3eed5beb32e",
   "metadata": {
    "execution": {
     "iopub.execute_input": "2024-10-01T11:38:44.624430Z",
     "iopub.status.busy": "2024-10-01T11:38:44.622659Z",
     "iopub.status.idle": "2024-10-01T11:38:44.654133Z",
     "shell.execute_reply": "2024-10-01T11:38:44.653460Z",
     "shell.execute_reply.started": "2024-10-01T11:38:44.624341Z"
    }
   },
   "outputs": [
    {
     "name": "stdout",
     "output_type": "stream",
     "text": [
      "multilingual_eval_bleu_score_step50_sbeam8_corrector.csv\n",
      "multilingual_eval_bleu_score_step1_corrector.csv\n",
      "multilingual_eval_bleu_score_base_inverter.csv\n"
     ]
    }
   ],
   "source": [
    "df_bleu_mult_list = []\n",
    "for file in os.listdir(\"../datasets/inversion_language_confusion/inversion_results/\"):\n",
    "    if file.startswith(\"multilingual_eval_bleu_score\") and file.endswith(\".csv\"):\n",
    "        step= file.replace(\"multilingual_eval_bleu_score_\", \"\").replace(\".csv\",\"\").replace(\"_inverter\",\"\").replace(\"_corrector\",\"\")\n",
    "        step2name = {\"base\":\"Base\", \"step1\":\"Step1\", \"step50_sbeam8\":\"Step50+sbeam8\"}\n",
    "        print(file)\n",
    "        df_ = pd.read_csv(os.path.join(\"../datasets/inversion_language_confusion/inversion_results/\", file))\n",
    "        df_[\"step\"] = step2name[step]\n",
    "        \n",
    "        df_bleu_mult_list.append(df_)"
   ]
  },
  {
   "cell_type": "code",
   "execution_count": 197,
   "id": "3abd2ee1-24b8-43fc-855e-28f8ba5ad7f9",
   "metadata": {
    "execution": {
     "iopub.execute_input": "2024-10-01T11:38:44.837700Z",
     "iopub.status.busy": "2024-10-01T11:38:44.836316Z",
     "iopub.status.idle": "2024-10-01T11:38:44.853720Z",
     "shell.execute_reply": "2024-10-01T11:38:44.852855Z",
     "shell.execute_reply.started": "2024-10-01T11:38:44.837622Z"
    }
   },
   "outputs": [],
   "source": [
    "df_bleu_mult=pd.concat(df_bleu_mult_list, axis=0)"
   ]
  },
  {
   "cell_type": "code",
   "execution_count": 198,
   "id": "e6c99fba-087e-4227-8138-7af726170619",
   "metadata": {
    "execution": {
     "iopub.execute_input": "2024-10-01T11:38:45.094391Z",
     "iopub.status.busy": "2024-10-01T11:38:45.093384Z",
     "iopub.status.idle": "2024-10-01T11:38:45.108609Z",
     "shell.execute_reply": "2024-10-01T11:38:45.106712Z",
     "shell.execute_reply.started": "2024-10-01T11:38:45.094332Z"
    }
   },
   "outputs": [],
   "source": [
    "df_bleu_mult.rename(columns={\"Unnamed: 0\":\"model\"}, inplace=True)"
   ]
  },
  {
   "cell_type": "code",
   "execution_count": 199,
   "id": "74e05317-caf6-43a9-97a3-6eb5b0fcccc2",
   "metadata": {
    "execution": {
     "iopub.execute_input": "2024-10-01T11:38:45.250649Z",
     "iopub.status.busy": "2024-10-01T11:38:45.249220Z",
     "iopub.status.idle": "2024-10-01T11:38:45.266330Z",
     "shell.execute_reply": "2024-10-01T11:38:45.264715Z",
     "shell.execute_reply.started": "2024-10-01T11:38:45.250571Z"
    },
    "scrolled": true
   },
   "outputs": [
    {
     "data": {
      "text/plain": [
       "{'Base', 'Step1', 'Step50+sbeam8'}"
      ]
     },
     "execution_count": 199,
     "metadata": {},
     "output_type": "execute_result"
    }
   ],
   "source": [
    "set(df_bleu_mult[\"step\"].tolist())"
   ]
  },
  {
   "cell_type": "code",
   "execution_count": 200,
   "id": "57efe138-c4ff-4942-b67e-af15155bc2e4",
   "metadata": {
    "execution": {
     "iopub.execute_input": "2024-10-01T11:38:45.413605Z",
     "iopub.status.busy": "2024-10-01T11:38:45.412070Z",
     "iopub.status.idle": "2024-10-01T11:38:45.425335Z",
     "shell.execute_reply": "2024-10-01T11:38:45.423973Z",
     "shell.execute_reply.started": "2024-10-01T11:38:45.413522Z"
    }
   },
   "outputs": [],
   "source": [
    "def replace_string(x):\n",
    "    return x.replace(\"mt5_\",\"\").replace(\"_32_2layers_inverter\",\"\").replace(\"_32_2layers_corrector\", \"\")"
   ]
  },
  {
   "cell_type": "code",
   "execution_count": 201,
   "id": "75255aec-4ca3-466f-a122-6590224d8688",
   "metadata": {
    "execution": {
     "iopub.execute_input": "2024-10-01T11:38:45.588104Z",
     "iopub.status.busy": "2024-10-01T11:38:45.586828Z",
     "iopub.status.idle": "2024-10-01T11:38:45.603143Z",
     "shell.execute_reply": "2024-10-01T11:38:45.601790Z",
     "shell.execute_reply.started": "2024-10-01T11:38:45.588033Z"
    }
   },
   "outputs": [],
   "source": [
    "df_bleu_mult[\"model_name\"]=df_bleu_mult[\"model\"].apply(replace_string)"
   ]
  },
  {
   "cell_type": "code",
   "execution_count": 202,
   "id": "3ceab5b3-7484-49f1-bd8b-89eb20e4d59c",
   "metadata": {
    "execution": {
     "iopub.execute_input": "2024-10-01T11:39:51.972345Z",
     "iopub.status.busy": "2024-10-01T11:39:51.971365Z",
     "iopub.status.idle": "2024-10-01T11:39:51.986251Z",
     "shell.execute_reply": "2024-10-01T11:39:51.984687Z",
     "shell.execute_reply.started": "2024-10-01T11:39:51.972298Z"
    }
   },
   "outputs": [],
   "source": [
    "df_bleu_mult[\"model_name\"]= df_bleu_mult[\"model_name\"].replace({\"me5_ara-script\":'me5_arab-script'})"
   ]
  },
  {
   "cell_type": "code",
   "execution_count": null,
   "id": "45d2068f-42f5-4471-bd1b-457b9a5b7f71",
   "metadata": {},
   "outputs": [],
   "source": []
  },
  {
   "cell_type": "code",
   "execution_count": null,
   "id": "46f167ab-edf2-4bba-b156-964464d30a4b",
   "metadata": {},
   "outputs": [],
   "source": []
  },
  {
   "cell_type": "code",
   "execution_count": 247,
   "id": "a8c6fb44-da8a-44ff-b2ee-bbaab0164345",
   "metadata": {
    "execution": {
     "iopub.execute_input": "2024-10-01T14:13:08.301143Z",
     "iopub.status.busy": "2024-10-01T14:13:08.300640Z",
     "iopub.status.idle": "2024-10-01T14:13:08.320926Z",
     "shell.execute_reply": "2024-10-01T14:13:08.319915Z",
     "shell.execute_reply.started": "2024-10-01T14:13:08.301110Z"
    }
   },
   "outputs": [],
   "source": [
    "df_mult = pd.read_csv(\"../datasets/inversion_language_confusion/langdist_data_all_langs/dataset2langdist_line_level_multi_0.3.csv\")"
   ]
  },
  {
   "cell_type": "code",
   "execution_count": 248,
   "id": "8bfabdf1-03f9-4bae-ae8e-22c4167c7b77",
   "metadata": {
    "execution": {
     "iopub.execute_input": "2024-10-01T14:13:08.698001Z",
     "iopub.status.busy": "2024-10-01T14:13:08.696525Z",
     "iopub.status.idle": "2024-10-01T14:13:08.713024Z",
     "shell.execute_reply": "2024-10-01T14:13:08.711801Z",
     "shell.execute_reply.started": "2024-10-01T14:13:08.697916Z"
    }
   },
   "outputs": [],
   "source": [
    "df_mult = df_mult[df_mult[\"step\"]!=\"Labels\"]"
   ]
  },
  {
   "cell_type": "code",
   "execution_count": 249,
   "id": "5c06ef2e-e738-44b4-942d-af60eee5ff95",
   "metadata": {
    "execution": {
     "iopub.execute_input": "2024-10-01T14:13:08.874266Z",
     "iopub.status.busy": "2024-10-01T14:13:08.872977Z",
     "iopub.status.idle": "2024-10-01T14:13:08.978262Z",
     "shell.execute_reply": "2024-10-01T14:13:08.977781Z",
     "shell.execute_reply.started": "2024-10-01T14:13:08.874186Z"
    },
    "scrolled": true
   },
   "outputs": [],
   "source": [
    "df_mult[\"training\"] = df_mult[\"training\"].apply(literal_eval)\n",
    "df_mult[\"pred_langs\"] = df_mult[\"pred_langs\"].apply(literal_eval)"
   ]
  },
  {
   "cell_type": "code",
   "execution_count": 250,
   "id": "2d1bfd7e-3a47-41a6-856c-14149c290810",
   "metadata": {
    "execution": {
     "iopub.execute_input": "2024-10-01T14:13:09.063384Z",
     "iopub.status.busy": "2024-10-01T14:13:09.063090Z",
     "iopub.status.idle": "2024-10-01T14:13:09.070443Z",
     "shell.execute_reply": "2024-10-01T14:13:09.069948Z",
     "shell.execute_reply.started": "2024-10-01T14:13:09.063361Z"
    },
    "scrolled": true
   },
   "outputs": [],
   "source": [
    "df_mult[\"training_langs\"]= df_mult[\"training\"].apply(lambda y:[x.split(\"_\")[0] for x in y])\n",
    "df_mult[\"eval_lang\"]=df_mult[\"eval_lang\"].apply(lambda x: x.split(\"_\")[0])"
   ]
  },
  {
   "cell_type": "code",
   "execution_count": 251,
   "id": "484185bd-a01e-432c-a53a-727d7f35ea80",
   "metadata": {
    "execution": {
     "iopub.execute_input": "2024-10-01T14:13:09.269657Z",
     "iopub.status.busy": "2024-10-01T14:13:09.268769Z",
     "iopub.status.idle": "2024-10-01T14:13:09.282416Z",
     "shell.execute_reply": "2024-10-01T14:13:09.280777Z",
     "shell.execute_reply.started": "2024-10-01T14:13:09.269609Z"
    }
   },
   "outputs": [],
   "source": [
    "def get_langs_for_row(r):\n",
    "    l = r[\"training_langs\"]+[r[\"eval_lang\"]]\n",
    "    print(l)\n",
    "    return \"_\".join(l)"
   ]
  },
  {
   "cell_type": "code",
   "execution_count": 252,
   "id": "4eee6ab4-d27d-4ce5-a499-ea1ed97b8b87",
   "metadata": {
    "execution": {
     "iopub.execute_input": "2024-10-01T14:13:09.501852Z",
     "iopub.status.busy": "2024-10-01T14:13:09.499166Z",
     "iopub.status.idle": "2024-10-01T14:13:09.554079Z",
     "shell.execute_reply": "2024-10-01T14:13:09.553379Z",
     "shell.execute_reply.started": "2024-10-01T14:13:09.501771Z"
    },
    "scrolled": true
   },
   "outputs": [
    {
     "name": "stdout",
     "output_type": "stream",
     "text": [
      "['hin', 'deu']\n",
      "['hin', 'deu']\n",
      "['hin', 'deu']\n",
      "['hin', 'ydd']\n",
      "['hin', 'ydd']\n",
      "['hin', 'ydd']\n",
      "['hin', 'heb']\n",
      "['hin', 'heb']\n",
      "['hin', 'heb']\n",
      "['hin', 'arb']\n",
      "['hin', 'arb']\n",
      "['hin', 'arb']\n",
      "['hin', 'amh']\n",
      "['hin', 'amh']\n",
      "['hin', 'amh']\n",
      "['hin', 'mlt']\n",
      "['hin', 'mlt']\n",
      "['hin', 'mlt']\n",
      "['hin', 'hin']\n",
      "['hin', 'hin']\n",
      "['hin', 'hin']\n",
      "['hin', 'urd']\n",
      "['hin', 'urd']\n",
      "['hin', 'urd']\n",
      "['hin', 'guj']\n",
      "['hin', 'guj']\n",
      "['hin', 'guj']\n",
      "['hin', 'sin']\n",
      "['hin', 'sin']\n",
      "['hin', 'sin']\n",
      "['hin', 'pan']\n",
      "['hin', 'pan']\n",
      "['hin', 'pan']\n",
      "['hin', 'tur']\n",
      "['hin', 'tur']\n",
      "['hin', 'tur']\n",
      "['hin', 'kaz']\n",
      "['hin', 'kaz']\n",
      "['hin', 'kaz']\n",
      "['hin', 'cmn']\n",
      "['hin', 'cmn']\n",
      "['hin', 'cmn']\n",
      "['hin', 'jpn']\n",
      "['hin', 'jpn']\n",
      "['hin', 'jpn']\n",
      "['hin', 'kor']\n",
      "['hin', 'kor']\n",
      "['hin', 'kor']\n",
      "['hin', 'mon']\n",
      "['hin', 'mon']\n",
      "['hin', 'mon']\n",
      "['hin', 'hun']\n",
      "['hin', 'hun']\n",
      "['hin', 'hun']\n",
      "['hin', 'mhr']\n",
      "['hin', 'mhr']\n",
      "['hin', 'mhr']\n",
      "['hin', 'fin']\n",
      "['hin', 'fin']\n",
      "['hin', 'fin']\n",
      "['kaz', 'urd', 'deu']\n",
      "['kaz', 'urd', 'deu']\n",
      "['kaz', 'urd', 'ydd']\n",
      "['kaz', 'urd', 'ydd']\n",
      "['kaz', 'urd', 'ydd']\n",
      "['kaz', 'urd', 'heb']\n",
      "['kaz', 'urd', 'heb']\n",
      "['kaz', 'urd', 'heb']\n",
      "['kaz', 'urd', 'arb']\n",
      "['kaz', 'urd', 'arb']\n",
      "['kaz', 'urd', 'arb']\n",
      "['kaz', 'urd', 'amh']\n",
      "['kaz', 'urd', 'amh']\n",
      "['kaz', 'urd', 'amh']\n",
      "['kaz', 'urd', 'mlt']\n",
      "['kaz', 'urd', 'mlt']\n",
      "['kaz', 'urd', 'mlt']\n",
      "['kaz', 'urd', 'hin']\n",
      "['kaz', 'urd', 'hin']\n",
      "['kaz', 'urd', 'hin']\n",
      "['kaz', 'urd', 'urd']\n",
      "['kaz', 'urd', 'urd']\n",
      "['kaz', 'urd', 'urd']\n",
      "['kaz', 'urd', 'guj']\n",
      "['kaz', 'urd', 'guj']\n",
      "['kaz', 'urd', 'guj']\n",
      "['kaz', 'urd', 'sin']\n",
      "['kaz', 'urd', 'sin']\n",
      "['kaz', 'urd', 'sin']\n",
      "['kaz', 'urd', 'pan']\n",
      "['kaz', 'urd', 'pan']\n",
      "['kaz', 'urd', 'pan']\n",
      "['kaz', 'urd', 'tur']\n",
      "['kaz', 'urd', 'tur']\n",
      "['kaz', 'urd', 'tur']\n",
      "['kaz', 'urd', 'kaz']\n",
      "['kaz', 'urd', 'kaz']\n",
      "['kaz', 'urd', 'kaz']\n",
      "['kaz', 'urd', 'cmn']\n",
      "['kaz', 'urd', 'cmn']\n",
      "['kaz', 'urd', 'cmn']\n",
      "['kaz', 'urd', 'jpn']\n",
      "['kaz', 'urd', 'jpn']\n",
      "['kaz', 'urd', 'jpn']\n",
      "['kaz', 'urd', 'kor']\n",
      "['kaz', 'urd', 'kor']\n",
      "['kaz', 'urd', 'kor']\n",
      "['kaz', 'urd', 'mon']\n",
      "['kaz', 'urd', 'mon']\n",
      "['kaz', 'urd', 'mon']\n",
      "['kaz', 'urd', 'hun']\n",
      "['kaz', 'urd', 'hun']\n",
      "['kaz', 'urd', 'hun']\n",
      "['kaz', 'urd', 'mhr']\n",
      "['kaz', 'urd', 'mhr']\n",
      "['kaz', 'urd', 'mhr']\n",
      "['kaz', 'urd', 'fin']\n",
      "['kaz', 'urd', 'fin']\n",
      "['kaz', 'urd', 'fin']\n",
      "['pan', 'guj', 'deu']\n",
      "['pan', 'guj', 'deu']\n",
      "['pan', 'guj', 'deu']\n",
      "['pan', 'guj', 'ydd']\n",
      "['pan', 'guj', 'ydd']\n",
      "['pan', 'guj', 'ydd']\n",
      "['pan', 'guj', 'heb']\n",
      "['pan', 'guj', 'heb']\n",
      "['pan', 'guj', 'heb']\n",
      "['pan', 'guj', 'arb']\n",
      "['pan', 'guj', 'arb']\n",
      "['pan', 'guj', 'arb']\n",
      "['pan', 'guj', 'amh']\n",
      "['pan', 'guj', 'amh']\n",
      "['pan', 'guj', 'amh']\n",
      "['pan', 'guj', 'mlt']\n",
      "['pan', 'guj', 'mlt']\n",
      "['pan', 'guj', 'mlt']\n",
      "['pan', 'guj', 'hin']\n",
      "['pan', 'guj', 'hin']\n",
      "['pan', 'guj', 'hin']\n",
      "['pan', 'guj', 'urd']\n",
      "['pan', 'guj', 'urd']\n",
      "['pan', 'guj', 'urd']\n",
      "['pan', 'guj', 'guj']\n",
      "['pan', 'guj', 'guj']\n",
      "['pan', 'guj', 'guj']\n",
      "['pan', 'guj', 'sin']\n",
      "['pan', 'guj', 'sin']\n",
      "['pan', 'guj', 'sin']\n",
      "['pan', 'guj', 'pan']\n",
      "['pan', 'guj', 'pan']\n",
      "['pan', 'guj', 'pan']\n",
      "['pan', 'guj', 'tur']\n",
      "['pan', 'guj', 'tur']\n",
      "['pan', 'guj', 'tur']\n",
      "['pan', 'guj', 'kaz']\n",
      "['pan', 'guj', 'kaz']\n",
      "['pan', 'guj', 'kaz']\n",
      "['pan', 'guj', 'cmn']\n",
      "['pan', 'guj', 'cmn']\n",
      "['pan', 'guj', 'cmn']\n",
      "['pan', 'guj', 'jpn']\n",
      "['pan', 'guj', 'jpn']\n",
      "['pan', 'guj', 'jpn']\n",
      "['pan', 'guj', 'kor']\n",
      "['pan', 'guj', 'kor']\n",
      "['pan', 'guj', 'kor']\n",
      "['pan', 'guj', 'mon']\n",
      "['pan', 'guj', 'mon']\n",
      "['pan', 'guj', 'mon']\n",
      "['pan', 'guj', 'hun']\n",
      "['pan', 'guj', 'hun']\n",
      "['pan', 'guj', 'hun']\n",
      "['pan', 'guj', 'mhr']\n",
      "['pan', 'guj', 'mhr']\n",
      "['pan', 'guj', 'mhr']\n",
      "['pan', 'guj', 'fin']\n",
      "['pan', 'guj', 'fin']\n",
      "['pan', 'guj', 'fin']\n",
      "['kaz', 'mon', 'deu']\n",
      "['kaz', 'mon', 'deu']\n",
      "['kaz', 'mon', 'deu']\n",
      "['kaz', 'mon', 'ydd']\n",
      "['kaz', 'mon', 'ydd']\n",
      "['kaz', 'mon', 'ydd']\n",
      "['kaz', 'mon', 'heb']\n",
      "['kaz', 'mon', 'heb']\n",
      "['kaz', 'mon', 'heb']\n",
      "['kaz', 'mon', 'arb']\n",
      "['kaz', 'mon', 'arb']\n",
      "['kaz', 'mon', 'arb']\n",
      "['kaz', 'mon', 'amh']\n",
      "['kaz', 'mon', 'amh']\n",
      "['kaz', 'mon', 'amh']\n",
      "['kaz', 'mon', 'mlt']\n",
      "['kaz', 'mon', 'mlt']\n",
      "['kaz', 'mon', 'mlt']\n",
      "['kaz', 'mon', 'hin']\n",
      "['kaz', 'mon', 'hin']\n",
      "['kaz', 'mon', 'hin']\n",
      "['kaz', 'mon', 'urd']\n",
      "['kaz', 'mon', 'urd']\n",
      "['kaz', 'mon', 'urd']\n",
      "['kaz', 'mon', 'guj']\n",
      "['kaz', 'mon', 'guj']\n",
      "['kaz', 'mon', 'guj']\n",
      "['kaz', 'mon', 'sin']\n",
      "['kaz', 'mon', 'sin']\n",
      "['kaz', 'mon', 'sin']\n",
      "['kaz', 'mon', 'pan']\n",
      "['kaz', 'mon', 'pan']\n",
      "['kaz', 'mon', 'pan']\n",
      "['kaz', 'mon', 'tur']\n",
      "['kaz', 'mon', 'tur']\n",
      "['kaz', 'mon', 'tur']\n",
      "['kaz', 'mon', 'kaz']\n",
      "['kaz', 'mon', 'kaz']\n",
      "['kaz', 'mon', 'kaz']\n",
      "['kaz', 'mon', 'cmn']\n",
      "['kaz', 'mon', 'cmn']\n",
      "['kaz', 'mon', 'cmn']\n",
      "['kaz', 'mon', 'jpn']\n",
      "['kaz', 'mon', 'jpn']\n",
      "['kaz', 'mon', 'jpn']\n",
      "['kaz', 'mon', 'kor']\n",
      "['kaz', 'mon', 'kor']\n",
      "['kaz', 'mon', 'kor']\n",
      "['kaz', 'mon', 'mon']\n",
      "['kaz', 'mon', 'mon']\n",
      "['kaz', 'mon', 'mon']\n",
      "['kaz', 'mon', 'hun']\n",
      "['kaz', 'mon', 'hun']\n",
      "['kaz', 'mon', 'hun']\n",
      "['kaz', 'mon', 'mhr']\n",
      "['kaz', 'mon', 'mhr']\n",
      "['kaz', 'mon', 'mhr']\n",
      "['kaz', 'mon', 'fin']\n",
      "['kaz', 'mon', 'fin']\n",
      "['kaz', 'mon', 'fin']\n",
      "['urd', 'deu']\n",
      "['urd', 'deu']\n",
      "['urd', 'deu']\n",
      "['urd', 'ydd']\n",
      "['urd', 'ydd']\n",
      "['urd', 'ydd']\n",
      "['urd', 'heb']\n",
      "['urd', 'heb']\n",
      "['urd', 'heb']\n",
      "['urd', 'arb']\n",
      "['urd', 'arb']\n",
      "['urd', 'arb']\n",
      "['urd', 'amh']\n",
      "['urd', 'amh']\n",
      "['urd', 'amh']\n",
      "['urd', 'mlt']\n",
      "['urd', 'mlt']\n",
      "['urd', 'mlt']\n",
      "['urd', 'hin']\n",
      "['urd', 'hin']\n",
      "['urd', 'hin']\n",
      "['urd', 'urd']\n",
      "['urd', 'urd']\n",
      "['urd', 'urd']\n",
      "['urd', 'guj']\n",
      "['urd', 'guj']\n",
      "['urd', 'guj']\n",
      "['urd', 'sin']\n",
      "['urd', 'sin']\n",
      "['urd', 'sin']\n",
      "['urd', 'pan']\n",
      "['urd', 'pan']\n",
      "['urd', 'pan']\n",
      "['urd', 'tur']\n",
      "['urd', 'tur']\n",
      "['urd', 'tur']\n",
      "['urd', 'kaz']\n",
      "['urd', 'kaz']\n",
      "['urd', 'kaz']\n",
      "['urd', 'cmn']\n",
      "['urd', 'cmn']\n",
      "['urd', 'cmn']\n",
      "['urd', 'jpn']\n",
      "['urd', 'jpn']\n",
      "['urd', 'jpn']\n",
      "['urd', 'kor']\n",
      "['urd', 'kor']\n",
      "['urd', 'kor']\n",
      "['urd', 'mon']\n",
      "['urd', 'mon']\n",
      "['urd', 'mon']\n",
      "['urd', 'hun']\n",
      "['urd', 'hun']\n",
      "['urd', 'hun']\n",
      "['urd', 'mhr']\n",
      "['urd', 'mhr']\n",
      "['urd', 'mhr']\n",
      "['urd', 'fin']\n",
      "['urd', 'fin']\n",
      "['urd', 'fin']\n",
      "['cmn', 'jpn', 'deu']\n",
      "['cmn', 'jpn', 'deu']\n",
      "['cmn', 'jpn', 'deu']\n",
      "['cmn', 'jpn', 'ydd']\n",
      "['cmn', 'jpn', 'ydd']\n",
      "['cmn', 'jpn', 'ydd']\n",
      "['cmn', 'jpn', 'heb']\n",
      "['cmn', 'jpn', 'heb']\n",
      "['cmn', 'jpn', 'heb']\n",
      "['cmn', 'jpn', 'arb']\n",
      "['cmn', 'jpn', 'arb']\n",
      "['cmn', 'jpn', 'arb']\n",
      "['cmn', 'jpn', 'amh']\n",
      "['cmn', 'jpn', 'amh']\n",
      "['cmn', 'jpn', 'amh']\n",
      "['cmn', 'jpn', 'mlt']\n",
      "['cmn', 'jpn', 'mlt']\n",
      "['cmn', 'jpn', 'mlt']\n",
      "['cmn', 'jpn', 'hin']\n",
      "['cmn', 'jpn', 'hin']\n",
      "['cmn', 'jpn', 'hin']\n",
      "['cmn', 'jpn', 'urd']\n",
      "['cmn', 'jpn', 'urd']\n",
      "['cmn', 'jpn', 'urd']\n",
      "['cmn', 'jpn', 'guj']\n",
      "['cmn', 'jpn', 'guj']\n",
      "['cmn', 'jpn', 'guj']\n",
      "['cmn', 'jpn', 'sin']\n",
      "['cmn', 'jpn', 'sin']\n",
      "['cmn', 'jpn', 'sin']\n",
      "['cmn', 'jpn', 'pan']\n",
      "['cmn', 'jpn', 'pan']\n",
      "['cmn', 'jpn', 'pan']\n",
      "['cmn', 'jpn', 'tur']\n",
      "['cmn', 'jpn', 'tur']\n",
      "['cmn', 'jpn', 'tur']\n",
      "['cmn', 'jpn', 'kaz']\n",
      "['cmn', 'jpn', 'kaz']\n",
      "['cmn', 'jpn', 'kaz']\n",
      "['cmn', 'jpn', 'cmn']\n",
      "['cmn', 'jpn', 'cmn']\n",
      "['cmn', 'jpn', 'cmn']\n",
      "['cmn', 'jpn', 'jpn']\n",
      "['cmn', 'jpn', 'jpn']\n",
      "['cmn', 'jpn', 'jpn']\n",
      "['cmn', 'jpn', 'kor']\n",
      "['cmn', 'jpn', 'kor']\n",
      "['cmn', 'jpn', 'kor']\n",
      "['cmn', 'jpn', 'mon']\n",
      "['cmn', 'jpn', 'mon']\n",
      "['cmn', 'jpn', 'mon']\n",
      "['cmn', 'jpn', 'hun']\n",
      "['cmn', 'jpn', 'hun']\n",
      "['cmn', 'jpn', 'hun']\n",
      "['cmn', 'jpn', 'mhr']\n",
      "['cmn', 'jpn', 'mhr']\n",
      "['cmn', 'jpn', 'mhr']\n",
      "['cmn', 'jpn', 'fin']\n",
      "['cmn', 'jpn', 'fin']\n",
      "['cmn', 'jpn', 'fin']\n",
      "['kaz', 'guj', 'deu']\n",
      "['kaz', 'guj', 'deu']\n",
      "['kaz', 'guj', 'deu']\n",
      "['kaz', 'guj', 'ydd']\n",
      "['kaz', 'guj', 'ydd']\n",
      "['kaz', 'guj', 'ydd']\n",
      "['kaz', 'guj', 'heb']\n",
      "['kaz', 'guj', 'heb']\n",
      "['kaz', 'guj', 'heb']\n",
      "['kaz', 'guj', 'arb']\n",
      "['kaz', 'guj', 'arb']\n",
      "['kaz', 'guj', 'arb']\n",
      "['kaz', 'guj', 'amh']\n",
      "['kaz', 'guj', 'amh']\n",
      "['kaz', 'guj', 'amh']\n",
      "['kaz', 'guj', 'mlt']\n",
      "['kaz', 'guj', 'mlt']\n",
      "['kaz', 'guj', 'mlt']\n",
      "['kaz', 'guj', 'hin']\n",
      "['kaz', 'guj', 'hin']\n",
      "['kaz', 'guj', 'hin']\n",
      "['kaz', 'guj', 'urd']\n",
      "['kaz', 'guj', 'urd']\n",
      "['kaz', 'guj', 'urd']\n",
      "['kaz', 'guj', 'guj']\n",
      "['kaz', 'guj', 'guj']\n",
      "['kaz', 'guj', 'guj']\n",
      "['kaz', 'guj', 'sin']\n",
      "['kaz', 'guj', 'sin']\n",
      "['kaz', 'guj', 'sin']\n",
      "['kaz', 'guj', 'pan']\n",
      "['kaz', 'guj', 'pan']\n",
      "['kaz', 'guj', 'pan']\n",
      "['kaz', 'guj', 'tur']\n",
      "['kaz', 'guj', 'tur']\n",
      "['kaz', 'guj', 'tur']\n",
      "['kaz', 'guj', 'kaz']\n",
      "['kaz', 'guj', 'kaz']\n",
      "['kaz', 'guj', 'kaz']\n",
      "['kaz', 'guj', 'cmn']\n",
      "['kaz', 'guj', 'cmn']\n",
      "['kaz', 'guj', 'cmn']\n",
      "['kaz', 'guj', 'jpn']\n",
      "['kaz', 'guj', 'jpn']\n",
      "['kaz', 'guj', 'jpn']\n",
      "['kaz', 'guj', 'kor']\n",
      "['kaz', 'guj', 'kor']\n",
      "['kaz', 'guj', 'kor']\n",
      "['kaz', 'guj', 'mon']\n",
      "['kaz', 'guj', 'mon']\n",
      "['kaz', 'guj', 'mon']\n",
      "['kaz', 'guj', 'hun']\n",
      "['kaz', 'guj', 'hun']\n",
      "['kaz', 'guj', 'hun']\n",
      "['kaz', 'guj', 'mhr']\n",
      "['kaz', 'guj', 'mhr']\n",
      "['kaz', 'guj', 'mhr']\n",
      "['kaz', 'guj', 'fin']\n",
      "['kaz', 'guj', 'fin']\n",
      "['kaz', 'guj', 'fin']\n",
      "['tur', 'deu']\n",
      "['tur', 'deu']\n",
      "['tur', 'deu']\n",
      "['tur', 'ydd']\n",
      "['tur', 'ydd']\n",
      "['tur', 'ydd']\n",
      "['tur', 'heb']\n",
      "['tur', 'heb']\n",
      "['tur', 'heb']\n",
      "['tur', 'arb']\n",
      "['tur', 'arb']\n",
      "['tur', 'arb']\n",
      "['tur', 'amh']\n",
      "['tur', 'amh']\n",
      "['tur', 'amh']\n",
      "['tur', 'mlt']\n",
      "['tur', 'mlt']\n",
      "['tur', 'mlt']\n",
      "['tur', 'hin']\n",
      "['tur', 'hin']\n",
      "['tur', 'hin']\n",
      "['tur', 'urd']\n",
      "['tur', 'urd']\n",
      "['tur', 'urd']\n",
      "['tur', 'guj']\n",
      "['tur', 'sin']\n",
      "['tur', 'sin']\n",
      "['tur', 'sin']\n",
      "['tur', 'pan']\n",
      "['tur', 'pan']\n",
      "['tur', 'pan']\n",
      "['tur', 'tur']\n",
      "['tur', 'tur']\n",
      "['tur', 'tur']\n",
      "['tur', 'kaz']\n",
      "['tur', 'kaz']\n",
      "['tur', 'kaz']\n",
      "['tur', 'cmn']\n",
      "['tur', 'cmn']\n",
      "['tur', 'cmn']\n",
      "['tur', 'jpn']\n",
      "['tur', 'jpn']\n",
      "['tur', 'jpn']\n",
      "['tur', 'kor']\n",
      "['tur', 'kor']\n",
      "['tur', 'kor']\n",
      "['tur', 'mon']\n",
      "['tur', 'mon']\n",
      "['tur', 'mon']\n",
      "['tur', 'hun']\n",
      "['tur', 'hun']\n",
      "['tur', 'hun']\n",
      "['tur', 'mhr']\n",
      "['tur', 'mhr']\n",
      "['tur', 'mhr']\n",
      "['tur', 'fin']\n",
      "['tur', 'fin']\n",
      "['tur', 'fin']\n",
      "['arb', 'heb', 'deu']\n",
      "['arb', 'heb', 'ydd']\n",
      "['arb', 'heb', 'heb']\n",
      "['arb', 'heb', 'arb']\n",
      "['arb', 'heb', 'amh']\n",
      "['arb', 'heb', 'mlt']\n",
      "['arb', 'heb', 'hin']\n",
      "['arb', 'heb', 'urd']\n",
      "['arb', 'heb', 'guj']\n",
      "['arb', 'heb', 'sin']\n",
      "['arb', 'heb', 'pan']\n",
      "['arb', 'heb', 'tur']\n",
      "['arb', 'heb', 'kaz']\n",
      "['arb', 'heb', 'cmn']\n",
      "['arb', 'heb', 'jpn']\n",
      "['arb', 'heb', 'kor']\n",
      "['arb', 'heb', 'mon']\n",
      "['arb', 'heb', 'hun']\n",
      "['arb', 'heb', 'mhr']\n",
      "['arb', 'heb', 'fin']\n",
      "['arb', 'deu']\n",
      "['arb', 'deu']\n",
      "['arb', 'deu']\n",
      "['arb', 'ydd']\n",
      "['arb', 'ydd']\n",
      "['arb', 'ydd']\n",
      "['arb', 'heb']\n",
      "['arb', 'heb']\n",
      "['arb', 'heb']\n",
      "['arb', 'arb']\n",
      "['arb', 'arb']\n",
      "['arb', 'arb']\n",
      "['arb', 'amh']\n",
      "['arb', 'amh']\n",
      "['arb', 'amh']\n",
      "['arb', 'mlt']\n",
      "['arb', 'mlt']\n",
      "['arb', 'mlt']\n",
      "['arb', 'hin']\n",
      "['arb', 'hin']\n",
      "['arb', 'hin']\n",
      "['arb', 'urd']\n",
      "['arb', 'urd']\n",
      "['arb', 'urd']\n",
      "['arb', 'guj']\n",
      "['arb', 'guj']\n",
      "['arb', 'guj']\n",
      "['arb', 'sin']\n",
      "['arb', 'sin']\n",
      "['arb', 'sin']\n",
      "['arb', 'pan']\n",
      "['arb', 'pan']\n",
      "['arb', 'pan']\n",
      "['arb', 'tur']\n",
      "['arb', 'tur']\n",
      "['arb', 'tur']\n",
      "['arb', 'kaz']\n",
      "['arb', 'kaz']\n",
      "['arb', 'kaz']\n",
      "['arb', 'cmn']\n",
      "['arb', 'cmn']\n",
      "['arb', 'cmn']\n",
      "['arb', 'jpn']\n",
      "['arb', 'jpn']\n",
      "['arb', 'jpn']\n",
      "['arb', 'kor']\n",
      "['arb', 'kor']\n",
      "['arb', 'kor']\n",
      "['arb', 'mon']\n",
      "['arb', 'mon']\n",
      "['arb', 'mon']\n",
      "['arb', 'hun']\n",
      "['arb', 'hun']\n",
      "['arb', 'hun']\n",
      "['arb', 'mhr']\n",
      "['arb', 'mhr']\n",
      "['arb', 'mhr']\n",
      "['arb', 'fin']\n",
      "['arb', 'fin']\n",
      "['kaz', 'pan', 'deu']\n",
      "['kaz', 'pan', 'deu']\n",
      "['kaz', 'pan', 'deu']\n",
      "['kaz', 'pan', 'ydd']\n",
      "['kaz', 'pan', 'ydd']\n",
      "['kaz', 'pan', 'ydd']\n",
      "['kaz', 'pan', 'heb']\n",
      "['kaz', 'pan', 'heb']\n",
      "['kaz', 'pan', 'heb']\n",
      "['kaz', 'pan', 'arb']\n",
      "['kaz', 'pan', 'arb']\n",
      "['kaz', 'pan', 'arb']\n",
      "['kaz', 'pan', 'amh']\n",
      "['kaz', 'pan', 'amh']\n",
      "['kaz', 'pan', 'amh']\n",
      "['kaz', 'pan', 'mlt']\n",
      "['kaz', 'pan', 'mlt']\n",
      "['kaz', 'pan', 'mlt']\n",
      "['kaz', 'pan', 'hin']\n",
      "['kaz', 'pan', 'hin']\n",
      "['kaz', 'pan', 'hin']\n",
      "['kaz', 'pan', 'urd']\n",
      "['kaz', 'pan', 'urd']\n",
      "['kaz', 'pan', 'urd']\n",
      "['kaz', 'pan', 'guj']\n",
      "['kaz', 'pan', 'guj']\n",
      "['kaz', 'pan', 'guj']\n",
      "['kaz', 'pan', 'sin']\n",
      "['kaz', 'pan', 'sin']\n",
      "['kaz', 'pan', 'sin']\n",
      "['kaz', 'pan', 'pan']\n",
      "['kaz', 'pan', 'pan']\n",
      "['kaz', 'pan', 'pan']\n",
      "['kaz', 'pan', 'tur']\n",
      "['kaz', 'pan', 'tur']\n",
      "['kaz', 'pan', 'tur']\n",
      "['kaz', 'pan', 'kaz']\n",
      "['kaz', 'pan', 'kaz']\n",
      "['kaz', 'pan', 'kaz']\n",
      "['kaz', 'pan', 'cmn']\n",
      "['kaz', 'pan', 'cmn']\n",
      "['kaz', 'pan', 'cmn']\n",
      "['kaz', 'pan', 'jpn']\n",
      "['kaz', 'pan', 'jpn']\n",
      "['kaz', 'pan', 'jpn']\n",
      "['kaz', 'pan', 'kor']\n",
      "['kaz', 'pan', 'kor']\n",
      "['kaz', 'pan', 'kor']\n",
      "['kaz', 'pan', 'mon']\n",
      "['kaz', 'pan', 'mon']\n",
      "['kaz', 'pan', 'mon']\n",
      "['kaz', 'pan', 'hun']\n",
      "['kaz', 'pan', 'hun']\n",
      "['kaz', 'pan', 'hun']\n",
      "['kaz', 'pan', 'mhr']\n",
      "['kaz', 'pan', 'mhr']\n",
      "['kaz', 'pan', 'mhr']\n",
      "['kaz', 'pan', 'fin']\n",
      "['kaz', 'pan', 'fin']\n",
      "['kaz', 'pan', 'fin']\n",
      "['mon', 'deu']\n",
      "['mon', 'deu']\n",
      "['mon', 'deu']\n",
      "['mon', 'ydd']\n",
      "['mon', 'ydd']\n",
      "['mon', 'ydd']\n",
      "['mon', 'heb']\n",
      "['mon', 'heb']\n",
      "['mon', 'heb']\n",
      "['mon', 'arb']\n",
      "['mon', 'arb']\n",
      "['mon', 'arb']\n",
      "['mon', 'amh']\n",
      "['mon', 'amh']\n",
      "['mon', 'amh']\n",
      "['mon', 'mlt']\n",
      "['mon', 'mlt']\n",
      "['mon', 'mlt']\n",
      "['mon', 'hin']\n",
      "['mon', 'hin']\n",
      "['mon', 'hin']\n",
      "['mon', 'urd']\n",
      "['mon', 'urd']\n",
      "['mon', 'urd']\n",
      "['mon', 'guj']\n",
      "['mon', 'guj']\n",
      "['mon', 'guj']\n",
      "['mon', 'sin']\n",
      "['mon', 'sin']\n",
      "['mon', 'sin']\n",
      "['mon', 'pan']\n",
      "['mon', 'pan']\n",
      "['mon', 'pan']\n",
      "['mon', 'tur']\n",
      "['mon', 'tur']\n",
      "['mon', 'tur']\n",
      "['mon', 'kaz']\n",
      "['mon', 'kaz']\n",
      "['mon', 'kaz']\n",
      "['mon', 'cmn']\n",
      "['mon', 'cmn']\n",
      "['mon', 'cmn']\n",
      "['mon', 'jpn']\n",
      "['mon', 'jpn']\n",
      "['mon', 'jpn']\n",
      "['mon', 'kor']\n",
      "['mon', 'kor']\n",
      "['mon', 'kor']\n",
      "['mon', 'mon']\n",
      "['mon', 'mon']\n",
      "['mon', 'mon']\n",
      "['mon', 'hun']\n",
      "['mon', 'hun']\n",
      "['mon', 'hun']\n",
      "['mon', 'mhr']\n",
      "['mon', 'mhr']\n",
      "['mon', 'mhr']\n",
      "['mon', 'fin']\n",
      "['mon', 'fin']\n",
      "['mon', 'fin']\n",
      "['tur', 'hin', 'deu']\n",
      "['tur', 'hin', 'deu']\n",
      "['tur', 'hin', 'deu']\n",
      "['tur', 'hin', 'ydd']\n",
      "['tur', 'hin', 'ydd']\n",
      "['tur', 'hin', 'ydd']\n",
      "['tur', 'hin', 'heb']\n",
      "['tur', 'hin', 'heb']\n",
      "['tur', 'hin', 'heb']\n",
      "['tur', 'hin', 'arb']\n",
      "['tur', 'hin', 'arb']\n",
      "['tur', 'hin', 'arb']\n",
      "['tur', 'hin', 'amh']\n",
      "['tur', 'hin', 'amh']\n",
      "['tur', 'hin', 'amh']\n",
      "['tur', 'hin', 'mlt']\n",
      "['tur', 'hin', 'mlt']\n",
      "['tur', 'hin', 'mlt']\n",
      "['tur', 'hin', 'hin']\n",
      "['tur', 'hin', 'hin']\n",
      "['tur', 'hin', 'hin']\n",
      "['tur', 'hin', 'urd']\n",
      "['tur', 'hin', 'urd']\n",
      "['tur', 'hin', 'urd']\n",
      "['tur', 'hin', 'guj']\n",
      "['tur', 'hin', 'guj']\n",
      "['tur', 'hin', 'sin']\n",
      "['tur', 'hin', 'sin']\n",
      "['tur', 'hin', 'sin']\n",
      "['tur', 'hin', 'pan']\n",
      "['tur', 'hin', 'pan']\n",
      "['tur', 'hin', 'pan']\n",
      "['tur', 'hin', 'tur']\n",
      "['tur', 'hin', 'tur']\n",
      "['tur', 'hin', 'tur']\n",
      "['tur', 'hin', 'kaz']\n",
      "['tur', 'hin', 'kaz']\n",
      "['tur', 'hin', 'kaz']\n",
      "['tur', 'hin', 'cmn']\n",
      "['tur', 'hin', 'cmn']\n",
      "['tur', 'hin', 'cmn']\n",
      "['tur', 'hin', 'jpn']\n",
      "['tur', 'hin', 'jpn']\n",
      "['tur', 'hin', 'jpn']\n",
      "['tur', 'hin', 'kor']\n",
      "['tur', 'hin', 'kor']\n",
      "['tur', 'hin', 'kor']\n",
      "['tur', 'hin', 'mon']\n",
      "['tur', 'hin', 'mon']\n",
      "['tur', 'hin', 'mon']\n",
      "['tur', 'hin', 'hun']\n",
      "['tur', 'hin', 'hun']\n",
      "['tur', 'hin', 'hun']\n",
      "['tur', 'hin', 'mhr']\n",
      "['tur', 'hin', 'mhr']\n",
      "['tur', 'hin', 'mhr']\n",
      "['tur', 'hin', 'fin']\n",
      "['tur', 'hin', 'fin']\n",
      "['tur', 'hin', 'fin']\n",
      "['pan', 'deu']\n",
      "['pan', 'deu']\n",
      "['pan', 'ydd']\n",
      "['pan', 'ydd']\n",
      "['pan', 'ydd']\n",
      "['pan', 'heb']\n",
      "['pan', 'heb']\n",
      "['pan', 'heb']\n",
      "['pan', 'arb']\n",
      "['pan', 'arb']\n",
      "['pan', 'arb']\n",
      "['pan', 'amh']\n",
      "['pan', 'amh']\n",
      "['pan', 'amh']\n",
      "['pan', 'mlt']\n",
      "['pan', 'mlt']\n",
      "['pan', 'mlt']\n",
      "['pan', 'hin']\n",
      "['pan', 'hin']\n",
      "['pan', 'hin']\n",
      "['pan', 'urd']\n",
      "['pan', 'urd']\n",
      "['pan', 'urd']\n",
      "['pan', 'guj']\n",
      "['pan', 'guj']\n",
      "['pan', 'guj']\n",
      "['pan', 'sin']\n",
      "['pan', 'sin']\n",
      "['pan', 'sin']\n",
      "['pan', 'pan']\n",
      "['pan', 'pan']\n",
      "['pan', 'pan']\n",
      "['pan', 'tur']\n",
      "['pan', 'tur']\n",
      "['pan', 'tur']\n",
      "['pan', 'kaz']\n",
      "['pan', 'kaz']\n",
      "['pan', 'kaz']\n",
      "['pan', 'cmn']\n",
      "['pan', 'cmn']\n",
      "['pan', 'cmn']\n",
      "['pan', 'jpn']\n",
      "['pan', 'jpn']\n",
      "['pan', 'jpn']\n",
      "['pan', 'kor']\n",
      "['pan', 'kor']\n",
      "['pan', 'kor']\n",
      "['pan', 'mon']\n",
      "['pan', 'mon']\n",
      "['pan', 'mon']\n",
      "['pan', 'hun']\n",
      "['pan', 'hun']\n",
      "['pan', 'hun']\n",
      "['pan', 'mhr']\n",
      "['pan', 'mhr']\n",
      "['pan', 'mhr']\n",
      "['pan', 'fin']\n",
      "['pan', 'fin']\n",
      "['pan', 'fin']\n",
      "['tur', 'pan', 'deu']\n",
      "['tur', 'pan', 'deu']\n",
      "['tur', 'pan', 'deu']\n",
      "['tur', 'pan', 'ydd']\n",
      "['tur', 'pan', 'ydd']\n",
      "['tur', 'pan', 'ydd']\n",
      "['tur', 'pan', 'heb']\n",
      "['tur', 'pan', 'heb']\n",
      "['tur', 'pan', 'heb']\n",
      "['tur', 'pan', 'arb']\n",
      "['tur', 'pan', 'arb']\n",
      "['tur', 'pan', 'arb']\n",
      "['tur', 'pan', 'amh']\n",
      "['tur', 'pan', 'amh']\n",
      "['tur', 'pan', 'amh']\n",
      "['tur', 'pan', 'mlt']\n",
      "['tur', 'pan', 'mlt']\n",
      "['tur', 'pan', 'mlt']\n",
      "['tur', 'pan', 'hin']\n",
      "['tur', 'pan', 'hin']\n",
      "['tur', 'pan', 'hin']\n",
      "['tur', 'pan', 'urd']\n",
      "['tur', 'pan', 'urd']\n",
      "['tur', 'pan', 'urd']\n",
      "['tur', 'pan', 'guj']\n",
      "['tur', 'pan', 'guj']\n",
      "['tur', 'pan', 'guj']\n",
      "['tur', 'pan', 'sin']\n",
      "['tur', 'pan', 'sin']\n",
      "['tur', 'pan', 'sin']\n",
      "['tur', 'pan', 'pan']\n",
      "['tur', 'pan', 'pan']\n",
      "['tur', 'pan', 'pan']\n",
      "['tur', 'pan', 'tur']\n",
      "['tur', 'pan', 'tur']\n",
      "['tur', 'pan', 'tur']\n",
      "['tur', 'pan', 'kaz']\n",
      "['tur', 'pan', 'kaz']\n",
      "['tur', 'pan', 'kaz']\n",
      "['tur', 'pan', 'cmn']\n",
      "['tur', 'pan', 'cmn']\n",
      "['tur', 'pan', 'cmn']\n",
      "['tur', 'pan', 'jpn']\n",
      "['tur', 'pan', 'jpn']\n",
      "['tur', 'pan', 'jpn']\n",
      "['tur', 'pan', 'kor']\n",
      "['tur', 'pan', 'kor']\n",
      "['tur', 'pan', 'kor']\n",
      "['tur', 'pan', 'mon']\n",
      "['tur', 'pan', 'mon']\n",
      "['tur', 'pan', 'mon']\n",
      "['tur', 'pan', 'hun']\n",
      "['tur', 'pan', 'hun']\n",
      "['tur', 'pan', 'hun']\n",
      "['tur', 'pan', 'mhr']\n",
      "['tur', 'pan', 'mhr']\n",
      "['tur', 'pan', 'mhr']\n",
      "['tur', 'pan', 'fin']\n",
      "['tur', 'pan', 'fin']\n",
      "['tur', 'pan', 'fin']\n",
      "['deu', 'deu']\n",
      "['deu', 'deu']\n",
      "['deu', 'deu']\n",
      "['deu', 'ydd']\n",
      "['deu', 'ydd']\n",
      "['deu', 'heb']\n",
      "['deu', 'heb']\n",
      "['deu', 'heb']\n",
      "['deu', 'arb']\n",
      "['deu', 'arb']\n",
      "['deu', 'arb']\n",
      "['deu', 'amh']\n",
      "['deu', 'amh']\n",
      "['deu', 'amh']\n",
      "['deu', 'mlt']\n",
      "['deu', 'mlt']\n",
      "['deu', 'mlt']\n",
      "['deu', 'hin']\n",
      "['deu', 'hin']\n",
      "['deu', 'urd']\n",
      "['deu', 'urd']\n",
      "['deu', 'urd']\n",
      "['deu', 'guj']\n",
      "['deu', 'sin']\n",
      "['deu', 'sin']\n",
      "['deu', 'pan']\n",
      "['deu', 'pan']\n",
      "['deu', 'pan']\n",
      "['deu', 'tur']\n",
      "['deu', 'tur']\n",
      "['deu', 'tur']\n",
      "['deu', 'kaz']\n",
      "['deu', 'kaz']\n",
      "['deu', 'kaz']\n",
      "['deu', 'cmn']\n",
      "['deu', 'cmn']\n",
      "['deu', 'cmn']\n",
      "['deu', 'jpn']\n",
      "['deu', 'jpn']\n",
      "['deu', 'jpn']\n",
      "['deu', 'kor']\n",
      "['deu', 'kor']\n",
      "['deu', 'kor']\n",
      "['deu', 'mon']\n",
      "['deu', 'mon']\n",
      "['deu', 'mon']\n",
      "['deu', 'hun']\n",
      "['deu', 'hun']\n",
      "['deu', 'hun']\n",
      "['deu', 'mhr']\n",
      "['deu', 'mhr']\n",
      "['deu', 'mhr']\n",
      "['deu', 'fin']\n",
      "['deu', 'fin']\n",
      "['deu', 'fin']\n",
      "['urd', 'pan', 'deu']\n",
      "['urd', 'pan', 'deu']\n",
      "['urd', 'pan', 'deu']\n",
      "['urd', 'pan', 'ydd']\n",
      "['urd', 'pan', 'ydd']\n",
      "['urd', 'pan', 'ydd']\n",
      "['urd', 'pan', 'heb']\n",
      "['urd', 'pan', 'heb']\n",
      "['urd', 'pan', 'heb']\n",
      "['urd', 'pan', 'arb']\n",
      "['urd', 'pan', 'arb']\n",
      "['urd', 'pan', 'arb']\n",
      "['urd', 'pan', 'amh']\n",
      "['urd', 'pan', 'amh']\n",
      "['urd', 'pan', 'amh']\n",
      "['urd', 'pan', 'mlt']\n",
      "['urd', 'pan', 'mlt']\n",
      "['urd', 'pan', 'mlt']\n",
      "['urd', 'pan', 'hin']\n",
      "['urd', 'pan', 'hin']\n",
      "['urd', 'pan', 'hin']\n",
      "['urd', 'pan', 'urd']\n",
      "['urd', 'pan', 'urd']\n",
      "['urd', 'pan', 'urd']\n",
      "['urd', 'pan', 'guj']\n",
      "['urd', 'pan', 'guj']\n",
      "['urd', 'pan', 'guj']\n",
      "['urd', 'pan', 'sin']\n",
      "['urd', 'pan', 'sin']\n",
      "['urd', 'pan', 'sin']\n",
      "['urd', 'pan', 'pan']\n",
      "['urd', 'pan', 'pan']\n",
      "['urd', 'pan', 'pan']\n",
      "['urd', 'pan', 'tur']\n",
      "['urd', 'pan', 'tur']\n",
      "['urd', 'pan', 'tur']\n",
      "['urd', 'pan', 'kaz']\n",
      "['urd', 'pan', 'kaz']\n",
      "['urd', 'pan', 'kaz']\n",
      "['urd', 'pan', 'cmn']\n",
      "['urd', 'pan', 'cmn']\n",
      "['urd', 'pan', 'cmn']\n",
      "['urd', 'pan', 'jpn']\n",
      "['urd', 'pan', 'jpn']\n",
      "['urd', 'pan', 'jpn']\n",
      "['urd', 'pan', 'kor']\n",
      "['urd', 'pan', 'kor']\n",
      "['urd', 'pan', 'kor']\n",
      "['urd', 'pan', 'mon']\n",
      "['urd', 'pan', 'mon']\n",
      "['urd', 'pan', 'mon']\n",
      "['urd', 'pan', 'hun']\n",
      "['urd', 'pan', 'hun']\n",
      "['urd', 'pan', 'hun']\n",
      "['urd', 'pan', 'mhr']\n",
      "['urd', 'pan', 'mhr']\n",
      "['urd', 'pan', 'mhr']\n",
      "['urd', 'pan', 'fin']\n",
      "['urd', 'pan', 'fin']\n",
      "['urd', 'pan', 'fin']\n",
      "['urd', 'guj', 'deu']\n",
      "['urd', 'guj', 'deu']\n",
      "['urd', 'guj', 'deu']\n",
      "['urd', 'guj', 'ydd']\n",
      "['urd', 'guj', 'ydd']\n",
      "['urd', 'guj', 'ydd']\n",
      "['urd', 'guj', 'heb']\n",
      "['urd', 'guj', 'heb']\n",
      "['urd', 'guj', 'heb']\n",
      "['urd', 'guj', 'arb']\n",
      "['urd', 'guj', 'arb']\n",
      "['urd', 'guj', 'arb']\n",
      "['urd', 'guj', 'amh']\n",
      "['urd', 'guj', 'amh']\n",
      "['urd', 'guj', 'amh']\n",
      "['urd', 'guj', 'mlt']\n",
      "['urd', 'guj', 'mlt']\n",
      "['urd', 'guj', 'mlt']\n",
      "['urd', 'guj', 'hin']\n",
      "['urd', 'guj', 'hin']\n",
      "['urd', 'guj', 'hin']\n",
      "['urd', 'guj', 'urd']\n",
      "['urd', 'guj', 'urd']\n",
      "['urd', 'guj', 'urd']\n",
      "['urd', 'guj', 'guj']\n",
      "['urd', 'guj', 'guj']\n",
      "['urd', 'guj', 'guj']\n",
      "['urd', 'guj', 'sin']\n",
      "['urd', 'guj', 'sin']\n",
      "['urd', 'guj', 'sin']\n",
      "['urd', 'guj', 'pan']\n",
      "['urd', 'guj', 'pan']\n",
      "['urd', 'guj', 'pan']\n",
      "['urd', 'guj', 'tur']\n",
      "['urd', 'guj', 'tur']\n",
      "['urd', 'guj', 'tur']\n",
      "['urd', 'guj', 'kaz']\n",
      "['urd', 'guj', 'kaz']\n",
      "['urd', 'guj', 'kaz']\n",
      "['urd', 'guj', 'cmn']\n",
      "['urd', 'guj', 'cmn']\n",
      "['urd', 'guj', 'cmn']\n",
      "['urd', 'guj', 'jpn']\n",
      "['urd', 'guj', 'jpn']\n",
      "['urd', 'guj', 'jpn']\n",
      "['urd', 'guj', 'kor']\n",
      "['urd', 'guj', 'kor']\n",
      "['urd', 'guj', 'kor']\n",
      "['urd', 'guj', 'mon']\n",
      "['urd', 'guj', 'mon']\n",
      "['urd', 'guj', 'mon']\n",
      "['urd', 'guj', 'hun']\n",
      "['urd', 'guj', 'hun']\n",
      "['urd', 'guj', 'hun']\n",
      "['urd', 'guj', 'mhr']\n",
      "['urd', 'guj', 'mhr']\n",
      "['urd', 'guj', 'mhr']\n",
      "['urd', 'guj', 'fin']\n",
      "['urd', 'guj', 'fin']\n",
      "['urd', 'guj', 'fin']\n",
      "['tur', 'guj', 'deu']\n",
      "['tur', 'guj', 'deu']\n",
      "['tur', 'guj', 'deu']\n",
      "['tur', 'guj', 'ydd']\n",
      "['tur', 'guj', 'ydd']\n",
      "['tur', 'guj', 'ydd']\n",
      "['tur', 'guj', 'heb']\n",
      "['tur', 'guj', 'heb']\n",
      "['tur', 'guj', 'heb']\n",
      "['tur', 'guj', 'arb']\n",
      "['tur', 'guj', 'arb']\n",
      "['tur', 'guj', 'arb']\n",
      "['tur', 'guj', 'amh']\n",
      "['tur', 'guj', 'amh']\n",
      "['tur', 'guj', 'amh']\n",
      "['tur', 'guj', 'mlt']\n",
      "['tur', 'guj', 'mlt']\n",
      "['tur', 'guj', 'mlt']\n",
      "['tur', 'guj', 'hin']\n",
      "['tur', 'guj', 'hin']\n",
      "['tur', 'guj', 'hin']\n",
      "['tur', 'guj', 'urd']\n",
      "['tur', 'guj', 'urd']\n",
      "['tur', 'guj', 'urd']\n",
      "['tur', 'guj', 'guj']\n",
      "['tur', 'guj', 'guj']\n",
      "['tur', 'guj', 'guj']\n",
      "['tur', 'guj', 'sin']\n",
      "['tur', 'guj', 'sin']\n",
      "['tur', 'guj', 'sin']\n",
      "['tur', 'guj', 'pan']\n",
      "['tur', 'guj', 'pan']\n",
      "['tur', 'guj', 'pan']\n",
      "['tur', 'guj', 'tur']\n",
      "['tur', 'guj', 'tur']\n",
      "['tur', 'guj', 'tur']\n",
      "['tur', 'guj', 'kaz']\n",
      "['tur', 'guj', 'kaz']\n",
      "['tur', 'guj', 'kaz']\n",
      "['tur', 'guj', 'cmn']\n",
      "['tur', 'guj', 'cmn']\n",
      "['tur', 'guj', 'cmn']\n",
      "['tur', 'guj', 'jpn']\n",
      "['tur', 'guj', 'jpn']\n",
      "['tur', 'guj', 'jpn']\n",
      "['tur', 'guj', 'kor']\n",
      "['tur', 'guj', 'kor']\n",
      "['tur', 'guj', 'kor']\n",
      "['tur', 'guj', 'mon']\n",
      "['tur', 'guj', 'mon']\n",
      "['tur', 'guj', 'mon']\n",
      "['tur', 'guj', 'hun']\n",
      "['tur', 'guj', 'hun']\n",
      "['tur', 'guj', 'hun']\n",
      "['tur', 'guj', 'mhr']\n",
      "['tur', 'guj', 'mhr']\n",
      "['tur', 'guj', 'mhr']\n",
      "['tur', 'guj', 'fin']\n",
      "['tur', 'guj', 'fin']\n",
      "['tur', 'guj', 'fin']\n",
      "['guj', 'deu']\n",
      "['guj', 'deu']\n",
      "['guj', 'deu']\n",
      "['guj', 'ydd']\n",
      "['guj', 'ydd']\n",
      "['guj', 'ydd']\n",
      "['guj', 'heb']\n",
      "['guj', 'heb']\n",
      "['guj', 'heb']\n",
      "['guj', 'arb']\n",
      "['guj', 'arb']\n",
      "['guj', 'arb']\n",
      "['guj', 'amh']\n",
      "['guj', 'amh']\n",
      "['guj', 'amh']\n",
      "['guj', 'mlt']\n",
      "['guj', 'mlt']\n",
      "['guj', 'mlt']\n",
      "['guj', 'hin']\n",
      "['guj', 'hin']\n",
      "['guj', 'hin']\n",
      "['guj', 'urd']\n",
      "['guj', 'urd']\n",
      "['guj', 'urd']\n",
      "['guj', 'guj']\n",
      "['guj', 'guj']\n",
      "['guj', 'guj']\n",
      "['guj', 'sin']\n",
      "['guj', 'sin']\n",
      "['guj', 'sin']\n",
      "['guj', 'pan']\n",
      "['guj', 'pan']\n",
      "['guj', 'pan']\n",
      "['guj', 'tur']\n",
      "['guj', 'tur']\n",
      "['guj', 'tur']\n",
      "['guj', 'kaz']\n",
      "['guj', 'kaz']\n",
      "['guj', 'kaz']\n",
      "['guj', 'cmn']\n",
      "['guj', 'cmn']\n",
      "['guj', 'cmn']\n",
      "['guj', 'jpn']\n",
      "['guj', 'jpn']\n",
      "['guj', 'jpn']\n",
      "['guj', 'kor']\n",
      "['guj', 'kor']\n",
      "['guj', 'kor']\n",
      "['guj', 'mon']\n",
      "['guj', 'mon']\n",
      "['guj', 'mon']\n",
      "['guj', 'hun']\n",
      "['guj', 'hun']\n",
      "['guj', 'hun']\n",
      "['guj', 'mhr']\n",
      "['guj', 'mhr']\n",
      "['guj', 'mhr']\n",
      "['guj', 'fin']\n",
      "['guj', 'fin']\n",
      "['guj', 'fin']\n",
      "['cmn', 'deu']\n",
      "['cmn', 'deu']\n",
      "['cmn', 'deu']\n",
      "['cmn', 'ydd']\n",
      "['cmn', 'ydd']\n",
      "['cmn', 'ydd']\n",
      "['cmn', 'heb']\n",
      "['cmn', 'heb']\n",
      "['cmn', 'heb']\n",
      "['cmn', 'arb']\n",
      "['cmn', 'arb']\n",
      "['cmn', 'arb']\n",
      "['cmn', 'amh']\n",
      "['cmn', 'amh']\n",
      "['cmn', 'amh']\n",
      "['cmn', 'mlt']\n",
      "['cmn', 'mlt']\n",
      "['cmn', 'mlt']\n",
      "['cmn', 'hin']\n",
      "['cmn', 'hin']\n",
      "['cmn', 'hin']\n",
      "['cmn', 'urd']\n",
      "['cmn', 'urd']\n",
      "['cmn', 'urd']\n",
      "['cmn', 'guj']\n",
      "['cmn', 'guj']\n",
      "['cmn', 'guj']\n",
      "['cmn', 'sin']\n",
      "['cmn', 'sin']\n",
      "['cmn', 'sin']\n",
      "['cmn', 'pan']\n",
      "['cmn', 'pan']\n",
      "['cmn', 'pan']\n",
      "['cmn', 'tur']\n",
      "['cmn', 'tur']\n",
      "['cmn', 'tur']\n",
      "['cmn', 'kaz']\n",
      "['cmn', 'kaz']\n",
      "['cmn', 'kaz']\n",
      "['cmn', 'cmn']\n",
      "['cmn', 'cmn']\n",
      "['cmn', 'cmn']\n",
      "['cmn', 'jpn']\n",
      "['cmn', 'jpn']\n",
      "['cmn', 'jpn']\n",
      "['cmn', 'kor']\n",
      "['cmn', 'kor']\n",
      "['cmn', 'kor']\n",
      "['cmn', 'mon']\n",
      "['cmn', 'mon']\n",
      "['cmn', 'mon']\n",
      "['cmn', 'hun']\n",
      "['cmn', 'hun']\n",
      "['cmn', 'hun']\n",
      "['cmn', 'mhr']\n",
      "['cmn', 'mhr']\n",
      "['cmn', 'mhr']\n",
      "['cmn', 'fin']\n",
      "['cmn', 'fin']\n",
      "['cmn', 'fin']\n",
      "['deu', 'tur', 'deu']\n",
      "['deu', 'tur', 'deu']\n",
      "['deu', 'tur', 'deu']\n",
      "['deu', 'tur', 'ydd']\n",
      "['deu', 'tur', 'ydd']\n",
      "['deu', 'tur', 'ydd']\n",
      "['deu', 'tur', 'heb']\n",
      "['deu', 'tur', 'heb']\n",
      "['deu', 'tur', 'heb']\n",
      "['deu', 'tur', 'arb']\n",
      "['deu', 'tur', 'arb']\n",
      "['deu', 'tur', 'arb']\n",
      "['deu', 'tur', 'amh']\n",
      "['deu', 'tur', 'amh']\n",
      "['deu', 'tur', 'amh']\n",
      "['deu', 'tur', 'mlt']\n",
      "['deu', 'tur', 'mlt']\n",
      "['deu', 'tur', 'mlt']\n",
      "['deu', 'tur', 'hin']\n",
      "['deu', 'tur', 'hin']\n",
      "['deu', 'tur', 'hin']\n",
      "['deu', 'tur', 'urd']\n",
      "['deu', 'tur', 'urd']\n",
      "['deu', 'tur', 'urd']\n",
      "['deu', 'tur', 'guj']\n",
      "['deu', 'tur', 'guj']\n",
      "['deu', 'tur', 'guj']\n",
      "['deu', 'tur', 'sin']\n",
      "['deu', 'tur', 'sin']\n",
      "['deu', 'tur', 'sin']\n",
      "['deu', 'tur', 'pan']\n",
      "['deu', 'tur', 'pan']\n",
      "['deu', 'tur', 'pan']\n",
      "['deu', 'tur', 'tur']\n",
      "['deu', 'tur', 'tur']\n",
      "['deu', 'tur', 'tur']\n",
      "['deu', 'tur', 'kaz']\n",
      "['deu', 'tur', 'kaz']\n",
      "['deu', 'tur', 'kaz']\n",
      "['deu', 'tur', 'cmn']\n",
      "['deu', 'tur', 'cmn']\n",
      "['deu', 'tur', 'cmn']\n",
      "['deu', 'tur', 'jpn']\n",
      "['deu', 'tur', 'jpn']\n",
      "['deu', 'tur', 'jpn']\n",
      "['deu', 'tur', 'kor']\n",
      "['deu', 'tur', 'kor']\n",
      "['deu', 'tur', 'kor']\n",
      "['deu', 'tur', 'mon']\n",
      "['deu', 'tur', 'mon']\n",
      "['deu', 'tur', 'mon']\n",
      "['deu', 'tur', 'hun']\n",
      "['deu', 'tur', 'hun']\n",
      "['deu', 'tur', 'hun']\n",
      "['deu', 'tur', 'mhr']\n",
      "['deu', 'tur', 'mhr']\n",
      "['deu', 'tur', 'mhr']\n",
      "['deu', 'tur', 'fin']\n",
      "['deu', 'tur', 'fin']\n",
      "['deu', 'tur', 'fin']\n",
      "['heb', 'deu']\n",
      "['heb', 'deu']\n",
      "['heb', 'deu']\n",
      "['heb', 'ydd']\n",
      "['heb', 'ydd']\n",
      "['heb', 'ydd']\n",
      "['heb', 'heb']\n",
      "['heb', 'heb']\n",
      "['heb', 'heb']\n",
      "['heb', 'arb']\n",
      "['heb', 'arb']\n",
      "['heb', 'arb']\n",
      "['heb', 'amh']\n",
      "['heb', 'amh']\n",
      "['heb', 'amh']\n",
      "['heb', 'mlt']\n",
      "['heb', 'mlt']\n",
      "['heb', 'mlt']\n",
      "['heb', 'hin']\n",
      "['heb', 'hin']\n",
      "['heb', 'hin']\n",
      "['heb', 'urd']\n",
      "['heb', 'urd']\n",
      "['heb', 'urd']\n",
      "['heb', 'guj']\n",
      "['heb', 'guj']\n",
      "['heb', 'guj']\n",
      "['heb', 'sin']\n",
      "['heb', 'sin']\n",
      "['heb', 'sin']\n",
      "['heb', 'pan']\n",
      "['heb', 'pan']\n",
      "['heb', 'pan']\n",
      "['heb', 'tur']\n",
      "['heb', 'tur']\n",
      "['heb', 'tur']\n",
      "['heb', 'kaz']\n",
      "['heb', 'kaz']\n",
      "['heb', 'kaz']\n",
      "['heb', 'cmn']\n",
      "['heb', 'cmn']\n",
      "['heb', 'cmn']\n",
      "['heb', 'jpn']\n",
      "['heb', 'jpn']\n",
      "['heb', 'jpn']\n",
      "['heb', 'kor']\n",
      "['heb', 'kor']\n",
      "['heb', 'kor']\n",
      "['heb', 'mon']\n",
      "['heb', 'mon']\n",
      "['heb', 'mon']\n",
      "['heb', 'hun']\n",
      "['heb', 'hun']\n",
      "['heb', 'hun']\n",
      "['heb', 'mhr']\n",
      "['heb', 'mhr']\n",
      "['heb', 'mhr']\n",
      "['heb', 'fin']\n",
      "['heb', 'fin']\n",
      "['heb', 'fin']\n",
      "['tur', 'kaz', 'deu']\n",
      "['tur', 'kaz', 'deu']\n",
      "['tur', 'kaz', 'deu']\n",
      "['tur', 'kaz', 'ydd']\n",
      "['tur', 'kaz', 'ydd']\n",
      "['tur', 'kaz', 'ydd']\n",
      "['tur', 'kaz', 'heb']\n",
      "['tur', 'kaz', 'heb']\n",
      "['tur', 'kaz', 'heb']\n",
      "['tur', 'kaz', 'arb']\n",
      "['tur', 'kaz', 'arb']\n",
      "['tur', 'kaz', 'arb']\n",
      "['tur', 'kaz', 'amh']\n",
      "['tur', 'kaz', 'amh']\n",
      "['tur', 'kaz', 'amh']\n",
      "['tur', 'kaz', 'mlt']\n",
      "['tur', 'kaz', 'mlt']\n",
      "['tur', 'kaz', 'mlt']\n",
      "['tur', 'kaz', 'hin']\n",
      "['tur', 'kaz', 'hin']\n",
      "['tur', 'kaz', 'hin']\n",
      "['tur', 'kaz', 'urd']\n",
      "['tur', 'kaz', 'urd']\n",
      "['tur', 'kaz', 'urd']\n",
      "['tur', 'kaz', 'guj']\n",
      "['tur', 'kaz', 'guj']\n",
      "['tur', 'kaz', 'sin']\n",
      "['tur', 'kaz', 'sin']\n",
      "['tur', 'kaz', 'sin']\n",
      "['tur', 'kaz', 'pan']\n",
      "['tur', 'kaz', 'pan']\n",
      "['tur', 'kaz', 'pan']\n",
      "['tur', 'kaz', 'tur']\n",
      "['tur', 'kaz', 'tur']\n",
      "['tur', 'kaz', 'tur']\n",
      "['tur', 'kaz', 'kaz']\n",
      "['tur', 'kaz', 'kaz']\n",
      "['tur', 'kaz', 'kaz']\n",
      "['tur', 'kaz', 'cmn']\n",
      "['tur', 'kaz', 'cmn']\n",
      "['tur', 'kaz', 'cmn']\n",
      "['tur', 'kaz', 'jpn']\n",
      "['tur', 'kaz', 'jpn']\n",
      "['tur', 'kaz', 'jpn']\n",
      "['tur', 'kaz', 'kor']\n",
      "['tur', 'kaz', 'kor']\n",
      "['tur', 'kaz', 'kor']\n",
      "['tur', 'kaz', 'mon']\n",
      "['tur', 'kaz', 'mon']\n",
      "['tur', 'kaz', 'mon']\n",
      "['tur', 'kaz', 'hun']\n",
      "['tur', 'kaz', 'hun']\n",
      "['tur', 'kaz', 'hun']\n",
      "['tur', 'kaz', 'mhr']\n",
      "['tur', 'kaz', 'mhr']\n",
      "['tur', 'kaz', 'mhr']\n",
      "['tur', 'kaz', 'fin']\n",
      "['tur', 'kaz', 'fin']\n",
      "['tur', 'kaz', 'fin']\n",
      "['kaz', 'hin', 'deu']\n",
      "['kaz', 'hin', 'deu']\n",
      "['kaz', 'hin', 'deu']\n",
      "['kaz', 'hin', 'ydd']\n",
      "['kaz', 'hin', 'ydd']\n",
      "['kaz', 'hin', 'ydd']\n",
      "['kaz', 'hin', 'heb']\n",
      "['kaz', 'hin', 'heb']\n",
      "['kaz', 'hin', 'heb']\n",
      "['kaz', 'hin', 'arb']\n",
      "['kaz', 'hin', 'arb']\n",
      "['kaz', 'hin', 'arb']\n",
      "['kaz', 'hin', 'amh']\n",
      "['kaz', 'hin', 'amh']\n",
      "['kaz', 'hin', 'amh']\n",
      "['kaz', 'hin', 'mlt']\n",
      "['kaz', 'hin', 'mlt']\n",
      "['kaz', 'hin', 'mlt']\n",
      "['kaz', 'hin', 'hin']\n",
      "['kaz', 'hin', 'hin']\n",
      "['kaz', 'hin', 'hin']\n",
      "['kaz', 'hin', 'urd']\n",
      "['kaz', 'hin', 'urd']\n",
      "['kaz', 'hin', 'urd']\n",
      "['kaz', 'hin', 'guj']\n",
      "['kaz', 'hin', 'guj']\n",
      "['kaz', 'hin', 'guj']\n",
      "['kaz', 'hin', 'sin']\n",
      "['kaz', 'hin', 'sin']\n",
      "['kaz', 'hin', 'sin']\n",
      "['kaz', 'hin', 'pan']\n",
      "['kaz', 'hin', 'pan']\n",
      "['kaz', 'hin', 'pan']\n",
      "['kaz', 'hin', 'tur']\n",
      "['kaz', 'hin', 'tur']\n",
      "['kaz', 'hin', 'tur']\n",
      "['kaz', 'hin', 'kaz']\n",
      "['kaz', 'hin', 'kaz']\n",
      "['kaz', 'hin', 'kaz']\n",
      "['kaz', 'hin', 'cmn']\n",
      "['kaz', 'hin', 'cmn']\n",
      "['kaz', 'hin', 'cmn']\n",
      "['kaz', 'hin', 'jpn']\n",
      "['kaz', 'hin', 'jpn']\n",
      "['kaz', 'hin', 'jpn']\n",
      "['kaz', 'hin', 'kor']\n",
      "['kaz', 'hin', 'kor']\n",
      "['kaz', 'hin', 'kor']\n",
      "['kaz', 'hin', 'mon']\n",
      "['kaz', 'hin', 'mon']\n",
      "['kaz', 'hin', 'mon']\n",
      "['kaz', 'hin', 'hun']\n",
      "['kaz', 'hin', 'hun']\n",
      "['kaz', 'hin', 'hun']\n",
      "['kaz', 'hin', 'mhr']\n",
      "['kaz', 'hin', 'mhr']\n",
      "['kaz', 'hin', 'mhr']\n",
      "['kaz', 'hin', 'fin']\n",
      "['kaz', 'hin', 'fin']\n",
      "['kaz', 'hin', 'fin']\n",
      "['tur', 'urd', 'deu']\n",
      "['tur', 'urd', 'deu']\n",
      "['tur', 'urd', 'deu']\n",
      "['tur', 'urd', 'ydd']\n",
      "['tur', 'urd', 'ydd']\n",
      "['tur', 'urd', 'ydd']\n",
      "['tur', 'urd', 'heb']\n",
      "['tur', 'urd', 'heb']\n",
      "['tur', 'urd', 'heb']\n",
      "['tur', 'urd', 'arb']\n",
      "['tur', 'urd', 'arb']\n",
      "['tur', 'urd', 'arb']\n",
      "['tur', 'urd', 'amh']\n",
      "['tur', 'urd', 'amh']\n",
      "['tur', 'urd', 'amh']\n",
      "['tur', 'urd', 'mlt']\n",
      "['tur', 'urd', 'mlt']\n",
      "['tur', 'urd', 'mlt']\n",
      "['tur', 'urd', 'hin']\n",
      "['tur', 'urd', 'hin']\n",
      "['tur', 'urd', 'hin']\n",
      "['tur', 'urd', 'urd']\n",
      "['tur', 'urd', 'urd']\n",
      "['tur', 'urd', 'urd']\n",
      "['tur', 'urd', 'guj']\n",
      "['tur', 'urd', 'guj']\n",
      "['tur', 'urd', 'guj']\n",
      "['tur', 'urd', 'sin']\n",
      "['tur', 'urd', 'sin']\n",
      "['tur', 'urd', 'sin']\n",
      "['tur', 'urd', 'pan']\n",
      "['tur', 'urd', 'pan']\n",
      "['tur', 'urd', 'pan']\n",
      "['tur', 'urd', 'tur']\n",
      "['tur', 'urd', 'tur']\n",
      "['tur', 'urd', 'tur']\n",
      "['tur', 'urd', 'kaz']\n",
      "['tur', 'urd', 'kaz']\n",
      "['tur', 'urd', 'kaz']\n",
      "['tur', 'urd', 'cmn']\n",
      "['tur', 'urd', 'cmn']\n",
      "['tur', 'urd', 'cmn']\n",
      "['tur', 'urd', 'jpn']\n",
      "['tur', 'urd', 'jpn']\n",
      "['tur', 'urd', 'jpn']\n",
      "['tur', 'urd', 'kor']\n",
      "['tur', 'urd', 'kor']\n",
      "['tur', 'urd', 'kor']\n",
      "['tur', 'urd', 'mon']\n",
      "['tur', 'urd', 'mon']\n",
      "['tur', 'urd', 'mon']\n",
      "['tur', 'urd', 'hun']\n",
      "['tur', 'urd', 'hun']\n",
      "['tur', 'urd', 'hun']\n",
      "['tur', 'urd', 'mhr']\n",
      "['tur', 'urd', 'mhr']\n",
      "['tur', 'urd', 'mhr']\n",
      "['tur', 'urd', 'fin']\n",
      "['tur', 'urd', 'fin']\n",
      "['tur', 'urd', 'fin']\n",
      "['hin', 'guj', 'deu']\n",
      "['hin', 'guj', 'deu']\n",
      "['hin', 'guj', 'deu']\n",
      "['hin', 'guj', 'ydd']\n",
      "['hin', 'guj', 'ydd']\n",
      "['hin', 'guj', 'ydd']\n",
      "['hin', 'guj', 'heb']\n",
      "['hin', 'guj', 'heb']\n",
      "['hin', 'guj', 'heb']\n",
      "['hin', 'guj', 'arb']\n",
      "['hin', 'guj', 'arb']\n",
      "['hin', 'guj', 'arb']\n",
      "['hin', 'guj', 'amh']\n",
      "['hin', 'guj', 'amh']\n",
      "['hin', 'guj', 'amh']\n",
      "['hin', 'guj', 'mlt']\n",
      "['hin', 'guj', 'mlt']\n",
      "['hin', 'guj', 'mlt']\n",
      "['hin', 'guj', 'hin']\n",
      "['hin', 'guj', 'hin']\n",
      "['hin', 'guj', 'hin']\n",
      "['hin', 'guj', 'urd']\n",
      "['hin', 'guj', 'urd']\n",
      "['hin', 'guj', 'urd']\n",
      "['hin', 'guj', 'guj']\n",
      "['hin', 'guj', 'guj']\n",
      "['hin', 'guj', 'guj']\n",
      "['hin', 'guj', 'sin']\n",
      "['hin', 'guj', 'sin']\n",
      "['hin', 'guj', 'sin']\n",
      "['hin', 'guj', 'pan']\n",
      "['hin', 'guj', 'pan']\n",
      "['hin', 'guj', 'pan']\n",
      "['hin', 'guj', 'tur']\n",
      "['hin', 'guj', 'tur']\n",
      "['hin', 'guj', 'tur']\n",
      "['hin', 'guj', 'kaz']\n",
      "['hin', 'guj', 'kaz']\n",
      "['hin', 'guj', 'kaz']\n",
      "['hin', 'guj', 'cmn']\n",
      "['hin', 'guj', 'cmn']\n",
      "['hin', 'guj', 'cmn']\n",
      "['hin', 'guj', 'jpn']\n",
      "['hin', 'guj', 'jpn']\n",
      "['hin', 'guj', 'jpn']\n",
      "['hin', 'guj', 'kor']\n",
      "['hin', 'guj', 'kor']\n",
      "['hin', 'guj', 'kor']\n",
      "['hin', 'guj', 'mon']\n",
      "['hin', 'guj', 'mon']\n",
      "['hin', 'guj', 'mon']\n",
      "['hin', 'guj', 'hun']\n",
      "['hin', 'guj', 'hun']\n",
      "['hin', 'guj', 'hun']\n",
      "['hin', 'guj', 'mhr']\n",
      "['hin', 'guj', 'mhr']\n",
      "['hin', 'guj', 'mhr']\n",
      "['hin', 'guj', 'fin']\n",
      "['hin', 'guj', 'fin']\n",
      "['hin', 'guj', 'fin']\n",
      "['hin', 'pan', 'deu']\n",
      "['hin', 'pan', 'deu']\n",
      "['hin', 'pan', 'deu']\n",
      "['hin', 'pan', 'ydd']\n",
      "['hin', 'pan', 'ydd']\n",
      "['hin', 'pan', 'ydd']\n",
      "['hin', 'pan', 'heb']\n",
      "['hin', 'pan', 'heb']\n",
      "['hin', 'pan', 'heb']\n",
      "['hin', 'pan', 'arb']\n",
      "['hin', 'pan', 'arb']\n",
      "['hin', 'pan', 'arb']\n",
      "['hin', 'pan', 'amh']\n",
      "['hin', 'pan', 'amh']\n",
      "['hin', 'pan', 'amh']\n",
      "['hin', 'pan', 'mlt']\n",
      "['hin', 'pan', 'mlt']\n",
      "['hin', 'pan', 'mlt']\n",
      "['hin', 'pan', 'hin']\n",
      "['hin', 'pan', 'hin']\n",
      "['hin', 'pan', 'hin']\n",
      "['hin', 'pan', 'urd']\n",
      "['hin', 'pan', 'urd']\n",
      "['hin', 'pan', 'urd']\n",
      "['hin', 'pan', 'guj']\n",
      "['hin', 'pan', 'guj']\n",
      "['hin', 'pan', 'guj']\n",
      "['hin', 'pan', 'sin']\n",
      "['hin', 'pan', 'sin']\n",
      "['hin', 'pan', 'sin']\n",
      "['hin', 'pan', 'pan']\n",
      "['hin', 'pan', 'pan']\n",
      "['hin', 'pan', 'pan']\n",
      "['hin', 'pan', 'tur']\n",
      "['hin', 'pan', 'tur']\n",
      "['hin', 'pan', 'tur']\n",
      "['hin', 'pan', 'kaz']\n",
      "['hin', 'pan', 'kaz']\n",
      "['hin', 'pan', 'kaz']\n",
      "['hin', 'pan', 'cmn']\n",
      "['hin', 'pan', 'cmn']\n",
      "['hin', 'pan', 'cmn']\n",
      "['hin', 'pan', 'jpn']\n",
      "['hin', 'pan', 'jpn']\n",
      "['hin', 'pan', 'jpn']\n",
      "['hin', 'pan', 'kor']\n",
      "['hin', 'pan', 'kor']\n",
      "['hin', 'pan', 'kor']\n",
      "['hin', 'pan', 'mon']\n",
      "['hin', 'pan', 'mon']\n",
      "['hin', 'pan', 'mon']\n",
      "['hin', 'pan', 'hun']\n",
      "['hin', 'pan', 'hun']\n",
      "['hin', 'pan', 'hun']\n",
      "['hin', 'pan', 'mhr']\n",
      "['hin', 'pan', 'mhr']\n",
      "['hin', 'pan', 'mhr']\n",
      "['hin', 'pan', 'fin']\n",
      "['hin', 'pan', 'fin']\n",
      "['hin', 'pan', 'fin']\n",
      "['jpn', 'deu']\n",
      "['jpn', 'deu']\n",
      "['jpn', 'deu']\n",
      "['jpn', 'ydd']\n",
      "['jpn', 'ydd']\n",
      "['jpn', 'ydd']\n",
      "['jpn', 'heb']\n",
      "['jpn', 'heb']\n",
      "['jpn', 'heb']\n",
      "['jpn', 'arb']\n",
      "['jpn', 'arb']\n",
      "['jpn', 'arb']\n",
      "['jpn', 'amh']\n",
      "['jpn', 'amh']\n",
      "['jpn', 'amh']\n",
      "['jpn', 'mlt']\n",
      "['jpn', 'mlt']\n",
      "['jpn', 'mlt']\n",
      "['jpn', 'hin']\n",
      "['jpn', 'hin']\n",
      "['jpn', 'hin']\n",
      "['jpn', 'urd']\n",
      "['jpn', 'urd']\n",
      "['jpn', 'urd']\n",
      "['jpn', 'guj']\n",
      "['jpn', 'guj']\n",
      "['jpn', 'guj']\n",
      "['jpn', 'sin']\n",
      "['jpn', 'sin']\n",
      "['jpn', 'sin']\n",
      "['jpn', 'pan']\n",
      "['jpn', 'pan']\n",
      "['jpn', 'pan']\n",
      "['jpn', 'tur']\n",
      "['jpn', 'tur']\n",
      "['jpn', 'tur']\n",
      "['jpn', 'kaz']\n",
      "['jpn', 'kaz']\n",
      "['jpn', 'kaz']\n",
      "['jpn', 'cmn']\n",
      "['jpn', 'cmn']\n",
      "['jpn', 'cmn']\n",
      "['jpn', 'jpn']\n",
      "['jpn', 'jpn']\n",
      "['jpn', 'jpn']\n",
      "['jpn', 'kor']\n",
      "['jpn', 'kor']\n",
      "['jpn', 'kor']\n",
      "['jpn', 'mon']\n",
      "['jpn', 'mon']\n",
      "['jpn', 'mon']\n",
      "['jpn', 'hun']\n",
      "['jpn', 'hun']\n",
      "['jpn', 'hun']\n",
      "['jpn', 'mhr']\n",
      "['jpn', 'mhr']\n",
      "['jpn', 'mhr']\n",
      "['jpn', 'fin']\n",
      "['jpn', 'fin']\n",
      "['jpn', 'fin']\n",
      "['urd', 'hin', 'deu']\n",
      "['urd', 'hin', 'deu']\n",
      "['urd', 'hin', 'deu']\n",
      "['urd', 'hin', 'ydd']\n",
      "['urd', 'hin', 'ydd']\n",
      "['urd', 'hin', 'ydd']\n",
      "['urd', 'hin', 'heb']\n",
      "['urd', 'hin', 'heb']\n",
      "['urd', 'hin', 'heb']\n",
      "['urd', 'hin', 'arb']\n",
      "['urd', 'hin', 'arb']\n",
      "['urd', 'hin', 'arb']\n",
      "['urd', 'hin', 'amh']\n",
      "['urd', 'hin', 'amh']\n",
      "['urd', 'hin', 'amh']\n",
      "['urd', 'hin', 'mlt']\n",
      "['urd', 'hin', 'mlt']\n",
      "['urd', 'hin', 'mlt']\n",
      "['urd', 'hin', 'hin']\n",
      "['urd', 'hin', 'hin']\n",
      "['urd', 'hin', 'hin']\n",
      "['urd', 'hin', 'urd']\n",
      "['urd', 'hin', 'urd']\n",
      "['urd', 'hin', 'urd']\n",
      "['urd', 'hin', 'guj']\n",
      "['urd', 'hin', 'guj']\n",
      "['urd', 'hin', 'guj']\n",
      "['urd', 'hin', 'sin']\n",
      "['urd', 'hin', 'sin']\n",
      "['urd', 'hin', 'sin']\n",
      "['urd', 'hin', 'pan']\n",
      "['urd', 'hin', 'pan']\n",
      "['urd', 'hin', 'pan']\n",
      "['urd', 'hin', 'tur']\n",
      "['urd', 'hin', 'tur']\n",
      "['urd', 'hin', 'tur']\n",
      "['urd', 'hin', 'kaz']\n",
      "['urd', 'hin', 'kaz']\n",
      "['urd', 'hin', 'kaz']\n",
      "['urd', 'hin', 'cmn']\n",
      "['urd', 'hin', 'cmn']\n",
      "['urd', 'hin', 'cmn']\n",
      "['urd', 'hin', 'jpn']\n",
      "['urd', 'hin', 'jpn']\n",
      "['urd', 'hin', 'jpn']\n",
      "['urd', 'hin', 'kor']\n",
      "['urd', 'hin', 'kor']\n",
      "['urd', 'hin', 'kor']\n",
      "['urd', 'hin', 'mon']\n",
      "['urd', 'hin', 'mon']\n",
      "['urd', 'hin', 'mon']\n",
      "['urd', 'hin', 'hun']\n",
      "['urd', 'hin', 'hun']\n",
      "['urd', 'hin', 'hun']\n",
      "['urd', 'hin', 'mhr']\n",
      "['urd', 'hin', 'mhr']\n",
      "['urd', 'hin', 'mhr']\n",
      "['urd', 'hin', 'fin']\n",
      "['urd', 'hin', 'fin']\n",
      "['urd', 'hin', 'fin']\n",
      "['heb', 'arb', 'deu']\n",
      "['heb', 'arb', 'deu']\n",
      "['heb', 'arb', 'deu']\n",
      "['heb', 'arb', 'ydd']\n",
      "['heb', 'arb', 'ydd']\n",
      "['heb', 'arb', 'ydd']\n",
      "['heb', 'arb', 'heb']\n",
      "['heb', 'arb', 'heb']\n",
      "['heb', 'arb', 'heb']\n",
      "['heb', 'arb', 'arb']\n",
      "['heb', 'arb', 'arb']\n",
      "['heb', 'arb', 'arb']\n",
      "['heb', 'arb', 'amh']\n",
      "['heb', 'arb', 'amh']\n",
      "['heb', 'arb', 'amh']\n",
      "['heb', 'arb', 'mlt']\n",
      "['heb', 'arb', 'mlt']\n",
      "['heb', 'arb', 'mlt']\n",
      "['heb', 'arb', 'hin']\n",
      "['heb', 'arb', 'hin']\n",
      "['heb', 'arb', 'hin']\n",
      "['heb', 'arb', 'urd']\n",
      "['heb', 'arb', 'urd']\n",
      "['heb', 'arb', 'urd']\n",
      "['heb', 'arb', 'guj']\n",
      "['heb', 'arb', 'guj']\n",
      "['heb', 'arb', 'guj']\n",
      "['heb', 'arb', 'sin']\n",
      "['heb', 'arb', 'sin']\n",
      "['heb', 'arb', 'pan']\n",
      "['heb', 'arb', 'pan']\n",
      "['heb', 'arb', 'pan']\n",
      "['heb', 'arb', 'tur']\n",
      "['heb', 'arb', 'tur']\n",
      "['heb', 'arb', 'tur']\n",
      "['heb', 'arb', 'kaz']\n",
      "['heb', 'arb', 'kaz']\n",
      "['heb', 'arb', 'kaz']\n",
      "['heb', 'arb', 'cmn']\n",
      "['heb', 'arb', 'cmn']\n",
      "['heb', 'arb', 'cmn']\n",
      "['heb', 'arb', 'jpn']\n",
      "['heb', 'arb', 'jpn']\n",
      "['heb', 'arb', 'jpn']\n",
      "['heb', 'arb', 'kor']\n",
      "['heb', 'arb', 'kor']\n",
      "['heb', 'arb', 'kor']\n",
      "['heb', 'arb', 'mon']\n",
      "['heb', 'arb', 'mon']\n",
      "['heb', 'arb', 'mon']\n",
      "['heb', 'arb', 'hun']\n",
      "['heb', 'arb', 'hun']\n",
      "['heb', 'arb', 'hun']\n",
      "['heb', 'arb', 'mhr']\n",
      "['heb', 'arb', 'mhr']\n",
      "['heb', 'arb', 'mhr']\n",
      "['heb', 'arb', 'fin']\n",
      "['heb', 'arb', 'fin']\n",
      "['heb', 'arb', 'fin']\n",
      "['kaz', 'deu']\n",
      "['kaz', 'deu']\n",
      "['kaz', 'deu']\n",
      "['kaz', 'ydd']\n",
      "['kaz', 'ydd']\n",
      "['kaz', 'ydd']\n",
      "['kaz', 'heb']\n",
      "['kaz', 'heb']\n",
      "['kaz', 'heb']\n",
      "['kaz', 'arb']\n",
      "['kaz', 'arb']\n",
      "['kaz', 'arb']\n",
      "['kaz', 'amh']\n",
      "['kaz', 'amh']\n",
      "['kaz', 'amh']\n",
      "['kaz', 'mlt']\n",
      "['kaz', 'mlt']\n",
      "['kaz', 'mlt']\n",
      "['kaz', 'hin']\n",
      "['kaz', 'hin']\n",
      "['kaz', 'hin']\n",
      "['kaz', 'urd']\n",
      "['kaz', 'urd']\n",
      "['kaz', 'urd']\n",
      "['kaz', 'guj']\n",
      "['kaz', 'guj']\n",
      "['kaz', 'guj']\n",
      "['kaz', 'sin']\n",
      "['kaz', 'sin']\n",
      "['kaz', 'sin']\n",
      "['kaz', 'pan']\n",
      "['kaz', 'pan']\n",
      "['kaz', 'pan']\n",
      "['kaz', 'tur']\n",
      "['kaz', 'tur']\n",
      "['kaz', 'tur']\n",
      "['kaz', 'kaz']\n",
      "['kaz', 'kaz']\n",
      "['kaz', 'kaz']\n",
      "['kaz', 'cmn']\n",
      "['kaz', 'cmn']\n",
      "['kaz', 'cmn']\n",
      "['kaz', 'jpn']\n",
      "['kaz', 'jpn']\n",
      "['kaz', 'jpn']\n",
      "['kaz', 'kor']\n",
      "['kaz', 'kor']\n",
      "['kaz', 'kor']\n",
      "['kaz', 'mon']\n",
      "['kaz', 'mon']\n",
      "['kaz', 'mon']\n",
      "['kaz', 'hun']\n",
      "['kaz', 'hun']\n",
      "['kaz', 'hun']\n",
      "['kaz', 'mhr']\n",
      "['kaz', 'mhr']\n",
      "['kaz', 'mhr']\n",
      "['kaz', 'fin']\n",
      "['kaz', 'fin']\n",
      "['kaz', 'fin']\n"
     ]
    }
   ],
   "source": [
    "df_mult[\"train_eval_langs\"]= df_mult.apply(lambda row:get_langs_for_row(row), axis=1)"
   ]
  },
  {
   "cell_type": "code",
   "execution_count": 253,
   "id": "259fc5b2-616e-42d6-b7e7-ebfd90d615bb",
   "metadata": {
    "execution": {
     "iopub.execute_input": "2024-10-01T14:13:10.154497Z",
     "iopub.status.busy": "2024-10-01T14:13:10.152991Z",
     "iopub.status.idle": "2024-10-01T14:13:10.204954Z",
     "shell.execute_reply": "2024-10-01T14:13:10.204472Z",
     "shell.execute_reply.started": "2024-10-01T14:13:10.154425Z"
    }
   },
   "outputs": [],
   "source": [
    "groups=[]\n",
    "for k, group in df_mult.groupby(by=\"train_eval_langs\"):\n",
    "    if len(group)==3:\n",
    "        groups.append(group)\n",
    "    "
   ]
  },
  {
   "cell_type": "code",
   "execution_count": 254,
   "id": "6b4af64a-eed7-4704-84c0-aaa5b39bd989",
   "metadata": {
    "execution": {
     "iopub.execute_input": "2024-10-01T14:13:10.703934Z",
     "iopub.status.busy": "2024-10-01T14:13:10.702507Z",
     "iopub.status.idle": "2024-10-01T14:13:10.718712Z",
     "shell.execute_reply": "2024-10-01T14:13:10.717517Z",
     "shell.execute_reply.started": "2024-10-01T14:13:10.703846Z"
    }
   },
   "outputs": [
    {
     "data": {
      "text/plain": [
       "609"
      ]
     },
     "execution_count": 254,
     "metadata": {},
     "output_type": "execute_result"
    }
   ],
   "source": [
    "len(groups)"
   ]
  },
  {
   "cell_type": "code",
   "execution_count": 255,
   "id": "d6ae1f5c-206d-4d08-854b-9b154fa7eaa5",
   "metadata": {
    "execution": {
     "iopub.execute_input": "2024-10-01T14:13:11.130157Z",
     "iopub.status.busy": "2024-10-01T14:13:11.128898Z",
     "iopub.status.idle": "2024-10-01T14:13:11.185735Z",
     "shell.execute_reply": "2024-10-01T14:13:11.185246Z",
     "shell.execute_reply.started": "2024-10-01T14:13:11.130089Z"
    }
   },
   "outputs": [],
   "source": [
    "df_mult_groupped = pd.concat(groups, axis=0)"
   ]
  },
  {
   "cell_type": "code",
   "execution_count": 256,
   "id": "707fa40b-0b86-43aa-b5e3-f7f8b71f657d",
   "metadata": {
    "execution": {
     "iopub.execute_input": "2024-10-01T14:13:11.464594Z",
     "iopub.status.busy": "2024-10-01T14:13:11.456212Z",
     "iopub.status.idle": "2024-10-01T14:13:11.469497Z",
     "shell.execute_reply": "2024-10-01T14:13:11.468883Z",
     "shell.execute_reply.started": "2024-10-01T14:13:11.464529Z"
    }
   },
   "outputs": [],
   "source": [
    "pd.set_option('display.max_columns', None)"
   ]
  },
  {
   "cell_type": "code",
   "execution_count": 257,
   "id": "b0e10d1c-85c7-4fda-8627-9df57aeaf0b9",
   "metadata": {
    "execution": {
     "iopub.execute_input": "2024-10-01T14:13:11.994622Z",
     "iopub.status.busy": "2024-10-01T14:13:11.993475Z",
     "iopub.status.idle": "2024-10-01T14:13:12.011776Z",
     "shell.execute_reply": "2024-10-01T14:13:12.010376Z",
     "shell.execute_reply.started": "2024-10-01T14:13:11.994516Z"
    }
   },
   "outputs": [
    {
     "data": {
      "text/plain": [
       "{'eng': 0.07, 'ara': 0.77, 'fra': 0.1, 'deu': 0.01, 'aze': 0.01, 'tur': 0.01}"
      ]
     },
     "execution_count": 257,
     "metadata": {},
     "output_type": "execute_result"
    }
   ],
   "source": [
    "df_mult_groupped.iloc[0][\"pred_langs\"]"
   ]
  },
  {
   "cell_type": "code",
   "execution_count": 258,
   "id": "847dd5bf-caee-463f-a0db-2acee98aa5b3",
   "metadata": {
    "execution": {
     "iopub.execute_input": "2024-10-01T14:13:17.756931Z",
     "iopub.status.busy": "2024-10-01T14:13:17.756015Z",
     "iopub.status.idle": "2024-10-01T14:13:17.767511Z",
     "shell.execute_reply": "2024-10-01T14:13:17.766113Z",
     "shell.execute_reply.started": "2024-10-01T14:13:17.756878Z"
    }
   },
   "outputs": [],
   "source": [
    "def filter_lang(r):\n",
    "    if r[\"eval_lang\"] not in r[\"training_langs\"]:\n",
    "        return False\n",
    "    else:\n",
    "        return True"
   ]
  },
  {
   "cell_type": "markdown",
   "id": "3132da92-1a16-4c81-927c-f1cfd2d0d988",
   "metadata": {},
   "source": [
    "# Entropy"
   ]
  },
  {
   "cell_type": "code",
   "execution_count": 259,
   "id": "dfece489-d89f-42aa-980d-00efbe6f9fbf",
   "metadata": {
    "execution": {
     "iopub.execute_input": "2024-10-01T14:13:20.194359Z",
     "iopub.status.busy": "2024-10-01T14:13:20.193470Z",
     "iopub.status.idle": "2024-10-01T14:13:20.206673Z",
     "shell.execute_reply": "2024-10-01T14:13:20.205351Z",
     "shell.execute_reply.started": "2024-10-01T14:13:20.194315Z"
    }
   },
   "outputs": [],
   "source": [
    "def get_entropy(x):\n",
    "    return entropy(np.array(list(x.values())))"
   ]
  },
  {
   "cell_type": "code",
   "execution_count": 217,
   "id": "84bcf2a4-a64f-4301-b8bc-f8f29c5008ff",
   "metadata": {
    "execution": {
     "iopub.execute_input": "2024-10-01T11:55:17.454812Z",
     "iopub.status.busy": "2024-10-01T11:55:17.452241Z",
     "iopub.status.idle": "2024-10-01T11:55:17.893934Z",
     "shell.execute_reply": "2024-10-01T11:55:17.893543Z",
     "shell.execute_reply.started": "2024-10-01T11:55:17.454730Z"
    }
   },
   "outputs": [],
   "source": [
    "df_mult_groupped[\"entropy\"]= df_mult_groupped[\"pred_langs\"].apply(get_entropy)"
   ]
  },
  {
   "cell_type": "code",
   "execution_count": 220,
   "id": "45af9d28-e020-463c-ac51-98ff67663ca4",
   "metadata": {
    "execution": {
     "iopub.execute_input": "2024-10-01T14:02:11.414161Z",
     "iopub.status.busy": "2024-10-01T14:02:11.412489Z",
     "iopub.status.idle": "2024-10-01T14:02:11.428323Z",
     "shell.execute_reply": "2024-10-01T14:02:11.426859Z",
     "shell.execute_reply.started": "2024-10-01T14:02:11.414086Z"
    }
   },
   "outputs": [],
   "source": [
    "def get_langs_outside_train_eval(row):\n",
    "    pred_langs_out = {}\n",
    "    eval_lang = row[\"eval_lang\"]\n",
    "    train_langs= row[\"training_langs\"]\n",
    "    for lang, prob in row[\"pred_langs\"].items():\n",
    "        if lang!=eval_lang and eval_lang not in train_langs:\n",
    "            pred_langs_out[lang]=prob\n",
    "    return pred_langs_out\n",
    "    "
   ]
  },
  {
   "cell_type": "code",
   "execution_count": 223,
   "id": "7c70949c-4a56-4f4d-8eb6-fe47ea2de18d",
   "metadata": {
    "execution": {
     "iopub.execute_input": "2024-10-01T14:02:53.438617Z",
     "iopub.status.busy": "2024-10-01T14:02:53.436738Z",
     "iopub.status.idle": "2024-10-01T14:02:53.480758Z",
     "shell.execute_reply": "2024-10-01T14:02:53.480088Z",
     "shell.execute_reply.started": "2024-10-01T14:02:53.438566Z"
    }
   },
   "outputs": [],
   "source": [
    "df_mult_groupped[\"pred_langs_outside_train_eval\"]=df_mult_groupped.apply(lambda x:get_langs_outside_train_eval(x), axis=1)"
   ]
  },
  {
   "cell_type": "code",
   "execution_count": 261,
   "id": "1427c36d-5835-4500-82ad-89d57c80812a",
   "metadata": {
    "execution": {
     "iopub.execute_input": "2024-10-01T14:13:37.844567Z",
     "iopub.status.busy": "2024-10-01T14:13:37.843264Z",
     "iopub.status.idle": "2024-10-01T14:13:37.856386Z",
     "shell.execute_reply": "2024-10-01T14:13:37.855064Z",
     "shell.execute_reply.started": "2024-10-01T14:13:37.844486Z"
    }
   },
   "outputs": [],
   "source": [
    "def prob_dist_norm(x):\n",
    "    unk_value = round(1-sum(x.values()),2)\n",
    "    if unk_value>0:\n",
    "        x[\"unk\"] = unk_value\n",
    "    return x\n",
    "    "
   ]
  },
  {
   "cell_type": "code",
   "execution_count": 263,
   "id": "47812ab0-e4d7-4809-9322-03336aafe2fe",
   "metadata": {
    "execution": {
     "iopub.execute_input": "2024-10-01T14:14:36.544182Z",
     "iopub.status.busy": "2024-10-01T14:14:36.543645Z",
     "iopub.status.idle": "2024-10-01T14:14:36.556840Z",
     "shell.execute_reply": "2024-10-01T14:14:36.555448Z",
     "shell.execute_reply.started": "2024-10-01T14:14:36.544145Z"
    }
   },
   "outputs": [],
   "source": [
    "df_mult_groupped[\"pred_langs_dist\"]=df_mult_groupped[\"pred_langs\"].apply(prob_dist_norm)"
   ]
  },
  {
   "cell_type": "code",
   "execution_count": 265,
   "id": "b2e5a2a5-119b-4c50-9273-bcc954c6e864",
   "metadata": {
    "execution": {
     "iopub.execute_input": "2024-10-01T14:18:03.098003Z",
     "iopub.status.busy": "2024-10-01T14:18:03.097060Z",
     "iopub.status.idle": "2024-10-01T14:18:03.125320Z",
     "shell.execute_reply": "2024-10-01T14:18:03.124669Z",
     "shell.execute_reply.started": "2024-10-01T14:18:03.097952Z"
    }
   },
   "outputs": [
    {
     "data": {
      "text/html": [
       "<div>\n",
       "<style scoped>\n",
       "    .dataframe tbody tr th:only-of-type {\n",
       "        vertical-align: middle;\n",
       "    }\n",
       "\n",
       "    .dataframe tbody tr th {\n",
       "        vertical-align: top;\n",
       "    }\n",
       "\n",
       "    .dataframe thead th {\n",
       "        text-align: right;\n",
       "    }\n",
       "</style>\n",
       "<table border=\"1\" class=\"dataframe\">\n",
       "  <thead>\n",
       "    <tr style=\"text-align: right;\">\n",
       "      <th></th>\n",
       "      <th>model</th>\n",
       "      <th>training</th>\n",
       "      <th>eval_lang</th>\n",
       "      <th>step</th>\n",
       "      <th>pred_langs</th>\n",
       "      <th>emb_cos_sim</th>\n",
       "      <th>training_langs</th>\n",
       "      <th>train_eval_langs</th>\n",
       "      <th>pred_langs_dist</th>\n",
       "    </tr>\n",
       "  </thead>\n",
       "  <tbody>\n",
       "    <tr>\n",
       "      <th>694</th>\n",
       "      <td>me5_arb_Arab</td>\n",
       "      <td>[arb_Arab]</td>\n",
       "      <td>amh</td>\n",
       "      <td>Base</td>\n",
       "      <td>{'eng': 0.07, 'ara': 0.77, 'fra': 0.1, 'deu': ...</td>\n",
       "      <td>0.788960</td>\n",
       "      <td>[arb]</td>\n",
       "      <td>arb_amh</td>\n",
       "      <td>{'eng': 0.07, 'ara': 0.77, 'fra': 0.1, 'deu': ...</td>\n",
       "    </tr>\n",
       "    <tr>\n",
       "      <th>695</th>\n",
       "      <td>me5_arb_Arab</td>\n",
       "      <td>[arb_Arab]</td>\n",
       "      <td>amh</td>\n",
       "      <td>Step1</td>\n",
       "      <td>{'ara': 0.82, 'fra': 0.08, 'eng': 0.05, 'tur':...</td>\n",
       "      <td>0.792269</td>\n",
       "      <td>[arb]</td>\n",
       "      <td>arb_amh</td>\n",
       "      <td>{'ara': 0.82, 'fra': 0.08, 'eng': 0.05, 'tur':...</td>\n",
       "    </tr>\n",
       "  </tbody>\n",
       "</table>\n",
       "</div>"
      ],
      "text/plain": [
       "            model    training eval_lang   step  \\\n",
       "694  me5_arb_Arab  [arb_Arab]       amh   Base   \n",
       "695  me5_arb_Arab  [arb_Arab]       amh  Step1   \n",
       "\n",
       "                                            pred_langs  emb_cos_sim  \\\n",
       "694  {'eng': 0.07, 'ara': 0.77, 'fra': 0.1, 'deu': ...     0.788960   \n",
       "695  {'ara': 0.82, 'fra': 0.08, 'eng': 0.05, 'tur':...     0.792269   \n",
       "\n",
       "    training_langs train_eval_langs  \\\n",
       "694          [arb]          arb_amh   \n",
       "695          [arb]          arb_amh   \n",
       "\n",
       "                                       pred_langs_dist  \n",
       "694  {'eng': 0.07, 'ara': 0.77, 'fra': 0.1, 'deu': ...  \n",
       "695  {'ara': 0.82, 'fra': 0.08, 'eng': 0.05, 'tur':...  "
      ]
     },
     "execution_count": 265,
     "metadata": {},
     "output_type": "execute_result"
    }
   ],
   "source": [
    "df_mult_groupped.head(2)"
   ]
  },
  {
   "cell_type": "code",
   "execution_count": null,
   "id": "a214330c-2bb4-4416-a9c1-2318a6badf21",
   "metadata": {},
   "outputs": [],
   "source": []
  },
  {
   "cell_type": "code",
   "execution_count": 266,
   "id": "c941a9de-b06d-46c4-82bf-a35f265e8f21",
   "metadata": {
    "execution": {
     "iopub.execute_input": "2024-10-01T14:22:07.704580Z",
     "iopub.status.busy": "2024-10-01T14:22:07.702636Z",
     "iopub.status.idle": "2024-10-01T14:22:07.716832Z",
     "shell.execute_reply": "2024-10-01T14:22:07.715518Z",
     "shell.execute_reply.started": "2024-10-01T14:22:07.704147Z"
    }
   },
   "outputs": [],
   "source": [
    "def get_entropy_for_all(x):\n",
    "    return entropy(np.array(list(x.values())))"
   ]
  },
  {
   "cell_type": "code",
   "execution_count": 269,
   "id": "7a0bb6c7-45cc-44db-8e20-255f28271c1c",
   "metadata": {
    "execution": {
     "iopub.execute_input": "2024-10-01T14:29:34.509347Z",
     "iopub.status.busy": "2024-10-01T14:29:34.508081Z",
     "iopub.status.idle": "2024-10-01T14:29:34.524670Z",
     "shell.execute_reply": "2024-10-01T14:29:34.523239Z",
     "shell.execute_reply.started": "2024-10-01T14:29:34.509268Z"
    }
   },
   "outputs": [],
   "source": [
    "def get_entropy_outside_eval_train(row):\n",
    "    \"\"\"Get entropy outside eval/train langauges.\"\"\"\n",
    "    pred_langs_dist = row[\"pred_langs_dist\"]\n",
    "    train_langs = row[\"training_langs\"]\n",
    "    eval_lang = row[\"eval_lang\"]\n",
    "    dist_others =[]\n",
    "    for lang, dist in pred_langs_dist.items():\n",
    "        if lang != eval_lang and lang not in train_langs:\n",
    "            dist_others.append(dist)\n",
    "    return entropy(np.array(dist_others))\n",
    "    "
   ]
  },
  {
   "cell_type": "code",
   "execution_count": 270,
   "id": "b0780352-e1d2-45d0-a2e6-e2a687bcc785",
   "metadata": {
    "execution": {
     "iopub.execute_input": "2024-10-01T14:29:36.137161Z",
     "iopub.status.busy": "2024-10-01T14:29:36.136005Z",
     "iopub.status.idle": "2024-10-01T14:29:36.592796Z",
     "shell.execute_reply": "2024-10-01T14:29:36.592381Z",
     "shell.execute_reply.started": "2024-10-01T14:29:36.137093Z"
    }
   },
   "outputs": [],
   "source": [
    "df_mult_groupped[\"entropy_all_langs\"]= df_mult_groupped[\"pred_langs_dist\"].apply(get_entropy_for_all)"
   ]
  },
  {
   "cell_type": "code",
   "execution_count": 283,
   "id": "61e18f57-81dc-4e34-920f-c7f1fc5c222d",
   "metadata": {
    "execution": {
     "iopub.execute_input": "2024-10-01T14:47:11.242368Z",
     "iopub.status.busy": "2024-10-01T14:47:11.241469Z",
     "iopub.status.idle": "2024-10-01T14:47:11.257828Z",
     "shell.execute_reply": "2024-10-01T14:47:11.256561Z",
     "shell.execute_reply.started": "2024-10-01T14:47:11.242323Z"
    }
   },
   "outputs": [],
   "source": [
    "def get_weighted_entropy(row):\n",
    "    pred_langs_dist = row[\"pred_langs_dist\"]\n",
    "    train_langs = row[\"training_langs\"]\n",
    "    eval_lang = row[\"eval_lang\"]\n",
    "    prob_train_eval=0\n",
    "    entropy_dist_others = 0\n",
    "    for lang, dist in pred_langs_dist.items():\n",
    "        if lang in train_langs:\n",
    "            prob_train_eval+=dist\n",
    "        elif lang==eval_lang:\n",
    "            prob_train_eval+=dist\n",
    "        else:\n",
    "            entropy_dist_others += np.log(dist)\n",
    "    return -(1-prob_train_eval)*entropy_dist_others\n"
   ]
  },
  {
   "cell_type": "code",
   "execution_count": 271,
   "id": "b2c3334b-fa30-4f3f-a1c7-1e8002e04e8a",
   "metadata": {
    "execution": {
     "iopub.execute_input": "2024-10-01T14:30:09.908885Z",
     "iopub.status.busy": "2024-10-01T14:30:09.907576Z",
     "iopub.status.idle": "2024-10-01T14:30:10.385186Z",
     "shell.execute_reply": "2024-10-01T14:30:10.384815Z",
     "shell.execute_reply.started": "2024-10-01T14:30:09.908812Z"
    }
   },
   "outputs": [],
   "source": [
    "df_mult_groupped[\"entropy_outside\"]=  df_mult_groupped.apply(get_entropy_outside_eval_train, axis=1)"
   ]
  },
  {
   "cell_type": "code",
   "execution_count": 284,
   "id": "b9702039-afab-4cec-92f5-fa8a83b0b3b6",
   "metadata": {
    "execution": {
     "iopub.execute_input": "2024-10-01T14:47:14.228258Z",
     "iopub.status.busy": "2024-10-01T14:47:14.227371Z",
     "iopub.status.idle": "2024-10-01T14:47:14.286398Z",
     "shell.execute_reply": "2024-10-01T14:47:14.285476Z",
     "shell.execute_reply.started": "2024-10-01T14:47:14.228197Z"
    }
   },
   "outputs": [],
   "source": [
    "df_mult_groupped[\"weighted_entropy\"]= df_mult_groupped.apply(get_weighted_entropy, axis=1)"
   ]
  },
  {
   "cell_type": "code",
   "execution_count": 285,
   "id": "8b249b57-b434-4f91-997b-4276671528e3",
   "metadata": {
    "execution": {
     "iopub.execute_input": "2024-10-01T14:47:14.681498Z",
     "iopub.status.busy": "2024-10-01T14:47:14.679909Z",
     "iopub.status.idle": "2024-10-01T14:47:14.700940Z",
     "shell.execute_reply": "2024-10-01T14:47:14.700007Z",
     "shell.execute_reply.started": "2024-10-01T14:47:14.681410Z"
    }
   },
   "outputs": [
    {
     "data": {
      "text/html": [
       "<div>\n",
       "<style scoped>\n",
       "    .dataframe tbody tr th:only-of-type {\n",
       "        vertical-align: middle;\n",
       "    }\n",
       "\n",
       "    .dataframe tbody tr th {\n",
       "        vertical-align: top;\n",
       "    }\n",
       "\n",
       "    .dataframe thead th {\n",
       "        text-align: right;\n",
       "    }\n",
       "</style>\n",
       "<table border=\"1\" class=\"dataframe\">\n",
       "  <thead>\n",
       "    <tr style=\"text-align: right;\">\n",
       "      <th></th>\n",
       "      <th>entropy_all_langs</th>\n",
       "      <th>entropy_outside</th>\n",
       "      <th>weighted_entropy</th>\n",
       "    </tr>\n",
       "  </thead>\n",
       "  <tbody>\n",
       "    <tr>\n",
       "      <th>entropy_all_langs</th>\n",
       "      <td>1.000000</td>\n",
       "      <td>0.759480</td>\n",
       "      <td>0.692401</td>\n",
       "    </tr>\n",
       "    <tr>\n",
       "      <th>entropy_outside</th>\n",
       "      <td>0.759480</td>\n",
       "      <td>1.000000</td>\n",
       "      <td>0.504512</td>\n",
       "    </tr>\n",
       "    <tr>\n",
       "      <th>weighted_entropy</th>\n",
       "      <td>0.692401</td>\n",
       "      <td>0.504512</td>\n",
       "      <td>1.000000</td>\n",
       "    </tr>\n",
       "  </tbody>\n",
       "</table>\n",
       "</div>"
      ],
      "text/plain": [
       "                   entropy_all_langs  entropy_outside  weighted_entropy\n",
       "entropy_all_langs           1.000000         0.759480          0.692401\n",
       "entropy_outside             0.759480         1.000000          0.504512\n",
       "weighted_entropy            0.692401         0.504512          1.000000"
      ]
     },
     "execution_count": 285,
     "metadata": {},
     "output_type": "execute_result"
    }
   ],
   "source": [
    "df_mult_groupped[[\"entropy_all_langs\", \"entropy_outside\", \"weighted_entropy\"]].corr()"
   ]
  },
  {
   "cell_type": "code",
   "execution_count": null,
   "id": "376b184e-69bb-4ffb-bf10-595c5f57d318",
   "metadata": {},
   "outputs": [],
   "source": [
    "df_mult_groupped[\"training_langs\"].tolist()[0][0]"
   ]
  },
  {
   "cell_type": "code",
   "execution_count": null,
   "id": "cf2b1160-70e1-460a-b351-a3207435f059",
   "metadata": {},
   "outputs": [],
   "source": [
    "df_mult_groupped.head(2)"
   ]
  },
  {
   "cell_type": "code",
   "execution_count": null,
   "id": "f1a4d6cd-eee3-4d84-97ee-296a7f36d3b7",
   "metadata": {},
   "outputs": [],
   "source": []
  },
  {
   "cell_type": "markdown",
   "id": "a74ab843-6902-4bd7-acff-2ccf62b07fd3",
   "metadata": {},
   "source": [
    "# group by multilingual model at line level"
   ]
  },
  {
   "cell_type": "code",
   "execution_count": 332,
   "id": "b7828ee0-d156-4296-ae7c-12878015e09f",
   "metadata": {
    "execution": {
     "iopub.execute_input": "2024-10-01T15:15:06.269992Z",
     "iopub.status.busy": "2024-10-01T15:15:06.268816Z",
     "iopub.status.idle": "2024-10-01T15:15:06.310329Z",
     "shell.execute_reply": "2024-10-01T15:15:06.308999Z",
     "shell.execute_reply.started": "2024-10-01T15:15:06.269927Z"
    },
    "scrolled": true
   },
   "outputs": [],
   "source": [
    "df_mult_groupped[\"eval_in_training\"]=df_mult_groupped.apply(lambda row: filter_lang(row), axis=1)"
   ]
  },
  {
   "cell_type": "code",
   "execution_count": 290,
   "id": "d5b5787e-613f-4ff4-a92c-2a0a748c9777",
   "metadata": {
    "execution": {
     "iopub.execute_input": "2024-10-01T14:48:48.403331Z",
     "iopub.status.busy": "2024-10-01T14:48:48.402320Z",
     "iopub.status.idle": "2024-10-01T14:48:48.419305Z",
     "shell.execute_reply": "2024-10-01T14:48:48.418387Z",
     "shell.execute_reply.started": "2024-10-01T14:48:48.403276Z"
    }
   },
   "outputs": [],
   "source": [
    "df_mult_groupped_crosslingual = df_mult_groupped[df_mult_groupped[\"eval_in_training\"]==False]"
   ]
  },
  {
   "cell_type": "code",
   "execution_count": 333,
   "id": "a9a99f62-e385-4ccc-9ea3-42add0282e25",
   "metadata": {
    "execution": {
     "iopub.execute_input": "2024-10-01T15:15:08.022822Z",
     "iopub.status.busy": "2024-10-01T15:15:08.022092Z",
     "iopub.status.idle": "2024-10-01T15:15:08.055946Z",
     "shell.execute_reply": "2024-10-01T15:15:08.055375Z",
     "shell.execute_reply.started": "2024-10-01T15:15:08.022781Z"
    }
   },
   "outputs": [
    {
     "data": {
      "text/html": [
       "<div>\n",
       "<style scoped>\n",
       "    .dataframe tbody tr th:only-of-type {\n",
       "        vertical-align: middle;\n",
       "    }\n",
       "\n",
       "    .dataframe tbody tr th {\n",
       "        vertical-align: top;\n",
       "    }\n",
       "\n",
       "    .dataframe thead th {\n",
       "        text-align: right;\n",
       "    }\n",
       "</style>\n",
       "<table border=\"1\" class=\"dataframe\">\n",
       "  <thead>\n",
       "    <tr style=\"text-align: right;\">\n",
       "      <th></th>\n",
       "      <th>model</th>\n",
       "      <th>training</th>\n",
       "      <th>eval_lang</th>\n",
       "      <th>step</th>\n",
       "      <th>pred_langs</th>\n",
       "      <th>emb_cos_sim</th>\n",
       "      <th>training_langs</th>\n",
       "      <th>train_eval_langs</th>\n",
       "      <th>pred_langs_dist</th>\n",
       "      <th>entropy_all_langs</th>\n",
       "      <th>entropy_outside</th>\n",
       "      <th>eval_in_training</th>\n",
       "      <th>weighted_entropy</th>\n",
       "    </tr>\n",
       "  </thead>\n",
       "  <tbody>\n",
       "    <tr>\n",
       "      <th>694</th>\n",
       "      <td>me5_arb_Arab</td>\n",
       "      <td>[arb_Arab]</td>\n",
       "      <td>amh</td>\n",
       "      <td>Base</td>\n",
       "      <td>{'eng': 0.07, 'ara': 0.77, 'fra': 0.1, 'deu': ...</td>\n",
       "      <td>0.788960</td>\n",
       "      <td>[arb]</td>\n",
       "      <td>arb_amh</td>\n",
       "      <td>{'eng': 0.07, 'ara': 0.77, 'fra': 0.1, 'deu': ...</td>\n",
       "      <td>0.861009</td>\n",
       "      <td>0.861009</td>\n",
       "      <td>False</td>\n",
       "      <td>22.545278</td>\n",
       "    </tr>\n",
       "    <tr>\n",
       "      <th>695</th>\n",
       "      <td>me5_arb_Arab</td>\n",
       "      <td>[arb_Arab]</td>\n",
       "      <td>amh</td>\n",
       "      <td>Step1</td>\n",
       "      <td>{'ara': 0.82, 'fra': 0.08, 'eng': 0.05, 'tur':...</td>\n",
       "      <td>0.792269</td>\n",
       "      <td>[arb]</td>\n",
       "      <td>arb_amh</td>\n",
       "      <td>{'ara': 0.82, 'fra': 0.08, 'eng': 0.05, 'tur':...</td>\n",
       "      <td>0.689381</td>\n",
       "      <td>0.689381</td>\n",
       "      <td>False</td>\n",
       "      <td>13.543958</td>\n",
       "    </tr>\n",
       "    <tr>\n",
       "      <th>696</th>\n",
       "      <td>me5_arb_Arab</td>\n",
       "      <td>[arb_Arab]</td>\n",
       "      <td>amh</td>\n",
       "      <td>Step50+sbeam8</td>\n",
       "      <td>{'ara': 0.82, 'fra': 0.06, 'eng': 0.05, 'tur':...</td>\n",
       "      <td>0.797702</td>\n",
       "      <td>[arb]</td>\n",
       "      <td>arb_amh</td>\n",
       "      <td>{'ara': 0.82, 'fra': 0.06, 'eng': 0.05, 'tur':...</td>\n",
       "      <td>0.696177</td>\n",
       "      <td>0.696177</td>\n",
       "      <td>False</td>\n",
       "      <td>13.426175</td>\n",
       "    </tr>\n",
       "    <tr>\n",
       "      <th>690</th>\n",
       "      <td>me5_arb_Arab</td>\n",
       "      <td>[arb_Arab]</td>\n",
       "      <td>arb</td>\n",
       "      <td>Base</td>\n",
       "      <td>{'ara': 0.99, 'unk': 0.01}</td>\n",
       "      <td>0.930994</td>\n",
       "      <td>[arb]</td>\n",
       "      <td>arb_arb</td>\n",
       "      <td>{'ara': 0.99, 'unk': 0.01}</td>\n",
       "      <td>0.056002</td>\n",
       "      <td>0.056002</td>\n",
       "      <td>True</td>\n",
       "      <td>4.615221</td>\n",
       "    </tr>\n",
       "    <tr>\n",
       "      <th>691</th>\n",
       "      <td>me5_arb_Arab</td>\n",
       "      <td>[arb_Arab]</td>\n",
       "      <td>arb</td>\n",
       "      <td>Step1</td>\n",
       "      <td>{'ara': 1.0}</td>\n",
       "      <td>0.929250</td>\n",
       "      <td>[arb]</td>\n",
       "      <td>arb_arb</td>\n",
       "      <td>{'ara': 1.0}</td>\n",
       "      <td>0.000000</td>\n",
       "      <td>0.000000</td>\n",
       "      <td>True</td>\n",
       "      <td>-0.000000</td>\n",
       "    </tr>\n",
       "    <tr>\n",
       "      <th>...</th>\n",
       "      <td>...</td>\n",
       "      <td>...</td>\n",
       "      <td>...</td>\n",
       "      <td>...</td>\n",
       "      <td>...</td>\n",
       "      <td>...</td>\n",
       "      <td>...</td>\n",
       "      <td>...</td>\n",
       "      <td>...</td>\n",
       "      <td>...</td>\n",
       "      <td>...</td>\n",
       "      <td>...</td>\n",
       "      <td>...</td>\n",
       "    </tr>\n",
       "    <tr>\n",
       "      <th>349</th>\n",
       "      <td>me5_urd_Arab</td>\n",
       "      <td>[urd_Arab]</td>\n",
       "      <td>urd</td>\n",
       "      <td>Step50+sbeam8</td>\n",
       "      <td>{'urd': 0.99, 'fas': 0.01}</td>\n",
       "      <td>0.971182</td>\n",
       "      <td>[urd]</td>\n",
       "      <td>urd_urd</td>\n",
       "      <td>{'urd': 0.99, 'fas': 0.01}</td>\n",
       "      <td>0.056002</td>\n",
       "      <td>0.000000</td>\n",
       "      <td>True</td>\n",
       "      <td>0.046052</td>\n",
       "    </tr>\n",
       "    <tr>\n",
       "      <th>350</th>\n",
       "      <td>me5_urd_Arab</td>\n",
       "      <td>[urd_Arab]</td>\n",
       "      <td>urd</td>\n",
       "      <td>Base</td>\n",
       "      <td>{'urd': 0.99, 'fas': 0.01}</td>\n",
       "      <td>0.961163</td>\n",
       "      <td>[urd]</td>\n",
       "      <td>urd_urd</td>\n",
       "      <td>{'urd': 0.99, 'fas': 0.01}</td>\n",
       "      <td>0.056002</td>\n",
       "      <td>0.000000</td>\n",
       "      <td>True</td>\n",
       "      <td>0.046052</td>\n",
       "    </tr>\n",
       "    <tr>\n",
       "      <th>324</th>\n",
       "      <td>me5_urd_Arab</td>\n",
       "      <td>[urd_Arab]</td>\n",
       "      <td>ydd</td>\n",
       "      <td>Step1</td>\n",
       "      <td>{'urd': 0.97, 'eng': 0.02, 'fas': 0.01}</td>\n",
       "      <td>0.874004</td>\n",
       "      <td>[urd]</td>\n",
       "      <td>urd_ydd</td>\n",
       "      <td>{'urd': 0.97, 'eng': 0.02, 'fas': 0.01}</td>\n",
       "      <td>0.153838</td>\n",
       "      <td>0.636514</td>\n",
       "      <td>False</td>\n",
       "      <td>0.255516</td>\n",
       "    </tr>\n",
       "    <tr>\n",
       "      <th>325</th>\n",
       "      <td>me5_urd_Arab</td>\n",
       "      <td>[urd_Arab]</td>\n",
       "      <td>ydd</td>\n",
       "      <td>Step50+sbeam8</td>\n",
       "      <td>{'urd': 0.94, 'eng': 0.01, 'fas': 0.02, 'pnb':...</td>\n",
       "      <td>0.845068</td>\n",
       "      <td>[urd]</td>\n",
       "      <td>urd_ydd</td>\n",
       "      <td>{'urd': 0.94, 'eng': 0.01, 'fas': 0.02, 'pnb':...</td>\n",
       "      <td>0.320610</td>\n",
       "      <td>1.560710</td>\n",
       "      <td>False</td>\n",
       "      <td>1.339962</td>\n",
       "    </tr>\n",
       "    <tr>\n",
       "      <th>326</th>\n",
       "      <td>me5_urd_Arab</td>\n",
       "      <td>[urd_Arab]</td>\n",
       "      <td>ydd</td>\n",
       "      <td>Base</td>\n",
       "      <td>{'urd': 0.95, 'fas': 0.02, 'ara': 0.01, 'eng':...</td>\n",
       "      <td>0.879725</td>\n",
       "      <td>[urd]</td>\n",
       "      <td>urd_ydd</td>\n",
       "      <td>{'urd': 0.95, 'fas': 0.02, 'ara': 0.01, 'eng':...</td>\n",
       "      <td>0.265124</td>\n",
       "      <td>1.332179</td>\n",
       "      <td>False</td>\n",
       "      <td>0.886377</td>\n",
       "    </tr>\n",
       "  </tbody>\n",
       "</table>\n",
       "<p>1827 rows × 13 columns</p>\n",
       "</div>"
      ],
      "text/plain": [
       "            model    training eval_lang           step  \\\n",
       "694  me5_arb_Arab  [arb_Arab]       amh           Base   \n",
       "695  me5_arb_Arab  [arb_Arab]       amh          Step1   \n",
       "696  me5_arb_Arab  [arb_Arab]       amh  Step50+sbeam8   \n",
       "690  me5_arb_Arab  [arb_Arab]       arb           Base   \n",
       "691  me5_arb_Arab  [arb_Arab]       arb          Step1   \n",
       "..            ...         ...       ...            ...   \n",
       "349  me5_urd_Arab  [urd_Arab]       urd  Step50+sbeam8   \n",
       "350  me5_urd_Arab  [urd_Arab]       urd           Base   \n",
       "324  me5_urd_Arab  [urd_Arab]       ydd          Step1   \n",
       "325  me5_urd_Arab  [urd_Arab]       ydd  Step50+sbeam8   \n",
       "326  me5_urd_Arab  [urd_Arab]       ydd           Base   \n",
       "\n",
       "                                            pred_langs  emb_cos_sim  \\\n",
       "694  {'eng': 0.07, 'ara': 0.77, 'fra': 0.1, 'deu': ...     0.788960   \n",
       "695  {'ara': 0.82, 'fra': 0.08, 'eng': 0.05, 'tur':...     0.792269   \n",
       "696  {'ara': 0.82, 'fra': 0.06, 'eng': 0.05, 'tur':...     0.797702   \n",
       "690                         {'ara': 0.99, 'unk': 0.01}     0.930994   \n",
       "691                                       {'ara': 1.0}     0.929250   \n",
       "..                                                 ...          ...   \n",
       "349                         {'urd': 0.99, 'fas': 0.01}     0.971182   \n",
       "350                         {'urd': 0.99, 'fas': 0.01}     0.961163   \n",
       "324            {'urd': 0.97, 'eng': 0.02, 'fas': 0.01}     0.874004   \n",
       "325  {'urd': 0.94, 'eng': 0.01, 'fas': 0.02, 'pnb':...     0.845068   \n",
       "326  {'urd': 0.95, 'fas': 0.02, 'ara': 0.01, 'eng':...     0.879725   \n",
       "\n",
       "    training_langs train_eval_langs  \\\n",
       "694          [arb]          arb_amh   \n",
       "695          [arb]          arb_amh   \n",
       "696          [arb]          arb_amh   \n",
       "690          [arb]          arb_arb   \n",
       "691          [arb]          arb_arb   \n",
       "..             ...              ...   \n",
       "349          [urd]          urd_urd   \n",
       "350          [urd]          urd_urd   \n",
       "324          [urd]          urd_ydd   \n",
       "325          [urd]          urd_ydd   \n",
       "326          [urd]          urd_ydd   \n",
       "\n",
       "                                       pred_langs_dist  entropy_all_langs  \\\n",
       "694  {'eng': 0.07, 'ara': 0.77, 'fra': 0.1, 'deu': ...           0.861009   \n",
       "695  {'ara': 0.82, 'fra': 0.08, 'eng': 0.05, 'tur':...           0.689381   \n",
       "696  {'ara': 0.82, 'fra': 0.06, 'eng': 0.05, 'tur':...           0.696177   \n",
       "690                         {'ara': 0.99, 'unk': 0.01}           0.056002   \n",
       "691                                       {'ara': 1.0}           0.000000   \n",
       "..                                                 ...                ...   \n",
       "349                         {'urd': 0.99, 'fas': 0.01}           0.056002   \n",
       "350                         {'urd': 0.99, 'fas': 0.01}           0.056002   \n",
       "324            {'urd': 0.97, 'eng': 0.02, 'fas': 0.01}           0.153838   \n",
       "325  {'urd': 0.94, 'eng': 0.01, 'fas': 0.02, 'pnb':...           0.320610   \n",
       "326  {'urd': 0.95, 'fas': 0.02, 'ara': 0.01, 'eng':...           0.265124   \n",
       "\n",
       "     entropy_outside  eval_in_training  weighted_entropy  \n",
       "694         0.861009             False         22.545278  \n",
       "695         0.689381             False         13.543958  \n",
       "696         0.696177             False         13.426175  \n",
       "690         0.056002              True          4.615221  \n",
       "691         0.000000              True         -0.000000  \n",
       "..               ...               ...               ...  \n",
       "349         0.000000              True          0.046052  \n",
       "350         0.000000              True          0.046052  \n",
       "324         0.636514             False          0.255516  \n",
       "325         1.560710             False          1.339962  \n",
       "326         1.332179             False          0.886377  \n",
       "\n",
       "[1827 rows x 13 columns]"
      ]
     },
     "execution_count": 333,
     "metadata": {},
     "output_type": "execute_result"
    }
   ],
   "source": [
    "df_mult_groupped"
   ]
  },
  {
   "cell_type": "code",
   "execution_count": null,
   "id": "dc37e3e6-c65e-4b95-ba05-1771b3fa135c",
   "metadata": {},
   "outputs": [],
   "source": []
  },
  {
   "cell_type": "code",
   "execution_count": 292,
   "id": "0d663831-1bbc-4c93-80c7-21395e67bc33",
   "metadata": {
    "execution": {
     "iopub.execute_input": "2024-10-01T14:48:56.074643Z",
     "iopub.status.busy": "2024-10-01T14:48:56.073299Z",
     "iopub.status.idle": "2024-10-01T14:48:56.090963Z",
     "shell.execute_reply": "2024-10-01T14:48:56.089584Z",
     "shell.execute_reply.started": "2024-10-01T14:48:56.074559Z"
    }
   },
   "outputs": [],
   "source": [
    "df_tokenf1_mult_crosslingual = df_tokenf1_mult[df_tokenf1_mult[\"model_name\"].isin(df_mult_groupped_crosslingual[\"model\"].tolist())]"
   ]
  },
  {
   "cell_type": "code",
   "execution_count": 293,
   "id": "df3d3a7e-d678-4e10-a0af-2198a5fcbc67",
   "metadata": {
    "execution": {
     "iopub.execute_input": "2024-10-01T14:48:56.457748Z",
     "iopub.status.busy": "2024-10-01T14:48:56.456626Z",
     "iopub.status.idle": "2024-10-01T14:48:56.472636Z",
     "shell.execute_reply": "2024-10-01T14:48:56.471587Z",
     "shell.execute_reply.started": "2024-10-01T14:48:56.457688Z"
    }
   },
   "outputs": [],
   "source": [
    "df_tokenf1_mult_crosslingual =df_tokenf1_mult_crosslingual.drop(columns=[\"model\"])"
   ]
  },
  {
   "cell_type": "code",
   "execution_count": 294,
   "id": "d56f0a68-aca7-491a-9ac9-ab105a15ff19",
   "metadata": {
    "execution": {
     "iopub.execute_input": "2024-10-01T14:48:56.849742Z",
     "iopub.status.busy": "2024-10-01T14:48:56.848853Z",
     "iopub.status.idle": "2024-10-01T14:48:56.858458Z",
     "shell.execute_reply": "2024-10-01T14:48:56.856822Z",
     "shell.execute_reply.started": "2024-10-01T14:48:56.849694Z"
    }
   },
   "outputs": [],
   "source": [
    "df_tokenf1_mult_crosslingual.index=df_tokenf1_mult_crosslingual[\"model_name\"]"
   ]
  },
  {
   "cell_type": "code",
   "execution_count": 295,
   "id": "9361029f-fd29-49e6-9480-bc39f9c91656",
   "metadata": {
    "execution": {
     "iopub.execute_input": "2024-10-01T14:48:57.226186Z",
     "iopub.status.busy": "2024-10-01T14:48:57.225289Z",
     "iopub.status.idle": "2024-10-01T14:48:57.248355Z",
     "shell.execute_reply": "2024-10-01T14:48:57.247565Z",
     "shell.execute_reply.started": "2024-10-01T14:48:57.226137Z"
    }
   },
   "outputs": [],
   "source": [
    "df_tokenf1_mult_crosslingual_melted = pd.melt(df_tokenf1_mult_crosslingual, \n",
    "                    id_vars=['model_name', 'step'],   # Columns to keep (model_name, step)\n",
    "                    var_name='lang',              # New column for the language names (deu_Latn, mlt_Latn, etc.)\n",
    "                    value_name='token_f1') "
   ]
  },
  {
   "cell_type": "code",
   "execution_count": 296,
   "id": "96e50a2d-b7ec-47f8-ace0-11c6441c95ca",
   "metadata": {
    "execution": {
     "iopub.execute_input": "2024-10-01T14:48:58.054844Z",
     "iopub.status.busy": "2024-10-01T14:48:58.053479Z",
     "iopub.status.idle": "2024-10-01T14:48:58.074984Z",
     "shell.execute_reply": "2024-10-01T14:48:58.074243Z",
     "shell.execute_reply.started": "2024-10-01T14:48:58.054789Z"
    }
   },
   "outputs": [
    {
     "data": {
      "text/html": [
       "<div>\n",
       "<style scoped>\n",
       "    .dataframe tbody tr th:only-of-type {\n",
       "        vertical-align: middle;\n",
       "    }\n",
       "\n",
       "    .dataframe tbody tr th {\n",
       "        vertical-align: top;\n",
       "    }\n",
       "\n",
       "    .dataframe thead th {\n",
       "        text-align: right;\n",
       "    }\n",
       "</style>\n",
       "<table border=\"1\" class=\"dataframe\">\n",
       "  <thead>\n",
       "    <tr style=\"text-align: right;\">\n",
       "      <th></th>\n",
       "      <th>model_name</th>\n",
       "      <th>step</th>\n",
       "      <th>lang</th>\n",
       "      <th>token_f1</th>\n",
       "    </tr>\n",
       "  </thead>\n",
       "  <tbody>\n",
       "    <tr>\n",
       "      <th>0</th>\n",
       "      <td>me5_deu_Latn</td>\n",
       "      <td>Base</td>\n",
       "      <td>deu_Latn</td>\n",
       "      <td>55.46</td>\n",
       "    </tr>\n",
       "    <tr>\n",
       "      <th>1</th>\n",
       "      <td>me5_heb_Hebr</td>\n",
       "      <td>Base</td>\n",
       "      <td>deu_Latn</td>\n",
       "      <td>12.71</td>\n",
       "    </tr>\n",
       "  </tbody>\n",
       "</table>\n",
       "</div>"
      ],
      "text/plain": [
       "     model_name  step      lang  token_f1\n",
       "0  me5_deu_Latn  Base  deu_Latn     55.46\n",
       "1  me5_heb_Hebr  Base  deu_Latn     12.71"
      ]
     },
     "execution_count": 296,
     "metadata": {},
     "output_type": "execute_result"
    }
   ],
   "source": [
    "df_tokenf1_mult_crosslingual_melted.head(2)"
   ]
  },
  {
   "cell_type": "code",
   "execution_count": null,
   "id": "3074f16e-f7b1-47e4-b1f8-b6bf9b1f24cc",
   "metadata": {},
   "outputs": [],
   "source": []
  },
  {
   "cell_type": "code",
   "execution_count": null,
   "id": "a49113a4-fc32-40a6-bf00-64e95b25a93b",
   "metadata": {},
   "outputs": [],
   "source": []
  },
  {
   "cell_type": "code",
   "execution_count": 297,
   "id": "efa93983-f83c-4890-ac5f-fb77a4e3f011",
   "metadata": {
    "execution": {
     "iopub.execute_input": "2024-10-01T14:49:08.393777Z",
     "iopub.status.busy": "2024-10-01T14:49:08.392380Z",
     "iopub.status.idle": "2024-10-01T14:49:08.408613Z",
     "shell.execute_reply": "2024-10-01T14:49:08.406886Z",
     "shell.execute_reply.started": "2024-10-01T14:49:08.393688Z"
    }
   },
   "outputs": [],
   "source": [
    "df_bleu_mult_crosslingual = df_bleu_mult[df_bleu_mult[\"model_name\"].isin(df_mult_groupped_crosslingual[\"model\"].tolist())]"
   ]
  },
  {
   "cell_type": "code",
   "execution_count": 298,
   "id": "1740f073-cc43-4002-88b0-b5e17db18a61",
   "metadata": {
    "execution": {
     "iopub.execute_input": "2024-10-01T14:49:08.979020Z",
     "iopub.status.busy": "2024-10-01T14:49:08.977754Z",
     "iopub.status.idle": "2024-10-01T14:49:08.992334Z",
     "shell.execute_reply": "2024-10-01T14:49:08.990685Z",
     "shell.execute_reply.started": "2024-10-01T14:49:08.978963Z"
    }
   },
   "outputs": [],
   "source": [
    "df_bleu_mult_crosslingual =df_bleu_mult_crosslingual.drop(columns=[\"model\"])"
   ]
  },
  {
   "cell_type": "code",
   "execution_count": 299,
   "id": "86e3b009-140e-4b2e-b076-492ef863b739",
   "metadata": {
    "execution": {
     "iopub.execute_input": "2024-10-01T14:49:09.315712Z",
     "iopub.status.busy": "2024-10-01T14:49:09.314667Z",
     "iopub.status.idle": "2024-10-01T14:49:09.329476Z",
     "shell.execute_reply": "2024-10-01T14:49:09.327719Z",
     "shell.execute_reply.started": "2024-10-01T14:49:09.315658Z"
    }
   },
   "outputs": [],
   "source": [
    "df_bleu_mult_crosslingual.index=df_bleu_mult_crosslingual[\"model_name\"]"
   ]
  },
  {
   "cell_type": "code",
   "execution_count": 300,
   "id": "fe8421ba-ea72-4591-b7c6-af4dec2a08aa",
   "metadata": {
    "execution": {
     "iopub.execute_input": "2024-10-01T14:49:09.674845Z",
     "iopub.status.busy": "2024-10-01T14:49:09.673908Z",
     "iopub.status.idle": "2024-10-01T14:49:09.695132Z",
     "shell.execute_reply": "2024-10-01T14:49:09.693850Z",
     "shell.execute_reply.started": "2024-10-01T14:49:09.674794Z"
    }
   },
   "outputs": [],
   "source": [
    "df_bleu_mult_crosslingual_melted = pd.melt(df_bleu_mult_crosslingual, \n",
    "                    id_vars=['model_name', 'step'],   # Columns to keep (model_name, step)\n",
    "                    var_name='lang',              # New column for the language names (deu_Latn, mlt_Latn, etc.)\n",
    "                    value_name='bleu') "
   ]
  },
  {
   "cell_type": "code",
   "execution_count": 301,
   "id": "7d5662fa-9780-4fb9-8576-4e732c77b39f",
   "metadata": {
    "execution": {
     "iopub.execute_input": "2024-10-01T14:49:10.180792Z",
     "iopub.status.busy": "2024-10-01T14:49:10.179739Z",
     "iopub.status.idle": "2024-10-01T14:49:10.202353Z",
     "shell.execute_reply": "2024-10-01T14:49:10.201654Z",
     "shell.execute_reply.started": "2024-10-01T14:49:10.180727Z"
    },
    "scrolled": true
   },
   "outputs": [
    {
     "data": {
      "text/html": [
       "<div>\n",
       "<style scoped>\n",
       "    .dataframe tbody tr th:only-of-type {\n",
       "        vertical-align: middle;\n",
       "    }\n",
       "\n",
       "    .dataframe tbody tr th {\n",
       "        vertical-align: top;\n",
       "    }\n",
       "\n",
       "    .dataframe thead th {\n",
       "        text-align: right;\n",
       "    }\n",
       "</style>\n",
       "<table border=\"1\" class=\"dataframe\">\n",
       "  <thead>\n",
       "    <tr style=\"text-align: right;\">\n",
       "      <th></th>\n",
       "      <th>model_name</th>\n",
       "      <th>step</th>\n",
       "      <th>lang</th>\n",
       "      <th>bleu</th>\n",
       "    </tr>\n",
       "  </thead>\n",
       "  <tbody>\n",
       "    <tr>\n",
       "      <th>0</th>\n",
       "      <td>me5_deu_Latn</td>\n",
       "      <td>Step50+sbeam8</td>\n",
       "      <td>deu_Latn</td>\n",
       "      <td>31.348645</td>\n",
       "    </tr>\n",
       "    <tr>\n",
       "      <th>1</th>\n",
       "      <td>me5_heb_Hebr</td>\n",
       "      <td>Step50+sbeam8</td>\n",
       "      <td>deu_Latn</td>\n",
       "      <td>4.814350</td>\n",
       "    </tr>\n",
       "  </tbody>\n",
       "</table>\n",
       "</div>"
      ],
      "text/plain": [
       "     model_name           step      lang       bleu\n",
       "0  me5_deu_Latn  Step50+sbeam8  deu_Latn  31.348645\n",
       "1  me5_heb_Hebr  Step50+sbeam8  deu_Latn   4.814350"
      ]
     },
     "execution_count": 301,
     "metadata": {},
     "output_type": "execute_result"
    }
   ],
   "source": [
    "df_bleu_mult_crosslingual_melted.head(2)"
   ]
  },
  {
   "cell_type": "code",
   "execution_count": null,
   "id": "ea3f147b-896e-4795-8f7d-8183f042cece",
   "metadata": {},
   "outputs": [],
   "source": []
  },
  {
   "cell_type": "code",
   "execution_count": null,
   "id": "ac514e72-be4b-402d-8cd8-499d2aaa5969",
   "metadata": {},
   "outputs": [],
   "source": []
  },
  {
   "cell_type": "code",
   "execution_count": 302,
   "id": "c26c29b0-4e04-473a-9fdb-bdd37e0642a9",
   "metadata": {
    "execution": {
     "iopub.execute_input": "2024-10-01T14:49:32.728384Z",
     "iopub.status.busy": "2024-10-01T14:49:32.727362Z",
     "iopub.status.idle": "2024-10-01T14:49:32.769163Z",
     "shell.execute_reply": "2024-10-01T14:49:32.768349Z",
     "shell.execute_reply.started": "2024-10-01T14:49:32.728335Z"
    },
    "scrolled": true
   },
   "outputs": [
    {
     "data": {
      "text/html": [
       "<div>\n",
       "<style scoped>\n",
       "    .dataframe tbody tr th:only-of-type {\n",
       "        vertical-align: middle;\n",
       "    }\n",
       "\n",
       "    .dataframe tbody tr th {\n",
       "        vertical-align: top;\n",
       "    }\n",
       "\n",
       "    .dataframe thead th {\n",
       "        text-align: right;\n",
       "    }\n",
       "</style>\n",
       "<table border=\"1\" class=\"dataframe\">\n",
       "  <thead>\n",
       "    <tr style=\"text-align: right;\">\n",
       "      <th></th>\n",
       "      <th>model</th>\n",
       "      <th>training</th>\n",
       "      <th>eval_lang</th>\n",
       "      <th>step</th>\n",
       "      <th>pred_langs</th>\n",
       "      <th>emb_cos_sim</th>\n",
       "      <th>training_langs</th>\n",
       "      <th>train_eval_langs</th>\n",
       "      <th>pred_langs_dist</th>\n",
       "      <th>entropy_all_langs</th>\n",
       "      <th>entropy_outside</th>\n",
       "      <th>eval_in_training</th>\n",
       "      <th>weighted_entropy</th>\n",
       "    </tr>\n",
       "  </thead>\n",
       "  <tbody>\n",
       "    <tr>\n",
       "      <th>694</th>\n",
       "      <td>me5_arb_Arab</td>\n",
       "      <td>[arb_Arab]</td>\n",
       "      <td>amh</td>\n",
       "      <td>Base</td>\n",
       "      <td>{'eng': 0.07, 'ara': 0.77, 'fra': 0.1, 'deu': ...</td>\n",
       "      <td>0.788960</td>\n",
       "      <td>[arb]</td>\n",
       "      <td>arb_amh</td>\n",
       "      <td>{'eng': 0.07, 'ara': 0.77, 'fra': 0.1, 'deu': ...</td>\n",
       "      <td>0.861009</td>\n",
       "      <td>0.861009</td>\n",
       "      <td>False</td>\n",
       "      <td>22.545278</td>\n",
       "    </tr>\n",
       "    <tr>\n",
       "      <th>695</th>\n",
       "      <td>me5_arb_Arab</td>\n",
       "      <td>[arb_Arab]</td>\n",
       "      <td>amh</td>\n",
       "      <td>Step1</td>\n",
       "      <td>{'ara': 0.82, 'fra': 0.08, 'eng': 0.05, 'tur':...</td>\n",
       "      <td>0.792269</td>\n",
       "      <td>[arb]</td>\n",
       "      <td>arb_amh</td>\n",
       "      <td>{'ara': 0.82, 'fra': 0.08, 'eng': 0.05, 'tur':...</td>\n",
       "      <td>0.689381</td>\n",
       "      <td>0.689381</td>\n",
       "      <td>False</td>\n",
       "      <td>13.543958</td>\n",
       "    </tr>\n",
       "    <tr>\n",
       "      <th>696</th>\n",
       "      <td>me5_arb_Arab</td>\n",
       "      <td>[arb_Arab]</td>\n",
       "      <td>amh</td>\n",
       "      <td>Step50+sbeam8</td>\n",
       "      <td>{'ara': 0.82, 'fra': 0.06, 'eng': 0.05, 'tur':...</td>\n",
       "      <td>0.797702</td>\n",
       "      <td>[arb]</td>\n",
       "      <td>arb_amh</td>\n",
       "      <td>{'ara': 0.82, 'fra': 0.06, 'eng': 0.05, 'tur':...</td>\n",
       "      <td>0.696177</td>\n",
       "      <td>0.696177</td>\n",
       "      <td>False</td>\n",
       "      <td>13.426175</td>\n",
       "    </tr>\n",
       "    <tr>\n",
       "      <th>730</th>\n",
       "      <td>me5_arb_Arab</td>\n",
       "      <td>[arb_Arab]</td>\n",
       "      <td>cmn</td>\n",
       "      <td>Base</td>\n",
       "      <td>{'zho': 0.75, 'fas': 0.01, 'ara': 0.1, 'eng': ...</td>\n",
       "      <td>0.899977</td>\n",
       "      <td>[arb]</td>\n",
       "      <td>arb_cmn</td>\n",
       "      <td>{'zho': 0.75, 'fas': 0.01, 'ara': 0.1, 'eng': ...</td>\n",
       "      <td>0.914988</td>\n",
       "      <td>0.914988</td>\n",
       "      <td>False</td>\n",
       "      <td>22.150382</td>\n",
       "    </tr>\n",
       "    <tr>\n",
       "      <th>731</th>\n",
       "      <td>me5_arb_Arab</td>\n",
       "      <td>[arb_Arab]</td>\n",
       "      <td>cmn</td>\n",
       "      <td>Step1</td>\n",
       "      <td>{'ara': 0.63, 'tgl': 0.01, 'zho': 0.17, 'eng':...</td>\n",
       "      <td>0.820613</td>\n",
       "      <td>[arb]</td>\n",
       "      <td>arb_cmn</td>\n",
       "      <td>{'ara': 0.63, 'tgl': 0.01, 'zho': 0.17, 'eng':...</td>\n",
       "      <td>1.113367</td>\n",
       "      <td>1.113367</td>\n",
       "      <td>False</td>\n",
       "      <td>16.310868</td>\n",
       "    </tr>\n",
       "    <tr>\n",
       "      <th>...</th>\n",
       "      <td>...</td>\n",
       "      <td>...</td>\n",
       "      <td>...</td>\n",
       "      <td>...</td>\n",
       "      <td>...</td>\n",
       "      <td>...</td>\n",
       "      <td>...</td>\n",
       "      <td>...</td>\n",
       "      <td>...</td>\n",
       "      <td>...</td>\n",
       "      <td>...</td>\n",
       "      <td>...</td>\n",
       "      <td>...</td>\n",
       "    </tr>\n",
       "    <tr>\n",
       "      <th>365</th>\n",
       "      <td>me5_urd_Arab</td>\n",
       "      <td>[urd_Arab]</td>\n",
       "      <td>tur</td>\n",
       "      <td>Step50+sbeam8</td>\n",
       "      <td>{'eng': 0.2, 'urd': 0.71, 'fas': 0.01, 'unk': ...</td>\n",
       "      <td>0.876402</td>\n",
       "      <td>[urd]</td>\n",
       "      <td>urd_tur</td>\n",
       "      <td>{'eng': 0.2, 'urd': 0.71, 'fas': 0.01, 'unk': ...</td>\n",
       "      <td>0.813166</td>\n",
       "      <td>0.727635</td>\n",
       "      <td>False</td>\n",
       "      <td>2.534698</td>\n",
       "    </tr>\n",
       "    <tr>\n",
       "      <th>366</th>\n",
       "      <td>me5_urd_Arab</td>\n",
       "      <td>[urd_Arab]</td>\n",
       "      <td>tur</td>\n",
       "      <td>Base</td>\n",
       "      <td>{'urd': 0.74, 'tur': 0.01, 'pnb': 0.01, 'eng':...</td>\n",
       "      <td>0.869960</td>\n",
       "      <td>[urd]</td>\n",
       "      <td>urd_tur</td>\n",
       "      <td>{'urd': 0.74, 'tur': 0.01, 'pnb': 0.01, 'eng':...</td>\n",
       "      <td>0.813897</td>\n",
       "      <td>0.793817</td>\n",
       "      <td>False</td>\n",
       "      <td>3.421121</td>\n",
       "    </tr>\n",
       "    <tr>\n",
       "      <th>324</th>\n",
       "      <td>me5_urd_Arab</td>\n",
       "      <td>[urd_Arab]</td>\n",
       "      <td>ydd</td>\n",
       "      <td>Step1</td>\n",
       "      <td>{'urd': 0.97, 'eng': 0.02, 'fas': 0.01}</td>\n",
       "      <td>0.874004</td>\n",
       "      <td>[urd]</td>\n",
       "      <td>urd_ydd</td>\n",
       "      <td>{'urd': 0.97, 'eng': 0.02, 'fas': 0.01}</td>\n",
       "      <td>0.153838</td>\n",
       "      <td>0.636514</td>\n",
       "      <td>False</td>\n",
       "      <td>0.255516</td>\n",
       "    </tr>\n",
       "    <tr>\n",
       "      <th>325</th>\n",
       "      <td>me5_urd_Arab</td>\n",
       "      <td>[urd_Arab]</td>\n",
       "      <td>ydd</td>\n",
       "      <td>Step50+sbeam8</td>\n",
       "      <td>{'urd': 0.94, 'eng': 0.01, 'fas': 0.02, 'pnb':...</td>\n",
       "      <td>0.845068</td>\n",
       "      <td>[urd]</td>\n",
       "      <td>urd_ydd</td>\n",
       "      <td>{'urd': 0.94, 'eng': 0.01, 'fas': 0.02, 'pnb':...</td>\n",
       "      <td>0.320610</td>\n",
       "      <td>1.560710</td>\n",
       "      <td>False</td>\n",
       "      <td>1.339962</td>\n",
       "    </tr>\n",
       "    <tr>\n",
       "      <th>326</th>\n",
       "      <td>me5_urd_Arab</td>\n",
       "      <td>[urd_Arab]</td>\n",
       "      <td>ydd</td>\n",
       "      <td>Base</td>\n",
       "      <td>{'urd': 0.95, 'fas': 0.02, 'ara': 0.01, 'eng':...</td>\n",
       "      <td>0.879725</td>\n",
       "      <td>[urd]</td>\n",
       "      <td>urd_ydd</td>\n",
       "      <td>{'urd': 0.95, 'fas': 0.02, 'ara': 0.01, 'eng':...</td>\n",
       "      <td>0.265124</td>\n",
       "      <td>1.332179</td>\n",
       "      <td>False</td>\n",
       "      <td>0.886377</td>\n",
       "    </tr>\n",
       "  </tbody>\n",
       "</table>\n",
       "<p>1677 rows × 13 columns</p>\n",
       "</div>"
      ],
      "text/plain": [
       "            model    training eval_lang           step  \\\n",
       "694  me5_arb_Arab  [arb_Arab]       amh           Base   \n",
       "695  me5_arb_Arab  [arb_Arab]       amh          Step1   \n",
       "696  me5_arb_Arab  [arb_Arab]       amh  Step50+sbeam8   \n",
       "730  me5_arb_Arab  [arb_Arab]       cmn           Base   \n",
       "731  me5_arb_Arab  [arb_Arab]       cmn          Step1   \n",
       "..            ...         ...       ...            ...   \n",
       "365  me5_urd_Arab  [urd_Arab]       tur  Step50+sbeam8   \n",
       "366  me5_urd_Arab  [urd_Arab]       tur           Base   \n",
       "324  me5_urd_Arab  [urd_Arab]       ydd          Step1   \n",
       "325  me5_urd_Arab  [urd_Arab]       ydd  Step50+sbeam8   \n",
       "326  me5_urd_Arab  [urd_Arab]       ydd           Base   \n",
       "\n",
       "                                            pred_langs  emb_cos_sim  \\\n",
       "694  {'eng': 0.07, 'ara': 0.77, 'fra': 0.1, 'deu': ...     0.788960   \n",
       "695  {'ara': 0.82, 'fra': 0.08, 'eng': 0.05, 'tur':...     0.792269   \n",
       "696  {'ara': 0.82, 'fra': 0.06, 'eng': 0.05, 'tur':...     0.797702   \n",
       "730  {'zho': 0.75, 'fas': 0.01, 'ara': 0.1, 'eng': ...     0.899977   \n",
       "731  {'ara': 0.63, 'tgl': 0.01, 'zho': 0.17, 'eng':...     0.820613   \n",
       "..                                                 ...          ...   \n",
       "365  {'eng': 0.2, 'urd': 0.71, 'fas': 0.01, 'unk': ...     0.876402   \n",
       "366  {'urd': 0.74, 'tur': 0.01, 'pnb': 0.01, 'eng':...     0.869960   \n",
       "324            {'urd': 0.97, 'eng': 0.02, 'fas': 0.01}     0.874004   \n",
       "325  {'urd': 0.94, 'eng': 0.01, 'fas': 0.02, 'pnb':...     0.845068   \n",
       "326  {'urd': 0.95, 'fas': 0.02, 'ara': 0.01, 'eng':...     0.879725   \n",
       "\n",
       "    training_langs train_eval_langs  \\\n",
       "694          [arb]          arb_amh   \n",
       "695          [arb]          arb_amh   \n",
       "696          [arb]          arb_amh   \n",
       "730          [arb]          arb_cmn   \n",
       "731          [arb]          arb_cmn   \n",
       "..             ...              ...   \n",
       "365          [urd]          urd_tur   \n",
       "366          [urd]          urd_tur   \n",
       "324          [urd]          urd_ydd   \n",
       "325          [urd]          urd_ydd   \n",
       "326          [urd]          urd_ydd   \n",
       "\n",
       "                                       pred_langs_dist  entropy_all_langs  \\\n",
       "694  {'eng': 0.07, 'ara': 0.77, 'fra': 0.1, 'deu': ...           0.861009   \n",
       "695  {'ara': 0.82, 'fra': 0.08, 'eng': 0.05, 'tur':...           0.689381   \n",
       "696  {'ara': 0.82, 'fra': 0.06, 'eng': 0.05, 'tur':...           0.696177   \n",
       "730  {'zho': 0.75, 'fas': 0.01, 'ara': 0.1, 'eng': ...           0.914988   \n",
       "731  {'ara': 0.63, 'tgl': 0.01, 'zho': 0.17, 'eng':...           1.113367   \n",
       "..                                                 ...                ...   \n",
       "365  {'eng': 0.2, 'urd': 0.71, 'fas': 0.01, 'unk': ...           0.813166   \n",
       "366  {'urd': 0.74, 'tur': 0.01, 'pnb': 0.01, 'eng':...           0.813897   \n",
       "324            {'urd': 0.97, 'eng': 0.02, 'fas': 0.01}           0.153838   \n",
       "325  {'urd': 0.94, 'eng': 0.01, 'fas': 0.02, 'pnb':...           0.320610   \n",
       "326  {'urd': 0.95, 'fas': 0.02, 'ara': 0.01, 'eng':...           0.265124   \n",
       "\n",
       "     entropy_outside  eval_in_training  weighted_entropy  \n",
       "694         0.861009             False         22.545278  \n",
       "695         0.689381             False         13.543958  \n",
       "696         0.696177             False         13.426175  \n",
       "730         0.914988             False         22.150382  \n",
       "731         1.113367             False         16.310868  \n",
       "..               ...               ...               ...  \n",
       "365         0.727635             False          2.534698  \n",
       "366         0.793817             False          3.421121  \n",
       "324         0.636514             False          0.255516  \n",
       "325         1.560710             False          1.339962  \n",
       "326         1.332179             False          0.886377  \n",
       "\n",
       "[1677 rows x 13 columns]"
      ]
     },
     "execution_count": 302,
     "metadata": {},
     "output_type": "execute_result"
    }
   ],
   "source": [
    "df_mult_groupped_crosslingual"
   ]
  },
  {
   "cell_type": "code",
   "execution_count": 303,
   "id": "cafb4d55-5fa9-48e2-b2ca-54104cce8b0d",
   "metadata": {
    "execution": {
     "iopub.execute_input": "2024-10-01T14:52:21.669938Z",
     "iopub.status.busy": "2024-10-01T14:52:21.668600Z",
     "iopub.status.idle": "2024-10-01T14:52:21.693246Z",
     "shell.execute_reply": "2024-10-01T14:52:21.692219Z",
     "shell.execute_reply.started": "2024-10-01T14:52:21.669880Z"
    }
   },
   "outputs": [],
   "source": [
    "# cross-lingual\n",
    "step2eval_lang_entropy=defaultdict(dict)\n",
    "step2train_lang_entropy = defaultdict(dict)\n",
    "\n",
    "for k, group in df_mult_groupped_crosslingual.groupby(by=\"step\"):\n",
    "    for eval_lang, training_langs, entropy in zip(group[\"eval_lang\"], group[\"training_langs\"], group[\"weighted_entropy\"]):\n",
    "        \n",
    "        if k not in step2eval_lang_entropy[eval_lang]:\n",
    "            step2eval_lang_entropy[eval_lang][k]=list()\n",
    "        step2eval_lang_entropy[eval_lang][k].append(entropy)\n",
    "\n",
    "        for train_lang in training_langs:\n",
    "            if k not in step2train_lang_entropy[train_lang]:\n",
    "                step2train_lang_entropy[train_lang][k]=list()\n",
    "            step2train_lang_entropy[train_lang][k].append(entropy)\n",
    "        "
   ]
  },
  {
   "cell_type": "code",
   "execution_count": 304,
   "id": "5623c3c1-794c-45a5-b9b0-bf3f9b03bee0",
   "metadata": {
    "execution": {
     "iopub.execute_input": "2024-10-01T14:52:33.438293Z",
     "iopub.status.busy": "2024-10-01T14:52:33.437292Z",
     "iopub.status.idle": "2024-10-01T14:52:33.456216Z",
     "shell.execute_reply": "2024-10-01T14:52:33.454934Z",
     "shell.execute_reply.started": "2024-10-01T14:52:33.438241Z"
    },
    "scrolled": true
   },
   "outputs": [],
   "source": [
    "step2eval_lang_entropy_avg= defaultdict(dict)\n",
    "step2train_lang_entropy_avg = defaultdict(dict)\n",
    "\n",
    "langs_eval = []\n",
    "steps=[]\n",
    "entropy=[]\n",
    "for lang, step_dict in step2eval_lang_entropy.items():\n",
    "    for step, entropy_list in step_dict.items():\n",
    "        step2eval_lang_entropy_avg[lang][step]= np.mean(entropy_list)\n",
    "\n",
    "# train_lang\n",
    "for lang, step_dict in step2train_lang_entropy.items():\n",
    "    for step, entropy_list in step_dict.items():\n",
    "        step2train_lang_entropy_avg[lang][step]= np.mean(entropy_list)\n",
    "        "
   ]
  },
  {
   "cell_type": "code",
   "execution_count": 305,
   "id": "a03ca984-27d0-47f7-8d6b-dc916b9fd57d",
   "metadata": {
    "execution": {
     "iopub.execute_input": "2024-10-01T14:52:34.287803Z",
     "iopub.status.busy": "2024-10-01T14:52:34.286717Z",
     "iopub.status.idle": "2024-10-01T14:52:34.299688Z",
     "shell.execute_reply": "2024-10-01T14:52:34.297936Z",
     "shell.execute_reply.started": "2024-10-01T14:52:34.287703Z"
    }
   },
   "outputs": [],
   "source": [
    "iso2name = {'arb':\"Arabic\", 'cmn':\"Chinese\",  'jpn':\"Japanese\", 'deu':\"German\", 'tur':\"Turkish\",\n",
    " 'guj':\"Gujarati\", 'heb':\"Hebrew\",  'hin':\"Hindi\", 'pan':\"Punjabi\", 'kaz':\"Kazakh\", 'mon':\"Mongolian\", 'urd':\"Urdu\", 'amh':\"Amharic\",\n",
    "           \"hun\":\"Hungarian\", \"kor\":\"Korean\", \"mhr\":\"Meadow Mari\", \"mlt\":\"Maltese\", \"sin\":\"Sinhala\", \"ydd\":\"Yiddish\", \"fin\":\"Finnish\" }"
   ]
  },
  {
   "cell_type": "code",
   "execution_count": 334,
   "id": "142828c3-b815-452b-bf39-45bd53ec843b",
   "metadata": {
    "execution": {
     "iopub.execute_input": "2024-10-01T15:45:40.408184Z",
     "iopub.status.busy": "2024-10-01T15:45:40.406479Z",
     "iopub.status.idle": "2024-10-01T15:45:40.422138Z",
     "shell.execute_reply": "2024-10-01T15:45:40.420686Z",
     "shell.execute_reply.started": "2024-10-01T15:45:40.408093Z"
    }
   },
   "outputs": [],
   "source": [
    "df_train_lang_entropy = pd.DataFrame(step2train_lang_entropy_avg).T"
   ]
  },
  {
   "cell_type": "code",
   "execution_count": 335,
   "id": "5a1a7620-e175-4d1b-87e3-59b19c99a7a2",
   "metadata": {
    "execution": {
     "iopub.execute_input": "2024-10-01T15:45:44.402530Z",
     "iopub.status.busy": "2024-10-01T15:45:44.401252Z",
     "iopub.status.idle": "2024-10-01T15:45:44.423531Z",
     "shell.execute_reply": "2024-10-01T15:45:44.422673Z",
     "shell.execute_reply.started": "2024-10-01T15:45:44.402449Z"
    }
   },
   "outputs": [
    {
     "data": {
      "text/html": [
       "<div>\n",
       "<style scoped>\n",
       "    .dataframe tbody tr th:only-of-type {\n",
       "        vertical-align: middle;\n",
       "    }\n",
       "\n",
       "    .dataframe tbody tr th {\n",
       "        vertical-align: top;\n",
       "    }\n",
       "\n",
       "    .dataframe thead th {\n",
       "        text-align: right;\n",
       "    }\n",
       "</style>\n",
       "<table border=\"1\" class=\"dataframe\">\n",
       "  <thead>\n",
       "    <tr style=\"text-align: right;\">\n",
       "      <th></th>\n",
       "      <th>Base</th>\n",
       "      <th>Step1</th>\n",
       "      <th>Step50+sbeam8</th>\n",
       "    </tr>\n",
       "  </thead>\n",
       "  <tbody>\n",
       "    <tr>\n",
       "      <th>arb</th>\n",
       "      <td>24.775128</td>\n",
       "      <td>20.681704</td>\n",
       "      <td>20.407042</td>\n",
       "    </tr>\n",
       "    <tr>\n",
       "      <th>cmn</th>\n",
       "      <td>9.772776</td>\n",
       "      <td>12.904076</td>\n",
       "      <td>15.097529</td>\n",
       "    </tr>\n",
       "    <tr>\n",
       "      <th>jpn</th>\n",
       "      <td>7.149605</td>\n",
       "      <td>8.819193</td>\n",
       "      <td>10.301122</td>\n",
       "    </tr>\n",
       "    <tr>\n",
       "      <th>deu</th>\n",
       "      <td>2.606986</td>\n",
       "      <td>2.056824</td>\n",
       "      <td>2.808506</td>\n",
       "    </tr>\n",
       "    <tr>\n",
       "      <th>tur</th>\n",
       "      <td>3.264488</td>\n",
       "      <td>2.534119</td>\n",
       "      <td>2.638139</td>\n",
       "    </tr>\n",
       "    <tr>\n",
       "      <th>guj</th>\n",
       "      <td>5.636866</td>\n",
       "      <td>4.055029</td>\n",
       "      <td>3.547215</td>\n",
       "    </tr>\n",
       "    <tr>\n",
       "      <th>heb</th>\n",
       "      <td>11.916145</td>\n",
       "      <td>10.914150</td>\n",
       "      <td>11.053801</td>\n",
       "    </tr>\n",
       "    <tr>\n",
       "      <th>hin</th>\n",
       "      <td>9.214838</td>\n",
       "      <td>7.128960</td>\n",
       "      <td>7.353481</td>\n",
       "    </tr>\n",
       "    <tr>\n",
       "      <th>pan</th>\n",
       "      <td>4.713857</td>\n",
       "      <td>4.647618</td>\n",
       "      <td>4.523187</td>\n",
       "    </tr>\n",
       "    <tr>\n",
       "      <th>kaz</th>\n",
       "      <td>6.727510</td>\n",
       "      <td>4.223421</td>\n",
       "      <td>4.168730</td>\n",
       "    </tr>\n",
       "    <tr>\n",
       "      <th>mon</th>\n",
       "      <td>11.898248</td>\n",
       "      <td>8.230591</td>\n",
       "      <td>7.921418</td>\n",
       "    </tr>\n",
       "    <tr>\n",
       "      <th>urd</th>\n",
       "      <td>7.649775</td>\n",
       "      <td>6.886904</td>\n",
       "      <td>6.386143</td>\n",
       "    </tr>\n",
       "  </tbody>\n",
       "</table>\n",
       "</div>"
      ],
      "text/plain": [
       "          Base      Step1  Step50+sbeam8\n",
       "arb  24.775128  20.681704      20.407042\n",
       "cmn   9.772776  12.904076      15.097529\n",
       "jpn   7.149605   8.819193      10.301122\n",
       "deu   2.606986   2.056824       2.808506\n",
       "tur   3.264488   2.534119       2.638139\n",
       "guj   5.636866   4.055029       3.547215\n",
       "heb  11.916145  10.914150      11.053801\n",
       "hin   9.214838   7.128960       7.353481\n",
       "pan   4.713857   4.647618       4.523187\n",
       "kaz   6.727510   4.223421       4.168730\n",
       "mon  11.898248   8.230591       7.921418\n",
       "urd   7.649775   6.886904       6.386143"
      ]
     },
     "execution_count": 335,
     "metadata": {},
     "output_type": "execute_result"
    }
   ],
   "source": [
    "df_train_lang_entropy"
   ]
  },
  {
   "cell_type": "code",
   "execution_count": 336,
   "id": "08e4fdcb-decd-415b-9607-631fba3381b4",
   "metadata": {
    "execution": {
     "iopub.execute_input": "2024-10-01T15:47:00.538925Z",
     "iopub.status.busy": "2024-10-01T15:47:00.537951Z",
     "iopub.status.idle": "2024-10-01T15:47:00.563609Z",
     "shell.execute_reply": "2024-10-01T15:47:00.562738Z",
     "shell.execute_reply.started": "2024-10-01T15:47:00.538872Z"
    }
   },
   "outputs": [
    {
     "data": {
      "text/html": [
       "<div>\n",
       "<style scoped>\n",
       "    .dataframe tbody tr th:only-of-type {\n",
       "        vertical-align: middle;\n",
       "    }\n",
       "\n",
       "    .dataframe tbody tr th {\n",
       "        vertical-align: top;\n",
       "    }\n",
       "\n",
       "    .dataframe thead th {\n",
       "        text-align: right;\n",
       "    }\n",
       "</style>\n",
       "<table border=\"1\" class=\"dataframe\">\n",
       "  <thead>\n",
       "    <tr style=\"text-align: right;\">\n",
       "      <th></th>\n",
       "      <th>model_name</th>\n",
       "      <th>step</th>\n",
       "      <th>lang</th>\n",
       "      <th>token_f1</th>\n",
       "    </tr>\n",
       "  </thead>\n",
       "  <tbody>\n",
       "    <tr>\n",
       "      <th>0</th>\n",
       "      <td>me5_deu_Latn</td>\n",
       "      <td>Base</td>\n",
       "      <td>deu</td>\n",
       "      <td>55.46</td>\n",
       "    </tr>\n",
       "    <tr>\n",
       "      <th>1</th>\n",
       "      <td>me5_heb_Hebr</td>\n",
       "      <td>Base</td>\n",
       "      <td>deu</td>\n",
       "      <td>12.71</td>\n",
       "    </tr>\n",
       "    <tr>\n",
       "      <th>2</th>\n",
       "      <td>me5_cmn_Hani</td>\n",
       "      <td>Base</td>\n",
       "      <td>deu</td>\n",
       "      <td>8.68</td>\n",
       "    </tr>\n",
       "    <tr>\n",
       "      <th>3</th>\n",
       "      <td>me5_arb_Arab</td>\n",
       "      <td>Base</td>\n",
       "      <td>deu</td>\n",
       "      <td>17.52</td>\n",
       "    </tr>\n",
       "    <tr>\n",
       "      <th>4</th>\n",
       "      <td>me5_jpn_Jpan</td>\n",
       "      <td>Base</td>\n",
       "      <td>deu</td>\n",
       "      <td>15.69</td>\n",
       "    </tr>\n",
       "    <tr>\n",
       "      <th>...</th>\n",
       "      <td>...</td>\n",
       "      <td>...</td>\n",
       "      <td>...</td>\n",
       "      <td>...</td>\n",
       "    </tr>\n",
       "    <tr>\n",
       "      <th>1855</th>\n",
       "      <td>me5_tur_hin</td>\n",
       "      <td>Step50+sbeam8</td>\n",
       "      <td>amh</td>\n",
       "      <td>10.12</td>\n",
       "    </tr>\n",
       "    <tr>\n",
       "      <th>1856</th>\n",
       "      <td>me5_kaz_urd</td>\n",
       "      <td>Step50+sbeam8</td>\n",
       "      <td>amh</td>\n",
       "      <td>0.20</td>\n",
       "    </tr>\n",
       "    <tr>\n",
       "      <th>1857</th>\n",
       "      <td>me5_kaz_pan</td>\n",
       "      <td>Step50+sbeam8</td>\n",
       "      <td>amh</td>\n",
       "      <td>10.11</td>\n",
       "    </tr>\n",
       "    <tr>\n",
       "      <th>1858</th>\n",
       "      <td>me5_kaz_guj</td>\n",
       "      <td>Step50+sbeam8</td>\n",
       "      <td>amh</td>\n",
       "      <td>10.68</td>\n",
       "    </tr>\n",
       "    <tr>\n",
       "      <th>1859</th>\n",
       "      <td>me5_kaz_hin</td>\n",
       "      <td>Step50+sbeam8</td>\n",
       "      <td>amh</td>\n",
       "      <td>9.70</td>\n",
       "    </tr>\n",
       "  </tbody>\n",
       "</table>\n",
       "<p>1860 rows × 4 columns</p>\n",
       "</div>"
      ],
      "text/plain": [
       "        model_name           step lang  token_f1\n",
       "0     me5_deu_Latn           Base  deu     55.46\n",
       "1     me5_heb_Hebr           Base  deu     12.71\n",
       "2     me5_cmn_Hani           Base  deu      8.68\n",
       "3     me5_arb_Arab           Base  deu     17.52\n",
       "4     me5_jpn_Jpan           Base  deu     15.69\n",
       "...            ...            ...  ...       ...\n",
       "1855   me5_tur_hin  Step50+sbeam8  amh     10.12\n",
       "1856   me5_kaz_urd  Step50+sbeam8  amh      0.20\n",
       "1857   me5_kaz_pan  Step50+sbeam8  amh     10.11\n",
       "1858   me5_kaz_guj  Step50+sbeam8  amh     10.68\n",
       "1859   me5_kaz_hin  Step50+sbeam8  amh      9.70\n",
       "\n",
       "[1860 rows x 4 columns]"
      ]
     },
     "execution_count": 336,
     "metadata": {},
     "output_type": "execute_result"
    }
   ],
   "source": [
    "df_tokenf1_mult_crosslingual_melted"
   ]
  },
  {
   "cell_type": "code",
   "execution_count": null,
   "id": "8f5b7f6d-d352-427b-a35e-3ffbc379c053",
   "metadata": {},
   "outputs": [],
   "source": []
  },
  {
   "cell_type": "code",
   "execution_count": 306,
   "id": "534f6f5e-431b-45e1-8d40-f05307e00b23",
   "metadata": {
    "execution": {
     "iopub.execute_input": "2024-10-01T14:52:36.026416Z",
     "iopub.status.busy": "2024-10-01T14:52:36.025437Z",
     "iopub.status.idle": "2024-10-01T14:52:36.040237Z",
     "shell.execute_reply": "2024-10-01T14:52:36.037739Z",
     "shell.execute_reply.started": "2024-10-01T14:52:36.026365Z"
    }
   },
   "outputs": [],
   "source": [
    "df_eval_lang_entropy = pd.DataFrame(step2eval_lang_entropy_avg).T"
   ]
  },
  {
   "cell_type": "code",
   "execution_count": 308,
   "id": "36015de9-2d8e-4455-a279-5a90c60887bf",
   "metadata": {
    "execution": {
     "iopub.execute_input": "2024-10-01T14:52:55.738073Z",
     "iopub.status.busy": "2024-10-01T14:52:55.737172Z",
     "iopub.status.idle": "2024-10-01T14:52:55.751395Z",
     "shell.execute_reply": "2024-10-01T14:52:55.749711Z",
     "shell.execute_reply.started": "2024-10-01T14:52:55.738025Z"
    }
   },
   "outputs": [],
   "source": [
    "df_eval_lang_entropy = df_eval_lang_entropy.sort_values(\"Base\")"
   ]
  },
  {
   "cell_type": "code",
   "execution_count": 309,
   "id": "7394f337-8f86-4baf-9542-d2fdb08900ac",
   "metadata": {
    "execution": {
     "iopub.execute_input": "2024-10-01T14:52:56.686072Z",
     "iopub.status.busy": "2024-10-01T14:52:56.684827Z",
     "iopub.status.idle": "2024-10-01T14:52:56.699821Z",
     "shell.execute_reply": "2024-10-01T14:52:56.698407Z",
     "shell.execute_reply.started": "2024-10-01T14:52:56.685993Z"
    }
   },
   "outputs": [],
   "source": [
    "df_eval_lang_entropy[\"lang\"]=df_eval_lang_entropy.index"
   ]
  },
  {
   "cell_type": "code",
   "execution_count": 310,
   "id": "26e362af-1087-4059-9ba9-664315efe1f9",
   "metadata": {
    "execution": {
     "iopub.execute_input": "2024-10-01T14:52:57.382262Z",
     "iopub.status.busy": "2024-10-01T14:52:57.381381Z",
     "iopub.status.idle": "2024-10-01T14:52:57.402718Z",
     "shell.execute_reply": "2024-10-01T14:52:57.401700Z",
     "shell.execute_reply.started": "2024-10-01T14:52:57.382216Z"
    }
   },
   "outputs": [],
   "source": [
    "df_eval_lang_entropy_melted = df_eval_lang_entropy.melt(id_vars='lang', var_name='step', value_name='entropy')\n",
    "df_eval_lang_entropy_melted[\"language\"]= df_eval_lang_entropy_melted[\"lang\"].map(iso2name)"
   ]
  },
  {
   "cell_type": "code",
   "execution_count": null,
   "id": "13594517-a904-4082-b03d-2998249c05f2",
   "metadata": {},
   "outputs": [],
   "source": [
    "langs= df_eval_lang_entropy_melted[\"lang\"].tolist()"
   ]
  },
  {
   "cell_type": "code",
   "execution_count": null,
   "id": "ef23dbad-7530-485a-bf24-b5039d30ce0a",
   "metadata": {},
   "outputs": [],
   "source": []
  },
  {
   "cell_type": "code",
   "execution_count": 312,
   "id": "98109c52-33ed-4ce3-b681-772f1b002adb",
   "metadata": {
    "execution": {
     "iopub.execute_input": "2024-10-01T14:53:15.875554Z",
     "iopub.status.busy": "2024-10-01T14:53:15.874612Z",
     "iopub.status.idle": "2024-10-01T14:53:15.888455Z",
     "shell.execute_reply": "2024-10-01T14:53:15.886771Z",
     "shell.execute_reply.started": "2024-10-01T14:53:15.875505Z"
    }
   },
   "outputs": [],
   "source": [
    "def replace_lang(x):\n",
    "    return x.split(\"_\")[0]"
   ]
  },
  {
   "cell_type": "code",
   "execution_count": 317,
   "id": "8d660d0d-c362-4a2e-b03a-97e886a36d9d",
   "metadata": {
    "execution": {
     "iopub.execute_input": "2024-10-01T14:54:48.198335Z",
     "iopub.status.busy": "2024-10-01T14:54:48.197439Z",
     "iopub.status.idle": "2024-10-01T14:54:48.212386Z",
     "shell.execute_reply": "2024-10-01T14:54:48.210470Z",
     "shell.execute_reply.started": "2024-10-01T14:54:48.198293Z"
    }
   },
   "outputs": [],
   "source": [
    "df_tokenf1_mult_crosslingual_melted[\"lang\"]=df_tokenf1_mult_crosslingual_melted[\"lang\"].apply(replace_lang)"
   ]
  },
  {
   "cell_type": "code",
   "execution_count": 311,
   "id": "bd06916f-480a-49ee-bbb2-d0c33f574e32",
   "metadata": {
    "execution": {
     "iopub.execute_input": "2024-10-01T14:53:13.382857Z",
     "iopub.status.busy": "2024-10-01T14:53:13.381847Z",
     "iopub.status.idle": "2024-10-01T14:53:13.398107Z",
     "shell.execute_reply": "2024-10-01T14:53:13.396563Z",
     "shell.execute_reply.started": "2024-10-01T14:53:13.382799Z"
    }
   },
   "outputs": [],
   "source": [
    "df_bleu_mult_crosslingual_melted[\"lang\"] = df_bleu_mult_crosslingual_melted[\"lang\"].apply(replace_lang)"
   ]
  },
  {
   "cell_type": "code",
   "execution_count": 318,
   "id": "f8695cac-7651-42da-8087-d8725d6dfd8e",
   "metadata": {
    "execution": {
     "iopub.execute_input": "2024-10-01T14:54:50.078983Z",
     "iopub.status.busy": "2024-10-01T14:54:50.075228Z",
     "iopub.status.idle": "2024-10-01T14:54:50.101235Z",
     "shell.execute_reply": "2024-10-01T14:54:50.100245Z",
     "shell.execute_reply.started": "2024-10-01T14:54:50.078902Z"
    }
   },
   "outputs": [],
   "source": [
    "df_tokenf1_mult_crosslingual_melted_avg= df_tokenf1_mult_crosslingual_melted.groupby(['lang', 'step'], as_index=False).agg(f1_token_avg=('token_f1', 'mean'))"
   ]
  },
  {
   "cell_type": "code",
   "execution_count": 319,
   "id": "ec3dcdf0-2fb8-477b-a1b3-aa7c6c9289fc",
   "metadata": {
    "execution": {
     "iopub.execute_input": "2024-10-01T14:54:52.187335Z",
     "iopub.status.busy": "2024-10-01T14:54:52.186365Z",
     "iopub.status.idle": "2024-10-01T14:54:52.210216Z",
     "shell.execute_reply": "2024-10-01T14:54:52.209398Z",
     "shell.execute_reply.started": "2024-10-01T14:54:52.187283Z"
    },
    "scrolled": true
   },
   "outputs": [],
   "source": [
    "df_bleu_mult_crosslingual_melted_avg= df_bleu_mult_crosslingual_melted.groupby(['lang', 'step'], as_index=False).agg(bleu_avg=('bleu', 'mean'))"
   ]
  },
  {
   "cell_type": "code",
   "execution_count": 315,
   "id": "03787535-faa4-437c-aa5e-abb0c4612906",
   "metadata": {
    "execution": {
     "iopub.execute_input": "2024-10-01T14:54:33.327545Z",
     "iopub.status.busy": "2024-10-01T14:54:33.326461Z",
     "iopub.status.idle": "2024-10-01T14:54:33.346618Z",
     "shell.execute_reply": "2024-10-01T14:54:33.345619Z",
     "shell.execute_reply.started": "2024-10-01T14:54:33.327483Z"
    },
    "scrolled": true
   },
   "outputs": [
    {
     "data": {
      "text/html": [
       "<div>\n",
       "<style scoped>\n",
       "    .dataframe tbody tr th:only-of-type {\n",
       "        vertical-align: middle;\n",
       "    }\n",
       "\n",
       "    .dataframe tbody tr th {\n",
       "        vertical-align: top;\n",
       "    }\n",
       "\n",
       "    .dataframe thead th {\n",
       "        text-align: right;\n",
       "    }\n",
       "</style>\n",
       "<table border=\"1\" class=\"dataframe\">\n",
       "  <thead>\n",
       "    <tr style=\"text-align: right;\">\n",
       "      <th></th>\n",
       "      <th>lang</th>\n",
       "      <th>step</th>\n",
       "      <th>entropy</th>\n",
       "      <th>language</th>\n",
       "    </tr>\n",
       "  </thead>\n",
       "  <tbody>\n",
       "    <tr>\n",
       "      <th>0</th>\n",
       "      <td>sin</td>\n",
       "      <td>Base</td>\n",
       "      <td>1.513959</td>\n",
       "      <td>Sinhala</td>\n",
       "    </tr>\n",
       "    <tr>\n",
       "      <th>1</th>\n",
       "      <td>guj</td>\n",
       "      <td>Base</td>\n",
       "      <td>1.678937</td>\n",
       "      <td>Gujarati</td>\n",
       "    </tr>\n",
       "  </tbody>\n",
       "</table>\n",
       "</div>"
      ],
      "text/plain": [
       "  lang  step   entropy  language\n",
       "0  sin  Base  1.513959   Sinhala\n",
       "1  guj  Base  1.678937  Gujarati"
      ]
     },
     "execution_count": 315,
     "metadata": {},
     "output_type": "execute_result"
    }
   ],
   "source": [
    "df_eval_lang_entropy_melted.head(2)"
   ]
  },
  {
   "cell_type": "markdown",
   "id": "7fed56f9-4a6c-4cce-8925-2d011c2d6703",
   "metadata": {},
   "source": [
    "# mt5 pre-training data"
   ]
  },
  {
   "cell_type": "code",
   "execution_count": 316,
   "id": "2fef723d-0f91-4a83-b4e0-2e0529df2fc4",
   "metadata": {
    "execution": {
     "iopub.execute_input": "2024-10-01T14:54:42.789470Z",
     "iopub.status.busy": "2024-10-01T14:54:42.788443Z",
     "iopub.status.idle": "2024-10-01T14:54:42.802974Z",
     "shell.execute_reply": "2024-10-01T14:54:42.801413Z",
     "shell.execute_reply.started": "2024-10-01T14:54:42.789427Z"
    }
   },
   "outputs": [],
   "source": [
    "lang2percent = {'zho':1.67, 'ara':1.66 , 'eng':5.67, 'mar':0.93, 'rus':3.71, 'tur':1.93, 'ben':0.91, 'fas':1.67, 'deu':3.05, 'jpn':1.92,\n",
    "       'pol':2.15, 'spa':3.09, 'fra':2.89, 'swe':1.61, 'kor':1.14, 'ces':1.72, 'bul':1.29, 'ita':2.43, 'slk':1.19, 'aze':0.82,\n",
    "       'ukr':1.51, 'fin':1.35, 'nld':1.98, 'tgl':0.52, 'mkd':0.62, 'epo':0.4, \n",
    "               \"pan\":0.37, \"sin\": 0.41, \"guj\":0.43, \"urd\":0.61, \"ydd\":0.28 ,\"mon\":0.62,\n",
    "               \"amh\":0.29, \"kaz\":0.65, \"mhr\":0, \"arb\":1.66, \"heb\":1.06, \"cmn\":1.67, \"mlt\":0.64, \"hun\":1.48, \"hin\":1.21 }"
   ]
  },
  {
   "cell_type": "code",
   "execution_count": null,
   "id": "d513b65d-1b3c-4164-91ba-0e3d5d2f2f65",
   "metadata": {},
   "outputs": [],
   "source": []
  },
  {
   "cell_type": "code",
   "execution_count": 320,
   "id": "1743713e-94eb-4e84-a2dc-98007df1a50b",
   "metadata": {
    "execution": {
     "iopub.execute_input": "2024-10-01T14:55:03.992814Z",
     "iopub.status.busy": "2024-10-01T14:55:03.991898Z",
     "iopub.status.idle": "2024-10-01T14:55:04.010234Z",
     "shell.execute_reply": "2024-10-01T14:55:04.008512Z",
     "shell.execute_reply.started": "2024-10-01T14:55:03.992761Z"
    }
   },
   "outputs": [],
   "source": [
    "df_eval_lang_entropy_melted_f1= pd.merge(df_eval_lang_entropy_melted,df_tokenf1_mult_crosslingual_melted_avg, on=[\"lang\", \"step\",], how=\"left\")"
   ]
  },
  {
   "cell_type": "code",
   "execution_count": 321,
   "id": "11211357-20ec-48de-8e12-3497b32cf5e4",
   "metadata": {
    "execution": {
     "iopub.execute_input": "2024-10-01T14:55:04.330173Z",
     "iopub.status.busy": "2024-10-01T14:55:04.329291Z",
     "iopub.status.idle": "2024-10-01T14:55:04.345648Z",
     "shell.execute_reply": "2024-10-01T14:55:04.344554Z",
     "shell.execute_reply.started": "2024-10-01T14:55:04.330128Z"
    }
   },
   "outputs": [],
   "source": [
    "df_eval_lang_entropy_melted_f1_bleu =  pd.merge(df_eval_lang_entropy_melted_f1, df_bleu_mult_crosslingual_melted_avg, on=[\"lang\", \"step\"], how=\"left\")"
   ]
  },
  {
   "cell_type": "code",
   "execution_count": 322,
   "id": "487ca045-ab16-410b-b77c-2ce60cbd05f1",
   "metadata": {
    "execution": {
     "iopub.execute_input": "2024-10-01T14:55:04.889593Z",
     "iopub.status.busy": "2024-10-01T14:55:04.888681Z",
     "iopub.status.idle": "2024-10-01T14:55:04.904120Z",
     "shell.execute_reply": "2024-10-01T14:55:04.902516Z",
     "shell.execute_reply.started": "2024-10-01T14:55:04.889546Z"
    },
    "scrolled": true
   },
   "outputs": [],
   "source": [
    "df_eval_lang_entropy_melted_f1_bleu[\"mt5\"]=df_eval_lang_entropy_melted_f1_bleu[\"lang\"].map(lang2percent)"
   ]
  },
  {
   "cell_type": "code",
   "execution_count": null,
   "id": "9003b30e-e246-4d86-b7cf-eb076460ccd0",
   "metadata": {},
   "outputs": [],
   "source": []
  },
  {
   "cell_type": "code",
   "execution_count": null,
   "id": "eca6ebcb-38ad-4056-b536-1478e9b06f3c",
   "metadata": {},
   "outputs": [],
   "source": []
  },
  {
   "cell_type": "code",
   "execution_count": null,
   "id": "0fe1b7d4-f240-4d0e-8d70-7db313715f2b",
   "metadata": {},
   "outputs": [],
   "source": []
  },
  {
   "cell_type": "code",
   "execution_count": 323,
   "id": "9bbe2e6a-92d7-4543-9971-f2904b6687d8",
   "metadata": {
    "execution": {
     "iopub.execute_input": "2024-10-01T14:55:06.090380Z",
     "iopub.status.busy": "2024-10-01T14:55:06.089694Z",
     "iopub.status.idle": "2024-10-01T14:55:06.105255Z",
     "shell.execute_reply": "2024-10-01T14:55:06.104156Z",
     "shell.execute_reply.started": "2024-10-01T14:55:06.090331Z"
    },
    "scrolled": true
   },
   "outputs": [
    {
     "data": {
      "text/html": [
       "<div>\n",
       "<style scoped>\n",
       "    .dataframe tbody tr th:only-of-type {\n",
       "        vertical-align: middle;\n",
       "    }\n",
       "\n",
       "    .dataframe tbody tr th {\n",
       "        vertical-align: top;\n",
       "    }\n",
       "\n",
       "    .dataframe thead th {\n",
       "        text-align: right;\n",
       "    }\n",
       "</style>\n",
       "<table border=\"1\" class=\"dataframe\">\n",
       "  <thead>\n",
       "    <tr style=\"text-align: right;\">\n",
       "      <th></th>\n",
       "      <th>entropy</th>\n",
       "      <th>mt5</th>\n",
       "    </tr>\n",
       "  </thead>\n",
       "  <tbody>\n",
       "    <tr>\n",
       "      <th>entropy</th>\n",
       "      <td>1.000000</td>\n",
       "      <td>0.349319</td>\n",
       "    </tr>\n",
       "    <tr>\n",
       "      <th>mt5</th>\n",
       "      <td>0.349319</td>\n",
       "      <td>1.000000</td>\n",
       "    </tr>\n",
       "  </tbody>\n",
       "</table>\n",
       "</div>"
      ],
      "text/plain": [
       "          entropy       mt5\n",
       "entropy  1.000000  0.349319\n",
       "mt5      0.349319  1.000000"
      ]
     },
     "execution_count": 323,
     "metadata": {},
     "output_type": "execute_result"
    }
   ],
   "source": [
    "df_eval_lang_entropy_melted_f1_bleu[[\"entropy\", \"mt5\"]].corr(method='spearman')"
   ]
  },
  {
   "cell_type": "code",
   "execution_count": 324,
   "id": "590e7a40-6362-40ed-a662-ca097cf64bc5",
   "metadata": {
    "execution": {
     "iopub.execute_input": "2024-10-01T14:55:20.055211Z",
     "iopub.status.busy": "2024-10-01T14:55:20.054202Z",
     "iopub.status.idle": "2024-10-01T14:55:20.092139Z",
     "shell.execute_reply": "2024-10-01T14:55:20.091561Z",
     "shell.execute_reply.started": "2024-10-01T14:55:20.055160Z"
    }
   },
   "outputs": [
    {
     "name": "stderr",
     "output_type": "stream",
     "text": [
      "/var/folders/bj/qp6k2wl11h5gpn8j4hg0tgf40000gn/T/ipykernel_11106/4177894496.py:5: FutureWarning: DataFrame.applymap has been deprecated. Use DataFrame.map instead.\n",
      "  p = pval.applymap(lambda x: ''.join(['*' for t in [.05, .01, .001] if x <= t]))\n"
     ]
    },
    {
     "data": {
      "text/html": [
       "<div>\n",
       "<style scoped>\n",
       "    .dataframe tbody tr th:only-of-type {\n",
       "        vertical-align: middle;\n",
       "    }\n",
       "\n",
       "    .dataframe tbody tr th {\n",
       "        vertical-align: top;\n",
       "    }\n",
       "\n",
       "    .dataframe thead th {\n",
       "        text-align: right;\n",
       "    }\n",
       "</style>\n",
       "<table border=\"1\" class=\"dataframe\">\n",
       "  <thead>\n",
       "    <tr style=\"text-align: right;\">\n",
       "      <th></th>\n",
       "      <th>entropy</th>\n",
       "      <th>bleu_avg</th>\n",
       "      <th>mt5</th>\n",
       "    </tr>\n",
       "  </thead>\n",
       "  <tbody>\n",
       "    <tr>\n",
       "      <th>entropy</th>\n",
       "      <td>NaN</td>\n",
       "      <td>NaN</td>\n",
       "      <td>NaN</td>\n",
       "    </tr>\n",
       "    <tr>\n",
       "      <th>bleu_avg</th>\n",
       "      <td>-0.36**</td>\n",
       "      <td>NaN</td>\n",
       "      <td>NaN</td>\n",
       "    </tr>\n",
       "    <tr>\n",
       "      <th>mt5</th>\n",
       "      <td>0.35**</td>\n",
       "      <td>-0.32*</td>\n",
       "      <td>NaN</td>\n",
       "    </tr>\n",
       "  </tbody>\n",
       "</table>\n",
       "</div>"
      ],
      "text/plain": [
       "          entropy bleu_avg  mt5\n",
       "entropy       NaN      NaN  NaN\n",
       "bleu_avg  -0.36**      NaN  NaN\n",
       "mt5        0.35**   -0.32*  NaN"
      ]
     },
     "execution_count": 324,
     "metadata": {},
     "output_type": "execute_result"
    }
   ],
   "source": [
    "from scipy.stats import spearmanr\n",
    "import numpy as np\n",
    "rho = df_eval_lang_entropy_melted_f1_bleu[[\"entropy\",  \"bleu_avg\", \"mt5\"]].corr(method='spearman')\n",
    "pval = df_eval_lang_entropy_melted_f1_bleu[[\"entropy\",  \"bleu_avg\", \"mt5\"]].corr(method=lambda x, y: spearmanr(x, y)[1]) - np.eye(*rho.shape)\n",
    "p = pval.applymap(lambda x: ''.join(['*' for t in [.05, .01, .001] if x <= t]))\n",
    "\n",
    "# Combine rho (correlation coefficients) and p-values (significance stars)\n",
    "annotated = rho.round(2).astype(str) + p\n",
    "\n",
    "# Create a mask for the upper triangle and diagonal\n",
    "mask = np.triu(np.ones_like(rho, dtype=bool))\n",
    "\n",
    "# Mask the upper triangle of the annotated DataFrame\n",
    "annotated = annotated.mask(mask)\n",
    "annotated"
   ]
  },
  {
   "cell_type": "code",
   "execution_count": 326,
   "id": "6dbefdb2-4f1f-47bc-9a98-8d02220be30f",
   "metadata": {
    "execution": {
     "iopub.execute_input": "2024-10-01T14:55:42.660921Z",
     "iopub.status.busy": "2024-10-01T14:55:42.659882Z",
     "iopub.status.idle": "2024-10-01T14:55:42.676661Z",
     "shell.execute_reply": "2024-10-01T14:55:42.675345Z",
     "shell.execute_reply.started": "2024-10-01T14:55:42.660823Z"
    }
   },
   "outputs": [],
   "source": [
    "spearman_corr= df_eval_lang_entropy_melted_f1_bleu[[\"entropy\",  \"bleu_avg\", \"mt5\"]].corr(method='spearman')"
   ]
  },
  {
   "cell_type": "code",
   "execution_count": 327,
   "id": "23badabf-c02a-476d-a604-fc0032ef88dd",
   "metadata": {
    "execution": {
     "iopub.execute_input": "2024-10-01T14:55:43.078484Z",
     "iopub.status.busy": "2024-10-01T14:55:43.077417Z",
     "iopub.status.idle": "2024-10-01T14:55:43.217917Z",
     "shell.execute_reply": "2024-10-01T14:55:43.217472Z",
     "shell.execute_reply.started": "2024-10-01T14:55:43.078426Z"
    }
   },
   "outputs": [
    {
     "data": {
      "image/png": "[encoded data removed]",
      "text/plain": [
       "<Figure size 300x300 with 2 Axes>"
      ]
     },
     "metadata": {},
     "output_type": "display_data"
    }
   ],
   "source": [
    "plt.figure(figsize=(3,3))\n",
    "sns.heatmap(spearman_corr, annot=True, cmap='coolwarm', center=0, linewidths=1, linecolor='white', )\n",
    "\n",
    "# Customize the plot\n",
    "plt.title('Spearman Correlation Heatmap', fontsize=16)\n",
    "plt.show()"
   ]
  },
  {
   "cell_type": "code",
   "execution_count": 328,
   "id": "950a5705-7f23-471d-bc00-5c76c5892b20",
   "metadata": {
    "execution": {
     "iopub.execute_input": "2024-10-01T14:55:47.563943Z",
     "iopub.status.busy": "2024-10-01T14:55:47.562686Z",
     "iopub.status.idle": "2024-10-01T14:55:47.580290Z",
     "shell.execute_reply": "2024-10-01T14:55:47.578926Z",
     "shell.execute_reply.started": "2024-10-01T14:55:47.563863Z"
    },
    "scrolled": true
   },
   "outputs": [],
   "source": [
    "df_eval_lang_entropy_melted_f1_bleu[\"token_f1_avg_log\"] = df_eval_lang_entropy_melted_f1_bleu[\"f1_token_avg\"].apply(np.log)\n",
    "df_eval_lang_entropy_melted_f1_bleu[\"bleu_avg_log\"] = df_eval_lang_entropy_melted_f1_bleu[\"bleu_avg\"].apply(np.log)"
   ]
  },
  {
   "cell_type": "code",
   "execution_count": 330,
   "id": "0118a8f3-f1c8-49c8-ac1d-24de09fa1e36",
   "metadata": {
    "execution": {
     "iopub.execute_input": "2024-10-01T14:56:23.656680Z",
     "iopub.status.busy": "2024-10-01T14:56:23.654847Z",
     "iopub.status.idle": "2024-10-01T14:56:24.410697Z",
     "shell.execute_reply": "2024-10-01T14:56:24.410295Z",
     "shell.execute_reply.started": "2024-10-01T14:56:23.656625Z"
    }
   },
   "outputs": [
    {
     "data": {
      "image/png": "[encoded data removed]",
      "text/plain": [
       "<Figure size 2600x700 with 2 Axes>"
      ]
     },
     "metadata": {},
     "output_type": "display_data"
    }
   ],
   "source": [
    "import matplotlib.pyplot as plt\n",
    "import seaborn as sns\n",
    "\n",
    "# Assuming df_eval_lang_entropy_melted contains columns: 'language', 'entropy', 'step', and 'f1_score'\n",
    "\n",
    "# Create the figure and the first axis (for entropy)\n",
    "fig, ax1 = plt.subplots(figsize=(26, 7))\n",
    "\n",
    "# Plot the barplot for entropy on the first axis\n",
    "p = sns.barplot(x='language', y='entropy', data=df_eval_lang_entropy_melted_f1_bleu, hue=\"step\", palette=\"Pastel1\", ax=ax1)\n",
    "\n",
    "# Add hatches to the bars\n",
    "hatches = '/'\n",
    "step_with_hatch = \"Step1\"\n",
    "for patch, (step) in zip(p.patches, df_eval_lang_entropy_melted_f1_bleu['step']):\n",
    "    if step == step_with_hatch:\n",
    "        patch.set_hatch(hatches)\n",
    "    if step == \"Step50+sbeam8\":\n",
    "        patch.set_hatch('\\\\')\n",
    "\n",
    "# Customize the first y-axis (for entropy)\n",
    "ax1.set_ylabel('Entropy', fontsize=26)\n",
    "ax1.set_xlabel('Language', fontsize=26)\n",
    "ax1.tick_params(axis='y', labelsize=20)\n",
    "ax1.tick_params(axis='x', labelsize=20)\n",
    "plt.xticks(rotation=30)\n",
    "\n",
    "# Create a second y-axis (for F1 score)\n",
    "ax2 = ax1.twinx()  # This creates the second y-axis sharing the same x-axis\n",
    "\n",
    "dashes = [(1, 0), (5, 5), (3, 1, 1, 1)]  # solid, dashed, dotted\n",
    "\n",
    "# Plot the line plot for F1 score on the second y-axis\n",
    "sns.lineplot(x='language', y='bleu_avg', data=df_eval_lang_entropy_melted_f1_bleu, hue=\"step\", \n",
    "             marker=\"o\", linewidth=2, markersize=10, palette=\"Set1\", ax=ax2,  style=\"step\",\n",
    "             dashes=dashes)\n",
    "\n",
    "\n",
    "# sns.lineplot(x='language', y='mt5', data=df_eval_lang_entropy_melted_f1_bleu,\n",
    "#              marker=\"o\", linewidth=2, markersize=10, palette=\"Set2\", ax=ax1,)\n",
    "\n",
    "# Customi\n",
    "\n",
    "# Customize the second y-axis (for F1 score)\n",
    "ax2.set_ylabel('BLEU', fontsize=26)\n",
    "ax2.tick_params(axis='y', labelsize=20)\n",
    "\n",
    "# Add the title\n",
    "plt.title('Crosslingual Setting at Line Level', fontsize=30)\n",
    "\n",
    "# Add the legend for the steps (can be adjusted for both y-axes)\n",
    "ax1.legend(title=\"Steps\", fontsize=14, title_fontsize=16, loc='upper left', bbox_to_anchor=(1.05, 1), borderaxespad=0.2)\n",
    "ax2.legend(title=\"BLEU\", fontsize=14, title_fontsize=16, loc='upper right', bbox_to_anchor=(1.16, 0.7), borderaxespad=0.2)\n",
    "\n",
    "# Adjust layout and save the plot\n",
    "plt.tight_layout()\n",
    "plt.savefig('../plots/inversion/multi_eval_langs_entropy_line_level_bleu_score_mt5.pdf', format='pdf', bbox_inches='tight')\n",
    "\n",
    "# Show the plot\n",
    "plt.show()\n"
   ]
  },
  {
   "cell_type": "code",
   "execution_count": null,
   "id": "503bff1e-2642-4e2f-bedc-4aa7b87f159e",
   "metadata": {},
   "outputs": [],
   "source": []
  },
  {
   "cell_type": "code",
   "execution_count": null,
   "id": "b301686d-03db-4bb8-b863-bd1e2002a7ff",
   "metadata": {},
   "outputs": [],
   "source": []
  },
  {
   "cell_type": "markdown",
   "id": "b186d0a5-5a25-4a62-8028-a8cc7c359b05",
   "metadata": {},
   "source": [
    "# check whether the eval language is in the training data"
   ]
  },
  {
   "cell_type": "code",
   "execution_count": null,
   "id": "1ebb8a7b-bb63-42ed-a9d8-8e7e393e7041",
   "metadata": {
    "scrolled": true
   },
   "outputs": [],
   "source": [
    "df_mult_base[\"eval_lang_in_training\"]= df_mult_base.apply(lambda row: filter_lang(row), axis=1)\n",
    "df_mult_step1[\"eval_lang_in_training\"]= df_mult_step1.apply(lambda row: filter_lang(row), axis=1)\n",
    "df_mult_step50[\"eval_lang_in_training\"]= df_mult_step50.apply(lambda row: filter_lang(row), axis=1)"
   ]
  },
  {
   "cell_type": "code",
   "execution_count": null,
   "id": "748f0e61-f283-4612-b734-5324ad5de5a0",
   "metadata": {},
   "outputs": [],
   "source": [
    "len(df_mult_base), len(df_mult_step1),len(df_mult_step50),"
   ]
  },
  {
   "cell_type": "code",
   "execution_count": null,
   "id": "463d3efa-d63c-46c5-b3e3-85eeae46289d",
   "metadata": {},
   "outputs": [],
   "source": [
    "df_mult_base_crosslingual = df_mult_base[df_mult_base[\"eval_lang_in_training\"]==False]\n",
    "df_mult_step1_crosslingual = df_mult_step1[df_mult_step1[\"eval_lang_in_training\"]==False]\n",
    "df_mult_step50_crosslingual = df_mult_step50[df_mult_step50[\"eval_lang_in_training\"]==False]"
   ]
  },
  {
   "cell_type": "code",
   "execution_count": null,
   "id": "e36f1915-9a6f-4a28-8958-3950bdb4d63a",
   "metadata": {},
   "outputs": [],
   "source": []
  },
  {
   "cell_type": "code",
   "execution_count": null,
   "id": "e011ecdd-16c5-437b-9f16-d516b8b33d1b",
   "metadata": {},
   "outputs": [],
   "source": [
    "df_mult_base_crosslingual"
   ]
  },
  {
   "cell_type": "code",
   "execution_count": null,
   "id": "3e2ac46b-3806-4041-962b-e64542a5e9fc",
   "metadata": {},
   "outputs": [],
   "source": []
  },
  {
   "cell_type": "code",
   "execution_count": null,
   "id": "caa91205-e784-44e1-a9bf-63dad90d4615",
   "metadata": {},
   "outputs": [],
   "source": []
  },
  {
   "cell_type": "markdown",
   "id": "66872111-2342-4950-825e-cc0b605d6bc5",
   "metadata": {},
   "source": [
    "# Predicted languages and their distributions from all the steps"
   ]
  },
  {
   "cell_type": "code",
   "execution_count": null,
   "id": "5da5c4ea-d1fd-4b07-8d95-760609675a28",
   "metadata": {
    "scrolled": true
   },
   "outputs": [],
   "source": [
    "from collections import defaultdict\n",
    "lang2dist_base=defaultdict(list)\n",
    "lang2dist_step1 = defaultdict(list)\n",
    "lang2dist_step50= defaultdict(list)\n",
    "\n",
    "for pred_langs, pred_lang, training_langs in zip(df_mult_base_crosslingual[\"pred_langs\"],df_mult_base_crosslingual[\"eval_lang\"], df_mult_base_crosslingual[\"training_langs\"]) :\n",
    "    for k, v in pred_langs.items():\n",
    "        # get crosslingual prediction language distribution not counting the training data and\n",
    "        if k!=pred_lang and k not in training_langs:\n",
    "            # if k==\"mar\":\n",
    "                # print(training_langs, pred_lang, pred_langs)\n",
    "            lang2dist_base[k].append(v)b\n",
    "            \n",
    "\n",
    "for pred_langs, pred_lang, training_langs in zip(df_mult_step1_crosslingual[\"pred_langs\"],df_mult_step1_crosslingual[\"eval_lang\"], df_mult_step1_crosslingual[\"training_langs\"]) :\n",
    "    for k, v in pred_langs.items():\n",
    "        # get crosslingual prediction language distribution not counting the training data and\n",
    "        if k!=pred_lang and k not in training_langs:\n",
    "            # if k==\"mar\":\n",
    "                # print(training_langs, pred_lang, pred_langs)\n",
    "            lang2dist_step1[k].append(v)\n",
    "\n",
    "for pred_langs, pred_lang, training_langs in zip(df_mult_step50_crosslingual[\"pred_langs\"],df_mult_step50_crosslingual[\"eval_lang\"], df_mult_step50_crosslingual[\"training_langs\"]) :\n",
    "    for k, v in pred_langs.items():\n",
    "        # get crosslingual prediction language distribution not counting the training data and\n",
    "        if k!=pred_lang and k not in training_langs:\n",
    "            # if k==\"mar\":\n",
    "                # print(training_langs, pred_lang, pred_langs)\n",
    "            lang2dist_step50[k].append(v)"
   ]
  },
  {
   "cell_type": "code",
   "execution_count": null,
   "id": "9223f1dd-6a83-4e49-9826-26f73e056a6a",
   "metadata": {
    "scrolled": true
   },
   "outputs": [],
   "source": [
    "lang2dist_base_avg= {k: np.mean(v) for k,v in lang2dist_base.items()}\n",
    "lang2dist_step1_avg= {k: np.mean(v) for k,v in lang2dist_step1.items()}\n",
    "lang2dist_step50_avg= {k: np.mean(v) for k,v in lang2dist_step50.items()}"
   ]
  },
  {
   "cell_type": "code",
   "execution_count": null,
   "id": "77c05324-ae78-4a07-aeb6-126418b9b8a8",
   "metadata": {
    "scrolled": true
   },
   "outputs": [],
   "source": [
    "len(lang2dist_base_avg), len(lang2dist_step1_avg), len(lang2dist_step50_avg)"
   ]
  },
  {
   "cell_type": "code",
   "execution_count": null,
   "id": "433560e1-7c92-4b97-84d2-6f3fd72c4adf",
   "metadata": {},
   "outputs": [],
   "source": [
    "df_lang2dist_base = pd.DataFrame.from_dict(lang2dist_base_avg, orient=\"index\").rename(columns={0:\"Base\"})\n",
    "df_lang2dist_step1 = pd.DataFrame.from_dict(lang2dist_step1_avg, orient=\"index\").rename(columns={0:\"Step1\"})\n",
    "df_lang2dist_step50= pd.DataFrame.from_dict(lang2dist_step50_avg, orient=\"index\").rename(columns={0:\"Step50+sbeam8\"})"
   ]
  },
  {
   "cell_type": "code",
   "execution_count": null,
   "id": "6aa3c1f9-475e-4590-8569-b95022cdd89e",
   "metadata": {},
   "outputs": [],
   "source": []
  },
  {
   "cell_type": "code",
   "execution_count": null,
   "id": "da2b73ef-99d3-44c7-9548-afa1554f1b23",
   "metadata": {},
   "outputs": [],
   "source": [
    "df_ = df_lang2dist_base.join(df_lang2dist_step1)"
   ]
  },
  {
   "cell_type": "code",
   "execution_count": null,
   "id": "86a5e91e-d29c-4b60-8758-c8ff47acac70",
   "metadata": {},
   "outputs": [],
   "source": [
    "df_"
   ]
  },
  {
   "cell_type": "code",
   "execution_count": null,
   "id": "bcce9324-f8dd-40b0-90c3-4873181cb64d",
   "metadata": {},
   "outputs": [],
   "source": [
    "df_ = df_.join(df_lang2dist_step50)"
   ]
  },
  {
   "cell_type": "code",
   "execution_count": null,
   "id": "10f6888d-faaf-46e5-a0e2-f991296daf67",
   "metadata": {
    "scrolled": true
   },
   "outputs": [],
   "source": [
    "len(df_[df_>0.01].dropna())"
   ]
  },
  {
   "cell_type": "code",
   "execution_count": null,
   "id": "70876d8e-018c-4ce0-8e0e-345eb93d3b69",
   "metadata": {},
   "outputs": [],
   "source": [
    "lang2percent = {'zho':1.67, 'ara':1.66 , 'eng':5.67, 'mar':0.93, 'rus':3.71, 'tur':1.93, 'ben':0.91, 'fas':1.67, 'deu':3.05, 'jpn':1.92,\n",
    "       'pol':2.15, 'spa':3.09, 'fra':2.89, 'swe':1.61, 'kor':1.14, 'ces':1.72, 'bul':1.29, 'ita':2.43, 'slk':1.19, 'aze':0.82,\n",
    "       'ukr':1.51, 'fin':1.35, 'nld':1.98, 'tgl':0.52, 'mkd':0.62, 'epo':0.4}"
   ]
  },
  {
   "cell_type": "code",
   "execution_count": null,
   "id": "57269ffe-6d12-4d8e-ba85-00af434dcc9b",
   "metadata": {
    "scrolled": true
   },
   "outputs": [],
   "source": [
    "df_= df_[df_>0.01].dropna().sort_values(by=\"Base\", ascending=False)"
   ]
  },
  {
   "cell_type": "code",
   "execution_count": null,
   "id": "730a3975-ec02-4814-9ca4-f5a0277bb54b",
   "metadata": {},
   "outputs": [],
   "source": [
    "df_[\"lang\"]=df_.index\n",
    "df_[\"mt5\"]= df_[\"lang\"].apply(lambda x: lang2percent[x])"
   ]
  },
  {
   "cell_type": "code",
   "execution_count": null,
   "id": "8952004a-3daa-4af6-a3ed-a16f32129d90",
   "metadata": {},
   "outputs": [],
   "source": [
    "df_.to_csv(\"../datasets/inversion_language_confusion/multi_langdist_line_level.csv\" )"
   ]
  },
  {
   "cell_type": "code",
   "execution_count": null,
   "id": "2085ba2d-fd69-4096-8356-7982a0ad8a5c",
   "metadata": {},
   "outputs": [],
   "source": [
    "df_"
   ]
  },
  {
   "cell_type": "code",
   "execution_count": null,
   "id": "392b8297-e228-46a9-a865-d8dfb2efde59",
   "metadata": {
    "scrolled": true
   },
   "outputs": [],
   "source": [
    "lang2probs = dict()\n",
    "\n",
    "for train_lang, eval_lang, pred_langs in zip(df_mult_base[\"training_langs\"], df_mult_base[\"eval_lang\"], df_mult_base[\"pred_langs\"]):\n",
    "    if eval_lang==\"deu\":\n",
    "        print(train_lang, eval_lang, pred_langs)"
   ]
  },
  {
   "cell_type": "code",
   "execution_count": null,
   "id": "eebdd8b5-3120-49de-99aa-6e7d55b9fcbd",
   "metadata": {
    "scrolled": true
   },
   "outputs": [],
   "source": [
    "df_"
   ]
  },
  {
   "cell_type": "code",
   "execution_count": null,
   "id": "7eb9c462-0708-44de-a91f-5993b8ba9104",
   "metadata": {},
   "outputs": [],
   "source": [
    "import pandas as pd\n",
    "import seaborn as sns\n",
    "import matplotlib.pyplot as plt\n",
    "\n",
    "# Assuming you have your dataframe as 'df' with the 'Base', 'Step1', 'Step50+sbeam8', and 'mt5' columns\n",
    "# Example correlation calculation\n",
    "correlation = df_[['Base', 'Step1', 'Step50+sbeam8', 'mt5']].corr()\n",
    "\n",
    "# Plotting the correlation heatmap\n",
    "plt.figure(figsize=(3,3))\n",
    "sns.heatmap(correlation, annot=True, cmap='coolwarm', vmin=-1, vmax=1)\n",
    "plt.title('Correlation Heatmap Between Steps and mt5')\n",
    "plt.show()\n"
   ]
  },
  {
   "cell_type": "code",
   "execution_count": null,
   "id": "1d977b0d-9af9-46c4-9224-f022973ebfea",
   "metadata": {},
   "outputs": [],
   "source": []
  },
  {
   "cell_type": "code",
   "execution_count": null,
   "id": "15e5d3b4-d437-4146-ba9d-fba977501b68",
   "metadata": {
    "scrolled": true
   },
   "outputs": [],
   "source": [
    "data_dir = \"../datasets/inversion_language_confusion/langdist_data_all_langs\"\n",
    "\n",
    "lang_dist = defaultdict(list)\n",
    "for filename in tqdm(os.listdir(data_dir)):\n",
    "    if filename.endswith(\".csv\"):\n",
    "        filepath = os.path.join(data_dir, filename)\n",
    "        df = pd.read_csv(filepath)\n",
    "        df[\"pred_langs\"]= df[\"pred_langs\"].apply(literal_eval)\n",
    "        for d in df[\"pred_langs\"].tolist():\n",
    "            for lang, dist in d.items():\n",
    "                lang_dist[lang].append(dist)\n",
    "        \n",
    "    \n",
    "    "
   ]
  },
  {
   "cell_type": "code",
   "execution_count": null,
   "id": "94133d61-5166-48d8-9cb1-2fb761c68aa8",
   "metadata": {},
   "outputs": [],
   "source": []
  },
  {
   "cell_type": "code",
   "execution_count": null,
   "id": "4b1012a3-aa28-4a09-af40-9f96062b8d82",
   "metadata": {},
   "outputs": [],
   "source": [
    "lang_dist[\"tha\"]"
   ]
  },
  {
   "cell_type": "code",
   "execution_count": null,
   "id": "77724b03-37b8-4c03-a154-5305bbaf939c",
   "metadata": {},
   "outputs": [],
   "source": [
    "langs= list(set(lang_dist.keys()))"
   ]
  },
  {
   "cell_type": "code",
   "execution_count": null,
   "id": "26291b1f-f7d3-48bd-abb8-64c0ba67aeae",
   "metadata": {},
   "outputs": [],
   "source": [
    "import json\n",
    "with open(\"../datasets/inversion_language_confusion/langs.json\", \"w\") as f:\n",
    "    json.dump(langs,f)\n",
    "\n",
    "with open(\"../datasets/inversion_language_confusion/lang_dist.json\", \"w\") as f:\n",
    "    json.dump(lang_dist, f)"
   ]
  },
  {
   "cell_type": "code",
   "execution_count": null,
   "id": "756aa8fd-13f0-4252-8d59-31a1b8992728",
   "metadata": {},
   "outputs": [],
   "source": [
    "lang_dist_filter = {lang:[x for x in dist if x>=0.01] for lang, dist in lang_dist.items()}"
   ]
  },
  {
   "cell_type": "code",
   "execution_count": null,
   "id": "b5574954-1bb2-413e-a7b4-dd41c9bf9b1d",
   "metadata": {
    "scrolled": true
   },
   "outputs": [],
   "source": [
    "lang_dist_filter[\"tha\"]"
   ]
  },
  {
   "cell_type": "code",
   "execution_count": null,
   "id": "c810ce12-1afb-4367-bb3e-9271aa6208f1",
   "metadata": {
    "scrolled": true
   },
   "outputs": [],
   "source": [
    "lang_dist_filter"
   ]
  },
  {
   "cell_type": "code",
   "execution_count": null,
   "id": "4cf059f8-b40b-4455-b157-02a1ff968587",
   "metadata": {},
   "outputs": [],
   "source": [
    "with open(\"../src/languageConfusion/lang2file.yaml\") as f:\n",
    "    lang2file = yaml.safe_load(f)"
   ]
  },
  {
   "cell_type": "code",
   "execution_count": null,
   "id": "ddfb13d9-7a18-4686-b3a1-b7498daacc0a",
   "metadata": {},
   "outputs": [],
   "source": [
    "langs = [x.split(\"_\")[0] for x in list(lang2file.keys())]"
   ]
  },
  {
   "cell_type": "code",
   "execution_count": null,
   "id": "66ecbb98-689b-4c6f-aae6-ff28bee04c7b",
   "metadata": {},
   "outputs": [],
   "source": [
    "# languages in the inversion results"
   ]
  },
  {
   "cell_type": "code",
   "execution_count": null,
   "id": "80a350ff-742f-4731-b296-1b890bbc0f36",
   "metadata": {},
   "outputs": [],
   "source": [
    "langs = ['deu',\n",
    " 'ydd',\n",
    " 'heb',\n",
    " 'arb',\n",
    " 'amh',\n",
    " 'mlt',\n",
    " 'hin',\n",
    " 'urd',\n",
    " 'guj',\n",
    " 'sin',\n",
    " 'pan',\n",
    " 'tur',\n",
    " 'kaz',\n",
    " 'cmn',\n",
    " 'jpn',\n",
    " 'kor',\n",
    " 'mon',\n",
    " 'hun',\n",
    " 'mhr',\n",
    " 'fin']"
   ]
  },
  {
   "cell_type": "code",
   "execution_count": null,
   "id": "4decde13-cf03-43ab-a19f-6ea5169b6918",
   "metadata": {},
   "outputs": [],
   "source": [
    "len(langs)"
   ]
  },
  {
   "cell_type": "code",
   "execution_count": null,
   "id": "40cd23eb-7293-4663-a8cf-df70455d5a81",
   "metadata": {},
   "outputs": [],
   "source": [
    "df = pd.read_csv(\"../datasets/inversion_language_confusion/line_level/mono/train_data.csv\")"
   ]
  },
  {
   "cell_type": "code",
   "execution_count": null,
   "id": "2f16476f-e0e1-467a-a971-1fa5ad4face9",
   "metadata": {},
   "outputs": [],
   "source": [
    "df_wals = pd.read_csv(\"../datasets/data_for_graph/WALS/wals_lang2features.csv\")"
   ]
  },
  {
   "cell_type": "code",
   "execution_count": null,
   "id": "71f6b286-7715-480b-b830-4ab4de8987b7",
   "metadata": {},
   "outputs": [],
   "source": [
    "df_gb = pd.read_csv(\"../datasets/data_for_graph/Grambank/grambank_lang2features.csv\")"
   ]
  },
  {
   "cell_type": "code",
   "execution_count": null,
   "id": "9fdf5b81-457e-4875-9c93-90dd90548f7b",
   "metadata": {},
   "outputs": [],
   "source": [
    "df_langs = pd.read_csv(\"../datasets/languages/languoid.csv\")"
   ]
  },
  {
   "cell_type": "code",
   "execution_count": null,
   "id": "b1e70b2b-d311-4363-b10c-f2e32181b417",
   "metadata": {},
   "outputs": [],
   "source": [
    "glottocode2iso3 = dict(zip(df_langs[\"id\"], df_langs[\"iso639P3code\"]))"
   ]
  },
  {
   "cell_type": "code",
   "execution_count": null,
   "id": "bd7663a1-9897-4080-8fa7-decf14d54177",
   "metadata": {},
   "outputs": [],
   "source": [
    "glottocode2iso3[\"stan1295\"]"
   ]
  },
  {
   "cell_type": "code",
   "execution_count": null,
   "id": "6137ca86-fc5f-44bc-8012-1fc7734a92f2",
   "metadata": {},
   "outputs": [],
   "source": [
    "glottocode2iso3_langs = {idx:code for idx,code in glottocode2iso3.items() if code in langs}"
   ]
  },
  {
   "cell_type": "code",
   "execution_count": null,
   "id": "156d8966-8bb1-4b90-bf3a-807da423f48d",
   "metadata": {},
   "outputs": [],
   "source": [
    "len(glottocode2iso3_langs)"
   ]
  },
  {
   "cell_type": "code",
   "execution_count": null,
   "id": "d841fa89-8108-4b0b-ab00-de62c54a248e",
   "metadata": {},
   "outputs": [],
   "source": [
    "glottocode2iso3_langs"
   ]
  },
  {
   "cell_type": "code",
   "execution_count": null,
   "id": "426ee9d4-beae-4cea-bd73-1aa832b37188",
   "metadata": {},
   "outputs": [],
   "source": [
    "df_langs[df_langs[\"iso639P3code\"]==\"deu\"]"
   ]
  },
  {
   "cell_type": "code",
   "execution_count": null,
   "id": "004d9b01-45fb-4040-859c-86cd5c7e2bb2",
   "metadata": {
    "scrolled": true
   },
   "outputs": [],
   "source": [
    "\"deu\" in df_langs[\"iso639P3code\"].tolist()"
   ]
  },
  {
   "cell_type": "markdown",
   "id": "c90b2806-5016-4b4d-9c75-6ccc75013c2d",
   "metadata": {},
   "source": [
    "# Grambank features Selection"
   ]
  },
  {
   "cell_type": "code",
   "execution_count": null,
   "id": "6e086a18-06a6-456c-a09f-8906ff8a9c24",
   "metadata": {},
   "outputs": [],
   "source": [
    "df_gb[\"iso639P3code\"]=df_gb[\"Lang_ID\"].map(glottocode2iso3)"
   ]
  },
  {
   "cell_type": "code",
   "execution_count": null,
   "id": "7b61ad3d-4150-497c-b6e1-cce8f10758e6",
   "metadata": {},
   "outputs": [],
   "source": [
    "df_gb_langs = df_gb[df_gb[\"iso639P3code\"].isin(langs)]"
   ]
  },
  {
   "cell_type": "code",
   "execution_count": null,
   "id": "c32995fc-8efe-4378-9c1e-4ea248e42fd1",
   "metadata": {},
   "outputs": [],
   "source": [
    "df_gb_langs"
   ]
  },
  {
   "cell_type": "code",
   "execution_count": null,
   "id": "f028d65e-9262-4b49-8f1d-77ed5567b3d2",
   "metadata": {},
   "outputs": [],
   "source": [
    "\"deu\" in df_gb[\"iso639P3code\"].tolist()"
   ]
  },
  {
   "cell_type": "code",
   "execution_count": null,
   "id": "b21ff1e4-4eb4-41a8-9ebd-41c54ebfa569",
   "metadata": {},
   "outputs": [],
   "source": [
    "len(langs)"
   ]
  },
  {
   "cell_type": "code",
   "execution_count": null,
   "id": "bad89066-bab8-4db8-8c56-015c22d6e093",
   "metadata": {},
   "outputs": [],
   "source": [
    "langs"
   ]
  },
  {
   "cell_type": "code",
   "execution_count": null,
   "id": "f381285e-56fe-4475-b7ba-59b75d9ed0c7",
   "metadata": {},
   "outputs": [],
   "source": [
    "df_gb_langs.replace({-1:np.nan}, inplace=True)"
   ]
  },
  {
   "cell_type": "code",
   "execution_count": null,
   "id": "72b9b548-3810-4c93-a254-1bb1f63e7be9",
   "metadata": {
    "scrolled": true
   },
   "outputs": [],
   "source": [
    "len(df_gb_langs.dropna(axis=1).columns) # 93 features exist in all languages."
   ]
  },
  {
   "cell_type": "code",
   "execution_count": null,
   "id": "469cbd6c-7af0-44d9-b31a-413fa921e309",
   "metadata": {},
   "outputs": [],
   "source": [
    "df_gb_langs.dropna(axis=1).to_csv(\"../datasets/inversion_language_confusion/gb_features_nona.csv\", index=False)"
   ]
  },
  {
   "cell_type": "markdown",
   "id": "e6793032-48fd-4d0c-aab1-9d2ee4536d2b",
   "metadata": {},
   "source": [
    "### threshold 0.75 for languages coverage by features"
   ]
  },
  {
   "cell_type": "code",
   "execution_count": null,
   "id": "164491a9-a099-4a02-9da9-c65eabf69835",
   "metadata": {},
   "outputs": [],
   "source": [
    "gb_features = [x for x in df_gb.columns if x.startswith(\"GB\")]"
   ]
  },
  {
   "cell_type": "code",
   "execution_count": null,
   "id": "a6223041-ecfd-4e97-a701-f6e1dc919f7c",
   "metadata": {
    "scrolled": true
   },
   "outputs": [],
   "source": [
    "tot_feats= len(gb_features)\n",
    "print(f\"total features {tot_feats}\")\n",
    "perc = 0.75\n",
    "cols_gb=[]\n",
    "for col in gb_features:\n",
    "    no_data = df_gb_langs[col].to_list().count(-1)\n",
    "    if (tot_feats-no_data)>=(perc*tot_feats):\n",
    "        # print(col, no_data)\n",
    "        cols_gb.append(col)\n",
    "    "
   ]
  },
  {
   "cell_type": "code",
   "execution_count": null,
   "id": "8f125211-a6a5-4fa6-8caa-e9fc89475d71",
   "metadata": {},
   "outputs": [],
   "source": [
    "len(cols_gb)"
   ]
  },
  {
   "cell_type": "code",
   "execution_count": null,
   "id": "f8b05227-dc21-4e5d-9c36-56ddf7a382a2",
   "metadata": {},
   "outputs": [],
   "source": [
    "df_gb_langs"
   ]
  },
  {
   "cell_type": "code",
   "execution_count": null,
   "id": "64f6e7fc-bc4e-46fb-8dd2-1ccdf79adda1",
   "metadata": {},
   "outputs": [],
   "source": [
    "df_gb_langs.to_csv(\"../datasets/inversion_language_confusion/gb_features.csv\",index=False)"
   ]
  },
  {
   "cell_type": "markdown",
   "id": "2f4173ec-7313-47d0-b98a-e20c9550c615",
   "metadata": {},
   "source": [
    "# WALS features"
   ]
  },
  {
   "cell_type": "code",
   "execution_count": null,
   "id": "2bc7d61c-546d-49b9-a957-12bf3e551f6b",
   "metadata": {},
   "outputs": [],
   "source": [
    "df_wals[\"iso639P3code\"]=df_wals[\"Glottocode\"].map(glottocode2iso3)"
   ]
  },
  {
   "cell_type": "code",
   "execution_count": null,
   "id": "91328424-a0c8-4016-8e32-024b4ee9697d",
   "metadata": {},
   "outputs": [],
   "source": [
    "\"deu\" in df_wals[\"iso639P3code\"].tolist()"
   ]
  },
  {
   "cell_type": "code",
   "execution_count": null,
   "id": "aa0c12fb-19bd-4390-a61d-fa1fc0ab121e",
   "metadata": {
    "scrolled": true
   },
   "outputs": [],
   "source": [
    "df_wals[df_wals[\"iso639P3code\"]==\"deu\"]"
   ]
  },
  {
   "cell_type": "code",
   "execution_count": null,
   "id": "f0e42c60-c7e9-4909-ba00-4ea498817a21",
   "metadata": {},
   "outputs": [],
   "source": [
    "df_wals"
   ]
  },
  {
   "cell_type": "code",
   "execution_count": null,
   "id": "359694ca-5a77-425c-a539-6e3169299f43",
   "metadata": {},
   "outputs": [],
   "source": [
    "df_wals.index = df_wals[\"iso639P3code\"]"
   ]
  },
  {
   "cell_type": "code",
   "execution_count": null,
   "id": "07b2823f-6668-4f4c-84f3-8b199ee832b0",
   "metadata": {},
   "outputs": [],
   "source": [
    "df_wals=df_wals[df_wals[\"iso639P3code\"].isin(langs)]"
   ]
  },
  {
   "cell_type": "code",
   "execution_count": null,
   "id": "71169bb0-af43-46bc-b330-008037838c80",
   "metadata": {},
   "outputs": [],
   "source": [
    "df_wals"
   ]
  },
  {
   "cell_type": "code",
   "execution_count": null,
   "id": "4f270a21-6563-4b0d-941b-e7764e55a920",
   "metadata": {},
   "outputs": [],
   "source": [
    "features = df_wals.columns.tolist()"
   ]
  },
  {
   "cell_type": "code",
   "execution_count": null,
   "id": "e4bb084a-69b0-4d9c-b151-0a3a0e188b69",
   "metadata": {
    "scrolled": true
   },
   "outputs": [],
   "source": [
    "features.remove(\"Glottocode\")\n",
    "features.remove(\"iso639P3code\")"
   ]
  },
  {
   "cell_type": "code",
   "execution_count": null,
   "id": "76c68f8d-419d-4470-b35b-453b61d91fa9",
   "metadata": {},
   "outputs": [],
   "source": [
    "features"
   ]
  },
  {
   "cell_type": "code",
   "execution_count": null,
   "id": "82a5c7ed-ffb5-4a3e-bfb9-713920d88adf",
   "metadata": {
    "scrolled": true
   },
   "outputs": [],
   "source": [
    "tot_feats= len(features)\n",
    "print(f\"total features {tot_feats}\")\n",
    "perc = 0.25\n",
    "for i, row in df_wals.iterrows():\n",
    "    no_data = row[features].to_list().count(-1)\n",
    "    if (tot_feats-no_data)<(perc*tot_feats):\n",
    "        print(i, no_data)\n",
    "    else:\n",
    "        print(i, no_data)"
   ]
  },
  {
   "cell_type": "markdown",
   "id": "be77359c-7354-45cb-9b2f-37c40a6fead4",
   "metadata": {
    "execution": {
     "iopub.execute_input": "2024-09-23T21:48:05.395505Z",
     "iopub.status.busy": "2024-09-23T21:48:05.395020Z",
     "iopub.status.idle": "2024-09-23T21:48:05.400928Z",
     "shell.execute_reply": "2024-09-23T21:48:05.399470Z",
     "shell.execute_reply.started": "2024-09-23T21:48:05.395472Z"
    }
   },
   "source": [
    "# The features that are present in most of the relevant languages\n",
    "- threshold =0.75"
   ]
  },
  {
   "cell_type": "code",
   "execution_count": null,
   "id": "4a2af09d-e831-41ec-93a7-f568ead44147",
   "metadata": {},
   "outputs": [],
   "source": [
    "print(len(df_wals))\n",
    "langs_exist = len(df_wals)\n",
    "cols = []\n",
    "for col in features:\n",
    "    no_data = df_wals[col].to_list().count(-1)\n",
    "    if (langs_exist - no_data) >= (0.75*langs_exist):\n",
    "    \n",
    "        print(col, langs_exist - no_data)\n",
    "        cols.append(col)"
   ]
  },
  {
   "cell_type": "code",
   "execution_count": null,
   "id": "1cdd07f2-622b-4726-88a5-7fe23811f8fe",
   "metadata": {},
   "outputs": [],
   "source": [
    "df_wals[cols+[\"Glottocode\"]].to_csv(\"../datasets/inversion_language_confusion/wals_features.csv\")"
   ]
  },
  {
   "cell_type": "code",
   "execution_count": null,
   "id": "4985c76c-0a1f-48d5-bb92-7b600c7c086d",
   "metadata": {},
   "outputs": [],
   "source": []
  },
  {
   "cell_type": "code",
   "execution_count": null,
   "id": "5b13ca08-04d6-4ce3-a93a-0e174bc8013a",
   "metadata": {},
   "outputs": [],
   "source": [
    "df_wals[cols].to_csv(\"../datasets/inversion_language_confusion/wals_features.csv\")"
   ]
  },
  {
   "cell_type": "code",
   "execution_count": null,
   "id": "5c70863b-d5dc-4f29-a031-b43f19a06742",
   "metadata": {},
   "outputs": [],
   "source": [
    "df_wals_cols = df_wals[cols]"
   ]
  },
  {
   "cell_type": "code",
   "execution_count": null,
   "id": "86e1e0cb-e6cd-45f0-a927-df2ca3487c22",
   "metadata": {},
   "outputs": [],
   "source": [
    "df_wals_cols = df_wals_cols.drop(columns=[\"Family\", \"Genus\"])"
   ]
  },
  {
   "cell_type": "code",
   "execution_count": null,
   "id": "f670039d-211a-481e-89db-430758ac7c5c",
   "metadata": {
    "scrolled": true
   },
   "outputs": [],
   "source": [
    "df = df_wals_cols.T"
   ]
  },
  {
   "cell_type": "code",
   "execution_count": null,
   "id": "2ba0ff4d-d2fc-4537-8ab3-aa6428ac8f0b",
   "metadata": {},
   "outputs": [],
   "source": [
    "df "
   ]
  },
  {
   "cell_type": "code",
   "execution_count": null,
   "id": "23ba1109-e2c3-44a2-b1cb-c49857a3372c",
   "metadata": {},
   "outputs": [],
   "source": [
    "plt.figure(figsize=(20, 6))\n",
    "cmap = sns.diverging_palette(230, 20, as_cmap=True)\n",
    "sns.heatmap(df.T, \n",
    "            cmap=cmap, \n",
    "            center=0,\n",
    "            annot=True,\n",
    "            fmt='.2f',\n",
    "            cbar_kws={'label': 'Standardized Feature Value'})\n",
    "\n",
    "# Customize the plot\n",
    "plt.xlabel('Feature Index')\n",
    "plt.ylabel('Language')\n",
    "plt.title('Language Feature Heatmap', fontsize=16)\n",
    "plt.tight_layout()\n",
    "\n",
    "# Show the plot\n",
    "plt.show()\n",
    "\n",
    "# Print feature statistics\n",
    "print(\"\\nFeature Statistics:\")\n",
    "print(df.T.describe().T[['mean', 'std', 'min', 'max']])"
   ]
  },
  {
   "cell_type": "markdown",
   "id": "f4e81baf-6b10-4f4d-a65b-b6649d7e7072",
   "metadata": {},
   "source": [
    "# Clustering languages based on WALS features"
   ]
  },
  {
   "cell_type": "code",
   "execution_count": null,
   "id": "62f49de0-ef02-4063-9c36-8db56bd1d881",
   "metadata": {},
   "outputs": [],
   "source": [
    "df_wals.index= df_wals[\"iso639P3code\"]"
   ]
  },
  {
   "cell_type": "code",
   "execution_count": null,
   "id": "ba4813c5-a2ff-413c-861a-7567bb25bf83",
   "metadata": {},
   "outputs": [],
   "source": [
    "from sklearn.preprocessing import StandardScaler\n",
    "from sklearn.cluster import KMeans\n",
    "from sklearn.decomposition import PCA\n",
    "\n",
    "n_clusters = 3  # You can adjust this number\n",
    "kmeans = KMeans(n_clusters=n_clusters, random_state=42)\n",
    "clusters = kmeans.fit_predict(df.T)\n",
    "\n",
    "# Perform PCA for visualization\n",
    "pca = PCA(n_components=2)\n",
    "pca_result = pca.fit_transform(df.T)\n",
    "\n",
    "# Create a DataFrame with PCA results\n",
    "pca_df = pd.DataFrame(data=pca_result, columns=['PC1', 'PC2'], index=df.T.index)\n",
    "pca_df['Cluster'] = clusters\n",
    "\n",
    "# Visualize the clusters\n",
    "plt.figure(figsize=(10, 8))\n",
    "scatter = plt.scatter(pca_df['PC1'], pca_df['PC2'], c=pca_df['Cluster'], cmap='viridis')\n",
    "plt.title('Language Clusters based on Feature Vectors')\n",
    "plt.xlabel('Principal Component 1')\n",
    "plt.ylabel('Principal Component 2')\n",
    "\n",
    "# Add language labels to the points\n",
    "for i, txt in enumerate(pca_df.index):\n",
    "    plt.annotate(txt, (pca_df['PC1'][i], pca_df['PC2'][i]), xytext=(5, 5), textcoords='offset points')\n",
    "\n",
    "plt.colorbar(scatter, label='Cluster')\n",
    "plt.tight_layout()\n",
    "plt.show()\n",
    "\n",
    "# Print cluster assignments\n",
    "print(\"\\nCluster Assignments:\")\n",
    "for lang, cluster in zip(df.T.index, clusters):\n",
    "    print(f\"{lang}: Cluster {cluster}\")\n",
    "\n",
    "# Print feature importance\n",
    "print(\"\\nFeature Importance (based on KMeans cluster centers):\")\n",
    "feature_importance = pd.DataFrame(kmeans.cluster_centers_.T, index=df.T.columns, columns=[f'Cluster {i}' for i in range(n_clusters)])\n",
    "print(feature_importance)\n"
   ]
  },
  {
   "cell_type": "markdown",
   "id": "e4ebef90-3ce3-4c72-83a4-65e740008abc",
   "metadata": {},
   "source": [
    "# Clustering Languages based on their Grambank features"
   ]
  },
  {
   "cell_type": "code",
   "execution_count": null,
   "id": "3dbe8574-f74c-461f-a400-76ba838099e2",
   "metadata": {},
   "outputs": [],
   "source": [
    "df_gb_langs.index=df_gb_langs[\"iso639P3code\"]"
   ]
  },
  {
   "cell_type": "code",
   "execution_count": null,
   "id": "7190f70b-b48a-4b54-b15c-ed2c6bcb9dc6",
   "metadata": {},
   "outputs": [],
   "source": [
    "df_gb_langs = df_gb_langs.drop(columns=[\"iso639P3code\", \"Lang_ID\"])"
   ]
  },
  {
   "cell_type": "code",
   "execution_count": null,
   "id": "e8d65c9d-a95b-475f-9ee0-83491c957998",
   "metadata": {},
   "outputs": [],
   "source": [
    "len(df_gb_langs)"
   ]
  },
  {
   "cell_type": "code",
   "execution_count": null,
   "id": "49d5ed06-fa55-49bb-8f4b-427766077942",
   "metadata": {},
   "outputs": [],
   "source": [
    "from sklearn.preprocessing import StandardScaler\n",
    "from sklearn.cluster import KMeans\n",
    "from sklearn.decomposition import PCA\n",
    "\n",
    "n_clusters = 6  # You can adjust this number\n",
    "kmeans = KMeans(n_clusters=n_clusters, random_state=42)\n",
    "clusters = kmeans.fit_predict(df_gb_langs)\n",
    "\n",
    "# Perform PCA for visualization\n",
    "pca = PCA(n_components=2)\n",
    "pca_result = pca.fit_transform(df_gb_langs)\n",
    "\n",
    "# Create a DataFrame with PCA results\n",
    "pca_df = pd.DataFrame(data=pca_result, columns=['PC1', 'PC2'], index=df_gb_langs.index)\n",
    "pca_df['Cluster'] = clusters\n",
    "\n",
    "# Visualize the clusters\n",
    "plt.figure(figsize=(10, 8))\n",
    "scatter = plt.scatter(pca_df['PC1'], pca_df['PC2'], c=pca_df['Cluster'], cmap='viridis')\n",
    "plt.title('Language Clusters based on Feature Vectors')\n",
    "plt.xlabel('Principal Component 1')\n",
    "plt.ylabel('Principal Component 2')\n",
    "\n",
    "# Add language labels to the points\n",
    "for i, txt in enumerate(pca_df.index):\n",
    "    plt.annotate(txt, (pca_df['PC1'][i], pca_df['PC2'][i]), xytext=(5, 5), textcoords='offset points')\n",
    "\n",
    "plt.colorbar(scatter, label='Cluster')\n",
    "plt.tight_layout()\n",
    "plt.show()\n",
    "\n",
    "# Print cluster assignments\n",
    "print(\"\\nCluster Assignments:\")\n",
    "for lang, cluster in zip(df_gb_langs.index, clusters):\n",
    "    print(f\"{lang}: Cluster {cluster}\")\n",
    "\n",
    "# Print feature importance\n",
    "print(\"\\nFeature Importance (based on KMeans cluster centers):\")\n",
    "feature_importance = pd.DataFrame(kmeans.cluster_centers_.T, index=df_gb_langs.columns, columns=[f'Cluster {i}' for i in range(n_clusters)])\n",
    "print(feature_importance)\n"
   ]
  },
  {
   "cell_type": "code",
   "execution_count": null,
   "id": "0fbcd7e0-bb6b-4cea-a357-cc725046e3af",
   "metadata": {},
   "outputs": [],
   "source": []
  }
 ],
 "metadata": {
  "kernelspec": {
   "display_name": "envlc",
   "language": "python",
   "name": "envlc"
  },
  "language_info": {
   "codemirror_mode": {
    "name": "ipython",
    "version": 3
   },
   "file_extension": ".py",
   "mimetype": "text/x-python",
   "name": "python",
   "nbconvert_exporter": "python",
   "pygments_lexer": "ipython3",
   "version": "3.12.0"
  }
 },
 "nbformat": 4,
 "nbformat_minor": 5
}
