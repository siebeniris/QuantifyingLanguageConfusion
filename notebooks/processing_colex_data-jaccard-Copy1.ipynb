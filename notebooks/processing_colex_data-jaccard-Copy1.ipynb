{
 "cells": [
  {
   "cell_type": "code",
   "execution_count": 5,
   "id": "1aa87ca0-e7e9-41d3-b55c-e2b9b3e72726",
   "metadata": {
    "execution": {
     "iopub.execute_input": "2024-10-16T04:14:58.182223Z",
     "iopub.status.busy": "2024-10-16T04:14:58.181685Z",
     "iopub.status.idle": "2024-10-16T04:14:58.201104Z",
     "shell.execute_reply": "2024-10-16T04:14:58.192959Z",
     "shell.execute_reply.started": "2024-10-16T04:14:58.182190Z"
    }
   },
   "outputs": [],
   "source": [
    "import pandas as pd\n",
    "from itertools import combinations\n",
    "from collections import defaultdict, Counter\n",
    "import json\n",
    "import numpy as np\n",
    "import matplotlib.pyplot as plt\n",
    "import seaborn as sns\n",
    "from sklearn.metrics import pairwise_distances\n",
    "from scipy.sparse import csr_matrix\n",
    "\n",
    "%matplotlib inline"
   ]
  },
  {
   "cell_type": "code",
   "execution_count": 6,
   "id": "9221d656-8ab8-4a93-8bb7-6f42f001324a",
   "metadata": {
    "execution": {
     "iopub.execute_input": "2024-10-16T04:14:59.041329Z",
     "iopub.status.busy": "2024-10-16T04:14:59.040490Z",
     "iopub.status.idle": "2024-10-16T04:14:59.251141Z",
     "shell.execute_reply": "2024-10-16T04:14:59.248313Z",
     "shell.execute_reply.started": "2024-10-16T04:14:59.041295Z"
    }
   },
   "outputs": [],
   "source": [
    "df_lang = pd.read_csv(\"../datasets/languages/languoid.csv\")\n",
    "id2iso = dict(zip(df_lang[\"id\"], df_lang[\"iso639P3code\"]))\n"
   ]
  },
  {
   "cell_type": "markdown",
   "id": "8a276c63-486d-40d6-9e84-c6d410ee889a",
   "metadata": {},
   "source": [
    "# Lang2lang matrix"
   ]
  },
  {
   "cell_type": "code",
   "execution_count": 84,
   "id": "101e8b78-de36-4ac5-aa46-e24976be9f3c",
   "metadata": {
    "execution": {
     "iopub.execute_input": "2024-10-09T12:48:01.314576Z",
     "iopub.status.busy": "2024-10-09T12:48:01.311123Z",
     "iopub.status.idle": "2024-10-09T12:48:02.653099Z",
     "shell.execute_reply": "2024-10-09T12:48:02.646190Z",
     "shell.execute_reply.started": "2024-10-09T12:48:01.314522Z"
    }
   },
   "outputs": [],
   "source": [
    "df_clics  = pd.read_csv(\"../datasets/lang2lang/clics3_pmi.csv\")"
   ]
  },
  {
   "cell_type": "code",
   "execution_count": 85,
   "id": "a0412708-090f-419f-9d77-afafe1a63999",
   "metadata": {
    "execution": {
     "iopub.execute_input": "2024-10-09T12:48:07.394947Z",
     "iopub.status.busy": "2024-10-09T12:48:07.393414Z",
     "iopub.status.idle": "2024-10-09T12:48:07.738321Z",
     "shell.execute_reply": "2024-10-09T12:48:07.734356Z",
     "shell.execute_reply.started": "2024-10-09T12:48:07.394868Z"
    }
   },
   "outputs": [],
   "source": [
    "df_clics[\"Target\"]=df_clics[\"Target\"].map(id2iso)\n",
    "df_clics[\"Source\"]=df_clics[\"Source\"].map(id2iso)"
   ]
  },
  {
   "cell_type": "code",
   "execution_count": 75,
   "id": "49c9bf55-83fc-4483-9234-c214b356968e",
   "metadata": {
    "execution": {
     "iopub.execute_input": "2024-10-09T12:43:39.279907Z",
     "iopub.status.busy": "2024-10-09T12:43:39.246472Z",
     "iopub.status.idle": "2024-10-09T12:43:56.141478Z",
     "shell.execute_reply": "2024-10-09T12:43:56.139248Z",
     "shell.execute_reply.started": "2024-10-09T12:43:39.277582Z"
    }
   },
   "outputs": [],
   "source": [
    "# df_clics.to_csv(\"../datasets/data_for_graph/clics3.csv\",index=False)"
   ]
  },
  {
   "cell_type": "code",
   "execution_count": 86,
   "id": "a3eecbe7-5d9b-40b1-b338-f9076f34786e",
   "metadata": {
    "execution": {
     "iopub.execute_input": "2024-10-09T12:48:10.244725Z",
     "iopub.status.busy": "2024-10-09T12:48:10.240206Z",
     "iopub.status.idle": "2024-10-09T12:48:10.290127Z",
     "shell.execute_reply": "2024-10-09T12:48:10.286590Z",
     "shell.execute_reply.started": "2024-10-09T12:48:10.243775Z"
    }
   },
   "outputs": [
    {
     "data": {
      "text/plain": [
       "(0.0, 1.0)"
      ]
     },
     "execution_count": 86,
     "metadata": {},
     "output_type": "execute_result"
    }
   ],
   "source": [
    "df_clics[\"pmi_norm\"].min(), df_clics[\"pmi_norm\"].max()"
   ]
  },
  {
   "cell_type": "code",
   "execution_count": 88,
   "id": "0d6874dd-8662-41c3-9db2-9176a3dfb2e2",
   "metadata": {
    "execution": {
     "iopub.execute_input": "2024-10-09T12:48:25.362283Z",
     "iopub.status.busy": "2024-10-09T12:48:25.356951Z",
     "iopub.status.idle": "2024-10-09T12:48:25.623135Z",
     "shell.execute_reply": "2024-10-09T12:48:25.619598Z",
     "shell.execute_reply.started": "2024-10-09T12:48:25.361508Z"
    }
   },
   "outputs": [],
   "source": [
    "df_clics = df_clics.dropna(subset=[\"Target\", \"Source\"])"
   ]
  },
  {
   "cell_type": "code",
   "execution_count": 91,
   "id": "78272ab6-8b8c-4560-b398-c60dbe56ed8f",
   "metadata": {
    "execution": {
     "iopub.execute_input": "2024-10-09T12:49:04.396602Z",
     "iopub.status.busy": "2024-10-09T12:49:04.393851Z",
     "iopub.status.idle": "2024-10-09T12:49:04.492002Z",
     "shell.execute_reply": "2024-10-09T12:49:04.475039Z",
     "shell.execute_reply.started": "2024-10-09T12:49:04.396583Z"
    }
   },
   "outputs": [
    {
     "data": {
      "text/html": [
       "<div>\n",
       "<style scoped>\n",
       "    .dataframe tbody tr th:only-of-type {\n",
       "        vertical-align: middle;\n",
       "    }\n",
       "\n",
       "    .dataframe tbody tr th {\n",
       "        vertical-align: top;\n",
       "    }\n",
       "\n",
       "    .dataframe thead th {\n",
       "        text-align: right;\n",
       "    }\n",
       "</style>\n",
       "<table border=\"1\" class=\"dataframe\">\n",
       "  <thead>\n",
       "    <tr style=\"text-align: right;\">\n",
       "      <th></th>\n",
       "      <th>Target</th>\n",
       "      <th>Source</th>\n",
       "      <th>pmi_norm</th>\n",
       "    </tr>\n",
       "  </thead>\n",
       "  <tbody>\n",
       "    <tr>\n",
       "      <th>92</th>\n",
       "      <td>goh</td>\n",
       "      <td>mri</td>\n",
       "      <td>0.403282</td>\n",
       "    </tr>\n",
       "    <tr>\n",
       "      <th>93</th>\n",
       "      <td>goh</td>\n",
       "      <td>yad</td>\n",
       "      <td>0.418468</td>\n",
       "    </tr>\n",
       "    <tr>\n",
       "      <th>94</th>\n",
       "      <td>goh</td>\n",
       "      <td>pnb</td>\n",
       "      <td>0.417288</td>\n",
       "    </tr>\n",
       "    <tr>\n",
       "      <th>95</th>\n",
       "      <td>goh</td>\n",
       "      <td>tam</td>\n",
       "      <td>0.395338</td>\n",
       "    </tr>\n",
       "    <tr>\n",
       "      <th>96</th>\n",
       "      <td>goh</td>\n",
       "      <td>kya</td>\n",
       "      <td>0.382396</td>\n",
       "    </tr>\n",
       "    <tr>\n",
       "      <th>...</th>\n",
       "      <td>...</td>\n",
       "      <td>...</td>\n",
       "      <td>...</td>\n",
       "    </tr>\n",
       "    <tr>\n",
       "      <th>457572</th>\n",
       "      <td>eng</td>\n",
       "      <td>nio</td>\n",
       "      <td>0.307693</td>\n",
       "    </tr>\n",
       "    <tr>\n",
       "      <th>457573</th>\n",
       "      <td>nor</td>\n",
       "      <td>rus</td>\n",
       "      <td>0.395022</td>\n",
       "    </tr>\n",
       "    <tr>\n",
       "      <th>457574</th>\n",
       "      <td>bhw</td>\n",
       "      <td>lmf</td>\n",
       "      <td>0.557536</td>\n",
       "    </tr>\n",
       "    <tr>\n",
       "      <th>457579</th>\n",
       "      <td>nbc</td>\n",
       "      <td>kbx</td>\n",
       "      <td>0.671518</td>\n",
       "    </tr>\n",
       "    <tr>\n",
       "      <th>457580</th>\n",
       "      <td>nbc</td>\n",
       "      <td>gaf</td>\n",
       "      <td>0.600286</td>\n",
       "    </tr>\n",
       "  </tbody>\n",
       "</table>\n",
       "<p>308113 rows × 3 columns</p>\n",
       "</div>"
      ],
      "text/plain": [
       "       Target Source  pmi_norm\n",
       "92        goh    mri  0.403282\n",
       "93        goh    yad  0.418468\n",
       "94        goh    pnb  0.417288\n",
       "95        goh    tam  0.395338\n",
       "96        goh    kya  0.382396\n",
       "...       ...    ...       ...\n",
       "457572    eng    nio  0.307693\n",
       "457573    nor    rus  0.395022\n",
       "457574    bhw    lmf  0.557536\n",
       "457579    nbc    kbx  0.671518\n",
       "457580    nbc    gaf  0.600286\n",
       "\n",
       "[308113 rows x 3 columns]"
      ]
     },
     "execution_count": 91,
     "metadata": {},
     "output_type": "execute_result"
    }
   ],
   "source": [
    "df_clics[[\"Target\", \"Source\", \"pmi_norm\"]]"
   ]
  },
  {
   "cell_type": "code",
   "execution_count": 89,
   "id": "040ccc64-9ecb-4ea6-a2b6-8d84d9336e04",
   "metadata": {
    "execution": {
     "iopub.execute_input": "2024-10-09T12:48:26.669622Z",
     "iopub.status.busy": "2024-10-09T12:48:26.662186Z",
     "iopub.status.idle": "2024-10-09T12:48:27.128630Z",
     "shell.execute_reply": "2024-10-09T12:48:27.118858Z",
     "shell.execute_reply.started": "2024-10-09T12:48:26.669586Z"
    }
   },
   "outputs": [
    {
     "data": {
      "image/png": "[encoded data removed]",
      "text/plain": [
       "<Figure size 200x200 with 1 Axes>"
      ]
     },
     "metadata": {},
     "output_type": "display_data"
    }
   ],
   "source": [
    "plt.figure(figsize=(2, 2))\n",
    "plt.hist(df_clics['pmi_norm'], bins=5, edgecolor='black', alpha=0.7)\n",
    "plt.title('Histogram of Column CLICS PMI')\n",
    "plt.xlabel('Value')\n",
    "plt.ylabel('Frequency')\n",
    "plt.grid(True)\n",
    "plt.show()"
   ]
  },
  {
   "cell_type": "code",
   "execution_count": 93,
   "id": "584993d6-cb93-4eda-9207-21506b24616e",
   "metadata": {
    "execution": {
     "iopub.execute_input": "2024-10-09T12:52:22.820104Z",
     "iopub.status.busy": "2024-10-09T12:52:22.819256Z",
     "iopub.status.idle": "2024-10-09T12:52:23.667274Z",
     "shell.execute_reply": "2024-10-09T12:52:23.664132Z",
     "shell.execute_reply.started": "2024-10-09T12:52:22.820064Z"
    }
   },
   "outputs": [],
   "source": [
    "pmi_matrix_expanded = df_clics.pivot(index='Target', columns='Source', values='pmi_norm')\n",
    "\n",
    "# Ensure that the resulting DataFrame is symmetric\n",
    "# Create a complete list of unique languages from the 'Target' and 'Source'\n",
    "languages = sorted(set(df_clics['Target']).union(set(df_clics['Source'])))\n",
    "\n",
    "# Reindex the DataFrame to ensure symmetry, filling missing values with NaN\n",
    "pmi_matrix_symmetric = pmi_matrix_expanded.reindex(index=languages, columns=languages)"
   ]
  },
  {
   "cell_type": "code",
   "execution_count": 94,
   "id": "f6f79b03-0c34-4ab9-b8b7-8012749a694d",
   "metadata": {
    "execution": {
     "iopub.execute_input": "2024-10-09T12:52:25.916200Z",
     "iopub.status.busy": "2024-10-09T12:52:25.913891Z",
     "iopub.status.idle": "2024-10-09T12:52:26.016063Z",
     "shell.execute_reply": "2024-10-09T12:52:26.008696Z",
     "shell.execute_reply.started": "2024-10-09T12:52:25.916150Z"
    }
   },
   "outputs": [
    {
     "data": {
      "text/html": [
       "<div>\n",
       "<style scoped>\n",
       "    .dataframe tbody tr th:only-of-type {\n",
       "        vertical-align: middle;\n",
       "    }\n",
       "\n",
       "    .dataframe tbody tr th {\n",
       "        vertical-align: top;\n",
       "    }\n",
       "\n",
       "    .dataframe thead th {\n",
       "        text-align: right;\n",
       "    }\n",
       "</style>\n",
       "<table border=\"1\" class=\"dataframe\">\n",
       "  <thead>\n",
       "    <tr style=\"text-align: right;\">\n",
       "      <th>Source</th>\n",
       "      <th>aac</th>\n",
       "      <th>aax</th>\n",
       "      <th>abk</th>\n",
       "      <th>abq</th>\n",
       "      <th>abw</th>\n",
       "      <th>abz</th>\n",
       "      <th>aca</th>\n",
       "      <th>acn</th>\n",
       "      <th>adg</th>\n",
       "      <th>adn</th>\n",
       "      <th>...</th>\n",
       "      <th>zin</th>\n",
       "      <th>ziz</th>\n",
       "      <th>zka</th>\n",
       "      <th>zku</th>\n",
       "      <th>zmc</th>\n",
       "      <th>zmu</th>\n",
       "      <th>zng</th>\n",
       "      <th>zuh</th>\n",
       "      <th>zun</th>\n",
       "      <th>zzj</th>\n",
       "    </tr>\n",
       "    <tr>\n",
       "      <th>Target</th>\n",
       "      <th></th>\n",
       "      <th></th>\n",
       "      <th></th>\n",
       "      <th></th>\n",
       "      <th></th>\n",
       "      <th></th>\n",
       "      <th></th>\n",
       "      <th></th>\n",
       "      <th></th>\n",
       "      <th></th>\n",
       "      <th></th>\n",
       "      <th></th>\n",
       "      <th></th>\n",
       "      <th></th>\n",
       "      <th></th>\n",
       "      <th></th>\n",
       "      <th></th>\n",
       "      <th></th>\n",
       "      <th></th>\n",
       "      <th></th>\n",
       "      <th></th>\n",
       "    </tr>\n",
       "  </thead>\n",
       "  <tbody>\n",
       "    <tr>\n",
       "      <th>aac</th>\n",
       "      <td>NaN</td>\n",
       "      <td>NaN</td>\n",
       "      <td>NaN</td>\n",
       "      <td>NaN</td>\n",
       "      <td>NaN</td>\n",
       "      <td>NaN</td>\n",
       "      <td>NaN</td>\n",
       "      <td>NaN</td>\n",
       "      <td>NaN</td>\n",
       "      <td>NaN</td>\n",
       "      <td>...</td>\n",
       "      <td>NaN</td>\n",
       "      <td>NaN</td>\n",
       "      <td>NaN</td>\n",
       "      <td>NaN</td>\n",
       "      <td>NaN</td>\n",
       "      <td>NaN</td>\n",
       "      <td>NaN</td>\n",
       "      <td>NaN</td>\n",
       "      <td>NaN</td>\n",
       "      <td>NaN</td>\n",
       "    </tr>\n",
       "    <tr>\n",
       "      <th>aax</th>\n",
       "      <td>NaN</td>\n",
       "      <td>NaN</td>\n",
       "      <td>NaN</td>\n",
       "      <td>NaN</td>\n",
       "      <td>NaN</td>\n",
       "      <td>NaN</td>\n",
       "      <td>NaN</td>\n",
       "      <td>NaN</td>\n",
       "      <td>NaN</td>\n",
       "      <td>NaN</td>\n",
       "      <td>...</td>\n",
       "      <td>NaN</td>\n",
       "      <td>NaN</td>\n",
       "      <td>NaN</td>\n",
       "      <td>NaN</td>\n",
       "      <td>NaN</td>\n",
       "      <td>NaN</td>\n",
       "      <td>NaN</td>\n",
       "      <td>NaN</td>\n",
       "      <td>NaN</td>\n",
       "      <td>NaN</td>\n",
       "    </tr>\n",
       "    <tr>\n",
       "      <th>abk</th>\n",
       "      <td>NaN</td>\n",
       "      <td>0.493223</td>\n",
       "      <td>NaN</td>\n",
       "      <td>NaN</td>\n",
       "      <td>NaN</td>\n",
       "      <td>0.332257</td>\n",
       "      <td>NaN</td>\n",
       "      <td>0.478912</td>\n",
       "      <td>NaN</td>\n",
       "      <td>NaN</td>\n",
       "      <td>...</td>\n",
       "      <td>0.537977</td>\n",
       "      <td>NaN</td>\n",
       "      <td>0.570967</td>\n",
       "      <td>NaN</td>\n",
       "      <td>NaN</td>\n",
       "      <td>NaN</td>\n",
       "      <td>NaN</td>\n",
       "      <td>NaN</td>\n",
       "      <td>NaN</td>\n",
       "      <td>NaN</td>\n",
       "    </tr>\n",
       "    <tr>\n",
       "      <th>abq</th>\n",
       "      <td>NaN</td>\n",
       "      <td>NaN</td>\n",
       "      <td>NaN</td>\n",
       "      <td>NaN</td>\n",
       "      <td>NaN</td>\n",
       "      <td>NaN</td>\n",
       "      <td>NaN</td>\n",
       "      <td>NaN</td>\n",
       "      <td>NaN</td>\n",
       "      <td>NaN</td>\n",
       "      <td>...</td>\n",
       "      <td>NaN</td>\n",
       "      <td>NaN</td>\n",
       "      <td>NaN</td>\n",
       "      <td>NaN</td>\n",
       "      <td>NaN</td>\n",
       "      <td>NaN</td>\n",
       "      <td>NaN</td>\n",
       "      <td>NaN</td>\n",
       "      <td>NaN</td>\n",
       "      <td>NaN</td>\n",
       "    </tr>\n",
       "    <tr>\n",
       "      <th>abw</th>\n",
       "      <td>NaN</td>\n",
       "      <td>NaN</td>\n",
       "      <td>NaN</td>\n",
       "      <td>NaN</td>\n",
       "      <td>NaN</td>\n",
       "      <td>NaN</td>\n",
       "      <td>NaN</td>\n",
       "      <td>NaN</td>\n",
       "      <td>NaN</td>\n",
       "      <td>NaN</td>\n",
       "      <td>...</td>\n",
       "      <td>NaN</td>\n",
       "      <td>NaN</td>\n",
       "      <td>NaN</td>\n",
       "      <td>NaN</td>\n",
       "      <td>NaN</td>\n",
       "      <td>NaN</td>\n",
       "      <td>NaN</td>\n",
       "      <td>NaN</td>\n",
       "      <td>NaN</td>\n",
       "      <td>NaN</td>\n",
       "    </tr>\n",
       "    <tr>\n",
       "      <th>...</th>\n",
       "      <td>...</td>\n",
       "      <td>...</td>\n",
       "      <td>...</td>\n",
       "      <td>...</td>\n",
       "      <td>...</td>\n",
       "      <td>...</td>\n",
       "      <td>...</td>\n",
       "      <td>...</td>\n",
       "      <td>...</td>\n",
       "      <td>...</td>\n",
       "      <td>...</td>\n",
       "      <td>...</td>\n",
       "      <td>...</td>\n",
       "      <td>...</td>\n",
       "      <td>...</td>\n",
       "      <td>...</td>\n",
       "      <td>...</td>\n",
       "      <td>...</td>\n",
       "      <td>...</td>\n",
       "      <td>...</td>\n",
       "      <td>...</td>\n",
       "    </tr>\n",
       "    <tr>\n",
       "      <th>zmu</th>\n",
       "      <td>NaN</td>\n",
       "      <td>NaN</td>\n",
       "      <td>0.570967</td>\n",
       "      <td>NaN</td>\n",
       "      <td>NaN</td>\n",
       "      <td>NaN</td>\n",
       "      <td>NaN</td>\n",
       "      <td>NaN</td>\n",
       "      <td>NaN</td>\n",
       "      <td>NaN</td>\n",
       "      <td>...</td>\n",
       "      <td>NaN</td>\n",
       "      <td>NaN</td>\n",
       "      <td>NaN</td>\n",
       "      <td>NaN</td>\n",
       "      <td>NaN</td>\n",
       "      <td>NaN</td>\n",
       "      <td>NaN</td>\n",
       "      <td>NaN</td>\n",
       "      <td>0.57748</td>\n",
       "      <td>0.551844</td>\n",
       "    </tr>\n",
       "    <tr>\n",
       "      <th>zng</th>\n",
       "      <td>0.617550</td>\n",
       "      <td>NaN</td>\n",
       "      <td>0.319467</td>\n",
       "      <td>NaN</td>\n",
       "      <td>NaN</td>\n",
       "      <td>0.426664</td>\n",
       "      <td>NaN</td>\n",
       "      <td>0.483931</td>\n",
       "      <td>NaN</td>\n",
       "      <td>0.463192</td>\n",
       "      <td>...</td>\n",
       "      <td>0.486599</td>\n",
       "      <td>NaN</td>\n",
       "      <td>0.575987</td>\n",
       "      <td>NaN</td>\n",
       "      <td>NaN</td>\n",
       "      <td>NaN</td>\n",
       "      <td>NaN</td>\n",
       "      <td>NaN</td>\n",
       "      <td>NaN</td>\n",
       "      <td>NaN</td>\n",
       "    </tr>\n",
       "    <tr>\n",
       "      <th>zuh</th>\n",
       "      <td>NaN</td>\n",
       "      <td>NaN</td>\n",
       "      <td>NaN</td>\n",
       "      <td>NaN</td>\n",
       "      <td>NaN</td>\n",
       "      <td>NaN</td>\n",
       "      <td>NaN</td>\n",
       "      <td>NaN</td>\n",
       "      <td>NaN</td>\n",
       "      <td>NaN</td>\n",
       "      <td>...</td>\n",
       "      <td>NaN</td>\n",
       "      <td>NaN</td>\n",
       "      <td>NaN</td>\n",
       "      <td>NaN</td>\n",
       "      <td>NaN</td>\n",
       "      <td>NaN</td>\n",
       "      <td>NaN</td>\n",
       "      <td>NaN</td>\n",
       "      <td>NaN</td>\n",
       "      <td>NaN</td>\n",
       "    </tr>\n",
       "    <tr>\n",
       "      <th>zun</th>\n",
       "      <td>NaN</td>\n",
       "      <td>NaN</td>\n",
       "      <td>0.320960</td>\n",
       "      <td>NaN</td>\n",
       "      <td>NaN</td>\n",
       "      <td>0.338769</td>\n",
       "      <td>NaN</td>\n",
       "      <td>0.429027</td>\n",
       "      <td>NaN</td>\n",
       "      <td>0.375298</td>\n",
       "      <td>...</td>\n",
       "      <td>NaN</td>\n",
       "      <td>NaN</td>\n",
       "      <td>NaN</td>\n",
       "      <td>NaN</td>\n",
       "      <td>NaN</td>\n",
       "      <td>NaN</td>\n",
       "      <td>0.495172</td>\n",
       "      <td>NaN</td>\n",
       "      <td>NaN</td>\n",
       "      <td>0.510531</td>\n",
       "    </tr>\n",
       "    <tr>\n",
       "      <th>zzj</th>\n",
       "      <td>0.593406</td>\n",
       "      <td>NaN</td>\n",
       "      <td>0.408119</td>\n",
       "      <td>NaN</td>\n",
       "      <td>NaN</td>\n",
       "      <td>0.458918</td>\n",
       "      <td>NaN</td>\n",
       "      <td>0.534341</td>\n",
       "      <td>NaN</td>\n",
       "      <td>0.480612</td>\n",
       "      <td>...</td>\n",
       "      <td>NaN</td>\n",
       "      <td>NaN</td>\n",
       "      <td>0.551844</td>\n",
       "      <td>NaN</td>\n",
       "      <td>NaN</td>\n",
       "      <td>NaN</td>\n",
       "      <td>0.562245</td>\n",
       "      <td>NaN</td>\n",
       "      <td>NaN</td>\n",
       "      <td>NaN</td>\n",
       "    </tr>\n",
       "  </tbody>\n",
       "</table>\n",
       "<p>1296 rows × 1296 columns</p>\n",
       "</div>"
      ],
      "text/plain": [
       "Source       aac       aax       abk  abq  abw       abz  aca       acn  adg  \\\n",
       "Target                                                                         \n",
       "aac          NaN       NaN       NaN  NaN  NaN       NaN  NaN       NaN  NaN   \n",
       "aax          NaN       NaN       NaN  NaN  NaN       NaN  NaN       NaN  NaN   \n",
       "abk          NaN  0.493223       NaN  NaN  NaN  0.332257  NaN  0.478912  NaN   \n",
       "abq          NaN       NaN       NaN  NaN  NaN       NaN  NaN       NaN  NaN   \n",
       "abw          NaN       NaN       NaN  NaN  NaN       NaN  NaN       NaN  NaN   \n",
       "...          ...       ...       ...  ...  ...       ...  ...       ...  ...   \n",
       "zmu          NaN       NaN  0.570967  NaN  NaN       NaN  NaN       NaN  NaN   \n",
       "zng     0.617550       NaN  0.319467  NaN  NaN  0.426664  NaN  0.483931  NaN   \n",
       "zuh          NaN       NaN       NaN  NaN  NaN       NaN  NaN       NaN  NaN   \n",
       "zun          NaN       NaN  0.320960  NaN  NaN  0.338769  NaN  0.429027  NaN   \n",
       "zzj     0.593406       NaN  0.408119  NaN  NaN  0.458918  NaN  0.534341  NaN   \n",
       "\n",
       "Source       adn  ...       zin  ziz       zka  zku  zmc  zmu       zng  zuh  \\\n",
       "Target            ...                                                          \n",
       "aac          NaN  ...       NaN  NaN       NaN  NaN  NaN  NaN       NaN  NaN   \n",
       "aax          NaN  ...       NaN  NaN       NaN  NaN  NaN  NaN       NaN  NaN   \n",
       "abk          NaN  ...  0.537977  NaN  0.570967  NaN  NaN  NaN       NaN  NaN   \n",
       "abq          NaN  ...       NaN  NaN       NaN  NaN  NaN  NaN       NaN  NaN   \n",
       "abw          NaN  ...       NaN  NaN       NaN  NaN  NaN  NaN       NaN  NaN   \n",
       "...          ...  ...       ...  ...       ...  ...  ...  ...       ...  ...   \n",
       "zmu          NaN  ...       NaN  NaN       NaN  NaN  NaN  NaN       NaN  NaN   \n",
       "zng     0.463192  ...  0.486599  NaN  0.575987  NaN  NaN  NaN       NaN  NaN   \n",
       "zuh          NaN  ...       NaN  NaN       NaN  NaN  NaN  NaN       NaN  NaN   \n",
       "zun     0.375298  ...       NaN  NaN       NaN  NaN  NaN  NaN  0.495172  NaN   \n",
       "zzj     0.480612  ...       NaN  NaN  0.551844  NaN  NaN  NaN  0.562245  NaN   \n",
       "\n",
       "Source      zun       zzj  \n",
       "Target                     \n",
       "aac         NaN       NaN  \n",
       "aax         NaN       NaN  \n",
       "abk         NaN       NaN  \n",
       "abq         NaN       NaN  \n",
       "abw         NaN       NaN  \n",
       "...         ...       ...  \n",
       "zmu     0.57748  0.551844  \n",
       "zng         NaN       NaN  \n",
       "zuh         NaN       NaN  \n",
       "zun         NaN  0.510531  \n",
       "zzj         NaN       NaN  \n",
       "\n",
       "[1296 rows x 1296 columns]"
      ]
     },
     "execution_count": 94,
     "metadata": {},
     "output_type": "execute_result"
    }
   ],
   "source": [
    "pmi_matrix_symmetric.to_csv(\"../dataset/"
   ]
  },
  {
   "cell_type": "code",
   "execution_count": 96,
   "id": "b3e92ae3-37f8-4810-94b9-d0378823c062",
   "metadata": {
    "execution": {
     "iopub.execute_input": "2024-10-09T12:53:21.566530Z",
     "iopub.status.busy": "2024-10-09T12:53:21.565562Z",
     "iopub.status.idle": "2024-10-09T12:53:21.605227Z",
     "shell.execute_reply": "2024-10-09T12:53:21.599852Z",
     "shell.execute_reply.started": "2024-10-09T12:53:21.566497Z"
    }
   },
   "outputs": [
    {
     "data": {
      "text/plain": [
       "(0.5190226393683233, 0.5636561997487483)"
      ]
     },
     "execution_count": 96,
     "metadata": {},
     "output_type": "execute_result"
    }
   ],
   "source": [
    "pmi_matrix_symmetric.at[\"deu\", \"nld\"], pmi_matrix_symmetric.at[\"nld\", \"deu\"]"
   ]
  },
  {
   "cell_type": "markdown",
   "id": "b37bc79e-f820-4b0e-b166-cdd79a940f06",
   "metadata": {},
   "source": [
    "# CLICS from Babelnet"
   ]
  },
  {
   "cell_type": "code",
   "execution_count": null,
   "id": "16fdbf8d-0883-4848-9377-5a3677b85896",
   "metadata": {},
   "outputs": [],
   "source": []
  },
  {
   "cell_type": "code",
   "execution_count": 7,
   "id": "11acd24c-1c72-4322-926e-b01f46e750fc",
   "metadata": {
    "execution": {
     "iopub.execute_input": "2024-10-16T04:15:02.685845Z",
     "iopub.status.busy": "2024-10-16T04:15:02.684601Z",
     "iopub.status.idle": "2024-10-16T04:15:03.585532Z",
     "shell.execute_reply": "2024-10-16T04:15:03.580606Z",
     "shell.execute_reply.started": "2024-10-16T04:15:02.685802Z"
    }
   },
   "outputs": [],
   "source": [
    "clics= pd.read_csv(\"../datasets/raw/colexifications/colex_clics3.csv\")"
   ]
  },
  {
   "cell_type": "code",
   "execution_count": 8,
   "id": "bf6cabe7-67dd-4a52-8376-fc8d22437306",
   "metadata": {
    "execution": {
     "iopub.execute_input": "2024-10-16T04:15:04.728032Z",
     "iopub.status.busy": "2024-10-16T04:15:04.727412Z",
     "iopub.status.idle": "2024-10-16T04:15:04.757067Z",
     "shell.execute_reply": "2024-10-16T04:15:04.752806Z",
     "shell.execute_reply.started": "2024-10-16T04:15:04.727996Z"
    }
   },
   "outputs": [
    {
     "data": {
      "text/plain": [
       "76346"
      ]
     },
     "execution_count": 8,
     "metadata": {},
     "output_type": "execute_result"
    }
   ],
   "source": [
    "len(clics)"
   ]
  },
  {
   "cell_type": "code",
   "execution_count": 9,
   "id": "a909000b-5655-437a-9592-d4641f351d1c",
   "metadata": {
    "execution": {
     "iopub.execute_input": "2024-10-16T04:15:06.192798Z",
     "iopub.status.busy": "2024-10-16T04:15:06.192183Z",
     "iopub.status.idle": "2024-10-16T04:15:06.260777Z",
     "shell.execute_reply": "2024-10-16T04:15:06.255879Z",
     "shell.execute_reply.started": "2024-10-16T04:15:06.192764Z"
    }
   },
   "outputs": [],
   "source": [
    "clics =clics[[\"ISO639P3code\", \"Colex_ID\"]]"
   ]
  },
  {
   "cell_type": "code",
   "execution_count": 10,
   "id": "03604b4b-6346-4fee-9a77-39a6776c78c8",
   "metadata": {
    "execution": {
     "iopub.execute_input": "2024-10-16T04:15:06.807297Z",
     "iopub.status.busy": "2024-10-16T04:15:06.806662Z",
     "iopub.status.idle": "2024-10-16T04:15:06.831553Z",
     "shell.execute_reply": "2024-10-16T04:15:06.826600Z",
     "shell.execute_reply.started": "2024-10-16T04:15:06.807251Z"
    },
    "scrolled": true
   },
   "outputs": [],
   "source": [
    "clics[\"Presence\"]=1"
   ]
  },
  {
   "cell_type": "code",
   "execution_count": null,
   "id": "6eac32f5-3b34-4556-928c-77e37b1fc7bf",
   "metadata": {},
   "outputs": [],
   "source": []
  },
  {
   "cell_type": "code",
   "execution_count": 11,
   "id": "ac7a0fd4-9165-4f74-b961-0c59efac78b3",
   "metadata": {
    "execution": {
     "iopub.execute_input": "2024-10-16T04:15:11.360318Z",
     "iopub.status.busy": "2024-10-16T04:15:11.359544Z",
     "iopub.status.idle": "2024-10-16T04:15:11.415986Z",
     "shell.execute_reply": "2024-10-16T04:15:11.413336Z",
     "shell.execute_reply.started": "2024-10-16T04:15:11.360284Z"
    }
   },
   "outputs": [],
   "source": [
    "clics = clics.dropna(subset=[\"ISO639P3code\"])"
   ]
  },
  {
   "cell_type": "code",
   "execution_count": 12,
   "id": "25d4981e-202c-4225-8512-489d7f7fb5ee",
   "metadata": {
    "execution": {
     "iopub.execute_input": "2024-10-16T04:15:14.163416Z",
     "iopub.status.busy": "2024-10-16T04:15:14.162816Z",
     "iopub.status.idle": "2024-10-16T04:15:14.210292Z",
     "shell.execute_reply": "2024-10-16T04:15:14.208255Z",
     "shell.execute_reply.started": "2024-10-16T04:15:14.163381Z"
    }
   },
   "outputs": [
    {
     "data": {
      "text/html": [
       "<div>\n",
       "<style scoped>\n",
       "    .dataframe tbody tr th:only-of-type {\n",
       "        vertical-align: middle;\n",
       "    }\n",
       "\n",
       "    .dataframe tbody tr th {\n",
       "        vertical-align: top;\n",
       "    }\n",
       "\n",
       "    .dataframe thead th {\n",
       "        text-align: right;\n",
       "    }\n",
       "</style>\n",
       "<table border=\"1\" class=\"dataframe\">\n",
       "  <thead>\n",
       "    <tr style=\"text-align: right;\">\n",
       "      <th></th>\n",
       "      <th>ISO639P3code</th>\n",
       "      <th>Colex_ID</th>\n",
       "      <th>Presence</th>\n",
       "    </tr>\n",
       "  </thead>\n",
       "  <tbody>\n",
       "    <tr>\n",
       "      <th>8</th>\n",
       "      <td>goh</td>\n",
       "      <td>0</td>\n",
       "      <td>1</td>\n",
       "    </tr>\n",
       "    <tr>\n",
       "      <th>9</th>\n",
       "      <td>mri</td>\n",
       "      <td>0</td>\n",
       "      <td>1</td>\n",
       "    </tr>\n",
       "    <tr>\n",
       "      <th>10</th>\n",
       "      <td>yad</td>\n",
       "      <td>0</td>\n",
       "      <td>1</td>\n",
       "    </tr>\n",
       "    <tr>\n",
       "      <th>11</th>\n",
       "      <td>pnb</td>\n",
       "      <td>0</td>\n",
       "      <td>1</td>\n",
       "    </tr>\n",
       "    <tr>\n",
       "      <th>12</th>\n",
       "      <td>tam</td>\n",
       "      <td>0</td>\n",
       "      <td>1</td>\n",
       "    </tr>\n",
       "    <tr>\n",
       "      <th>...</th>\n",
       "      <td>...</td>\n",
       "      <td>...</td>\n",
       "      <td>...</td>\n",
       "    </tr>\n",
       "    <tr>\n",
       "      <th>76341</th>\n",
       "      <td>aol</td>\n",
       "      <td>4227</td>\n",
       "      <td>1</td>\n",
       "    </tr>\n",
       "    <tr>\n",
       "      <th>76342</th>\n",
       "      <td>abz</td>\n",
       "      <td>4227</td>\n",
       "      <td>1</td>\n",
       "    </tr>\n",
       "    <tr>\n",
       "      <th>76343</th>\n",
       "      <td>kgv</td>\n",
       "      <td>4227</td>\n",
       "      <td>1</td>\n",
       "    </tr>\n",
       "    <tr>\n",
       "      <th>76344</th>\n",
       "      <td>kyo</td>\n",
       "      <td>4227</td>\n",
       "      <td>1</td>\n",
       "    </tr>\n",
       "    <tr>\n",
       "      <th>76345</th>\n",
       "      <td>tet</td>\n",
       "      <td>4227</td>\n",
       "      <td>1</td>\n",
       "    </tr>\n",
       "  </tbody>\n",
       "</table>\n",
       "<p>68560 rows × 3 columns</p>\n",
       "</div>"
      ],
      "text/plain": [
       "      ISO639P3code  Colex_ID  Presence\n",
       "8              goh         0         1\n",
       "9              mri         0         1\n",
       "10             yad         0         1\n",
       "11             pnb         0         1\n",
       "12             tam         0         1\n",
       "...            ...       ...       ...\n",
       "76341          aol      4227         1\n",
       "76342          abz      4227         1\n",
       "76343          kgv      4227         1\n",
       "76344          kyo      4227         1\n",
       "76345          tet      4227         1\n",
       "\n",
       "[68560 rows x 3 columns]"
      ]
     },
     "execution_count": 12,
     "metadata": {},
     "output_type": "execute_result"
    }
   ],
   "source": [
    "clics"
   ]
  },
  {
   "cell_type": "code",
   "execution_count": 13,
   "id": "536bb9d3-5866-42df-9b32-345c9a944cd9",
   "metadata": {
    "execution": {
     "iopub.execute_input": "2024-10-16T04:15:30.179711Z",
     "iopub.status.busy": "2024-10-16T04:15:30.178831Z",
     "iopub.status.idle": "2024-10-16T04:15:30.441256Z",
     "shell.execute_reply": "2024-10-16T04:15:30.436761Z",
     "shell.execute_reply.started": "2024-10-16T04:15:30.179672Z"
    }
   },
   "outputs": [],
   "source": [
    "binary_matrix = clics.pivot_table(\n",
    "    index='ISO639P3code', \n",
    "    columns='Colex_ID', \n",
    "    values=\"Presence\",\n",
    "    aggfunc='max', \n",
    "    fill_value=0\n",
    ")"
   ]
  },
  {
   "cell_type": "code",
   "execution_count": 14,
   "id": "3f3e532a-c053-4cb9-84d8-e69fa5b221e1",
   "metadata": {
    "execution": {
     "iopub.execute_input": "2024-10-16T04:15:35.563167Z",
     "iopub.status.busy": "2024-10-16T04:15:35.562573Z",
     "iopub.status.idle": "2024-10-16T04:15:35.628394Z",
     "shell.execute_reply": "2024-10-16T04:15:35.621083Z",
     "shell.execute_reply.started": "2024-10-16T04:15:35.563134Z"
    }
   },
   "outputs": [
    {
     "data": {
      "text/html": [
       "<div>\n",
       "<style scoped>\n",
       "    .dataframe tbody tr th:only-of-type {\n",
       "        vertical-align: middle;\n",
       "    }\n",
       "\n",
       "    .dataframe tbody tr th {\n",
       "        vertical-align: top;\n",
       "    }\n",
       "\n",
       "    .dataframe thead th {\n",
       "        text-align: right;\n",
       "    }\n",
       "</style>\n",
       "<table border=\"1\" class=\"dataframe\">\n",
       "  <thead>\n",
       "    <tr style=\"text-align: right;\">\n",
       "      <th>Colex_ID</th>\n",
       "      <th>0</th>\n",
       "      <th>1</th>\n",
       "      <th>2</th>\n",
       "      <th>3</th>\n",
       "      <th>4</th>\n",
       "      <th>5</th>\n",
       "      <th>6</th>\n",
       "      <th>7</th>\n",
       "      <th>8</th>\n",
       "      <th>9</th>\n",
       "      <th>...</th>\n",
       "      <th>4218</th>\n",
       "      <th>4219</th>\n",
       "      <th>4220</th>\n",
       "      <th>4221</th>\n",
       "      <th>4222</th>\n",
       "      <th>4223</th>\n",
       "      <th>4224</th>\n",
       "      <th>4225</th>\n",
       "      <th>4226</th>\n",
       "      <th>4227</th>\n",
       "    </tr>\n",
       "    <tr>\n",
       "      <th>ISO639P3code</th>\n",
       "      <th></th>\n",
       "      <th></th>\n",
       "      <th></th>\n",
       "      <th></th>\n",
       "      <th></th>\n",
       "      <th></th>\n",
       "      <th></th>\n",
       "      <th></th>\n",
       "      <th></th>\n",
       "      <th></th>\n",
       "      <th></th>\n",
       "      <th></th>\n",
       "      <th></th>\n",
       "      <th></th>\n",
       "      <th></th>\n",
       "      <th></th>\n",
       "      <th></th>\n",
       "      <th></th>\n",
       "      <th></th>\n",
       "      <th></th>\n",
       "      <th></th>\n",
       "    </tr>\n",
       "  </thead>\n",
       "  <tbody>\n",
       "    <tr>\n",
       "      <th>aac</th>\n",
       "      <td>0</td>\n",
       "      <td>0</td>\n",
       "      <td>0</td>\n",
       "      <td>0</td>\n",
       "      <td>0</td>\n",
       "      <td>0</td>\n",
       "      <td>0</td>\n",
       "      <td>0</td>\n",
       "      <td>0</td>\n",
       "      <td>0</td>\n",
       "      <td>...</td>\n",
       "      <td>0</td>\n",
       "      <td>0</td>\n",
       "      <td>0</td>\n",
       "      <td>0</td>\n",
       "      <td>0</td>\n",
       "      <td>0</td>\n",
       "      <td>0</td>\n",
       "      <td>0</td>\n",
       "      <td>0</td>\n",
       "      <td>0</td>\n",
       "    </tr>\n",
       "    <tr>\n",
       "      <th>aah</th>\n",
       "      <td>0</td>\n",
       "      <td>0</td>\n",
       "      <td>0</td>\n",
       "      <td>0</td>\n",
       "      <td>0</td>\n",
       "      <td>0</td>\n",
       "      <td>0</td>\n",
       "      <td>0</td>\n",
       "      <td>0</td>\n",
       "      <td>0</td>\n",
       "      <td>...</td>\n",
       "      <td>0</td>\n",
       "      <td>0</td>\n",
       "      <td>0</td>\n",
       "      <td>0</td>\n",
       "      <td>0</td>\n",
       "      <td>0</td>\n",
       "      <td>0</td>\n",
       "      <td>0</td>\n",
       "      <td>0</td>\n",
       "      <td>0</td>\n",
       "    </tr>\n",
       "    <tr>\n",
       "      <th>aak</th>\n",
       "      <td>0</td>\n",
       "      <td>0</td>\n",
       "      <td>0</td>\n",
       "      <td>0</td>\n",
       "      <td>0</td>\n",
       "      <td>0</td>\n",
       "      <td>0</td>\n",
       "      <td>0</td>\n",
       "      <td>0</td>\n",
       "      <td>0</td>\n",
       "      <td>...</td>\n",
       "      <td>0</td>\n",
       "      <td>0</td>\n",
       "      <td>0</td>\n",
       "      <td>0</td>\n",
       "      <td>0</td>\n",
       "      <td>0</td>\n",
       "      <td>0</td>\n",
       "      <td>0</td>\n",
       "      <td>0</td>\n",
       "      <td>0</td>\n",
       "    </tr>\n",
       "    <tr>\n",
       "      <th>aau</th>\n",
       "      <td>0</td>\n",
       "      <td>0</td>\n",
       "      <td>0</td>\n",
       "      <td>0</td>\n",
       "      <td>0</td>\n",
       "      <td>0</td>\n",
       "      <td>0</td>\n",
       "      <td>0</td>\n",
       "      <td>0</td>\n",
       "      <td>0</td>\n",
       "      <td>...</td>\n",
       "      <td>0</td>\n",
       "      <td>0</td>\n",
       "      <td>0</td>\n",
       "      <td>0</td>\n",
       "      <td>0</td>\n",
       "      <td>0</td>\n",
       "      <td>0</td>\n",
       "      <td>0</td>\n",
       "      <td>0</td>\n",
       "      <td>0</td>\n",
       "    </tr>\n",
       "    <tr>\n",
       "      <th>aax</th>\n",
       "      <td>0</td>\n",
       "      <td>0</td>\n",
       "      <td>0</td>\n",
       "      <td>0</td>\n",
       "      <td>0</td>\n",
       "      <td>0</td>\n",
       "      <td>0</td>\n",
       "      <td>0</td>\n",
       "      <td>0</td>\n",
       "      <td>0</td>\n",
       "      <td>...</td>\n",
       "      <td>0</td>\n",
       "      <td>0</td>\n",
       "      <td>0</td>\n",
       "      <td>0</td>\n",
       "      <td>0</td>\n",
       "      <td>0</td>\n",
       "      <td>0</td>\n",
       "      <td>0</td>\n",
       "      <td>0</td>\n",
       "      <td>0</td>\n",
       "    </tr>\n",
       "    <tr>\n",
       "      <th>...</th>\n",
       "      <td>...</td>\n",
       "      <td>...</td>\n",
       "      <td>...</td>\n",
       "      <td>...</td>\n",
       "      <td>...</td>\n",
       "      <td>...</td>\n",
       "      <td>...</td>\n",
       "      <td>...</td>\n",
       "      <td>...</td>\n",
       "      <td>...</td>\n",
       "      <td>...</td>\n",
       "      <td>...</td>\n",
       "      <td>...</td>\n",
       "      <td>...</td>\n",
       "      <td>...</td>\n",
       "      <td>...</td>\n",
       "      <td>...</td>\n",
       "      <td>...</td>\n",
       "      <td>...</td>\n",
       "      <td>...</td>\n",
       "      <td>...</td>\n",
       "    </tr>\n",
       "    <tr>\n",
       "      <th>zmu</th>\n",
       "      <td>0</td>\n",
       "      <td>0</td>\n",
       "      <td>0</td>\n",
       "      <td>0</td>\n",
       "      <td>0</td>\n",
       "      <td>0</td>\n",
       "      <td>0</td>\n",
       "      <td>0</td>\n",
       "      <td>0</td>\n",
       "      <td>0</td>\n",
       "      <td>...</td>\n",
       "      <td>0</td>\n",
       "      <td>0</td>\n",
       "      <td>0</td>\n",
       "      <td>0</td>\n",
       "      <td>0</td>\n",
       "      <td>0</td>\n",
       "      <td>0</td>\n",
       "      <td>0</td>\n",
       "      <td>0</td>\n",
       "      <td>0</td>\n",
       "    </tr>\n",
       "    <tr>\n",
       "      <th>zng</th>\n",
       "      <td>0</td>\n",
       "      <td>0</td>\n",
       "      <td>0</td>\n",
       "      <td>0</td>\n",
       "      <td>0</td>\n",
       "      <td>0</td>\n",
       "      <td>0</td>\n",
       "      <td>0</td>\n",
       "      <td>0</td>\n",
       "      <td>0</td>\n",
       "      <td>...</td>\n",
       "      <td>0</td>\n",
       "      <td>0</td>\n",
       "      <td>0</td>\n",
       "      <td>0</td>\n",
       "      <td>0</td>\n",
       "      <td>0</td>\n",
       "      <td>0</td>\n",
       "      <td>0</td>\n",
       "      <td>0</td>\n",
       "      <td>0</td>\n",
       "    </tr>\n",
       "    <tr>\n",
       "      <th>zuh</th>\n",
       "      <td>0</td>\n",
       "      <td>0</td>\n",
       "      <td>0</td>\n",
       "      <td>0</td>\n",
       "      <td>0</td>\n",
       "      <td>0</td>\n",
       "      <td>0</td>\n",
       "      <td>0</td>\n",
       "      <td>0</td>\n",
       "      <td>0</td>\n",
       "      <td>...</td>\n",
       "      <td>0</td>\n",
       "      <td>0</td>\n",
       "      <td>0</td>\n",
       "      <td>0</td>\n",
       "      <td>0</td>\n",
       "      <td>0</td>\n",
       "      <td>0</td>\n",
       "      <td>0</td>\n",
       "      <td>0</td>\n",
       "      <td>0</td>\n",
       "    </tr>\n",
       "    <tr>\n",
       "      <th>zun</th>\n",
       "      <td>0</td>\n",
       "      <td>0</td>\n",
       "      <td>0</td>\n",
       "      <td>0</td>\n",
       "      <td>0</td>\n",
       "      <td>0</td>\n",
       "      <td>0</td>\n",
       "      <td>0</td>\n",
       "      <td>0</td>\n",
       "      <td>0</td>\n",
       "      <td>...</td>\n",
       "      <td>0</td>\n",
       "      <td>0</td>\n",
       "      <td>0</td>\n",
       "      <td>0</td>\n",
       "      <td>0</td>\n",
       "      <td>0</td>\n",
       "      <td>0</td>\n",
       "      <td>0</td>\n",
       "      <td>0</td>\n",
       "      <td>0</td>\n",
       "    </tr>\n",
       "    <tr>\n",
       "      <th>zzj</th>\n",
       "      <td>0</td>\n",
       "      <td>0</td>\n",
       "      <td>0</td>\n",
       "      <td>0</td>\n",
       "      <td>0</td>\n",
       "      <td>0</td>\n",
       "      <td>0</td>\n",
       "      <td>0</td>\n",
       "      <td>0</td>\n",
       "      <td>0</td>\n",
       "      <td>...</td>\n",
       "      <td>0</td>\n",
       "      <td>0</td>\n",
       "      <td>0</td>\n",
       "      <td>0</td>\n",
       "      <td>0</td>\n",
       "      <td>0</td>\n",
       "      <td>0</td>\n",
       "      <td>0</td>\n",
       "      <td>0</td>\n",
       "      <td>0</td>\n",
       "    </tr>\n",
       "  </tbody>\n",
       "</table>\n",
       "<p>1609 rows × 4228 columns</p>\n",
       "</div>"
      ],
      "text/plain": [
       "Colex_ID      0     1     2     3     4     5     6     7     8     9     ...  \\\n",
       "ISO639P3code                                                              ...   \n",
       "aac              0     0     0     0     0     0     0     0     0     0  ...   \n",
       "aah              0     0     0     0     0     0     0     0     0     0  ...   \n",
       "aak              0     0     0     0     0     0     0     0     0     0  ...   \n",
       "aau              0     0     0     0     0     0     0     0     0     0  ...   \n",
       "aax              0     0     0     0     0     0     0     0     0     0  ...   \n",
       "...            ...   ...   ...   ...   ...   ...   ...   ...   ...   ...  ...   \n",
       "zmu              0     0     0     0     0     0     0     0     0     0  ...   \n",
       "zng              0     0     0     0     0     0     0     0     0     0  ...   \n",
       "zuh              0     0     0     0     0     0     0     0     0     0  ...   \n",
       "zun              0     0     0     0     0     0     0     0     0     0  ...   \n",
       "zzj              0     0     0     0     0     0     0     0     0     0  ...   \n",
       "\n",
       "Colex_ID      4218  4219  4220  4221  4222  4223  4224  4225  4226  4227  \n",
       "ISO639P3code                                                              \n",
       "aac              0     0     0     0     0     0     0     0     0     0  \n",
       "aah              0     0     0     0     0     0     0     0     0     0  \n",
       "aak              0     0     0     0     0     0     0     0     0     0  \n",
       "aau              0     0     0     0     0     0     0     0     0     0  \n",
       "aax              0     0     0     0     0     0     0     0     0     0  \n",
       "...            ...   ...   ...   ...   ...   ...   ...   ...   ...   ...  \n",
       "zmu              0     0     0     0     0     0     0     0     0     0  \n",
       "zng              0     0     0     0     0     0     0     0     0     0  \n",
       "zuh              0     0     0     0     0     0     0     0     0     0  \n",
       "zun              0     0     0     0     0     0     0     0     0     0  \n",
       "zzj              0     0     0     0     0     0     0     0     0     0  \n",
       "\n",
       "[1609 rows x 4228 columns]"
      ]
     },
     "execution_count": 14,
     "metadata": {},
     "output_type": "execute_result"
    }
   ],
   "source": [
    "binary_matrix"
   ]
  },
  {
   "cell_type": "code",
   "execution_count": 16,
   "id": "7acb5049-acc3-4f6c-9854-9fa235199c79",
   "metadata": {
    "execution": {
     "iopub.execute_input": "2024-10-16T04:17:02.608346Z",
     "iopub.status.busy": "2024-10-16T04:17:02.607817Z",
     "iopub.status.idle": "2024-10-16T04:17:02.651045Z",
     "shell.execute_reply": "2024-10-16T04:17:02.645693Z",
     "shell.execute_reply.started": "2024-10-16T04:17:02.608312Z"
    }
   },
   "outputs": [],
   "source": [
    "def crop_wals(gb_df, perc):\n",
    "    \"\"\"Remove languages from dataframe that do not have at least <perc>% feature coverage\"\"\"\n",
    "    rows_list=[]\n",
    "    tot_feats = len([x for x in gb_df.columns])\n",
    "    for i, row in gb_df.iterrows():\n",
    "        no_data = row.to_list().count(0)\n",
    "        # print(i, no_data)\n",
    "        if (tot_feats - no_data) >=3:\n",
    "            rows_list.append(row)\n",
    "            # try:\n",
    "            #     gb_df = gb_df.drop(i)\n",
    "            # except Exception as msg:\n",
    "            #     print(msg)\n",
    "\n",
    "    return pd.concat(rows_list, axis=1)"
   ]
  },
  {
   "cell_type": "code",
   "execution_count": 17,
   "id": "3842e93a-27bf-4c80-96f1-1bceb9df653a",
   "metadata": {
    "execution": {
     "iopub.execute_input": "2024-10-16T04:17:02.954561Z",
     "iopub.status.busy": "2024-10-16T04:17:02.952148Z",
     "iopub.status.idle": "2024-10-16T04:17:03.860985Z",
     "shell.execute_reply": "2024-10-16T04:17:03.858532Z",
     "shell.execute_reply.started": "2024-10-16T04:17:02.954509Z"
    }
   },
   "outputs": [],
   "source": [
    "clics_matrx = crop_wals(binary_matrix, perc=0.01)"
   ]
  },
  {
   "cell_type": "code",
   "execution_count": 18,
   "id": "04970e84-83ab-4d3d-a40b-d9e66d9af93a",
   "metadata": {
    "execution": {
     "iopub.execute_input": "2024-10-16T04:17:03.868009Z",
     "iopub.status.busy": "2024-10-16T04:17:03.867414Z",
     "iopub.status.idle": "2024-10-16T04:17:03.888836Z",
     "shell.execute_reply": "2024-10-16T04:17:03.884355Z",
     "shell.execute_reply.started": "2024-10-16T04:17:03.867988Z"
    },
    "scrolled": true
   },
   "outputs": [
    {
     "data": {
      "text/plain": [
       "(4228, 1609)"
      ]
     },
     "execution_count": 18,
     "metadata": {},
     "output_type": "execute_result"
    }
   ],
   "source": [
    "len(clics_matrx), len(binary_matrix)"
   ]
  },
  {
   "cell_type": "code",
   "execution_count": null,
   "id": "dd140d91-d6d3-4b57-93b4-a7f2e8218d33",
   "metadata": {},
   "outputs": [],
   "source": []
  },
  {
   "cell_type": "code",
   "execution_count": 19,
   "id": "4bcca2ff-502d-456e-90b1-5f6099a28cdb",
   "metadata": {
    "execution": {
     "iopub.execute_input": "2024-10-16T04:17:04.548026Z",
     "iopub.status.busy": "2024-10-16T04:17:04.547262Z",
     "iopub.status.idle": "2024-10-16T04:17:04.568728Z",
     "shell.execute_reply": "2024-10-16T04:17:04.558187Z",
     "shell.execute_reply.started": "2024-10-16T04:17:04.547992Z"
    }
   },
   "outputs": [],
   "source": [
    "clics_matrx= clics_matrx.T"
   ]
  },
  {
   "cell_type": "code",
   "execution_count": 20,
   "id": "de292005-dd4b-41fd-b26e-db747b343857",
   "metadata": {
    "execution": {
     "iopub.execute_input": "2024-10-16T04:17:05.622505Z",
     "iopub.status.busy": "2024-10-16T04:17:05.621589Z",
     "iopub.status.idle": "2024-10-16T04:17:05.645065Z",
     "shell.execute_reply": "2024-10-16T04:17:05.643355Z",
     "shell.execute_reply.started": "2024-10-16T04:17:05.622470Z"
    }
   },
   "outputs": [
    {
     "data": {
      "text/plain": [
       "array([1, 1, 1, 1, 1, 1, 1, 1, 1, 1, 1, 1, 1, 1, 1, 1, 1, 1, 1, 1, 1, 1,\n",
       "       1, 1, 1, 1, 1, 1, 1, 1, 1, 1, 1, 1, 1, 1, 1, 1, 1, 1, 1, 1, 1, 1,\n",
       "       1, 1, 1, 1, 1, 1, 1, 1, 1, 1, 1, 1, 1, 1, 1, 1, 1, 1, 1, 1, 1, 1,\n",
       "       1, 1, 1, 1, 1, 1, 1, 1, 1, 1, 1, 1, 1, 1, 1, 1, 1, 1, 1, 1, 1, 1,\n",
       "       1, 1, 1, 1, 1, 1, 1, 1, 1, 1, 1, 1, 1, 1, 1, 1, 1, 1, 1, 1, 1, 1,\n",
       "       1, 1, 1, 1, 1, 1, 1, 1])"
      ]
     },
     "execution_count": 20,
     "metadata": {},
     "output_type": "execute_result"
    }
   ],
   "source": [
    "clics_matrx.loc[\"deu\"].to_numpy()[clics_matrx.loc[\"deu\"].to_numpy()!=0]"
   ]
  },
  {
   "cell_type": "code",
   "execution_count": 21,
   "id": "90009ee4-1ee2-4a33-b95c-da6b1bd7e871",
   "metadata": {
    "execution": {
     "iopub.execute_input": "2024-10-16T04:17:06.226729Z",
     "iopub.status.busy": "2024-10-16T04:17:06.225716Z",
     "iopub.status.idle": "2024-10-16T04:17:06.260317Z",
     "shell.execute_reply": "2024-10-16T04:17:06.256846Z",
     "shell.execute_reply.started": "2024-10-16T04:17:06.226694Z"
    }
   },
   "outputs": [
    {
     "data": {
      "text/plain": [
       "array([1, 1, 1, 1, 1, 1, 1, 1, 1, 1, 1, 1, 1, 1, 1, 1, 1, 1, 1, 1, 1, 1,\n",
       "       1, 1, 1, 1, 1, 1, 1, 1, 1, 1, 1, 1, 1, 1, 1, 1, 1, 1, 1, 1, 1, 1,\n",
       "       1, 1, 1, 1, 1, 1, 1, 1, 1, 1, 1, 1, 1, 1, 1, 1, 1, 1, 1, 1, 1, 1,\n",
       "       1, 1, 1, 1, 1, 1, 1, 1, 1, 1, 1, 1, 1, 1, 1, 1, 1, 1, 1, 1, 1, 1,\n",
       "       1, 1, 1, 1, 1, 1, 1, 1, 1, 1, 1, 1, 1, 1, 1, 1, 1, 1, 1, 1, 1, 1,\n",
       "       1, 1, 1, 1, 1, 1, 1, 1, 1, 1, 1, 1, 1, 1, 1, 1, 1, 1, 1, 1, 1, 1])"
      ]
     },
     "execution_count": 21,
     "metadata": {},
     "output_type": "execute_result"
    }
   ],
   "source": [
    "clics_matrx.loc[\"cmn\"].to_numpy()[clics_matrx.loc[\"cmn\"].to_numpy()!=0]"
   ]
  },
  {
   "cell_type": "code",
   "execution_count": 22,
   "id": "60164f8b-55eb-4a88-bb1a-47d0cfd3c051",
   "metadata": {
    "execution": {
     "iopub.execute_input": "2024-10-16T04:17:09.600993Z",
     "iopub.status.busy": "2024-10-16T04:17:09.600481Z",
     "iopub.status.idle": "2024-10-16T04:17:09.610527Z",
     "shell.execute_reply": "2024-10-16T04:17:09.609530Z",
     "shell.execute_reply.started": "2024-10-16T04:17:09.600956Z"
    }
   },
   "outputs": [],
   "source": [
    "from scipy.spatial.distance import pdist, squareform\n"
   ]
  },
  {
   "cell_type": "code",
   "execution_count": 30,
   "id": "8f96038a-fc14-4734-849e-60d87aab9d55",
   "metadata": {
    "execution": {
     "iopub.execute_input": "2024-10-16T04:17:59.305334Z",
     "iopub.status.busy": "2024-10-16T04:17:59.304461Z",
     "iopub.status.idle": "2024-10-16T04:17:59.323144Z",
     "shell.execute_reply": "2024-10-16T04:17:59.319837Z",
     "shell.execute_reply.started": "2024-10-16T04:17:59.305300Z"
    }
   },
   "outputs": [
    {
     "data": {
      "text/plain": [
       "(1347, 1347)"
      ]
     },
     "execution_count": 30,
     "metadata": {},
     "output_type": "execute_result"
    }
   ],
   "source": [
    "jaccard_distance_matrix.shape"
   ]
  },
  {
   "cell_type": "code",
   "execution_count": 23,
   "id": "c7322024-f048-4ac2-bce4-5c3c4be3fef7",
   "metadata": {
    "execution": {
     "iopub.execute_input": "2024-10-16T04:17:10.011040Z",
     "iopub.status.busy": "2024-10-16T04:17:10.010267Z",
     "iopub.status.idle": "2024-10-16T04:17:37.092696Z",
     "shell.execute_reply": "2024-10-16T04:17:37.090020Z",
     "shell.execute_reply.started": "2024-10-16T04:17:10.011005Z"
    }
   },
   "outputs": [],
   "source": [
    "jaccard_distances = pdist(clics_matrx, metric='jaccard')\n",
    "jaccard_distance_matrix = squareform(jaccard_distances)"
   ]
  },
  {
   "cell_type": "code",
   "execution_count": 24,
   "id": "7a1c7dd1-e7d0-4ffb-8901-f7c3c15a42a8",
   "metadata": {
    "execution": {
     "iopub.execute_input": "2024-10-16T04:17:37.102164Z",
     "iopub.status.busy": "2024-10-16T04:17:37.099986Z",
     "iopub.status.idle": "2024-10-16T04:17:37.117661Z",
     "shell.execute_reply": "2024-10-16T04:17:37.112730Z",
     "shell.execute_reply.started": "2024-10-16T04:17:37.102148Z"
    }
   },
   "outputs": [],
   "source": [
    "jaccard_df = pd.DataFrame(\n",
    "    jaccard_distance_matrix, \n",
    "    index=clics_matrx.index, \n",
    "    columns=clics_matrx.index\n",
    ")"
   ]
  },
  {
   "cell_type": "code",
   "execution_count": 25,
   "id": "53aa5859-0c1a-4c47-a572-77dbe6cc2bdd",
   "metadata": {
    "execution": {
     "iopub.execute_input": "2024-10-16T04:17:37.124789Z",
     "iopub.status.busy": "2024-10-16T04:17:37.123685Z",
     "iopub.status.idle": "2024-10-16T04:17:37.147463Z",
     "shell.execute_reply": "2024-10-16T04:17:37.145862Z",
     "shell.execute_reply.started": "2024-10-16T04:17:37.124743Z"
    }
   },
   "outputs": [
    {
     "data": {
      "text/plain": [
       "(0.8685714285714285, 0.7155172413793104)"
      ]
     },
     "execution_count": 25,
     "metadata": {},
     "output_type": "execute_result"
    }
   ],
   "source": [
    "jaccard_df.at[\"deu\", \"eng\"], jaccard_df.at[\"deu\", \"nld\"]"
   ]
  },
  {
   "cell_type": "code",
   "execution_count": 26,
   "id": "6d9eb761-10c5-48e3-9394-cce1641c3cb7",
   "metadata": {
    "execution": {
     "iopub.execute_input": "2024-10-16T04:17:37.159275Z",
     "iopub.status.busy": "2024-10-16T04:17:37.155932Z",
     "iopub.status.idle": "2024-10-16T04:17:37.183635Z",
     "shell.execute_reply": "2024-10-16T04:17:37.180523Z",
     "shell.execute_reply.started": "2024-10-16T04:17:37.159258Z"
    }
   },
   "outputs": [
    {
     "data": {
      "text/plain": [
       "(0.7766497461928934, 0.753731343283582, 0.8927335640138409, 0.9386503067484663)"
      ]
     },
     "execution_count": 26,
     "metadata": {},
     "output_type": "execute_result"
    }
   ],
   "source": [
    "jaccard_df.at[\"deu\", \"dan\"], jaccard_df.at[\"dan\", \"nor\"], jaccard_df.at[\"cmn\", \"jpn\"],  jaccard_df.at[\"cmn\", \"kor\"]"
   ]
  },
  {
   "cell_type": "code",
   "execution_count": 27,
   "id": "2883e7fa-5b90-4c01-b2bc-b7df039ed095",
   "metadata": {
    "execution": {
     "iopub.execute_input": "2024-10-16T04:17:40.738058Z",
     "iopub.status.busy": "2024-10-16T04:17:40.737420Z",
     "iopub.status.idle": "2024-10-16T04:17:40.843671Z",
     "shell.execute_reply": "2024-10-16T04:17:40.840990Z",
     "shell.execute_reply.started": "2024-10-16T04:17:40.738022Z"
    }
   },
   "outputs": [
    {
     "data": {
      "text/html": [
       "<div>\n",
       "<style scoped>\n",
       "    .dataframe tbody tr th:only-of-type {\n",
       "        vertical-align: middle;\n",
       "    }\n",
       "\n",
       "    .dataframe tbody tr th {\n",
       "        vertical-align: top;\n",
       "    }\n",
       "\n",
       "    .dataframe thead th {\n",
       "        text-align: right;\n",
       "    }\n",
       "</style>\n",
       "<table border=\"1\" class=\"dataframe\">\n",
       "  <thead>\n",
       "    <tr style=\"text-align: right;\">\n",
       "      <th></th>\n",
       "      <th>aac</th>\n",
       "      <th>aax</th>\n",
       "      <th>aaz</th>\n",
       "      <th>abk</th>\n",
       "      <th>abq</th>\n",
       "      <th>abw</th>\n",
       "      <th>abz</th>\n",
       "      <th>aca</th>\n",
       "      <th>acn</th>\n",
       "      <th>adg</th>\n",
       "      <th>...</th>\n",
       "      <th>zin</th>\n",
       "      <th>ziz</th>\n",
       "      <th>zka</th>\n",
       "      <th>zku</th>\n",
       "      <th>zmc</th>\n",
       "      <th>zmu</th>\n",
       "      <th>zng</th>\n",
       "      <th>zuh</th>\n",
       "      <th>zun</th>\n",
       "      <th>zzj</th>\n",
       "    </tr>\n",
       "  </thead>\n",
       "  <tbody>\n",
       "    <tr>\n",
       "      <th>aac</th>\n",
       "      <td>0.000000</td>\n",
       "      <td>1.000000</td>\n",
       "      <td>0.968750</td>\n",
       "      <td>1.000000</td>\n",
       "      <td>1.000000</td>\n",
       "      <td>1.0</td>\n",
       "      <td>0.985507</td>\n",
       "      <td>1.0</td>\n",
       "      <td>1.000000</td>\n",
       "      <td>1.000000</td>\n",
       "      <td>...</td>\n",
       "      <td>1.000000</td>\n",
       "      <td>1.0</td>\n",
       "      <td>1.000000</td>\n",
       "      <td>1.0</td>\n",
       "      <td>0.909091</td>\n",
       "      <td>1.000000</td>\n",
       "      <td>0.990991</td>\n",
       "      <td>1.000000</td>\n",
       "      <td>1.000000</td>\n",
       "      <td>0.992958</td>\n",
       "    </tr>\n",
       "    <tr>\n",
       "      <th>aax</th>\n",
       "      <td>1.000000</td>\n",
       "      <td>0.000000</td>\n",
       "      <td>1.000000</td>\n",
       "      <td>0.991597</td>\n",
       "      <td>1.000000</td>\n",
       "      <td>1.0</td>\n",
       "      <td>0.987342</td>\n",
       "      <td>1.0</td>\n",
       "      <td>1.000000</td>\n",
       "      <td>1.000000</td>\n",
       "      <td>...</td>\n",
       "      <td>1.000000</td>\n",
       "      <td>1.0</td>\n",
       "      <td>1.000000</td>\n",
       "      <td>1.0</td>\n",
       "      <td>1.000000</td>\n",
       "      <td>1.000000</td>\n",
       "      <td>1.000000</td>\n",
       "      <td>1.000000</td>\n",
       "      <td>1.000000</td>\n",
       "      <td>1.000000</td>\n",
       "    </tr>\n",
       "    <tr>\n",
       "      <th>aaz</th>\n",
       "      <td>0.968750</td>\n",
       "      <td>1.000000</td>\n",
       "      <td>0.000000</td>\n",
       "      <td>1.000000</td>\n",
       "      <td>0.971429</td>\n",
       "      <td>1.0</td>\n",
       "      <td>0.956989</td>\n",
       "      <td>1.0</td>\n",
       "      <td>1.000000</td>\n",
       "      <td>1.000000</td>\n",
       "      <td>...</td>\n",
       "      <td>1.000000</td>\n",
       "      <td>1.0</td>\n",
       "      <td>0.970588</td>\n",
       "      <td>1.0</td>\n",
       "      <td>0.973684</td>\n",
       "      <td>1.000000</td>\n",
       "      <td>0.954887</td>\n",
       "      <td>0.970588</td>\n",
       "      <td>0.984848</td>\n",
       "      <td>0.982036</td>\n",
       "    </tr>\n",
       "    <tr>\n",
       "      <th>abk</th>\n",
       "      <td>1.000000</td>\n",
       "      <td>0.991597</td>\n",
       "      <td>1.000000</td>\n",
       "      <td>0.000000</td>\n",
       "      <td>1.000000</td>\n",
       "      <td>1.0</td>\n",
       "      <td>0.994220</td>\n",
       "      <td>1.0</td>\n",
       "      <td>0.985294</td>\n",
       "      <td>1.000000</td>\n",
       "      <td>...</td>\n",
       "      <td>0.983333</td>\n",
       "      <td>1.0</td>\n",
       "      <td>0.990991</td>\n",
       "      <td>1.0</td>\n",
       "      <td>1.000000</td>\n",
       "      <td>0.990991</td>\n",
       "      <td>0.995349</td>\n",
       "      <td>1.000000</td>\n",
       "      <td>0.995238</td>\n",
       "      <td>0.983539</td>\n",
       "    </tr>\n",
       "    <tr>\n",
       "      <th>abq</th>\n",
       "      <td>1.000000</td>\n",
       "      <td>1.000000</td>\n",
       "      <td>0.971429</td>\n",
       "      <td>1.000000</td>\n",
       "      <td>0.000000</td>\n",
       "      <td>1.0</td>\n",
       "      <td>1.000000</td>\n",
       "      <td>1.0</td>\n",
       "      <td>1.000000</td>\n",
       "      <td>1.000000</td>\n",
       "      <td>...</td>\n",
       "      <td>1.000000</td>\n",
       "      <td>1.0</td>\n",
       "      <td>1.000000</td>\n",
       "      <td>1.0</td>\n",
       "      <td>1.000000</td>\n",
       "      <td>1.000000</td>\n",
       "      <td>1.000000</td>\n",
       "      <td>1.000000</td>\n",
       "      <td>1.000000</td>\n",
       "      <td>1.000000</td>\n",
       "    </tr>\n",
       "    <tr>\n",
       "      <th>...</th>\n",
       "      <td>...</td>\n",
       "      <td>...</td>\n",
       "      <td>...</td>\n",
       "      <td>...</td>\n",
       "      <td>...</td>\n",
       "      <td>...</td>\n",
       "      <td>...</td>\n",
       "      <td>...</td>\n",
       "      <td>...</td>\n",
       "      <td>...</td>\n",
       "      <td>...</td>\n",
       "      <td>...</td>\n",
       "      <td>...</td>\n",
       "      <td>...</td>\n",
       "      <td>...</td>\n",
       "      <td>...</td>\n",
       "      <td>...</td>\n",
       "      <td>...</td>\n",
       "      <td>...</td>\n",
       "      <td>...</td>\n",
       "      <td>...</td>\n",
       "    </tr>\n",
       "    <tr>\n",
       "      <th>zmu</th>\n",
       "      <td>1.000000</td>\n",
       "      <td>1.000000</td>\n",
       "      <td>1.000000</td>\n",
       "      <td>0.990991</td>\n",
       "      <td>1.000000</td>\n",
       "      <td>1.0</td>\n",
       "      <td>1.000000</td>\n",
       "      <td>1.0</td>\n",
       "      <td>1.000000</td>\n",
       "      <td>0.750000</td>\n",
       "      <td>...</td>\n",
       "      <td>1.000000</td>\n",
       "      <td>1.0</td>\n",
       "      <td>1.000000</td>\n",
       "      <td>1.0</td>\n",
       "      <td>0.833333</td>\n",
       "      <td>0.000000</td>\n",
       "      <td>1.000000</td>\n",
       "      <td>1.000000</td>\n",
       "      <td>0.990741</td>\n",
       "      <td>0.993056</td>\n",
       "    </tr>\n",
       "    <tr>\n",
       "      <th>zng</th>\n",
       "      <td>0.990991</td>\n",
       "      <td>1.000000</td>\n",
       "      <td>0.954887</td>\n",
       "      <td>0.995349</td>\n",
       "      <td>1.000000</td>\n",
       "      <td>1.0</td>\n",
       "      <td>0.982659</td>\n",
       "      <td>1.0</td>\n",
       "      <td>0.985507</td>\n",
       "      <td>0.991150</td>\n",
       "      <td>...</td>\n",
       "      <td>0.991870</td>\n",
       "      <td>1.0</td>\n",
       "      <td>0.991150</td>\n",
       "      <td>1.0</td>\n",
       "      <td>0.982759</td>\n",
       "      <td>1.000000</td>\n",
       "      <td>0.000000</td>\n",
       "      <td>1.000000</td>\n",
       "      <td>0.960976</td>\n",
       "      <td>0.888393</td>\n",
       "    </tr>\n",
       "    <tr>\n",
       "      <th>zuh</th>\n",
       "      <td>1.000000</td>\n",
       "      <td>1.000000</td>\n",
       "      <td>0.970588</td>\n",
       "      <td>1.000000</td>\n",
       "      <td>1.000000</td>\n",
       "      <td>1.0</td>\n",
       "      <td>0.985915</td>\n",
       "      <td>1.0</td>\n",
       "      <td>1.000000</td>\n",
       "      <td>1.000000</td>\n",
       "      <td>...</td>\n",
       "      <td>1.000000</td>\n",
       "      <td>1.0</td>\n",
       "      <td>1.000000</td>\n",
       "      <td>1.0</td>\n",
       "      <td>1.000000</td>\n",
       "      <td>1.000000</td>\n",
       "      <td>1.000000</td>\n",
       "      <td>0.000000</td>\n",
       "      <td>1.000000</td>\n",
       "      <td>1.000000</td>\n",
       "    </tr>\n",
       "    <tr>\n",
       "      <th>zun</th>\n",
       "      <td>1.000000</td>\n",
       "      <td>1.000000</td>\n",
       "      <td>0.984848</td>\n",
       "      <td>0.995238</td>\n",
       "      <td>1.000000</td>\n",
       "      <td>1.0</td>\n",
       "      <td>0.994118</td>\n",
       "      <td>1.0</td>\n",
       "      <td>0.992537</td>\n",
       "      <td>1.000000</td>\n",
       "      <td>...</td>\n",
       "      <td>1.000000</td>\n",
       "      <td>1.0</td>\n",
       "      <td>1.000000</td>\n",
       "      <td>1.0</td>\n",
       "      <td>1.000000</td>\n",
       "      <td>0.990741</td>\n",
       "      <td>0.960976</td>\n",
       "      <td>1.000000</td>\n",
       "      <td>0.000000</td>\n",
       "      <td>0.943723</td>\n",
       "    </tr>\n",
       "    <tr>\n",
       "      <th>zzj</th>\n",
       "      <td>0.992958</td>\n",
       "      <td>1.000000</td>\n",
       "      <td>0.982036</td>\n",
       "      <td>0.983539</td>\n",
       "      <td>1.000000</td>\n",
       "      <td>1.0</td>\n",
       "      <td>0.970149</td>\n",
       "      <td>1.0</td>\n",
       "      <td>0.969880</td>\n",
       "      <td>0.993056</td>\n",
       "      <td>...</td>\n",
       "      <td>1.000000</td>\n",
       "      <td>1.0</td>\n",
       "      <td>0.993056</td>\n",
       "      <td>1.0</td>\n",
       "      <td>0.972414</td>\n",
       "      <td>0.993056</td>\n",
       "      <td>0.888393</td>\n",
       "      <td>1.000000</td>\n",
       "      <td>0.943723</td>\n",
       "      <td>0.000000</td>\n",
       "    </tr>\n",
       "  </tbody>\n",
       "</table>\n",
       "<p>1347 rows × 1347 columns</p>\n",
       "</div>"
      ],
      "text/plain": [
       "          aac       aax       aaz       abk       abq  abw       abz  aca  \\\n",
       "aac  0.000000  1.000000  0.968750  1.000000  1.000000  1.0  0.985507  1.0   \n",
       "aax  1.000000  0.000000  1.000000  0.991597  1.000000  1.0  0.987342  1.0   \n",
       "aaz  0.968750  1.000000  0.000000  1.000000  0.971429  1.0  0.956989  1.0   \n",
       "abk  1.000000  0.991597  1.000000  0.000000  1.000000  1.0  0.994220  1.0   \n",
       "abq  1.000000  1.000000  0.971429  1.000000  0.000000  1.0  1.000000  1.0   \n",
       "..        ...       ...       ...       ...       ...  ...       ...  ...   \n",
       "zmu  1.000000  1.000000  1.000000  0.990991  1.000000  1.0  1.000000  1.0   \n",
       "zng  0.990991  1.000000  0.954887  0.995349  1.000000  1.0  0.982659  1.0   \n",
       "zuh  1.000000  1.000000  0.970588  1.000000  1.000000  1.0  0.985915  1.0   \n",
       "zun  1.000000  1.000000  0.984848  0.995238  1.000000  1.0  0.994118  1.0   \n",
       "zzj  0.992958  1.000000  0.982036  0.983539  1.000000  1.0  0.970149  1.0   \n",
       "\n",
       "          acn       adg  ...       zin  ziz       zka  zku       zmc  \\\n",
       "aac  1.000000  1.000000  ...  1.000000  1.0  1.000000  1.0  0.909091   \n",
       "aax  1.000000  1.000000  ...  1.000000  1.0  1.000000  1.0  1.000000   \n",
       "aaz  1.000000  1.000000  ...  1.000000  1.0  0.970588  1.0  0.973684   \n",
       "abk  0.985294  1.000000  ...  0.983333  1.0  0.990991  1.0  1.000000   \n",
       "abq  1.000000  1.000000  ...  1.000000  1.0  1.000000  1.0  1.000000   \n",
       "..        ...       ...  ...       ...  ...       ...  ...       ...   \n",
       "zmu  1.000000  0.750000  ...  1.000000  1.0  1.000000  1.0  0.833333   \n",
       "zng  0.985507  0.991150  ...  0.991870  1.0  0.991150  1.0  0.982759   \n",
       "zuh  1.000000  1.000000  ...  1.000000  1.0  1.000000  1.0  1.000000   \n",
       "zun  0.992537  1.000000  ...  1.000000  1.0  1.000000  1.0  1.000000   \n",
       "zzj  0.969880  0.993056  ...  1.000000  1.0  0.993056  1.0  0.972414   \n",
       "\n",
       "          zmu       zng       zuh       zun       zzj  \n",
       "aac  1.000000  0.990991  1.000000  1.000000  0.992958  \n",
       "aax  1.000000  1.000000  1.000000  1.000000  1.000000  \n",
       "aaz  1.000000  0.954887  0.970588  0.984848  0.982036  \n",
       "abk  0.990991  0.995349  1.000000  0.995238  0.983539  \n",
       "abq  1.000000  1.000000  1.000000  1.000000  1.000000  \n",
       "..        ...       ...       ...       ...       ...  \n",
       "zmu  0.000000  1.000000  1.000000  0.990741  0.993056  \n",
       "zng  1.000000  0.000000  1.000000  0.960976  0.888393  \n",
       "zuh  1.000000  1.000000  0.000000  1.000000  1.000000  \n",
       "zun  0.990741  0.960976  1.000000  0.000000  0.943723  \n",
       "zzj  0.993056  0.888393  1.000000  0.943723  0.000000  \n",
       "\n",
       "[1347 rows x 1347 columns]"
      ]
     },
     "execution_count": 27,
     "metadata": {},
     "output_type": "execute_result"
    }
   ],
   "source": [
    "jaccard_df"
   ]
  },
  {
   "cell_type": "code",
   "execution_count": 66,
   "id": "eebad2ba-3826-4624-b073-dc77d2b47514",
   "metadata": {
    "execution": {
     "iopub.execute_input": "2024-10-06T22:53:30.305334Z",
     "iopub.status.busy": "2024-10-06T22:53:30.304412Z",
     "iopub.status.idle": "2024-10-06T22:53:31.784239Z",
     "shell.execute_reply": "2024-10-06T22:53:31.783843Z",
     "shell.execute_reply.started": "2024-10-06T22:53:30.305283Z"
    }
   },
   "outputs": [],
   "source": [
    "jaccard_df.to_csv(\"../datasets/lang2lang/clics3_jaccard.csv\")"
   ]
  },
  {
   "cell_type": "code",
   "execution_count": null,
   "id": "19f76607-f807-44e4-b371-0b7ee1ccc39f",
   "metadata": {},
   "outputs": [],
   "source": []
  },
  {
   "cell_type": "code",
   "execution_count": 4,
   "id": "ce42829e-e2f1-483f-bbf1-996d566a1ce9",
   "metadata": {
    "execution": {
     "iopub.execute_input": "2024-09-23T15:24:00.203180Z",
     "iopub.status.busy": "2024-09-23T15:24:00.202063Z",
     "iopub.status.idle": "2024-09-23T15:24:00.465253Z",
     "shell.execute_reply": "2024-09-23T15:24:00.464822Z",
     "shell.execute_reply.started": "2024-09-23T15:24:00.203137Z"
    }
   },
   "outputs": [],
   "source": [
    "colex_df= pd.read_csv(\"../datasets/colexifications/colex_clics3.csv\")"
   ]
  },
  {
   "cell_type": "code",
   "execution_count": 5,
   "id": "34338000-16ec-4584-b7d6-4d4085c24ad9",
   "metadata": {
    "execution": {
     "iopub.execute_input": "2024-09-23T15:24:02.595628Z",
     "iopub.status.busy": "2024-09-23T15:24:02.593257Z",
     "iopub.status.idle": "2024-09-23T15:24:02.622073Z",
     "shell.execute_reply": "2024-09-23T15:24:02.621608Z",
     "shell.execute_reply.started": "2024-09-23T15:24:02.595553Z"
    }
   },
   "outputs": [
    {
     "data": {
      "text/html": [
       "<div>\n",
       "<style scoped>\n",
       "    .dataframe tbody tr th:only-of-type {\n",
       "        vertical-align: middle;\n",
       "    }\n",
       "\n",
       "    .dataframe tbody tr th {\n",
       "        vertical-align: top;\n",
       "    }\n",
       "\n",
       "    .dataframe thead th {\n",
       "        text-align: right;\n",
       "    }\n",
       "</style>\n",
       "<table border=\"1\" class=\"dataframe\">\n",
       "  <thead>\n",
       "    <tr style=\"text-align: right;\">\n",
       "      <th></th>\n",
       "      <th>Form_ID_x</th>\n",
       "      <th>Form_ID_y</th>\n",
       "      <th>Concepticon_ID_x</th>\n",
       "      <th>Concepticon_ID_y</th>\n",
       "      <th>Colex_ID</th>\n",
       "      <th>Language_ID</th>\n",
       "      <th>Parameter_ID</th>\n",
       "      <th>Value</th>\n",
       "      <th>Form</th>\n",
       "      <th>Language_Name</th>\n",
       "      <th>...</th>\n",
       "      <th>ISO639P3code</th>\n",
       "      <th>Macroarea</th>\n",
       "      <th>Family</th>\n",
       "      <th>Wals_ID</th>\n",
       "      <th>Wals_Name</th>\n",
       "      <th>Latitude</th>\n",
       "      <th>Longitude</th>\n",
       "      <th>Glottocode_wals</th>\n",
       "      <th>Subfamily</th>\n",
       "      <th>Genus</th>\n",
       "    </tr>\n",
       "  </thead>\n",
       "  <tbody>\n",
       "    <tr>\n",
       "      <th>0</th>\n",
       "      <td>Chaozhou-61_soilearth-1</td>\n",
       "      <td>Chaozhou-60_mudearth-1</td>\n",
       "      <td>1228</td>\n",
       "      <td>640</td>\n",
       "      <td>0</td>\n",
       "      <td>Chaozhou</td>\n",
       "      <td>61_soilearth</td>\n",
       "      <td>tʰou⁵⁵</td>\n",
       "      <td>tʰou⁵⁵</td>\n",
       "      <td>Chaozhou</td>\n",
       "      <td>...</td>\n",
       "      <td>NaN</td>\n",
       "      <td>Eurasia</td>\n",
       "      <td>Sino-Tibetan</td>\n",
       "      <td>NaN</td>\n",
       "      <td>NaN</td>\n",
       "      <td>NaN</td>\n",
       "      <td>NaN</td>\n",
       "      <td>NaN</td>\n",
       "      <td>NaN</td>\n",
       "      <td>NaN</td>\n",
       "    </tr>\n",
       "    <tr>\n",
       "      <th>1</th>\n",
       "      <td>Chengdu-61_soilearth-1</td>\n",
       "      <td>Chengdu-60_mudearth-1</td>\n",
       "      <td>1228</td>\n",
       "      <td>640</td>\n",
       "      <td>0</td>\n",
       "      <td>Chengdu</td>\n",
       "      <td>61_soilearth</td>\n",
       "      <td>ȵi³¹pa⁴⁴</td>\n",
       "      <td>ȵi³¹pa⁴⁴</td>\n",
       "      <td>Chengdu</td>\n",
       "      <td>...</td>\n",
       "      <td>NaN</td>\n",
       "      <td>NaN</td>\n",
       "      <td>Sino-Tibetan</td>\n",
       "      <td>NaN</td>\n",
       "      <td>NaN</td>\n",
       "      <td>NaN</td>\n",
       "      <td>NaN</td>\n",
       "      <td>NaN</td>\n",
       "      <td>NaN</td>\n",
       "      <td>NaN</td>\n",
       "    </tr>\n",
       "  </tbody>\n",
       "</table>\n",
       "<p>2 rows × 22 columns</p>\n",
       "</div>"
      ],
      "text/plain": [
       "                 Form_ID_x               Form_ID_y  Concepticon_ID_x  \\\n",
       "0  Chaozhou-61_soilearth-1  Chaozhou-60_mudearth-1              1228   \n",
       "1   Chengdu-61_soilearth-1   Chengdu-60_mudearth-1              1228   \n",
       "\n",
       "   Concepticon_ID_y  Colex_ID Language_ID  Parameter_ID     Value      Form  \\\n",
       "0               640         0    Chaozhou  61_soilearth    tʰou⁵⁵    tʰou⁵⁵   \n",
       "1               640         0     Chengdu  61_soilearth  ȵi³¹pa⁴⁴  ȵi³¹pa⁴⁴   \n",
       "\n",
       "  Language_Name  ... ISO639P3code Macroarea        Family Wals_ID Wals_Name  \\\n",
       "0      Chaozhou  ...          NaN   Eurasia  Sino-Tibetan     NaN       NaN   \n",
       "1       Chengdu  ...          NaN       NaN  Sino-Tibetan     NaN       NaN   \n",
       "\n",
       "  Latitude Longitude  Glottocode_wals  Subfamily Genus  \n",
       "0      NaN       NaN              NaN        NaN   NaN  \n",
       "1      NaN       NaN              NaN        NaN   NaN  \n",
       "\n",
       "[2 rows x 22 columns]"
      ]
     },
     "execution_count": 5,
     "metadata": {},
     "output_type": "execute_result"
    }
   ],
   "source": [
    "colex_df.head(2)"
   ]
  },
  {
   "cell_type": "code",
   "execution_count": 6,
   "id": "a4135c03-953e-414b-87ad-0946016e1ad2",
   "metadata": {
    "execution": {
     "iopub.execute_input": "2024-09-23T15:24:09.976807Z",
     "iopub.status.busy": "2024-09-23T15:24:09.976266Z",
     "iopub.status.idle": "2024-09-23T15:24:11.347920Z",
     "shell.execute_reply": "2024-09-23T15:24:11.347414Z",
     "shell.execute_reply.started": "2024-09-23T15:24:09.976774Z"
    },
    "scrolled": true
   },
   "outputs": [
    {
     "name": "stdout",
     "output_type": "stream",
     "text": [
      "len of colexification df: 76346\n",
      "len of df after droping duplicates for Glottocode_clics: 66827\n"
     ]
    }
   ],
   "source": [
    "colex_dict, num_of_colexification_ignoring_forms =  co_occurrence_table(colex_df, \"Glottocode_clics\")"
   ]
  },
  {
   "cell_type": "code",
   "execution_count": 7,
   "id": "7020003a-8383-4513-b80d-94ac61653215",
   "metadata": {
    "execution": {
     "iopub.execute_input": "2024-09-23T15:24:14.878105Z",
     "iopub.status.busy": "2024-09-23T15:24:14.877338Z",
     "iopub.status.idle": "2024-09-23T15:24:14.911185Z",
     "shell.execute_reply": "2024-09-23T15:24:14.910581Z",
     "shell.execute_reply.started": "2024-09-23T15:24:14.878065Z"
    }
   },
   "outputs": [],
   "source": [
    "glotto2colex_nr = colex_df.groupby([\"Glottocode_clics\"])[\"Colex_ID\"].count().to_dict()"
   ]
  },
  {
   "cell_type": "code",
   "execution_count": 8,
   "id": "abff5e20-53ac-4af7-9e51-e8a6781cb63a",
   "metadata": {
    "execution": {
     "iopub.execute_input": "2024-09-23T15:24:30.727442Z",
     "iopub.status.busy": "2024-09-23T15:24:30.726244Z",
     "iopub.status.idle": "2024-09-23T15:24:30.738060Z",
     "shell.execute_reply": "2024-09-23T15:24:30.736517Z",
     "shell.execute_reply.started": "2024-09-23T15:24:30.727367Z"
    },
    "scrolled": true
   },
   "outputs": [],
   "source": [
    "colexnr_array = list(glotto2colex_nr.values())"
   ]
  },
  {
   "cell_type": "markdown",
   "id": "9707c9af-90e3-4c1d-8e36-b50911b89a9d",
   "metadata": {},
   "source": [
    "## Finding the threshold for including languages which contain colexifications"
   ]
  },
  {
   "cell_type": "code",
   "execution_count": 9,
   "id": "317539d7-a421-4b6b-aa5a-41e52a676250",
   "metadata": {
    "execution": {
     "iopub.execute_input": "2024-09-23T15:25:21.765139Z",
     "iopub.status.busy": "2024-09-23T15:25:21.764073Z",
     "iopub.status.idle": "2024-09-23T15:25:21.779535Z",
     "shell.execute_reply": "2024-09-23T15:25:21.778015Z",
     "shell.execute_reply.started": "2024-09-23T15:25:21.765077Z"
    }
   },
   "outputs": [
    {
     "data": {
      "text/plain": [
       "np.int64(1335)"
      ]
     },
     "execution_count": 9,
     "metadata": {},
     "output_type": "execute_result"
    }
   ],
   "source": [
    "np.max(colexnr_array)"
   ]
  },
  {
   "cell_type": "code",
   "execution_count": 18,
   "id": "a4a84d97-3341-409c-ad2b-334eaeb157e5",
   "metadata": {
    "execution": {
     "iopub.execute_input": "2024-09-23T15:28:22.646930Z",
     "iopub.status.busy": "2024-09-23T15:28:22.645939Z",
     "iopub.status.idle": "2024-09-23T15:28:22.660817Z",
     "shell.execute_reply": "2024-09-23T15:28:22.659211Z",
     "shell.execute_reply.started": "2024-09-23T15:28:22.646880Z"
    }
   },
   "outputs": [],
   "source": [
    "def get_quantile_box(arr):\n",
    "    # quantiles=np.quantile(arr, np.linspace(0,1,1335))\n",
    "    # plt.plot(np.linspace(0,1,1335), quantiles)\n",
    "    plt.boxplot(arr)\n",
    "    plt.xlabel('Quantile')\n",
    "    plt.ylabel('Value')\n",
    "    plt.title('Quantile Plot')\n",
    "    plt.show()"
   ]
  },
  {
   "cell_type": "code",
   "execution_count": 23,
   "id": "f463b701-80d2-471d-ab80-31fa216b8987",
   "metadata": {
    "execution": {
     "iopub.execute_input": "2024-09-23T15:29:50.868866Z",
     "iopub.status.busy": "2024-09-23T15:29:50.867894Z",
     "iopub.status.idle": "2024-09-23T15:29:50.886767Z",
     "shell.execute_reply": "2024-09-23T15:29:50.883694Z",
     "shell.execute_reply.started": "2024-09-23T15:29:50.868815Z"
    }
   },
   "outputs": [
    {
     "name": "stdout",
     "output_type": "stream",
     "text": [
      "The 25% quantile is: 3.0000\n"
     ]
    }
   ],
   "source": [
    "q25 = np.quantile(colexnr_array, 0.25)\n",
    "\n",
    "print(f\"The 25% quantile is: {q25:.4f}\")"
   ]
  },
  {
   "cell_type": "code",
   "execution_count": 19,
   "id": "86e29df3-c283-4a1b-9741-8c68103a8f9a",
   "metadata": {
    "execution": {
     "iopub.execute_input": "2024-09-23T15:28:25.183307Z",
     "iopub.status.busy": "2024-09-23T15:28:25.182130Z",
     "iopub.status.idle": "2024-09-23T15:28:25.291547Z",
     "shell.execute_reply": "2024-09-23T15:28:25.290932Z",
     "shell.execute_reply.started": "2024-09-23T15:28:25.183237Z"
    }
   },
   "outputs": [
    {
     "data": {
      "image/png": "[encoded data removed]",
      "text/plain": [
       "<Figure size 640x480 with 1 Axes>"
      ]
     },
     "metadata": {},
     "output_type": "display_data"
    }
   ],
   "source": [
    "get_quantile_box(colexnr_array)"
   ]
  },
  {
   "cell_type": "code",
   "execution_count": 20,
   "id": "d464994b-8e75-4f93-b320-1ad6153c1b11",
   "metadata": {
    "execution": {
     "iopub.execute_input": "2024-09-23T15:28:56.941668Z",
     "iopub.status.busy": "2024-09-23T15:28:56.940409Z",
     "iopub.status.idle": "2024-09-23T15:28:56.953096Z",
     "shell.execute_reply": "2024-09-23T15:28:56.952133Z",
     "shell.execute_reply.started": "2024-09-23T15:28:56.941591Z"
    }
   },
   "outputs": [],
   "source": [
    "def get_quantile_violin(arr):\n",
    "    # quantiles=np.quantile(arr, np.linspace(0,1,1335))\n",
    "    # plt.plot(np.linspace(0,1,1335), quantiles)\n",
    "    plt.violinplot(arr)\n",
    "    plt.xlabel('Quantile')\n",
    "    plt.ylabel('Value')\n",
    "    plt.title('Quantile Plot')\n",
    "    plt.show()"
   ]
  },
  {
   "cell_type": "code",
   "execution_count": 22,
   "id": "ec3061c3-e13d-44bb-bcf9-cbc1665c8296",
   "metadata": {
    "execution": {
     "iopub.execute_input": "2024-09-23T15:29:08.480928Z",
     "iopub.status.busy": "2024-09-23T15:29:08.480111Z",
     "iopub.status.idle": "2024-09-23T15:29:08.608435Z",
     "shell.execute_reply": "2024-09-23T15:29:08.607885Z",
     "shell.execute_reply.started": "2024-09-23T15:29:08.480882Z"
    }
   },
   "outputs": [
    {
     "data": {
      "image/png": "[encoded data removed]",
      "text/plain": [
       "<Figure size 640x480 with 1 Axes>"
      ]
     },
     "metadata": {},
     "output_type": "display_data"
    }
   ],
   "source": [
    "get_quantile_violin(colexnr_array)"
   ]
  },
  {
   "cell_type": "code",
   "execution_count": 24,
   "id": "7c0e0f33-9e25-4c9d-a179-1bac31c955ae",
   "metadata": {
    "execution": {
     "iopub.execute_input": "2024-09-23T15:32:55.113917Z",
     "iopub.status.busy": "2024-09-23T15:32:55.113011Z",
     "iopub.status.idle": "2024-09-23T15:32:55.124965Z",
     "shell.execute_reply": "2024-09-23T15:32:55.123392Z",
     "shell.execute_reply.started": "2024-09-23T15:32:55.113876Z"
    }
   },
   "outputs": [],
   "source": [
    "lang2colex_nr = {lang: colex_nr for lang,colex_nr in glotto2colex_nr.items() if colex_nr>=3}"
   ]
  },
  {
   "cell_type": "code",
   "execution_count": 27,
   "id": "19fad906-109c-4ba9-abe8-a11ba85342cc",
   "metadata": {
    "execution": {
     "iopub.execute_input": "2024-09-23T15:33:25.656261Z",
     "iopub.status.busy": "2024-09-23T15:33:25.655264Z",
     "iopub.status.idle": "2024-09-23T15:33:25.671311Z",
     "shell.execute_reply": "2024-09-23T15:33:25.669870Z",
     "shell.execute_reply.started": "2024-09-23T15:33:25.656205Z"
    }
   },
   "outputs": [
    {
     "data": {
      "text/plain": [
       "(1641, 1989)"
      ]
     },
     "execution_count": 27,
     "metadata": {},
     "output_type": "execute_result"
    }
   ],
   "source": [
    "len(lang2colex_nr), len(glotto2colex_nr)"
   ]
  },
  {
   "cell_type": "code",
   "execution_count": 31,
   "id": "7a316211-6fb2-4ada-a8d0-25920d0a1634",
   "metadata": {
    "execution": {
     "iopub.execute_input": "2024-09-23T15:35:43.259629Z",
     "iopub.status.busy": "2024-09-23T15:35:43.258480Z",
     "iopub.status.idle": "2024-09-23T15:35:43.269925Z",
     "shell.execute_reply": "2024-09-23T15:35:43.266978Z",
     "shell.execute_reply.started": "2024-09-23T15:35:43.259551Z"
    },
    "scrolled": true
   },
   "outputs": [],
   "source": [
    "langs_list = list(lang2colex_nr.keys())"
   ]
  },
  {
   "cell_type": "code",
   "execution_count": 38,
   "id": "65b5d26f-6c54-47ad-8654-7de068d7c7d8",
   "metadata": {
    "execution": {
     "iopub.execute_input": "2024-09-23T15:41:05.006202Z",
     "iopub.status.busy": "2024-09-23T15:41:05.005049Z",
     "iopub.status.idle": "2024-09-23T15:41:05.264555Z",
     "shell.execute_reply": "2024-09-23T15:41:05.264161Z",
     "shell.execute_reply.started": "2024-09-23T15:41:05.006130Z"
    },
    "scrolled": true
   },
   "outputs": [],
   "source": [
    "df = pd.DataFrame(list(colex_dict.items()), columns=[\"Key\", \"Value\"])"
   ]
  },
  {
   "cell_type": "code",
   "execution_count": 40,
   "id": "22a907b1-2ac6-423a-be64-d0ef47d98f92",
   "metadata": {
    "execution": {
     "iopub.execute_input": "2024-09-23T15:41:40.098489Z",
     "iopub.status.busy": "2024-09-23T15:41:40.096814Z",
     "iopub.status.idle": "2024-09-23T15:41:40.169299Z",
     "shell.execute_reply": "2024-09-23T15:41:40.168813Z",
     "shell.execute_reply.started": "2024-09-23T15:41:40.098428Z"
    },
    "scrolled": true
   },
   "outputs": [],
   "source": [
    "df[[\"Target\", \"Source\"]] = pd.DataFrame(df[\"Key\"].tolist(), index=df.index)"
   ]
  },
  {
   "cell_type": "code",
   "execution_count": 44,
   "id": "55cee592-eb5d-4fdc-a019-199b35f5f664",
   "metadata": {
    "execution": {
     "iopub.execute_input": "2024-09-23T15:42:46.911535Z",
     "iopub.status.busy": "2024-09-23T15:42:46.910769Z",
     "iopub.status.idle": "2024-09-23T15:42:46.933667Z",
     "shell.execute_reply": "2024-09-23T15:42:46.932602Z",
     "shell.execute_reply.started": "2024-09-23T15:42:46.911493Z"
    }
   },
   "outputs": [],
   "source": [
    "df = df.rename(columns={\"Value\":\"Weight\"})"
   ]
  },
  {
   "cell_type": "code",
   "execution_count": 45,
   "id": "08f26f62-59c9-4f92-8ddb-131a3497d64f",
   "metadata": {
    "execution": {
     "iopub.execute_input": "2024-09-23T15:43:08.196974Z",
     "iopub.status.busy": "2024-09-23T15:43:08.194675Z",
     "iopub.status.idle": "2024-09-23T15:43:08.229270Z",
     "shell.execute_reply": "2024-09-23T15:43:08.228749Z",
     "shell.execute_reply.started": "2024-09-23T15:43:08.196882Z"
    }
   },
   "outputs": [],
   "source": [
    "df = df[[\"Target\", \"Source\", \"Weight\"]]"
   ]
  },
  {
   "cell_type": "code",
   "execution_count": 49,
   "id": "06bbc81c-8fa1-487b-b28d-11eeda01f744",
   "metadata": {
    "execution": {
     "iopub.execute_input": "2024-09-23T15:44:33.967323Z",
     "iopub.status.busy": "2024-09-23T15:44:33.966405Z",
     "iopub.status.idle": "2024-09-23T15:44:34.323381Z",
     "shell.execute_reply": "2024-09-23T15:44:34.322963Z",
     "shell.execute_reply.started": "2024-09-23T15:44:33.967269Z"
    }
   },
   "outputs": [],
   "source": [
    "df[\"Colex_target\"] = df[\"Target\"].apply(lambda x: lang2colex_nr.get(x, None))\n",
    "df[\"Colex_source\"] = df[\"Source\"].apply(lambda x: lang2colex_nr.get(x, None))"
   ]
  },
  {
   "cell_type": "code",
   "execution_count": 51,
   "id": "cc8c5205-35d4-45c1-9a9d-bd497e478c6f",
   "metadata": {
    "execution": {
     "iopub.execute_input": "2024-09-23T15:44:43.750056Z",
     "iopub.status.busy": "2024-09-23T15:44:43.749091Z",
     "iopub.status.idle": "2024-09-23T15:44:43.827007Z",
     "shell.execute_reply": "2024-09-23T15:44:43.826504Z",
     "shell.execute_reply.started": "2024-09-23T15:44:43.749917Z"
    }
   },
   "outputs": [],
   "source": [
    "df = df.dropna()"
   ]
  },
  {
   "cell_type": "code",
   "execution_count": 58,
   "id": "a634b113-a26c-48da-af54-3f178a745ebe",
   "metadata": {
    "execution": {
     "iopub.execute_input": "2024-09-23T16:22:34.693965Z",
     "iopub.status.busy": "2024-09-23T16:22:34.693285Z",
     "iopub.status.idle": "2024-09-23T16:22:34.714728Z",
     "shell.execute_reply": "2024-09-23T16:22:34.713761Z",
     "shell.execute_reply.started": "2024-09-23T16:22:34.693915Z"
    }
   },
   "outputs": [
    {
     "data": {
      "text/html": [
       "<div>\n",
       "<style scoped>\n",
       "    .dataframe tbody tr th:only-of-type {\n",
       "        vertical-align: middle;\n",
       "    }\n",
       "\n",
       "    .dataframe tbody tr th {\n",
       "        vertical-align: top;\n",
       "    }\n",
       "\n",
       "    .dataframe thead th {\n",
       "        text-align: right;\n",
       "    }\n",
       "</style>\n",
       "<table border=\"1\" class=\"dataframe\">\n",
       "  <thead>\n",
       "    <tr style=\"text-align: right;\">\n",
       "      <th></th>\n",
       "      <th>Target</th>\n",
       "      <th>Source</th>\n",
       "      <th>Weight</th>\n",
       "      <th>Colex_target</th>\n",
       "      <th>Colex_source</th>\n",
       "    </tr>\n",
       "  </thead>\n",
       "  <tbody>\n",
       "    <tr>\n",
       "      <th>0</th>\n",
       "      <td>chao1238</td>\n",
       "      <td>chen1267</td>\n",
       "      <td>3</td>\n",
       "      <td>8.0</td>\n",
       "      <td>9.0</td>\n",
       "    </tr>\n",
       "    <tr>\n",
       "      <th>1</th>\n",
       "      <td>chao1238</td>\n",
       "      <td>fuzh1239</td>\n",
       "      <td>4</td>\n",
       "      <td>8.0</td>\n",
       "      <td>7.0</td>\n",
       "    </tr>\n",
       "  </tbody>\n",
       "</table>\n",
       "</div>"
      ],
      "text/plain": [
       "     Target    Source  Weight  Colex_target  Colex_source\n",
       "0  chao1238  chen1267       3           8.0           9.0\n",
       "1  chao1238  fuzh1239       4           8.0           7.0"
      ]
     },
     "execution_count": 58,
     "metadata": {},
     "output_type": "execute_result"
    }
   ],
   "source": [
    "df.head(2) "
   ]
  },
  {
   "cell_type": "code",
   "execution_count": 54,
   "id": "685ed65b-cd73-49e9-9055-2d421b987067",
   "metadata": {
    "execution": {
     "iopub.execute_input": "2024-09-23T16:12:40.098861Z",
     "iopub.status.busy": "2024-09-23T16:12:40.098116Z",
     "iopub.status.idle": "2024-09-23T16:12:57.448394Z",
     "shell.execute_reply": "2024-09-23T16:12:57.447944Z",
     "shell.execute_reply.started": "2024-09-23T16:12:40.098825Z"
    }
   },
   "outputs": [],
   "source": [
    "from nltk.metrics import *\n",
    "import pandas as pd\n",
    "\n",
    "bm = BigramAssocMeasures"
   ]
  },
  {
   "cell_type": "code",
   "execution_count": 55,
   "id": "1eeb56a5-6aaa-45e2-883a-56b5a8ce332e",
   "metadata": {
    "execution": {
     "iopub.execute_input": "2024-09-23T16:14:32.996163Z",
     "iopub.status.busy": "2024-09-23T16:14:32.994870Z",
     "iopub.status.idle": "2024-09-23T16:14:33.009182Z",
     "shell.execute_reply": "2024-09-23T16:14:33.007741Z",
     "shell.execute_reply.started": "2024-09-23T16:14:32.996094Z"
    }
   },
   "outputs": [
    {
     "data": {
      "text/plain": [
       "75842"
      ]
     },
     "execution_count": 55,
     "metadata": {},
     "output_type": "execute_result"
    }
   ],
   "source": [
    "total_colex_nr = sum(list(lang2colex_nr.values()))\n",
    "total_colex_nr"
   ]
  },
  {
   "cell_type": "code",
   "execution_count": 59,
   "id": "fdc0e58d-06c2-42ea-af97-ed03ca8a75a0",
   "metadata": {
    "execution": {
     "iopub.execute_input": "2024-09-23T16:22:49.187405Z",
     "iopub.status.busy": "2024-09-23T16:22:49.186872Z",
     "iopub.status.idle": "2024-09-23T16:22:49.192657Z",
     "shell.execute_reply": "2024-09-23T16:22:49.191706Z",
     "shell.execute_reply.started": "2024-09-23T16:22:49.187371Z"
    }
   },
   "outputs": [],
   "source": [
    "def calculate_pmi(x,y,z):\n",
    "    pmi = bm.pmi(x,(y,z), total_colex_nr)\n",
    "    return pmi"
   ]
  },
  {
   "cell_type": "code",
   "execution_count": 60,
   "id": "bd2d6f83-43be-4968-b45d-36bd55255880",
   "metadata": {
    "execution": {
     "iopub.execute_input": "2024-09-23T16:23:41.365578Z",
     "iopub.status.busy": "2024-09-23T16:23:41.364825Z",
     "iopub.status.idle": "2024-09-23T16:23:45.853206Z",
     "shell.execute_reply": "2024-09-23T16:23:45.852744Z",
     "shell.execute_reply.started": "2024-09-23T16:23:41.365539Z"
    }
   },
   "outputs": [
    {
     "name": "stderr",
     "output_type": "stream",
     "text": [
      "/var/folders/bj/qp6k2wl11h5gpn8j4hg0tgf40000gn/T/ipykernel_94032/4107798813.py:1: SettingWithCopyWarning: \n",
      "A value is trying to be set on a copy of a slice from a DataFrame.\n",
      "Try using .loc[row_indexer,col_indexer] = value instead\n",
      "\n",
      "See the caveats in the documentation: https://pandas.pydata.org/pandas-docs/stable/user_guide/indexing.html#returning-a-view-versus-a-copy\n",
      "  df[\"pmi\"] = df.apply(lambda row: calculate_pmi(row[\"Weight\"], row[\"Colex_target\"], row[\"Colex_source\"]), axis=1)\n"
     ]
    }
   ],
   "source": [
    "df[\"pmi\"] = df.apply(lambda row: calculate_pmi(row[\"Weight\"], row[\"Colex_target\"], row[\"Colex_source\"]), axis=1)"
   ]
  },
  {
   "cell_type": "code",
   "execution_count": 63,
   "id": "d93323bb-db90-4ed2-a60c-57023dde56ee",
   "metadata": {
    "execution": {
     "iopub.execute_input": "2024-09-23T16:26:33.640130Z",
     "iopub.status.busy": "2024-09-23T16:26:33.639259Z",
     "iopub.status.idle": "2024-09-23T16:26:35.257348Z",
     "shell.execute_reply": "2024-09-23T16:26:35.256469Z",
     "shell.execute_reply.started": "2024-09-23T16:26:33.640065Z"
    }
   },
   "outputs": [],
   "source": [
    "df.to_csv(\"../datasets/lang2lang/clics3.csv\", index=False)"
   ]
  },
  {
   "cell_type": "code",
   "execution_count": 64,
   "id": "1a1f7aaa-3f31-45be-99ef-7debe5ce7ee4",
   "metadata": {
    "execution": {
     "iopub.execute_input": "2024-09-23T16:28:31.284581Z",
     "iopub.status.busy": "2024-09-23T16:28:31.284038Z",
     "iopub.status.idle": "2024-09-23T16:28:31.291615Z",
     "shell.execute_reply": "2024-09-23T16:28:31.290406Z",
     "shell.execute_reply.started": "2024-09-23T16:28:31.284547Z"
    }
   },
   "outputs": [],
   "source": [
    "def get_boxplot(arr):\n",
    "    # quantiles=np.quantile(arr, np.linspace(0,1,1335))\n",
    "    # plt.plot(np.linspace(0,1,1335), quantiles)\n",
    "    plt.boxplot(arr)\n",
    "    plt.xlabel('PMI')\n",
    "    plt.ylabel('Value')\n",
    "    plt.title('Plot')\n",
    "    plt.show()"
   ]
  },
  {
   "cell_type": "code",
   "execution_count": 65,
   "id": "20d477d0-3032-4aab-a73a-1b05e41f32f7",
   "metadata": {
    "execution": {
     "iopub.execute_input": "2024-09-23T16:28:42.798120Z",
     "iopub.status.busy": "2024-09-23T16:28:42.797222Z",
     "iopub.status.idle": "2024-09-23T16:28:43.922852Z",
     "shell.execute_reply": "2024-09-23T16:28:43.922383Z",
     "shell.execute_reply.started": "2024-09-23T16:28:42.798077Z"
    },
    "scrolled": true
   },
   "outputs": [
    {
     "data": {
      "image/png": "[encoded data removed]",
      "text/plain": [
       "<Figure size 640x480 with 1 Axes>"
      ]
     },
     "metadata": {},
     "output_type": "display_data"
    }
   ],
   "source": [
    "get_boxplot(df[\"pmi\"].tolist())"
   ]
  },
  {
   "cell_type": "code",
   "execution_count": null,
   "id": "f67957f0-0173-48e9-91b6-f63d077c7413",
   "metadata": {},
   "outputs": [],
   "source": []
  },
  {
   "cell_type": "code",
   "execution_count": null,
   "id": "26105231-e42f-445f-bb53-1c23bd5910fa",
   "metadata": {},
   "outputs": [],
   "source": []
  },
  {
   "cell_type": "code",
   "execution_count": null,
   "id": "2076b733-414b-42ee-895d-17c42fc5b582",
   "metadata": {},
   "outputs": [],
   "source": []
  },
  {
   "cell_type": "code",
   "execution_count": 2,
   "id": "4da6f96b-c57c-452a-a175-fc9a902aa806",
   "metadata": {
    "execution": {
     "iopub.execute_input": "2024-09-23T20:57:15.042692Z",
     "iopub.status.busy": "2024-09-23T20:57:15.041882Z",
     "iopub.status.idle": "2024-09-23T20:57:15.258191Z",
     "shell.execute_reply": "2024-09-23T20:57:15.257723Z",
     "shell.execute_reply.started": "2024-09-23T20:57:15.042644Z"
    }
   },
   "outputs": [],
   "source": [
    "df = pd.read_csv(\"../datasets/lang2lang/clics3.csv\")"
   ]
  },
  {
   "cell_type": "code",
   "execution_count": 10,
   "id": "7866b75e-bdc7-4ef9-9713-dbb234f43527",
   "metadata": {
    "execution": {
     "iopub.execute_input": "2024-09-23T21:05:32.351002Z",
     "iopub.status.busy": "2024-09-23T21:05:32.349363Z",
     "iopub.status.idle": "2024-09-23T21:05:32.364201Z",
     "shell.execute_reply": "2024-09-23T21:05:32.363387Z",
     "shell.execute_reply.started": "2024-09-23T21:05:32.350938Z"
    }
   },
   "outputs": [],
   "source": [
    "x_min=df[\"pmi\"].min()\n",
    "x_max=df[\"pmi\"].max()"
   ]
  },
  {
   "cell_type": "code",
   "execution_count": 11,
   "id": "67b2e658-e666-47ab-bde1-d0887afe5947",
   "metadata": {
    "execution": {
     "iopub.execute_input": "2024-09-23T21:05:51.416745Z",
     "iopub.status.busy": "2024-09-23T21:05:51.415830Z",
     "iopub.status.idle": "2024-09-23T21:05:51.435134Z",
     "shell.execute_reply": "2024-09-23T21:05:51.433797Z",
     "shell.execute_reply.started": "2024-09-23T21:05:51.416706Z"
    }
   },
   "outputs": [
    {
     "data": {
      "text/plain": [
       "(np.float64(-3.10560529248788), np.float64(14.625746888318115))"
      ]
     },
     "execution_count": 11,
     "metadata": {},
     "output_type": "execute_result"
    }
   ],
   "source": [
    "x_min, x_max"
   ]
  },
  {
   "cell_type": "code",
   "execution_count": 12,
   "id": "47bb3339-da22-4ebd-b7cc-76c86cbbe23a",
   "metadata": {
    "execution": {
     "iopub.execute_input": "2024-09-23T21:05:58.214142Z",
     "iopub.status.busy": "2024-09-23T21:05:58.213211Z",
     "iopub.status.idle": "2024-09-23T21:05:58.228471Z",
     "shell.execute_reply": "2024-09-23T21:05:58.224533Z",
     "shell.execute_reply.started": "2024-09-23T21:05:58.214097Z"
    }
   },
   "outputs": [],
   "source": [
    "def normalize(x):\n",
    "    return (x - x_min) / (x_max - x_min)"
   ]
  },
  {
   "cell_type": "code",
   "execution_count": 72,
   "id": "9ee4479a-1d2a-4e8d-b247-cef29209aea5",
   "metadata": {
    "execution": {
     "iopub.execute_input": "2024-09-24T13:50:54.768633Z",
     "iopub.status.busy": "2024-09-24T13:50:54.768127Z",
     "iopub.status.idle": "2024-09-24T13:50:54.790147Z",
     "shell.execute_reply": "2024-09-24T13:50:54.789195Z",
     "shell.execute_reply.started": "2024-09-24T13:50:54.768602Z"
    }
   },
   "outputs": [
    {
     "data": {
      "text/html": [
       "<div>\n",
       "<style scoped>\n",
       "    .dataframe tbody tr th:only-of-type {\n",
       "        vertical-align: middle;\n",
       "    }\n",
       "\n",
       "    .dataframe tbody tr th {\n",
       "        vertical-align: top;\n",
       "    }\n",
       "\n",
       "    .dataframe thead th {\n",
       "        text-align: right;\n",
       "    }\n",
       "</style>\n",
       "<table border=\"1\" class=\"dataframe\">\n",
       "  <thead>\n",
       "    <tr style=\"text-align: right;\">\n",
       "      <th></th>\n",
       "      <th>Target</th>\n",
       "      <th>Source</th>\n",
       "      <th>Weight</th>\n",
       "      <th>Colex_target</th>\n",
       "      <th>Colex_source</th>\n",
       "      <th>pmi</th>\n",
       "      <th>pmi_norm</th>\n",
       "    </tr>\n",
       "  </thead>\n",
       "  <tbody>\n",
       "    <tr>\n",
       "      <th>0</th>\n",
       "      <td>chao1238</td>\n",
       "      <td>chen1267</td>\n",
       "      <td>3</td>\n",
       "      <td>8.0</td>\n",
       "      <td>9.0</td>\n",
       "      <td>11.625747</td>\n",
       "      <td>0.830808</td>\n",
       "    </tr>\n",
       "    <tr>\n",
       "      <th>1</th>\n",
       "      <td>chao1238</td>\n",
       "      <td>fuzh1239</td>\n",
       "      <td>4</td>\n",
       "      <td>8.0</td>\n",
       "      <td>7.0</td>\n",
       "      <td>12.403354</td>\n",
       "      <td>0.874663</td>\n",
       "    </tr>\n",
       "  </tbody>\n",
       "</table>\n",
       "</div>"
      ],
      "text/plain": [
       "     Target    Source  Weight  Colex_target  Colex_source        pmi  pmi_norm\n",
       "0  chao1238  chen1267       3           8.0           9.0  11.625747  0.830808\n",
       "1  chao1238  fuzh1239       4           8.0           7.0  12.403354  0.874663"
      ]
     },
     "execution_count": 72,
     "metadata": {},
     "output_type": "execute_result"
    }
   ],
   "source": [
    "df.head(2)"
   ]
  },
  {
   "cell_type": "code",
   "execution_count": 13,
   "id": "3943204f-17d6-4c79-ac34-92aa99cf060d",
   "metadata": {
    "execution": {
     "iopub.execute_input": "2024-09-23T21:06:05.545280Z",
     "iopub.status.busy": "2024-09-23T21:06:05.543988Z",
     "iopub.status.idle": "2024-09-23T21:06:05.820511Z",
     "shell.execute_reply": "2024-09-23T21:06:05.819959Z",
     "shell.execute_reply.started": "2024-09-23T21:06:05.545207Z"
    }
   },
   "outputs": [],
   "source": [
    "df[\"pmi_norm\"] = df[\"pmi\"].apply(normalize)"
   ]
  },
  {
   "cell_type": "code",
   "execution_count": 15,
   "id": "8befa85b-a68f-4b4c-94c4-6e168827ae2f",
   "metadata": {
    "execution": {
     "iopub.execute_input": "2024-09-23T21:06:38.805524Z",
     "iopub.status.busy": "2024-09-23T21:06:38.804253Z",
     "iopub.status.idle": "2024-09-23T21:06:40.891580Z",
     "shell.execute_reply": "2024-09-23T21:06:40.891187Z",
     "shell.execute_reply.started": "2024-09-23T21:06:38.805454Z"
    }
   },
   "outputs": [],
   "source": [
    "df.to_csv(\"../datasets/lang2lang/clics3.csv\", index=False)"
   ]
  },
  {
   "cell_type": "code",
   "execution_count": null,
   "id": "ab47c995-3d04-4829-841b-89544c18fd6c",
   "metadata": {},
   "outputs": [],
   "source": []
  },
  {
   "cell_type": "code",
   "execution_count": null,
   "id": "c58e8c6f-df6e-43df-9b17-3ef4e7e58c91",
   "metadata": {},
   "outputs": [],
   "source": []
  }
 ],
 "metadata": {
  "kernelspec": {
   "display_name": "envlc",
   "language": "python",
   "name": "envlc"
  },
  "language_info": {
   "codemirror_mode": {
    "name": "ipython",
    "version": 3
   },
   "file_extension": ".py",
   "mimetype": "text/x-python",
   "name": "python",
   "nbconvert_exporter": "python",
   "pygments_lexer": "ipython3",
   "version": "3.12.0"
  }
 },
 "nbformat": 4,
 "nbformat_minor": 5
}
