{
 "cells": [
  {
   "cell_type": "code",
   "execution_count": 42,
   "id": "1aa87ca0-e7e9-41d3-b55c-e2b9b3e72726",
   "metadata": {
    "execution": {
     "iopub.execute_input": "2024-10-09T14:47:21.526581Z",
     "iopub.status.busy": "2024-10-09T14:47:21.526062Z",
     "iopub.status.idle": "2024-10-09T14:47:21.813658Z",
     "shell.execute_reply": "2024-10-09T14:47:21.770836Z",
     "shell.execute_reply.started": "2024-10-09T14:47:21.526545Z"
    }
   },
   "outputs": [],
   "source": [
    "import pandas as pd\n",
    "from itertools import combinations\n",
    "from collections import defaultdict, Counter\n",
    "import json\n",
    "import numpy as np\n",
    "import matplotlib.pyplot as plt\n",
    "import seaborn as sns\n",
    "from sklearn.metrics import pairwise_distances\n",
    "from scipy.sparse import csr_matrix\n",
    "from scipy.spatial.distance import pdist, squareform\n",
    "\n",
    "%matplotlib inline"
   ]
  },
  {
   "cell_type": "markdown",
   "id": "b37bc79e-f820-4b0e-b166-cdd79a940f06",
   "metadata": {},
   "source": [
    "# Wordnet from Babelnet"
   ]
  },
  {
   "cell_type": "code",
   "execution_count": 40,
   "id": "11acd24c-1c72-4322-926e-b01f46e750fc",
   "metadata": {
    "execution": {
     "iopub.execute_input": "2024-10-09T13:37:03.603154Z",
     "iopub.status.busy": "2024-10-09T13:37:03.602114Z",
     "iopub.status.idle": "2024-10-09T13:37:15.998079Z",
     "shell.execute_reply": "2024-10-09T13:37:15.992064Z",
     "shell.execute_reply.started": "2024-10-09T13:37:03.603137Z"
    }
   },
   "outputs": [],
   "source": [
    "df_wn = pd.read_csv(\"../datasets/raw/colexifications/colex_wn_bn.csv\")"
   ]
  },
  {
   "cell_type": "code",
   "execution_count": 43,
   "id": "bf6cabe7-67dd-4a52-8376-fc8d22437306",
   "metadata": {
    "execution": {
     "iopub.execute_input": "2024-10-09T14:47:25.431032Z",
     "iopub.status.busy": "2024-10-09T14:47:25.430248Z",
     "iopub.status.idle": "2024-10-09T14:47:25.444394Z",
     "shell.execute_reply": "2024-10-09T14:47:25.443502Z",
     "shell.execute_reply.started": "2024-10-09T14:47:25.430995Z"
    }
   },
   "outputs": [
    {
     "data": {
      "text/plain": [
       "5134830"
      ]
     },
     "execution_count": 43,
     "metadata": {},
     "output_type": "execute_result"
    }
   ],
   "source": [
    "len(df_wn)"
   ]
  },
  {
   "cell_type": "code",
   "execution_count": 4,
   "id": "61888f82-586e-4d4c-8a76-663e5a03e279",
   "metadata": {
    "execution": {
     "iopub.execute_input": "2024-10-06T22:39:42.576521Z",
     "iopub.status.busy": "2024-10-06T22:39:42.576375Z",
     "iopub.status.idle": "2024-10-06T22:39:42.717608Z",
     "shell.execute_reply": "2024-10-06T22:39:42.717094Z",
     "shell.execute_reply.started": "2024-10-06T22:39:42.576507Z"
    }
   },
   "outputs": [],
   "source": [
    "df_wn = df_wn[[\"LANG3\", \"COLEX_ID\"]]"
   ]
  },
  {
   "cell_type": "code",
   "execution_count": 19,
   "id": "acda2f66-7970-4773-8207-94ad3492b8dc",
   "metadata": {
    "execution": {
     "iopub.execute_input": "2024-10-06T22:54:39.324900Z",
     "iopub.status.busy": "2024-10-06T22:54:39.323462Z",
     "iopub.status.idle": "2024-10-06T22:54:39.344970Z",
     "shell.execute_reply": "2024-10-06T22:54:39.343056Z",
     "shell.execute_reply.started": "2024-10-06T22:54:39.324700Z"
    }
   },
   "outputs": [],
   "source": [
    "df_wn[\"Presence\"]=1"
   ]
  },
  {
   "cell_type": "code",
   "execution_count": 20,
   "id": "536bb9d3-5866-42df-9b32-345c9a944cd9",
   "metadata": {
    "execution": {
     "iopub.execute_input": "2024-10-06T22:54:39.940889Z",
     "iopub.status.busy": "2024-10-06T22:54:39.939610Z",
     "iopub.status.idle": "2024-10-06T22:55:00.587922Z",
     "shell.execute_reply": "2024-10-06T22:55:00.586898Z",
     "shell.execute_reply.started": "2024-10-06T22:54:39.940827Z"
    }
   },
   "outputs": [],
   "source": [
    "binary_matrix = df_wn.pivot_table(\n",
    "    index='LANG3', \n",
    "    columns='COLEX_ID', \n",
    "    values=\"Presence\",\n",
    "    aggfunc='max', \n",
    "    fill_value=0\n",
    ")"
   ]
  },
  {
   "cell_type": "code",
   "execution_count": null,
   "id": "de22aa80-3e74-41dc-b42c-b39cad072f7f",
   "metadata": {},
   "outputs": [],
   "source": []
  },
  {
   "cell_type": "code",
   "execution_count": 21,
   "id": "7acb5049-acc3-4f6c-9854-9fa235199c79",
   "metadata": {
    "execution": {
     "iopub.execute_input": "2024-10-06T22:55:02.216754Z",
     "iopub.status.busy": "2024-10-06T22:55:02.214095Z",
     "iopub.status.idle": "2024-10-06T22:55:02.235225Z",
     "shell.execute_reply": "2024-10-06T22:55:02.233928Z",
     "shell.execute_reply.started": "2024-10-06T22:55:02.215751Z"
    }
   },
   "outputs": [],
   "source": [
    "def crop_wals(gb_df, perc):\n",
    "    \"\"\"Remove languages from dataframe that do not have at least <perc>% feature coverage\"\"\"\n",
    "    rows_list=[]\n",
    "    tot_feats = len([x for x in gb_df.columns])\n",
    "    for i, row in gb_df.iterrows():\n",
    "        no_data = row.to_list().count(0)\n",
    "        # print(i, no_data)\n",
    "        if (tot_feats - no_data) >=3:\n",
    "            rows_list.append(row)\n",
    "            # try:\n",
    "            #     gb_df = gb_df.drop(i)\n",
    "            # except Exception as msg:\n",
    "            #     print(msg)\n",
    "\n",
    "    return pd.concat(rows_list, axis=1)"
   ]
  },
  {
   "cell_type": "code",
   "execution_count": 22,
   "id": "3842e93a-27bf-4c80-96f1-1bceb9df653a",
   "metadata": {
    "execution": {
     "iopub.execute_input": "2024-10-06T22:55:03.663566Z",
     "iopub.status.busy": "2024-10-06T22:55:03.662545Z",
     "iopub.status.idle": "2024-10-06T22:56:05.418490Z",
     "shell.execute_reply": "2024-10-06T22:56:05.418048Z",
     "shell.execute_reply.started": "2024-10-06T22:55:03.663512Z"
    }
   },
   "outputs": [],
   "source": [
    "wn_matrix = crop_wals(binary_matrix, perc=0.01)"
   ]
  },
  {
   "cell_type": "code",
   "execution_count": 23,
   "id": "04970e84-83ab-4d3d-a40b-d9e66d9af93a",
   "metadata": {
    "execution": {
     "iopub.execute_input": "2024-10-06T22:56:05.419533Z",
     "iopub.status.busy": "2024-10-06T22:56:05.419402Z",
     "iopub.status.idle": "2024-10-06T22:56:05.423324Z",
     "shell.execute_reply": "2024-10-06T22:56:05.422969Z",
     "shell.execute_reply.started": "2024-10-06T22:56:05.419520Z"
    }
   },
   "outputs": [
    {
     "data": {
      "text/plain": [
       "(2518357, 519)"
      ]
     },
     "execution_count": 23,
     "metadata": {},
     "output_type": "execute_result"
    }
   ],
   "source": [
    "len(wn_matrix), len(binary_matrix)"
   ]
  },
  {
   "cell_type": "code",
   "execution_count": 26,
   "id": "4bcca2ff-502d-456e-90b1-5f6099a28cdb",
   "metadata": {
    "execution": {
     "iopub.execute_input": "2024-10-06T22:56:18.823164Z",
     "iopub.status.busy": "2024-10-06T22:56:18.822007Z",
     "iopub.status.idle": "2024-10-06T22:56:18.838415Z",
     "shell.execute_reply": "2024-10-06T22:56:18.832781Z",
     "shell.execute_reply.started": "2024-10-06T22:56:18.823105Z"
    }
   },
   "outputs": [],
   "source": [
    "wn_matrix= wn_matrix.T"
   ]
  },
  {
   "cell_type": "code",
   "execution_count": 28,
   "id": "c7322024-f048-4ac2-bce4-5c3c4be3fef7",
   "metadata": {
    "execution": {
     "iopub.execute_input": "2024-10-06T22:56:36.316654Z",
     "iopub.status.busy": "2024-10-06T22:56:36.307594Z",
     "iopub.status.idle": "2024-10-06T22:56:36.357361Z",
     "shell.execute_reply": "2024-10-06T22:56:36.356858Z",
     "shell.execute_reply.started": "2024-10-06T22:56:36.312504Z"
    }
   },
   "outputs": [
    {
     "data": {
      "text/plain": [
       "(48521,)"
      ]
     },
     "execution_count": 28,
     "metadata": {},
     "output_type": "execute_result"
    }
   ],
   "source": [
    "wn_matrix.loc[\"deu\"].to_numpy()[wn_matrix.loc[\"deu\"].to_numpy()!=0].shape"
   ]
  },
  {
   "cell_type": "code",
   "execution_count": 31,
   "id": "9acfb163-66fc-4024-b427-d2f73983fe7d",
   "metadata": {
    "execution": {
     "iopub.execute_input": "2024-10-06T22:57:19.064508Z",
     "iopub.status.busy": "2024-10-06T22:57:19.063223Z",
     "iopub.status.idle": "2024-10-06T23:08:14.780591Z",
     "shell.execute_reply": "2024-10-06T23:08:14.780024Z",
     "shell.execute_reply.started": "2024-10-06T22:57:19.064428Z"
    }
   },
   "outputs": [],
   "source": [
    "jaccard_distances = pdist(wn_matrix, metric='jaccard')\n",
    "jaccard_distance_matrix = squareform(jaccard_distances)"
   ]
  },
  {
   "cell_type": "code",
   "execution_count": 32,
   "id": "5718f8e6-fd92-4072-af3f-d39972879611",
   "metadata": {
    "execution": {
     "iopub.execute_input": "2024-10-06T23:08:47.170413Z",
     "iopub.status.busy": "2024-10-06T23:08:47.168725Z",
     "iopub.status.idle": "2024-10-06T23:08:47.190742Z",
     "shell.execute_reply": "2024-10-06T23:08:47.188834Z",
     "shell.execute_reply.started": "2024-10-06T23:08:47.170317Z"
    }
   },
   "outputs": [
    {
     "data": {
      "text/plain": [
       "array([[0.        , 0.00769231, 0.12837838, ..., 0.        , 0.51685393,\n",
       "        0.02272727],\n",
       "       [0.00769231, 0.        , 0.13422819, ..., 0.00769231, 0.51865672,\n",
       "        0.03007519],\n",
       "       [0.12837838, 0.13422819, 0.        , ..., 0.12837838, 0.5335689 ,\n",
       "        0.14569536],\n",
       "       ...,\n",
       "       [0.        , 0.00769231, 0.12837838, ..., 0.        , 0.51685393,\n",
       "        0.02272727],\n",
       "       [0.51685393, 0.51865672, 0.5335689 , ..., 0.51685393, 0.        ,\n",
       "        0.52222222],\n",
       "       [0.02272727, 0.03007519, 0.14569536, ..., 0.02272727, 0.52222222,\n",
       "        0.        ]])"
      ]
     },
     "execution_count": 32,
     "metadata": {},
     "output_type": "execute_result"
    }
   ],
   "source": [
    "jaccard_distance_matrix"
   ]
  },
  {
   "cell_type": "code",
   "execution_count": 34,
   "id": "081845fa-ea4c-49ed-88c2-e88cfd6f0e82",
   "metadata": {
    "execution": {
     "iopub.execute_input": "2024-10-06T23:08:59.974047Z",
     "iopub.status.busy": "2024-10-06T23:08:59.973072Z",
     "iopub.status.idle": "2024-10-06T23:08:59.984279Z",
     "shell.execute_reply": "2024-10-06T23:08:59.982782Z",
     "shell.execute_reply.started": "2024-10-06T23:08:59.973988Z"
    }
   },
   "outputs": [],
   "source": [
    "jaccard_df = pd.DataFrame(\n",
    "    jaccard_distance_matrix, \n",
    "    index=wn_matrix.index, \n",
    "    columns=wn_matrix.index\n",
    ")"
   ]
  },
  {
   "cell_type": "code",
   "execution_count": 36,
   "id": "7de08374-81f7-4093-8b5f-1c2669c1adb7",
   "metadata": {
    "execution": {
     "iopub.execute_input": "2024-10-06T23:09:13.210733Z",
     "iopub.status.busy": "2024-10-06T23:09:13.209718Z",
     "iopub.status.idle": "2024-10-06T23:09:13.231757Z",
     "shell.execute_reply": "2024-10-06T23:09:13.230114Z",
     "shell.execute_reply.started": "2024-10-06T23:09:13.210685Z"
    }
   },
   "outputs": [
    {
     "data": {
      "text/plain": [
       "0.8265927091838023"
      ]
     },
     "execution_count": 36,
     "metadata": {},
     "output_type": "execute_result"
    }
   ],
   "source": [
    "jaccard_df.at[\"deu\", \"nld\"]"
   ]
  },
  {
   "cell_type": "code",
   "execution_count": 37,
   "id": "a6ef6acc-fbc2-4137-aaac-198b235cb6eb",
   "metadata": {
    "execution": {
     "iopub.execute_input": "2024-10-06T23:09:17.374593Z",
     "iopub.status.busy": "2024-10-06T23:09:17.373485Z",
     "iopub.status.idle": "2024-10-06T23:09:17.393357Z",
     "shell.execute_reply": "2024-10-06T23:09:17.392351Z",
     "shell.execute_reply.started": "2024-10-06T23:09:17.374539Z"
    }
   },
   "outputs": [
    {
     "data": {
      "text/plain": [
       "0.7967407858665855"
      ]
     },
     "execution_count": 37,
     "metadata": {},
     "output_type": "execute_result"
    }
   ],
   "source": [
    "jaccard_df.at[\"deu\", \"dan\"]"
   ]
  },
  {
   "cell_type": "code",
   "execution_count": 38,
   "id": "c8be472b-e3cc-4dc1-b344-68e35725877e",
   "metadata": {
    "execution": {
     "iopub.execute_input": "2024-10-06T23:09:20.623046Z",
     "iopub.status.busy": "2024-10-06T23:09:20.621866Z",
     "iopub.status.idle": "2024-10-06T23:09:20.638516Z",
     "shell.execute_reply": "2024-10-06T23:09:20.636956Z",
     "shell.execute_reply.started": "2024-10-06T23:09:20.623001Z"
    }
   },
   "outputs": [
    {
     "data": {
      "text/plain": [
       "0.949778470483162"
      ]
     },
     "execution_count": 38,
     "metadata": {},
     "output_type": "execute_result"
    }
   ],
   "source": [
    "jaccard_df.at[\"deu\", \"eng\"]"
   ]
  },
  {
   "cell_type": "code",
   "execution_count": 39,
   "id": "ba23d4ab-e8dc-42a1-bb79-d294098cbead",
   "metadata": {
    "execution": {
     "iopub.execute_input": "2024-10-06T23:09:40.741181Z",
     "iopub.status.busy": "2024-10-06T23:09:40.740272Z",
     "iopub.status.idle": "2024-10-06T23:09:41.080795Z",
     "shell.execute_reply": "2024-10-06T23:09:41.080377Z",
     "shell.execute_reply.started": "2024-10-06T23:09:40.741135Z"
    }
   },
   "outputs": [],
   "source": [
    "jaccard_df.to_csv(\"../datasets/lang2lang/wn_jaccard.csv\")"
   ]
  },
  {
   "cell_type": "code",
   "execution_count": null,
   "id": "6d9eb761-10c5-48e3-9394-cce1641c3cb7",
   "metadata": {},
   "outputs": [],
   "source": []
  },
  {
   "cell_type": "markdown",
   "id": "9dcd4bcb-1bf4-43c1-9afc-536d2a5f544d",
   "metadata": {},
   "source": [
    "# CLICS"
   ]
  },
  {
   "cell_type": "code",
   "execution_count": 44,
   "id": "334f1c97-2054-489a-8e39-1a6304fa0e1c",
   "metadata": {
    "execution": {
     "iopub.execute_input": "2024-10-09T14:47:57.800298Z",
     "iopub.status.busy": "2024-10-09T14:47:57.799250Z",
     "iopub.status.idle": "2024-10-09T14:47:59.017750Z",
     "shell.execute_reply": "2024-10-09T14:47:59.014378Z",
     "shell.execute_reply.started": "2024-10-09T14:47:57.800257Z"
    }
   },
   "outputs": [],
   "source": [
    "df_clics = pd.read_csv(\"../datasets/raw/colexifications/colex_clics3.csv\")"
   ]
  },
  {
   "cell_type": "code",
   "execution_count": 48,
   "id": "2431ec2a-01c3-45ea-ba5c-c615c0d2a735",
   "metadata": {
    "execution": {
     "iopub.execute_input": "2024-10-09T14:49:05.652625Z",
     "iopub.status.busy": "2024-10-09T14:49:05.651817Z",
     "iopub.status.idle": "2024-10-09T14:49:05.663476Z",
     "shell.execute_reply": "2024-10-09T14:49:05.661561Z",
     "shell.execute_reply.started": "2024-10-09T14:49:05.652592Z"
    }
   },
   "outputs": [],
   "source": [
    "df_clics = df_clics[[\"ISO639P3code\", \"Colex_ID\"]]"
   ]
  },
  {
   "cell_type": "code",
   "execution_count": 49,
   "id": "337566b7-d1f6-454f-95e9-d3b621428b18",
   "metadata": {
    "execution": {
     "iopub.execute_input": "2024-10-09T14:49:06.978532Z",
     "iopub.status.busy": "2024-10-09T14:49:06.976790Z",
     "iopub.status.idle": "2024-10-09T14:49:06.988066Z",
     "shell.execute_reply": "2024-10-09T14:49:06.986842Z",
     "shell.execute_reply.started": "2024-10-09T14:49:06.977524Z"
    }
   },
   "outputs": [
    {
     "data": {
      "text/plain": [
       "76346"
      ]
     },
     "execution_count": 49,
     "metadata": {},
     "output_type": "execute_result"
    }
   ],
   "source": [
    "len(df_clics)"
   ]
  },
  {
   "cell_type": "code",
   "execution_count": 50,
   "id": "fe2a1b5a-4531-4d0e-a314-148ad365433e",
   "metadata": {
    "execution": {
     "iopub.execute_input": "2024-10-09T14:49:11.826675Z",
     "iopub.status.busy": "2024-10-09T14:49:11.825828Z",
     "iopub.status.idle": "2024-10-09T14:49:11.840574Z",
     "shell.execute_reply": "2024-10-09T14:49:11.838315Z",
     "shell.execute_reply.started": "2024-10-09T14:49:11.826639Z"
    }
   },
   "outputs": [
    {
     "name": "stderr",
     "output_type": "stream",
     "text": [
      "/var/folders/bj/qp6k2wl11h5gpn8j4hg0tgf40000gn/T/ipykernel_12313/2767247403.py:1: SettingWithCopyWarning: \n",
      "A value is trying to be set on a copy of a slice from a DataFrame.\n",
      "Try using .loc[row_indexer,col_indexer] = value instead\n",
      "\n",
      "See the caveats in the documentation: https://pandas.pydata.org/pandas-docs/stable/user_guide/indexing.html#returning-a-view-versus-a-copy\n",
      "  df_clics[\"Presence\"]=1\n"
     ]
    }
   ],
   "source": [
    "df_clics[\"Presence\"]=1"
   ]
  },
  {
   "cell_type": "code",
   "execution_count": 52,
   "id": "eb792eff-cc17-4e2d-a933-36f0a69b4d9c",
   "metadata": {
    "execution": {
     "iopub.execute_input": "2024-10-09T14:49:24.389571Z",
     "iopub.status.busy": "2024-10-09T14:49:24.388795Z",
     "iopub.status.idle": "2024-10-09T14:49:24.429594Z",
     "shell.execute_reply": "2024-10-09T14:49:24.423697Z",
     "shell.execute_reply.started": "2024-10-09T14:49:24.389535Z"
    }
   },
   "outputs": [],
   "source": [
    "df_clics= df_clics.dropna()"
   ]
  },
  {
   "cell_type": "code",
   "execution_count": 53,
   "id": "e02e1f8f-6518-4c0c-8bec-5ed006db3d15",
   "metadata": {
    "execution": {
     "iopub.execute_input": "2024-10-09T14:49:27.940444Z",
     "iopub.status.busy": "2024-10-09T14:49:27.939879Z",
     "iopub.status.idle": "2024-10-09T14:49:27.974753Z",
     "shell.execute_reply": "2024-10-09T14:49:27.966813Z",
     "shell.execute_reply.started": "2024-10-09T14:49:27.940413Z"
    }
   },
   "outputs": [
    {
     "data": {
      "text/html": [
       "<div>\n",
       "<style scoped>\n",
       "    .dataframe tbody tr th:only-of-type {\n",
       "        vertical-align: middle;\n",
       "    }\n",
       "\n",
       "    .dataframe tbody tr th {\n",
       "        vertical-align: top;\n",
       "    }\n",
       "\n",
       "    .dataframe thead th {\n",
       "        text-align: right;\n",
       "    }\n",
       "</style>\n",
       "<table border=\"1\" class=\"dataframe\">\n",
       "  <thead>\n",
       "    <tr style=\"text-align: right;\">\n",
       "      <th></th>\n",
       "      <th>ISO639P3code</th>\n",
       "      <th>Colex_ID</th>\n",
       "      <th>Presence</th>\n",
       "    </tr>\n",
       "  </thead>\n",
       "  <tbody>\n",
       "    <tr>\n",
       "      <th>8</th>\n",
       "      <td>goh</td>\n",
       "      <td>0</td>\n",
       "      <td>1</td>\n",
       "    </tr>\n",
       "    <tr>\n",
       "      <th>9</th>\n",
       "      <td>mri</td>\n",
       "      <td>0</td>\n",
       "      <td>1</td>\n",
       "    </tr>\n",
       "    <tr>\n",
       "      <th>10</th>\n",
       "      <td>yad</td>\n",
       "      <td>0</td>\n",
       "      <td>1</td>\n",
       "    </tr>\n",
       "    <tr>\n",
       "      <th>11</th>\n",
       "      <td>pnb</td>\n",
       "      <td>0</td>\n",
       "      <td>1</td>\n",
       "    </tr>\n",
       "    <tr>\n",
       "      <th>12</th>\n",
       "      <td>tam</td>\n",
       "      <td>0</td>\n",
       "      <td>1</td>\n",
       "    </tr>\n",
       "    <tr>\n",
       "      <th>...</th>\n",
       "      <td>...</td>\n",
       "      <td>...</td>\n",
       "      <td>...</td>\n",
       "    </tr>\n",
       "    <tr>\n",
       "      <th>76341</th>\n",
       "      <td>aol</td>\n",
       "      <td>4227</td>\n",
       "      <td>1</td>\n",
       "    </tr>\n",
       "    <tr>\n",
       "      <th>76342</th>\n",
       "      <td>abz</td>\n",
       "      <td>4227</td>\n",
       "      <td>1</td>\n",
       "    </tr>\n",
       "    <tr>\n",
       "      <th>76343</th>\n",
       "      <td>kgv</td>\n",
       "      <td>4227</td>\n",
       "      <td>1</td>\n",
       "    </tr>\n",
       "    <tr>\n",
       "      <th>76344</th>\n",
       "      <td>kyo</td>\n",
       "      <td>4227</td>\n",
       "      <td>1</td>\n",
       "    </tr>\n",
       "    <tr>\n",
       "      <th>76345</th>\n",
       "      <td>tet</td>\n",
       "      <td>4227</td>\n",
       "      <td>1</td>\n",
       "    </tr>\n",
       "  </tbody>\n",
       "</table>\n",
       "<p>68560 rows × 3 columns</p>\n",
       "</div>"
      ],
      "text/plain": [
       "      ISO639P3code  Colex_ID  Presence\n",
       "8              goh         0         1\n",
       "9              mri         0         1\n",
       "10             yad         0         1\n",
       "11             pnb         0         1\n",
       "12             tam         0         1\n",
       "...            ...       ...       ...\n",
       "76341          aol      4227         1\n",
       "76342          abz      4227         1\n",
       "76343          kgv      4227         1\n",
       "76344          kyo      4227         1\n",
       "76345          tet      4227         1\n",
       "\n",
       "[68560 rows x 3 columns]"
      ]
     },
     "execution_count": 53,
     "metadata": {},
     "output_type": "execute_result"
    }
   ],
   "source": [
    "df_clics"
   ]
  },
  {
   "cell_type": "code",
   "execution_count": 55,
   "id": "f8ba78d3-5b80-4c3c-9700-8810c8784fc4",
   "metadata": {
    "execution": {
     "iopub.execute_input": "2024-10-09T14:49:43.715848Z",
     "iopub.status.busy": "2024-10-09T14:49:43.715219Z",
     "iopub.status.idle": "2024-10-09T14:49:44.117226Z",
     "shell.execute_reply": "2024-10-09T14:49:44.115527Z",
     "shell.execute_reply.started": "2024-10-09T14:49:43.715814Z"
    }
   },
   "outputs": [],
   "source": [
    "binary_matrix = df_clics.pivot_table(\n",
    "    index='ISO639P3code', \n",
    "    columns='Colex_ID', \n",
    "    values=\"Presence\",\n",
    "    aggfunc='max', \n",
    "    fill_value=0\n",
    ")"
   ]
  },
  {
   "cell_type": "code",
   "execution_count": 56,
   "id": "1b1f5b0e-8e0b-46b0-91e5-02be543de289",
   "metadata": {
    "execution": {
     "iopub.execute_input": "2024-10-09T14:49:49.342865Z",
     "iopub.status.busy": "2024-10-09T14:49:49.342035Z",
     "iopub.status.idle": "2024-10-09T14:49:49.354958Z",
     "shell.execute_reply": "2024-10-09T14:49:49.353558Z",
     "shell.execute_reply.started": "2024-10-09T14:49:49.342821Z"
    }
   },
   "outputs": [],
   "source": [
    "def crop_wals(gb_df, perc):\n",
    "    \"\"\"Remove languages from dataframe that do not have at least <perc>% feature coverage\"\"\"\n",
    "    rows_list=[]\n",
    "    tot_feats = len([x for x in gb_df.columns])\n",
    "    for i, row in gb_df.iterrows():\n",
    "        no_data = row.to_list().count(0)\n",
    "        # print(i, no_data)\n",
    "        if (tot_feats - no_data) >=3:\n",
    "            rows_list.append(row)\n",
    "            # try:\n",
    "            #     gb_df = gb_df.drop(i)\n",
    "            # except Exception as msg:\n",
    "            #     print(msg)\n",
    "\n",
    "    return pd.concat(rows_list, axis=1)"
   ]
  },
  {
   "cell_type": "code",
   "execution_count": 57,
   "id": "8a7247ff-ff00-43ca-aa18-30bbe85fedd2",
   "metadata": {
    "execution": {
     "iopub.execute_input": "2024-10-09T14:49:53.709443Z",
     "iopub.status.busy": "2024-10-09T14:49:53.708751Z",
     "iopub.status.idle": "2024-10-09T14:49:54.280478Z",
     "shell.execute_reply": "2024-10-09T14:49:54.277862Z",
     "shell.execute_reply.started": "2024-10-09T14:49:53.709407Z"
    }
   },
   "outputs": [],
   "source": [
    "clics_matrix = crop_wals(binary_matrix, perc=0.01)"
   ]
  },
  {
   "cell_type": "code",
   "execution_count": 58,
   "id": "7ae577ed-da28-4b9a-8421-67e82bb4142c",
   "metadata": {
    "execution": {
     "iopub.execute_input": "2024-10-09T14:50:09.821365Z",
     "iopub.status.busy": "2024-10-09T14:50:09.820851Z",
     "iopub.status.idle": "2024-10-09T14:50:09.833689Z",
     "shell.execute_reply": "2024-10-09T14:50:09.831913Z",
     "shell.execute_reply.started": "2024-10-09T14:50:09.821331Z"
    }
   },
   "outputs": [
    {
     "data": {
      "text/plain": [
       "(1609, 4228)"
      ]
     },
     "execution_count": 58,
     "metadata": {},
     "output_type": "execute_result"
    }
   ],
   "source": [
    "len(binary_matrix), len(clics_matrix)"
   ]
  },
  {
   "cell_type": "code",
   "execution_count": 60,
   "id": "ad342d03-c2dc-4364-b009-8130776ac557",
   "metadata": {
    "execution": {
     "iopub.execute_input": "2024-10-09T14:50:34.405630Z",
     "iopub.status.busy": "2024-10-09T14:50:34.405006Z",
     "iopub.status.idle": "2024-10-09T14:50:34.414362Z",
     "shell.execute_reply": "2024-10-09T14:50:34.412461Z",
     "shell.execute_reply.started": "2024-10-09T14:50:34.405593Z"
    }
   },
   "outputs": [],
   "source": [
    "clics_matrix= clics_matrix.T"
   ]
  },
  {
   "cell_type": "code",
   "execution_count": 62,
   "id": "9bf4801e-1932-49ed-b3cb-46c2ab389c6f",
   "metadata": {
    "execution": {
     "iopub.execute_input": "2024-10-09T14:52:13.259802Z",
     "iopub.status.busy": "2024-10-09T14:52:13.259146Z",
     "iopub.status.idle": "2024-10-09T14:52:13.271798Z",
     "shell.execute_reply": "2024-10-09T14:52:13.270408Z",
     "shell.execute_reply.started": "2024-10-09T14:52:13.259766Z"
    }
   },
   "outputs": [
    {
     "data": {
      "text/plain": [
       "(1347, 4228)"
      ]
     },
     "execution_count": 62,
     "metadata": {},
     "output_type": "execute_result"
    }
   ],
   "source": [
    "clics_matrix.shape"
   ]
  },
  {
   "cell_type": "code",
   "execution_count": 63,
   "id": "f7fc9882-6f01-49a7-b986-420b238d00f8",
   "metadata": {
    "execution": {
     "iopub.execute_input": "2024-10-09T14:52:16.427762Z",
     "iopub.status.busy": "2024-10-09T14:52:16.427054Z",
     "iopub.status.idle": "2024-10-09T14:52:16.519182Z",
     "shell.execute_reply": "2024-10-09T14:52:16.517319Z",
     "shell.execute_reply.started": "2024-10-09T14:52:16.427727Z"
    }
   },
   "outputs": [],
   "source": [
    "clics_matrix = clics_matrix.loc[:, (clics_matrix != 0).any(axis=0)]\n"
   ]
  },
  {
   "cell_type": "code",
   "execution_count": 64,
   "id": "be68b50d-e6fb-4806-b3bd-ea60280b4241",
   "metadata": {
    "execution": {
     "iopub.execute_input": "2024-10-09T14:52:20.639597Z",
     "iopub.status.busy": "2024-10-09T14:52:20.638970Z",
     "iopub.status.idle": "2024-10-09T14:52:20.653962Z",
     "shell.execute_reply": "2024-10-09T14:52:20.650817Z",
     "shell.execute_reply.started": "2024-10-09T14:52:20.639562Z"
    }
   },
   "outputs": [
    {
     "data": {
      "text/plain": [
       "(1347, 4227)"
      ]
     },
     "execution_count": 64,
     "metadata": {},
     "output_type": "execute_result"
    }
   ],
   "source": [
    "clics_matrix.shape"
   ]
  },
  {
   "cell_type": "code",
   "execution_count": 65,
   "id": "7a2eaf6e-c50f-4041-8439-fb06014d5b9d",
   "metadata": {
    "execution": {
     "iopub.execute_input": "2024-10-09T14:52:26.472389Z",
     "iopub.status.busy": "2024-10-09T14:52:26.471815Z",
     "iopub.status.idle": "2024-10-09T14:52:26.526419Z",
     "shell.execute_reply": "2024-10-09T14:52:26.516902Z",
     "shell.execute_reply.started": "2024-10-09T14:52:26.472353Z"
    }
   },
   "outputs": [
    {
     "data": {
      "text/html": [
       "<div>\n",
       "<style scoped>\n",
       "    .dataframe tbody tr th:only-of-type {\n",
       "        vertical-align: middle;\n",
       "    }\n",
       "\n",
       "    .dataframe tbody tr th {\n",
       "        vertical-align: top;\n",
       "    }\n",
       "\n",
       "    .dataframe thead th {\n",
       "        text-align: right;\n",
       "    }\n",
       "</style>\n",
       "<table border=\"1\" class=\"dataframe\">\n",
       "  <thead>\n",
       "    <tr style=\"text-align: right;\">\n",
       "      <th>Colex_ID</th>\n",
       "      <th>0</th>\n",
       "      <th>1</th>\n",
       "      <th>2</th>\n",
       "      <th>3</th>\n",
       "      <th>4</th>\n",
       "      <th>5</th>\n",
       "      <th>6</th>\n",
       "      <th>7</th>\n",
       "      <th>8</th>\n",
       "      <th>9</th>\n",
       "      <th>...</th>\n",
       "      <th>4218</th>\n",
       "      <th>4219</th>\n",
       "      <th>4220</th>\n",
       "      <th>4221</th>\n",
       "      <th>4222</th>\n",
       "      <th>4223</th>\n",
       "      <th>4224</th>\n",
       "      <th>4225</th>\n",
       "      <th>4226</th>\n",
       "      <th>4227</th>\n",
       "    </tr>\n",
       "  </thead>\n",
       "  <tbody>\n",
       "    <tr>\n",
       "      <th>aac</th>\n",
       "      <td>0</td>\n",
       "      <td>0</td>\n",
       "      <td>0</td>\n",
       "      <td>0</td>\n",
       "      <td>0</td>\n",
       "      <td>0</td>\n",
       "      <td>0</td>\n",
       "      <td>0</td>\n",
       "      <td>0</td>\n",
       "      <td>0</td>\n",
       "      <td>...</td>\n",
       "      <td>0</td>\n",
       "      <td>0</td>\n",
       "      <td>0</td>\n",
       "      <td>0</td>\n",
       "      <td>0</td>\n",
       "      <td>0</td>\n",
       "      <td>0</td>\n",
       "      <td>0</td>\n",
       "      <td>0</td>\n",
       "      <td>0</td>\n",
       "    </tr>\n",
       "    <tr>\n",
       "      <th>aax</th>\n",
       "      <td>0</td>\n",
       "      <td>0</td>\n",
       "      <td>0</td>\n",
       "      <td>0</td>\n",
       "      <td>0</td>\n",
       "      <td>0</td>\n",
       "      <td>0</td>\n",
       "      <td>0</td>\n",
       "      <td>0</td>\n",
       "      <td>0</td>\n",
       "      <td>...</td>\n",
       "      <td>0</td>\n",
       "      <td>0</td>\n",
       "      <td>0</td>\n",
       "      <td>0</td>\n",
       "      <td>0</td>\n",
       "      <td>0</td>\n",
       "      <td>0</td>\n",
       "      <td>0</td>\n",
       "      <td>0</td>\n",
       "      <td>0</td>\n",
       "    </tr>\n",
       "    <tr>\n",
       "      <th>aaz</th>\n",
       "      <td>0</td>\n",
       "      <td>0</td>\n",
       "      <td>0</td>\n",
       "      <td>0</td>\n",
       "      <td>0</td>\n",
       "      <td>0</td>\n",
       "      <td>0</td>\n",
       "      <td>0</td>\n",
       "      <td>0</td>\n",
       "      <td>0</td>\n",
       "      <td>...</td>\n",
       "      <td>0</td>\n",
       "      <td>1</td>\n",
       "      <td>0</td>\n",
       "      <td>0</td>\n",
       "      <td>0</td>\n",
       "      <td>0</td>\n",
       "      <td>0</td>\n",
       "      <td>0</td>\n",
       "      <td>0</td>\n",
       "      <td>0</td>\n",
       "    </tr>\n",
       "    <tr>\n",
       "      <th>abk</th>\n",
       "      <td>0</td>\n",
       "      <td>0</td>\n",
       "      <td>0</td>\n",
       "      <td>0</td>\n",
       "      <td>0</td>\n",
       "      <td>0</td>\n",
       "      <td>0</td>\n",
       "      <td>0</td>\n",
       "      <td>0</td>\n",
       "      <td>0</td>\n",
       "      <td>...</td>\n",
       "      <td>0</td>\n",
       "      <td>0</td>\n",
       "      <td>0</td>\n",
       "      <td>0</td>\n",
       "      <td>0</td>\n",
       "      <td>0</td>\n",
       "      <td>0</td>\n",
       "      <td>0</td>\n",
       "      <td>0</td>\n",
       "      <td>0</td>\n",
       "    </tr>\n",
       "    <tr>\n",
       "      <th>abq</th>\n",
       "      <td>0</td>\n",
       "      <td>0</td>\n",
       "      <td>0</td>\n",
       "      <td>0</td>\n",
       "      <td>0</td>\n",
       "      <td>0</td>\n",
       "      <td>0</td>\n",
       "      <td>0</td>\n",
       "      <td>0</td>\n",
       "      <td>0</td>\n",
       "      <td>...</td>\n",
       "      <td>0</td>\n",
       "      <td>0</td>\n",
       "      <td>0</td>\n",
       "      <td>0</td>\n",
       "      <td>0</td>\n",
       "      <td>0</td>\n",
       "      <td>0</td>\n",
       "      <td>0</td>\n",
       "      <td>0</td>\n",
       "      <td>0</td>\n",
       "    </tr>\n",
       "    <tr>\n",
       "      <th>...</th>\n",
       "      <td>...</td>\n",
       "      <td>...</td>\n",
       "      <td>...</td>\n",
       "      <td>...</td>\n",
       "      <td>...</td>\n",
       "      <td>...</td>\n",
       "      <td>...</td>\n",
       "      <td>...</td>\n",
       "      <td>...</td>\n",
       "      <td>...</td>\n",
       "      <td>...</td>\n",
       "      <td>...</td>\n",
       "      <td>...</td>\n",
       "      <td>...</td>\n",
       "      <td>...</td>\n",
       "      <td>...</td>\n",
       "      <td>...</td>\n",
       "      <td>...</td>\n",
       "      <td>...</td>\n",
       "      <td>...</td>\n",
       "      <td>...</td>\n",
       "    </tr>\n",
       "    <tr>\n",
       "      <th>zmu</th>\n",
       "      <td>0</td>\n",
       "      <td>0</td>\n",
       "      <td>0</td>\n",
       "      <td>0</td>\n",
       "      <td>0</td>\n",
       "      <td>0</td>\n",
       "      <td>0</td>\n",
       "      <td>0</td>\n",
       "      <td>0</td>\n",
       "      <td>0</td>\n",
       "      <td>...</td>\n",
       "      <td>0</td>\n",
       "      <td>0</td>\n",
       "      <td>0</td>\n",
       "      <td>0</td>\n",
       "      <td>0</td>\n",
       "      <td>0</td>\n",
       "      <td>0</td>\n",
       "      <td>0</td>\n",
       "      <td>0</td>\n",
       "      <td>0</td>\n",
       "    </tr>\n",
       "    <tr>\n",
       "      <th>zng</th>\n",
       "      <td>0</td>\n",
       "      <td>0</td>\n",
       "      <td>0</td>\n",
       "      <td>0</td>\n",
       "      <td>0</td>\n",
       "      <td>0</td>\n",
       "      <td>0</td>\n",
       "      <td>0</td>\n",
       "      <td>0</td>\n",
       "      <td>0</td>\n",
       "      <td>...</td>\n",
       "      <td>0</td>\n",
       "      <td>0</td>\n",
       "      <td>0</td>\n",
       "      <td>0</td>\n",
       "      <td>0</td>\n",
       "      <td>0</td>\n",
       "      <td>0</td>\n",
       "      <td>0</td>\n",
       "      <td>0</td>\n",
       "      <td>0</td>\n",
       "    </tr>\n",
       "    <tr>\n",
       "      <th>zuh</th>\n",
       "      <td>0</td>\n",
       "      <td>0</td>\n",
       "      <td>0</td>\n",
       "      <td>0</td>\n",
       "      <td>0</td>\n",
       "      <td>0</td>\n",
       "      <td>0</td>\n",
       "      <td>0</td>\n",
       "      <td>0</td>\n",
       "      <td>0</td>\n",
       "      <td>...</td>\n",
       "      <td>0</td>\n",
       "      <td>0</td>\n",
       "      <td>0</td>\n",
       "      <td>0</td>\n",
       "      <td>0</td>\n",
       "      <td>0</td>\n",
       "      <td>0</td>\n",
       "      <td>0</td>\n",
       "      <td>0</td>\n",
       "      <td>0</td>\n",
       "    </tr>\n",
       "    <tr>\n",
       "      <th>zun</th>\n",
       "      <td>0</td>\n",
       "      <td>0</td>\n",
       "      <td>0</td>\n",
       "      <td>0</td>\n",
       "      <td>0</td>\n",
       "      <td>0</td>\n",
       "      <td>0</td>\n",
       "      <td>0</td>\n",
       "      <td>0</td>\n",
       "      <td>0</td>\n",
       "      <td>...</td>\n",
       "      <td>0</td>\n",
       "      <td>0</td>\n",
       "      <td>0</td>\n",
       "      <td>0</td>\n",
       "      <td>0</td>\n",
       "      <td>0</td>\n",
       "      <td>0</td>\n",
       "      <td>0</td>\n",
       "      <td>0</td>\n",
       "      <td>0</td>\n",
       "    </tr>\n",
       "    <tr>\n",
       "      <th>zzj</th>\n",
       "      <td>0</td>\n",
       "      <td>0</td>\n",
       "      <td>0</td>\n",
       "      <td>0</td>\n",
       "      <td>0</td>\n",
       "      <td>0</td>\n",
       "      <td>0</td>\n",
       "      <td>0</td>\n",
       "      <td>0</td>\n",
       "      <td>0</td>\n",
       "      <td>...</td>\n",
       "      <td>0</td>\n",
       "      <td>0</td>\n",
       "      <td>0</td>\n",
       "      <td>0</td>\n",
       "      <td>0</td>\n",
       "      <td>0</td>\n",
       "      <td>0</td>\n",
       "      <td>0</td>\n",
       "      <td>0</td>\n",
       "      <td>0</td>\n",
       "    </tr>\n",
       "  </tbody>\n",
       "</table>\n",
       "<p>1347 rows × 4227 columns</p>\n",
       "</div>"
      ],
      "text/plain": [
       "Colex_ID  0     1     2     3     4     5     6     7     8     9     ...  \\\n",
       "aac          0     0     0     0     0     0     0     0     0     0  ...   \n",
       "aax          0     0     0     0     0     0     0     0     0     0  ...   \n",
       "aaz          0     0     0     0     0     0     0     0     0     0  ...   \n",
       "abk          0     0     0     0     0     0     0     0     0     0  ...   \n",
       "abq          0     0     0     0     0     0     0     0     0     0  ...   \n",
       "..         ...   ...   ...   ...   ...   ...   ...   ...   ...   ...  ...   \n",
       "zmu          0     0     0     0     0     0     0     0     0     0  ...   \n",
       "zng          0     0     0     0     0     0     0     0     0     0  ...   \n",
       "zuh          0     0     0     0     0     0     0     0     0     0  ...   \n",
       "zun          0     0     0     0     0     0     0     0     0     0  ...   \n",
       "zzj          0     0     0     0     0     0     0     0     0     0  ...   \n",
       "\n",
       "Colex_ID  4218  4219  4220  4221  4222  4223  4224  4225  4226  4227  \n",
       "aac          0     0     0     0     0     0     0     0     0     0  \n",
       "aax          0     0     0     0     0     0     0     0     0     0  \n",
       "aaz          0     1     0     0     0     0     0     0     0     0  \n",
       "abk          0     0     0     0     0     0     0     0     0     0  \n",
       "abq          0     0     0     0     0     0     0     0     0     0  \n",
       "..         ...   ...   ...   ...   ...   ...   ...   ...   ...   ...  \n",
       "zmu          0     0     0     0     0     0     0     0     0     0  \n",
       "zng          0     0     0     0     0     0     0     0     0     0  \n",
       "zuh          0     0     0     0     0     0     0     0     0     0  \n",
       "zun          0     0     0     0     0     0     0     0     0     0  \n",
       "zzj          0     0     0     0     0     0     0     0     0     0  \n",
       "\n",
       "[1347 rows x 4227 columns]"
      ]
     },
     "execution_count": 65,
     "metadata": {},
     "output_type": "execute_result"
    }
   ],
   "source": [
    "clics_matrix"
   ]
  },
  {
   "cell_type": "code",
   "execution_count": 66,
   "id": "bab59d2b-2b76-412c-9c9d-c3e46162bae3",
   "metadata": {
    "execution": {
     "iopub.execute_input": "2024-10-09T14:52:38.693728Z",
     "iopub.status.busy": "2024-10-09T14:52:38.692916Z",
     "iopub.status.idle": "2024-10-09T14:52:38.707909Z",
     "shell.execute_reply": "2024-10-09T14:52:38.706768Z",
     "shell.execute_reply.started": "2024-10-09T14:52:38.693689Z"
    }
   },
   "outputs": [
    {
     "data": {
      "text/plain": [
       "(118,)"
      ]
     },
     "execution_count": 66,
     "metadata": {},
     "output_type": "execute_result"
    }
   ],
   "source": [
    "clics_matrix.loc[\"deu\"].to_numpy()[clics_matrix.loc[\"deu\"].to_numpy()!=0].shape"
   ]
  },
  {
   "cell_type": "code",
   "execution_count": 67,
   "id": "57046c14-6b53-4578-8859-d4d37945a3ea",
   "metadata": {
    "execution": {
     "iopub.execute_input": "2024-10-09T14:52:46.798974Z",
     "iopub.status.busy": "2024-10-09T14:52:46.797961Z",
     "iopub.status.idle": "2024-10-09T14:53:12.148247Z",
     "shell.execute_reply": "2024-10-09T14:53:12.146708Z",
     "shell.execute_reply.started": "2024-10-09T14:52:46.798621Z"
    }
   },
   "outputs": [],
   "source": [
    "jaccard_distances = pdist(clics_matrix, metric='jaccard')\n",
    "jaccard_distance_matrix = squareform(jaccard_distances)"
   ]
  },
  {
   "cell_type": "code",
   "execution_count": 68,
   "id": "50ad33ed-2581-417b-97af-7c0df49fdb41",
   "metadata": {
    "execution": {
     "iopub.execute_input": "2024-10-09T14:53:14.045748Z",
     "iopub.status.busy": "2024-10-09T14:53:14.045250Z",
     "iopub.status.idle": "2024-10-09T14:53:14.061906Z",
     "shell.execute_reply": "2024-10-09T14:53:14.059706Z",
     "shell.execute_reply.started": "2024-10-09T14:53:14.045714Z"
    }
   },
   "outputs": [
    {
     "data": {
      "text/plain": [
       "array([[0.        , 1.        , 0.96875   , ..., 1.        , 1.        ,\n",
       "        0.99295775],\n",
       "       [1.        , 0.        , 1.        , ..., 1.        , 1.        ,\n",
       "        1.        ],\n",
       "       [0.96875   , 1.        , 0.        , ..., 0.97058824, 0.98484848,\n",
       "        0.98203593],\n",
       "       ...,\n",
       "       [1.        , 1.        , 0.97058824, ..., 0.        , 1.        ,\n",
       "        1.        ],\n",
       "       [1.        , 1.        , 0.98484848, ..., 1.        , 0.        ,\n",
       "        0.94372294],\n",
       "       [0.99295775, 1.        , 0.98203593, ..., 1.        , 0.94372294,\n",
       "        0.        ]])"
      ]
     },
     "execution_count": 68,
     "metadata": {},
     "output_type": "execute_result"
    }
   ],
   "source": [
    "jaccard_distance_matrix"
   ]
  },
  {
   "cell_type": "code",
   "execution_count": 69,
   "id": "bd19541c-be21-4962-8428-f41c9357dfa8",
   "metadata": {
    "execution": {
     "iopub.execute_input": "2024-10-09T14:53:18.606439Z",
     "iopub.status.busy": "2024-10-09T14:53:18.603492Z",
     "iopub.status.idle": "2024-10-09T14:53:18.617871Z",
     "shell.execute_reply": "2024-10-09T14:53:18.616566Z",
     "shell.execute_reply.started": "2024-10-09T14:53:18.606389Z"
    }
   },
   "outputs": [],
   "source": [
    "jaccard_df = pd.DataFrame(\n",
    "    jaccard_distance_matrix, \n",
    "    index=clics_matrix.index, \n",
    "    columns=clics_matrix.index\n",
    ")"
   ]
  },
  {
   "cell_type": "code",
   "execution_count": 70,
   "id": "4bbea43e-dedf-4ea8-942f-6b972ffa2cb8",
   "metadata": {
    "execution": {
     "iopub.execute_input": "2024-10-09T14:53:22.935465Z",
     "iopub.status.busy": "2024-10-09T14:53:22.934337Z",
     "iopub.status.idle": "2024-10-09T14:53:22.947183Z",
     "shell.execute_reply": "2024-10-09T14:53:22.946186Z",
     "shell.execute_reply.started": "2024-10-09T14:53:22.935428Z"
    }
   },
   "outputs": [
    {
     "data": {
      "text/plain": [
       "0.7155172413793104"
      ]
     },
     "execution_count": 70,
     "metadata": {},
     "output_type": "execute_result"
    }
   ],
   "source": [
    "jaccard_df.at[\"deu\", \"nld\"]"
   ]
  },
  {
   "cell_type": "code",
   "execution_count": 71,
   "id": "4061b70c-b77c-4028-944b-1eaa75194cd2",
   "metadata": {
    "execution": {
     "iopub.execute_input": "2024-10-09T14:53:24.380173Z",
     "iopub.status.busy": "2024-10-09T14:53:24.379586Z",
     "iopub.status.idle": "2024-10-09T14:53:24.392302Z",
     "shell.execute_reply": "2024-10-09T14:53:24.390897Z",
     "shell.execute_reply.started": "2024-10-09T14:53:24.380138Z"
    }
   },
   "outputs": [
    {
     "data": {
      "text/plain": [
       "0.7766497461928934"
      ]
     },
     "execution_count": 71,
     "metadata": {},
     "output_type": "execute_result"
    }
   ],
   "source": [
    "jaccard_df.at[\"deu\", \"dan\"]"
   ]
  },
  {
   "cell_type": "code",
   "execution_count": 72,
   "id": "5c16fde9-5e14-4e0c-bda3-87a3a6b9f517",
   "metadata": {
    "execution": {
     "iopub.execute_input": "2024-10-09T14:53:26.076015Z",
     "iopub.status.busy": "2024-10-09T14:53:26.075138Z",
     "iopub.status.idle": "2024-10-09T14:53:26.089465Z",
     "shell.execute_reply": "2024-10-09T14:53:26.088443Z",
     "shell.execute_reply.started": "2024-10-09T14:53:26.075976Z"
    }
   },
   "outputs": [
    {
     "data": {
      "text/plain": [
       "0.8685714285714285"
      ]
     },
     "execution_count": 72,
     "metadata": {},
     "output_type": "execute_result"
    }
   ],
   "source": [
    "jaccard_df.at[\"deu\", \"eng\"]"
   ]
  },
  {
   "cell_type": "code",
   "execution_count": 73,
   "id": "5f71de95-58c3-40c5-915a-eb2e5b2c3e7f",
   "metadata": {
    "execution": {
     "iopub.execute_input": "2024-10-09T14:53:31.112006Z",
     "iopub.status.busy": "2024-10-09T14:53:31.111088Z",
     "iopub.status.idle": "2024-10-09T14:53:35.330975Z",
     "shell.execute_reply": "2024-10-09T14:53:35.328639Z",
     "shell.execute_reply.started": "2024-10-09T14:53:31.111957Z"
    }
   },
   "outputs": [],
   "source": [
    "jaccard_df.to_csv(\"../datasets/lang2lang/clics_jaccard.csv\")"
   ]
  },
  {
   "cell_type": "code",
   "execution_count": null,
   "id": "19f76607-f807-44e4-b371-0b7ee1ccc39f",
   "metadata": {},
   "outputs": [],
   "source": []
  },
  {
   "cell_type": "code",
   "execution_count": null,
   "id": "77de4eb1-d480-43c5-9bd6-6f4b3534b0d4",
   "metadata": {},
   "outputs": [],
   "source": []
  },
  {
   "cell_type": "code",
   "execution_count": null,
   "id": "1268b2f2-86a1-4c93-b0aa-987a8c807d8e",
   "metadata": {},
   "outputs": [],
   "source": []
  },
  {
   "cell_type": "code",
   "execution_count": null,
   "id": "91bb0e20-bbea-4b09-a27d-413fdcb57ecf",
   "metadata": {},
   "outputs": [],
   "source": []
  },
  {
   "cell_type": "code",
   "execution_count": null,
   "id": "3423b908-e2cb-40e2-8c3a-a6c817d8330f",
   "metadata": {},
   "outputs": [],
   "source": []
  },
  {
   "cell_type": "code",
   "execution_count": 9,
   "id": "317539d7-a421-4b6b-aa5a-41e52a676250",
   "metadata": {
    "execution": {
     "iopub.execute_input": "2024-09-23T15:25:21.765139Z",
     "iopub.status.busy": "2024-09-23T15:25:21.764073Z",
     "iopub.status.idle": "2024-09-23T15:25:21.779535Z",
     "shell.execute_reply": "2024-09-23T15:25:21.778015Z",
     "shell.execute_reply.started": "2024-09-23T15:25:21.765077Z"
    }
   },
   "outputs": [
    {
     "data": {
      "text/plain": [
       "np.int64(1335)"
      ]
     },
     "execution_count": 9,
     "metadata": {},
     "output_type": "execute_result"
    }
   ],
   "source": [
    "np.max(colexnr_array)"
   ]
  },
  {
   "cell_type": "code",
   "execution_count": 18,
   "id": "a4a84d97-3341-409c-ad2b-334eaeb157e5",
   "metadata": {
    "execution": {
     "iopub.execute_input": "2024-09-23T15:28:22.646930Z",
     "iopub.status.busy": "2024-09-23T15:28:22.645939Z",
     "iopub.status.idle": "2024-09-23T15:28:22.660817Z",
     "shell.execute_reply": "2024-09-23T15:28:22.659211Z",
     "shell.execute_reply.started": "2024-09-23T15:28:22.646880Z"
    }
   },
   "outputs": [],
   "source": [
    "def get_quantile_box(arr):\n",
    "    # quantiles=np.quantile(arr, np.linspace(0,1,1335))\n",
    "    # plt.plot(np.linspace(0,1,1335), quantiles)\n",
    "    plt.boxplot(arr)\n",
    "    plt.xlabel('Quantile')\n",
    "    plt.ylabel('Value')\n",
    "    plt.title('Quantile Plot')\n",
    "    plt.show()"
   ]
  },
  {
   "cell_type": "code",
   "execution_count": 23,
   "id": "f463b701-80d2-471d-ab80-31fa216b8987",
   "metadata": {
    "execution": {
     "iopub.execute_input": "2024-09-23T15:29:50.868866Z",
     "iopub.status.busy": "2024-09-23T15:29:50.867894Z",
     "iopub.status.idle": "2024-09-23T15:29:50.886767Z",
     "shell.execute_reply": "2024-09-23T15:29:50.883694Z",
     "shell.execute_reply.started": "2024-09-23T15:29:50.868815Z"
    }
   },
   "outputs": [
    {
     "name": "stdout",
     "output_type": "stream",
     "text": [
      "The 25% quantile is: 3.0000\n"
     ]
    }
   ],
   "source": [
    "q25 = np.quantile(colexnr_array, 0.25)\n",
    "\n",
    "print(f\"The 25% quantile is: {q25:.4f}\")"
   ]
  },
  {
   "cell_type": "code",
   "execution_count": 19,
   "id": "86e29df3-c283-4a1b-9741-8c68103a8f9a",
   "metadata": {
    "execution": {
     "iopub.execute_input": "2024-09-23T15:28:25.183307Z",
     "iopub.status.busy": "2024-09-23T15:28:25.182130Z",
     "iopub.status.idle": "2024-09-23T15:28:25.291547Z",
     "shell.execute_reply": "2024-09-23T15:28:25.290932Z",
     "shell.execute_reply.started": "2024-09-23T15:28:25.183237Z"
    }
   },
   "outputs": [
    {
     "data": {
      "image/png": "[encoded data removed]",
      "text/plain": [
       "<Figure size 640x480 with 1 Axes>"
      ]
     },
     "metadata": {},
     "output_type": "display_data"
    }
   ],
   "source": [
    "get_quantile_box(colexnr_array)"
   ]
  },
  {
   "cell_type": "code",
   "execution_count": 20,
   "id": "d464994b-8e75-4f93-b320-1ad6153c1b11",
   "metadata": {
    "execution": {
     "iopub.execute_input": "2024-09-23T15:28:56.941668Z",
     "iopub.status.busy": "2024-09-23T15:28:56.940409Z",
     "iopub.status.idle": "2024-09-23T15:28:56.953096Z",
     "shell.execute_reply": "2024-09-23T15:28:56.952133Z",
     "shell.execute_reply.started": "2024-09-23T15:28:56.941591Z"
    }
   },
   "outputs": [],
   "source": [
    "def get_quantile_violin(arr):\n",
    "    # quantiles=np.quantile(arr, np.linspace(0,1,1335))\n",
    "    # plt.plot(np.linspace(0,1,1335), quantiles)\n",
    "    plt.violinplot(arr)\n",
    "    plt.xlabel('Quantile')\n",
    "    plt.ylabel('Value')\n",
    "    plt.title('Quantile Plot')\n",
    "    plt.show()"
   ]
  },
  {
   "cell_type": "code",
   "execution_count": 22,
   "id": "ec3061c3-e13d-44bb-bcf9-cbc1665c8296",
   "metadata": {
    "execution": {
     "iopub.execute_input": "2024-09-23T15:29:08.480928Z",
     "iopub.status.busy": "2024-09-23T15:29:08.480111Z",
     "iopub.status.idle": "2024-09-23T15:29:08.608435Z",
     "shell.execute_reply": "2024-09-23T15:29:08.607885Z",
     "shell.execute_reply.started": "2024-09-23T15:29:08.480882Z"
    }
   },
   "outputs": [
    {
     "data": {
      "image/png": "[encoded data removed]",
      "text/plain": [
       "<Figure size 640x480 with 1 Axes>"
      ]
     },
     "metadata": {},
     "output_type": "display_data"
    }
   ],
   "source": [
    "get_quantile_violin(colexnr_array)"
   ]
  },
  {
   "cell_type": "code",
   "execution_count": 24,
   "id": "7c0e0f33-9e25-4c9d-a179-1bac31c955ae",
   "metadata": {
    "execution": {
     "iopub.execute_input": "2024-09-23T15:32:55.113917Z",
     "iopub.status.busy": "2024-09-23T15:32:55.113011Z",
     "iopub.status.idle": "2024-09-23T15:32:55.124965Z",
     "shell.execute_reply": "2024-09-23T15:32:55.123392Z",
     "shell.execute_reply.started": "2024-09-23T15:32:55.113876Z"
    }
   },
   "outputs": [],
   "source": [
    "lang2colex_nr = {lang: colex_nr for lang,colex_nr in glotto2colex_nr.items() if colex_nr>=3}"
   ]
  },
  {
   "cell_type": "code",
   "execution_count": 27,
   "id": "19fad906-109c-4ba9-abe8-a11ba85342cc",
   "metadata": {
    "execution": {
     "iopub.execute_input": "2024-09-23T15:33:25.656261Z",
     "iopub.status.busy": "2024-09-23T15:33:25.655264Z",
     "iopub.status.idle": "2024-09-23T15:33:25.671311Z",
     "shell.execute_reply": "2024-09-23T15:33:25.669870Z",
     "shell.execute_reply.started": "2024-09-23T15:33:25.656205Z"
    }
   },
   "outputs": [
    {
     "data": {
      "text/plain": [
       "(1641, 1989)"
      ]
     },
     "execution_count": 27,
     "metadata": {},
     "output_type": "execute_result"
    }
   ],
   "source": [
    "len(lang2colex_nr), len(glotto2colex_nr)"
   ]
  },
  {
   "cell_type": "code",
   "execution_count": 31,
   "id": "7a316211-6fb2-4ada-a8d0-25920d0a1634",
   "metadata": {
    "execution": {
     "iopub.execute_input": "2024-09-23T15:35:43.259629Z",
     "iopub.status.busy": "2024-09-23T15:35:43.258480Z",
     "iopub.status.idle": "2024-09-23T15:35:43.269925Z",
     "shell.execute_reply": "2024-09-23T15:35:43.266978Z",
     "shell.execute_reply.started": "2024-09-23T15:35:43.259551Z"
    },
    "scrolled": true
   },
   "outputs": [],
   "source": [
    "langs_list = list(lang2colex_nr.keys())"
   ]
  },
  {
   "cell_type": "code",
   "execution_count": 38,
   "id": "65b5d26f-6c54-47ad-8654-7de068d7c7d8",
   "metadata": {
    "execution": {
     "iopub.execute_input": "2024-09-23T15:41:05.006202Z",
     "iopub.status.busy": "2024-09-23T15:41:05.005049Z",
     "iopub.status.idle": "2024-09-23T15:41:05.264555Z",
     "shell.execute_reply": "2024-09-23T15:41:05.264161Z",
     "shell.execute_reply.started": "2024-09-23T15:41:05.006130Z"
    },
    "scrolled": true
   },
   "outputs": [],
   "source": [
    "df = pd.DataFrame(list(colex_dict.items()), columns=[\"Key\", \"Value\"])"
   ]
  },
  {
   "cell_type": "code",
   "execution_count": 40,
   "id": "22a907b1-2ac6-423a-be64-d0ef47d98f92",
   "metadata": {
    "execution": {
     "iopub.execute_input": "2024-09-23T15:41:40.098489Z",
     "iopub.status.busy": "2024-09-23T15:41:40.096814Z",
     "iopub.status.idle": "2024-09-23T15:41:40.169299Z",
     "shell.execute_reply": "2024-09-23T15:41:40.168813Z",
     "shell.execute_reply.started": "2024-09-23T15:41:40.098428Z"
    },
    "scrolled": true
   },
   "outputs": [],
   "source": [
    "df[[\"Target\", \"Source\"]] = pd.DataFrame(df[\"Key\"].tolist(), index=df.index)"
   ]
  },
  {
   "cell_type": "code",
   "execution_count": 44,
   "id": "55cee592-eb5d-4fdc-a019-199b35f5f664",
   "metadata": {
    "execution": {
     "iopub.execute_input": "2024-09-23T15:42:46.911535Z",
     "iopub.status.busy": "2024-09-23T15:42:46.910769Z",
     "iopub.status.idle": "2024-09-23T15:42:46.933667Z",
     "shell.execute_reply": "2024-09-23T15:42:46.932602Z",
     "shell.execute_reply.started": "2024-09-23T15:42:46.911493Z"
    }
   },
   "outputs": [],
   "source": [
    "df = df.rename(columns={\"Value\":\"Weight\"})"
   ]
  },
  {
   "cell_type": "code",
   "execution_count": 45,
   "id": "08f26f62-59c9-4f92-8ddb-131a3497d64f",
   "metadata": {
    "execution": {
     "iopub.execute_input": "2024-09-23T15:43:08.196974Z",
     "iopub.status.busy": "2024-09-23T15:43:08.194675Z",
     "iopub.status.idle": "2024-09-23T15:43:08.229270Z",
     "shell.execute_reply": "2024-09-23T15:43:08.228749Z",
     "shell.execute_reply.started": "2024-09-23T15:43:08.196882Z"
    }
   },
   "outputs": [],
   "source": [
    "df = df[[\"Target\", \"Source\", \"Weight\"]]"
   ]
  },
  {
   "cell_type": "code",
   "execution_count": 49,
   "id": "06bbc81c-8fa1-487b-b28d-11eeda01f744",
   "metadata": {
    "execution": {
     "iopub.execute_input": "2024-09-23T15:44:33.967323Z",
     "iopub.status.busy": "2024-09-23T15:44:33.966405Z",
     "iopub.status.idle": "2024-09-23T15:44:34.323381Z",
     "shell.execute_reply": "2024-09-23T15:44:34.322963Z",
     "shell.execute_reply.started": "2024-09-23T15:44:33.967269Z"
    }
   },
   "outputs": [],
   "source": [
    "df[\"Colex_target\"] = df[\"Target\"].apply(lambda x: lang2colex_nr.get(x, None))\n",
    "df[\"Colex_source\"] = df[\"Source\"].apply(lambda x: lang2colex_nr.get(x, None))"
   ]
  },
  {
   "cell_type": "code",
   "execution_count": 51,
   "id": "cc8c5205-35d4-45c1-9a9d-bd497e478c6f",
   "metadata": {
    "execution": {
     "iopub.execute_input": "2024-09-23T15:44:43.750056Z",
     "iopub.status.busy": "2024-09-23T15:44:43.749091Z",
     "iopub.status.idle": "2024-09-23T15:44:43.827007Z",
     "shell.execute_reply": "2024-09-23T15:44:43.826504Z",
     "shell.execute_reply.started": "2024-09-23T15:44:43.749917Z"
    }
   },
   "outputs": [],
   "source": [
    "df = df.dropna()"
   ]
  },
  {
   "cell_type": "code",
   "execution_count": 58,
   "id": "a634b113-a26c-48da-af54-3f178a745ebe",
   "metadata": {
    "execution": {
     "iopub.execute_input": "2024-09-23T16:22:34.693965Z",
     "iopub.status.busy": "2024-09-23T16:22:34.693285Z",
     "iopub.status.idle": "2024-09-23T16:22:34.714728Z",
     "shell.execute_reply": "2024-09-23T16:22:34.713761Z",
     "shell.execute_reply.started": "2024-09-23T16:22:34.693915Z"
    }
   },
   "outputs": [
    {
     "data": {
      "text/html": [
       "<div>\n",
       "<style scoped>\n",
       "    .dataframe tbody tr th:only-of-type {\n",
       "        vertical-align: middle;\n",
       "    }\n",
       "\n",
       "    .dataframe tbody tr th {\n",
       "        vertical-align: top;\n",
       "    }\n",
       "\n",
       "    .dataframe thead th {\n",
       "        text-align: right;\n",
       "    }\n",
       "</style>\n",
       "<table border=\"1\" class=\"dataframe\">\n",
       "  <thead>\n",
       "    <tr style=\"text-align: right;\">\n",
       "      <th></th>\n",
       "      <th>Target</th>\n",
       "      <th>Source</th>\n",
       "      <th>Weight</th>\n",
       "      <th>Colex_target</th>\n",
       "      <th>Colex_source</th>\n",
       "    </tr>\n",
       "  </thead>\n",
       "  <tbody>\n",
       "    <tr>\n",
       "      <th>0</th>\n",
       "      <td>chao1238</td>\n",
       "      <td>chen1267</td>\n",
       "      <td>3</td>\n",
       "      <td>8.0</td>\n",
       "      <td>9.0</td>\n",
       "    </tr>\n",
       "    <tr>\n",
       "      <th>1</th>\n",
       "      <td>chao1238</td>\n",
       "      <td>fuzh1239</td>\n",
       "      <td>4</td>\n",
       "      <td>8.0</td>\n",
       "      <td>7.0</td>\n",
       "    </tr>\n",
       "  </tbody>\n",
       "</table>\n",
       "</div>"
      ],
      "text/plain": [
       "     Target    Source  Weight  Colex_target  Colex_source\n",
       "0  chao1238  chen1267       3           8.0           9.0\n",
       "1  chao1238  fuzh1239       4           8.0           7.0"
      ]
     },
     "execution_count": 58,
     "metadata": {},
     "output_type": "execute_result"
    }
   ],
   "source": [
    "df.head(2) "
   ]
  },
  {
   "cell_type": "code",
   "execution_count": 54,
   "id": "685ed65b-cd73-49e9-9055-2d421b987067",
   "metadata": {
    "execution": {
     "iopub.execute_input": "2024-09-23T16:12:40.098861Z",
     "iopub.status.busy": "2024-09-23T16:12:40.098116Z",
     "iopub.status.idle": "2024-09-23T16:12:57.448394Z",
     "shell.execute_reply": "2024-09-23T16:12:57.447944Z",
     "shell.execute_reply.started": "2024-09-23T16:12:40.098825Z"
    }
   },
   "outputs": [],
   "source": [
    "from nltk.metrics import *\n",
    "import pandas as pd\n",
    "\n",
    "bm = BigramAssocMeasures"
   ]
  },
  {
   "cell_type": "code",
   "execution_count": 55,
   "id": "1eeb56a5-6aaa-45e2-883a-56b5a8ce332e",
   "metadata": {
    "execution": {
     "iopub.execute_input": "2024-09-23T16:14:32.996163Z",
     "iopub.status.busy": "2024-09-23T16:14:32.994870Z",
     "iopub.status.idle": "2024-09-23T16:14:33.009182Z",
     "shell.execute_reply": "2024-09-23T16:14:33.007741Z",
     "shell.execute_reply.started": "2024-09-23T16:14:32.996094Z"
    }
   },
   "outputs": [
    {
     "data": {
      "text/plain": [
       "75842"
      ]
     },
     "execution_count": 55,
     "metadata": {},
     "output_type": "execute_result"
    }
   ],
   "source": [
    "total_colex_nr = sum(list(lang2colex_nr.values()))\n",
    "total_colex_nr"
   ]
  },
  {
   "cell_type": "code",
   "execution_count": 59,
   "id": "fdc0e58d-06c2-42ea-af97-ed03ca8a75a0",
   "metadata": {
    "execution": {
     "iopub.execute_input": "2024-09-23T16:22:49.187405Z",
     "iopub.status.busy": "2024-09-23T16:22:49.186872Z",
     "iopub.status.idle": "2024-09-23T16:22:49.192657Z",
     "shell.execute_reply": "2024-09-23T16:22:49.191706Z",
     "shell.execute_reply.started": "2024-09-23T16:22:49.187371Z"
    }
   },
   "outputs": [],
   "source": [
    "def calculate_pmi(x,y,z):\n",
    "    pmi = bm.pmi(x,(y,z), total_colex_nr)\n",
    "    return pmi"
   ]
  },
  {
   "cell_type": "code",
   "execution_count": 60,
   "id": "bd2d6f83-43be-4968-b45d-36bd55255880",
   "metadata": {
    "execution": {
     "iopub.execute_input": "2024-09-23T16:23:41.365578Z",
     "iopub.status.busy": "2024-09-23T16:23:41.364825Z",
     "iopub.status.idle": "2024-09-23T16:23:45.853206Z",
     "shell.execute_reply": "2024-09-23T16:23:45.852744Z",
     "shell.execute_reply.started": "2024-09-23T16:23:41.365539Z"
    }
   },
   "outputs": [
    {
     "name": "stderr",
     "output_type": "stream",
     "text": [
      "/var/folders/bj/qp6k2wl11h5gpn8j4hg0tgf40000gn/T/ipykernel_94032/4107798813.py:1: SettingWithCopyWarning: \n",
      "A value is trying to be set on a copy of a slice from a DataFrame.\n",
      "Try using .loc[row_indexer,col_indexer] = value instead\n",
      "\n",
      "See the caveats in the documentation: https://pandas.pydata.org/pandas-docs/stable/user_guide/indexing.html#returning-a-view-versus-a-copy\n",
      "  df[\"pmi\"] = df.apply(lambda row: calculate_pmi(row[\"Weight\"], row[\"Colex_target\"], row[\"Colex_source\"]), axis=1)\n"
     ]
    }
   ],
   "source": [
    "df[\"pmi\"] = df.apply(lambda row: calculate_pmi(row[\"Weight\"], row[\"Colex_target\"], row[\"Colex_source\"]), axis=1)"
   ]
  },
  {
   "cell_type": "code",
   "execution_count": 63,
   "id": "d93323bb-db90-4ed2-a60c-57023dde56ee",
   "metadata": {
    "execution": {
     "iopub.execute_input": "2024-09-23T16:26:33.640130Z",
     "iopub.status.busy": "2024-09-23T16:26:33.639259Z",
     "iopub.status.idle": "2024-09-23T16:26:35.257348Z",
     "shell.execute_reply": "2024-09-23T16:26:35.256469Z",
     "shell.execute_reply.started": "2024-09-23T16:26:33.640065Z"
    }
   },
   "outputs": [],
   "source": [
    "df.to_csv(\"../datasets/lang2lang/clics3.csv\", index=False)"
   ]
  },
  {
   "cell_type": "code",
   "execution_count": 64,
   "id": "1a1f7aaa-3f31-45be-99ef-7debe5ce7ee4",
   "metadata": {
    "execution": {
     "iopub.execute_input": "2024-09-23T16:28:31.284581Z",
     "iopub.status.busy": "2024-09-23T16:28:31.284038Z",
     "iopub.status.idle": "2024-09-23T16:28:31.291615Z",
     "shell.execute_reply": "2024-09-23T16:28:31.290406Z",
     "shell.execute_reply.started": "2024-09-23T16:28:31.284547Z"
    }
   },
   "outputs": [],
   "source": [
    "def get_boxplot(arr):\n",
    "    # quantiles=np.quantile(arr, np.linspace(0,1,1335))\n",
    "    # plt.plot(np.linspace(0,1,1335), quantiles)\n",
    "    plt.boxplot(arr)\n",
    "    plt.xlabel('PMI')\n",
    "    plt.ylabel('Value')\n",
    "    plt.title('Plot')\n",
    "    plt.show()"
   ]
  },
  {
   "cell_type": "code",
   "execution_count": 65,
   "id": "20d477d0-3032-4aab-a73a-1b05e41f32f7",
   "metadata": {
    "execution": {
     "iopub.execute_input": "2024-09-23T16:28:42.798120Z",
     "iopub.status.busy": "2024-09-23T16:28:42.797222Z",
     "iopub.status.idle": "2024-09-23T16:28:43.922852Z",
     "shell.execute_reply": "2024-09-23T16:28:43.922383Z",
     "shell.execute_reply.started": "2024-09-23T16:28:42.798077Z"
    },
    "scrolled": true
   },
   "outputs": [
    {
     "data": {
      "image/png": "[encoded data removed]",
      "text/plain": [
       "<Figure size 640x480 with 1 Axes>"
      ]
     },
     "metadata": {},
     "output_type": "display_data"
    }
   ],
   "source": [
    "get_boxplot(df[\"pmi\"].tolist())"
   ]
  },
  {
   "cell_type": "code",
   "execution_count": null,
   "id": "f67957f0-0173-48e9-91b6-f63d077c7413",
   "metadata": {},
   "outputs": [],
   "source": []
  },
  {
   "cell_type": "code",
   "execution_count": null,
   "id": "26105231-e42f-445f-bb53-1c23bd5910fa",
   "metadata": {},
   "outputs": [],
   "source": []
  },
  {
   "cell_type": "code",
   "execution_count": null,
   "id": "2076b733-414b-42ee-895d-17c42fc5b582",
   "metadata": {},
   "outputs": [],
   "source": []
  },
  {
   "cell_type": "code",
   "execution_count": 2,
   "id": "4da6f96b-c57c-452a-a175-fc9a902aa806",
   "metadata": {
    "execution": {
     "iopub.execute_input": "2024-09-23T20:57:15.042692Z",
     "iopub.status.busy": "2024-09-23T20:57:15.041882Z",
     "iopub.status.idle": "2024-09-23T20:57:15.258191Z",
     "shell.execute_reply": "2024-09-23T20:57:15.257723Z",
     "shell.execute_reply.started": "2024-09-23T20:57:15.042644Z"
    }
   },
   "outputs": [],
   "source": [
    "df = pd.read_csv(\"../datasets/lang2lang/clics3.csv\")"
   ]
  },
  {
   "cell_type": "code",
   "execution_count": 10,
   "id": "7866b75e-bdc7-4ef9-9713-dbb234f43527",
   "metadata": {
    "execution": {
     "iopub.execute_input": "2024-09-23T21:05:32.351002Z",
     "iopub.status.busy": "2024-09-23T21:05:32.349363Z",
     "iopub.status.idle": "2024-09-23T21:05:32.364201Z",
     "shell.execute_reply": "2024-09-23T21:05:32.363387Z",
     "shell.execute_reply.started": "2024-09-23T21:05:32.350938Z"
    }
   },
   "outputs": [],
   "source": [
    "x_min=df[\"pmi\"].min()\n",
    "x_max=df[\"pmi\"].max()"
   ]
  },
  {
   "cell_type": "code",
   "execution_count": 11,
   "id": "67b2e658-e666-47ab-bde1-d0887afe5947",
   "metadata": {
    "execution": {
     "iopub.execute_input": "2024-09-23T21:05:51.416745Z",
     "iopub.status.busy": "2024-09-23T21:05:51.415830Z",
     "iopub.status.idle": "2024-09-23T21:05:51.435134Z",
     "shell.execute_reply": "2024-09-23T21:05:51.433797Z",
     "shell.execute_reply.started": "2024-09-23T21:05:51.416706Z"
    }
   },
   "outputs": [
    {
     "data": {
      "text/plain": [
       "(np.float64(-3.10560529248788), np.float64(14.625746888318115))"
      ]
     },
     "execution_count": 11,
     "metadata": {},
     "output_type": "execute_result"
    }
   ],
   "source": [
    "x_min, x_max"
   ]
  },
  {
   "cell_type": "code",
   "execution_count": 12,
   "id": "47bb3339-da22-4ebd-b7cc-76c86cbbe23a",
   "metadata": {
    "execution": {
     "iopub.execute_input": "2024-09-23T21:05:58.214142Z",
     "iopub.status.busy": "2024-09-23T21:05:58.213211Z",
     "iopub.status.idle": "2024-09-23T21:05:58.228471Z",
     "shell.execute_reply": "2024-09-23T21:05:58.224533Z",
     "shell.execute_reply.started": "2024-09-23T21:05:58.214097Z"
    }
   },
   "outputs": [],
   "source": [
    "def normalize(x):\n",
    "    return (x - x_min) / (x_max - x_min)"
   ]
  },
  {
   "cell_type": "code",
   "execution_count": 72,
   "id": "9ee4479a-1d2a-4e8d-b247-cef29209aea5",
   "metadata": {
    "execution": {
     "iopub.execute_input": "2024-09-24T13:50:54.768633Z",
     "iopub.status.busy": "2024-09-24T13:50:54.768127Z",
     "iopub.status.idle": "2024-09-24T13:50:54.790147Z",
     "shell.execute_reply": "2024-09-24T13:50:54.789195Z",
     "shell.execute_reply.started": "2024-09-24T13:50:54.768602Z"
    }
   },
   "outputs": [
    {
     "data": {
      "text/html": [
       "<div>\n",
       "<style scoped>\n",
       "    .dataframe tbody tr th:only-of-type {\n",
       "        vertical-align: middle;\n",
       "    }\n",
       "\n",
       "    .dataframe tbody tr th {\n",
       "        vertical-align: top;\n",
       "    }\n",
       "\n",
       "    .dataframe thead th {\n",
       "        text-align: right;\n",
       "    }\n",
       "</style>\n",
       "<table border=\"1\" class=\"dataframe\">\n",
       "  <thead>\n",
       "    <tr style=\"text-align: right;\">\n",
       "      <th></th>\n",
       "      <th>Target</th>\n",
       "      <th>Source</th>\n",
       "      <th>Weight</th>\n",
       "      <th>Colex_target</th>\n",
       "      <th>Colex_source</th>\n",
       "      <th>pmi</th>\n",
       "      <th>pmi_norm</th>\n",
       "    </tr>\n",
       "  </thead>\n",
       "  <tbody>\n",
       "    <tr>\n",
       "      <th>0</th>\n",
       "      <td>chao1238</td>\n",
       "      <td>chen1267</td>\n",
       "      <td>3</td>\n",
       "      <td>8.0</td>\n",
       "      <td>9.0</td>\n",
       "      <td>11.625747</td>\n",
       "      <td>0.830808</td>\n",
       "    </tr>\n",
       "    <tr>\n",
       "      <th>1</th>\n",
       "      <td>chao1238</td>\n",
       "      <td>fuzh1239</td>\n",
       "      <td>4</td>\n",
       "      <td>8.0</td>\n",
       "      <td>7.0</td>\n",
       "      <td>12.403354</td>\n",
       "      <td>0.874663</td>\n",
       "    </tr>\n",
       "  </tbody>\n",
       "</table>\n",
       "</div>"
      ],
      "text/plain": [
       "     Target    Source  Weight  Colex_target  Colex_source        pmi  pmi_norm\n",
       "0  chao1238  chen1267       3           8.0           9.0  11.625747  0.830808\n",
       "1  chao1238  fuzh1239       4           8.0           7.0  12.403354  0.874663"
      ]
     },
     "execution_count": 72,
     "metadata": {},
     "output_type": "execute_result"
    }
   ],
   "source": [
    "df.head(2)"
   ]
  },
  {
   "cell_type": "code",
   "execution_count": 13,
   "id": "3943204f-17d6-4c79-ac34-92aa99cf060d",
   "metadata": {
    "execution": {
     "iopub.execute_input": "2024-09-23T21:06:05.545280Z",
     "iopub.status.busy": "2024-09-23T21:06:05.543988Z",
     "iopub.status.idle": "2024-09-23T21:06:05.820511Z",
     "shell.execute_reply": "2024-09-23T21:06:05.819959Z",
     "shell.execute_reply.started": "2024-09-23T21:06:05.545207Z"
    }
   },
   "outputs": [],
   "source": [
    "df[\"pmi_norm\"] = df[\"pmi\"].apply(normalize)"
   ]
  },
  {
   "cell_type": "code",
   "execution_count": 15,
   "id": "8befa85b-a68f-4b4c-94c4-6e168827ae2f",
   "metadata": {
    "execution": {
     "iopub.execute_input": "2024-09-23T21:06:38.805524Z",
     "iopub.status.busy": "2024-09-23T21:06:38.804253Z",
     "iopub.status.idle": "2024-09-23T21:06:40.891580Z",
     "shell.execute_reply": "2024-09-23T21:06:40.891187Z",
     "shell.execute_reply.started": "2024-09-23T21:06:38.805454Z"
    }
   },
   "outputs": [],
   "source": [
    "df.to_csv(\"../datasets/lang2lang/clics3.csv\", index=False)"
   ]
  },
  {
   "cell_type": "code",
   "execution_count": null,
   "id": "ab47c995-3d04-4829-841b-89544c18fd6c",
   "metadata": {},
   "outputs": [],
   "source": []
  }
 ],
 "metadata": {
  "kernelspec": {
   "display_name": "envlc",
   "language": "python",
   "name": "envlc"
  },
  "language_info": {
   "codemirror_mode": {
    "name": "ipython",
    "version": 3
   },
   "file_extension": ".py",
   "mimetype": "text/x-python",
   "name": "python",
   "nbconvert_exporter": "python",
   "pygments_lexer": "ipython3",
   "version": "3.12.0"
  }
 },
 "nbformat": 4,
 "nbformat_minor": 5
}
