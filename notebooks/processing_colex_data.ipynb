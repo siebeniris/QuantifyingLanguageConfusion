{
 "cells": [
  {
   "cell_type": "code",
   "execution_count": 15,
   "id": "1aa87ca0-e7e9-41d3-b55c-e2b9b3e72726",
   "metadata": {
    "execution": {
     "iopub.execute_input": "2024-09-23T15:27:39.011752Z",
     "iopub.status.busy": "2024-09-23T15:27:39.010916Z",
     "iopub.status.idle": "2024-09-23T15:27:39.025253Z",
     "shell.execute_reply": "2024-09-23T15:27:39.023780Z",
     "shell.execute_reply.started": "2024-09-23T15:27:39.011706Z"
    }
   },
   "outputs": [],
   "source": [
    "import pandas as pd\n",
    "from itertools import combinations\n",
    "from collections import defaultdict, Counter\n",
    "import json\n",
    "import numpy as np\n",
    "import matplotlib.pyplot as plt\n",
    "import seaborn as sns\n",
    "import scipy.stats as stats\n",
    "%matplotlib inline"
   ]
  },
  {
   "cell_type": "markdown",
   "id": "c225b59b-a8d6-418a-b47b-21a56ddc624b",
   "metadata": {},
   "source": [
    "# Preprocessing Colexification Patterns into Lang2lang graph with overlapping Colexification Patterns"
   ]
  },
  {
   "cell_type": "code",
   "execution_count": 3,
   "id": "cdb9b1a5-8500-4e29-947a-17aa59ed7dba",
   "metadata": {
    "execution": {
     "iopub.execute_input": "2024-09-23T15:23:58.428614Z",
     "iopub.status.busy": "2024-09-23T15:23:58.428086Z",
     "iopub.status.idle": "2024-09-23T15:23:58.439837Z",
     "shell.execute_reply": "2024-09-23T15:23:58.438463Z",
     "shell.execute_reply.started": "2024-09-23T15:23:58.428580Z"
    }
   },
   "outputs": [],
   "source": [
    "def co_occurrence_table(df: pd.DataFrame, by_id: str):\n",
    "    # df[\"Colex_ID\"] = df[\"Colex_ID\"].astype(\"Int64\")\n",
    "    df[\"Colex_ID\"] = df[\"Colex_ID\"].astype(\"Int64\")\n",
    "    print('len of colexification df:', len(df))\n",
    "    # df = df.drop_duplicates(subset=[by_id, \"Colex_ID\"])\n",
    "    df = df.drop_duplicates(subset=[by_id, \"Colex_ID\"])\n",
    "    print(f'len of df after droping duplicates for {by_id}:', len(df))\n",
    "    codf = df[[by_id, \"Colex_ID\"]]\n",
    "    co_dict = defaultdict(int)\n",
    "\n",
    "    num_of_colexification_ignoring_forms = 0\n",
    "    for k, group in codf.groupby([\"Colex_ID\"]):\n",
    "        num_of_colexification_ignoring_forms += len(group)\n",
    "        combs = combinations(group[by_id].tolist(), 2)\n",
    "        for p in combs:\n",
    "            t1, t2 = sorted(p) # sorted \n",
    "            if t1 != t2:\n",
    "                co_dict[p] += 1\n",
    "    return co_dict, num_of_colexification_ignoring_forms"
   ]
  },
  {
   "cell_type": "code",
   "execution_count": 4,
   "id": "ce42829e-e2f1-483f-bbf1-996d566a1ce9",
   "metadata": {
    "execution": {
     "iopub.execute_input": "2024-09-23T15:24:00.203180Z",
     "iopub.status.busy": "2024-09-23T15:24:00.202063Z",
     "iopub.status.idle": "2024-09-23T15:24:00.465253Z",
     "shell.execute_reply": "2024-09-23T15:24:00.464822Z",
     "shell.execute_reply.started": "2024-09-23T15:24:00.203137Z"
    }
   },
   "outputs": [],
   "source": [
    "colex_df= pd.read_csv(\"../datasets/colexifications/colex_clics3.csv\")"
   ]
  },
  {
   "cell_type": "code",
   "execution_count": 5,
   "id": "34338000-16ec-4584-b7d6-4d4085c24ad9",
   "metadata": {
    "execution": {
     "iopub.execute_input": "2024-09-23T15:24:02.595628Z",
     "iopub.status.busy": "2024-09-23T15:24:02.593257Z",
     "iopub.status.idle": "2024-09-23T15:24:02.622073Z",
     "shell.execute_reply": "2024-09-23T15:24:02.621608Z",
     "shell.execute_reply.started": "2024-09-23T15:24:02.595553Z"
    }
   },
   "outputs": [
    {
     "data": {
      "text/html": [
       "<div>\n",
       "<style scoped>\n",
       "    .dataframe tbody tr th:only-of-type {\n",
       "        vertical-align: middle;\n",
       "    }\n",
       "\n",
       "    .dataframe tbody tr th {\n",
       "        vertical-align: top;\n",
       "    }\n",
       "\n",
       "    .dataframe thead th {\n",
       "        text-align: right;\n",
       "    }\n",
       "</style>\n",
       "<table border=\"1\" class=\"dataframe\">\n",
       "  <thead>\n",
       "    <tr style=\"text-align: right;\">\n",
       "      <th></th>\n",
       "      <th>Form_ID_x</th>\n",
       "      <th>Form_ID_y</th>\n",
       "      <th>Concepticon_ID_x</th>\n",
       "      <th>Concepticon_ID_y</th>\n",
       "      <th>Colex_ID</th>\n",
       "      <th>Language_ID</th>\n",
       "      <th>Parameter_ID</th>\n",
       "      <th>Value</th>\n",
       "      <th>Form</th>\n",
       "      <th>Language_Name</th>\n",
       "      <th>...</th>\n",
       "      <th>ISO639P3code</th>\n",
       "      <th>Macroarea</th>\n",
       "      <th>Family</th>\n",
       "      <th>Wals_ID</th>\n",
       "      <th>Wals_Name</th>\n",
       "      <th>Latitude</th>\n",
       "      <th>Longitude</th>\n",
       "      <th>Glottocode_wals</th>\n",
       "      <th>Subfamily</th>\n",
       "      <th>Genus</th>\n",
       "    </tr>\n",
       "  </thead>\n",
       "  <tbody>\n",
       "    <tr>\n",
       "      <th>0</th>\n",
       "      <td>Chaozhou-61_soilearth-1</td>\n",
       "      <td>Chaozhou-60_mudearth-1</td>\n",
       "      <td>1228</td>\n",
       "      <td>640</td>\n",
       "      <td>0</td>\n",
       "      <td>Chaozhou</td>\n",
       "      <td>61_soilearth</td>\n",
       "      <td>tʰou⁵⁵</td>\n",
       "      <td>tʰou⁵⁵</td>\n",
       "      <td>Chaozhou</td>\n",
       "      <td>...</td>\n",
       "      <td>NaN</td>\n",
       "      <td>Eurasia</td>\n",
       "      <td>Sino-Tibetan</td>\n",
       "      <td>NaN</td>\n",
       "      <td>NaN</td>\n",
       "      <td>NaN</td>\n",
       "      <td>NaN</td>\n",
       "      <td>NaN</td>\n",
       "      <td>NaN</td>\n",
       "      <td>NaN</td>\n",
       "    </tr>\n",
       "    <tr>\n",
       "      <th>1</th>\n",
       "      <td>Chengdu-61_soilearth-1</td>\n",
       "      <td>Chengdu-60_mudearth-1</td>\n",
       "      <td>1228</td>\n",
       "      <td>640</td>\n",
       "      <td>0</td>\n",
       "      <td>Chengdu</td>\n",
       "      <td>61_soilearth</td>\n",
       "      <td>ȵi³¹pa⁴⁴</td>\n",
       "      <td>ȵi³¹pa⁴⁴</td>\n",
       "      <td>Chengdu</td>\n",
       "      <td>...</td>\n",
       "      <td>NaN</td>\n",
       "      <td>NaN</td>\n",
       "      <td>Sino-Tibetan</td>\n",
       "      <td>NaN</td>\n",
       "      <td>NaN</td>\n",
       "      <td>NaN</td>\n",
       "      <td>NaN</td>\n",
       "      <td>NaN</td>\n",
       "      <td>NaN</td>\n",
       "      <td>NaN</td>\n",
       "    </tr>\n",
       "  </tbody>\n",
       "</table>\n",
       "<p>2 rows × 22 columns</p>\n",
       "</div>"
      ],
      "text/plain": [
       "                 Form_ID_x               Form_ID_y  Concepticon_ID_x  \\\n",
       "0  Chaozhou-61_soilearth-1  Chaozhou-60_mudearth-1              1228   \n",
       "1   Chengdu-61_soilearth-1   Chengdu-60_mudearth-1              1228   \n",
       "\n",
       "   Concepticon_ID_y  Colex_ID Language_ID  Parameter_ID     Value      Form  \\\n",
       "0               640         0    Chaozhou  61_soilearth    tʰou⁵⁵    tʰou⁵⁵   \n",
       "1               640         0     Chengdu  61_soilearth  ȵi³¹pa⁴⁴  ȵi³¹pa⁴⁴   \n",
       "\n",
       "  Language_Name  ... ISO639P3code Macroarea        Family Wals_ID Wals_Name  \\\n",
       "0      Chaozhou  ...          NaN   Eurasia  Sino-Tibetan     NaN       NaN   \n",
       "1       Chengdu  ...          NaN       NaN  Sino-Tibetan     NaN       NaN   \n",
       "\n",
       "  Latitude Longitude  Glottocode_wals  Subfamily Genus  \n",
       "0      NaN       NaN              NaN        NaN   NaN  \n",
       "1      NaN       NaN              NaN        NaN   NaN  \n",
       "\n",
       "[2 rows x 22 columns]"
      ]
     },
     "execution_count": 5,
     "metadata": {},
     "output_type": "execute_result"
    }
   ],
   "source": [
    "colex_df.head(2)"
   ]
  },
  {
   "cell_type": "code",
   "execution_count": 6,
   "id": "a4135c03-953e-414b-87ad-0946016e1ad2",
   "metadata": {
    "execution": {
     "iopub.execute_input": "2024-09-23T15:24:09.976807Z",
     "iopub.status.busy": "2024-09-23T15:24:09.976266Z",
     "iopub.status.idle": "2024-09-23T15:24:11.347920Z",
     "shell.execute_reply": "2024-09-23T15:24:11.347414Z",
     "shell.execute_reply.started": "2024-09-23T15:24:09.976774Z"
    },
    "scrolled": true
   },
   "outputs": [
    {
     "name": "stdout",
     "output_type": "stream",
     "text": [
      "len of colexification df: 76346\n",
      "len of df after droping duplicates for Glottocode_clics: 66827\n"
     ]
    }
   ],
   "source": [
    "colex_dict, num_of_colexification_ignoring_forms =  co_occurrence_table(colex_df, \"Glottocode_clics\")"
   ]
  },
  {
   "cell_type": "code",
   "execution_count": 7,
   "id": "7020003a-8383-4513-b80d-94ac61653215",
   "metadata": {
    "execution": {
     "iopub.execute_input": "2024-09-23T15:24:14.878105Z",
     "iopub.status.busy": "2024-09-23T15:24:14.877338Z",
     "iopub.status.idle": "2024-09-23T15:24:14.911185Z",
     "shell.execute_reply": "2024-09-23T15:24:14.910581Z",
     "shell.execute_reply.started": "2024-09-23T15:24:14.878065Z"
    }
   },
   "outputs": [],
   "source": [
    "glotto2colex_nr = colex_df.groupby([\"Glottocode_clics\"])[\"Colex_ID\"].count().to_dict()"
   ]
  },
  {
   "cell_type": "code",
   "execution_count": 8,
   "id": "abff5e20-53ac-4af7-9e51-e8a6781cb63a",
   "metadata": {
    "execution": {
     "iopub.execute_input": "2024-09-23T15:24:30.727442Z",
     "iopub.status.busy": "2024-09-23T15:24:30.726244Z",
     "iopub.status.idle": "2024-09-23T15:24:30.738060Z",
     "shell.execute_reply": "2024-09-23T15:24:30.736517Z",
     "shell.execute_reply.started": "2024-09-23T15:24:30.727367Z"
    },
    "scrolled": true
   },
   "outputs": [],
   "source": [
    "colexnr_array = list(glotto2colex_nr.values())"
   ]
  },
  {
   "cell_type": "markdown",
   "id": "9707c9af-90e3-4c1d-8e36-b50911b89a9d",
   "metadata": {},
   "source": [
    "## Finding the threshold for including languages which contain colexifications"
   ]
  },
  {
   "cell_type": "code",
   "execution_count": 9,
   "id": "317539d7-a421-4b6b-aa5a-41e52a676250",
   "metadata": {
    "execution": {
     "iopub.execute_input": "2024-09-23T15:25:21.765139Z",
     "iopub.status.busy": "2024-09-23T15:25:21.764073Z",
     "iopub.status.idle": "2024-09-23T15:25:21.779535Z",
     "shell.execute_reply": "2024-09-23T15:25:21.778015Z",
     "shell.execute_reply.started": "2024-09-23T15:25:21.765077Z"
    }
   },
   "outputs": [
    {
     "data": {
      "text/plain": [
       "np.int64(1335)"
      ]
     },
     "execution_count": 9,
     "metadata": {},
     "output_type": "execute_result"
    }
   ],
   "source": [
    "np.max(colexnr_array)"
   ]
  },
  {
   "cell_type": "code",
   "execution_count": 18,
   "id": "a4a84d97-3341-409c-ad2b-334eaeb157e5",
   "metadata": {
    "execution": {
     "iopub.execute_input": "2024-09-23T15:28:22.646930Z",
     "iopub.status.busy": "2024-09-23T15:28:22.645939Z",
     "iopub.status.idle": "2024-09-23T15:28:22.660817Z",
     "shell.execute_reply": "2024-09-23T15:28:22.659211Z",
     "shell.execute_reply.started": "2024-09-23T15:28:22.646880Z"
    }
   },
   "outputs": [],
   "source": [
    "def get_quantile_box(arr):\n",
    "    # quantiles=np.quantile(arr, np.linspace(0,1,1335))\n",
    "    # plt.plot(np.linspace(0,1,1335), quantiles)\n",
    "    plt.boxplot(arr)\n",
    "    plt.xlabel('Quantile')\n",
    "    plt.ylabel('Value')\n",
    "    plt.title('Quantile Plot')\n",
    "    plt.show()"
   ]
  },
  {
   "cell_type": "code",
   "execution_count": 23,
   "id": "f463b701-80d2-471d-ab80-31fa216b8987",
   "metadata": {
    "execution": {
     "iopub.execute_input": "2024-09-23T15:29:50.868866Z",
     "iopub.status.busy": "2024-09-23T15:29:50.867894Z",
     "iopub.status.idle": "2024-09-23T15:29:50.886767Z",
     "shell.execute_reply": "2024-09-23T15:29:50.883694Z",
     "shell.execute_reply.started": "2024-09-23T15:29:50.868815Z"
    }
   },
   "outputs": [
    {
     "name": "stdout",
     "output_type": "stream",
     "text": [
      "The 25% quantile is: 3.0000\n"
     ]
    }
   ],
   "source": [
    "q25 = np.quantile(colexnr_array, 0.25)\n",
    "\n",
    "print(f\"The 25% quantile is: {q25:.4f}\")"
   ]
  },
  {
   "cell_type": "code",
   "execution_count": 19,
   "id": "86e29df3-c283-4a1b-9741-8c68103a8f9a",
   "metadata": {
    "execution": {
     "iopub.execute_input": "2024-09-23T15:28:25.183307Z",
     "iopub.status.busy": "2024-09-23T15:28:25.182130Z",
     "iopub.status.idle": "2024-09-23T15:28:25.291547Z",
     "shell.execute_reply": "2024-09-23T15:28:25.290932Z",
     "shell.execute_reply.started": "2024-09-23T15:28:25.183237Z"
    }
   },
   "outputs": [
    {
     "data": {
      "image/png": "[encoded data removed]",
      "text/plain": [
       "<Figure size 640x480 with 1 Axes>"
      ]
     },
     "metadata": {},
     "output_type": "display_data"
    }
   ],
   "source": [
    "get_quantile_box(colexnr_array)"
   ]
  },
  {
   "cell_type": "code",
   "execution_count": 20,
   "id": "d464994b-8e75-4f93-b320-1ad6153c1b11",
   "metadata": {
    "execution": {
     "iopub.execute_input": "2024-09-23T15:28:56.941668Z",
     "iopub.status.busy": "2024-09-23T15:28:56.940409Z",
     "iopub.status.idle": "2024-09-23T15:28:56.953096Z",
     "shell.execute_reply": "2024-09-23T15:28:56.952133Z",
     "shell.execute_reply.started": "2024-09-23T15:28:56.941591Z"
    }
   },
   "outputs": [],
   "source": [
    "def get_quantile_violin(arr):\n",
    "    # quantiles=np.quantile(arr, np.linspace(0,1,1335))\n",
    "    # plt.plot(np.linspace(0,1,1335), quantiles)\n",
    "    plt.violinplot(arr)\n",
    "    plt.xlabel('Quantile')\n",
    "    plt.ylabel('Value')\n",
    "    plt.title('Quantile Plot')\n",
    "    plt.show()"
   ]
  },
  {
   "cell_type": "code",
   "execution_count": 22,
   "id": "ec3061c3-e13d-44bb-bcf9-cbc1665c8296",
   "metadata": {
    "execution": {
     "iopub.execute_input": "2024-09-23T15:29:08.480928Z",
     "iopub.status.busy": "2024-09-23T15:29:08.480111Z",
     "iopub.status.idle": "2024-09-23T15:29:08.608435Z",
     "shell.execute_reply": "2024-09-23T15:29:08.607885Z",
     "shell.execute_reply.started": "2024-09-23T15:29:08.480882Z"
    }
   },
   "outputs": [
    {
     "data": {
      "image/png": "[encoded data removed]",
      "text/plain": [
       "<Figure size 640x480 with 1 Axes>"
      ]
     },
     "metadata": {},
     "output_type": "display_data"
    }
   ],
   "source": [
    "get_quantile_violin(colexnr_array)"
   ]
  },
  {
   "cell_type": "markdown",
   "id": "a84fcab8-ab53-45ff-9f00-ffae18cc4cfc",
   "metadata": {},
   "source": [
    "# Get the Colexification Language to Language Graph"
   ]
  },
  {
   "cell_type": "code",
   "execution_count": 24,
   "id": "7c0e0f33-9e25-4c9d-a179-1bac31c955ae",
   "metadata": {
    "execution": {
     "iopub.execute_input": "2024-09-23T15:32:55.113917Z",
     "iopub.status.busy": "2024-09-23T15:32:55.113011Z",
     "iopub.status.idle": "2024-09-23T15:32:55.124965Z",
     "shell.execute_reply": "2024-09-23T15:32:55.123392Z",
     "shell.execute_reply.started": "2024-09-23T15:32:55.113876Z"
    }
   },
   "outputs": [],
   "source": [
    "lang2colex_nr = {lang: colex_nr for lang,colex_nr in glotto2colex_nr.items() if colex_nr>=3}"
   ]
  },
  {
   "cell_type": "code",
   "execution_count": 27,
   "id": "19fad906-109c-4ba9-abe8-a11ba85342cc",
   "metadata": {
    "execution": {
     "iopub.execute_input": "2024-09-23T15:33:25.656261Z",
     "iopub.status.busy": "2024-09-23T15:33:25.655264Z",
     "iopub.status.idle": "2024-09-23T15:33:25.671311Z",
     "shell.execute_reply": "2024-09-23T15:33:25.669870Z",
     "shell.execute_reply.started": "2024-09-23T15:33:25.656205Z"
    }
   },
   "outputs": [
    {
     "data": {
      "text/plain": [
       "(1641, 1989)"
      ]
     },
     "execution_count": 27,
     "metadata": {},
     "output_type": "execute_result"
    }
   ],
   "source": [
    "len(lang2colex_nr), len(glotto2colex_nr)"
   ]
  },
  {
   "cell_type": "code",
   "execution_count": 31,
   "id": "7a316211-6fb2-4ada-a8d0-25920d0a1634",
   "metadata": {
    "execution": {
     "iopub.execute_input": "2024-09-23T15:35:43.259629Z",
     "iopub.status.busy": "2024-09-23T15:35:43.258480Z",
     "iopub.status.idle": "2024-09-23T15:35:43.269925Z",
     "shell.execute_reply": "2024-09-23T15:35:43.266978Z",
     "shell.execute_reply.started": "2024-09-23T15:35:43.259551Z"
    },
    "scrolled": true
   },
   "outputs": [],
   "source": [
    "langs_list = list(lang2colex_nr.keys())"
   ]
  },
  {
   "cell_type": "code",
   "execution_count": 38,
   "id": "65b5d26f-6c54-47ad-8654-7de068d7c7d8",
   "metadata": {
    "execution": {
     "iopub.execute_input": "2024-09-23T15:41:05.006202Z",
     "iopub.status.busy": "2024-09-23T15:41:05.005049Z",
     "iopub.status.idle": "2024-09-23T15:41:05.264555Z",
     "shell.execute_reply": "2024-09-23T15:41:05.264161Z",
     "shell.execute_reply.started": "2024-09-23T15:41:05.006130Z"
    },
    "scrolled": true
   },
   "outputs": [],
   "source": [
    "df = pd.DataFrame(list(colex_dict.items()), columns=[\"Key\", \"Value\"])"
   ]
  },
  {
   "cell_type": "code",
   "execution_count": 40,
   "id": "22a907b1-2ac6-423a-be64-d0ef47d98f92",
   "metadata": {
    "execution": {
     "iopub.execute_input": "2024-09-23T15:41:40.098489Z",
     "iopub.status.busy": "2024-09-23T15:41:40.096814Z",
     "iopub.status.idle": "2024-09-23T15:41:40.169299Z",
     "shell.execute_reply": "2024-09-23T15:41:40.168813Z",
     "shell.execute_reply.started": "2024-09-23T15:41:40.098428Z"
    },
    "scrolled": true
   },
   "outputs": [],
   "source": [
    "df[[\"Target\", \"Source\"]] = pd.DataFrame(df[\"Key\"].tolist(), index=df.index)"
   ]
  },
  {
   "cell_type": "code",
   "execution_count": 44,
   "id": "55cee592-eb5d-4fdc-a019-199b35f5f664",
   "metadata": {
    "execution": {
     "iopub.execute_input": "2024-09-23T15:42:46.911535Z",
     "iopub.status.busy": "2024-09-23T15:42:46.910769Z",
     "iopub.status.idle": "2024-09-23T15:42:46.933667Z",
     "shell.execute_reply": "2024-09-23T15:42:46.932602Z",
     "shell.execute_reply.started": "2024-09-23T15:42:46.911493Z"
    }
   },
   "outputs": [],
   "source": [
    "df = df.rename(columns={\"Value\":\"Weight\"})"
   ]
  },
  {
   "cell_type": "code",
   "execution_count": 45,
   "id": "08f26f62-59c9-4f92-8ddb-131a3497d64f",
   "metadata": {
    "execution": {
     "iopub.execute_input": "2024-09-23T15:43:08.196974Z",
     "iopub.status.busy": "2024-09-23T15:43:08.194675Z",
     "iopub.status.idle": "2024-09-23T15:43:08.229270Z",
     "shell.execute_reply": "2024-09-23T15:43:08.228749Z",
     "shell.execute_reply.started": "2024-09-23T15:43:08.196882Z"
    }
   },
   "outputs": [],
   "source": [
    "df = df[[\"Target\", \"Source\", \"Weight\"]]"
   ]
  },
  {
   "cell_type": "code",
   "execution_count": 49,
   "id": "06bbc81c-8fa1-487b-b28d-11eeda01f744",
   "metadata": {
    "execution": {
     "iopub.execute_input": "2024-09-23T15:44:33.967323Z",
     "iopub.status.busy": "2024-09-23T15:44:33.966405Z",
     "iopub.status.idle": "2024-09-23T15:44:34.323381Z",
     "shell.execute_reply": "2024-09-23T15:44:34.322963Z",
     "shell.execute_reply.started": "2024-09-23T15:44:33.967269Z"
    }
   },
   "outputs": [],
   "source": [
    "df[\"Colex_target\"] = df[\"Target\"].apply(lambda x: lang2colex_nr.get(x, None))\n",
    "df[\"Colex_source\"] = df[\"Source\"].apply(lambda x: lang2colex_nr.get(x, None))"
   ]
  },
  {
   "cell_type": "code",
   "execution_count": 51,
   "id": "cc8c5205-35d4-45c1-9a9d-bd497e478c6f",
   "metadata": {
    "execution": {
     "iopub.execute_input": "2024-09-23T15:44:43.750056Z",
     "iopub.status.busy": "2024-09-23T15:44:43.749091Z",
     "iopub.status.idle": "2024-09-23T15:44:43.827007Z",
     "shell.execute_reply": "2024-09-23T15:44:43.826504Z",
     "shell.execute_reply.started": "2024-09-23T15:44:43.749917Z"
    }
   },
   "outputs": [],
   "source": [
    "df = df.dropna()"
   ]
  },
  {
   "cell_type": "code",
   "execution_count": 58,
   "id": "a634b113-a26c-48da-af54-3f178a745ebe",
   "metadata": {
    "execution": {
     "iopub.execute_input": "2024-09-23T16:22:34.693965Z",
     "iopub.status.busy": "2024-09-23T16:22:34.693285Z",
     "iopub.status.idle": "2024-09-23T16:22:34.714728Z",
     "shell.execute_reply": "2024-09-23T16:22:34.713761Z",
     "shell.execute_reply.started": "2024-09-23T16:22:34.693915Z"
    }
   },
   "outputs": [
    {
     "data": {
      "text/html": [
       "<div>\n",
       "<style scoped>\n",
       "    .dataframe tbody tr th:only-of-type {\n",
       "        vertical-align: middle;\n",
       "    }\n",
       "\n",
       "    .dataframe tbody tr th {\n",
       "        vertical-align: top;\n",
       "    }\n",
       "\n",
       "    .dataframe thead th {\n",
       "        text-align: right;\n",
       "    }\n",
       "</style>\n",
       "<table border=\"1\" class=\"dataframe\">\n",
       "  <thead>\n",
       "    <tr style=\"text-align: right;\">\n",
       "      <th></th>\n",
       "      <th>Target</th>\n",
       "      <th>Source</th>\n",
       "      <th>Weight</th>\n",
       "      <th>Colex_target</th>\n",
       "      <th>Colex_source</th>\n",
       "    </tr>\n",
       "  </thead>\n",
       "  <tbody>\n",
       "    <tr>\n",
       "      <th>0</th>\n",
       "      <td>chao1238</td>\n",
       "      <td>chen1267</td>\n",
       "      <td>3</td>\n",
       "      <td>8.0</td>\n",
       "      <td>9.0</td>\n",
       "    </tr>\n",
       "    <tr>\n",
       "      <th>1</th>\n",
       "      <td>chao1238</td>\n",
       "      <td>fuzh1239</td>\n",
       "      <td>4</td>\n",
       "      <td>8.0</td>\n",
       "      <td>7.0</td>\n",
       "    </tr>\n",
       "  </tbody>\n",
       "</table>\n",
       "</div>"
      ],
      "text/plain": [
       "     Target    Source  Weight  Colex_target  Colex_source\n",
       "0  chao1238  chen1267       3           8.0           9.0\n",
       "1  chao1238  fuzh1239       4           8.0           7.0"
      ]
     },
     "execution_count": 58,
     "metadata": {},
     "output_type": "execute_result"
    }
   ],
   "source": [
    "df.head(2) "
   ]
  },
  {
   "cell_type": "code",
   "execution_count": 54,
   "id": "685ed65b-cd73-49e9-9055-2d421b987067",
   "metadata": {
    "execution": {
     "iopub.execute_input": "2024-09-23T16:12:40.098861Z",
     "iopub.status.busy": "2024-09-23T16:12:40.098116Z",
     "iopub.status.idle": "2024-09-23T16:12:57.448394Z",
     "shell.execute_reply": "2024-09-23T16:12:57.447944Z",
     "shell.execute_reply.started": "2024-09-23T16:12:40.098825Z"
    }
   },
   "outputs": [],
   "source": [
    "from nltk.metrics import *\n",
    "import pandas as pd\n",
    "\n",
    "bm = BigramAssocMeasures"
   ]
  },
  {
   "cell_type": "code",
   "execution_count": 55,
   "id": "1eeb56a5-6aaa-45e2-883a-56b5a8ce332e",
   "metadata": {
    "execution": {
     "iopub.execute_input": "2024-09-23T16:14:32.996163Z",
     "iopub.status.busy": "2024-09-23T16:14:32.994870Z",
     "iopub.status.idle": "2024-09-23T16:14:33.009182Z",
     "shell.execute_reply": "2024-09-23T16:14:33.007741Z",
     "shell.execute_reply.started": "2024-09-23T16:14:32.996094Z"
    }
   },
   "outputs": [
    {
     "data": {
      "text/plain": [
       "75842"
      ]
     },
     "execution_count": 55,
     "metadata": {},
     "output_type": "execute_result"
    }
   ],
   "source": [
    "total_colex_nr = sum(list(lang2colex_nr.values()))\n",
    "total_colex_nr"
   ]
  },
  {
   "cell_type": "code",
   "execution_count": 59,
   "id": "fdc0e58d-06c2-42ea-af97-ed03ca8a75a0",
   "metadata": {
    "execution": {
     "iopub.execute_input": "2024-09-23T16:22:49.187405Z",
     "iopub.status.busy": "2024-09-23T16:22:49.186872Z",
     "iopub.status.idle": "2024-09-23T16:22:49.192657Z",
     "shell.execute_reply": "2024-09-23T16:22:49.191706Z",
     "shell.execute_reply.started": "2024-09-23T16:22:49.187371Z"
    }
   },
   "outputs": [],
   "source": [
    "def calculate_pmi(x,y,z):\n",
    "    pmi = bm.pmi(x,(y,z), total_colex_nr)\n",
    "    return pmi"
   ]
  },
  {
   "cell_type": "code",
   "execution_count": 60,
   "id": "bd2d6f83-43be-4968-b45d-36bd55255880",
   "metadata": {
    "execution": {
     "iopub.execute_input": "2024-09-23T16:23:41.365578Z",
     "iopub.status.busy": "2024-09-23T16:23:41.364825Z",
     "iopub.status.idle": "2024-09-23T16:23:45.853206Z",
     "shell.execute_reply": "2024-09-23T16:23:45.852744Z",
     "shell.execute_reply.started": "2024-09-23T16:23:41.365539Z"
    }
   },
   "outputs": [
    {
     "name": "stderr",
     "output_type": "stream",
     "text": [
      "/var/folders/bj/qp6k2wl11h5gpn8j4hg0tgf40000gn/T/ipykernel_94032/4107798813.py:1: SettingWithCopyWarning: \n",
      "A value is trying to be set on a copy of a slice from a DataFrame.\n",
      "Try using .loc[row_indexer,col_indexer] = value instead\n",
      "\n",
      "See the caveats in the documentation: https://pandas.pydata.org/pandas-docs/stable/user_guide/indexing.html#returning-a-view-versus-a-copy\n",
      "  df[\"pmi\"] = df.apply(lambda row: calculate_pmi(row[\"Weight\"], row[\"Colex_target\"], row[\"Colex_source\"]), axis=1)\n"
     ]
    }
   ],
   "source": [
    "df[\"pmi\"] = df.apply(lambda row: calculate_pmi(row[\"Weight\"], row[\"Colex_target\"], row[\"Colex_source\"]), axis=1)"
   ]
  },
  {
   "cell_type": "code",
   "execution_count": 63,
   "id": "d93323bb-db90-4ed2-a60c-57023dde56ee",
   "metadata": {
    "execution": {
     "iopub.execute_input": "2024-09-23T16:26:33.640130Z",
     "iopub.status.busy": "2024-09-23T16:26:33.639259Z",
     "iopub.status.idle": "2024-09-23T16:26:35.257348Z",
     "shell.execute_reply": "2024-09-23T16:26:35.256469Z",
     "shell.execute_reply.started": "2024-09-23T16:26:33.640065Z"
    }
   },
   "outputs": [],
   "source": [
    "df.to_csv(\"../datasets/lang2lang/clics3.csv\", index=False)"
   ]
  },
  {
   "cell_type": "code",
   "execution_count": 64,
   "id": "1a1f7aaa-3f31-45be-99ef-7debe5ce7ee4",
   "metadata": {
    "execution": {
     "iopub.execute_input": "2024-09-23T16:28:31.284581Z",
     "iopub.status.busy": "2024-09-23T16:28:31.284038Z",
     "iopub.status.idle": "2024-09-23T16:28:31.291615Z",
     "shell.execute_reply": "2024-09-23T16:28:31.290406Z",
     "shell.execute_reply.started": "2024-09-23T16:28:31.284547Z"
    }
   },
   "outputs": [],
   "source": [
    "def get_boxplot(arr):\n",
    "    # quantiles=np.quantile(arr, np.linspace(0,1,1335))\n",
    "    # plt.plot(np.linspace(0,1,1335), quantiles)\n",
    "    plt.boxplot(arr)\n",
    "    plt.xlabel('PMI')\n",
    "    plt.ylabel('Value')\n",
    "    plt.title('Plot')\n",
    "    plt.show()"
   ]
  },
  {
   "cell_type": "code",
   "execution_count": 65,
   "id": "20d477d0-3032-4aab-a73a-1b05e41f32f7",
   "metadata": {
    "execution": {
     "iopub.execute_input": "2024-09-23T16:28:42.798120Z",
     "iopub.status.busy": "2024-09-23T16:28:42.797222Z",
     "iopub.status.idle": "2024-09-23T16:28:43.922852Z",
     "shell.execute_reply": "2024-09-23T16:28:43.922383Z",
     "shell.execute_reply.started": "2024-09-23T16:28:42.798077Z"
    }
   },
   "outputs": [
    {
     "data": {
      "image/png": "[encoded data removed]",
      "text/plain": [
       "<Figure size 640x480 with 1 Axes>"
      ]
     },
     "metadata": {},
     "output_type": "display_data"
    }
   ],
   "source": [
    "get_boxplot(df[\"pmi\"].tolist())"
   ]
  },
  {
   "cell_type": "code",
   "execution_count": null,
   "id": "0d037e7b-5df2-4108-897c-1ff5436efd42",
   "metadata": {},
   "outputs": [],
   "source": []
  }
 ],
 "metadata": {
  "kernelspec": {
   "display_name": "envlc",
   "language": "python",
   "name": "envlc"
  },
  "language_info": {
   "codemirror_mode": {
    "name": "ipython",
    "version": 3
   },
   "file_extension": ".py",
   "mimetype": "text/x-python",
   "name": "python",
   "nbconvert_exporter": "python",
   "pygments_lexer": "ipython3",
   "version": "3.12.0"
  }
 },
 "nbformat": 4,
 "nbformat_minor": 5
}
