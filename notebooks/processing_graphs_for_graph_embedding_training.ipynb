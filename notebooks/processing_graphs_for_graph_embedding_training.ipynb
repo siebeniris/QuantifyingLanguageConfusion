{
 "cells": [
  {
   "cell_type": "code",
   "execution_count": 2,
   "id": "ed84c582-cb29-40b5-8aab-fbe436f54234",
   "metadata": {
    "execution": {
     "iopub.execute_input": "2024-09-30T09:28:00.057721Z",
     "iopub.status.busy": "2024-09-30T09:28:00.057114Z",
     "iopub.status.idle": "2024-09-30T09:28:01.632677Z",
     "shell.execute_reply": "2024-09-30T09:28:01.632150Z",
     "shell.execute_reply.started": "2024-09-30T09:28:00.057686Z"
    }
   },
   "outputs": [],
   "source": [
    "import pandas as pd\n",
    "import numpy as np\n",
    "import yaml\n",
    "import seaborn as sns\n",
    "import matplotlib.pyplot as plt\n",
    "import os\n",
    "import json\n",
    "from collections import defaultdict\n",
    "%matplotlib inline"
   ]
  },
  {
   "cell_type": "code",
   "execution_count": 384,
   "id": "bcca4da1-ab41-489d-9053-468972435b72",
   "metadata": {
    "execution": {
     "iopub.execute_input": "2024-09-30T13:41:59.380764Z",
     "iopub.status.busy": "2024-09-30T13:41:59.379828Z",
     "iopub.status.idle": "2024-09-30T13:41:59.448062Z",
     "shell.execute_reply": "2024-09-30T13:41:59.447616Z",
     "shell.execute_reply.started": "2024-09-30T13:41:59.380714Z"
    }
   },
   "outputs": [],
   "source": [
    "df_lang= pd.read_csv(\"../datasets/languages/languoid.csv\")\n",
    "id2iso = dict(zip(df_lang[\"id\"], df_lang[\"iso639P3code\"]))\n",
    "id2name= dict(zip(df_lang[\"id\"], df_lang[\"name\"]))"
   ]
  },
  {
   "cell_type": "code",
   "execution_count": 385,
   "id": "13ead3fe-b4dd-4699-898b-372c3fcc76b6",
   "metadata": {
    "execution": {
     "iopub.execute_input": "2024-09-30T13:41:59.689872Z",
     "iopub.status.busy": "2024-09-30T13:41:59.688151Z",
     "iopub.status.idle": "2024-09-30T13:41:59.730342Z",
     "shell.execute_reply": "2024-09-30T13:41:59.729787Z",
     "shell.execute_reply.started": "2024-09-30T13:41:59.689315Z"
    }
   },
   "outputs": [
    {
     "data": {
      "text/html": [
       "<div>\n",
       "<style scoped>\n",
       "    .dataframe tbody tr th:only-of-type {\n",
       "        vertical-align: middle;\n",
       "    }\n",
       "\n",
       "    .dataframe tbody tr th {\n",
       "        vertical-align: top;\n",
       "    }\n",
       "\n",
       "    .dataframe thead th {\n",
       "        text-align: right;\n",
       "    }\n",
       "</style>\n",
       "<table border=\"1\" class=\"dataframe\">\n",
       "  <thead>\n",
       "    <tr style=\"text-align: right;\">\n",
       "      <th></th>\n",
       "      <th>id</th>\n",
       "      <th>family_id</th>\n",
       "      <th>parent_id</th>\n",
       "      <th>name</th>\n",
       "      <th>bookkeeping</th>\n",
       "      <th>level</th>\n",
       "      <th>latitude</th>\n",
       "      <th>longitude</th>\n",
       "      <th>iso639P3code</th>\n",
       "      <th>description</th>\n",
       "      <th>markup_description</th>\n",
       "      <th>child_family_count</th>\n",
       "      <th>child_language_count</th>\n",
       "      <th>child_dialect_count</th>\n",
       "      <th>country_ids</th>\n",
       "    </tr>\n",
       "  </thead>\n",
       "  <tbody>\n",
       "    <tr>\n",
       "      <th>21970</th>\n",
       "      <td>stan1318</td>\n",
       "      <td>afro1255</td>\n",
       "      <td>arab1395</td>\n",
       "      <td>Standard Arabic</td>\n",
       "      <td>False</td>\n",
       "      <td>language</td>\n",
       "      <td>27.9625</td>\n",
       "      <td>43.8525</td>\n",
       "      <td>arb</td>\n",
       "      <td>NaN</td>\n",
       "      <td>NaN</td>\n",
       "      <td>0</td>\n",
       "      <td>0</td>\n",
       "      <td>0</td>\n",
       "      <td>AE BH DJ DZ EG ER IL IQ JO KM KW LB LY MA OM P...</td>\n",
       "    </tr>\n",
       "  </tbody>\n",
       "</table>\n",
       "</div>"
      ],
      "text/plain": [
       "             id family_id parent_id             name  bookkeeping     level  \\\n",
       "21970  stan1318  afro1255  arab1395  Standard Arabic        False  language   \n",
       "\n",
       "       latitude  longitude iso639P3code  description  markup_description  \\\n",
       "21970   27.9625    43.8525          arb          NaN                 NaN   \n",
       "\n",
       "       child_family_count  child_language_count  child_dialect_count  \\\n",
       "21970                   0                     0                    0   \n",
       "\n",
       "                                             country_ids  \n",
       "21970  AE BH DJ DZ EG ER IL IQ JO KM KW LB LY MA OM P...  "
      ]
     },
     "execution_count": 385,
     "metadata": {},
     "output_type": "execute_result"
    }
   ],
   "source": [
    "df_lang[df_lang[\"name\"].str.contains(\"Standard Arabic\")]"
   ]
  },
  {
   "cell_type": "code",
   "execution_count": 386,
   "id": "d59c18fe-faee-450a-bf3b-d71048348238",
   "metadata": {
    "execution": {
     "iopub.execute_input": "2024-09-30T13:42:00.172995Z",
     "iopub.status.busy": "2024-09-30T13:42:00.172068Z",
     "iopub.status.idle": "2024-09-30T13:42:00.218454Z",
     "shell.execute_reply": "2024-09-30T13:42:00.217870Z",
     "shell.execute_reply.started": "2024-09-30T13:42:00.172949Z"
    }
   },
   "outputs": [],
   "source": [
    "id2iso = dict(zip(df_lang[\"id\"], df_lang[\"iso639P3code\"]))\n",
    "id2name= dict(zip(df_lang[\"id\"], df_lang[\"name\"]))"
   ]
  },
  {
   "cell_type": "code",
   "execution_count": 387,
   "id": "2c11ecbd-0f55-4407-b328-d8ec877c6373",
   "metadata": {
    "execution": {
     "iopub.execute_input": "2024-09-30T13:42:00.638118Z",
     "iopub.status.busy": "2024-09-30T13:42:00.637202Z",
     "iopub.status.idle": "2024-09-30T13:42:00.681484Z",
     "shell.execute_reply": "2024-09-30T13:42:00.680714Z",
     "shell.execute_reply.started": "2024-09-30T13:42:00.638070Z"
    }
   },
   "outputs": [],
   "source": [
    "iso2id =  dict(zip( df_lang[\"iso639P3code\"], df_lang[\"id\"]))\n",
    "iso2name = dict(zip(df_lang[\"iso639P3code\"], df_lang[\"name\"]))"
   ]
  },
  {
   "cell_type": "code",
   "execution_count": 380,
   "id": "10f97df9-3a7c-4488-943e-2e750ef8b27f",
   "metadata": {
    "execution": {
     "iopub.execute_input": "2024-09-30T13:41:50.423489Z",
     "iopub.status.busy": "2024-09-30T13:41:50.422176Z",
     "iopub.status.idle": "2024-09-30T13:41:51.904606Z",
     "shell.execute_reply": "2024-09-30T13:41:51.904208Z",
     "shell.execute_reply.started": "2024-09-30T13:41:50.423427Z"
    }
   },
   "outputs": [],
   "source": [
    "df_gb = pd.read_csv(\"../datasets/data_for_graph/Grambank/grambank_lang2features.csv\")\n",
    "df_gb_edges = pd.read_csv(\"../datasets/data_for_graph/Grambank/edgelist.csv\")"
   ]
  },
  {
   "cell_type": "code",
   "execution_count": 381,
   "id": "e3f04ae4-13ee-4f76-b71b-0a8c5be9da38",
   "metadata": {
    "execution": {
     "iopub.execute_input": "2024-09-30T13:41:51.905619Z",
     "iopub.status.busy": "2024-09-30T13:41:51.905492Z",
     "iopub.status.idle": "2024-09-30T13:41:52.665536Z",
     "shell.execute_reply": "2024-09-30T13:41:52.665085Z",
     "shell.execute_reply.started": "2024-09-30T13:41:51.905607Z"
    }
   },
   "outputs": [],
   "source": [
    "df_wals = pd.read_csv(\"../datasets/data_for_graph/WALS/wals_lang2features.csv\")\n",
    "df_wals_edges = pd.read_csv(\"../datasets/data_for_graph/WALS/edgelist.csv\")"
   ]
  },
  {
   "cell_type": "code",
   "execution_count": 382,
   "id": "abd3111b-8fe3-4a91-81b4-d3f181e315c3",
   "metadata": {
    "execution": {
     "iopub.execute_input": "2024-09-30T13:41:52.666140Z",
     "iopub.status.busy": "2024-09-30T13:41:52.665997Z",
     "iopub.status.idle": "2024-09-30T13:41:53.222579Z",
     "shell.execute_reply": "2024-09-30T13:41:53.222153Z",
     "shell.execute_reply.started": "2024-09-30T13:41:52.666128Z"
    }
   },
   "outputs": [],
   "source": [
    "df_wn = pd.read_csv(\"../datasets/data_for_graph/wn_colex.csv\")\n",
    "df_clics = pd.read_csv(\"../datasets/data_for_graph/clics3.csv\")"
   ]
  },
  {
   "cell_type": "markdown",
   "id": "4044e2b7-8b07-4a6f-931f-4a6ba6a4c9b0",
   "metadata": {
    "execution": {
     "iopub.execute_input": "2024-09-30T10:53:04.383929Z",
     "iopub.status.busy": "2024-09-30T10:53:04.382987Z",
     "iopub.status.idle": "2024-09-30T10:53:04.394279Z",
     "shell.execute_reply": "2024-09-30T10:53:04.392755Z",
     "shell.execute_reply.started": "2024-09-30T10:53:04.383880Z"
    }
   },
   "source": [
    "# Subsets for inversion and prompt languages"
   ]
  },
  {
   "cell_type": "code",
   "execution_count": 388,
   "id": "619cb14d-5dd2-4940-8489-fac817ab5879",
   "metadata": {
    "execution": {
     "iopub.execute_input": "2024-09-30T13:42:04.421908Z",
     "iopub.status.busy": "2024-09-30T13:42:04.418069Z",
     "iopub.status.idle": "2024-09-30T13:42:04.437870Z",
     "shell.execute_reply": "2024-09-30T13:42:04.436284Z",
     "shell.execute_reply.started": "2024-09-30T13:42:04.421842Z"
    }
   },
   "outputs": [],
   "source": [
    "with open(\"../datasets/prompts_language_confusion/prompt_langs.json\") as f:\n",
    "    prompt_langs = json.load(f)"
   ]
  },
  {
   "cell_type": "code",
   "execution_count": 389,
   "id": "2398f12e-e710-4e0a-81c1-00b8945f38cd",
   "metadata": {
    "execution": {
     "iopub.execute_input": "2024-09-30T13:42:04.798268Z",
     "iopub.status.busy": "2024-09-30T13:42:04.797755Z",
     "iopub.status.idle": "2024-09-30T13:42:04.803534Z",
     "shell.execute_reply": "2024-09-30T13:42:04.802630Z",
     "shell.execute_reply.started": "2024-09-30T13:42:04.798235Z"
    }
   },
   "outputs": [],
   "source": [
    "with open(\"../datasets/inversion_language_confusion/inversion_langs.json\") as f:\n",
    "    inversion_langs = json.load(f)"
   ]
  },
  {
   "cell_type": "code",
   "execution_count": 390,
   "id": "85f4e5c6-e317-4535-a01a-f829d0903a48",
   "metadata": {
    "execution": {
     "iopub.execute_input": "2024-09-30T13:42:07.674010Z",
     "iopub.status.busy": "2024-09-30T13:42:07.672737Z",
     "iopub.status.idle": "2024-09-30T13:42:07.683687Z",
     "shell.execute_reply": "2024-09-30T13:42:07.682463Z",
     "shell.execute_reply.started": "2024-09-30T13:42:07.673924Z"
    },
    "scrolled": true
   },
   "outputs": [],
   "source": [
    "prompt_langs += [\"cmn\", \"arb\"]"
   ]
  },
  {
   "cell_type": "code",
   "execution_count": 391,
   "id": "4a001482-16fc-4a2a-b2ec-43e48bbc3088",
   "metadata": {
    "execution": {
     "iopub.execute_input": "2024-09-30T13:42:08.199055Z",
     "iopub.status.busy": "2024-09-30T13:42:08.198439Z",
     "iopub.status.idle": "2024-09-30T13:42:08.205627Z",
     "shell.execute_reply": "2024-09-30T13:42:08.204748Z",
     "shell.execute_reply.started": "2024-09-30T13:42:08.199017Z"
    }
   },
   "outputs": [],
   "source": [
    "inversion_langs += [\"cmn\", \"arb\"]"
   ]
  },
  {
   "cell_type": "code",
   "execution_count": null,
   "id": "51d78624-1b5c-4623-8ff1-2019712227d8",
   "metadata": {},
   "outputs": [],
   "source": []
  },
  {
   "cell_type": "code",
   "execution_count": 392,
   "id": "a9de3945-54bc-4148-a2c5-d81170a2f26b",
   "metadata": {
    "execution": {
     "iopub.execute_input": "2024-09-30T13:42:10.439996Z",
     "iopub.status.busy": "2024-09-30T13:42:10.438974Z",
     "iopub.status.idle": "2024-09-30T13:42:10.465040Z",
     "shell.execute_reply": "2024-09-30T13:42:10.463586Z",
     "shell.execute_reply.started": "2024-09-30T13:42:10.439946Z"
    }
   },
   "outputs": [
    {
     "data": {
      "text/plain": [
       "(True, True)"
      ]
     },
     "execution_count": 392,
     "metadata": {},
     "output_type": "execute_result"
    }
   ],
   "source": [
    "\"cmn\" in inversion_langs, \"cmn\" in prompt_langs"
   ]
  },
  {
   "cell_type": "code",
   "execution_count": 393,
   "id": "d0e27a1f-1439-45f4-9e45-3946070ad313",
   "metadata": {
    "execution": {
     "iopub.execute_input": "2024-09-30T13:42:10.855563Z",
     "iopub.status.busy": "2024-09-30T13:42:10.854666Z",
     "iopub.status.idle": "2024-09-30T13:42:10.877574Z",
     "shell.execute_reply": "2024-09-30T13:42:10.875826Z",
     "shell.execute_reply.started": "2024-09-30T13:42:10.855520Z"
    }
   },
   "outputs": [
    {
     "data": {
      "text/plain": [
       "(True, True)"
      ]
     },
     "execution_count": 393,
     "metadata": {},
     "output_type": "execute_result"
    }
   ],
   "source": [
    "\"arb\" in inversion_langs, \"arb\" in prompt_langs"
   ]
  },
  {
   "cell_type": "code",
   "execution_count": 394,
   "id": "2615b245-20dc-4d7c-bfad-c758604bcd15",
   "metadata": {
    "execution": {
     "iopub.execute_input": "2024-09-30T13:42:11.559262Z",
     "iopub.status.busy": "2024-09-30T13:42:11.558155Z",
     "iopub.status.idle": "2024-09-30T13:42:11.574117Z",
     "shell.execute_reply": "2024-09-30T13:42:11.572586Z",
     "shell.execute_reply.started": "2024-09-30T13:42:11.559191Z"
    },
    "scrolled": true
   },
   "outputs": [
    {
     "data": {
      "text/plain": [
       "(133, 106)"
      ]
     },
     "execution_count": 394,
     "metadata": {},
     "output_type": "execute_result"
    }
   ],
   "source": [
    "len(set(prompt_langs)), len(set(inversion_langs))"
   ]
  },
  {
   "cell_type": "markdown",
   "id": "10aeefa2-079b-46f8-931b-61ef064177cd",
   "metadata": {},
   "source": [
    "# Inversion Dataset"
   ]
  },
  {
   "cell_type": "code",
   "execution_count": 398,
   "id": "0e899924-6232-438b-9d33-1931eb54a964",
   "metadata": {
    "execution": {
     "iopub.execute_input": "2024-09-30T13:42:56.652275Z",
     "iopub.status.busy": "2024-09-30T13:42:56.650815Z",
     "iopub.status.idle": "2024-09-30T13:42:56.680724Z",
     "shell.execute_reply": "2024-09-30T13:42:56.680070Z",
     "shell.execute_reply.started": "2024-09-30T13:42:56.652066Z"
    }
   },
   "outputs": [
    {
     "data": {
      "text/html": [
       "<div>\n",
       "<style scoped>\n",
       "    .dataframe tbody tr th:only-of-type {\n",
       "        vertical-align: middle;\n",
       "    }\n",
       "\n",
       "    .dataframe tbody tr th {\n",
       "        vertical-align: top;\n",
       "    }\n",
       "\n",
       "    .dataframe thead th {\n",
       "        text-align: right;\n",
       "    }\n",
       "</style>\n",
       "<table border=\"1\" class=\"dataframe\">\n",
       "  <thead>\n",
       "    <tr style=\"text-align: right;\">\n",
       "      <th></th>\n",
       "      <th>Lang_name</th>\n",
       "      <th>Lang_iso639P3code</th>\n",
       "      <th>Lang_ID</th>\n",
       "      <th>GB020</th>\n",
       "      <th>GB021</th>\n",
       "      <th>GB022</th>\n",
       "      <th>GB023</th>\n",
       "      <th>GB024</th>\n",
       "      <th>GB025</th>\n",
       "      <th>GB026</th>\n",
       "      <th>...</th>\n",
       "      <th>GB421</th>\n",
       "      <th>GB422</th>\n",
       "      <th>GB430</th>\n",
       "      <th>GB431</th>\n",
       "      <th>GB432</th>\n",
       "      <th>GB433</th>\n",
       "      <th>GB519</th>\n",
       "      <th>GB520</th>\n",
       "      <th>GB521</th>\n",
       "      <th>GB522</th>\n",
       "    </tr>\n",
       "  </thead>\n",
       "  <tbody>\n",
       "    <tr>\n",
       "      <th>1231</th>\n",
       "      <td>Mandarin Chinese</td>\n",
       "      <td>cmn</td>\n",
       "      <td>mand1415</td>\n",
       "      <td>0</td>\n",
       "      <td>0</td>\n",
       "      <td>0</td>\n",
       "      <td>0</td>\n",
       "      <td>1</td>\n",
       "      <td>1</td>\n",
       "      <td>0</td>\n",
       "      <td>...</td>\n",
       "      <td>0</td>\n",
       "      <td>0</td>\n",
       "      <td>0</td>\n",
       "      <td>0</td>\n",
       "      <td>0</td>\n",
       "      <td>0</td>\n",
       "      <td>1</td>\n",
       "      <td>1</td>\n",
       "      <td>0</td>\n",
       "      <td>1</td>\n",
       "    </tr>\n",
       "  </tbody>\n",
       "</table>\n",
       "<p>1 rows × 198 columns</p>\n",
       "</div>"
      ],
      "text/plain": [
       "             Lang_name Lang_iso639P3code   Lang_ID  GB020  GB021  GB022  \\\n",
       "1231  Mandarin Chinese               cmn  mand1415      0      0      0   \n",
       "\n",
       "      GB023  GB024  GB025  GB026  ...  GB421  GB422  GB430  GB431  GB432  \\\n",
       "1231      0      1      1      0  ...      0      0      0      0      0   \n",
       "\n",
       "      GB433  GB519  GB520  GB521  GB522  \n",
       "1231      0      1      1      0      1  \n",
       "\n",
       "[1 rows x 198 columns]"
      ]
     },
     "execution_count": 398,
     "metadata": {},
     "output_type": "execute_result"
    }
   ],
   "source": [
    "df_gb[df_gb[\"Lang_iso639P3code\"]==\"cmn\"]"
   ]
  },
  {
   "cell_type": "code",
   "execution_count": 399,
   "id": "446f1dee-23e2-4b1a-8647-147a667dd890",
   "metadata": {
    "execution": {
     "iopub.execute_input": "2024-09-30T13:43:01.086706Z",
     "iopub.status.busy": "2024-09-30T13:43:01.085495Z",
     "iopub.status.idle": "2024-09-30T13:43:01.104568Z",
     "shell.execute_reply": "2024-09-30T13:43:01.099479Z",
     "shell.execute_reply.started": "2024-09-30T13:43:01.086654Z"
    }
   },
   "outputs": [
    {
     "data": {
      "text/plain": [
       "True"
      ]
     },
     "execution_count": 399,
     "metadata": {},
     "output_type": "execute_result"
    }
   ],
   "source": [
    "\"cmn\" in df_gb[\"Lang_iso639P3code\"].tolist()"
   ]
  },
  {
   "cell_type": "code",
   "execution_count": 400,
   "id": "af7c8381-aeef-42e6-857d-61dc38b554b1",
   "metadata": {
    "execution": {
     "iopub.execute_input": "2024-09-30T13:43:03.912365Z",
     "iopub.status.busy": "2024-09-30T13:43:03.911571Z",
     "iopub.status.idle": "2024-09-30T13:43:04.097837Z",
     "shell.execute_reply": "2024-09-30T13:43:04.097400Z",
     "shell.execute_reply.started": "2024-09-30T13:43:03.912326Z"
    }
   },
   "outputs": [],
   "source": [
    "df_gb_inversion = df_gb[df_gb[\"Lang_iso639P3code\"].isin(inversion_langs)]\n",
    "df_gb_edges_inversion = df_gb_edges[df_gb_edges[\"Target_iso639P3code\"].isin(inversion_langs) & df_gb_edges[\"Source_iso639P3code\"].isin(inversion_langs)]"
   ]
  },
  {
   "cell_type": "code",
   "execution_count": 401,
   "id": "7dbf66f8-73da-43f0-a7f0-86a7c430fbad",
   "metadata": {
    "execution": {
     "iopub.execute_input": "2024-09-30T13:43:05.178055Z",
     "iopub.status.busy": "2024-09-30T13:43:05.176968Z",
     "iopub.status.idle": "2024-09-30T13:43:05.209947Z",
     "shell.execute_reply": "2024-09-30T13:43:05.209261Z",
     "shell.execute_reply.started": "2024-09-30T13:43:05.177990Z"
    }
   },
   "outputs": [
    {
     "data": {
      "text/html": [
       "<div>\n",
       "<style scoped>\n",
       "    .dataframe tbody tr th:only-of-type {\n",
       "        vertical-align: middle;\n",
       "    }\n",
       "\n",
       "    .dataframe tbody tr th {\n",
       "        vertical-align: top;\n",
       "    }\n",
       "\n",
       "    .dataframe thead th {\n",
       "        text-align: right;\n",
       "    }\n",
       "</style>\n",
       "<table border=\"1\" class=\"dataframe\">\n",
       "  <thead>\n",
       "    <tr style=\"text-align: right;\">\n",
       "      <th></th>\n",
       "      <th>Lang_name</th>\n",
       "      <th>Lang_iso639P3code</th>\n",
       "      <th>Lang_ID</th>\n",
       "      <th>GB020</th>\n",
       "      <th>GB021</th>\n",
       "      <th>GB022</th>\n",
       "      <th>GB023</th>\n",
       "      <th>GB024</th>\n",
       "      <th>GB025</th>\n",
       "      <th>GB026</th>\n",
       "      <th>...</th>\n",
       "      <th>GB421</th>\n",
       "      <th>GB422</th>\n",
       "      <th>GB430</th>\n",
       "      <th>GB431</th>\n",
       "      <th>GB432</th>\n",
       "      <th>GB433</th>\n",
       "      <th>GB519</th>\n",
       "      <th>GB520</th>\n",
       "      <th>GB521</th>\n",
       "      <th>GB522</th>\n",
       "    </tr>\n",
       "  </thead>\n",
       "  <tbody>\n",
       "    <tr>\n",
       "      <th>1231</th>\n",
       "      <td>Mandarin Chinese</td>\n",
       "      <td>cmn</td>\n",
       "      <td>mand1415</td>\n",
       "      <td>0</td>\n",
       "      <td>0</td>\n",
       "      <td>0</td>\n",
       "      <td>0</td>\n",
       "      <td>1</td>\n",
       "      <td>1</td>\n",
       "      <td>0</td>\n",
       "      <td>...</td>\n",
       "      <td>0</td>\n",
       "      <td>0</td>\n",
       "      <td>0</td>\n",
       "      <td>0</td>\n",
       "      <td>0</td>\n",
       "      <td>0</td>\n",
       "      <td>1</td>\n",
       "      <td>1</td>\n",
       "      <td>0</td>\n",
       "      <td>1</td>\n",
       "    </tr>\n",
       "  </tbody>\n",
       "</table>\n",
       "<p>1 rows × 198 columns</p>\n",
       "</div>"
      ],
      "text/plain": [
       "             Lang_name Lang_iso639P3code   Lang_ID  GB020  GB021  GB022  \\\n",
       "1231  Mandarin Chinese               cmn  mand1415      0      0      0   \n",
       "\n",
       "      GB023  GB024  GB025  GB026  ...  GB421  GB422  GB430  GB431  GB432  \\\n",
       "1231      0      1      1      0  ...      0      0      0      0      0   \n",
       "\n",
       "      GB433  GB519  GB520  GB521  GB522  \n",
       "1231      0      1      1      0      1  \n",
       "\n",
       "[1 rows x 198 columns]"
      ]
     },
     "execution_count": 401,
     "metadata": {},
     "output_type": "execute_result"
    }
   ],
   "source": [
    "df_gb_inversion[df_gb_inversion[\"Lang_iso639P3code\"]==\"cmn\"]"
   ]
  },
  {
   "cell_type": "code",
   "execution_count": 402,
   "id": "f9156457-f04b-478b-8a80-06fdfb981527",
   "metadata": {
    "execution": {
     "iopub.execute_input": "2024-09-30T13:43:10.035365Z",
     "iopub.status.busy": "2024-09-30T13:43:10.034794Z",
     "iopub.status.idle": "2024-09-30T13:43:10.065182Z",
     "shell.execute_reply": "2024-09-30T13:43:10.064509Z",
     "shell.execute_reply.started": "2024-09-30T13:43:10.035330Z"
    }
   },
   "outputs": [],
   "source": [
    "df_gb_inversion.to_csv(\"../datasets/data_for_graph/subsets/inversion/gb_features.csv\", index=False)\n",
    "df_gb_edges_inversion.to_csv(\"../datasets/data_for_graph/subsets/inversion/gb_edges.csv\", index=False)"
   ]
  },
  {
   "cell_type": "code",
   "execution_count": 403,
   "id": "f2d855ea-22c2-489c-94a3-5805f4f9cb05",
   "metadata": {
    "execution": {
     "iopub.execute_input": "2024-09-30T13:43:11.593092Z",
     "iopub.status.busy": "2024-09-30T13:43:11.592437Z",
     "iopub.status.idle": "2024-09-30T13:43:11.619968Z",
     "shell.execute_reply": "2024-09-30T13:43:11.619104Z",
     "shell.execute_reply.started": "2024-09-30T13:43:11.593055Z"
    }
   },
   "outputs": [
    {
     "data": {
      "text/html": [
       "<div>\n",
       "<style scoped>\n",
       "    .dataframe tbody tr th:only-of-type {\n",
       "        vertical-align: middle;\n",
       "    }\n",
       "\n",
       "    .dataframe tbody tr th {\n",
       "        vertical-align: top;\n",
       "    }\n",
       "\n",
       "    .dataframe thead th {\n",
       "        text-align: right;\n",
       "    }\n",
       "</style>\n",
       "<table border=\"1\" class=\"dataframe\">\n",
       "  <thead>\n",
       "    <tr style=\"text-align: right;\">\n",
       "      <th></th>\n",
       "      <th>Lang_name</th>\n",
       "      <th>Lang_iso639P3code</th>\n",
       "      <th>Lang_ID</th>\n",
       "      <th>Family</th>\n",
       "      <th>Genus</th>\n",
       "      <th>Consonant Inventories</th>\n",
       "      <th>Vowel Quality Inventories</th>\n",
       "      <th>Consonant-Vowel Ratio</th>\n",
       "      <th>Voicing in Plosives and Fricatives</th>\n",
       "      <th>Voicing and Gaps in Plosive Systems</th>\n",
       "      <th>...</th>\n",
       "      <th>NegSOV Order</th>\n",
       "      <th>SNegOV Order</th>\n",
       "      <th>SONegV Order</th>\n",
       "      <th>SOVNeg Order</th>\n",
       "      <th>The Position of Negative Morphemes in Verb-Initial Languages</th>\n",
       "      <th>Double negation in verb-initial languages</th>\n",
       "      <th>Verb-Initial with Preverbal Negative</th>\n",
       "      <th>Verb-Initial with Negative that is Immediately Postverbal or between Subject and Object</th>\n",
       "      <th>Verb-Initial with Clause-Final Negative</th>\n",
       "      <th>The Position of Negative Morphemes in Object-Initial Languages</th>\n",
       "    </tr>\n",
       "  </thead>\n",
       "  <tbody>\n",
       "    <tr>\n",
       "      <th>1885</th>\n",
       "      <td>Mandarin Chinese</td>\n",
       "      <td>cmn</td>\n",
       "      <td>mand1415</td>\n",
       "      <td>1</td>\n",
       "      <td>109</td>\n",
       "      <td>0</td>\n",
       "      <td>0</td>\n",
       "      <td>0</td>\n",
       "      <td>2</td>\n",
       "      <td>0</td>\n",
       "      <td>...</td>\n",
       "      <td>-1</td>\n",
       "      <td>-1</td>\n",
       "      <td>-1</td>\n",
       "      <td>-1</td>\n",
       "      <td>-1</td>\n",
       "      <td>-1</td>\n",
       "      <td>-1</td>\n",
       "      <td>-1</td>\n",
       "      <td>-1</td>\n",
       "      <td>-1</td>\n",
       "    </tr>\n",
       "  </tbody>\n",
       "</table>\n",
       "<p>1 rows × 197 columns</p>\n",
       "</div>"
      ],
      "text/plain": [
       "             Lang_name Lang_iso639P3code   Lang_ID  Family  Genus  \\\n",
       "1885  Mandarin Chinese               cmn  mand1415       1    109   \n",
       "\n",
       "      Consonant Inventories  Vowel Quality Inventories  Consonant-Vowel Ratio  \\\n",
       "1885                      0                          0                      0   \n",
       "\n",
       "      Voicing in Plosives and Fricatives  Voicing and Gaps in Plosive Systems  \\\n",
       "1885                                   2                                    0   \n",
       "\n",
       "      ...  NegSOV Order  SNegOV Order  SONegV Order  SOVNeg Order  \\\n",
       "1885  ...            -1            -1            -1            -1   \n",
       "\n",
       "      The Position of Negative Morphemes in Verb-Initial Languages  \\\n",
       "1885                                                 -1              \n",
       "\n",
       "      Double negation in verb-initial languages  \\\n",
       "1885                                         -1   \n",
       "\n",
       "      Verb-Initial with Preverbal Negative  \\\n",
       "1885                                    -1   \n",
       "\n",
       "      Verb-Initial with Negative that is Immediately Postverbal or between Subject and Object  \\\n",
       "1885                                                 -1                                         \n",
       "\n",
       "      Verb-Initial with Clause-Final Negative  \\\n",
       "1885                                       -1   \n",
       "\n",
       "      The Position of Negative Morphemes in Object-Initial Languages  \n",
       "1885                                                 -1               \n",
       "\n",
       "[1 rows x 197 columns]"
      ]
     },
     "execution_count": 403,
     "metadata": {},
     "output_type": "execute_result"
    }
   ],
   "source": [
    "df_wals[df_wals[\"Lang_iso639P3code\"]==\"cmn\"]"
   ]
  },
  {
   "cell_type": "code",
   "execution_count": 404,
   "id": "60b81d93-3a70-4507-b607-84c3c133f571",
   "metadata": {
    "execution": {
     "iopub.execute_input": "2024-09-30T13:43:14.502911Z",
     "iopub.status.busy": "2024-09-30T13:43:14.502009Z",
     "iopub.status.idle": "2024-09-30T13:43:14.517067Z",
     "shell.execute_reply": "2024-09-30T13:43:14.516174Z",
     "shell.execute_reply.started": "2024-09-30T13:43:14.502863Z"
    }
   },
   "outputs": [],
   "source": [
    "df_wals_inversion = df_wals[df_wals[\"Lang_iso639P3code\"].isin(inversion_langs)]\n"
   ]
  },
  {
   "cell_type": "code",
   "execution_count": 405,
   "id": "5b348fad-f00d-4126-b329-754e91f797df",
   "metadata": {
    "execution": {
     "iopub.execute_input": "2024-09-30T13:43:14.927340Z",
     "iopub.status.busy": "2024-09-30T13:43:14.924789Z",
     "iopub.status.idle": "2024-09-30T13:43:14.947754Z",
     "shell.execute_reply": "2024-09-30T13:43:14.947104Z",
     "shell.execute_reply.started": "2024-09-30T13:43:14.927175Z"
    }
   },
   "outputs": [
    {
     "data": {
      "text/html": [
       "<div>\n",
       "<style scoped>\n",
       "    .dataframe tbody tr th:only-of-type {\n",
       "        vertical-align: middle;\n",
       "    }\n",
       "\n",
       "    .dataframe tbody tr th {\n",
       "        vertical-align: top;\n",
       "    }\n",
       "\n",
       "    .dataframe thead th {\n",
       "        text-align: right;\n",
       "    }\n",
       "</style>\n",
       "<table border=\"1\" class=\"dataframe\">\n",
       "  <thead>\n",
       "    <tr style=\"text-align: right;\">\n",
       "      <th></th>\n",
       "      <th>Lang_name</th>\n",
       "      <th>Lang_iso639P3code</th>\n",
       "      <th>Lang_ID</th>\n",
       "      <th>Family</th>\n",
       "      <th>Genus</th>\n",
       "      <th>Consonant Inventories</th>\n",
       "      <th>Vowel Quality Inventories</th>\n",
       "      <th>Consonant-Vowel Ratio</th>\n",
       "      <th>Voicing in Plosives and Fricatives</th>\n",
       "      <th>Voicing and Gaps in Plosive Systems</th>\n",
       "      <th>...</th>\n",
       "      <th>NegSOV Order</th>\n",
       "      <th>SNegOV Order</th>\n",
       "      <th>SONegV Order</th>\n",
       "      <th>SOVNeg Order</th>\n",
       "      <th>The Position of Negative Morphemes in Verb-Initial Languages</th>\n",
       "      <th>Double negation in verb-initial languages</th>\n",
       "      <th>Verb-Initial with Preverbal Negative</th>\n",
       "      <th>Verb-Initial with Negative that is Immediately Postverbal or between Subject and Object</th>\n",
       "      <th>Verb-Initial with Clause-Final Negative</th>\n",
       "      <th>The Position of Negative Morphemes in Object-Initial Languages</th>\n",
       "    </tr>\n",
       "  </thead>\n",
       "  <tbody>\n",
       "    <tr>\n",
       "      <th>1885</th>\n",
       "      <td>Mandarin Chinese</td>\n",
       "      <td>cmn</td>\n",
       "      <td>mand1415</td>\n",
       "      <td>1</td>\n",
       "      <td>109</td>\n",
       "      <td>0</td>\n",
       "      <td>0</td>\n",
       "      <td>0</td>\n",
       "      <td>2</td>\n",
       "      <td>0</td>\n",
       "      <td>...</td>\n",
       "      <td>-1</td>\n",
       "      <td>-1</td>\n",
       "      <td>-1</td>\n",
       "      <td>-1</td>\n",
       "      <td>-1</td>\n",
       "      <td>-1</td>\n",
       "      <td>-1</td>\n",
       "      <td>-1</td>\n",
       "      <td>-1</td>\n",
       "      <td>-1</td>\n",
       "    </tr>\n",
       "  </tbody>\n",
       "</table>\n",
       "<p>1 rows × 197 columns</p>\n",
       "</div>"
      ],
      "text/plain": [
       "             Lang_name Lang_iso639P3code   Lang_ID  Family  Genus  \\\n",
       "1885  Mandarin Chinese               cmn  mand1415       1    109   \n",
       "\n",
       "      Consonant Inventories  Vowel Quality Inventories  Consonant-Vowel Ratio  \\\n",
       "1885                      0                          0                      0   \n",
       "\n",
       "      Voicing in Plosives and Fricatives  Voicing and Gaps in Plosive Systems  \\\n",
       "1885                                   2                                    0   \n",
       "\n",
       "      ...  NegSOV Order  SNegOV Order  SONegV Order  SOVNeg Order  \\\n",
       "1885  ...            -1            -1            -1            -1   \n",
       "\n",
       "      The Position of Negative Morphemes in Verb-Initial Languages  \\\n",
       "1885                                                 -1              \n",
       "\n",
       "      Double negation in verb-initial languages  \\\n",
       "1885                                         -1   \n",
       "\n",
       "      Verb-Initial with Preverbal Negative  \\\n",
       "1885                                    -1   \n",
       "\n",
       "      Verb-Initial with Negative that is Immediately Postverbal or between Subject and Object  \\\n",
       "1885                                                 -1                                         \n",
       "\n",
       "      Verb-Initial with Clause-Final Negative  \\\n",
       "1885                                       -1   \n",
       "\n",
       "      The Position of Negative Morphemes in Object-Initial Languages  \n",
       "1885                                                 -1               \n",
       "\n",
       "[1 rows x 197 columns]"
      ]
     },
     "execution_count": 405,
     "metadata": {},
     "output_type": "execute_result"
    }
   ],
   "source": [
    "df_wals_inversion[df_wals_inversion[\"Lang_iso639P3code\"]==\"cmn\"]"
   ]
  },
  {
   "cell_type": "code",
   "execution_count": 406,
   "id": "a8d5c155-544a-49a0-9cfc-c7c902e02808",
   "metadata": {
    "execution": {
     "iopub.execute_input": "2024-09-30T13:43:19.841555Z",
     "iopub.status.busy": "2024-09-30T13:43:19.840638Z",
     "iopub.status.idle": "2024-09-30T13:43:19.966666Z",
     "shell.execute_reply": "2024-09-30T13:43:19.966115Z",
     "shell.execute_reply.started": "2024-09-30T13:43:19.841506Z"
    }
   },
   "outputs": [],
   "source": [
    "df_wals_inversion = df_wals[df_wals[\"Lang_iso639P3code\"].isin(inversion_langs)]\n",
    "df_wals_edges_inversion= df_wals_edges[df_wals_edges[\"Target_iso639P3code\"].isin(inversion_langs) & df_wals_edges[\"Source_iso639P3code\"].isin(inversion_langs)]\n",
    "df_wals_inversion.to_csv(\"../datasets/data_for_graph/subsets/inversion/wals_features.csv\", index=False)\n",
    "df_wals_edges_inversion.to_csv(\"../datasets/data_for_graph/subsets/inversion/wals_edges.csv\", index=False)"
   ]
  },
  {
   "cell_type": "code",
   "execution_count": 407,
   "id": "cf02c682-74d7-4d8d-96dd-6179b76721ac",
   "metadata": {
    "execution": {
     "iopub.execute_input": "2024-09-30T13:43:20.700779Z",
     "iopub.status.busy": "2024-09-30T13:43:20.699635Z",
     "iopub.status.idle": "2024-09-30T13:43:20.717002Z",
     "shell.execute_reply": "2024-09-30T13:43:20.715199Z",
     "shell.execute_reply.started": "2024-09-30T13:43:20.700717Z"
    }
   },
   "outputs": [
    {
     "data": {
      "text/plain": [
       "(3167, 83)"
      ]
     },
     "execution_count": 407,
     "metadata": {},
     "output_type": "execute_result"
    }
   ],
   "source": [
    "len(df_wals_edges_inversion), len(df_wals_inversion)"
   ]
  },
  {
   "cell_type": "code",
   "execution_count": 280,
   "id": "1127285c-ce62-4bc6-80ae-170f4b2f1afe",
   "metadata": {
    "execution": {
     "iopub.execute_input": "2024-09-30T11:34:29.422572Z",
     "iopub.status.busy": "2024-09-30T11:34:29.422067Z",
     "iopub.status.idle": "2024-09-30T11:34:29.483335Z",
     "shell.execute_reply": "2024-09-30T11:34:29.482856Z",
     "shell.execute_reply.started": "2024-09-30T11:34:29.422539Z"
    }
   },
   "outputs": [],
   "source": [
    "df_clics_inversion = df_clics[df_clics[\"Target_iso639P3code\"].isin(inversion_langs) & df_clics[\"Source_iso639P3code\"].isin(inversion_langs)]\n",
    "df_wn_inversion = df_wn[df_wn[\"Target_iso639P3code\"].isin(inversion_langs) & df_wn[\"Source_iso639P3code\"].isin(inversion_langs)]"
   ]
  },
  {
   "cell_type": "code",
   "execution_count": 281,
   "id": "fe658b50-96ee-49f8-b958-3ed9f5ccde68",
   "metadata": {
    "execution": {
     "iopub.execute_input": "2024-09-30T11:34:33.646035Z",
     "iopub.status.busy": "2024-09-30T11:34:33.645530Z",
     "iopub.status.idle": "2024-09-30T11:34:33.656640Z",
     "shell.execute_reply": "2024-09-30T11:34:33.655306Z",
     "shell.execute_reply.started": "2024-09-30T11:34:33.646001Z"
    }
   },
   "outputs": [
    {
     "data": {
      "text/plain": [
       "(2767, 10506)"
      ]
     },
     "execution_count": 281,
     "metadata": {},
     "output_type": "execute_result"
    }
   ],
   "source": [
    "len(df_clics_inversion), len(df_wn_inversion)"
   ]
  },
  {
   "cell_type": "code",
   "execution_count": 283,
   "id": "6311e912-5645-43cc-8220-07da7aedb1cd",
   "metadata": {
    "execution": {
     "iopub.execute_input": "2024-09-30T11:34:47.737440Z",
     "iopub.status.busy": "2024-09-30T11:34:47.736938Z",
     "iopub.status.idle": "2024-09-30T11:34:47.823811Z",
     "shell.execute_reply": "2024-09-30T11:34:47.823281Z",
     "shell.execute_reply.started": "2024-09-30T11:34:47.737407Z"
    }
   },
   "outputs": [],
   "source": [
    "df_clics_inversion.to_csv(\"../datasets/data_for_graph/subsets/inversion/clics.csv\", index=False)\n",
    "df_wn_inversion.to_csv(\"../datasets/data_for_graph/subsets/inversion/wn_colex.csv\", index=False)\n"
   ]
  },
  {
   "cell_type": "markdown",
   "id": "521843c8-714b-4232-a1bc-ec3f9576c481",
   "metadata": {},
   "source": [
    "# Prompt dataset"
   ]
  },
  {
   "cell_type": "code",
   "execution_count": 408,
   "id": "03db1af0-bce7-4410-90e0-4c701c11cbd6",
   "metadata": {
    "execution": {
     "iopub.execute_input": "2024-09-30T13:43:44.900230Z",
     "iopub.status.busy": "2024-09-30T13:43:44.899633Z",
     "iopub.status.idle": "2024-09-30T13:43:44.909759Z",
     "shell.execute_reply": "2024-09-30T13:43:44.908587Z",
     "shell.execute_reply.started": "2024-09-30T13:43:44.900195Z"
    },
    "scrolled": true
   },
   "outputs": [
    {
     "data": {
      "text/plain": [
       "(True, True)"
      ]
     },
     "execution_count": 408,
     "metadata": {},
     "output_type": "execute_result"
    }
   ],
   "source": [
    "\"zho\" in prompt_langs, \"cmn\" in prompt_langs"
   ]
  },
  {
   "cell_type": "code",
   "execution_count": 409,
   "id": "ffc564b7-2df8-4e9d-85ee-7f383aa216ca",
   "metadata": {
    "execution": {
     "iopub.execute_input": "2024-09-30T13:44:30.696497Z",
     "iopub.status.busy": "2024-09-30T13:44:30.695947Z",
     "iopub.status.idle": "2024-09-30T13:44:30.706037Z",
     "shell.execute_reply": "2024-09-30T13:44:30.704560Z",
     "shell.execute_reply.started": "2024-09-30T13:44:30.696463Z"
    }
   },
   "outputs": [],
   "source": [
    "df_gb_prompt = df_gb[df_gb[\"Lang_iso639P3code\"].isin(prompt_langs)]"
   ]
  },
  {
   "cell_type": "code",
   "execution_count": 410,
   "id": "d5b95c42-557b-4257-8bf1-d44fbc7c745f",
   "metadata": {
    "execution": {
     "iopub.execute_input": "2024-09-30T13:44:32.184752Z",
     "iopub.status.busy": "2024-09-30T13:44:32.184170Z",
     "iopub.status.idle": "2024-09-30T13:44:32.394901Z",
     "shell.execute_reply": "2024-09-30T13:44:32.394456Z",
     "shell.execute_reply.started": "2024-09-30T13:44:32.184716Z"
    }
   },
   "outputs": [],
   "source": [
    "df_gb_edges_prompt = df_gb_edges[df_gb_edges[\"Target_iso639P3code\"].isin(prompt_langs) & df_gb_edges[\"Source_iso639P3code\"].isin(prompt_langs)]"
   ]
  },
  {
   "cell_type": "code",
   "execution_count": 411,
   "id": "bf9d8637-4360-40e3-b891-ff911790f738",
   "metadata": {
    "execution": {
     "iopub.execute_input": "2024-09-30T13:44:33.756820Z",
     "iopub.status.busy": "2024-09-30T13:44:33.756291Z",
     "iopub.status.idle": "2024-09-30T13:44:33.783805Z",
     "shell.execute_reply": "2024-09-30T13:44:33.783153Z",
     "shell.execute_reply.started": "2024-09-30T13:44:33.756787Z"
    }
   },
   "outputs": [],
   "source": [
    "df_gb_prompt.to_csv(\"../datasets/data_for_graph/subsets/prompts/gb_features.csv\", index=False)\n",
    "df_gb_edges_prompt.to_csv(\"../datasets/data_for_graph/subsets/prompts/gb_edges.csv\", index=False)"
   ]
  },
  {
   "cell_type": "code",
   "execution_count": 412,
   "id": "816b9f9a-17a0-401b-8897-3b7843d2dda9",
   "metadata": {
    "execution": {
     "iopub.execute_input": "2024-09-30T13:44:35.453487Z",
     "iopub.status.busy": "2024-09-30T13:44:35.452900Z",
     "iopub.status.idle": "2024-09-30T13:44:35.587188Z",
     "shell.execute_reply": "2024-09-30T13:44:35.586802Z",
     "shell.execute_reply.started": "2024-09-30T13:44:35.453429Z"
    }
   },
   "outputs": [],
   "source": [
    "df_wals_prompt = df_wals[df_wals[\"Lang_iso639P3code\"].isin(prompt_langs)]\n",
    "df_wals_edges_prompt = df_wals_edges[df_wals_edges[\"Target_iso639P3code\"].isin(prompt_langs) & df_wals_edges[\"Source_iso639P3code\"].isin(prompt_langs)]\n",
    "df_wals_prompt.to_csv(\"../datasets/data_for_graph/subsets/prompts/wals_features.csv\", index=False)\n",
    "df_wals_edges_prompt.to_csv(\"../datasets/data_for_graph/subsets/prompts/wals_edges.csv\", index=False)"
   ]
  },
  {
   "cell_type": "code",
   "execution_count": 267,
   "id": "6d2bbdc1-1939-4f4d-83ff-bdab0876740b",
   "metadata": {
    "execution": {
     "iopub.execute_input": "2024-09-30T11:29:26.233501Z",
     "iopub.status.busy": "2024-09-30T11:29:26.232714Z",
     "iopub.status.idle": "2024-09-30T11:29:26.304154Z",
     "shell.execute_reply": "2024-09-30T11:29:26.303740Z",
     "shell.execute_reply.started": "2024-09-30T11:29:26.233466Z"
    }
   },
   "outputs": [],
   "source": [
    "df_clics_prompt = df_clics[df_clics[\"Target_iso639P3code\"].isin(prompt_langs) & df_clics[\"Source_iso639P3code\"].isin(prompt_langs)]\n",
    "df_wn_prompt = df_wn[df_wn[\"Target_iso639P3code\"].isin(prompt_langs) & df_wn[\"Source_iso639P3code\"].isin(prompt_langs)]"
   ]
  },
  {
   "cell_type": "code",
   "execution_count": 270,
   "id": "a8f73d4f-15a4-4c81-b46e-5c6325d1c1ea",
   "metadata": {
    "execution": {
     "iopub.execute_input": "2024-09-30T11:29:47.996566Z",
     "iopub.status.busy": "2024-09-30T11:29:47.996061Z",
     "iopub.status.idle": "2024-09-30T11:29:48.007600Z",
     "shell.execute_reply": "2024-09-30T11:29:48.006404Z",
     "shell.execute_reply.started": "2024-09-30T11:29:47.996533Z"
    }
   },
   "outputs": [
    {
     "data": {
      "text/plain": [
       "(3184, 16002)"
      ]
     },
     "execution_count": 270,
     "metadata": {},
     "output_type": "execute_result"
    }
   ],
   "source": [
    "len(df_clics_prompt), len(df_wn_prompt)"
   ]
  },
  {
   "cell_type": "code",
   "execution_count": 271,
   "id": "6dbb428b-2168-464f-818a-ce1d2345fe21",
   "metadata": {
    "execution": {
     "iopub.execute_input": "2024-09-30T11:29:59.521532Z",
     "iopub.status.busy": "2024-09-30T11:29:59.521017Z",
     "iopub.status.idle": "2024-09-30T11:29:59.633989Z",
     "shell.execute_reply": "2024-09-30T11:29:59.633510Z",
     "shell.execute_reply.started": "2024-09-30T11:29:59.521498Z"
    }
   },
   "outputs": [],
   "source": [
    "df_clics_prompt.to_csv(\"../datasets/data_for_graph/subsets/prompts/clics.csv\", index=False)\n",
    "df_wn_prompt.to_csv(\"../datasets/data_for_graph/subsets/prompts/wn_colex.csv\", index=False)\n"
   ]
  },
  {
   "cell_type": "code",
   "execution_count": null,
   "id": "53aa4500-9284-455e-99fb-ac247f0ae1cd",
   "metadata": {},
   "outputs": [],
   "source": []
  },
  {
   "cell_type": "code",
   "execution_count": null,
   "id": "ed98bd92-7e19-4f7f-b722-61aab0711b47",
   "metadata": {},
   "outputs": [],
   "source": []
  },
  {
   "cell_type": "markdown",
   "id": "24f4007a-497d-4501-bbdd-acd9e0461236",
   "metadata": {},
   "source": [
    "# Give the iso3code and Language name to Grambank data in addition to glottocode"
   ]
  },
  {
   "cell_type": "code",
   "execution_count": 284,
   "id": "cb9a120f-a3eb-4f6e-a29a-53aef7f07427",
   "metadata": {
    "execution": {
     "iopub.execute_input": "2024-09-30T11:50:27.840139Z",
     "iopub.status.busy": "2024-09-30T11:50:27.839140Z",
     "iopub.status.idle": "2024-09-30T11:50:28.069087Z",
     "shell.execute_reply": "2024-09-30T11:50:28.068687Z",
     "shell.execute_reply.started": "2024-09-30T11:50:27.840088Z"
    }
   },
   "outputs": [],
   "source": [
    "df_wn = pd.read_csv(\"../datasets/data_for_graph/wn_colex.csv\")"
   ]
  },
  {
   "cell_type": "code",
   "execution_count": 289,
   "id": "de6094dc-a453-4792-83a7-5ce854ce8f70",
   "metadata": {
    "execution": {
     "iopub.execute_input": "2024-09-30T11:51:13.795449Z",
     "iopub.status.busy": "2024-09-30T11:51:13.793391Z",
     "iopub.status.idle": "2024-09-30T11:51:13.809262Z",
     "shell.execute_reply": "2024-09-30T11:51:13.807222Z",
     "shell.execute_reply.started": "2024-09-30T11:51:13.795358Z"
    }
   },
   "outputs": [],
   "source": [
    "df_wn.rename(columns={\"Target\":\"Target_ID\", \"Source\":\"Source_ID\"}, inplace=True)"
   ]
  },
  {
   "cell_type": "code",
   "execution_count": 215,
   "id": "fbbeba14-a8c5-4b0f-893b-8eb58c577e13",
   "metadata": {
    "execution": {
     "iopub.execute_input": "2024-09-30T11:20:00.018488Z",
     "iopub.status.busy": "2024-09-30T11:20:00.017091Z",
     "iopub.status.idle": "2024-09-30T11:20:00.042885Z",
     "shell.execute_reply": "2024-09-30T11:20:00.041995Z",
     "shell.execute_reply.started": "2024-09-30T11:20:00.018441Z"
    }
   },
   "outputs": [],
   "source": [
    "df_wn.drop(columns=[\"Target_iso639P3code\", \"Source_iso639P3code\"], inplace=True)"
   ]
  },
  {
   "cell_type": "code",
   "execution_count": 216,
   "id": "df69dada-ad63-4348-8f08-564bbe48a601",
   "metadata": {
    "execution": {
     "iopub.execute_input": "2024-09-30T11:20:00.845384Z",
     "iopub.status.busy": "2024-09-30T11:20:00.844815Z",
     "iopub.status.idle": "2024-09-30T11:20:00.852802Z",
     "shell.execute_reply": "2024-09-30T11:20:00.851869Z",
     "shell.execute_reply.started": "2024-09-30T11:20:00.845349Z"
    }
   },
   "outputs": [],
   "source": [
    "df_wn.rename(columns={\"Target\":\"Target_iso639P3code\", \"Source\":\"Source_iso639P3code\"}, inplace=True)"
   ]
  },
  {
   "cell_type": "code",
   "execution_count": 217,
   "id": "a436b67e-3d37-424a-9d87-e924222cc477",
   "metadata": {
    "execution": {
     "iopub.execute_input": "2024-09-30T11:20:02.125468Z",
     "iopub.status.busy": "2024-09-30T11:20:02.124458Z",
     "iopub.status.idle": "2024-09-30T11:20:02.136673Z",
     "shell.execute_reply": "2024-09-30T11:20:02.135590Z",
     "shell.execute_reply.started": "2024-09-30T11:20:02.125411Z"
    },
    "scrolled": true
   },
   "outputs": [
    {
     "data": {
      "text/plain": [
       "('stan1318', 'Standard Arabic')"
      ]
     },
     "execution_count": 217,
     "metadata": {},
     "output_type": "execute_result"
    }
   ],
   "source": [
    "iso2id[\"msa\"], iso2name[\"msa\"]"
   ]
  },
  {
   "cell_type": "code",
   "execution_count": 256,
   "id": "0c685848-c839-451f-9cd6-5aca773fe4db",
   "metadata": {
    "execution": {
     "iopub.execute_input": "2024-09-30T11:24:54.240977Z",
     "iopub.status.busy": "2024-09-30T11:24:54.240471Z",
     "iopub.status.idle": "2024-09-30T11:24:54.262895Z",
     "shell.execute_reply": "2024-09-30T11:24:54.262473Z",
     "shell.execute_reply.started": "2024-09-30T11:24:54.240945Z"
    }
   },
   "outputs": [
    {
     "data": {
      "text/html": [
       "<div>\n",
       "<style scoped>\n",
       "    .dataframe tbody tr th:only-of-type {\n",
       "        vertical-align: middle;\n",
       "    }\n",
       "\n",
       "    .dataframe tbody tr th {\n",
       "        vertical-align: top;\n",
       "    }\n",
       "\n",
       "    .dataframe thead th {\n",
       "        text-align: right;\n",
       "    }\n",
       "</style>\n",
       "<table border=\"1\" class=\"dataframe\">\n",
       "  <thead>\n",
       "    <tr style=\"text-align: right;\">\n",
       "      <th></th>\n",
       "      <th>Target_iso639P3code</th>\n",
       "      <th>Source_iso639P3code</th>\n",
       "      <th>Weight</th>\n",
       "      <th>Colex_target</th>\n",
       "      <th>Colex_source</th>\n",
       "      <th>pmi</th>\n",
       "      <th>pmi_norm</th>\n",
       "      <th>Target_name</th>\n",
       "      <th>Source_name</th>\n",
       "      <th>Target</th>\n",
       "      <th>Source</th>\n",
       "    </tr>\n",
       "  </thead>\n",
       "  <tbody>\n",
       "    <tr>\n",
       "      <th>0</th>\n",
       "      <td>msa</td>\n",
       "      <td>ind</td>\n",
       "      <td>215159</td>\n",
       "      <td>492290</td>\n",
       "      <td>484134</td>\n",
       "      <td>2.212693</td>\n",
       "      <td>0.183280</td>\n",
       "      <td>Standard Arabic</td>\n",
       "      <td>Standard Indonesian</td>\n",
       "      <td>stan1318</td>\n",
       "      <td>indo1316</td>\n",
       "    </tr>\n",
       "    <tr>\n",
       "      <th>1</th>\n",
       "      <td>ind</td>\n",
       "      <td>msa</td>\n",
       "      <td>215371</td>\n",
       "      <td>484134</td>\n",
       "      <td>492290</td>\n",
       "      <td>2.214114</td>\n",
       "      <td>0.183374</td>\n",
       "      <td>Standard Indonesian</td>\n",
       "      <td>Standard Arabic</td>\n",
       "      <td>indo1316</td>\n",
       "      <td>stan1318</td>\n",
       "    </tr>\n",
       "  </tbody>\n",
       "</table>\n",
       "</div>"
      ],
      "text/plain": [
       "  Target_iso639P3code Source_iso639P3code  Weight  Colex_target  Colex_source  \\\n",
       "0                 msa                 ind  215159        492290        484134   \n",
       "1                 ind                 msa  215371        484134        492290   \n",
       "\n",
       "        pmi  pmi_norm          Target_name          Source_name    Target  \\\n",
       "0  2.212693  0.183280      Standard Arabic  Standard Indonesian  stan1318   \n",
       "1  2.214114  0.183374  Standard Indonesian      Standard Arabic  indo1316   \n",
       "\n",
       "     Source  \n",
       "0  indo1316  \n",
       "1  stan1318  "
      ]
     },
     "execution_count": 256,
     "metadata": {},
     "output_type": "execute_result"
    }
   ],
   "source": [
    "df_wn.head(2)"
   ]
  },
  {
   "cell_type": "code",
   "execution_count": 220,
   "id": "93e2068e-5cf3-4b3c-8d77-78b130720405",
   "metadata": {
    "execution": {
     "iopub.execute_input": "2024-09-30T11:20:24.060499Z",
     "iopub.status.busy": "2024-09-30T11:20:24.059472Z",
     "iopub.status.idle": "2024-09-30T11:20:24.288599Z",
     "shell.execute_reply": "2024-09-30T11:20:24.288209Z",
     "shell.execute_reply.started": "2024-09-30T11:20:24.060438Z"
    }
   },
   "outputs": [],
   "source": [
    "df_wn[\"Target\"] = df_wn[\"Target_iso639P3code\"].apply(lambda x: iso2id.get(x,None))\n",
    "df_wn[\"Target_name\"] = df_wn[\"Target_iso639P3code\"].apply(lambda x: iso2name.get(x,None))\n",
    "df_wn[\"Source\"] = df_wn[\"Source_iso639P3code\"].apply(lambda x: iso2id.get(x,None))\n",
    "df_wn[\"Source_name\"] = df_wn[\"Source_iso639P3code\"].apply(lambda x: iso2name.get(x,None))"
   ]
  },
  {
   "cell_type": "code",
   "execution_count": 290,
   "id": "5b05c8a4-6592-4e9b-90ec-51b1fe01c1bc",
   "metadata": {
    "execution": {
     "iopub.execute_input": "2024-09-30T11:51:18.851430Z",
     "iopub.status.busy": "2024-09-30T11:51:18.849120Z",
     "iopub.status.idle": "2024-09-30T11:51:20.038257Z",
     "shell.execute_reply": "2024-09-30T11:51:20.037829Z",
     "shell.execute_reply.started": "2024-09-30T11:51:18.851335Z"
    }
   },
   "outputs": [],
   "source": [
    "df_wn.to_csv(\"../datasets/data_for_graph/wn_colex.csv\", index=False)"
   ]
  },
  {
   "cell_type": "markdown",
   "id": "8309179f-d917-464b-a404-8321da9e251b",
   "metadata": {},
   "source": [
    "# CLICS"
   ]
  },
  {
   "cell_type": "code",
   "execution_count": 291,
   "id": "2e75dd90-f73a-4b1a-a2f9-9792d98b02f0",
   "metadata": {
    "execution": {
     "iopub.execute_input": "2024-09-30T11:51:23.175506Z",
     "iopub.status.busy": "2024-09-30T11:51:23.174635Z",
     "iopub.status.idle": "2024-09-30T11:51:23.704538Z",
     "shell.execute_reply": "2024-09-30T11:51:23.704114Z",
     "shell.execute_reply.started": "2024-09-30T11:51:23.175464Z"
    }
   },
   "outputs": [],
   "source": [
    "df_clics = pd.read_csv(\"../datasets/data_for_graph/clics3.csv\")"
   ]
  },
  {
   "cell_type": "code",
   "execution_count": 293,
   "id": "b54d846c-e7dc-46b9-98ab-474283d0d54f",
   "metadata": {
    "execution": {
     "iopub.execute_input": "2024-09-30T11:51:31.683351Z",
     "iopub.status.busy": "2024-09-30T11:51:31.682404Z",
     "iopub.status.idle": "2024-09-30T11:51:31.696198Z",
     "shell.execute_reply": "2024-09-30T11:51:31.694751Z",
     "shell.execute_reply.started": "2024-09-30T11:51:31.683291Z"
    }
   },
   "outputs": [],
   "source": [
    "df_clics.rename(columns={\"Target\":\"Target_ID\", \"Source\":\"Source_ID\"}, inplace=True)"
   ]
  },
  {
   "cell_type": "code",
   "execution_count": 294,
   "id": "1c25f8c1-e747-460e-bbaa-8d291768455a",
   "metadata": {
    "execution": {
     "iopub.execute_input": "2024-09-30T11:51:33.185936Z",
     "iopub.status.busy": "2024-09-30T11:51:33.184658Z",
     "iopub.status.idle": "2024-09-30T11:51:33.260899Z",
     "shell.execute_reply": "2024-09-30T11:51:33.260320Z",
     "shell.execute_reply.started": "2024-09-30T11:51:33.185856Z"
    }
   },
   "outputs": [
    {
     "data": {
      "text/html": [
       "<div>\n",
       "<style scoped>\n",
       "    .dataframe tbody tr th:only-of-type {\n",
       "        vertical-align: middle;\n",
       "    }\n",
       "\n",
       "    .dataframe tbody tr th {\n",
       "        vertical-align: top;\n",
       "    }\n",
       "\n",
       "    .dataframe thead th {\n",
       "        text-align: right;\n",
       "    }\n",
       "</style>\n",
       "<table border=\"1\" class=\"dataframe\">\n",
       "  <thead>\n",
       "    <tr style=\"text-align: right;\">\n",
       "      <th></th>\n",
       "      <th>Target_ID</th>\n",
       "      <th>Source_ID</th>\n",
       "      <th>Weight</th>\n",
       "      <th>Colex_target</th>\n",
       "      <th>Colex_source</th>\n",
       "      <th>pmi</th>\n",
       "      <th>pmi_norm</th>\n",
       "      <th>Target_iso639P3code</th>\n",
       "      <th>Target_name</th>\n",
       "      <th>Source_iso639P3code</th>\n",
       "      <th>Source_name</th>\n",
       "    </tr>\n",
       "  </thead>\n",
       "  <tbody>\n",
       "    <tr>\n",
       "      <th>78208</th>\n",
       "      <td>koyo1242</td>\n",
       "      <td>stan1318</td>\n",
       "      <td>1</td>\n",
       "      <td>14.0</td>\n",
       "      <td>39.0</td>\n",
       "      <td>7.117952</td>\n",
       "      <td>0.576581</td>\n",
       "      <td>koh</td>\n",
       "      <td>Koyo</td>\n",
       "      <td>msa</td>\n",
       "      <td>Standard Arabic</td>\n",
       "    </tr>\n",
       "    <tr>\n",
       "      <th>78287</th>\n",
       "      <td>basa1284</td>\n",
       "      <td>stan1318</td>\n",
       "      <td>1</td>\n",
       "      <td>13.0</td>\n",
       "      <td>39.0</td>\n",
       "      <td>7.224867</td>\n",
       "      <td>0.582611</td>\n",
       "      <td>bas</td>\n",
       "      <td>Basa (Cameroon)</td>\n",
       "      <td>msa</td>\n",
       "      <td>Standard Arabic</td>\n",
       "    </tr>\n",
       "  </tbody>\n",
       "</table>\n",
       "</div>"
      ],
      "text/plain": [
       "      Target_ID Source_ID  Weight  Colex_target  Colex_source       pmi  \\\n",
       "78208  koyo1242  stan1318       1          14.0          39.0  7.117952   \n",
       "78287  basa1284  stan1318       1          13.0          39.0  7.224867   \n",
       "\n",
       "       pmi_norm Target_iso639P3code      Target_name Source_iso639P3code  \\\n",
       "78208  0.576581                 koh             Koyo                 msa   \n",
       "78287  0.582611                 bas  Basa (Cameroon)                 msa   \n",
       "\n",
       "           Source_name  \n",
       "78208  Standard Arabic  \n",
       "78287  Standard Arabic  "
      ]
     },
     "execution_count": 294,
     "metadata": {},
     "output_type": "execute_result"
    }
   ],
   "source": [
    "df_clics[df_clics[\"Source_iso639P3code\"]==\"msa\"].head(2)"
   ]
  },
  {
   "cell_type": "code",
   "execution_count": 229,
   "id": "0e061cd6-9110-4ff1-a676-906b17c854a8",
   "metadata": {
    "execution": {
     "iopub.execute_input": "2024-09-30T11:21:27.176849Z",
     "iopub.status.busy": "2024-09-30T11:21:27.175643Z",
     "iopub.status.idle": "2024-09-30T11:21:27.525822Z",
     "shell.execute_reply": "2024-09-30T11:21:27.525363Z",
     "shell.execute_reply.started": "2024-09-30T11:21:27.176775Z"
    }
   },
   "outputs": [],
   "source": [
    "df_clics[\"Target_iso639P3code\"] = df_clics[\"Target\"].apply(lambda x: id2iso.get(x,None))\n",
    "df_clics[\"Target_name\"] = df_clics[\"Target\"].apply(lambda x: id2name.get(x,None))\n",
    "df_clics[\"Source_iso639P3code\"] = df_clics[\"Source\"].apply(lambda x: id2iso.get(x,None))\n",
    "df_clics[\"Source_name\"] = df_clics[\"Source\"].apply(lambda x: id2name.get(x,None))"
   ]
  },
  {
   "cell_type": "code",
   "execution_count": 295,
   "id": "27e83ed1-65b2-4bd2-aee7-25a3432a4746",
   "metadata": {
    "execution": {
     "iopub.execute_input": "2024-09-30T11:51:38.418806Z",
     "iopub.status.busy": "2024-09-30T11:51:38.417813Z",
     "iopub.status.idle": "2024-09-30T11:51:40.814471Z",
     "shell.execute_reply": "2024-09-30T11:51:40.814026Z",
     "shell.execute_reply.started": "2024-09-30T11:51:38.418729Z"
    }
   },
   "outputs": [],
   "source": [
    "df_clics.to_csv(\"../datasets/data_for_graph/clics3.csv\", index=False)"
   ]
  },
  {
   "cell_type": "markdown",
   "id": "6ee8912e-ad68-49fc-8c0a-b28560c1bb72",
   "metadata": {},
   "source": [
    "# WALS"
   ]
  },
  {
   "cell_type": "code",
   "execution_count": 338,
   "id": "250c064c-8fc5-4958-83fe-ad7c95f50385",
   "metadata": {
    "execution": {
     "iopub.execute_input": "2024-09-30T13:30:26.297238Z",
     "iopub.status.busy": "2024-09-30T13:30:26.296730Z",
     "iopub.status.idle": "2024-09-30T13:30:27.135705Z",
     "shell.execute_reply": "2024-09-30T13:30:27.135101Z",
     "shell.execute_reply.started": "2024-09-30T13:30:26.297205Z"
    }
   },
   "outputs": [],
   "source": [
    "df_wals = pd.read_csv(\"../datasets/data_for_graph/WALS/wals_lang2features.csv\")\n",
    "df_wals_edges = pd.read_csv(\"../datasets/data_for_graph/WALS/edgelist.csv\")"
   ]
  },
  {
   "cell_type": "code",
   "execution_count": 342,
   "id": "f775f171-713f-46ac-9014-633edc5217de",
   "metadata": {
    "execution": {
     "iopub.execute_input": "2024-09-30T13:31:11.888400Z",
     "iopub.status.busy": "2024-09-30T13:31:11.887823Z",
     "iopub.status.idle": "2024-09-30T13:31:12.424814Z",
     "shell.execute_reply": "2024-09-30T13:31:12.424403Z",
     "shell.execute_reply.started": "2024-09-30T13:31:11.888359Z"
    }
   },
   "outputs": [],
   "source": [
    "df_wals_edges.replace({\"zho\":\"cmn\"}, inplace=True)"
   ]
  },
  {
   "cell_type": "code",
   "execution_count": 352,
   "id": "bd8be590-3430-433f-bf27-b1b98577aab8",
   "metadata": {
    "execution": {
     "iopub.execute_input": "2024-09-30T13:33:34.869029Z",
     "iopub.status.busy": "2024-09-30T13:33:34.868061Z",
     "iopub.status.idle": "2024-09-30T13:33:35.407585Z",
     "shell.execute_reply": "2024-09-30T13:33:35.407186Z",
     "shell.execute_reply.started": "2024-09-30T13:33:34.868988Z"
    }
   },
   "outputs": [],
   "source": [
    "df_wals_edges.replace({\"msa\":\"arb\"}, inplace=True)"
   ]
  },
  {
   "cell_type": "code",
   "execution_count": 236,
   "id": "0d4a6fe6-7a8a-4706-b6da-d0594603df35",
   "metadata": {
    "execution": {
     "iopub.execute_input": "2024-09-30T11:22:22.661364Z",
     "iopub.status.busy": "2024-09-30T11:22:22.660527Z",
     "iopub.status.idle": "2024-09-30T11:22:23.786512Z",
     "shell.execute_reply": "2024-09-30T11:22:23.786102Z",
     "shell.execute_reply.started": "2024-09-30T11:22:22.661320Z"
    }
   },
   "outputs": [],
   "source": [
    "df_wals_edges[\"Target_iso639P3code\"] = df_wals_edges[\"Target\"].apply(lambda x: id2iso.get(x,None))\n",
    "df_wals_edges[\"Target_name\"] = df_wals_edges[\"Target\"].apply(lambda x: id2name.get(x,None))\n",
    "df_wals_edges[\"Source_iso639P3code\"] = df_wals_edges[\"Source\"].apply(lambda x: id2iso.get(x,None))\n",
    "df_wals_edges[\"Source_name\"] = df_wals_edges[\"Source\"].apply(lambda x: id2name.get(x,None))"
   ]
  },
  {
   "cell_type": "code",
   "execution_count": 84,
   "id": "3c57a0f0-886f-42ad-9f91-6d85beeaeae5",
   "metadata": {
    "execution": {
     "iopub.execute_input": "2024-09-30T10:08:49.274870Z",
     "iopub.status.busy": "2024-09-30T10:08:49.273919Z",
     "iopub.status.idle": "2024-09-30T10:08:49.289823Z",
     "shell.execute_reply": "2024-09-30T10:08:49.288304Z",
     "shell.execute_reply.started": "2024-09-30T10:08:49.274823Z"
    }
   },
   "outputs": [],
   "source": [
    "cols = list(df_wals.columns)\n",
    "df_wals = df_wals.reindex(columns = cols[-2:]+cols[:-2])"
   ]
  },
  {
   "cell_type": "code",
   "execution_count": 86,
   "id": "1d7b2aeb-ec39-47f8-9688-26afdc5cb0a8",
   "metadata": {
    "execution": {
     "iopub.execute_input": "2024-09-30T10:09:28.690738Z",
     "iopub.status.busy": "2024-09-30T10:09:28.689428Z",
     "iopub.status.idle": "2024-09-30T10:09:28.704189Z",
     "shell.execute_reply": "2024-09-30T10:09:28.702494Z",
     "shell.execute_reply.started": "2024-09-30T10:09:28.690665Z"
    }
   },
   "outputs": [],
   "source": [
    "df_wals.rename(columns={\"Glottocode\":\"Lang_ID\"}, inplace=True)\n"
   ]
  },
  {
   "cell_type": "code",
   "execution_count": 356,
   "id": "b53ba54d-9993-4e90-affc-37edb76e3235",
   "metadata": {
    "execution": {
     "iopub.execute_input": "2024-09-30T13:34:13.857555Z",
     "iopub.status.busy": "2024-09-30T13:34:13.856577Z",
     "iopub.status.idle": "2024-09-30T13:34:17.014758Z",
     "shell.execute_reply": "2024-09-30T13:34:17.014339Z",
     "shell.execute_reply.started": "2024-09-30T13:34:13.857509Z"
    }
   },
   "outputs": [],
   "source": [
    "df_wals.to_csv(\"../datasets/data_for_graph/WALS/wals_lang2features.csv\", index=False)\n",
    "df_wals_edges.to_csv(\"../datasets/data_for_graph/WALS/edgelist.csv\", index=False)"
   ]
  },
  {
   "cell_type": "code",
   "execution_count": 359,
   "id": "271015ec-2b89-4b36-b365-a7522d8afeed",
   "metadata": {
    "execution": {
     "iopub.execute_input": "2024-09-30T13:34:23.199232Z",
     "iopub.status.busy": "2024-09-30T13:34:23.198312Z",
     "iopub.status.idle": "2024-09-30T13:34:23.224211Z",
     "shell.execute_reply": "2024-09-30T13:34:23.223562Z",
     "shell.execute_reply.started": "2024-09-30T13:34:23.199185Z"
    }
   },
   "outputs": [
    {
     "data": {
      "text/html": [
       "<div>\n",
       "<style scoped>\n",
       "    .dataframe tbody tr th:only-of-type {\n",
       "        vertical-align: middle;\n",
       "    }\n",
       "\n",
       "    .dataframe tbody tr th {\n",
       "        vertical-align: top;\n",
       "    }\n",
       "\n",
       "    .dataframe thead th {\n",
       "        text-align: right;\n",
       "    }\n",
       "</style>\n",
       "<table border=\"1\" class=\"dataframe\">\n",
       "  <thead>\n",
       "    <tr style=\"text-align: right;\">\n",
       "      <th></th>\n",
       "      <th>Lang_name</th>\n",
       "      <th>Lang_iso639P3code</th>\n",
       "      <th>Lang_ID</th>\n",
       "      <th>Family</th>\n",
       "      <th>Genus</th>\n",
       "      <th>Consonant Inventories</th>\n",
       "      <th>Vowel Quality Inventories</th>\n",
       "      <th>Consonant-Vowel Ratio</th>\n",
       "      <th>Voicing in Plosives and Fricatives</th>\n",
       "      <th>Voicing and Gaps in Plosive Systems</th>\n",
       "      <th>...</th>\n",
       "      <th>NegSOV Order</th>\n",
       "      <th>SNegOV Order</th>\n",
       "      <th>SONegV Order</th>\n",
       "      <th>SOVNeg Order</th>\n",
       "      <th>The Position of Negative Morphemes in Verb-Initial Languages</th>\n",
       "      <th>Double negation in verb-initial languages</th>\n",
       "      <th>Verb-Initial with Preverbal Negative</th>\n",
       "      <th>Verb-Initial with Negative that is Immediately Postverbal or between Subject and Object</th>\n",
       "      <th>Verb-Initial with Clause-Final Negative</th>\n",
       "      <th>The Position of Negative Morphemes in Object-Initial Languages</th>\n",
       "    </tr>\n",
       "  </thead>\n",
       "  <tbody>\n",
       "    <tr>\n",
       "      <th>1289</th>\n",
       "      <td>Standard Arabic</td>\n",
       "      <td>arb</td>\n",
       "      <td>stan1318</td>\n",
       "      <td>16</td>\n",
       "      <td>61</td>\n",
       "      <td>-1</td>\n",
       "      <td>-1</td>\n",
       "      <td>-1</td>\n",
       "      <td>-1</td>\n",
       "      <td>-1</td>\n",
       "      <td>...</td>\n",
       "      <td>-1</td>\n",
       "      <td>-1</td>\n",
       "      <td>-1</td>\n",
       "      <td>-1</td>\n",
       "      <td>0</td>\n",
       "      <td>-1</td>\n",
       "      <td>0</td>\n",
       "      <td>-1</td>\n",
       "      <td>0</td>\n",
       "      <td>-1</td>\n",
       "    </tr>\n",
       "  </tbody>\n",
       "</table>\n",
       "<p>1 rows × 197 columns</p>\n",
       "</div>"
      ],
      "text/plain": [
       "            Lang_name Lang_iso639P3code   Lang_ID  Family  Genus  \\\n",
       "1289  Standard Arabic               arb  stan1318      16     61   \n",
       "\n",
       "      Consonant Inventories  Vowel Quality Inventories  Consonant-Vowel Ratio  \\\n",
       "1289                     -1                         -1                     -1   \n",
       "\n",
       "      Voicing in Plosives and Fricatives  Voicing and Gaps in Plosive Systems  \\\n",
       "1289                                  -1                                   -1   \n",
       "\n",
       "      ...  NegSOV Order  SNegOV Order  SONegV Order  SOVNeg Order  \\\n",
       "1289  ...            -1            -1            -1            -1   \n",
       "\n",
       "      The Position of Negative Morphemes in Verb-Initial Languages  \\\n",
       "1289                                                  0              \n",
       "\n",
       "      Double negation in verb-initial languages  \\\n",
       "1289                                         -1   \n",
       "\n",
       "      Verb-Initial with Preverbal Negative  \\\n",
       "1289                                     0   \n",
       "\n",
       "      Verb-Initial with Negative that is Immediately Postverbal or between Subject and Object  \\\n",
       "1289                                                 -1                                         \n",
       "\n",
       "      Verb-Initial with Clause-Final Negative  \\\n",
       "1289                                        0   \n",
       "\n",
       "      The Position of Negative Morphemes in Object-Initial Languages  \n",
       "1289                                                 -1               \n",
       "\n",
       "[1 rows x 197 columns]"
      ]
     },
     "execution_count": 359,
     "metadata": {},
     "output_type": "execute_result"
    }
   ],
   "source": [
    "df_wals[df_wals[\"Lang_iso639P3code\"]==\"arb\"]"
   ]
  },
  {
   "cell_type": "code",
   "execution_count": 358,
   "id": "441c0113-2e28-4749-bf5e-233265cd2db4",
   "metadata": {
    "execution": {
     "iopub.execute_input": "2024-09-30T13:34:18.949517Z",
     "iopub.status.busy": "2024-09-30T13:34:18.948460Z",
     "iopub.status.idle": "2024-09-30T13:34:19.126387Z",
     "shell.execute_reply": "2024-09-30T13:34:19.125910Z",
     "shell.execute_reply.started": "2024-09-30T13:34:18.949477Z"
    }
   },
   "outputs": [
    {
     "data": {
      "text/html": [
       "<div>\n",
       "<style scoped>\n",
       "    .dataframe tbody tr th:only-of-type {\n",
       "        vertical-align: middle;\n",
       "    }\n",
       "\n",
       "    .dataframe tbody tr th {\n",
       "        vertical-align: top;\n",
       "    }\n",
       "\n",
       "    .dataframe thead th {\n",
       "        text-align: right;\n",
       "    }\n",
       "</style>\n",
       "<table border=\"1\" class=\"dataframe\">\n",
       "  <thead>\n",
       "    <tr style=\"text-align: right;\">\n",
       "      <th></th>\n",
       "      <th>Target_ID</th>\n",
       "      <th>Source_ID</th>\n",
       "      <th>Weight</th>\n",
       "      <th>Target_iso639P3code</th>\n",
       "      <th>Target_name</th>\n",
       "      <th>Source_iso639P3code</th>\n",
       "      <th>Source_name</th>\n",
       "    </tr>\n",
       "  </thead>\n",
       "  <tbody>\n",
       "    <tr>\n",
       "      <th>12918</th>\n",
       "      <td>stan1318</td>\n",
       "      <td>toba1266</td>\n",
       "      <td>4.0</td>\n",
       "      <td>arb</td>\n",
       "      <td>Standard Arabic</td>\n",
       "      <td>tti</td>\n",
       "      <td>Tobati</td>\n",
       "    </tr>\n",
       "    <tr>\n",
       "      <th>27824</th>\n",
       "      <td>stan1318</td>\n",
       "      <td>suku1261</td>\n",
       "      <td>1.0</td>\n",
       "      <td>arb</td>\n",
       "      <td>Standard Arabic</td>\n",
       "      <td>suk</td>\n",
       "      <td>Sukuma</td>\n",
       "    </tr>\n",
       "    <tr>\n",
       "      <th>42254</th>\n",
       "      <td>stan1318</td>\n",
       "      <td>tyar1236</td>\n",
       "      <td>1.0</td>\n",
       "      <td>arb</td>\n",
       "      <td>Standard Arabic</td>\n",
       "      <td>woa</td>\n",
       "      <td>Tyaraity</td>\n",
       "    </tr>\n",
       "    <tr>\n",
       "      <th>48821</th>\n",
       "      <td>stan1318</td>\n",
       "      <td>yaki1237</td>\n",
       "      <td>13.0</td>\n",
       "      <td>arb</td>\n",
       "      <td>Standard Arabic</td>\n",
       "      <td>yak</td>\n",
       "      <td>Northwest Sahaptin</td>\n",
       "    </tr>\n",
       "    <tr>\n",
       "      <th>52004</th>\n",
       "      <td>stan1318</td>\n",
       "      <td>west2560</td>\n",
       "      <td>14.0</td>\n",
       "      <td>arb</td>\n",
       "      <td>Standard Arabic</td>\n",
       "      <td>bdr</td>\n",
       "      <td>West Coast Bajau</td>\n",
       "    </tr>\n",
       "    <tr>\n",
       "      <th>...</th>\n",
       "      <td>...</td>\n",
       "      <td>...</td>\n",
       "      <td>...</td>\n",
       "      <td>...</td>\n",
       "      <td>...</td>\n",
       "      <td>...</td>\n",
       "      <td>...</td>\n",
       "    </tr>\n",
       "    <tr>\n",
       "      <th>1359430</th>\n",
       "      <td>stan1318</td>\n",
       "      <td>zays1235</td>\n",
       "      <td>5.0</td>\n",
       "      <td>arb</td>\n",
       "      <td>Standard Arabic</td>\n",
       "      <td>zay</td>\n",
       "      <td>Zayse-Zergulla</td>\n",
       "    </tr>\n",
       "    <tr>\n",
       "      <th>1359450</th>\n",
       "      <td>stan1318</td>\n",
       "      <td>tete1250</td>\n",
       "      <td>6.0</td>\n",
       "      <td>arb</td>\n",
       "      <td>Standard Arabic</td>\n",
       "      <td>tll</td>\n",
       "      <td>Tetela</td>\n",
       "    </tr>\n",
       "    <tr>\n",
       "      <th>1359456</th>\n",
       "      <td>stan1318</td>\n",
       "      <td>tang1336</td>\n",
       "      <td>5.0</td>\n",
       "      <td>arb</td>\n",
       "      <td>Standard Arabic</td>\n",
       "      <td>nmf</td>\n",
       "      <td>East-Central Tangkhul Naga</td>\n",
       "    </tr>\n",
       "    <tr>\n",
       "      <th>1359457</th>\n",
       "      <td>stan1318</td>\n",
       "      <td>wayu1241</td>\n",
       "      <td>5.0</td>\n",
       "      <td>arb</td>\n",
       "      <td>Standard Arabic</td>\n",
       "      <td>vay</td>\n",
       "      <td>Wayu</td>\n",
       "    </tr>\n",
       "    <tr>\n",
       "      <th>1359465</th>\n",
       "      <td>stan1318</td>\n",
       "      <td>teke1274</td>\n",
       "      <td>10.0</td>\n",
       "      <td>arb</td>\n",
       "      <td>Standard Arabic</td>\n",
       "      <td>ifm</td>\n",
       "      <td>Teke-Fuumu</td>\n",
       "    </tr>\n",
       "  </tbody>\n",
       "</table>\n",
       "<p>292 rows × 7 columns</p>\n",
       "</div>"
      ],
      "text/plain": [
       "        Target_ID Source_ID  Weight Target_iso639P3code      Target_name  \\\n",
       "12918    stan1318  toba1266     4.0                 arb  Standard Arabic   \n",
       "27824    stan1318  suku1261     1.0                 arb  Standard Arabic   \n",
       "42254    stan1318  tyar1236     1.0                 arb  Standard Arabic   \n",
       "48821    stan1318  yaki1237    13.0                 arb  Standard Arabic   \n",
       "52004    stan1318  west2560    14.0                 arb  Standard Arabic   \n",
       "...           ...       ...     ...                 ...              ...   \n",
       "1359430  stan1318  zays1235     5.0                 arb  Standard Arabic   \n",
       "1359450  stan1318  tete1250     6.0                 arb  Standard Arabic   \n",
       "1359456  stan1318  tang1336     5.0                 arb  Standard Arabic   \n",
       "1359457  stan1318  wayu1241     5.0                 arb  Standard Arabic   \n",
       "1359465  stan1318  teke1274    10.0                 arb  Standard Arabic   \n",
       "\n",
       "        Source_iso639P3code                 Source_name  \n",
       "12918                   tti                      Tobati  \n",
       "27824                   suk                      Sukuma  \n",
       "42254                   woa                    Tyaraity  \n",
       "48821                   yak          Northwest Sahaptin  \n",
       "52004                   bdr            West Coast Bajau  \n",
       "...                     ...                         ...  \n",
       "1359430                 zay              Zayse-Zergulla  \n",
       "1359450                 tll                      Tetela  \n",
       "1359456                 nmf  East-Central Tangkhul Naga  \n",
       "1359457                 vay                        Wayu  \n",
       "1359465                 ifm                  Teke-Fuumu  \n",
       "\n",
       "[292 rows x 7 columns]"
      ]
     },
     "execution_count": 358,
     "metadata": {},
     "output_type": "execute_result"
    }
   ],
   "source": [
    "df_wals_edges[df_wals_edges[\"Target_iso639P3code\"]==\"arb\"]"
   ]
  },
  {
   "cell_type": "markdown",
   "id": "f5a07139-00f4-45b2-9698-77a887dc1dbc",
   "metadata": {},
   "source": [
    "# Grambank"
   ]
  },
  {
   "cell_type": "code",
   "execution_count": 360,
   "id": "4aa585e7-7170-49b6-8df2-faa0e8fce705",
   "metadata": {
    "execution": {
     "iopub.execute_input": "2024-09-30T13:34:34.501866Z",
     "iopub.status.busy": "2024-09-30T13:34:34.500143Z",
     "iopub.status.idle": "2024-09-30T13:34:34.559268Z",
     "shell.execute_reply": "2024-09-30T13:34:34.558726Z",
     "shell.execute_reply.started": "2024-09-30T13:34:34.501781Z"
    }
   },
   "outputs": [],
   "source": [
    "df_gb = pd.read_csv(\"../datasets/data_for_graph/Grambank/grambank_lang2features.csv\")"
   ]
  },
  {
   "cell_type": "code",
   "execution_count": 361,
   "id": "e459d442-ae66-48b1-a808-e9e70c606067",
   "metadata": {
    "execution": {
     "iopub.execute_input": "2024-09-30T13:34:34.792628Z",
     "iopub.status.busy": "2024-09-30T13:34:34.791859Z",
     "iopub.status.idle": "2024-09-30T13:34:36.350020Z",
     "shell.execute_reply": "2024-09-30T13:34:36.349583Z",
     "shell.execute_reply.started": "2024-09-30T13:34:34.792582Z"
    }
   },
   "outputs": [],
   "source": [
    "df_gb_edges = pd.read_csv(\"../datasets/data_for_graph/Grambank/edgelist.csv\")"
   ]
  },
  {
   "cell_type": "code",
   "execution_count": 366,
   "id": "f02a0899-22b8-4f9b-a7bc-25e03015b5e2",
   "metadata": {
    "execution": {
     "iopub.execute_input": "2024-09-30T13:35:21.410280Z",
     "iopub.status.busy": "2024-09-30T13:35:21.409523Z",
     "iopub.status.idle": "2024-09-30T13:35:22.784422Z",
     "shell.execute_reply": "2024-09-30T13:35:22.784007Z",
     "shell.execute_reply.started": "2024-09-30T13:35:21.410239Z"
    }
   },
   "outputs": [],
   "source": [
    "df_gb_edges.replace({\"msa\":\"arb\", \"zho\":\"cmn\"}, inplace=True)"
   ]
  },
  {
   "cell_type": "code",
   "execution_count": 376,
   "id": "3640b252-cd29-47ac-8055-0f7005e970bf",
   "metadata": {
    "execution": {
     "iopub.execute_input": "2024-09-30T13:37:20.093103Z",
     "iopub.status.busy": "2024-09-30T13:37:20.090883Z",
     "iopub.status.idle": "2024-09-30T13:37:20.108819Z",
     "shell.execute_reply": "2024-09-30T13:37:20.107992Z",
     "shell.execute_reply.started": "2024-09-30T13:37:20.093030Z"
    }
   },
   "outputs": [],
   "source": [
    "df_gb.replace({\"msa\":\"arb\", \"zho\":\"cmn\"}, inplace=True)"
   ]
  },
  {
   "cell_type": "code",
   "execution_count": 378,
   "id": "d43f512a-bc54-4a05-973d-93b9ae14d5d6",
   "metadata": {
    "execution": {
     "iopub.execute_input": "2024-09-30T13:37:36.003539Z",
     "iopub.status.busy": "2024-09-30T13:37:36.002251Z",
     "iopub.status.idle": "2024-09-30T13:37:36.031008Z",
     "shell.execute_reply": "2024-09-30T13:37:36.030310Z",
     "shell.execute_reply.started": "2024-09-30T13:37:36.003457Z"
    }
   },
   "outputs": [
    {
     "data": {
      "text/html": [
       "<div>\n",
       "<style scoped>\n",
       "    .dataframe tbody tr th:only-of-type {\n",
       "        vertical-align: middle;\n",
       "    }\n",
       "\n",
       "    .dataframe tbody tr th {\n",
       "        vertical-align: top;\n",
       "    }\n",
       "\n",
       "    .dataframe thead th {\n",
       "        text-align: right;\n",
       "    }\n",
       "</style>\n",
       "<table border=\"1\" class=\"dataframe\">\n",
       "  <thead>\n",
       "    <tr style=\"text-align: right;\">\n",
       "      <th></th>\n",
       "      <th>Lang_name</th>\n",
       "      <th>Lang_iso639P3code</th>\n",
       "      <th>Lang_ID</th>\n",
       "      <th>GB020</th>\n",
       "      <th>GB021</th>\n",
       "      <th>GB022</th>\n",
       "      <th>GB023</th>\n",
       "      <th>GB024</th>\n",
       "      <th>GB025</th>\n",
       "      <th>GB026</th>\n",
       "      <th>...</th>\n",
       "      <th>GB421</th>\n",
       "      <th>GB422</th>\n",
       "      <th>GB430</th>\n",
       "      <th>GB431</th>\n",
       "      <th>GB432</th>\n",
       "      <th>GB433</th>\n",
       "      <th>GB519</th>\n",
       "      <th>GB520</th>\n",
       "      <th>GB521</th>\n",
       "      <th>GB522</th>\n",
       "    </tr>\n",
       "  </thead>\n",
       "  <tbody>\n",
       "    <tr>\n",
       "      <th>1951</th>\n",
       "      <td>Standard Arabic</td>\n",
       "      <td>arb</td>\n",
       "      <td>stan1318</td>\n",
       "      <td>1</td>\n",
       "      <td>1</td>\n",
       "      <td>1</td>\n",
       "      <td>1</td>\n",
       "      <td>3</td>\n",
       "      <td>1</td>\n",
       "      <td>0</td>\n",
       "      <td>...</td>\n",
       "      <td>-1</td>\n",
       "      <td>-1</td>\n",
       "      <td>-1</td>\n",
       "      <td>-1</td>\n",
       "      <td>-1</td>\n",
       "      <td>-1</td>\n",
       "      <td>-1</td>\n",
       "      <td>-1</td>\n",
       "      <td>-1</td>\n",
       "      <td>-1</td>\n",
       "    </tr>\n",
       "  </tbody>\n",
       "</table>\n",
       "<p>1 rows × 198 columns</p>\n",
       "</div>"
      ],
      "text/plain": [
       "            Lang_name Lang_iso639P3code   Lang_ID  GB020  GB021  GB022  GB023  \\\n",
       "1951  Standard Arabic               arb  stan1318      1      1      1      1   \n",
       "\n",
       "      GB024  GB025  GB026  ...  GB421  GB422  GB430  GB431  GB432  GB433  \\\n",
       "1951      3      1      0  ...     -1     -1     -1     -1     -1     -1   \n",
       "\n",
       "      GB519  GB520  GB521  GB522  \n",
       "1951     -1     -1     -1     -1  \n",
       "\n",
       "[1 rows x 198 columns]"
      ]
     },
     "execution_count": 378,
     "metadata": {},
     "output_type": "execute_result"
    }
   ],
   "source": [
    "df_gb[df_gb[\"Lang_iso639P3code\"]==\"arb\"]"
   ]
  },
  {
   "cell_type": "code",
   "execution_count": 373,
   "id": "04297acb-c2a0-4834-abec-f166454f1601",
   "metadata": {
    "execution": {
     "iopub.execute_input": "2024-09-30T13:36:27.774865Z",
     "iopub.status.busy": "2024-09-30T13:36:27.773952Z",
     "iopub.status.idle": "2024-09-30T13:36:28.084480Z",
     "shell.execute_reply": "2024-09-30T13:36:28.083764Z",
     "shell.execute_reply.started": "2024-09-30T13:36:27.774819Z"
    }
   },
   "outputs": [
    {
     "data": {
      "text/html": [
       "<div>\n",
       "<style scoped>\n",
       "    .dataframe tbody tr th:only-of-type {\n",
       "        vertical-align: middle;\n",
       "    }\n",
       "\n",
       "    .dataframe tbody tr th {\n",
       "        vertical-align: top;\n",
       "    }\n",
       "\n",
       "    .dataframe thead th {\n",
       "        text-align: right;\n",
       "    }\n",
       "</style>\n",
       "<table border=\"1\" class=\"dataframe\">\n",
       "  <thead>\n",
       "    <tr style=\"text-align: right;\">\n",
       "      <th></th>\n",
       "      <th>Target_ID</th>\n",
       "      <th>Source_ID</th>\n",
       "      <th>Weight</th>\n",
       "      <th>Target_iso639P3code</th>\n",
       "      <th>Target_name</th>\n",
       "      <th>Source_iso639P3code</th>\n",
       "      <th>Source_name</th>\n",
       "    </tr>\n",
       "  </thead>\n",
       "  <tbody>\n",
       "    <tr>\n",
       "      <th>4024</th>\n",
       "      <td>mand1415</td>\n",
       "      <td>ugon1239</td>\n",
       "      <td>111</td>\n",
       "      <td>cmn</td>\n",
       "      <td>Mandarin Chinese</td>\n",
       "      <td>ugo</td>\n",
       "      <td>Ugong</td>\n",
       "    </tr>\n",
       "    <tr>\n",
       "      <th>6435</th>\n",
       "      <td>mand1415</td>\n",
       "      <td>nyam1285</td>\n",
       "      <td>118</td>\n",
       "      <td>cmn</td>\n",
       "      <td>Mandarin Chinese</td>\n",
       "      <td>nmi</td>\n",
       "      <td>Nyam</td>\n",
       "    </tr>\n",
       "    <tr>\n",
       "      <th>8845</th>\n",
       "      <td>mand1415</td>\n",
       "      <td>mauw1238</td>\n",
       "      <td>54</td>\n",
       "      <td>cmn</td>\n",
       "      <td>Mandarin Chinese</td>\n",
       "      <td>mhl</td>\n",
       "      <td>Mauwake</td>\n",
       "    </tr>\n",
       "    <tr>\n",
       "      <th>11254</th>\n",
       "      <td>mand1415</td>\n",
       "      <td>tekt1235</td>\n",
       "      <td>113</td>\n",
       "      <td>cmn</td>\n",
       "      <td>Mandarin Chinese</td>\n",
       "      <td>ttc</td>\n",
       "      <td>Tektiteko</td>\n",
       "    </tr>\n",
       "    <tr>\n",
       "      <th>23284</th>\n",
       "      <td>mand1415</td>\n",
       "      <td>nyat1246</td>\n",
       "      <td>97</td>\n",
       "      <td>cmn</td>\n",
       "      <td>Mandarin Chinese</td>\n",
       "      <td>rim</td>\n",
       "      <td>Nyaturu</td>\n",
       "    </tr>\n",
       "    <tr>\n",
       "      <th>...</th>\n",
       "      <td>...</td>\n",
       "      <td>...</td>\n",
       "      <td>...</td>\n",
       "      <td>...</td>\n",
       "      <td>...</td>\n",
       "      <td>...</td>\n",
       "      <td>...</td>\n",
       "    </tr>\n",
       "    <tr>\n",
       "      <th>2592875</th>\n",
       "      <td>mand1415</td>\n",
       "      <td>wayu1241</td>\n",
       "      <td>132</td>\n",
       "      <td>cmn</td>\n",
       "      <td>Mandarin Chinese</td>\n",
       "      <td>vay</td>\n",
       "      <td>Wayu</td>\n",
       "    </tr>\n",
       "    <tr>\n",
       "      <th>2592878</th>\n",
       "      <td>mand1415</td>\n",
       "      <td>maun1240</td>\n",
       "      <td>122</td>\n",
       "      <td>cmn</td>\n",
       "      <td>Mandarin Chinese</td>\n",
       "      <td>mph</td>\n",
       "      <td>Mawng</td>\n",
       "    </tr>\n",
       "    <tr>\n",
       "      <th>2592883</th>\n",
       "      <td>mand1415</td>\n",
       "      <td>sanm1301</td>\n",
       "      <td>91</td>\n",
       "      <td>cmn</td>\n",
       "      <td>Mandarin Chinese</td>\n",
       "      <td>pls</td>\n",
       "      <td>San Marcos Tlalcoyalco Popoloca</td>\n",
       "    </tr>\n",
       "    <tr>\n",
       "      <th>2592887</th>\n",
       "      <td>mand1415</td>\n",
       "      <td>vure1239</td>\n",
       "      <td>146</td>\n",
       "      <td>cmn</td>\n",
       "      <td>Mandarin Chinese</td>\n",
       "      <td>msn</td>\n",
       "      <td>Vurës</td>\n",
       "    </tr>\n",
       "    <tr>\n",
       "      <th>2592889</th>\n",
       "      <td>mand1415</td>\n",
       "      <td>tsix1234</td>\n",
       "      <td>119</td>\n",
       "      <td>cmn</td>\n",
       "      <td>Mandarin Chinese</td>\n",
       "      <td>NaN</td>\n",
       "      <td>Ts'ixa</td>\n",
       "    </tr>\n",
       "  </tbody>\n",
       "</table>\n",
       "<p>1182 rows × 7 columns</p>\n",
       "</div>"
      ],
      "text/plain": [
       "        Target_ID Source_ID  Weight Target_iso639P3code       Target_name  \\\n",
       "4024     mand1415  ugon1239     111                 cmn  Mandarin Chinese   \n",
       "6435     mand1415  nyam1285     118                 cmn  Mandarin Chinese   \n",
       "8845     mand1415  mauw1238      54                 cmn  Mandarin Chinese   \n",
       "11254    mand1415  tekt1235     113                 cmn  Mandarin Chinese   \n",
       "23284    mand1415  nyat1246      97                 cmn  Mandarin Chinese   \n",
       "...           ...       ...     ...                 ...               ...   \n",
       "2592875  mand1415  wayu1241     132                 cmn  Mandarin Chinese   \n",
       "2592878  mand1415  maun1240     122                 cmn  Mandarin Chinese   \n",
       "2592883  mand1415  sanm1301      91                 cmn  Mandarin Chinese   \n",
       "2592887  mand1415  vure1239     146                 cmn  Mandarin Chinese   \n",
       "2592889  mand1415  tsix1234     119                 cmn  Mandarin Chinese   \n",
       "\n",
       "        Source_iso639P3code                      Source_name  \n",
       "4024                    ugo                            Ugong  \n",
       "6435                    nmi                             Nyam  \n",
       "8845                    mhl                          Mauwake  \n",
       "11254                   ttc                        Tektiteko  \n",
       "23284                   rim                          Nyaturu  \n",
       "...                     ...                              ...  \n",
       "2592875                 vay                             Wayu  \n",
       "2592878                 mph                            Mawng  \n",
       "2592883                 pls  San Marcos Tlalcoyalco Popoloca  \n",
       "2592887                 msn                            Vurës  \n",
       "2592889                 NaN                           Ts'ixa  \n",
       "\n",
       "[1182 rows x 7 columns]"
      ]
     },
     "execution_count": 373,
     "metadata": {},
     "output_type": "execute_result"
    }
   ],
   "source": [
    "df_gb_edges[df_gb_edges[\"Target_iso639P3code\"]==\"cmn\"]"
   ]
  },
  {
   "cell_type": "code",
   "execution_count": 244,
   "id": "bb75e7b3-c19f-4fad-ba8c-d671ebc00885",
   "metadata": {
    "execution": {
     "iopub.execute_input": "2024-09-30T11:23:45.604594Z",
     "iopub.status.busy": "2024-09-30T11:23:45.604368Z",
     "iopub.status.idle": "2024-09-30T11:23:47.761627Z",
     "shell.execute_reply": "2024-09-30T11:23:47.761206Z",
     "shell.execute_reply.started": "2024-09-30T11:23:45.604580Z"
    }
   },
   "outputs": [],
   "source": [
    "df_gb_edges[\"Target_iso639P3code\"] = df_gb_edges[\"Target\"].apply(lambda x: id2iso.get(x,None))\n",
    "df_gb_edges[\"Target_name\"] = df_gb_edges[\"Target\"].apply(lambda x: id2name.get(x,None))\n",
    "df_gb_edges[\"Source_iso639P3code\"] = df_gb_edges[\"Source\"].apply(lambda x: id2iso.get(x,None))\n",
    "df_gb_edges[\"Source_name\"] = df_gb_edges[\"Source\"].apply(lambda x: id2name.get(x,None))"
   ]
  },
  {
   "cell_type": "code",
   "execution_count": 245,
   "id": "5a1a4405-4dee-4552-9ed2-500605414884",
   "metadata": {
    "execution": {
     "iopub.execute_input": "2024-09-30T11:23:47.762204Z",
     "iopub.status.busy": "2024-09-30T11:23:47.762080Z",
     "iopub.status.idle": "2024-09-30T11:23:47.766706Z",
     "shell.execute_reply": "2024-09-30T11:23:47.766357Z",
     "shell.execute_reply.started": "2024-09-30T11:23:47.762192Z"
    }
   },
   "outputs": [],
   "source": [
    "df_gb[\"Lang_name\"] = df_gb[\"Lang_ID\"].apply(lambda x: id2name.get(x,None))\n",
    "df_gb[\"Lang_iso639P3code\"]= df_gb[\"Lang_ID\"].apply(lambda x: id2iso.get(x,None))"
   ]
  },
  {
   "cell_type": "code",
   "execution_count": 250,
   "id": "1ac1ad6d-aa05-4d7e-bee4-997dda122330",
   "metadata": {
    "execution": {
     "iopub.execute_input": "2024-09-30T11:24:16.842015Z",
     "iopub.status.busy": "2024-09-30T11:24:16.841336Z",
     "iopub.status.idle": "2024-09-30T11:24:16.850708Z",
     "shell.execute_reply": "2024-09-30T11:24:16.849465Z",
     "shell.execute_reply.started": "2024-09-30T11:24:16.841979Z"
    }
   },
   "outputs": [],
   "source": [
    "cols = list(df_gb.columns)\n",
    "df_gb = df_gb.reindex(columns = cols[2:]+cols[:2])"
   ]
  },
  {
   "cell_type": "code",
   "execution_count": 253,
   "id": "c7fb0ad7-b66b-43db-a36d-5623c1147b6c",
   "metadata": {
    "execution": {
     "iopub.execute_input": "2024-09-30T11:24:32.372709Z",
     "iopub.status.busy": "2024-09-30T11:24:32.372204Z",
     "iopub.status.idle": "2024-09-30T11:24:32.395211Z",
     "shell.execute_reply": "2024-09-30T11:24:32.394819Z",
     "shell.execute_reply.started": "2024-09-30T11:24:32.372675Z"
    }
   },
   "outputs": [
    {
     "data": {
      "text/html": [
       "<div>\n",
       "<style scoped>\n",
       "    .dataframe tbody tr th:only-of-type {\n",
       "        vertical-align: middle;\n",
       "    }\n",
       "\n",
       "    .dataframe tbody tr th {\n",
       "        vertical-align: top;\n",
       "    }\n",
       "\n",
       "    .dataframe thead th {\n",
       "        text-align: right;\n",
       "    }\n",
       "</style>\n",
       "<table border=\"1\" class=\"dataframe\">\n",
       "  <thead>\n",
       "    <tr style=\"text-align: right;\">\n",
       "      <th></th>\n",
       "      <th>Lang_name</th>\n",
       "      <th>Lang_iso639P3code</th>\n",
       "      <th>Lang_ID</th>\n",
       "      <th>GB020</th>\n",
       "      <th>GB021</th>\n",
       "      <th>GB022</th>\n",
       "      <th>GB023</th>\n",
       "      <th>GB024</th>\n",
       "      <th>GB025</th>\n",
       "      <th>GB026</th>\n",
       "      <th>...</th>\n",
       "      <th>GB421</th>\n",
       "      <th>GB422</th>\n",
       "      <th>GB430</th>\n",
       "      <th>GB431</th>\n",
       "      <th>GB432</th>\n",
       "      <th>GB433</th>\n",
       "      <th>GB519</th>\n",
       "      <th>GB520</th>\n",
       "      <th>GB521</th>\n",
       "      <th>GB522</th>\n",
       "    </tr>\n",
       "  </thead>\n",
       "  <tbody>\n",
       "    <tr>\n",
       "      <th>0</th>\n",
       "      <td>Abadi</td>\n",
       "      <td>kbt</td>\n",
       "      <td>abad1241</td>\n",
       "      <td>-1</td>\n",
       "      <td>-1</td>\n",
       "      <td>-1</td>\n",
       "      <td>-1</td>\n",
       "      <td>2</td>\n",
       "      <td>1</td>\n",
       "      <td>0</td>\n",
       "      <td>...</td>\n",
       "      <td>-1</td>\n",
       "      <td>-1</td>\n",
       "      <td>0</td>\n",
       "      <td>0</td>\n",
       "      <td>0</td>\n",
       "      <td>1</td>\n",
       "      <td>-1</td>\n",
       "      <td>-1</td>\n",
       "      <td>-1</td>\n",
       "      <td>1</td>\n",
       "    </tr>\n",
       "    <tr>\n",
       "      <th>1</th>\n",
       "      <td>Mungbam</td>\n",
       "      <td>mij</td>\n",
       "      <td>abar1238</td>\n",
       "      <td>1</td>\n",
       "      <td>0</td>\n",
       "      <td>0</td>\n",
       "      <td>1</td>\n",
       "      <td>2</td>\n",
       "      <td>2</td>\n",
       "      <td>0</td>\n",
       "      <td>...</td>\n",
       "      <td>1</td>\n",
       "      <td>0</td>\n",
       "      <td>-1</td>\n",
       "      <td>-1</td>\n",
       "      <td>-1</td>\n",
       "      <td>-1</td>\n",
       "      <td>0</td>\n",
       "      <td>0</td>\n",
       "      <td>1</td>\n",
       "      <td>0</td>\n",
       "    </tr>\n",
       "  </tbody>\n",
       "</table>\n",
       "<p>2 rows × 198 columns</p>\n",
       "</div>"
      ],
      "text/plain": [
       "  Lang_name Lang_iso639P3code   Lang_ID  GB020  GB021  GB022  GB023  GB024  \\\n",
       "0     Abadi               kbt  abad1241     -1     -1     -1     -1      2   \n",
       "1   Mungbam               mij  abar1238      1      0      0      1      2   \n",
       "\n",
       "   GB025  GB026  ...  GB421  GB422  GB430  GB431  GB432  GB433  GB519  GB520  \\\n",
       "0      1      0  ...     -1     -1      0      0      0      1     -1     -1   \n",
       "1      2      0  ...      1      0     -1     -1     -1     -1      0      0   \n",
       "\n",
       "   GB521  GB522  \n",
       "0     -1      1  \n",
       "1      1      0  \n",
       "\n",
       "[2 rows x 198 columns]"
      ]
     },
     "execution_count": 253,
     "metadata": {},
     "output_type": "execute_result"
    }
   ],
   "source": [
    "df_gb.head(2)"
   ]
  },
  {
   "cell_type": "code",
   "execution_count": 379,
   "id": "d09df3cf-6036-4c43-a04b-5c40316b80aa",
   "metadata": {
    "execution": {
     "iopub.execute_input": "2024-09-30T13:38:52.294002Z",
     "iopub.status.busy": "2024-09-30T13:38:52.292942Z",
     "iopub.status.idle": "2024-09-30T13:38:57.182608Z",
     "shell.execute_reply": "2024-09-30T13:38:57.182196Z",
     "shell.execute_reply.started": "2024-09-30T13:38:52.293940Z"
    }
   },
   "outputs": [],
   "source": [
    "df_gb.to_csv(\"../datasets/data_for_graph/Grambank/grambank_lang2features.csv\", index=False)\n",
    "df_gb_edges.to_csv(\"../datasets/data_for_graph/Grambank/edgelist.csv\", index=False)"
   ]
  },
  {
   "cell_type": "code",
   "execution_count": 305,
   "id": "18f23027-26a2-4331-92a9-79e9f328cd21",
   "metadata": {
    "execution": {
     "iopub.execute_input": "2024-09-30T11:53:41.917076Z",
     "iopub.status.busy": "2024-09-30T11:53:41.916525Z",
     "iopub.status.idle": "2024-09-30T11:53:41.927567Z",
     "shell.execute_reply": "2024-09-30T11:53:41.926178Z",
     "shell.execute_reply.started": "2024-09-30T11:53:41.917042Z"
    }
   },
   "outputs": [],
   "source": [
    "df_gb_edges.rename(columns={\"Target\":\"Target_ID\", \"Source\":\"Source_ID\"}, inplace=True)"
   ]
  },
  {
   "cell_type": "code",
   "execution_count": 306,
   "id": "9886bd1a-1ce1-4de7-8e2a-bbfae22b3595",
   "metadata": {
    "execution": {
     "iopub.execute_input": "2024-09-30T11:53:44.995556Z",
     "iopub.status.busy": "2024-09-30T11:53:44.994550Z",
     "iopub.status.idle": "2024-09-30T11:53:45.014682Z",
     "shell.execute_reply": "2024-09-30T11:53:45.013980Z",
     "shell.execute_reply.started": "2024-09-30T11:53:44.995508Z"
    }
   },
   "outputs": [
    {
     "data": {
      "text/html": [
       "<div>\n",
       "<style scoped>\n",
       "    .dataframe tbody tr th:only-of-type {\n",
       "        vertical-align: middle;\n",
       "    }\n",
       "\n",
       "    .dataframe tbody tr th {\n",
       "        vertical-align: top;\n",
       "    }\n",
       "\n",
       "    .dataframe thead th {\n",
       "        text-align: right;\n",
       "    }\n",
       "</style>\n",
       "<table border=\"1\" class=\"dataframe\">\n",
       "  <thead>\n",
       "    <tr style=\"text-align: right;\">\n",
       "      <th></th>\n",
       "      <th>Target_ID</th>\n",
       "      <th>Source_ID</th>\n",
       "      <th>Weight</th>\n",
       "      <th>Target_iso639P3code</th>\n",
       "      <th>Target_name</th>\n",
       "      <th>Source_iso639P3code</th>\n",
       "      <th>Source_name</th>\n",
       "    </tr>\n",
       "  </thead>\n",
       "  <tbody>\n",
       "    <tr>\n",
       "      <th>0</th>\n",
       "      <td>adan1251</td>\n",
       "      <td>ugon1239</td>\n",
       "      <td>91</td>\n",
       "      <td>adn</td>\n",
       "      <td>Adang</td>\n",
       "      <td>ugo</td>\n",
       "      <td>Ugong</td>\n",
       "    </tr>\n",
       "    <tr>\n",
       "      <th>1</th>\n",
       "      <td>adan1251</td>\n",
       "      <td>nyam1285</td>\n",
       "      <td>112</td>\n",
       "      <td>adn</td>\n",
       "      <td>Adang</td>\n",
       "      <td>nmi</td>\n",
       "      <td>Nyam</td>\n",
       "    </tr>\n",
       "    <tr>\n",
       "      <th>2</th>\n",
       "      <td>adan1251</td>\n",
       "      <td>mauw1238</td>\n",
       "      <td>57</td>\n",
       "      <td>adn</td>\n",
       "      <td>Adang</td>\n",
       "      <td>mhl</td>\n",
       "      <td>Mauwake</td>\n",
       "    </tr>\n",
       "    <tr>\n",
       "      <th>3</th>\n",
       "      <td>adan1251</td>\n",
       "      <td>tekt1235</td>\n",
       "      <td>113</td>\n",
       "      <td>adn</td>\n",
       "      <td>Adang</td>\n",
       "      <td>ttc</td>\n",
       "      <td>Tektiteko</td>\n",
       "    </tr>\n",
       "    <tr>\n",
       "      <th>4</th>\n",
       "      <td>adan1251</td>\n",
       "      <td>avat1244</td>\n",
       "      <td>78</td>\n",
       "      <td>adn</td>\n",
       "      <td>Adang</td>\n",
       "      <td>avn</td>\n",
       "      <td>Avatime</td>\n",
       "    </tr>\n",
       "    <tr>\n",
       "      <th>...</th>\n",
       "      <td>...</td>\n",
       "      <td>...</td>\n",
       "      <td>...</td>\n",
       "      <td>...</td>\n",
       "      <td>...</td>\n",
       "      <td>...</td>\n",
       "      <td>...</td>\n",
       "    </tr>\n",
       "    <tr>\n",
       "      <th>2912486</th>\n",
       "      <td>tsix1234</td>\n",
       "      <td>vure1239</td>\n",
       "      <td>115</td>\n",
       "      <td>NaN</td>\n",
       "      <td>Ts'ixa</td>\n",
       "      <td>msn</td>\n",
       "      <td>Vurës</td>\n",
       "    </tr>\n",
       "    <tr>\n",
       "      <th>2912487</th>\n",
       "      <td>bord1248</td>\n",
       "      <td>vure1239</td>\n",
       "      <td>110</td>\n",
       "      <td>kvn</td>\n",
       "      <td>Border Kuna</td>\n",
       "      <td>msn</td>\n",
       "      <td>Vurës</td>\n",
       "    </tr>\n",
       "    <tr>\n",
       "      <th>2912488</th>\n",
       "      <td>beng1282</td>\n",
       "      <td>tsix1234</td>\n",
       "      <td>82</td>\n",
       "      <td>bng</td>\n",
       "      <td>Benga</td>\n",
       "      <td>NaN</td>\n",
       "      <td>Ts'ixa</td>\n",
       "    </tr>\n",
       "    <tr>\n",
       "      <th>2912489</th>\n",
       "      <td>beng1282</td>\n",
       "      <td>bord1248</td>\n",
       "      <td>73</td>\n",
       "      <td>bng</td>\n",
       "      <td>Benga</td>\n",
       "      <td>kvn</td>\n",
       "      <td>Border Kuna</td>\n",
       "    </tr>\n",
       "    <tr>\n",
       "      <th>2912490</th>\n",
       "      <td>bord1248</td>\n",
       "      <td>tsix1234</td>\n",
       "      <td>98</td>\n",
       "      <td>kvn</td>\n",
       "      <td>Border Kuna</td>\n",
       "      <td>NaN</td>\n",
       "      <td>Ts'ixa</td>\n",
       "    </tr>\n",
       "  </tbody>\n",
       "</table>\n",
       "<p>2912491 rows × 7 columns</p>\n",
       "</div>"
      ],
      "text/plain": [
       "        Target_ID Source_ID  Weight Target_iso639P3code  Target_name  \\\n",
       "0        adan1251  ugon1239      91                 adn        Adang   \n",
       "1        adan1251  nyam1285     112                 adn        Adang   \n",
       "2        adan1251  mauw1238      57                 adn        Adang   \n",
       "3        adan1251  tekt1235     113                 adn        Adang   \n",
       "4        adan1251  avat1244      78                 adn        Adang   \n",
       "...           ...       ...     ...                 ...          ...   \n",
       "2912486  tsix1234  vure1239     115                 NaN       Ts'ixa   \n",
       "2912487  bord1248  vure1239     110                 kvn  Border Kuna   \n",
       "2912488  beng1282  tsix1234      82                 bng        Benga   \n",
       "2912489  beng1282  bord1248      73                 bng        Benga   \n",
       "2912490  bord1248  tsix1234      98                 kvn  Border Kuna   \n",
       "\n",
       "        Source_iso639P3code  Source_name  \n",
       "0                       ugo        Ugong  \n",
       "1                       nmi         Nyam  \n",
       "2                       mhl      Mauwake  \n",
       "3                       ttc    Tektiteko  \n",
       "4                       avn      Avatime  \n",
       "...                     ...          ...  \n",
       "2912486                 msn        Vurës  \n",
       "2912487                 msn        Vurës  \n",
       "2912488                 NaN       Ts'ixa  \n",
       "2912489                 kvn  Border Kuna  \n",
       "2912490                 NaN       Ts'ixa  \n",
       "\n",
       "[2912491 rows x 7 columns]"
      ]
     },
     "execution_count": 306,
     "metadata": {},
     "output_type": "execute_result"
    }
   ],
   "source": [
    "df_gb_edges"
   ]
  },
  {
   "cell_type": "code",
   "execution_count": 307,
   "id": "833966e8-b7ee-441d-96fd-3d73bb76e5c1",
   "metadata": {
    "execution": {
     "iopub.execute_input": "2024-09-30T11:53:49.604753Z",
     "iopub.status.busy": "2024-09-30T11:53:49.603820Z",
     "iopub.status.idle": "2024-09-30T11:53:54.256762Z",
     "shell.execute_reply": "2024-09-30T11:53:54.256272Z",
     "shell.execute_reply.started": "2024-09-30T11:53:49.604707Z"
    }
   },
   "outputs": [],
   "source": [
    "df_gb_edges.to_csv(\"../datasets/data_for_graph/Grambank/edgelist.csv\", index=False)"
   ]
  },
  {
   "cell_type": "code",
   "execution_count": null,
   "id": "173a7a14-fc4a-403e-b57b-646f79b7dece",
   "metadata": {},
   "outputs": [],
   "source": []
  }
 ],
 "metadata": {
  "kernelspec": {
   "display_name": "envlc",
   "language": "python",
   "name": "envlc"
  },
  "language_info": {
   "codemirror_mode": {
    "name": "ipython",
    "version": 3
   },
   "file_extension": ".py",
   "mimetype": "text/x-python",
   "name": "python",
   "nbconvert_exporter": "python",
   "pygments_lexer": "ipython3",
   "version": "3.12.0"
  }
 },
 "nbformat": 4,
 "nbformat_minor": 5
}
