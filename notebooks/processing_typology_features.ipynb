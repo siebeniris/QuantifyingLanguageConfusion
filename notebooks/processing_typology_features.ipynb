{
 "cells": [
  {
   "cell_type": "code",
   "execution_count": 65,
   "id": "60f0abd3-ea6c-46c1-87ac-c1e8bf39b93d",
   "metadata": {
    "execution": {
     "iopub.execute_input": "2024-09-23T18:50:14.209668Z",
     "iopub.status.busy": "2024-09-23T18:50:14.208860Z",
     "iopub.status.idle": "2024-09-23T18:50:14.225043Z",
     "shell.execute_reply": "2024-09-23T18:50:14.223871Z",
     "shell.execute_reply.started": "2024-09-23T18:50:14.209624Z"
    }
   },
   "outputs": [],
   "source": [
    "import pandas as pd\n",
    "from sklearn.metrics.pairwise import nan_euclidean_distances, cosine_similarity\n",
    "from pathlib import Path\n",
    "import numpy as np\n",
    "from sklearn.preprocessing import MultiLabelBinarizer, LabelEncoder, OneHotEncoder\n"
   ]
  },
  {
   "cell_type": "markdown",
   "id": "02b861c8-f48a-4c0d-b214-8591021ae232",
   "metadata": {},
   "source": [
    "# WALS features"
   ]
  },
  {
   "cell_type": "code",
   "execution_count": 28,
   "id": "c865a04d-2e98-4264-9ef6-3d71ff01fc8e",
   "metadata": {
    "execution": {
     "iopub.execute_input": "2024-09-23T18:24:44.406490Z",
     "iopub.status.busy": "2024-09-23T18:24:44.405430Z",
     "iopub.status.idle": "2024-09-23T18:24:44.478612Z",
     "shell.execute_reply": "2024-09-23T18:24:44.477979Z",
     "shell.execute_reply.started": "2024-09-23T18:24:44.406428Z"
    }
   },
   "outputs": [],
   "source": [
    "df_wals= pd.read_csv(\"../datasets/typology/wals_dedup.csv\")"
   ]
  },
  {
   "cell_type": "code",
   "execution_count": 36,
   "id": "e0d40e30-fe89-4b98-972a-f7c3c31ee0ab",
   "metadata": {
    "execution": {
     "iopub.execute_input": "2024-09-23T18:28:32.227898Z",
     "iopub.status.busy": "2024-09-23T18:28:32.226621Z",
     "iopub.status.idle": "2024-09-23T18:28:32.250711Z",
     "shell.execute_reply": "2024-09-23T18:28:32.249691Z",
     "shell.execute_reply.started": "2024-09-23T18:28:32.227830Z"
    }
   },
   "outputs": [
    {
     "data": {
      "text/plain": [
       "Consonant Inventories\n",
       "Average             195\n",
       "Moderately small    116\n",
       "Moderately large     92\n",
       "Small                86\n",
       "Large                56\n",
       "Name: count, dtype: int64"
      ]
     },
     "execution_count": 36,
     "metadata": {},
     "output_type": "execute_result"
    }
   ],
   "source": [
    "df_wals[\"Consonant Inventories\"].value_counts()"
   ]
  },
  {
   "cell_type": "code",
   "execution_count": 37,
   "id": "719154a4-d716-4f82-b9ef-f9d17a68165c",
   "metadata": {
    "execution": {
     "iopub.execute_input": "2024-09-23T18:28:51.352846Z",
     "iopub.status.busy": "2024-09-23T18:28:51.351809Z",
     "iopub.status.idle": "2024-09-23T18:28:51.374506Z",
     "shell.execute_reply": "2024-09-23T18:28:51.369814Z",
     "shell.execute_reply.started": "2024-09-23T18:28:51.352767Z"
    }
   },
   "outputs": [
    {
     "data": {
      "text/plain": [
       "Vowel Quality Inventories\n",
       "Average (5-6)    278\n",
       "Large (7-14)     179\n",
       "Small (2-4)       89\n",
       "Name: count, dtype: int64"
      ]
     },
     "execution_count": 37,
     "metadata": {},
     "output_type": "execute_result"
    }
   ],
   "source": [
    "df_wals[\"Vowel Quality Inventories\"].value_counts()"
   ]
  },
  {
   "cell_type": "code",
   "execution_count": 38,
   "id": "48a0d3a1-f966-4936-a221-d3f257df3041",
   "metadata": {
    "execution": {
     "iopub.execute_input": "2024-09-23T18:28:59.229947Z",
     "iopub.status.busy": "2024-09-23T18:28:59.228894Z",
     "iopub.status.idle": "2024-09-23T18:28:59.247336Z",
     "shell.execute_reply": "2024-09-23T18:28:59.246234Z",
     "shell.execute_reply.started": "2024-09-23T18:28:59.229867Z"
    }
   },
   "outputs": [
    {
     "data": {
      "text/plain": [
       "2432"
      ]
     },
     "execution_count": 38,
     "metadata": {},
     "output_type": "execute_result"
    }
   ],
   "source": [
    "len(df_wals)"
   ]
  },
  {
   "cell_type": "code",
   "execution_count": 99,
   "id": "bbd45f08-b92a-4803-aaf4-f2aeb7d41653",
   "metadata": {
    "execution": {
     "iopub.execute_input": "2024-09-23T19:03:54.820290Z",
     "iopub.status.busy": "2024-09-23T19:03:54.819783Z",
     "iopub.status.idle": "2024-09-23T19:03:54.837845Z",
     "shell.execute_reply": "2024-09-23T19:03:54.836761Z",
     "shell.execute_reply.started": "2024-09-23T19:03:54.820255Z"
    }
   },
   "outputs": [],
   "source": [
    "df_wals_features = df_wals.drop(columns=['WALS-ID', 'ISO','Name', 'Family', 'Latitude', 'Longitude', 'Genus'])"
   ]
  },
  {
   "cell_type": "code",
   "execution_count": 100,
   "id": "e194b849-7394-4b97-b637-b99a1c5e1f3d",
   "metadata": {
    "execution": {
     "iopub.execute_input": "2024-09-23T19:03:55.926056Z",
     "iopub.status.busy": "2024-09-23T19:03:55.925546Z",
     "iopub.status.idle": "2024-09-23T19:03:55.941002Z",
     "shell.execute_reply": "2024-09-23T19:03:55.940115Z",
     "shell.execute_reply.started": "2024-09-23T19:03:55.926019Z"
    },
    "scrolled": true
   },
   "outputs": [
    {
     "data": {
      "text/plain": [
       "Lateral Consonants\n",
       "/l/, no obstruent laterals                     372\n",
       "No laterals                                     93\n",
       "/l/ and lateral obstruent                       47\n",
       "Laterals, but no /l/, no obstruent laterals     29\n",
       "No /l/, but lateral obstruents                   8\n",
       "Name: count, dtype: int64"
      ]
     },
     "execution_count": 100,
     "metadata": {},
     "output_type": "execute_result"
    }
   ],
   "source": [
    "df_wals_features[\"Lateral Consonants\"].value_counts()"
   ]
  },
  {
   "cell_type": "code",
   "execution_count": 101,
   "id": "33f64c60-718a-4ad0-8acd-920e708ec746",
   "metadata": {
    "execution": {
     "iopub.execute_input": "2024-09-23T19:03:57.148931Z",
     "iopub.status.busy": "2024-09-23T19:03:57.148352Z",
     "iopub.status.idle": "2024-09-23T19:03:57.159575Z",
     "shell.execute_reply": "2024-09-23T19:03:57.158535Z",
     "shell.execute_reply.started": "2024-09-23T19:03:57.148896Z"
    }
   },
   "outputs": [],
   "source": [
    "df_wals_features.index= df_wals_features[\"Glottocode\"]"
   ]
  },
  {
   "cell_type": "code",
   "execution_count": 102,
   "id": "d1e6b7ed-8c87-4f86-86d7-1ab5756a9217",
   "metadata": {
    "execution": {
     "iopub.execute_input": "2024-09-23T19:03:58.130388Z",
     "iopub.status.busy": "2024-09-23T19:03:58.129878Z",
     "iopub.status.idle": "2024-09-23T19:03:58.147333Z",
     "shell.execute_reply": "2024-09-23T19:03:58.146472Z",
     "shell.execute_reply.started": "2024-09-23T19:03:58.130354Z"
    },
    "scrolled": true
   },
   "outputs": [],
   "source": [
    "df_wals_features = df_wals_features.drop(columns=[\"Glottocode\"])"
   ]
  },
  {
   "cell_type": "code",
   "execution_count": 103,
   "id": "e2ece2de-648a-4c0f-956b-001fb625b694",
   "metadata": {
    "execution": {
     "iopub.execute_input": "2024-09-23T19:03:58.633135Z",
     "iopub.status.busy": "2024-09-23T19:03:58.632639Z",
     "iopub.status.idle": "2024-09-23T19:03:58.643730Z",
     "shell.execute_reply": "2024-09-23T19:03:58.642823Z",
     "shell.execute_reply.started": "2024-09-23T19:03:58.633102Z"
    }
   },
   "outputs": [
    {
     "data": {
      "text/plain": [
       "2432"
      ]
     },
     "execution_count": 103,
     "metadata": {},
     "output_type": "execute_result"
    }
   ],
   "source": [
    "len(df_wals_features)"
   ]
  },
  {
   "cell_type": "code",
   "execution_count": 105,
   "id": "3646c0d7-6249-4773-8e3d-65bbcefcc8a0",
   "metadata": {
    "execution": {
     "iopub.execute_input": "2024-09-23T19:07:08.040579Z",
     "iopub.status.busy": "2024-09-23T19:07:08.039697Z",
     "iopub.status.idle": "2024-09-23T19:07:08.051911Z",
     "shell.execute_reply": "2024-09-23T19:07:08.048170Z",
     "shell.execute_reply.started": "2024-09-23T19:07:08.040511Z"
    }
   },
   "outputs": [],
   "source": [
    "label_encoder_eval = LabelEncoder()"
   ]
  },
  {
   "cell_type": "code",
   "execution_count": 86,
   "id": "1208334a-9bb6-4827-b2eb-35b3c1be67ea",
   "metadata": {
    "execution": {
     "iopub.execute_input": "2024-09-23T18:58:49.907788Z",
     "iopub.status.busy": "2024-09-23T18:58:49.906429Z",
     "iopub.status.idle": "2024-09-23T18:58:49.986712Z",
     "shell.execute_reply": "2024-09-23T18:58:49.986179Z",
     "shell.execute_reply.started": "2024-09-23T18:58:49.907701Z"
    }
   },
   "outputs": [],
   "source": [
    "df_wals_features = df_wals_features.fillna(-1)"
   ]
  },
  {
   "cell_type": "code",
   "execution_count": 92,
   "id": "f1038d99-71bf-48bb-9edf-cb26983c6514",
   "metadata": {
    "execution": {
     "iopub.execute_input": "2024-09-23T19:02:22.981955Z",
     "iopub.status.busy": "2024-09-23T19:02:22.981369Z",
     "iopub.status.idle": "2024-09-23T19:02:23.084051Z",
     "shell.execute_reply": "2024-09-23T19:02:23.083189Z",
     "shell.execute_reply.started": "2024-09-23T19:02:22.981920Z"
    }
   },
   "outputs": [],
   "source": [
    "df_wals_features = df_wals_features.astype(str)"
   ]
  },
  {
   "cell_type": "code",
   "execution_count": 115,
   "id": "d2a4b61d-e019-48e7-8d5d-88549f337a1c",
   "metadata": {
    "execution": {
     "iopub.execute_input": "2024-09-23T19:21:31.771125Z",
     "iopub.status.busy": "2024-09-23T19:21:31.769789Z",
     "iopub.status.idle": "2024-09-23T19:21:31.936218Z",
     "shell.execute_reply": "2024-09-23T19:21:31.935762Z",
     "shell.execute_reply.started": "2024-09-23T19:21:31.771042Z"
    }
   },
   "outputs": [],
   "source": [
    "col2vec = {}\n",
    "for col in df_wals_features.columns:\n",
    "    unique_categories = df_wals_features[col].dropna().unique()\n",
    "    category_mapping = {category: index for index, category in enumerate(unique_categories, start=0)}\n",
    "    category_mapping[np.nan] = -1\n",
    "    df_wals_features[col]= df_wals_features[col].map(category_mapping)"
   ]
  },
  {
   "cell_type": "code",
   "execution_count": 119,
   "id": "7b3c97ea-d8c8-4db5-8eff-98b9278b4ab9",
   "metadata": {
    "execution": {
     "iopub.execute_input": "2024-09-23T19:21:51.311847Z",
     "iopub.status.busy": "2024-09-23T19:21:51.310960Z",
     "iopub.status.idle": "2024-09-23T19:21:51.334262Z",
     "shell.execute_reply": "2024-09-23T19:21:51.333537Z",
     "shell.execute_reply.started": "2024-09-23T19:21:51.311797Z"
    }
   },
   "outputs": [
    {
     "data": {
      "text/plain": [
       "Consonant Inventories\n",
       "-1    1887\n",
       " 0     195\n",
       " 1     116\n",
       " 2      92\n",
       " 4      86\n",
       " 3      56\n",
       "Name: count, dtype: int64"
      ]
     },
     "execution_count": 119,
     "metadata": {},
     "output_type": "execute_result"
    }
   ],
   "source": [
    "df_wals_features[\"Consonant Inventories\"].value_counts()"
   ]
  },
  {
   "cell_type": "code",
   "execution_count": 98,
   "id": "0dc818a7-118c-4a8b-8b77-65dab96b42d4",
   "metadata": {
    "execution": {
     "iopub.execute_input": "2024-09-23T19:02:46.410032Z",
     "iopub.status.busy": "2024-09-23T19:02:46.409130Z",
     "iopub.status.idle": "2024-09-23T19:02:46.423172Z",
     "shell.execute_reply": "2024-09-23T19:02:46.421952Z",
     "shell.execute_reply.started": "2024-09-23T19:02:46.409965Z"
    }
   },
   "outputs": [
    {
     "data": {
      "text/plain": [
       "Consonant Inventories\n",
       "0    1887\n",
       "1     195\n",
       "4     116\n",
       "3      92\n",
       "5      86\n",
       "2      56\n",
       "Name: count, dtype: int64"
      ]
     },
     "execution_count": 98,
     "metadata": {},
     "output_type": "execute_result"
    }
   ],
   "source": [
    "df_vec[\"Consonant Inventories\"].value_counts()"
   ]
  },
  {
   "cell_type": "code",
   "execution_count": 121,
   "id": "94a15c11-b80a-4e1f-841b-a49ec7b5fee9",
   "metadata": {
    "execution": {
     "iopub.execute_input": "2024-09-23T19:22:47.580788Z",
     "iopub.status.busy": "2024-09-23T19:22:47.580245Z",
     "iopub.status.idle": "2024-09-23T19:22:47.727851Z",
     "shell.execute_reply": "2024-09-23T19:22:47.727282Z",
     "shell.execute_reply.started": "2024-09-23T19:22:47.580750Z"
    }
   },
   "outputs": [],
   "source": [
    "df_wals_features.to_csv(\"../datasets/typology/wals_lang2features.csv\")"
   ]
  },
  {
   "cell_type": "code",
   "execution_count": 136,
   "id": "064f16d2-46b0-4418-9ab9-f7e2b7b9a0f3",
   "metadata": {
    "execution": {
     "iopub.execute_input": "2024-09-23T19:26:57.242626Z",
     "iopub.status.busy": "2024-09-23T19:26:57.241767Z",
     "iopub.status.idle": "2024-09-23T19:26:57.253527Z",
     "shell.execute_reply": "2024-09-23T19:26:57.251300Z",
     "shell.execute_reply.started": "2024-09-23T19:26:57.242578Z"
    }
   },
   "outputs": [],
   "source": [
    "def crop_wals(gb_df, perc):\n",
    "    \"\"\"Remove languages from dataframe that do not have at least <perc>% feature coverage\"\"\"\n",
    "    rows_list=[]\n",
    "    tot_feats = len([x for x in gb_df.columns])\n",
    "    for i, row in gb_df.iterrows():\n",
    "        no_data = row.to_list().count(-1)\n",
    "        # print(i, no_data)\n",
    "        if (tot_feats - no_data) >=(perc * tot_feats):\n",
    "            rows_list.append(row)\n",
    "            # try:\n",
    "            #     gb_df = gb_df.drop(i)\n",
    "            # except Exception as msg:\n",
    "            #     print(msg)\n",
    "\n",
    "    return pd.concat(rows_list, axis=1)"
   ]
  },
  {
   "cell_type": "code",
   "execution_count": 137,
   "id": "9d44c253-69bb-448c-bab2-b72a729f0067",
   "metadata": {
    "execution": {
     "iopub.execute_input": "2024-09-23T19:26:57.630749Z",
     "iopub.status.busy": "2024-09-23T19:26:57.628709Z",
     "iopub.status.idle": "2024-09-23T19:26:57.638683Z",
     "shell.execute_reply": "2024-09-23T19:26:57.637948Z",
     "shell.execute_reply.started": "2024-09-23T19:26:57.630657Z"
    }
   },
   "outputs": [
    {
     "data": {
      "text/plain": [
       "418"
      ]
     },
     "execution_count": 137,
     "metadata": {},
     "output_type": "execute_result"
    }
   ],
   "source": [
    "len(df_features)"
   ]
  },
  {
   "cell_type": "code",
   "execution_count": 138,
   "id": "6d795824-0a1d-4b5f-8b43-7ef1b5524a04",
   "metadata": {
    "execution": {
     "iopub.execute_input": "2024-09-23T19:26:58.017328Z",
     "iopub.status.busy": "2024-09-23T19:26:58.014269Z",
     "iopub.status.idle": "2024-09-23T19:26:58.148298Z",
     "shell.execute_reply": "2024-09-23T19:26:58.147767Z",
     "shell.execute_reply.started": "2024-09-23T19:26:58.017270Z"
    },
    "scrolled": true
   },
   "outputs": [],
   "source": [
    "df_wals_features_cropped = crop_wals(df_wals_features, 0.25)"
   ]
  },
  {
   "cell_type": "code",
   "execution_count": 141,
   "id": "852465e4-8153-4193-8101-8986925154c4",
   "metadata": {
    "execution": {
     "iopub.execute_input": "2024-09-23T19:28:44.698278Z",
     "iopub.status.busy": "2024-09-23T19:28:44.696917Z",
     "iopub.status.idle": "2024-09-23T19:28:44.737451Z",
     "shell.execute_reply": "2024-09-23T19:28:44.736678Z",
     "shell.execute_reply.started": "2024-09-23T19:28:44.698199Z"
    }
   },
   "outputs": [],
   "source": [
    "df_wals_features_cropped.T.to_csv(\"../datasets/typology/wals_cropped.csv\")"
   ]
  },
  {
   "cell_type": "code",
   "execution_count": null,
   "id": "0c408bc7-8948-4906-a3bd-0ddd11f68113",
   "metadata": {},
   "outputs": [],
   "source": []
  },
  {
   "cell_type": "markdown",
   "id": "466bd4fa-7679-4b27-9196-d5b90e66f358",
   "metadata": {},
   "source": [
    "# Grambank features"
   ]
  },
  {
   "cell_type": "code",
   "execution_count": 2,
   "id": "d3630616-50fc-4d7e-aa5d-f5e6e398e88e",
   "metadata": {
    "execution": {
     "iopub.execute_input": "2024-09-23T18:10:50.742290Z",
     "iopub.status.busy": "2024-09-23T18:10:50.741999Z",
     "iopub.status.idle": "2024-09-23T18:10:50.783436Z",
     "shell.execute_reply": "2024-09-23T18:10:50.783029Z",
     "shell.execute_reply.started": "2024-09-23T18:10:50.742268Z"
    }
   },
   "outputs": [],
   "source": [
    "df_grambank = pd.read_csv(\"../datasets/typology/gb_lang_feat_vals.csv\", index_col=0)"
   ]
  },
  {
   "cell_type": "code",
   "execution_count": 3,
   "id": "94f1ef1f-612b-4f69-bf1e-444c6c29ffab",
   "metadata": {
    "execution": {
     "iopub.execute_input": "2024-09-23T18:10:50.784047Z",
     "iopub.status.busy": "2024-09-23T18:10:50.783924Z",
     "iopub.status.idle": "2024-09-23T18:10:50.789775Z",
     "shell.execute_reply": "2024-09-23T18:10:50.789308Z",
     "shell.execute_reply.started": "2024-09-23T18:10:50.784035Z"
    }
   },
   "outputs": [
    {
     "data": {
      "text/plain": [
       "2467"
      ]
     },
     "execution_count": 3,
     "metadata": {},
     "output_type": "execute_result"
    }
   ],
   "source": [
    "len(df_grambank)"
   ]
  },
  {
   "cell_type": "code",
   "execution_count": 4,
   "id": "dbebdde2-b64e-4461-8aba-bfbc0a901c0d",
   "metadata": {
    "execution": {
     "iopub.execute_input": "2024-09-23T18:10:50.791020Z",
     "iopub.status.busy": "2024-09-23T18:10:50.790622Z",
     "iopub.status.idle": "2024-09-23T18:10:50.793741Z",
     "shell.execute_reply": "2024-09-23T18:10:50.793209Z",
     "shell.execute_reply.started": "2024-09-23T18:10:50.791002Z"
    }
   },
   "outputs": [],
   "source": [
    "gb_feats = [x for x in df_grambank.columns.to_list() if x.startswith(\"GB\")]"
   ]
  },
  {
   "cell_type": "code",
   "execution_count": 5,
   "id": "1ec4b294-be6c-4016-a7ce-c319993d0366",
   "metadata": {
    "execution": {
     "iopub.execute_input": "2024-09-23T18:10:50.794467Z",
     "iopub.status.busy": "2024-09-23T18:10:50.794317Z",
     "iopub.status.idle": "2024-09-23T18:10:50.797658Z",
     "shell.execute_reply": "2024-09-23T18:10:50.797186Z",
     "shell.execute_reply.started": "2024-09-23T18:10:50.794454Z"
    }
   },
   "outputs": [],
   "source": [
    "# codes from https://github.com/esther2000/typdiv-sampling/blob/main/data/compute_all_distances.py\n",
    "# Credits to the author\n",
    "\n",
    "def crop(gb_df, perc):\n",
    "    \"\"\"Remove languages from dataframe that do not have at least <perc>% feature coverage\"\"\"\n",
    "    tot_feats = len([x for x in gb_df.columns if x.startswith('GB')])\n",
    "    for i, row in gb_df.iterrows():\n",
    "        no_data = row.to_list().count('no_cov') + row.to_list().count('?')\n",
    "        if (tot_feats - no_data) < (perc * tot_feats):\n",
    "            gb_df = gb_df.drop(i)\n",
    "\n",
    "    return gb_df"
   ]
  },
  {
   "cell_type": "code",
   "execution_count": 6,
   "id": "1ac8c678-852a-4f2a-a6ae-281763536b5f",
   "metadata": {
    "execution": {
     "iopub.execute_input": "2024-09-23T18:10:50.799653Z",
     "iopub.status.busy": "2024-09-23T18:10:50.799475Z",
     "iopub.status.idle": "2024-09-23T18:10:50.993574Z",
     "shell.execute_reply": "2024-09-23T18:10:50.993107Z",
     "shell.execute_reply.started": "2024-09-23T18:10:50.799639Z"
    }
   },
   "outputs": [],
   "source": [
    "gb_matrix = crop(df_grambank, 0.25) #"
   ]
  },
  {
   "cell_type": "code",
   "execution_count": 7,
   "id": "308e30d6-a10a-4cfd-8a11-7a4379bf93d9",
   "metadata": {
    "execution": {
     "iopub.execute_input": "2024-09-23T18:10:50.995975Z",
     "iopub.status.busy": "2024-09-23T18:10:50.995767Z",
     "iopub.status.idle": "2024-09-23T18:10:50.999234Z",
     "shell.execute_reply": "2024-09-23T18:10:50.998898Z",
     "shell.execute_reply.started": "2024-09-23T18:10:50.995949Z"
    }
   },
   "outputs": [
    {
     "data": {
      "text/plain": [
       "2414"
      ]
     },
     "execution_count": 7,
     "metadata": {},
     "output_type": "execute_result"
    }
   ],
   "source": [
    "len(gb_matrix)"
   ]
  },
  {
   "cell_type": "code",
   "execution_count": 8,
   "id": "31e59499-b434-4dfd-ba96-f4ec2e09a276",
   "metadata": {
    "execution": {
     "iopub.execute_input": "2024-09-23T18:10:50.999854Z",
     "iopub.status.busy": "2024-09-23T18:10:50.999733Z",
     "iopub.status.idle": "2024-09-23T18:10:51.014361Z",
     "shell.execute_reply": "2024-09-23T18:10:51.013873Z",
     "shell.execute_reply.started": "2024-09-23T18:10:50.999842Z"
    }
   },
   "outputs": [
    {
     "data": {
      "text/html": [
       "<div>\n",
       "<style scoped>\n",
       "    .dataframe tbody tr th:only-of-type {\n",
       "        vertical-align: middle;\n",
       "    }\n",
       "\n",
       "    .dataframe tbody tr th {\n",
       "        vertical-align: top;\n",
       "    }\n",
       "\n",
       "    .dataframe thead th {\n",
       "        text-align: right;\n",
       "    }\n",
       "</style>\n",
       "<table border=\"1\" class=\"dataframe\">\n",
       "  <thead>\n",
       "    <tr style=\"text-align: right;\">\n",
       "      <th></th>\n",
       "      <th>Lang_ID</th>\n",
       "      <th>GB020</th>\n",
       "      <th>GB021</th>\n",
       "      <th>GB022</th>\n",
       "      <th>GB023</th>\n",
       "      <th>GB024</th>\n",
       "      <th>GB025</th>\n",
       "      <th>GB026</th>\n",
       "      <th>GB027</th>\n",
       "      <th>GB028</th>\n",
       "      <th>...</th>\n",
       "      <th>GB421</th>\n",
       "      <th>GB422</th>\n",
       "      <th>GB430</th>\n",
       "      <th>GB431</th>\n",
       "      <th>GB432</th>\n",
       "      <th>GB433</th>\n",
       "      <th>GB519</th>\n",
       "      <th>GB520</th>\n",
       "      <th>GB521</th>\n",
       "      <th>GB522</th>\n",
       "    </tr>\n",
       "  </thead>\n",
       "  <tbody>\n",
       "    <tr>\n",
       "      <th>0</th>\n",
       "      <td>abad1241</td>\n",
       "      <td>?</td>\n",
       "      <td>?</td>\n",
       "      <td>?</td>\n",
       "      <td>?</td>\n",
       "      <td>2</td>\n",
       "      <td>1</td>\n",
       "      <td>0</td>\n",
       "      <td>0</td>\n",
       "      <td>1</td>\n",
       "      <td>...</td>\n",
       "      <td>?</td>\n",
       "      <td>?</td>\n",
       "      <td>0</td>\n",
       "      <td>0</td>\n",
       "      <td>0</td>\n",
       "      <td>1</td>\n",
       "      <td>?</td>\n",
       "      <td>?</td>\n",
       "      <td>?</td>\n",
       "      <td>1</td>\n",
       "    </tr>\n",
       "    <tr>\n",
       "      <th>1</th>\n",
       "      <td>abar1238</td>\n",
       "      <td>1</td>\n",
       "      <td>0</td>\n",
       "      <td>0</td>\n",
       "      <td>1</td>\n",
       "      <td>2</td>\n",
       "      <td>2</td>\n",
       "      <td>0</td>\n",
       "      <td>0</td>\n",
       "      <td>0</td>\n",
       "      <td>...</td>\n",
       "      <td>1</td>\n",
       "      <td>0</td>\n",
       "      <td>?</td>\n",
       "      <td>?</td>\n",
       "      <td>?</td>\n",
       "      <td>?</td>\n",
       "      <td>0</td>\n",
       "      <td>0</td>\n",
       "      <td>1</td>\n",
       "      <td>0</td>\n",
       "    </tr>\n",
       "  </tbody>\n",
       "</table>\n",
       "<p>2 rows × 196 columns</p>\n",
       "</div>"
      ],
      "text/plain": [
       "    Lang_ID GB020 GB021 GB022 GB023 GB024 GB025 GB026 GB027 GB028  ... GB421  \\\n",
       "0  abad1241     ?     ?     ?     ?     2     1     0     0     1  ...     ?   \n",
       "1  abar1238     1     0     0     1     2     2     0     0     0  ...     1   \n",
       "\n",
       "  GB422 GB430 GB431 GB432 GB433 GB519 GB520 GB521 GB522  \n",
       "0     ?     0     0     0     1     ?     ?     ?     1  \n",
       "1     0     ?     ?     ?     ?     0     0     1     0  \n",
       "\n",
       "[2 rows x 196 columns]"
      ]
     },
     "execution_count": 8,
     "metadata": {},
     "output_type": "execute_result"
    }
   ],
   "source": [
    "gb_matrix.head(2)"
   ]
  },
  {
   "cell_type": "code",
   "execution_count": 9,
   "id": "e4740bdd-f4a7-4aee-b385-81795bd0f20e",
   "metadata": {
    "execution": {
     "iopub.execute_input": "2024-09-23T18:10:53.181609Z",
     "iopub.status.busy": "2024-09-23T18:10:53.181049Z",
     "iopub.status.idle": "2024-09-23T18:10:53.257094Z",
     "shell.execute_reply": "2024-09-23T18:10:53.256673Z",
     "shell.execute_reply.started": "2024-09-23T18:10:53.181569Z"
    }
   },
   "outputs": [],
   "source": [
    "gb_matrix = gb_matrix.replace({\"no_cov\":np.nan, \"?\":np.nan}) # replace no_cov, and ?"
   ]
  },
  {
   "cell_type": "code",
   "execution_count": 12,
   "id": "36bac123-e59b-4722-bffc-7ce5a5bdbd57",
   "metadata": {
    "execution": {
     "iopub.execute_input": "2024-09-23T18:11:00.862071Z",
     "iopub.status.busy": "2024-09-23T18:11:00.860900Z",
     "iopub.status.idle": "2024-09-23T18:11:01.538120Z",
     "shell.execute_reply": "2024-09-23T18:11:01.537647Z",
     "shell.execute_reply.started": "2024-09-23T18:11:00.862007Z"
    }
   },
   "outputs": [],
   "source": [
    "lang_vecs = {\n",
    "        row[\"Lang_ID\"]: row[[x for x in gb_feats]].to_list()\n",
    "        for _, row in gb_matrix.iterrows()\n",
    "    }"
   ]
  },
  {
   "cell_type": "code",
   "execution_count": 16,
   "id": "d8f99135-34ab-4b08-b34d-084f18f3ceba",
   "metadata": {
    "execution": {
     "iopub.execute_input": "2024-09-23T18:12:45.415498Z",
     "iopub.status.busy": "2024-09-23T18:12:45.414192Z",
     "iopub.status.idle": "2024-09-23T18:12:45.428406Z",
     "shell.execute_reply": "2024-09-23T18:12:45.427123Z",
     "shell.execute_reply.started": "2024-09-23T18:12:45.415419Z"
    }
   },
   "outputs": [],
   "source": [
    "langs = gb_matrix[\"Lang_ID\"].tolist()"
   ]
  },
  {
   "cell_type": "code",
   "execution_count": 17,
   "id": "e2e2f9bf-d7ab-4cfe-ac71-4b48b9e5b667",
   "metadata": {
    "execution": {
     "iopub.execute_input": "2024-09-23T18:12:49.481774Z",
     "iopub.status.busy": "2024-09-23T18:12:49.481147Z",
     "iopub.status.idle": "2024-09-23T18:12:49.488771Z",
     "shell.execute_reply": "2024-09-23T18:12:49.487518Z",
     "shell.execute_reply.started": "2024-09-23T18:12:49.481740Z"
    },
    "scrolled": true
   },
   "outputs": [],
   "source": [
    "vecs = [lang_vecs[lang] for lang in langs]"
   ]
  },
  {
   "cell_type": "code",
   "execution_count": 18,
   "id": "f4bb3813-6405-412d-a411-6da3b3f2b97d",
   "metadata": {
    "execution": {
     "iopub.execute_input": "2024-09-23T18:13:10.509893Z",
     "iopub.status.busy": "2024-09-23T18:13:10.509238Z",
     "iopub.status.idle": "2024-09-23T18:13:11.931468Z",
     "shell.execute_reply": "2024-09-23T18:13:11.930944Z",
     "shell.execute_reply.started": "2024-09-23T18:13:10.509843Z"
    }
   },
   "outputs": [],
   "source": [
    "sim_matrix_euclidean = nan_euclidean_distances(vecs,vecs)"
   ]
  },
  {
   "cell_type": "code",
   "execution_count": 22,
   "id": "aee887a9-839f-4111-82d6-a99f135b7e98",
   "metadata": {
    "execution": {
     "iopub.execute_input": "2024-09-23T18:15:28.944258Z",
     "iopub.status.busy": "2024-09-23T18:15:28.943749Z",
     "iopub.status.idle": "2024-09-23T18:15:28.986025Z",
     "shell.execute_reply": "2024-09-23T18:15:28.985372Z",
     "shell.execute_reply.started": "2024-09-23T18:15:28.944224Z"
    }
   },
   "outputs": [],
   "source": [
    "sim_df = pd.DataFrame(sim_matrix_euclidean, columns=langs, index=langs).fillna(0)  # NOTE: 0 for maximisation only!"
   ]
  },
  {
   "cell_type": "code",
   "execution_count": 24,
   "id": "cae315e6-a10f-44fc-80cc-d99898356698",
   "metadata": {
    "execution": {
     "iopub.execute_input": "2024-09-23T18:16:58.340955Z",
     "iopub.status.busy": "2024-09-23T18:16:58.340162Z",
     "iopub.status.idle": "2024-09-23T18:16:58.349960Z",
     "shell.execute_reply": "2024-09-23T18:16:58.348738Z",
     "shell.execute_reply.started": "2024-09-23T18:16:58.340920Z"
    }
   },
   "outputs": [
    {
     "data": {
      "text/plain": [
       "np.float64(7.881871212174793)"
      ]
     },
     "execution_count": 24,
     "metadata": {},
     "output_type": "execute_result"
    }
   ],
   "source": [
    "sim_df.at[\"abad1241\", \"abar1238\"]"
   ]
  },
  {
   "cell_type": "code",
   "execution_count": 25,
   "id": "487309c2-a92b-43e2-add4-237107010a5d",
   "metadata": {
    "execution": {
     "iopub.execute_input": "2024-09-23T18:17:58.571009Z",
     "iopub.status.busy": "2024-09-23T18:17:58.569017Z",
     "iopub.status.idle": "2024-09-23T18:18:05.497305Z",
     "shell.execute_reply": "2024-09-23T18:18:05.496896Z",
     "shell.execute_reply.started": "2024-09-23T18:17:58.570873Z"
    }
   },
   "outputs": [],
   "source": [
    "sim_df.to_csv(\"../datasets/lang2lang/grambank_sim.csv\")"
   ]
  },
  {
   "cell_type": "code",
   "execution_count": 89,
   "id": "4743f831-e95c-4865-b86b-d79e1dfa324c",
   "metadata": {
    "execution": {
     "iopub.execute_input": "2024-09-23T18:59:57.055080Z",
     "iopub.status.busy": "2024-09-23T18:59:57.054346Z",
     "iopub.status.idle": "2024-09-23T18:59:57.104758Z",
     "shell.execute_reply": "2024-09-23T18:59:57.104197Z",
     "shell.execute_reply.started": "2024-09-23T18:59:57.055047Z"
    }
   },
   "outputs": [],
   "source": [
    "gb_matrix = gb_matrix.fillna(-1)"
   ]
  },
  {
   "cell_type": "code",
   "execution_count": 90,
   "id": "f63fc7ee-bc84-4227-8e3a-dcf2e83e20fe",
   "metadata": {
    "execution": {
     "iopub.execute_input": "2024-09-23T18:59:57.604902Z",
     "iopub.status.busy": "2024-09-23T18:59:57.603967Z",
     "iopub.status.idle": "2024-09-23T18:59:57.707842Z",
     "shell.execute_reply": "2024-09-23T18:59:57.707259Z",
     "shell.execute_reply.started": "2024-09-23T18:59:57.604850Z"
    }
   },
   "outputs": [],
   "source": [
    "gb_matrix.to_csv(\"../datasets/typology/grambank_lang2features.csv\",index=False)"
   ]
  },
  {
   "cell_type": "code",
   "execution_count": null,
   "id": "e7692a87-91b7-4a0b-9f39-43297b41a1b3",
   "metadata": {},
   "outputs": [],
   "source": []
  }
 ],
 "metadata": {
  "kernelspec": {
   "display_name": "envlc",
   "language": "python",
   "name": "envlc"
  },
  "language_info": {
   "codemirror_mode": {
    "name": "ipython",
    "version": 3
   },
   "file_extension": ".py",
   "mimetype": "text/x-python",
   "name": "python",
   "nbconvert_exporter": "python",
   "pygments_lexer": "ipython3",
   "version": "3.12.0"
  }
 },
 "nbformat": 4,
 "nbformat_minor": 5
}
