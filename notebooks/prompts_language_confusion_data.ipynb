{
 "cells": [
  {
   "cell_type": "code",
   "execution_count": 1,
   "id": "40ecb6c3-f1c4-4f82-beb6-9a83b55c49a9",
   "metadata": {
    "execution": {
     "iopub.execute_input": "2024-10-09T19:34:01.170736Z",
     "iopub.status.busy": "2024-10-09T19:34:01.170010Z",
     "iopub.status.idle": "2024-10-09T19:34:02.397514Z",
     "shell.execute_reply": "2024-10-09T19:34:02.395593Z",
     "shell.execute_reply.started": "2024-10-09T19:34:01.170691Z"
    }
   },
   "outputs": [],
   "source": [
    "import pandas as pd\n",
    "import os\n",
    "import numpy as np"
   ]
  },
  {
   "cell_type": "code",
   "execution_count": 2,
   "id": "15ca2676-0b43-46da-8ebd-0fd5a862c6d5",
   "metadata": {
    "execution": {
     "iopub.execute_input": "2024-10-09T19:34:02.456742Z",
     "iopub.status.busy": "2024-10-09T19:34:02.455617Z",
     "iopub.status.idle": "2024-10-09T19:34:02.483842Z",
     "shell.execute_reply": "2024-10-09T19:34:02.480949Z",
     "shell.execute_reply.started": "2024-10-09T19:34:02.456189Z"
    }
   },
   "outputs": [],
   "source": [
    "code2lang = {\n",
    "    'ar': 'ara', 'de': 'deu', 'en': 'eng', 'es': 'spa', 'fr': 'fra', 'hi': 'hin',\n",
    "    'id': 'ind', 'it': 'ita', 'ja': 'jpn', 'ko': 'kor', 'pt': 'por', 'ru': 'rus',\n",
    "    'tr': 'tur', 'vi': 'vie', 'zh': 'zho'}\n",
    "iso3names = {\n",
    "    'ara': 'Arabic', 'deu': 'German', 'eng': 'English', 'spa': 'Spanish',\n",
    "    'fra': 'French', 'hin': 'Hindi', 'ind': 'Indonesian', 'ita': 'Italian',\n",
    "    'jpn': 'Japanese', 'kor': 'Korean', 'por': 'Portuguese', 'rus': 'Russian',\n",
    "    'tur': 'Turkish', 'vie': 'Vietnamese', 'zho': 'Chinese'\n",
    "}\n",
    "llm_dict = {\n",
    "        'command-r-base': \"Command R base\", 'command-r': \"Command R\",\n",
    "        'command-r-plus-base': \"Command R+ base\", 'command-r-plus': \"Command R+\",\n",
    "        'gpt-3.5-turbo': \"GPT-3.5 Turbo\", 'gpt-4-turbo': \"GPT-4 Turbo\",\n",
    "        'mistral-large': \"Mistral Large\", 'mistral-8x7b': \"Mistral 8x7B\",\n",
    "        'llama-2-instruct': \"Llama 2 70B-I\", 'llama-3-instruct': \"Llama 3 70B-I\"}\n"
   ]
  },
  {
   "cell_type": "code",
   "execution_count": 3,
   "id": "49d5338e-89b2-4e92-b7cc-9933c06e456e",
   "metadata": {
    "execution": {
     "iopub.execute_input": "2024-10-09T19:34:02.930973Z",
     "iopub.status.busy": "2024-10-09T19:34:02.930230Z",
     "iopub.status.idle": "2024-10-09T19:34:02.951047Z",
     "shell.execute_reply": "2024-10-09T19:34:02.949541Z",
     "shell.execute_reply.started": "2024-10-09T19:34:02.930933Z"
    }
   },
   "outputs": [],
   "source": [
    "df= pd.read_csv(\"../datasets/prompts_language_confusion/results/reproduction_pass_rates_results.csv\")"
   ]
  },
  {
   "cell_type": "code",
   "execution_count": 4,
   "id": "05a5dc29-be1c-4688-8838-ebb71b2b1fb3",
   "metadata": {
    "execution": {
     "iopub.execute_input": "2024-10-09T19:34:03.561143Z",
     "iopub.status.busy": "2024-10-09T19:34:03.560561Z",
     "iopub.status.idle": "2024-10-09T19:34:03.572233Z",
     "shell.execute_reply": "2024-10-09T19:34:03.570652Z",
     "shell.execute_reply.started": "2024-10-09T19:34:03.561109Z"
    }
   },
   "outputs": [],
   "source": [
    "lang_order= ['fra',\n",
    " 'spa',\n",
    " 'ita',\n",
    " 'deu',\n",
    " 'rus',\n",
    " 'por',\n",
    " 'tur',\n",
    " 'vie',\n",
    " 'zho',\n",
    " 'kor',\n",
    " 'ara',\n",
    " 'jpn',\n",
    " 'hin',\n",
    " 'ind']\n",
    "report_models = [\"command-r\",  \"command-r-plus\", \"gpt-3.5-turbo\", \"gpt-4-turbo\", \"mistral-large\", \"mistral-8x7b\", \n",
    "                 \"llama-2-instruct\", \"llama-3-instruct\"]"
   ]
  },
  {
   "cell_type": "code",
   "execution_count": 5,
   "id": "77160451-011a-4160-a8c1-53d776858120",
   "metadata": {
    "execution": {
     "iopub.execute_input": "2024-10-09T19:34:05.424571Z",
     "iopub.status.busy": "2024-10-09T19:34:05.423473Z",
     "iopub.status.idle": "2024-10-09T19:34:05.435483Z",
     "shell.execute_reply": "2024-10-09T19:34:05.434314Z",
     "shell.execute_reply.started": "2024-10-09T19:34:05.424411Z"
    }
   },
   "outputs": [],
   "source": [
    "df[\"LLM\"]=df[\"model\"].map(llm_dict)"
   ]
  },
  {
   "cell_type": "code",
   "execution_count": 6,
   "id": "c21cf9a9-ff1c-47e2-a2f1-795561b01547",
   "metadata": {
    "execution": {
     "iopub.execute_input": "2024-10-09T19:34:05.808755Z",
     "iopub.status.busy": "2024-10-09T19:34:05.808076Z",
     "iopub.status.idle": "2024-10-09T19:34:05.825008Z",
     "shell.execute_reply": "2024-10-09T19:34:05.823437Z",
     "shell.execute_reply.started": "2024-10-09T19:34:05.808717Z"
    }
   },
   "outputs": [],
   "source": [
    "df = df[~df[\"LLM\"].isin([\"Command R+ base\", \"Command R base\"])]"
   ]
  },
  {
   "cell_type": "code",
   "execution_count": 7,
   "id": "5fed64e6-4d7d-4f43-8568-df1b6071794b",
   "metadata": {
    "execution": {
     "iopub.execute_input": "2024-10-09T19:34:06.197420Z",
     "iopub.status.busy": "2024-10-09T19:34:06.196668Z",
     "iopub.status.idle": "2024-10-09T19:34:06.216944Z",
     "shell.execute_reply": "2024-10-09T19:34:06.214584Z",
     "shell.execute_reply.started": "2024-10-09T19:34:06.197383Z"
    }
   },
   "outputs": [],
   "source": [
    "df[\"lang_iso\"]=df[\"lang\"].map(code2lang)\n",
    "df['lang_iso'] = pd.Categorical(df['lang_iso'], categories=lang_order, ordered=True)\n",
    "df[\"LLM\"] = pd.Categorical(df[\"model\"], categories=report_models,ordered=True)\n",
    "df_sorted= df.sort_values(by=[\"lang_iso\", \"LLM\"])\n",
    "\n",
    "df[\"Lang\"]=df[\"lang_iso\"].map(iso3names)"
   ]
  },
  {
   "cell_type": "code",
   "execution_count": 8,
   "id": "92593135-fcf5-4e5c-a227-ba7e8bd1b9dd",
   "metadata": {
    "execution": {
     "iopub.execute_input": "2024-10-09T19:34:07.393408Z",
     "iopub.status.busy": "2024-10-09T19:34:07.392491Z",
     "iopub.status.idle": "2024-10-09T19:34:07.404476Z",
     "shell.execute_reply": "2024-10-09T19:34:07.403205Z",
     "shell.execute_reply.started": "2024-10-09T19:34:07.393363Z"
    }
   },
   "outputs": [],
   "source": [
    "df_cross = df[df[\"task\"]==\"crosslingual\"]"
   ]
  },
  {
   "cell_type": "code",
   "execution_count": 24,
   "id": "4ee08bfd-53a2-4ccb-9882-9968f9e37ffb",
   "metadata": {
    "execution": {
     "iopub.execute_input": "2024-10-09T19:37:29.413300Z",
     "iopub.status.busy": "2024-10-09T19:37:29.411548Z",
     "iopub.status.idle": "2024-10-09T19:37:29.540798Z",
     "shell.execute_reply": "2024-10-09T19:37:29.461313Z",
     "shell.execute_reply.started": "2024-10-09T19:37:29.413033Z"
    }
   },
   "outputs": [],
   "source": [
    "df_mono = df[df[\"task\"]==\"monolingual\"]"
   ]
  },
  {
   "cell_type": "code",
   "execution_count": 9,
   "id": "d268ac3d-3f97-403b-9d33-a366d9bacb9f",
   "metadata": {
    "execution": {
     "iopub.execute_input": "2024-10-09T19:34:07.967643Z",
     "iopub.status.busy": "2024-10-09T19:34:07.967027Z",
     "iopub.status.idle": "2024-10-09T19:34:07.974155Z",
     "shell.execute_reply": "2024-10-09T19:34:07.973188Z",
     "shell.execute_reply.started": "2024-10-09T19:34:07.967574Z"
    }
   },
   "outputs": [],
   "source": [
    "wpr_langs = [\"Russian\", \"Chinese\", \"Korean\",\"Arabic\", \"Japanese\", \"Hindi\"]"
   ]
  },
  {
   "cell_type": "code",
   "execution_count": null,
   "id": "7e31b0e0-e3bf-4f12-8b83-ae45b32c3353",
   "metadata": {},
   "outputs": [],
   "source": []
  },
  {
   "cell_type": "code",
   "execution_count": null,
   "id": "c781850b-720c-41d3-a9e6-fe066e34283b",
   "metadata": {},
   "outputs": [],
   "source": []
  },
  {
   "cell_type": "markdown",
   "id": "3a0b9989-639c-4817-90b7-6def17d91a92",
   "metadata": {},
   "source": [
    "# Monolingual LPR"
   ]
  },
  {
   "cell_type": "code",
   "execution_count": 87,
   "id": "6f589aa9-a22b-40ad-a479-b24958fd82b3",
   "metadata": {
    "execution": {
     "iopub.execute_input": "2024-10-09T19:48:01.390834Z",
     "iopub.status.busy": "2024-10-09T19:48:01.388995Z",
     "iopub.status.idle": "2024-10-09T19:48:01.833700Z",
     "shell.execute_reply": "2024-10-09T19:48:01.722945Z",
     "shell.execute_reply.started": "2024-10-09T19:48:01.390575Z"
    }
   },
   "outputs": [],
   "source": [
    "df_mono_lpr = df_mono[[\"LLM\",\"source\", \"lpr\", \"Lang\"]]\n",
    "df_mono_lpr = df_mono_lpr[df_mono_lpr[\"source\"]!=\"all\"]\n",
    "df_mono_lpr = df_mono_lpr.dropna(subset=[\"Lang\"])\n",
    "df_mono_lpr = df_mono_lpr.dropna(subset=[\"lpr\"])"
   ]
  },
  {
   "cell_type": "code",
   "execution_count": 88,
   "id": "4e143797-4789-4b02-bf55-12385644ee22",
   "metadata": {
    "execution": {
     "iopub.execute_input": "2024-10-09T19:48:01.920679Z",
     "iopub.status.busy": "2024-10-09T19:48:01.901871Z",
     "iopub.status.idle": "2024-10-09T19:48:02.198479Z",
     "shell.execute_reply": "2024-10-09T19:48:02.162812Z",
     "shell.execute_reply.started": "2024-10-09T19:48:01.920556Z"
    }
   },
   "outputs": [
    {
     "data": {
      "text/plain": [
       "176"
      ]
     },
     "execution_count": 88,
     "metadata": {},
     "output_type": "execute_result"
    }
   ],
   "source": [
    "len(df_mono_lpr)"
   ]
  },
  {
   "cell_type": "code",
   "execution_count": 89,
   "id": "2d97301b-5a62-4f30-bc2c-ca8c91212b3d",
   "metadata": {
    "execution": {
     "iopub.execute_input": "2024-10-09T19:48:02.314721Z",
     "iopub.status.busy": "2024-10-09T19:48:02.312072Z",
     "iopub.status.idle": "2024-10-09T19:48:02.544438Z",
     "shell.execute_reply": "2024-10-09T19:48:02.535108Z",
     "shell.execute_reply.started": "2024-10-09T19:48:02.313970Z"
    }
   },
   "outputs": [
    {
     "data": {
      "text/html": [
       "<div>\n",
       "<style scoped>\n",
       "    .dataframe tbody tr th:only-of-type {\n",
       "        vertical-align: middle;\n",
       "    }\n",
       "\n",
       "    .dataframe tbody tr th {\n",
       "        vertical-align: top;\n",
       "    }\n",
       "\n",
       "    .dataframe thead th {\n",
       "        text-align: right;\n",
       "    }\n",
       "</style>\n",
       "<table border=\"1\" class=\"dataframe\">\n",
       "  <thead>\n",
       "    <tr style=\"text-align: right;\">\n",
       "      <th></th>\n",
       "      <th>LLM</th>\n",
       "      <th>source</th>\n",
       "      <th>lpr</th>\n",
       "      <th>Lang</th>\n",
       "    </tr>\n",
       "  </thead>\n",
       "  <tbody>\n",
       "    <tr>\n",
       "      <th>60</th>\n",
       "      <td>command-r</td>\n",
       "      <td>aya_human_annotated</td>\n",
       "      <td>1.00</td>\n",
       "      <td>Arabic</td>\n",
       "    </tr>\n",
       "    <tr>\n",
       "      <th>62</th>\n",
       "      <td>command-r</td>\n",
       "      <td>aya_human_annotated</td>\n",
       "      <td>0.99</td>\n",
       "      <td>Portuguese</td>\n",
       "    </tr>\n",
       "  </tbody>\n",
       "</table>\n",
       "</div>"
      ],
      "text/plain": [
       "          LLM               source   lpr        Lang\n",
       "60  command-r  aya_human_annotated  1.00      Arabic\n",
       "62  command-r  aya_human_annotated  0.99  Portuguese"
      ]
     },
     "execution_count": 89,
     "metadata": {},
     "output_type": "execute_result"
    }
   ],
   "source": [
    "df_mono_lpr.head(2)"
   ]
  },
  {
   "cell_type": "code",
   "execution_count": 90,
   "id": "ffae3880-d875-4eea-8a4a-ec04f5175633",
   "metadata": {
    "execution": {
     "iopub.execute_input": "2024-10-09T19:48:02.559628Z",
     "iopub.status.busy": "2024-10-09T19:48:02.554614Z",
     "iopub.status.idle": "2024-10-09T19:48:03.038173Z",
     "shell.execute_reply": "2024-10-09T19:48:02.990385Z",
     "shell.execute_reply.started": "2024-10-09T19:48:02.559315Z"
    },
    "scrolled": true
   },
   "outputs": [],
   "source": [
    "df_mono_lpr_ = df_mono_lpr.groupby(['LLM', \"Lang\"], observed=True, as_index=False).agg(\n",
    "        avg_lpr=(\"lpr\", 'mean'))"
   ]
  },
  {
   "cell_type": "code",
   "execution_count": 91,
   "id": "686d24f2-3dcb-4240-85e3-b3a52b986a8b",
   "metadata": {
    "execution": {
     "iopub.execute_input": "2024-10-09T19:48:03.145894Z",
     "iopub.status.busy": "2024-10-09T19:48:03.127832Z",
     "iopub.status.idle": "2024-10-09T19:48:03.568300Z",
     "shell.execute_reply": "2024-10-09T19:48:03.558179Z",
     "shell.execute_reply.started": "2024-10-09T19:48:03.145370Z"
    }
   },
   "outputs": [],
   "source": [
    "mono_lpr = df_mono_lpr_.pivot(index='LLM', columns='Lang', values='avg_lpr')"
   ]
  },
  {
   "cell_type": "code",
   "execution_count": 92,
   "id": "87671cd8-a955-4a72-9683-3c9f478c2255",
   "metadata": {
    "execution": {
     "iopub.execute_input": "2024-10-09T19:48:03.585861Z",
     "iopub.status.busy": "2024-10-09T19:48:03.576551Z",
     "iopub.status.idle": "2024-10-09T19:48:03.934777Z",
     "shell.execute_reply": "2024-10-09T19:48:03.903542Z",
     "shell.execute_reply.started": "2024-10-09T19:48:03.585308Z"
    }
   },
   "outputs": [],
   "source": [
    "mono_lpr = mono_lpr*100"
   ]
  },
  {
   "cell_type": "code",
   "execution_count": 93,
   "id": "1a30bb86-1f6f-4e59-b86f-ba3e9d6f7a26",
   "metadata": {
    "execution": {
     "iopub.execute_input": "2024-10-09T19:48:04.554134Z",
     "iopub.status.busy": "2024-10-09T19:48:04.549456Z",
     "iopub.status.idle": "2024-10-09T19:48:04.781823Z",
     "shell.execute_reply": "2024-10-09T19:48:04.735801Z",
     "shell.execute_reply.started": "2024-10-09T19:48:04.553868Z"
    }
   },
   "outputs": [],
   "source": [
    "mono_lpr.to_csv(\"../datasets/prompts_language_confusion/results/mono_lpr.csv\")"
   ]
  },
  {
   "cell_type": "markdown",
   "id": "9604b05b-a2c3-43e5-a870-22480ac5e9b4",
   "metadata": {},
   "source": [
    "# Monolingual WPR"
   ]
  },
  {
   "cell_type": "code",
   "execution_count": 94,
   "id": "333676bb-6fe5-46fd-be33-05fbf4b551a6",
   "metadata": {
    "execution": {
     "iopub.execute_input": "2024-10-09T19:48:07.100067Z",
     "iopub.status.busy": "2024-10-09T19:48:07.089968Z",
     "iopub.status.idle": "2024-10-09T19:48:07.327164Z",
     "shell.execute_reply": "2024-10-09T19:48:07.167088Z",
     "shell.execute_reply.started": "2024-10-09T19:48:07.099721Z"
    }
   },
   "outputs": [],
   "source": [
    "df_mono_wpr = df_mono[df_mono[\"Lang\"].isin(wpr_langs)]"
   ]
  },
  {
   "cell_type": "code",
   "execution_count": 95,
   "id": "ed989545-c3db-4092-8bf2-7287f7010ff8",
   "metadata": {
    "execution": {
     "iopub.execute_input": "2024-10-09T19:48:07.430682Z",
     "iopub.status.busy": "2024-10-09T19:48:07.378802Z",
     "iopub.status.idle": "2024-10-09T19:48:07.763456Z",
     "shell.execute_reply": "2024-10-09T19:48:07.712111Z",
     "shell.execute_reply.started": "2024-10-09T19:48:07.429934Z"
    }
   },
   "outputs": [],
   "source": [
    "df_mono_wpr = df_mono_wpr.replace({None: np.nan})"
   ]
  },
  {
   "cell_type": "code",
   "execution_count": 96,
   "id": "7ed69993-ec84-42fe-ace5-7cffb3fec337",
   "metadata": {
    "execution": {
     "iopub.execute_input": "2024-10-09T19:48:07.866239Z",
     "iopub.status.busy": "2024-10-09T19:48:07.863076Z",
     "iopub.status.idle": "2024-10-09T19:48:08.149014Z",
     "shell.execute_reply": "2024-10-09T19:48:08.088033Z",
     "shell.execute_reply.started": "2024-10-09T19:48:07.865960Z"
    }
   },
   "outputs": [],
   "source": [
    "df_mono_wpr = df_mono_wpr[[\"LLM\",\"source\", \"wpr\", \"Lang\"]]\n",
    "df_mono_wpr = df_mono_wpr[df_mono_wpr[\"source\"]!=\"all\"]\n",
    "df_mono_wpr = df_mono_wpr.dropna(subset=[\"Lang\"])\n",
    "df_mono_wpr = df_mono_wpr.dropna(subset=[\"wpr\"])"
   ]
  },
  {
   "cell_type": "code",
   "execution_count": 97,
   "id": "4d361151-a156-45b2-a9af-873c207a9292",
   "metadata": {
    "execution": {
     "iopub.execute_input": "2024-10-09T19:48:08.191138Z",
     "iopub.status.busy": "2024-10-09T19:48:08.180587Z",
     "iopub.status.idle": "2024-10-09T19:48:08.390896Z",
     "shell.execute_reply": "2024-10-09T19:48:08.352853Z",
     "shell.execute_reply.started": "2024-10-09T19:48:08.190999Z"
    }
   },
   "outputs": [
    {
     "data": {
      "text/plain": [
       "144"
      ]
     },
     "execution_count": 97,
     "metadata": {},
     "output_type": "execute_result"
    }
   ],
   "source": [
    "len(df_cross_wpr)"
   ]
  },
  {
   "cell_type": "code",
   "execution_count": 98,
   "id": "26fa7690-e135-4c31-acad-72fc56022337",
   "metadata": {
    "execution": {
     "iopub.execute_input": "2024-10-09T19:48:08.465961Z",
     "iopub.status.busy": "2024-10-09T19:48:08.454031Z",
     "iopub.status.idle": "2024-10-09T19:48:08.783906Z",
     "shell.execute_reply": "2024-10-09T19:48:08.677363Z",
     "shell.execute_reply.started": "2024-10-09T19:48:08.464831Z"
    }
   },
   "outputs": [
    {
     "data": {
      "text/html": [
       "<div>\n",
       "<style scoped>\n",
       "    .dataframe tbody tr th:only-of-type {\n",
       "        vertical-align: middle;\n",
       "    }\n",
       "\n",
       "    .dataframe tbody tr th {\n",
       "        vertical-align: top;\n",
       "    }\n",
       "\n",
       "    .dataframe thead th {\n",
       "        text-align: right;\n",
       "    }\n",
       "</style>\n",
       "<table border=\"1\" class=\"dataframe\">\n",
       "  <thead>\n",
       "    <tr style=\"text-align: right;\">\n",
       "      <th></th>\n",
       "      <th>LLM</th>\n",
       "      <th>source</th>\n",
       "      <th>wpr</th>\n",
       "      <th>Lang</th>\n",
       "    </tr>\n",
       "  </thead>\n",
       "  <tbody>\n",
       "    <tr>\n",
       "      <th>60</th>\n",
       "      <td>command-r</td>\n",
       "      <td>aya_human_annotated</td>\n",
       "      <td>0.98</td>\n",
       "      <td>Arabic</td>\n",
       "    </tr>\n",
       "    <tr>\n",
       "      <th>64</th>\n",
       "      <td>command-r</td>\n",
       "      <td>aya_human_annotated</td>\n",
       "      <td>0.90</td>\n",
       "      <td>Chinese</td>\n",
       "    </tr>\n",
       "  </tbody>\n",
       "</table>\n",
       "</div>"
      ],
      "text/plain": [
       "          LLM               source   wpr     Lang\n",
       "60  command-r  aya_human_annotated  0.98   Arabic\n",
       "64  command-r  aya_human_annotated  0.90  Chinese"
      ]
     },
     "execution_count": 98,
     "metadata": {},
     "output_type": "execute_result"
    }
   ],
   "source": [
    "df_mono_wpr.head(2)"
   ]
  },
  {
   "cell_type": "code",
   "execution_count": null,
   "id": "adbd8b1e-b939-400a-972b-708afcfcd6da",
   "metadata": {},
   "outputs": [],
   "source": []
  },
  {
   "cell_type": "code",
   "execution_count": 99,
   "id": "7debe9f9-4da3-40a5-ab50-246840ef0190",
   "metadata": {
    "execution": {
     "iopub.execute_input": "2024-10-09T19:48:08.867450Z",
     "iopub.status.busy": "2024-10-09T19:48:08.854407Z",
     "iopub.status.idle": "2024-10-09T19:48:09.295685Z",
     "shell.execute_reply": "2024-10-09T19:48:09.196186Z",
     "shell.execute_reply.started": "2024-10-09T19:48:08.866353Z"
    },
    "scrolled": true
   },
   "outputs": [],
   "source": [
    "df_mono_wpr_ = df_mono_wpr.groupby(['LLM', \"Lang\"], observed=True, as_index=False).agg(\n",
    "        avg_wpr=(\"wpr\", 'mean'))"
   ]
  },
  {
   "cell_type": "code",
   "execution_count": 100,
   "id": "af5c6d8d-7e49-4c04-894e-2ff2eaca7b78",
   "metadata": {
    "execution": {
     "iopub.execute_input": "2024-10-09T19:48:09.428320Z",
     "iopub.status.busy": "2024-10-09T19:48:09.423471Z",
     "iopub.status.idle": "2024-10-09T19:48:09.633442Z",
     "shell.execute_reply": "2024-10-09T19:48:09.463814Z",
     "shell.execute_reply.started": "2024-10-09T19:48:09.427815Z"
    }
   },
   "outputs": [],
   "source": [
    "mono_wpr = df_mono_wpr_.pivot(index='LLM', columns='Lang', values='avg_wpr')"
   ]
  },
  {
   "cell_type": "code",
   "execution_count": 101,
   "id": "ac28676e-54c7-4e6b-bb15-2463267d7a02",
   "metadata": {
    "execution": {
     "iopub.execute_input": "2024-10-09T19:48:10.018257Z",
     "iopub.status.busy": "2024-10-09T19:48:10.008653Z",
     "iopub.status.idle": "2024-10-09T19:48:10.195384Z",
     "shell.execute_reply": "2024-10-09T19:48:10.094116Z",
     "shell.execute_reply.started": "2024-10-09T19:48:10.017843Z"
    }
   },
   "outputs": [],
   "source": [
    "mono_wpr = mono_wpr*100"
   ]
  },
  {
   "cell_type": "code",
   "execution_count": 102,
   "id": "21f10faf-ca05-4230-857f-4752a8723959",
   "metadata": {
    "execution": {
     "iopub.execute_input": "2024-10-09T19:48:10.861772Z",
     "iopub.status.busy": "2024-10-09T19:48:10.850371Z",
     "iopub.status.idle": "2024-10-09T19:48:11.337116Z",
     "shell.execute_reply": "2024-10-09T19:48:11.218943Z",
     "shell.execute_reply.started": "2024-10-09T19:48:10.861650Z"
    }
   },
   "outputs": [],
   "source": [
    "mono_wpr.to_csv(\"../datasets/prompts_language_confusion/results/mono_wpr.csv\")"
   ]
  },
  {
   "cell_type": "code",
   "execution_count": null,
   "id": "56b102d0-8b4e-4c47-ad7f-812c2b93ec6c",
   "metadata": {},
   "outputs": [],
   "source": []
  },
  {
   "cell_type": "markdown",
   "id": "962a9d1d-f474-4ecc-89ee-134428c1b988",
   "metadata": {},
   "source": [
    "# Crosslingual WPR"
   ]
  },
  {
   "cell_type": "code",
   "execution_count": 103,
   "id": "c933dbae-5954-4c6d-98a2-90a3d399880a",
   "metadata": {
    "execution": {
     "iopub.execute_input": "2024-10-09T19:48:13.285176Z",
     "iopub.status.busy": "2024-10-09T19:48:13.274833Z",
     "iopub.status.idle": "2024-10-09T19:48:13.519350Z",
     "shell.execute_reply": "2024-10-09T19:48:13.430139Z",
     "shell.execute_reply.started": "2024-10-09T19:48:13.284425Z"
    }
   },
   "outputs": [],
   "source": [
    "df_cross_wpr = df_cross[df_cross[\"Lang\"].isin(wpr_langs)]"
   ]
  },
  {
   "cell_type": "code",
   "execution_count": 104,
   "id": "844a4efb-ddc5-472e-b17d-8b38f3675f6c",
   "metadata": {
    "execution": {
     "iopub.execute_input": "2024-10-09T19:48:13.534352Z",
     "iopub.status.busy": "2024-10-09T19:48:13.525064Z",
     "iopub.status.idle": "2024-10-09T19:48:13.873435Z",
     "shell.execute_reply": "2024-10-09T19:48:13.817299Z",
     "shell.execute_reply.started": "2024-10-09T19:48:13.533237Z"
    }
   },
   "outputs": [],
   "source": [
    "df_cross_wpr = df_cross_wpr.replace({None: np.nan})"
   ]
  },
  {
   "cell_type": "code",
   "execution_count": 105,
   "id": "60f948c2-2657-4009-a051-50959d41eaf8",
   "metadata": {
    "execution": {
     "iopub.execute_input": "2024-10-09T19:48:13.966624Z",
     "iopub.status.busy": "2024-10-09T19:48:13.925047Z",
     "iopub.status.idle": "2024-10-09T19:48:14.298278Z",
     "shell.execute_reply": "2024-10-09T19:48:14.212216Z",
     "shell.execute_reply.started": "2024-10-09T19:48:13.965951Z"
    }
   },
   "outputs": [],
   "source": [
    "df_cross_wpr = df_cross_wpr[[\"LLM\",\"source\", \"wpr\", \"Lang\"]]\n",
    "df_cross_wpr = df_cross_wpr[df_cross_wpr[\"source\"]!=\"all\"]\n",
    "df_cross_wpr = df_cross_wpr.dropna(subset=[\"Lang\"])\n",
    "df_cross_wpr = df_cross_wpr.dropna(subset=[\"wpr\"])"
   ]
  },
  {
   "cell_type": "code",
   "execution_count": 106,
   "id": "a8ff41fd-289d-4cd9-83e1-64c8387968db",
   "metadata": {
    "execution": {
     "iopub.execute_input": "2024-10-09T19:48:14.370081Z",
     "iopub.status.busy": "2024-10-09T19:48:14.355257Z",
     "iopub.status.idle": "2024-10-09T19:48:14.903302Z",
     "shell.execute_reply": "2024-10-09T19:48:14.841952Z",
     "shell.execute_reply.started": "2024-10-09T19:48:14.369960Z"
    }
   },
   "outputs": [
    {
     "data": {
      "text/plain": [
       "144"
      ]
     },
     "execution_count": 106,
     "metadata": {},
     "output_type": "execute_result"
    }
   ],
   "source": [
    "len(df_cross_wpr)"
   ]
  },
  {
   "cell_type": "code",
   "execution_count": 107,
   "id": "bd26fb16-4a4e-47c8-863e-0144c1235dcd",
   "metadata": {
    "execution": {
     "iopub.execute_input": "2024-10-09T19:48:15.032070Z",
     "iopub.status.busy": "2024-10-09T19:48:15.020062Z",
     "iopub.status.idle": "2024-10-09T19:48:15.550588Z",
     "shell.execute_reply": "2024-10-09T19:48:15.494513Z",
     "shell.execute_reply.started": "2024-10-09T19:48:15.031794Z"
    }
   },
   "outputs": [
    {
     "data": {
      "text/html": [
       "<div>\n",
       "<style scoped>\n",
       "    .dataframe tbody tr th:only-of-type {\n",
       "        vertical-align: middle;\n",
       "    }\n",
       "\n",
       "    .dataframe tbody tr th {\n",
       "        vertical-align: top;\n",
       "    }\n",
       "\n",
       "    .dataframe thead th {\n",
       "        text-align: right;\n",
       "    }\n",
       "</style>\n",
       "<table border=\"1\" class=\"dataframe\">\n",
       "  <thead>\n",
       "    <tr style=\"text-align: right;\">\n",
       "      <th></th>\n",
       "      <th>LLM</th>\n",
       "      <th>source</th>\n",
       "      <th>wpr</th>\n",
       "      <th>Lang</th>\n",
       "    </tr>\n",
       "  </thead>\n",
       "  <tbody>\n",
       "    <tr>\n",
       "      <th>0</th>\n",
       "      <td>command-r</td>\n",
       "      <td>complex_prompts</td>\n",
       "      <td>0.91</td>\n",
       "      <td>Arabic</td>\n",
       "    </tr>\n",
       "    <tr>\n",
       "      <th>4</th>\n",
       "      <td>command-r</td>\n",
       "      <td>complex_prompts</td>\n",
       "      <td>0.97</td>\n",
       "      <td>Hindi</td>\n",
       "    </tr>\n",
       "  </tbody>\n",
       "</table>\n",
       "</div>"
      ],
      "text/plain": [
       "         LLM           source   wpr    Lang\n",
       "0  command-r  complex_prompts  0.91  Arabic\n",
       "4  command-r  complex_prompts  0.97   Hindi"
      ]
     },
     "execution_count": 107,
     "metadata": {},
     "output_type": "execute_result"
    }
   ],
   "source": [
    "df_cross_wpr.head(2)"
   ]
  },
  {
   "cell_type": "code",
   "execution_count": null,
   "id": "fe4e6143-5848-4563-a57c-513ac1399d7a",
   "metadata": {},
   "outputs": [],
   "source": []
  },
  {
   "cell_type": "code",
   "execution_count": 108,
   "id": "ea660422-054d-432b-a868-62102a6c6a5f",
   "metadata": {
    "execution": {
     "iopub.execute_input": "2024-10-09T19:48:15.687069Z",
     "iopub.status.busy": "2024-10-09T19:48:15.683211Z",
     "iopub.status.idle": "2024-10-09T19:48:15.952156Z",
     "shell.execute_reply": "2024-10-09T19:48:15.773323Z",
     "shell.execute_reply.started": "2024-10-09T19:48:15.686586Z"
    },
    "scrolled": true
   },
   "outputs": [],
   "source": [
    "df_cross_wpr_ = df_cross_wpr.groupby(['LLM', \"Lang\"], observed=True, as_index=False).agg(\n",
    "        avg_wpr=(\"wpr\", 'mean'))"
   ]
  },
  {
   "cell_type": "code",
   "execution_count": 109,
   "id": "de693254-553e-4856-9e21-b0553ff3faab",
   "metadata": {
    "execution": {
     "iopub.execute_input": "2024-10-09T19:48:16.089021Z",
     "iopub.status.busy": "2024-10-09T19:48:16.069944Z",
     "iopub.status.idle": "2024-10-09T19:48:16.363315Z",
     "shell.execute_reply": "2024-10-09T19:48:16.353008Z",
     "shell.execute_reply.started": "2024-10-09T19:48:16.088667Z"
    }
   },
   "outputs": [],
   "source": [
    "cross_wpr = df_cross_wpr_.pivot(index='LLM', columns='Lang', values='avg_wpr')"
   ]
  },
  {
   "cell_type": "code",
   "execution_count": 110,
   "id": "0c46476f-e691-47a5-b337-87cfad39960c",
   "metadata": {
    "execution": {
     "iopub.execute_input": "2024-10-09T19:48:16.408401Z",
     "iopub.status.busy": "2024-10-09T19:48:16.399077Z",
     "iopub.status.idle": "2024-10-09T19:48:16.613079Z",
     "shell.execute_reply": "2024-10-09T19:48:16.483198Z",
     "shell.execute_reply.started": "2024-10-09T19:48:16.408120Z"
    }
   },
   "outputs": [],
   "source": [
    "cross_wpr = cross_wpr*100"
   ]
  },
  {
   "cell_type": "code",
   "execution_count": 111,
   "id": "0aec73c7-3559-44bd-86dc-890b689a696f",
   "metadata": {
    "execution": {
     "iopub.execute_input": "2024-10-09T19:48:16.888827Z",
     "iopub.status.busy": "2024-10-09T19:48:16.887088Z",
     "iopub.status.idle": "2024-10-09T19:48:17.156420Z",
     "shell.execute_reply": "2024-10-09T19:48:17.092720Z",
     "shell.execute_reply.started": "2024-10-09T19:48:16.888703Z"
    }
   },
   "outputs": [],
   "source": [
    "cross_wpr.to_csv(\"../datasets/prompts_language_confusion/results/cross_wpr.csv\")"
   ]
  },
  {
   "cell_type": "markdown",
   "id": "4d634cc4-c6c8-49a8-9b9c-faff80079813",
   "metadata": {},
   "source": [
    "# Crosslingual LPR"
   ]
  },
  {
   "cell_type": "code",
   "execution_count": 112,
   "id": "071cb412-797b-49d0-a0b9-7ac1fa18abf6",
   "metadata": {
    "execution": {
     "iopub.execute_input": "2024-10-09T19:48:34.035261Z",
     "iopub.status.busy": "2024-10-09T19:48:34.029352Z",
     "iopub.status.idle": "2024-10-09T19:48:34.259483Z",
     "shell.execute_reply": "2024-10-09T19:48:34.069815Z",
     "shell.execute_reply.started": "2024-10-09T19:48:34.035030Z"
    }
   },
   "outputs": [],
   "source": [
    "df_cross_lpr = df[[\"LLM\",\"source\", \"lpr\", \"Lang\"]].dropna()"
   ]
  },
  {
   "cell_type": "code",
   "execution_count": 113,
   "id": "a4f1bc6d-0a9a-4f3c-aeb2-1af76d548c2b",
   "metadata": {
    "execution": {
     "iopub.execute_input": "2024-10-09T19:48:34.353224Z",
     "iopub.status.busy": "2024-10-09T19:48:34.347076Z",
     "iopub.status.idle": "2024-10-09T19:48:34.585913Z",
     "shell.execute_reply": "2024-10-09T19:48:34.514257Z",
     "shell.execute_reply.started": "2024-10-09T19:48:34.352412Z"
    }
   },
   "outputs": [],
   "source": [
    "df_cross_lpr = df_cross_lpr[df_cross_lpr[\"source\"]!=\"all\"]"
   ]
  },
  {
   "cell_type": "code",
   "execution_count": 114,
   "id": "e39a2d61-c7e8-4d22-ad89-42c33e8aa4cb",
   "metadata": {
    "execution": {
     "iopub.execute_input": "2024-10-09T19:48:34.706044Z",
     "iopub.status.busy": "2024-10-09T19:48:34.694284Z",
     "iopub.status.idle": "2024-10-09T19:48:35.311084Z",
     "shell.execute_reply": "2024-10-09T19:48:35.233200Z",
     "shell.execute_reply.started": "2024-10-09T19:48:34.705756Z"
    }
   },
   "outputs": [
    {
     "data": {
      "text/html": [
       "<div>\n",
       "<style scoped>\n",
       "    .dataframe tbody tr th:only-of-type {\n",
       "        vertical-align: middle;\n",
       "    }\n",
       "\n",
       "    .dataframe tbody tr th {\n",
       "        vertical-align: top;\n",
       "    }\n",
       "\n",
       "    .dataframe thead th {\n",
       "        text-align: right;\n",
       "    }\n",
       "</style>\n",
       "<table border=\"1\" class=\"dataframe\">\n",
       "  <thead>\n",
       "    <tr style=\"text-align: right;\">\n",
       "      <th></th>\n",
       "      <th>LLM</th>\n",
       "      <th>source</th>\n",
       "      <th>lpr</th>\n",
       "      <th>Lang</th>\n",
       "    </tr>\n",
       "  </thead>\n",
       "  <tbody>\n",
       "    <tr>\n",
       "      <th>0</th>\n",
       "      <td>command-r</td>\n",
       "      <td>complex_prompts</td>\n",
       "      <td>0.33</td>\n",
       "      <td>Arabic</td>\n",
       "    </tr>\n",
       "    <tr>\n",
       "      <th>1</th>\n",
       "      <td>command-r</td>\n",
       "      <td>complex_prompts</td>\n",
       "      <td>0.32</td>\n",
       "      <td>German</td>\n",
       "    </tr>\n",
       "    <tr>\n",
       "      <th>2</th>\n",
       "      <td>command-r</td>\n",
       "      <td>complex_prompts</td>\n",
       "      <td>0.40</td>\n",
       "      <td>Spanish</td>\n",
       "    </tr>\n",
       "    <tr>\n",
       "      <th>3</th>\n",
       "      <td>command-r</td>\n",
       "      <td>complex_prompts</td>\n",
       "      <td>0.44</td>\n",
       "      <td>French</td>\n",
       "    </tr>\n",
       "    <tr>\n",
       "      <th>4</th>\n",
       "      <td>command-r</td>\n",
       "      <td>complex_prompts</td>\n",
       "      <td>0.34</td>\n",
       "      <td>Hindi</td>\n",
       "    </tr>\n",
       "    <tr>\n",
       "      <th>...</th>\n",
       "      <td>...</td>\n",
       "      <td>...</td>\n",
       "      <td>...</td>\n",
       "      <td>...</td>\n",
       "    </tr>\n",
       "    <tr>\n",
       "      <th>1015</th>\n",
       "      <td>gpt-3.5-turbo</td>\n",
       "      <td>okapi</td>\n",
       "      <td>0.96</td>\n",
       "      <td>Indonesian</td>\n",
       "    </tr>\n",
       "    <tr>\n",
       "      <th>1016</th>\n",
       "      <td>gpt-3.5-turbo</td>\n",
       "      <td>okapi</td>\n",
       "      <td>1.00</td>\n",
       "      <td>Italian</td>\n",
       "    </tr>\n",
       "    <tr>\n",
       "      <th>1017</th>\n",
       "      <td>gpt-3.5-turbo</td>\n",
       "      <td>okapi</td>\n",
       "      <td>0.98</td>\n",
       "      <td>Portuguese</td>\n",
       "    </tr>\n",
       "    <tr>\n",
       "      <th>1018</th>\n",
       "      <td>gpt-3.5-turbo</td>\n",
       "      <td>okapi</td>\n",
       "      <td>0.99</td>\n",
       "      <td>Vietnamese</td>\n",
       "    </tr>\n",
       "    <tr>\n",
       "      <th>1019</th>\n",
       "      <td>gpt-3.5-turbo</td>\n",
       "      <td>okapi</td>\n",
       "      <td>0.99</td>\n",
       "      <td>Chinese</td>\n",
       "    </tr>\n",
       "  </tbody>\n",
       "</table>\n",
       "<p>512 rows × 4 columns</p>\n",
       "</div>"
      ],
      "text/plain": [
       "                LLM           source   lpr        Lang\n",
       "0         command-r  complex_prompts  0.33      Arabic\n",
       "1         command-r  complex_prompts  0.32      German\n",
       "2         command-r  complex_prompts  0.40     Spanish\n",
       "3         command-r  complex_prompts  0.44      French\n",
       "4         command-r  complex_prompts  0.34       Hindi\n",
       "...             ...              ...   ...         ...\n",
       "1015  gpt-3.5-turbo            okapi  0.96  Indonesian\n",
       "1016  gpt-3.5-turbo            okapi  1.00     Italian\n",
       "1017  gpt-3.5-turbo            okapi  0.98  Portuguese\n",
       "1018  gpt-3.5-turbo            okapi  0.99  Vietnamese\n",
       "1019  gpt-3.5-turbo            okapi  0.99     Chinese\n",
       "\n",
       "[512 rows x 4 columns]"
      ]
     },
     "execution_count": 114,
     "metadata": {},
     "output_type": "execute_result"
    }
   ],
   "source": [
    "df_cross_lpr"
   ]
  },
  {
   "cell_type": "code",
   "execution_count": 115,
   "id": "5d14cc7f-5ba4-4d7f-a304-adcc4362102a",
   "metadata": {
    "execution": {
     "iopub.execute_input": "2024-10-09T19:48:35.368326Z",
     "iopub.status.busy": "2024-10-09T19:48:35.355445Z",
     "iopub.status.idle": "2024-10-09T19:48:35.790653Z",
     "shell.execute_reply": "2024-10-09T19:48:35.739209Z",
     "shell.execute_reply.started": "2024-10-09T19:48:35.368140Z"
    },
    "scrolled": true
   },
   "outputs": [
    {
     "data": {
      "text/plain": [
       "source\n",
       "okapi                  184\n",
       "complex_prompts        112\n",
       "sharegpt               112\n",
       "dolly_human_edited      40\n",
       "aya_human_annotated     32\n",
       "native_prompts          32\n",
       "Name: count, dtype: int64"
      ]
     },
     "execution_count": 115,
     "metadata": {},
     "output_type": "execute_result"
    }
   ],
   "source": [
    "df_cross_lpr.source.value_counts()"
   ]
  },
  {
   "cell_type": "code",
   "execution_count": 116,
   "id": "54db36a2-9583-4386-ba98-e37fc91d3173",
   "metadata": {
    "execution": {
     "iopub.execute_input": "2024-10-09T19:48:35.935184Z",
     "iopub.status.busy": "2024-10-09T19:48:35.918544Z",
     "iopub.status.idle": "2024-10-09T19:48:36.296776Z",
     "shell.execute_reply": "2024-10-09T19:48:36.210426Z",
     "shell.execute_reply.started": "2024-10-09T19:48:35.934841Z"
    }
   },
   "outputs": [
    {
     "name": "stderr",
     "output_type": "stream",
     "text": [
      "/var/folders/bj/qp6k2wl11h5gpn8j4hg0tgf40000gn/T/ipykernel_29521/1526596791.py:1: FutureWarning: The default of observed=False is deprecated and will be changed to True in a future version of pandas. Pass observed=False to retain current behavior or observed=True to adopt the future default and silence this warning.\n",
      "  df_cross_lpr_ = df_cross_lpr.groupby(['LLM', \"Lang\"], as_index=False).agg(\n"
     ]
    }
   ],
   "source": [
    "df_cross_lpr_ = df_cross_lpr.groupby(['LLM', \"Lang\"], as_index=False).agg(\n",
    "        avg_lpr=(f\"lpr\", 'mean'))"
   ]
  },
  {
   "cell_type": "code",
   "execution_count": 118,
   "id": "bff38051-1e6b-4d1a-983e-5c6af908359a",
   "metadata": {
    "execution": {
     "iopub.execute_input": "2024-10-09T19:48:36.595954Z",
     "iopub.status.busy": "2024-10-09T19:48:36.587994Z",
     "iopub.status.idle": "2024-10-09T19:48:37.102252Z",
     "shell.execute_reply": "2024-10-09T19:48:37.055813Z",
     "shell.execute_reply.started": "2024-10-09T19:48:36.595635Z"
    }
   },
   "outputs": [],
   "source": [
    "cross_lpr = df_cross_lpr_.pivot(index='LLM', columns='Lang', values='avg_lpr')"
   ]
  },
  {
   "cell_type": "code",
   "execution_count": 121,
   "id": "ae4c8a27-e4d6-4b75-a5b3-503ba5fb0fb0",
   "metadata": {
    "execution": {
     "iopub.execute_input": "2024-10-09T19:51:21.342633Z",
     "iopub.status.busy": "2024-10-09T19:51:21.340647Z",
     "iopub.status.idle": "2024-10-09T19:51:21.360140Z",
     "shell.execute_reply": "2024-10-09T19:51:21.355750Z",
     "shell.execute_reply.started": "2024-10-09T19:51:21.342236Z"
    }
   },
   "outputs": [],
   "source": [
    "cross_lpr = cross_lpr*100"
   ]
  },
  {
   "cell_type": "code",
   "execution_count": 122,
   "id": "50af44af-1f37-4d43-93d8-f1dee5947013",
   "metadata": {
    "execution": {
     "iopub.execute_input": "2024-10-09T19:51:24.475326Z",
     "iopub.status.busy": "2024-10-09T19:51:24.460147Z",
     "iopub.status.idle": "2024-10-09T19:51:24.763087Z",
     "shell.execute_reply": "2024-10-09T19:51:24.756253Z",
     "shell.execute_reply.started": "2024-10-09T19:51:24.474935Z"
    }
   },
   "outputs": [],
   "source": [
    "cross_lpr.to_csv(\"../datasets/prompts_language_confusion/results/cross_lpr.csv\")"
   ]
  },
  {
   "cell_type": "code",
   "execution_count": 123,
   "id": "3ce5a18d-9fc5-46d2-9908-7e7b14342ffe",
   "metadata": {
    "execution": {
     "iopub.execute_input": "2024-10-09T19:51:25.816635Z",
     "iopub.status.busy": "2024-10-09T19:51:25.813448Z",
     "iopub.status.idle": "2024-10-09T19:51:26.327546Z",
     "shell.execute_reply": "2024-10-09T19:51:26.231767Z",
     "shell.execute_reply.started": "2024-10-09T19:51:25.815916Z"
    }
   },
   "outputs": [
    {
     "data": {
      "text/html": [
       "<div>\n",
       "<style scoped>\n",
       "    .dataframe tbody tr th:only-of-type {\n",
       "        vertical-align: middle;\n",
       "    }\n",
       "\n",
       "    .dataframe tbody tr th {\n",
       "        vertical-align: top;\n",
       "    }\n",
       "\n",
       "    .dataframe thead th {\n",
       "        text-align: right;\n",
       "    }\n",
       "</style>\n",
       "<table border=\"1\" class=\"dataframe\">\n",
       "  <thead>\n",
       "    <tr style=\"text-align: right;\">\n",
       "      <th>Lang</th>\n",
       "      <th>French</th>\n",
       "      <th>Spanish</th>\n",
       "      <th>Italian</th>\n",
       "      <th>German</th>\n",
       "      <th>Russian</th>\n",
       "      <th>Portuguese</th>\n",
       "      <th>Turkish</th>\n",
       "      <th>Vietnamese</th>\n",
       "      <th>Chinese</th>\n",
       "      <th>Korean</th>\n",
       "      <th>Arabic</th>\n",
       "      <th>Japanese</th>\n",
       "      <th>Hindi</th>\n",
       "      <th>Indonesian</th>\n",
       "    </tr>\n",
       "    <tr>\n",
       "      <th>LLM</th>\n",
       "      <th></th>\n",
       "      <th></th>\n",
       "      <th></th>\n",
       "      <th></th>\n",
       "      <th></th>\n",
       "      <th></th>\n",
       "      <th></th>\n",
       "      <th></th>\n",
       "      <th></th>\n",
       "      <th></th>\n",
       "      <th></th>\n",
       "      <th></th>\n",
       "      <th></th>\n",
       "      <th></th>\n",
       "    </tr>\n",
       "  </thead>\n",
       "  <tbody>\n",
       "    <tr>\n",
       "      <th>command-r</th>\n",
       "      <td>86.833333</td>\n",
       "      <td>84.166667</td>\n",
       "      <td>74.00</td>\n",
       "      <td>72.00</td>\n",
       "      <td>77.00</td>\n",
       "      <td>79.8</td>\n",
       "      <td>75.500</td>\n",
       "      <td>74.000</td>\n",
       "      <td>84.40</td>\n",
       "      <td>77.000</td>\n",
       "      <td>80.833333</td>\n",
       "      <td>74.000</td>\n",
       "      <td>74.25</td>\n",
       "      <td>76.00</td>\n",
       "    </tr>\n",
       "    <tr>\n",
       "      <th>command-r-plus</th>\n",
       "      <td>95.500000</td>\n",
       "      <td>95.500000</td>\n",
       "      <td>95.25</td>\n",
       "      <td>93.75</td>\n",
       "      <td>94.75</td>\n",
       "      <td>92.0</td>\n",
       "      <td>94.000</td>\n",
       "      <td>93.000</td>\n",
       "      <td>92.80</td>\n",
       "      <td>93.250</td>\n",
       "      <td>96.500000</td>\n",
       "      <td>95.000</td>\n",
       "      <td>92.75</td>\n",
       "      <td>88.75</td>\n",
       "    </tr>\n",
       "    <tr>\n",
       "      <th>gpt-3.5-turbo</th>\n",
       "      <td>94.000000</td>\n",
       "      <td>96.500000</td>\n",
       "      <td>93.50</td>\n",
       "      <td>92.75</td>\n",
       "      <td>93.75</td>\n",
       "      <td>93.2</td>\n",
       "      <td>92.000</td>\n",
       "      <td>93.500</td>\n",
       "      <td>90.60</td>\n",
       "      <td>92.750</td>\n",
       "      <td>95.333333</td>\n",
       "      <td>90.750</td>\n",
       "      <td>93.75</td>\n",
       "      <td>87.25</td>\n",
       "    </tr>\n",
       "    <tr>\n",
       "      <th>gpt-4-turbo</th>\n",
       "      <td>95.000000</td>\n",
       "      <td>96.166667</td>\n",
       "      <td>93.50</td>\n",
       "      <td>94.75</td>\n",
       "      <td>92.50</td>\n",
       "      <td>93.8</td>\n",
       "      <td>93.500</td>\n",
       "      <td>92.500</td>\n",
       "      <td>92.40</td>\n",
       "      <td>92.250</td>\n",
       "      <td>94.000000</td>\n",
       "      <td>90.750</td>\n",
       "      <td>93.25</td>\n",
       "      <td>89.50</td>\n",
       "    </tr>\n",
       "    <tr>\n",
       "      <th>mistral-large</th>\n",
       "      <td>86.000000</td>\n",
       "      <td>83.833333</td>\n",
       "      <td>74.25</td>\n",
       "      <td>80.50</td>\n",
       "      <td>72.00</td>\n",
       "      <td>70.6</td>\n",
       "      <td>67.250</td>\n",
       "      <td>48.250</td>\n",
       "      <td>54.20</td>\n",
       "      <td>46.750</td>\n",
       "      <td>42.000000</td>\n",
       "      <td>45.250</td>\n",
       "      <td>48.50</td>\n",
       "      <td>52.25</td>\n",
       "    </tr>\n",
       "    <tr>\n",
       "      <th>mistral-8x7b</th>\n",
       "      <td>87.166667</td>\n",
       "      <td>84.166667</td>\n",
       "      <td>81.75</td>\n",
       "      <td>80.00</td>\n",
       "      <td>70.50</td>\n",
       "      <td>81.6</td>\n",
       "      <td>79.500</td>\n",
       "      <td>71.000</td>\n",
       "      <td>52.60</td>\n",
       "      <td>58.000</td>\n",
       "      <td>53.500000</td>\n",
       "      <td>60.250</td>\n",
       "      <td>47.25</td>\n",
       "      <td>69.00</td>\n",
       "    </tr>\n",
       "    <tr>\n",
       "      <th>llama-2-instruct</th>\n",
       "      <td>79.333333</td>\n",
       "      <td>86.500000</td>\n",
       "      <td>67.75</td>\n",
       "      <td>54.00</td>\n",
       "      <td>51.00</td>\n",
       "      <td>82.0</td>\n",
       "      <td>26.250</td>\n",
       "      <td>19.550</td>\n",
       "      <td>10.84</td>\n",
       "      <td>3.575</td>\n",
       "      <td>6.333333</td>\n",
       "      <td>14.000</td>\n",
       "      <td>16.25</td>\n",
       "      <td>50.00</td>\n",
       "    </tr>\n",
       "    <tr>\n",
       "      <th>llama-3-instruct</th>\n",
       "      <td>70.833333</td>\n",
       "      <td>79.666667</td>\n",
       "      <td>49.25</td>\n",
       "      <td>33.75</td>\n",
       "      <td>48.00</td>\n",
       "      <td>70.8</td>\n",
       "      <td>17.525</td>\n",
       "      <td>16.525</td>\n",
       "      <td>5.80</td>\n",
       "      <td>0.575</td>\n",
       "      <td>26.333333</td>\n",
       "      <td>3.525</td>\n",
       "      <td>40.50</td>\n",
       "      <td>24.25</td>\n",
       "    </tr>\n",
       "  </tbody>\n",
       "</table>\n",
       "</div>"
      ],
      "text/plain": [
       "Lang                 French    Spanish  Italian  German  Russian  Portuguese  \\\n",
       "LLM                                                                            \n",
       "command-r         86.833333  84.166667    74.00   72.00    77.00        79.8   \n",
       "command-r-plus    95.500000  95.500000    95.25   93.75    94.75        92.0   \n",
       "gpt-3.5-turbo     94.000000  96.500000    93.50   92.75    93.75        93.2   \n",
       "gpt-4-turbo       95.000000  96.166667    93.50   94.75    92.50        93.8   \n",
       "mistral-large     86.000000  83.833333    74.25   80.50    72.00        70.6   \n",
       "mistral-8x7b      87.166667  84.166667    81.75   80.00    70.50        81.6   \n",
       "llama-2-instruct  79.333333  86.500000    67.75   54.00    51.00        82.0   \n",
       "llama-3-instruct  70.833333  79.666667    49.25   33.75    48.00        70.8   \n",
       "\n",
       "Lang              Turkish  Vietnamese  Chinese  Korean     Arabic  Japanese  \\\n",
       "LLM                                                                           \n",
       "command-r          75.500      74.000    84.40  77.000  80.833333    74.000   \n",
       "command-r-plus     94.000      93.000    92.80  93.250  96.500000    95.000   \n",
       "gpt-3.5-turbo      92.000      93.500    90.60  92.750  95.333333    90.750   \n",
       "gpt-4-turbo        93.500      92.500    92.40  92.250  94.000000    90.750   \n",
       "mistral-large      67.250      48.250    54.20  46.750  42.000000    45.250   \n",
       "mistral-8x7b       79.500      71.000    52.60  58.000  53.500000    60.250   \n",
       "llama-2-instruct   26.250      19.550    10.84   3.575   6.333333    14.000   \n",
       "llama-3-instruct   17.525      16.525     5.80   0.575  26.333333     3.525   \n",
       "\n",
       "Lang              Hindi  Indonesian  \n",
       "LLM                                  \n",
       "command-r         74.25       76.00  \n",
       "command-r-plus    92.75       88.75  \n",
       "gpt-3.5-turbo     93.75       87.25  \n",
       "gpt-4-turbo       93.25       89.50  \n",
       "mistral-large     48.50       52.25  \n",
       "mistral-8x7b      47.25       69.00  \n",
       "llama-2-instruct  16.25       50.00  \n",
       "llama-3-instruct  40.50       24.25  "
      ]
     },
     "execution_count": 123,
     "metadata": {},
     "output_type": "execute_result"
    }
   ],
   "source": [
    "cross_lpr"
   ]
  },
  {
   "cell_type": "code",
   "execution_count": null,
   "id": "7ee95ed9-fc7c-4188-b8c3-ca9f8e1ff119",
   "metadata": {},
   "outputs": [],
   "source": []
  }
 ],
 "metadata": {
  "kernelspec": {
   "display_name": "envlc",
   "language": "python",
   "name": "envlc"
  },
  "language_info": {
   "codemirror_mode": {
    "name": "ipython",
    "version": 3
   },
   "file_extension": ".py",
   "mimetype": "text/x-python",
   "name": "python",
   "nbconvert_exporter": "python",
   "pygments_lexer": "ipython3",
   "version": "3.12.0"
  }
 },
 "nbformat": 4,
 "nbformat_minor": 5
}
